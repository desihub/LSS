{
 "cells": [
  {
   "cell_type": "markdown",
   "id": "21b5e58b-24d6-490b-bf74-144dcf0e0213",
   "metadata": {},
   "source": [
    "# Notebook showing some very basic QA on main survey reduced data so far"
   ]
  },
  {
   "cell_type": "code",
   "execution_count": null,
   "id": "5c31ac0b-1ec5-4328-8d71-cb33fde9d7d9",
   "metadata": {},
   "outputs": [],
   "source": [
    "from astropy.table import Table\n",
    "import fitsio\n",
    "import numpy as np\n",
    "from matplotlib import pyplot as plt\n",
    "import os,sys"
   ]
  },
  {
   "cell_type": "code",
   "execution_count": 2,
   "id": "e14e03da-6a65-408a-8ce5-d977078c44a3",
   "metadata": {},
   "outputs": [],
   "source": [
    "from desitarget import targetmask"
   ]
  },
  {
   "cell_type": "code",
   "execution_count": 3,
   "id": "388bf35c-4698-4f0b-9649-3d999b18f8a0",
   "metadata": {},
   "outputs": [],
   "source": [
    "ff = fitsio.read('/global/cfs/cdirs/desi/spectro/redux/everest/zcatalog/ztile-main-dark-cumulative.fits')"
   ]
  },
  {
   "cell_type": "code",
   "execution_count": 7,
   "id": "2e20aa6a-0f76-452f-ab9a-331dd4722a09",
   "metadata": {},
   "outputs": [
    {
     "name": "stdout",
     "output_type": "stream",
     "text": [
      "508522\n",
      "440110 439007\n",
      "69515\n"
     ]
    }
   ],
   "source": [
    "wp = ff['PRIORITY'] == 3400\n",
    "print(len(ff[wp]))\n",
    "wq = ff['DESI_TARGET'] & 2**2 != 0\n",
    "print(len(ff[wq]),len(ff[wq&wp]))\n",
    "ws = ff['DESI_TARGET'] & 2**62 != 0\n",
    "print(len(ff[wp&ws&~wq]))"
   ]
  },
  {
   "cell_type": "code",
   "execution_count": 6,
   "id": "d986c7af-b1db-4e10-888e-b7d1bcfdda6a",
   "metadata": {},
   "outputs": [
    {
     "data": {
      "text/plain": [
       "(array([  -1,    0,    2,   50,   60,   70,   80,   90,  100, 1000, 1005,\n",
       "        1010, 1025, 1450, 1550, 1700, 1950, 1980, 1998, 2998, 3000, 3100,\n",
       "        3200, 3350, 3400, 4000], dtype=int32),\n",
       " array([ 21572, 269766,    123,      5,   1156,   1377,    149,    867,\n",
       "           102,      6,     36,    110,    137,    103,     83,    253,\n",
       "            24,    197,      2,   1058,   9576, 203878, 478162,   1048,\n",
       "        508522,    188]))"
      ]
     },
     "execution_count": 6,
     "metadata": {},
     "output_type": "execute_result"
    }
   ],
   "source": [
    "np.unique(ff['PRIORITY'],return_counts=True)"
   ]
  },
  {
   "cell_type": "code",
   "execution_count": 17,
   "id": "e695e0e6-759b-42bd-b746-3d3c8dacad0f",
   "metadata": {},
   "outputs": [
    {
     "name": "stdout",
     "output_type": "stream",
     "text": [
      "(array(['', 'BAD', 'SKY', 'TGT'], dtype='<U3'), array([ 78350,   1045, 161578,  28793]))\n"
     ]
    }
   ],
   "source": [
    "w = ff['PRIORITY'] == 0\n",
    "print(np.unique(ff[w]['OBJTYPE'],return_counts=True))"
   ]
  },
  {
   "cell_type": "code",
   "execution_count": 16,
   "id": "235ecaad-3f99-4865-af5b-cea00c30fc72",
   "metadata": {},
   "outputs": [
    {
     "data": {
      "text/plain": [
       "('TARGETID',\n",
       " 'CHI2',\n",
       " 'COEFF',\n",
       " 'Z',\n",
       " 'ZERR',\n",
       " 'ZWARN',\n",
       " 'NPIXELS',\n",
       " 'SPECTYPE',\n",
       " 'SUBTYPE',\n",
       " 'NCOEFF',\n",
       " 'DELTACHI2',\n",
       " 'PETAL_LOC',\n",
       " 'DEVICE_LOC',\n",
       " 'LOCATION',\n",
       " 'FIBER',\n",
       " 'COADD_FIBERSTATUS',\n",
       " 'TARGET_RA',\n",
       " 'TARGET_DEC',\n",
       " 'PMRA',\n",
       " 'PMDEC',\n",
       " 'REF_EPOCH',\n",
       " 'LAMBDA_REF',\n",
       " 'FA_TARGET',\n",
       " 'FA_TYPE',\n",
       " 'OBJTYPE',\n",
       " 'FIBERASSIGN_X',\n",
       " 'FIBERASSIGN_Y',\n",
       " 'PRIORITY',\n",
       " 'SUBPRIORITY',\n",
       " 'OBSCONDITIONS',\n",
       " 'RELEASE',\n",
       " 'BRICKID',\n",
       " 'BRICK_OBJID',\n",
       " 'MORPHTYPE',\n",
       " 'FLUX_G',\n",
       " 'FLUX_R',\n",
       " 'FLUX_Z',\n",
       " 'FLUX_IVAR_G',\n",
       " 'FLUX_IVAR_R',\n",
       " 'FLUX_IVAR_Z',\n",
       " 'MASKBITS',\n",
       " 'REF_ID',\n",
       " 'REF_CAT',\n",
       " 'GAIA_PHOT_G_MEAN_MAG',\n",
       " 'GAIA_PHOT_BP_MEAN_MAG',\n",
       " 'GAIA_PHOT_RP_MEAN_MAG',\n",
       " 'PARALLAX',\n",
       " 'BRICKNAME',\n",
       " 'EBV',\n",
       " 'FLUX_W1',\n",
       " 'FLUX_W2',\n",
       " 'FLUX_IVAR_W1',\n",
       " 'FLUX_IVAR_W2',\n",
       " 'FIBERFLUX_G',\n",
       " 'FIBERFLUX_R',\n",
       " 'FIBERFLUX_Z',\n",
       " 'FIBERTOTFLUX_G',\n",
       " 'FIBERTOTFLUX_R',\n",
       " 'FIBERTOTFLUX_Z',\n",
       " 'SERSIC',\n",
       " 'SHAPE_R',\n",
       " 'SHAPE_E1',\n",
       " 'SHAPE_E2',\n",
       " 'PHOTSYS',\n",
       " 'PRIORITY_INIT',\n",
       " 'NUMOBS_INIT',\n",
       " 'DESI_TARGET',\n",
       " 'BGS_TARGET',\n",
       " 'MWS_TARGET',\n",
       " 'SCND_TARGET',\n",
       " 'PLATE_RA',\n",
       " 'PLATE_DEC',\n",
       " 'TILEID',\n",
       " 'COADD_NUMEXP',\n",
       " 'COADD_EXPTIME',\n",
       " 'COADD_NUMNIGHT',\n",
       " 'COADD_NUMTILE',\n",
       " 'MEAN_DELTA_X',\n",
       " 'RMS_DELTA_X',\n",
       " 'MEAN_DELTA_Y',\n",
       " 'RMS_DELTA_Y',\n",
       " 'MEAN_FIBER_RA',\n",
       " 'STD_FIBER_RA',\n",
       " 'MEAN_FIBER_DEC',\n",
       " 'STD_FIBER_DEC',\n",
       " 'MEAN_PSF_TO_FIBER_SPECFLUX',\n",
       " 'MEAN_FIBER_X',\n",
       " 'MEAN_FIBER_Y',\n",
       " 'TSNR2_GPBDARK_B',\n",
       " 'TSNR2_ELG_B',\n",
       " 'TSNR2_GPBBRIGHT_B',\n",
       " 'TSNR2_LYA_B',\n",
       " 'TSNR2_BGS_B',\n",
       " 'TSNR2_GPBBACKUP_B',\n",
       " 'TSNR2_QSO_B',\n",
       " 'TSNR2_LRG_B',\n",
       " 'TSNR2_GPBDARK_R',\n",
       " 'TSNR2_ELG_R',\n",
       " 'TSNR2_GPBBRIGHT_R',\n",
       " 'TSNR2_LYA_R',\n",
       " 'TSNR2_BGS_R',\n",
       " 'TSNR2_GPBBACKUP_R',\n",
       " 'TSNR2_QSO_R',\n",
       " 'TSNR2_LRG_R',\n",
       " 'TSNR2_GPBDARK_Z',\n",
       " 'TSNR2_ELG_Z',\n",
       " 'TSNR2_GPBBRIGHT_Z',\n",
       " 'TSNR2_LYA_Z',\n",
       " 'TSNR2_BGS_Z',\n",
       " 'TSNR2_GPBBACKUP_Z',\n",
       " 'TSNR2_QSO_Z',\n",
       " 'TSNR2_LRG_Z',\n",
       " 'TSNR2_GPBDARK',\n",
       " 'TSNR2_ELG',\n",
       " 'TSNR2_GPBBRIGHT',\n",
       " 'TSNR2_LYA',\n",
       " 'TSNR2_BGS',\n",
       " 'TSNR2_GPBBACKUP',\n",
       " 'TSNR2_QSO',\n",
       " 'TSNR2_LRG')"
      ]
     },
     "execution_count": 16,
     "metadata": {},
     "output_type": "execute_result"
    }
   ],
   "source": [
    "ff.dtype.names"
   ]
  },
  {
   "cell_type": "code",
   "execution_count": 17,
   "id": "8b0b63be-5ccc-4257-ac78-8aeb43eb6612",
   "metadata": {},
   "outputs": [],
   "source": [
    "sys.path.append('../py') #this works if you are in the LSS/Sandbox directory, check with os.getcwd()"
   ]
  },
  {
   "cell_type": "code",
   "execution_count": 20,
   "id": "8b64781a-011f-4112-a5c8-bf97a0f98e4b",
   "metadata": {},
   "outputs": [],
   "source": [
    "from LSS.main import cattools as ct"
   ]
  },
  {
   "cell_type": "code",
   "execution_count": 22,
   "id": "5ae913ef-6a00-4d5c-86b7-5f5226290e0a",
   "metadata": {},
   "outputs": [],
   "source": [
    "import importlib"
   ]
  },
  {
   "cell_type": "code",
   "execution_count": 23,
   "id": "a1a1e9de-d0bd-4f8c-94b7-ae84675c24b2",
   "metadata": {},
   "outputs": [
    {
     "data": {
      "text/plain": [
       "<module 'LSS.main.cattools' from '../py/LSS/main/cattools.py'>"
      ]
     },
     "execution_count": 23,
     "metadata": {},
     "output_type": "execute_result"
    }
   ],
   "source": [
    "importlib.reload(ct)"
   ]
  },
  {
   "cell_type": "code",
   "execution_count": 106,
   "id": "3e2ea320-ec65-4266-850e-3f3b292ea7ae",
   "metadata": {},
   "outputs": [],
   "source": [
    "mt = Table.read('/global/cfs/cdirs/desi/survey/ops/surveyops/trunk/ops/tiles-main.ecsv')"
   ]
  },
  {
   "cell_type": "code",
   "execution_count": 3,
   "id": "09e6423b-1bc0-4de1-8469-7ab01d203333",
   "metadata": {},
   "outputs": [
    {
     "data": {
      "text/plain": [
       "<TableColumns names=('TILEID','PASS','RA','DEC','PROGRAM','IN_DESI','PRIORITY','STATUS','EBV_MED','DESIGNHA','DONEFRAC','AVAILABLE','PRIORITY_BOOSTFAC')>"
      ]
     },
     "execution_count": 3,
     "metadata": {},
     "output_type": "execute_result"
    }
   ],
   "source": [
    "mt.columns"
   ]
  },
  {
   "cell_type": "code",
   "execution_count": 4,
   "id": "2f2ab980-2dd3-4abd-9cc1-7f774d11c102",
   "metadata": {},
   "outputs": [
    {
     "data": {
      "text/plain": [
       "20298"
      ]
     },
     "execution_count": 4,
     "metadata": {},
     "output_type": "execute_result"
    }
   ],
   "source": [
    "len(mt)"
   ]
  },
  {
   "cell_type": "code",
   "execution_count": 107,
   "id": "71015f84-d26d-4645-839c-2e79c70d52dc",
   "metadata": {},
   "outputs": [
    {
     "name": "stdout",
     "output_type": "stream",
     "text": [
      "134\n"
     ]
    }
   ],
   "source": [
    "wd = mt['DONEFRAC'] > 1\n",
    "print(len(mt[wd]))"
   ]
  },
  {
   "cell_type": "code",
   "execution_count": 124,
   "id": "a82187ea-e051-43e0-95bd-890f7782d5d6",
   "metadata": {},
   "outputs": [],
   "source": [
    "#use this to test a specific tile\n",
    "tdir = '/global/cfs/cdirs/desi/spectro/redux/daily/tiles/cumulative/1895'\n",
    "subsets = [x[0][len(tdir):].strip('/') for x in os.walk(tdir)]"
   ]
  },
  {
   "cell_type": "code",
   "execution_count": 101,
   "id": "eebb1ac7-b23d-4329-803a-a1242edd3d2a",
   "metadata": {},
   "outputs": [
    {
     "name": "stdout",
     "output_type": "stream",
     "text": [
      "spectrographs with data:\n",
      "[0, 1, 2, 3, 4, 5, 6, 7, 8, 9]\n",
      "5000 5000\n"
     ]
    }
   ],
   "source": [
    "zt = ct.combspecdata('1895',max(subsets),md='') #zt becomes table with redshift info"
   ]
  },
  {
   "cell_type": "code",
   "execution_count": 102,
   "id": "71ad6741-e50d-4363-9ff8-821682b07753",
   "metadata": {},
   "outputs": [
    {
     "data": {
      "text/plain": [
       "31.8801"
      ]
     },
     "execution_count": 102,
     "metadata": {},
     "output_type": "execute_result"
    }
   ],
   "source": [
    "wt = zt['FIBERSTATUS'] == 0\n",
    "np.median(zt[wt]['TSNR2_QSO'])"
   ]
  },
  {
   "cell_type": "code",
   "execution_count": 104,
   "id": "552a2850-f887-4d17-9e71-e95dea9b5e06",
   "metadata": {},
   "outputs": [
    {
     "name": "stdout",
     "output_type": "stream",
     "text": [
      "759\n"
     ]
    }
   ],
   "source": [
    "#look at number of quasars\n",
    "wq = zt['SPECTYPE'] == 'QSO'\n",
    "wq &= zt['FIBERSTATUS'] == 0\n",
    "wq &= zt['ZWARN'] == 0\n",
    "wq &= zt['DESI_TARGET'] & targetmask.desi_mask['QSO'] > 0\n",
    "print(len(zt[wq]))"
   ]
  },
  {
   "cell_type": "markdown",
   "id": "b702c293-5a11-4853-80bd-c8940b42007e",
   "metadata": {},
   "source": [
    "### below goes through all tiles with donefrac > 1 and compares \"good\" to total"
   ]
  },
  {
   "cell_type": "code",
   "execution_count": 33,
   "id": "00b1190f-4dd9-4127-8443-4942adba2695",
   "metadata": {},
   "outputs": [],
   "source": [
    "tps = ['LRG','ELG','QSO','BGS_ANY','MWS_ANY']"
   ]
  },
  {
   "cell_type": "code",
   "execution_count": 114,
   "id": "a85911ba-8e27-43ad-8d43-86be1b1850ae",
   "metadata": {},
   "outputs": [
    {
     "name": "stdout",
     "output_type": "stream",
     "text": [
      "spectrographs with data:\n",
      "[0, 1, 2, 3, 4, 5, 6, 7, 8, 9]\n",
      "5000 5000\n",
      "1 134\n",
      "tile is 1000 and program is DARK\n",
      "spectrographs with data:\n",
      "[0, 1, 2, 3, 4, 5, 6, 7, 8, 9]\n",
      "5000 5000\n",
      "2 134\n",
      "tile is 1080 and program is DARK\n",
      "spectrographs with data:\n",
      "[0, 1, 2, 3, 4, 5, 6, 7, 8, 9]\n",
      "5000 5000\n",
      "3 134\n",
      "tile is 1081 and program is DARK\n",
      "spectrographs with data:\n",
      "[0, 1, 2, 3, 4, 5, 6, 7, 8, 9]\n",
      "5000 5000\n",
      "4 134\n",
      "tile is 1090 and program is DARK\n",
      "spectrographs with data:\n",
      "[0, 1, 2, 3, 4, 5, 6, 7, 8, 9]\n",
      "5000 5000\n",
      "5 134\n",
      "tile is 1098 and program is DARK\n",
      "spectrographs with data:\n",
      "[0, 1, 2, 3, 4, 5, 6, 7, 8, 9]\n",
      "5000 5000\n",
      "6 134\n",
      "tile is 1106 and program is DARK\n",
      "spectrographs with data:\n",
      "[0, 1, 2, 3, 4, 5, 6, 7, 8, 9]\n",
      "5000 5000\n",
      "7 134\n",
      "tile is 1130 and program is DARK\n",
      "spectrographs with data:\n",
      "[0, 1, 2, 3, 4, 5, 6, 7, 8, 9]\n",
      "5000 5000\n",
      "8 134\n",
      "tile is 1240 and program is DARK\n",
      "spectrographs with data:\n",
      "[0, 1, 2, 3, 4, 5, 6, 7, 8, 9]\n",
      "5000 5000\n",
      "9 134\n",
      "tile is 1241 and program is DARK\n",
      "spectrographs with data:\n",
      "[0, 1, 2, 3, 4, 5, 6, 7, 8, 9]\n",
      "5000 5000\n",
      "10 134\n",
      "tile is 1243 and program is DARK\n",
      "spectrographs with data:\n",
      "[0, 1, 2, 3, 4, 5, 6, 7, 8, 9]\n",
      "5000 5000\n",
      "11 134\n",
      "tile is 1257 and program is DARK\n",
      "spectrographs with data:\n",
      "[0, 1, 2, 3, 4, 5, 6, 7, 8, 9]\n",
      "5000 5000\n",
      "12 134\n",
      "tile is 1391 and program is DARK\n",
      "spectrographs with data:\n",
      "[0, 1, 2, 3, 4, 5, 6, 7, 8, 9]\n",
      "5000 5000\n",
      "13 134\n",
      "tile is 1392 and program is DARK\n",
      "spectrographs with data:\n",
      "[0, 1, 2, 3, 4, 5, 6, 7, 8, 9]\n",
      "5000 5000\n",
      "14 134\n",
      "tile is 1404 and program is DARK\n",
      "spectrographs with data:\n",
      "[0, 1, 2, 3, 4, 5, 6, 7, 8, 9]\n",
      "5000 5000\n",
      "15 134\n",
      "tile is 1405 and program is DARK\n",
      "spectrographs with data:\n",
      "[0, 1, 2, 3, 4, 5, 6, 7, 8, 9]\n",
      "5000 5000\n",
      "16 134\n",
      "tile is 1406 and program is DARK\n",
      "spectrographs with data:\n",
      "[0, 1, 2, 3, 4, 5, 6, 7, 8, 9]\n",
      "5000 5000\n",
      "17 134\n",
      "tile is 1412 and program is DARK\n",
      "spectrographs with data:\n",
      "[0, 1, 2, 3, 4, 5, 6, 7, 8, 9]\n",
      "5000 5000\n",
      "18 134\n",
      "tile is 1413 and program is DARK\n",
      "spectrographs with data:\n",
      "[0, 1, 2, 3, 4, 5, 6, 7, 8, 9]\n",
      "5000 5000\n",
      "19 134\n",
      "tile is 1427 and program is DARK\n",
      "spectrographs with data:\n",
      "[0, 1, 2, 3, 4, 5, 6, 7, 8, 9]\n",
      "5000 5000\n",
      "20 134\n",
      "tile is 1429 and program is DARK\n",
      "spectrographs with data:\n",
      "[0, 1, 2, 3, 4, 5, 6, 7, 8, 9]\n",
      "5000 5000\n",
      "21 134\n",
      "tile is 1432 and program is DARK\n",
      "spectrographs with data:\n",
      "[0, 1, 2, 3, 4, 5, 6, 7, 8, 9]\n",
      "5000 5000\n",
      "22 134\n",
      "tile is 1433 and program is DARK\n",
      "spectrographs with data:\n",
      "[0, 1, 2, 3, 4, 5, 6, 7, 8, 9]\n",
      "5000 5000\n",
      "23 134\n",
      "tile is 1573 and program is DARK\n",
      "spectrographs with data:\n",
      "[0, 1, 2, 3, 4, 5, 6, 7, 8, 9]\n",
      "5000 5000\n",
      "24 134\n",
      "tile is 1586 and program is DARK\n",
      "spectrographs with data:\n",
      "[0, 1, 2, 3, 4, 5, 6, 7, 8, 9]\n",
      "5000 5000\n",
      "25 134\n",
      "tile is 1588 and program is DARK\n",
      "spectrographs with data:\n",
      "[0, 1, 2, 3, 4, 5, 6, 7, 8, 9]\n",
      "5000 5000\n",
      "26 134\n",
      "tile is 1727 and program is DARK\n",
      "spectrographs with data:\n",
      "[0, 1, 2, 3, 4, 5, 6, 7, 8, 9]\n",
      "5000 5000\n",
      "27 134\n",
      "tile is 1728 and program is DARK\n",
      "spectrographs with data:\n",
      "[0, 1, 2, 3, 4, 5, 6, 7, 8, 9]\n",
      "5000 5000\n",
      "28 134\n",
      "tile is 1731 and program is DARK\n",
      "spectrographs with data:\n",
      "[0, 1, 2, 3, 4, 5, 6, 7, 8, 9]\n",
      "5000 5000\n",
      "29 134\n",
      "tile is 1734 and program is DARK\n",
      "spectrographs with data:\n",
      "[0, 1, 2, 3, 4, 5, 6, 7, 8, 9]\n",
      "5000 5000\n",
      "30 134\n",
      "tile is 1735 and program is DARK\n",
      "spectrographs with data:\n",
      "[0, 1, 2, 3, 4, 5, 6, 7, 8, 9]\n",
      "5000 5000\n",
      "31 134\n",
      "tile is 1737 and program is DARK\n",
      "spectrographs with data:\n",
      "[0, 1, 2, 3, 4, 5, 6, 7, 8, 9]\n",
      "5000 5000\n",
      "32 134\n",
      "tile is 1738 and program is DARK\n",
      "spectrographs with data:\n",
      "[0, 1, 2, 3, 4, 5, 6, 7, 8, 9]\n",
      "5000 5000\n",
      "33 134\n",
      "tile is 1739 and program is DARK\n",
      "spectrographs with data:\n",
      "[0, 1, 2, 3, 4, 5, 6, 7, 8, 9]\n",
      "5000 5000\n",
      "34 134\n",
      "tile is 1740 and program is DARK\n",
      "spectrographs with data:\n",
      "[0, 1, 2, 3, 4, 5, 6, 7, 8, 9]\n",
      "5000 5000\n",
      "35 134\n",
      "tile is 1741 and program is DARK\n",
      "spectrographs with data:\n",
      "[0, 1, 2, 3, 4, 5, 6, 7, 8, 9]\n",
      "5000 5000\n",
      "36 134\n",
      "tile is 1749 and program is DARK\n",
      "spectrographs with data:\n",
      "[0, 1, 2, 3, 4, 5, 6, 7, 8, 9]\n",
      "5000 5000\n",
      "37 134\n",
      "tile is 1750 and program is DARK\n",
      "spectrographs with data:\n",
      "[0, 1, 2, 3, 4, 5, 6, 7, 8, 9]\n",
      "5000 5000\n",
      "38 134\n",
      "tile is 1751 and program is DARK\n",
      "spectrographs with data:\n",
      "[0, 1, 2, 3, 4, 5, 6, 7, 8, 9]\n",
      "5000 5000\n",
      "39 134\n",
      "tile is 1757 and program is DARK\n",
      "spectrographs with data:\n",
      "[0, 1, 2, 3, 4, 5, 6, 7, 8, 9]\n",
      "5000 5000\n",
      "40 134\n",
      "tile is 1759 and program is DARK\n",
      "spectrographs with data:\n",
      "[0, 1, 2, 3, 4, 5, 6, 7, 8, 9]\n",
      "5000 5000\n",
      "41 134\n",
      "tile is 1762 and program is DARK\n",
      "spectrographs with data:\n",
      "[0, 1, 2, 3, 4, 5, 6, 7, 8, 9]\n",
      "5000 5000\n",
      "42 134\n",
      "tile is 1765 and program is DARK\n",
      "spectrographs with data:\n",
      "[0, 1, 2, 3, 4, 5, 6, 7, 8, 9]\n",
      "5000 5000\n",
      "43 134\n",
      "tile is 1766 and program is DARK\n",
      "spectrographs with data:\n",
      "[0, 1, 2, 3, 4, 5, 6, 7, 8, 9]\n",
      "5000 5000\n",
      "44 134\n",
      "tile is 1773 and program is DARK\n",
      "spectrographs with data:\n",
      "[0, 1, 2, 3, 4, 5, 6, 7, 8, 9]\n",
      "5000 5000\n",
      "45 134\n",
      "tile is 1776 and program is DARK\n",
      "spectrographs with data:\n",
      "[0, 1, 2, 3, 4, 5, 6, 7, 8, 9]\n",
      "5000 5000\n",
      "46 134\n",
      "tile is 1790 and program is DARK\n",
      "spectrographs with data:\n",
      "[0, 1, 2, 3, 4, 5, 6, 7, 8, 9]\n",
      "5000 5000\n",
      "47 134\n",
      "tile is 1791 and program is DARK\n",
      "spectrographs with data:\n",
      "[0, 1, 2, 3, 4, 5, 6, 7, 8, 9]\n",
      "5000 5000\n",
      "48 134\n",
      "tile is 1895 and program is DARK\n",
      "spectrographs with data:\n",
      "[0, 1, 2, 3, 4, 5, 6, 7, 8, 9]\n",
      "5000 5000\n",
      "49 134\n",
      "tile is 1901 and program is DARK\n",
      "spectrographs with data:\n",
      "[0, 1, 2, 3, 4, 5, 6, 7, 8, 9]\n",
      "5000 5000\n",
      "50 134\n",
      "tile is 1911 and program is DARK\n",
      "spectrographs with data:\n",
      "[0, 1, 2, 3, 4, 5, 6, 7, 8, 9]\n",
      "5000 5000\n",
      "51 134\n",
      "tile is 1912 and program is DARK\n",
      "spectrographs with data:\n",
      "[0, 1, 2, 3, 4, 5, 6, 7, 8, 9]\n",
      "5000 5000\n",
      "52 134\n",
      "tile is 1913 and program is DARK\n",
      "spectrographs with data:\n",
      "[0, 1, 2, 3, 4, 5, 6, 7, 8, 9]\n",
      "5000 5000\n",
      "53 134\n",
      "tile is 1918 and program is DARK\n",
      "spectrographs with data:\n",
      "[0, 1, 2, 3, 4, 5, 6, 7, 8, 9]\n",
      "5000 5000\n",
      "54 134\n",
      "tile is 1927 and program is DARK\n",
      "spectrographs with data:\n",
      "[0, 1, 2, 3, 4, 5, 6, 7, 8, 9]\n",
      "5000 5000\n",
      "55 134\n",
      "tile is 1928 and program is DARK\n",
      "spectrographs with data:\n",
      "[0, 1, 2, 3, 4, 5, 6, 7, 8, 9]\n",
      "5000 5000\n",
      "56 134\n",
      "tile is 2156 and program is DARK\n",
      "spectrographs with data:\n",
      "[0, 1, 2, 3, 4, 5, 6, 7, 8, 9]\n",
      "5000 5000\n",
      "57 134\n",
      "tile is 2160 and program is DARK\n",
      "spectrographs with data:\n",
      "[0, 1, 2, 3, 4, 5, 6, 7, 8, 9]\n",
      "5000 5000\n",
      "58 134\n",
      "tile is 2161 and program is DARK\n",
      "spectrographs with data:\n",
      "[0, 1, 2, 3, 4, 5, 6, 7, 8, 9]\n",
      "5000 5000\n",
      "59 134\n",
      "tile is 2172 and program is DARK\n",
      "spectrographs with data:\n",
      "[0, 1, 2, 3, 4, 5, 6, 7, 8, 9]\n",
      "5000 5000\n",
      "60 134\n",
      "tile is 2173 and program is DARK\n",
      "spectrographs with data:\n",
      "[0, 1, 2, 3, 4, 5, 6, 7, 8, 9]\n",
      "5000 5000\n",
      "61 134\n",
      "tile is 2181 and program is DARK\n",
      "spectrographs with data:\n",
      "[0, 1, 2, 3, 4, 5, 6, 7, 8, 9]\n",
      "5000 5000\n",
      "62 134\n",
      "tile is 2184 and program is DARK\n",
      "spectrographs with data:\n",
      "[0, 1, 2, 3, 4, 5, 6, 7, 8, 9]\n",
      "5000 5000\n",
      "63 134\n",
      "tile is 2187 and program is DARK\n",
      "spectrographs with data:\n",
      "[0, 1, 2, 3, 4, 5, 6, 7, 8, 9]\n",
      "5000 5000\n",
      "64 134\n",
      "tile is 2195 and program is DARK\n",
      "spectrographs with data:\n",
      "[0, 1, 2, 3, 4, 5, 6, 7, 8, 9]\n",
      "5000 5000\n",
      "65 134\n",
      "tile is 2202 and program is DARK\n",
      "spectrographs with data:\n",
      "[0, 1, 2, 3, 4, 5, 6, 7, 8, 9]\n",
      "5000 5000\n",
      "66 134\n",
      "tile is 2204 and program is DARK\n",
      "spectrographs with data:\n",
      "[0, 1, 2, 3, 4, 5, 6, 7, 8, 9]\n",
      "5000 5000\n",
      "67 134\n",
      "tile is 2220 and program is DARK\n",
      "spectrographs with data:\n",
      "[0, 1, 2, 3, 4, 5, 6, 7, 8, 9]\n",
      "5000 5000\n",
      "68 134\n",
      "tile is 20004 and program is BRIGHT\n",
      "spectrographs with data:\n",
      "[0, 1, 2, 3, 4, 5, 6, 7, 8, 9]\n",
      "5000 5000\n",
      "69 134\n",
      "tile is 20083 and program is BRIGHT\n",
      "spectrographs with data:\n",
      "[0, 1, 2, 3, 4, 5, 6, 7, 8, 9]\n",
      "5000 5000\n",
      "70 134\n",
      "tile is 20089 and program is BRIGHT\n",
      "spectrographs with data:\n",
      "[0, 1, 2, 3, 4, 5, 6, 7, 8, 9]\n",
      "5000 5000\n",
      "71 134\n",
      "tile is 20090 and program is BRIGHT\n",
      "spectrographs with data:\n",
      "[0, 1, 2, 3, 4, 5, 6, 7, 8, 9]\n",
      "5000 5000\n",
      "72 134\n",
      "tile is 20109 and program is BRIGHT\n",
      "spectrographs with data:\n",
      "[0, 1, 2, 3, 4, 5, 6, 7, 8, 9]\n",
      "5000 5000\n",
      "73 134\n",
      "tile is 20199 and program is BRIGHT\n",
      "spectrographs with data:\n",
      "[0, 1, 2, 3, 4, 5, 6, 7, 8, 9]\n",
      "5000 5000\n",
      "74 134\n",
      "tile is 20212 and program is BRIGHT\n",
      "spectrographs with data:\n",
      "[0, 1, 2, 3, 4, 5, 6, 7, 8, 9]\n",
      "5000 5000\n",
      "75 134\n",
      "tile is 20235 and program is BRIGHT\n",
      "spectrographs with data:\n",
      "[0, 1, 2, 3, 4, 5, 6, 7, 8, 9]\n",
      "5000 5000\n",
      "76 134\n",
      "tile is 20240 and program is BRIGHT\n",
      "spectrographs with data:\n",
      "[0, 1, 2, 3, 4, 5, 6, 7, 8, 9]\n",
      "5000 5000\n",
      "77 134\n",
      "tile is 20243 and program is BRIGHT\n",
      "spectrographs with data:\n",
      "[0, 1, 2, 3, 4, 5, 6, 7, 8, 9]\n",
      "5000 5000\n",
      "78 134\n",
      "tile is 20257 and program is BRIGHT\n",
      "spectrographs with data:\n",
      "[0, 1, 2, 3, 4, 5, 6, 7, 8, 9]\n",
      "5000 5000\n",
      "79 134\n",
      "tile is 20274 and program is BRIGHT\n",
      "spectrographs with data:\n",
      "[0, 1, 2, 3, 4, 5, 6, 7, 8, 9]\n",
      "5000 5000\n",
      "80 134\n",
      "tile is 20405 and program is BRIGHT\n",
      "spectrographs with data:\n",
      "[0, 1, 2, 3, 4, 5, 6, 7, 8, 9]\n",
      "5000 5000\n",
      "81 134\n",
      "tile is 20418 and program is BRIGHT\n",
      "spectrographs with data:\n",
      "[0, 1, 2, 3, 4, 5, 6, 7, 8, 9]\n",
      "5000 5000\n",
      "82 134\n",
      "tile is 20425 and program is BRIGHT\n",
      "spectrographs with data:\n",
      "[0, 1, 2, 3, 4, 5, 6, 7, 8, 9]\n",
      "5000 5000\n",
      "83 134\n",
      "tile is 20427 and program is BRIGHT\n",
      "spectrographs with data:\n",
      "[0, 1, 2, 3, 4, 5, 6, 7, 8, 9]\n",
      "5000 5000\n",
      "84 134\n",
      "tile is 20430 and program is BRIGHT\n",
      "spectrographs with data:\n",
      "[0, 1, 2, 3, 4, 5, 6, 7, 8, 9]\n",
      "5000 5000\n",
      "85 134\n",
      "tile is 20572 and program is BRIGHT\n",
      "spectrographs with data:\n",
      "[0, 1, 2, 3, 4, 5, 6, 7, 8, 9]\n",
      "5000 5000\n",
      "86 134\n",
      "tile is 20573 and program is BRIGHT\n",
      "spectrographs with data:\n",
      "[0, 1, 2, 3, 4, 5, 6, 7, 8, 9]\n",
      "5000 5000\n",
      "87 134\n",
      "tile is 20574 and program is BRIGHT\n",
      "spectrographs with data:\n",
      "[0, 1, 2, 3, 4, 5, 6, 7, 8, 9]\n",
      "5000 5000\n",
      "88 134\n",
      "tile is 20575 and program is BRIGHT\n",
      "spectrographs with data:\n",
      "[0, 1, 2, 3, 4, 5, 6, 7, 8, 9]\n",
      "5000 5000\n",
      "89 134\n",
      "tile is 20576 and program is BRIGHT\n",
      "spectrographs with data:\n",
      "[0, 1, 2, 3, 4, 5, 6, 7, 8, 9]\n",
      "5000 5000\n",
      "90 134\n",
      "tile is 20581 and program is BRIGHT\n",
      "spectrographs with data:\n",
      "[0, 1, 2, 3, 4, 5, 6, 7, 8, 9]\n",
      "5000 5000\n",
      "91 134\n",
      "tile is 20582 and program is BRIGHT\n",
      "spectrographs with data:\n",
      "[0, 1, 2, 3, 4, 5, 6, 7, 8, 9]\n",
      "5000 5000\n",
      "92 134\n",
      "tile is 20585 and program is BRIGHT\n",
      "spectrographs with data:\n",
      "[0, 1, 2, 3, 4, 5, 6, 7, 8, 9]\n",
      "5000 5000\n",
      "93 134\n",
      "tile is 20586 and program is BRIGHT\n",
      "spectrographs with data:\n",
      "[0, 1, 2, 3, 4, 5, 6, 7, 8, 9]\n",
      "5000 5000\n",
      "94 134\n",
      "tile is 20587 and program is BRIGHT\n",
      "spectrographs with data:\n",
      "[0, 1, 2, 3, 4, 5, 6, 7, 8, 9]\n",
      "5000 5000\n",
      "95 134\n",
      "tile is 20588 and program is BRIGHT\n",
      "spectrographs with data:\n",
      "[0, 1, 2, 3, 4, 5, 6, 7, 8, 9]\n",
      "5000 5000\n",
      "96 134\n",
      "tile is 20641 and program is BRIGHT\n",
      "spectrographs with data:\n",
      "[0, 1, 2, 3, 4, 5, 6, 7, 8, 9]\n",
      "5000 5000\n",
      "97 134\n",
      "tile is 20646 and program is BRIGHT\n",
      "spectrographs with data:\n",
      "[0, 1, 2, 3, 4, 5, 6, 7, 8, 9]\n",
      "5000 5000\n",
      "98 134\n",
      "tile is 20655 and program is BRIGHT\n",
      "spectrographs with data:\n",
      "[0, 1, 2, 3, 4, 5, 6, 7, 8, 9]\n",
      "5000 5000\n",
      "99 134\n",
      "tile is 20750 and program is BRIGHT\n",
      "spectrographs with data:\n",
      "[0, 1, 2, 3, 4, 5, 6, 7, 8, 9]\n",
      "5000 5000\n",
      "100 134\n",
      "tile is 20765 and program is BRIGHT\n",
      "spectrographs with data:\n",
      "[0, 1, 2, 3, 4, 5, 6, 7, 8, 9]\n",
      "5000 5000\n",
      "101 134\n",
      "tile is 20766 and program is BRIGHT\n",
      "spectrographs with data:\n",
      "[0, 1, 2, 3, 4, 5, 6, 7, 8, 9]\n",
      "5000 5000\n",
      "102 134\n",
      "tile is 20768 and program is BRIGHT\n",
      "spectrographs with data:\n",
      "[0, 1, 2, 3, 4, 5, 6, 7, 8, 9]\n",
      "5000 5000\n",
      "103 134\n",
      "tile is 20773 and program is BRIGHT\n",
      "no spectrograph 6 for tile 20774\n",
      "spectrographs with data:\n",
      "[0, 1, 2, 3, 4, 5, 7, 8, 9]\n",
      "4500 4500\n",
      "104 134\n",
      "tile is 20774 and program is BRIGHT\n",
      "spectrographs with data:\n",
      "[0, 1, 2, 3, 4, 5, 6, 7, 8, 9]\n",
      "5000 5000\n",
      "105 134\n",
      "tile is 20775 and program is BRIGHT\n",
      "spectrographs with data:\n",
      "[0, 1, 2, 3, 4, 5, 6, 7, 8, 9]\n",
      "5000 5000\n",
      "106 134\n",
      "tile is 20776 and program is BRIGHT\n",
      "spectrographs with data:\n",
      "[0, 1, 2, 3, 4, 5, 6, 7, 8, 9]\n",
      "5000 5000\n",
      "107 134\n",
      "tile is 20779 and program is BRIGHT\n",
      "spectrographs with data:\n",
      "[0, 1, 2, 3, 4, 5, 6, 7, 8, 9]\n",
      "5000 5000\n",
      "108 134\n",
      "tile is 20791 and program is BRIGHT\n",
      "spectrographs with data:\n",
      "[0, 1, 2, 3, 4, 5, 6, 7, 8, 9]\n",
      "5000 5000\n",
      "109 134\n",
      "tile is 20835 and program is BRIGHT\n",
      "spectrographs with data:\n",
      "[0, 1, 2, 3, 4, 5, 6, 7, 8, 9]\n",
      "5000 5000\n",
      "110 134\n",
      "tile is 20888 and program is BRIGHT\n",
      "spectrographs with data:\n",
      "[0, 1, 2, 3, 4, 5, 6, 7, 8, 9]\n",
      "5000 5000\n",
      "111 134\n",
      "tile is 20911 and program is BRIGHT\n",
      "spectrographs with data:\n",
      "[0, 1, 2, 3, 4, 5, 6, 7, 8, 9]\n",
      "5000 5000\n",
      "112 134\n",
      "tile is 20914 and program is BRIGHT\n",
      "spectrographs with data:\n",
      "[0, 1, 2, 3, 4, 5, 6, 7, 8, 9]\n",
      "5000 5000\n",
      "113 134\n",
      "tile is 20918 and program is BRIGHT\n",
      "spectrographs with data:\n",
      "[0, 1, 2, 3, 4, 5, 6, 7, 8, 9]\n",
      "5000 5000\n",
      "114 134\n",
      "tile is 20923 and program is BRIGHT\n",
      "spectrographs with data:\n",
      "[0, 1, 2, 3, 4, 5, 6, 7, 8, 9]\n",
      "5000 5000\n",
      "115 134\n",
      "tile is 20930 and program is BRIGHT\n",
      "spectrographs with data:\n",
      "[0, 1, 2, 3, 4, 5, 6, 7, 8, 9]\n",
      "5000 5000\n",
      "116 134\n",
      "tile is 21071 and program is BRIGHT\n",
      "spectrographs with data:\n",
      "[0, 1, 2, 3, 4, 5, 6, 7, 8, 9]\n",
      "5000 5000\n",
      "117 134\n",
      "tile is 21156 and program is BRIGHT\n",
      "spectrographs with data:\n",
      "[0, 1, 2, 3, 4, 5, 6, 7, 8, 9]\n",
      "5000 5000\n",
      "118 134\n",
      "tile is 21161 and program is BRIGHT\n",
      "spectrographs with data:\n",
      "[0, 1, 2, 3, 4, 5, 6, 7, 8, 9]\n",
      "5000 5000\n",
      "119 134\n",
      "tile is 21162 and program is BRIGHT\n",
      "spectrographs with data:\n",
      "[0, 1, 2, 3, 4, 5, 6, 7, 8, 9]\n",
      "5000 5000\n",
      "120 134\n",
      "tile is 21166 and program is BRIGHT\n",
      "spectrographs with data:\n",
      "[0, 1, 2, 3, 4, 5, 6, 7, 8, 9]\n",
      "5000 5000\n",
      "121 134\n",
      "tile is 21167 and program is BRIGHT\n",
      "spectrographs with data:\n",
      "[0, 1, 2, 3, 4, 5, 6, 7, 8, 9]\n",
      "5000 5000\n",
      "122 134\n",
      "tile is 21169 and program is BRIGHT\n",
      "spectrographs with data:\n",
      "[0, 1, 2, 3, 4, 5, 6, 7, 8, 9]\n",
      "5000 5000\n",
      "123 134\n",
      "tile is 21175 and program is BRIGHT\n",
      "spectrographs with data:\n",
      "[0, 1, 2, 3, 4, 5, 6, 7, 8, 9]\n",
      "5000 5000\n",
      "124 134\n",
      "tile is 21180 and program is BRIGHT\n",
      "spectrographs with data:\n",
      "[0, 1, 2, 3, 4, 5, 6, 7, 8, 9]\n",
      "5000 5000\n",
      "125 134\n",
      "tile is 21181 and program is BRIGHT\n",
      "spectrographs with data:\n",
      "[0, 1, 2, 3, 4, 5, 6, 7, 8, 9]\n",
      "5000 5000\n",
      "126 134\n",
      "tile is 21184 and program is BRIGHT\n",
      "spectrographs with data:\n",
      "[0, 1, 2, 3, 4, 5, 6, 7, 8, 9]\n",
      "5000 5000\n",
      "127 134\n",
      "tile is 21190 and program is BRIGHT\n",
      "spectrographs with data:\n",
      "[0, 1, 2, 3, 4, 5, 6, 7, 8, 9]\n",
      "5000 5000\n",
      "128 134\n",
      "tile is 21194 and program is BRIGHT\n",
      "spectrographs with data:\n",
      "[0, 1, 2, 3, 4, 5, 6, 7, 8, 9]\n",
      "5000 5000\n",
      "129 134\n",
      "tile is 21196 and program is BRIGHT\n",
      "spectrographs with data:\n",
      "[0, 1, 2, 3, 4, 5, 6, 7, 8, 9]\n",
      "5000 5000\n",
      "130 134\n",
      "tile is 21202 and program is BRIGHT\n",
      "spectrographs with data:\n",
      "[0, 1, 2, 3, 4, 5, 6, 7, 8, 9]\n",
      "5000 5000\n",
      "131 134\n",
      "tile is 21204 and program is BRIGHT\n",
      "spectrographs with data:\n",
      "[0, 1, 2, 3, 4, 5, 6, 7, 8, 9]\n",
      "5000 5000\n",
      "132 134\n",
      "tile is 21206 and program is BRIGHT\n",
      "spectrographs with data:\n",
      "[0, 1, 2, 3, 4, 5, 6, 7, 8, 9]\n",
      "5000 5000\n",
      "133 134\n",
      "tile is 21219 and program is BRIGHT\n",
      "spectrographs with data:\n",
      "[0, 1, 2, 3, 4, 5, 6, 7, 8, 9]\n",
      "5000 5000\n",
      "134 134\n",
      "tile is 21220 and program is BRIGHT\n"
     ]
    }
   ],
   "source": [
    "elgt = []\n",
    "elgg = []\n",
    "lrgt = []\n",
    "lrgg = []\n",
    "qsot  = []\n",
    "qsog = []\n",
    "bgst = []\n",
    "bgsg = []\n",
    "mwst = []\n",
    "mwsg = []\n",
    "bt = []\n",
    "n = 0\n",
    "for tid,pr in zip(mt[wd]['TILEID'],mt[wd]['PROGRAM']):\n",
    "    n += 1\n",
    "    tdir = '/global/cfs/cdirs/desi/spectro/redux/daily/tiles/cumulative/'+str(tid)\n",
    "    subsets = [x[0][len(tdir):].strip('/') for x in os.walk(tdir)]\n",
    "    zt = ct.combspecdata(str(tid),max(subsets),md='')\n",
    "    print(n,len(mt[wd]))\n",
    "    print('tile is '+str(tid)+' and program is '+pr)\n",
    "    for tp in tps:\n",
    "        selt = (zt['DESI_TARGET'] & targetmask.desi_mask[tp]) > 0\n",
    "        selt &= (zt['FIBERSTATUS'] == 0)\n",
    "        wzg = selt & (zt['ZWARN'] == 0)\n",
    "        #print(tp,len(zt[selt]),len(zt[wzg]))\n",
    "        if pr == 'DARK':\n",
    "            if tp == 'ELG':\n",
    "                selt &= (zt['DESI_TARGET'] & targetmask.desi_mask['QSO']) == 0\n",
    "                wzg &= (zt['DESI_TARGET'] & targetmask.desi_mask['QSO']) == 0\n",
    "                elgt.append(len(zt[selt]))\n",
    "                elgg.append(len(zt[wzg]))\n",
    "            if tp == 'LRG':\n",
    "                lrgt.append(len(zt[selt]))\n",
    "                lrgg.append(len(zt[wzg]))    \n",
    "            if tp == 'QSO':\n",
    "                qsot.append(len(zt[selt]))\n",
    "                qsog.append(len(zt[wzg]))\n",
    "                if len(zt[wzg])/len(zt[selt]) < 0.75:\n",
    "                    bt.append(tid)\n",
    "        if pr == 'BRIGHT':\n",
    "            if tp == 'BGS_ANY':\n",
    "                wzg &= (zt['DELTACHI2'] > 40)\n",
    "                bgst.append(len(zt[selt]))\n",
    "                bgsg.append(len(zt[wzg]))\n",
    "            if tp == 'MWS_ANY':\n",
    "                mwst.append(len(zt[selt]))\n",
    "                mwsg.append(len(zt[wzg]))    \n",
    "                "
   ]
  },
  {
   "cell_type": "code",
   "execution_count": 119,
   "id": "35409da2-9914-4f39-99de-30c21d2f9f14",
   "metadata": {},
   "outputs": [
    {
     "data": {
      "image/png": "[encoded data removed]",
      "text/plain": [
       "<Figure size 432x288 with 1 Axes>"
      ]
     },
     "metadata": {
      "needs_background": "light"
     },
     "output_type": "display_data"
    }
   ],
   "source": [
    "plt.hist(np.array(elgg)/np.array(elgt))\n",
    "plt.xlabel('fraction with zwarn == 0')\n",
    "plt.ylabel('# of tiles')\n",
    "plt.title('ELGs (not QSO) on first '+str(len(elgg))+' dark tiles with donefrac>1')\n",
    "plt.show()\n"
   ]
  },
  {
   "cell_type": "code",
   "execution_count": 120,
   "id": "0c7196ad-2b70-47a3-bdbf-8d66ee7b93dc",
   "metadata": {},
   "outputs": [
    {
     "data": {
      "image/png": "[encoded data removed]",
      "text/plain": [
       "<Figure size 432x288 with 1 Axes>"
      ]
     },
     "metadata": {
      "needs_background": "light"
     },
     "output_type": "display_data"
    }
   ],
   "source": [
    "plt.hist(np.array(lrgg)/np.array(lrgt))\n",
    "plt.xlabel('fraction with zwarn == 0')\n",
    "plt.ylabel('# of tiles')\n",
    "plt.title('LRGs on first '+str(len(elgg))+' dark tiles with donefrac>1')\n",
    "plt.show()"
   ]
  },
  {
   "cell_type": "code",
   "execution_count": 121,
   "id": "7f8bd5ba-e348-41a2-aaa3-16928dbd8b1b",
   "metadata": {},
   "outputs": [
    {
     "data": {
      "image/png": "[encoded data removed]",
      "text/plain": [
       "<Figure size 432x288 with 1 Axes>"
      ]
     },
     "metadata": {
      "needs_background": "light"
     },
     "output_type": "display_data"
    }
   ],
   "source": [
    "plt.hist(np.array(qsog)/np.array(qsot))\n",
    "plt.xlabel('fraction with zwarn == 0')\n",
    "plt.ylabel('# of tiles')\n",
    "plt.title('QSO targets on first '+str(len(elgg))+' dark tiles with donefrac>1')\n",
    "plt.show()"
   ]
  },
  {
   "cell_type": "code",
   "execution_count": 122,
   "id": "dbf0a11c-258f-4180-8653-96bc72beac6b",
   "metadata": {},
   "outputs": [
    {
     "data": {
      "image/png": "[encoded data removed]",
      "text/plain": [
       "<Figure size 432x288 with 1 Axes>"
      ]
     },
     "metadata": {
      "needs_background": "light"
     },
     "output_type": "display_data"
    }
   ],
   "source": [
    "plt.hist(np.array(bgsg)/np.array(bgst))\n",
    "plt.xlabel('fraction with zwarn == 0 and DELTACHI2 > 40')\n",
    "plt.ylabel('# of tiles')\n",
    "plt.title('BGS_ANY targets on first '+str(len(bgsg))+' bright tiles with donefrac>1')\n",
    "plt.show()"
   ]
  },
  {
   "cell_type": "code",
   "execution_count": 123,
   "id": "89648537-672e-42d3-8b19-4f04533ca425",
   "metadata": {},
   "outputs": [
    {
     "data": {
      "image/png": "[encoded data removed]",
      "text/plain": [
       "<Figure size 432x288 with 1 Axes>"
      ]
     },
     "metadata": {
      "needs_background": "light"
     },
     "output_type": "display_data"
    }
   ],
   "source": [
    "plt.hist(np.array(mwsg)/np.array(mwst))\n",
    "plt.xlabel('fraction with zwarn == 0')\n",
    "plt.ylabel('# of tiles')\n",
    "plt.title('MWS_ANY targets on first '+str(len(elgg))+' bright tiles with donefrac>1')\n",
    "plt.show()"
   ]
  },
  {
   "cell_type": "code",
   "execution_count": 111,
   "id": "60413526-8d5a-4253-a46c-6690fc0765cc",
   "metadata": {},
   "outputs": [
    {
     "name": "stdout",
     "output_type": "stream",
     "text": [
      "62241 74387 81573 67\n"
     ]
    }
   ],
   "source": [
    "print(sum(elgg),sum(lrgg),sum(qsog),len(elgg))"
   ]
  },
  {
   "cell_type": "code",
   "execution_count": 112,
   "id": "56b0128e-ea03-4c8e-b0f2-30fd2d145468",
   "metadata": {},
   "outputs": [
    {
     "name": "stdout",
     "output_type": "stream",
     "text": [
      "77503 75497 96155\n"
     ]
    }
   ],
   "source": [
    "print(sum(elgt),sum(lrgt),sum(qsot))"
   ]
  },
  {
   "cell_type": "code",
   "execution_count": 115,
   "id": "193cce79-d5c0-4c0a-ab88-8d3c74686750",
   "metadata": {},
   "outputs": [
    {
     "name": "stdout",
     "output_type": "stream",
     "text": [
      "215199 44852 67\n"
     ]
    }
   ],
   "source": [
    "print(sum(bgsg),sum(mwsg),len(bgsg))"
   ]
  },
  {
   "cell_type": "code",
   "execution_count": 116,
   "id": "f6321d85-2b4c-4bb2-b33d-acdc55be91ed",
   "metadata": {},
   "outputs": [
    {
     "name": "stdout",
     "output_type": "stream",
     "text": [
      "218165 44991 67\n"
     ]
    }
   ],
   "source": [
    "print(sum(bgst),sum(mwst),len(bgst))"
   ]
  },
  {
   "cell_type": "code",
   "execution_count": 66,
   "id": "539d97dc-3fbf-4d07-9f4e-0fe11ba2a784",
   "metadata": {},
   "outputs": [],
   "source": [
    "wb = np.isin(mt['TILEID'],bt)"
   ]
  },
  {
   "cell_type": "code",
   "execution_count": 67,
   "id": "47249d1c-f091-430e-9ebb-473d1137adcf",
   "metadata": {},
   "outputs": [
    {
     "data": {
      "text/html": [
       "<i>Table length=3</i>\n",
       "<table id=\"table46913221564880\" class=\"table-striped table-bordered table-condensed\">\n",
       "<thead><tr><th>TILEID</th><th>PASS</th><th>RA</th><th>DEC</th><th>PROGRAM</th><th>IN_DESI</th><th>PRIORITY</th><th>STATUS</th><th>EBV_MED</th><th>DESIGNHA</th><th>DONEFRAC</th><th>AVAILABLE</th><th>PRIORITY_BOOSTFAC</th></tr></thead>\n",
       "<thead><tr><th>int64</th><th>int32</th><th>float64</th><th>float64</th><th>str6</th><th>bool</th><th>float64</th><th>str8</th><th>float32</th><th>float32</th><th>float32</th><th>bool</th><th>float64</th></tr></thead>\n",
       "<tr><td>1080</td><td>0</td><td>218.757</td><td>-5.404</td><td>DARK</td><td>True</td><td>1.420e+00</td><td>obsend</td><td>0.068</td><td>6.36</td><td>1.1620</td><td>True</td><td>1.000</td></tr>\n",
       "<tr><td>1081</td><td>0</td><td>215.439</td><td>-4.940</td><td>DARK</td><td>True</td><td>1.418e+00</td><td>obsend</td><td>0.047</td><td>5.64</td><td>1.1242</td><td>True</td><td>1.000</td></tr>\n",
       "<tr><td>1106</td><td>0</td><td>227.645</td><td>-3.689</td><td>DARK</td><td>True</td><td>1.412e+00</td><td>obsend</td><td>0.125</td><td>10.22</td><td>1.1710</td><td>True</td><td>1.000</td></tr>\n",
       "</table>"
      ],
      "text/plain": [
       "<Table length=3>\n",
       "TILEID  PASS    RA      DEC    ... DESIGNHA DONEFRAC AVAILABLE PRIORITY_BOOSTFAC\n",
       "int64  int32 float64  float64  ... float32  float32     bool        float64     \n",
       "------ ----- -------- -------- ... -------- -------- --------- -----------------\n",
       "  1080     0  218.757   -5.404 ...     6.36   1.1620      True             1.000\n",
       "  1081     0  215.439   -4.940 ...     5.64   1.1242      True             1.000\n",
       "  1106     0  227.645   -3.689 ...    10.22   1.1710      True             1.000"
      ]
     },
     "execution_count": 67,
     "metadata": {},
     "output_type": "execute_result"
    }
   ],
   "source": [
    "mt[wb]"
   ]
  },
  {
   "cell_type": "code",
   "execution_count": 74,
   "id": "9ac3eefa-8fec-46ec-b724-f7355329d054",
   "metadata": {},
   "outputs": [
    {
     "data": {
      "text/plain": [
       "1435.3181818181818"
      ]
     },
     "execution_count": 74,
     "metadata": {},
     "output_type": "execute_result"
    }
   ],
   "source": [
    "sum(qsot)/66"
   ]
  },
  {
   "cell_type": "code",
   "execution_count": null,
   "id": "48ba6864-cb46-4031-8eec-e8649ef84f04",
   "metadata": {},
   "outputs": [],
   "source": []
  }
 ],
 "metadata": {
  "kernelspec": {
   "display_name": "DESI master",
   "language": "python",
   "name": "desi-master"
  },
  "language_info": {
   "codemirror_mode": {
    "name": "ipython",
    "version": 3
   },
   "file_extension": ".py",
   "mimetype": "text/x-python",
   "name": "python",
   "nbconvert_exporter": "python",
   "pygments_lexer": "ipython3",
   "version": "3.8.3"
  }
 },
 "nbformat": 4,
 "nbformat_minor": 5
}
