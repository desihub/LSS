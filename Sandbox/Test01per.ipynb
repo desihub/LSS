{
 "cells": [
  {
   "cell_type": "markdown",
   "metadata": {},
   "source": [
    "# Notebook to validate 0.1% went as it should have, in terms of data tracking, etc.\n",
    "## Start by checking evolution of MTL files, finish with LSS catalogs"
   ]
  },
  {
   "cell_type": "code",
   "execution_count": 1,
   "metadata": {},
   "outputs": [],
   "source": [
    "import fitsio\n",
    "from astropy.table import Table,join,unique,vstack\n",
    "import numpy as np\n",
    "from matplotlib import pyplot as plt\n",
    "import os"
   ]
  },
  {
   "cell_type": "code",
   "execution_count": 2,
   "metadata": {},
   "outputs": [],
   "source": [
    "from desitarget.io import read_targets_in_tiles"
   ]
  },
  {
   "cell_type": "code",
   "execution_count": 3,
   "metadata": {},
   "outputs": [],
   "source": [
    "mdir = '/global/cfs/cdirs/desi/survey/ops/surveyops/trunk/mtl/sv2/bright/' #location of ledgers\n",
    "tdir = '/global/cfs/cdirs/desi/target/catalogs/dr9/0.53.0/targets/sv2/resolve/bright/' #location of targets\n",
    "mtld = Table.read('/global/cfs/cdirs/desi/survey/ops/surveyops/trunk/mtl/mtl-done-tiles.ecsv') #log of tiles completed for mtl"
   ]
  },
  {
   "cell_type": "code",
   "execution_count": 4,
   "metadata": {},
   "outputs": [],
   "source": [
    "#construct a table with the needed tile information\n",
    "tilel = []\n",
    "ral = []\n",
    "decl = []\n",
    "mtlt = []\n",
    "fal = []\n",
    "for tile in mtld['TILEID']:\n",
    "    fht = fitsio.read_header('/global/cfs/cdirs/desi/target/fiberassign/tiles/trunk/0'+str(tile)[:2]+'/fiberassign-0'+str(tile)+'.fits.gz')\n",
    "    tilel.append(tile)\n",
    "    ral.append(fht['TILERA'])\n",
    "    decl.append(fht['TILEDEC'])\n",
    "    mtlt.append(fht['MTLTIME'])\n",
    "    fal.append(fht['FA_RUN'])\n",
    "ta = Table()\n",
    "ta['TILEID'] = tilel\n",
    "ta['RA'] = ral\n",
    "ta['DEC'] = decl\n",
    "ta['MTLTIME'] = mtlt\n",
    "ta['FA_RUN'] = fal"
   ]
  },
  {
   "cell_type": "code",
   "execution_count": 5,
   "metadata": {},
   "outputs": [],
   "source": [
    "#this should provide most recent mtl information\n",
    "tar = read_targets_in_tiles(mdir,ta,mtl=True)"
   ]
  },
  {
   "cell_type": "code",
   "execution_count": 6,
   "metadata": {},
   "outputs": [
    {
     "data": {
      "text/plain": [
       "array(['2021-03-18T23:11:27', '2021-03-18T23:11:32',\n",
       "       '2021-03-18T23:11:37', '2021-03-26T21:20:28',\n",
       "       '2021-03-29T20:16:49'], dtype='<U19')"
      ]
     },
     "execution_count": 6,
     "metadata": {},
     "output_type": "execute_result"
    }
   ],
   "source": [
    "#look at when all of the MTL updates happened\n",
    "np.unique(tar['TIMESTAMP'])"
   ]
  },
  {
   "cell_type": "code",
   "execution_count": 7,
   "metadata": {},
   "outputs": [
    {
     "data": {
      "text/html": [
       "&lt;Column name=&apos;MTLTIME&apos; dtype=&apos;str19&apos; length=12&gt;\n",
       "<table>\n",
       "<tr><td>2021-03-24T22:14:00</td></tr>\n",
       "<tr><td>2021-03-24T22:15:22</td></tr>\n",
       "<tr><td>2021-03-24T22:16:43</td></tr>\n",
       "<tr><td>2021-03-24T22:17:54</td></tr>\n",
       "<tr><td>2021-03-24T22:19:03</td></tr>\n",
       "<tr><td>2021-03-24T22:20:12</td></tr>\n",
       "<tr><td>2021-03-24T22:21:23</td></tr>\n",
       "<tr><td>2021-03-24T22:22:27</td></tr>\n",
       "<tr><td>2021-03-27T00:04:43</td></tr>\n",
       "<tr><td>2021-03-27T00:05:38</td></tr>\n",
       "<tr><td>2021-03-27T00:06:35</td></tr>\n",
       "<tr><td>2021-03-27T00:07:31</td></tr>\n",
       "</table>"
      ],
      "text/plain": [
       "<Column name='MTLTIME' dtype='str19' length=12>\n",
       "2021-03-24T22:14:00\n",
       "2021-03-24T22:15:22\n",
       "2021-03-24T22:16:43\n",
       "2021-03-24T22:17:54\n",
       "2021-03-24T22:19:03\n",
       "2021-03-24T22:20:12\n",
       "2021-03-24T22:21:23\n",
       "2021-03-24T22:22:27\n",
       "2021-03-27T00:04:43\n",
       "2021-03-27T00:05:38\n",
       "2021-03-27T00:06:35\n",
       "2021-03-27T00:07:31"
      ]
     },
     "execution_count": 7,
     "metadata": {},
     "output_type": "execute_result"
    }
   ],
   "source": [
    "#compare to when fiberassign queried the MTL to construct tiles\n",
    "np.unique(ta['MTLTIME'])"
   ]
  },
  {
   "cell_type": "markdown",
   "metadata": {},
   "source": [
    "## We can see three dates for when the MTL was update and two for when fiberassign queried it\n",
    "### Implies: intitial MTL -> 1st fiberassign run -> MTL updates -> 2nd fiberassign run -> final MTL update (what should be reflected in the array tar)"
   ]
  },
  {
   "cell_type": "code",
   "execution_count": 8,
   "metadata": {},
   "outputs": [],
   "source": [
    "tar0 = read_targets_in_tiles(mdir,ta,mtl=True,isodate='2021-03-24T22:14:00') #first fiberassign time\n",
    "tar1 = read_targets_in_tiles(mdir,ta,mtl=True,isodate='2021-03-27T22:14:00') #2nd fiberassign time"
   ]
  },
  {
   "cell_type": "code",
   "execution_count": 9,
   "metadata": {},
   "outputs": [
    {
     "data": {
      "text/plain": [
       "array([0])"
      ]
     },
     "execution_count": 9,
     "metadata": {},
     "output_type": "execute_result"
    }
   ],
   "source": [
    "#check that tar0 has nothing observed yet\n",
    "np.unique(tar0['NUMOBS'])"
   ]
  },
  {
   "cell_type": "code",
   "execution_count": 10,
   "metadata": {},
   "outputs": [
    {
     "data": {
      "image/png": "[encoded data removed]",
      "text/plain": [
       "<Figure size 432x288 with 1 Axes>"
      ]
     },
     "metadata": {
      "needs_background": "light"
     },
     "output_type": "display_data"
    }
   ],
   "source": [
    "#plot observations after first update\n",
    "wo1 = tar1['NUMOBS'] > 0\n",
    "plt.plot(tar1[wo1]['RA'],tar1[wo1]['DEC'],'r,',label='observed target')\n",
    "plt.plot(ral,decl,'ko',label='tile center')\n",
    "plt.title('observed after 1st MTL update')\n",
    "plt.legend()\n",
    "plt.xlabel('RA')\n",
    "plt.ylabel('DEC')\n",
    "plt.show()"
   ]
  },
  {
   "cell_type": "code",
   "execution_count": 12,
   "metadata": {},
   "outputs": [
    {
     "data": {
      "image/png": "[encoded data removed]",
      "text/plain": [
       "<Figure size 432x288 with 1 Axes>"
      ]
     },
     "metadata": {
      "needs_background": "light"
     },
     "output_type": "display_data"
    }
   ],
   "source": [
    "#observations according to current MTL\n",
    "wo = tar['NUMOBS'] > 0\n",
    "wo2 = tar['NUMOBS'] > 1\n",
    "plt.plot(tar[wo]['RA'],tar[wo]['DEC'],'r,',label='observed target')\n",
    "plt.plot(tar[wo2]['RA'],tar[wo2]['DEC'],'b.',label='observed twice')\n",
    "plt.plot(ral,decl,'ko',label='tile center')\n",
    "plt.title('observed based on current MTL')\n",
    "plt.legend()\n",
    "plt.xlabel('RA')\n",
    "plt.ylabel('DEC')\n",
    "plt.show()"
   ]
  },
  {
   "cell_type": "markdown",
   "metadata": {},
   "source": [
    "## The observed twice was a surprise to AJR, but that is apparently standard BGS behavior. After a successful observation, they allowed to be observed again, just at lower priority. This makes it convenient to see the overlap regions on the above plot."
   ]
  },
  {
   "cell_type": "markdown",
   "metadata": {},
   "source": [
    "### Now, just take a look at how different columns have evolved"
   ]
  },
  {
   "cell_type": "code",
   "execution_count": 17,
   "metadata": {},
   "outputs": [
    {
     "name": "stdout",
     "output_type": "stream",
     "text": [
      "for round 0\n",
      "NUMOBS_MORE: value number\n",
      "0 23\n",
      "1 157625\n",
      "NUMOBS: value number\n",
      "0 157648\n",
      "TARGET_STATE: value number\n",
      "BGS|UNOBS 106567\n",
      "CALIB 23\n",
      "MWS|UNOBS 51058\n",
      "TIMESTAMP: value number\n",
      "2021-03-18T23:11:27 91426\n",
      "2021-03-18T23:11:32 6805\n",
      "2021-03-18T23:11:37 59417\n",
      "VERSION: value number\n",
      "0.53.0 157648\n",
      "PRIORITY: value number\n",
      "0 23\n",
      "1400 28427\n",
      "1500 22141\n",
      "1550 35\n",
      "1600 165\n",
      "2000 38673\n",
      "2100 67894\n",
      "2998 290\n",
      "\n",
      "\n",
      "for round 1\n",
      "NUMOBS_MORE: value number\n",
      "0 2571\n",
      "1 155077\n",
      "NUMOBS: value number\n",
      "0 139454\n",
      "1 18194\n",
      "TARGET_STATE: value number\n",
      "BGS|MORE_ZGOOD 15640\n",
      "BGS|MORE_ZWARN 971\n",
      "BGS|UNOBS 89956\n",
      "CALIB 23\n",
      "MWS|DONE 1577\n",
      "MWS|UNOBS 49481\n",
      "TIMESTAMP: value number\n",
      "2021-03-18T23:11:27 78427\n",
      "2021-03-18T23:11:32 5623\n",
      "2021-03-18T23:11:37 55404\n",
      "2021-03-26T21:20:28 18194\n",
      "VERSION: value number\n",
      "0.53.0 139454\n",
      "0.54.0 18194\n",
      "PRIORITY: value number\n",
      "0 23\n",
      "2 2548\n",
      "1000 15640\n",
      "1400 28422\n",
      "1500 20701\n",
      "1550 35\n",
      "1600 159\n",
      "2000 36308\n",
      "2100 53648\n",
      "2998 164\n",
      "\n",
      "\n",
      "for round 2\n",
      "NUMOBS_MORE: value number\n",
      "0 5305\n",
      "1 152343\n",
      "NUMOBS: value number\n",
      "0 121626\n",
      "1 35643\n",
      "2 379\n",
      "TARGET_STATE: value number\n",
      "BGS|MORE_ZGOOD 30729\n",
      "BGS|MORE_ZWARN 1641\n",
      "BGS|UNOBS 74197\n",
      "CALIB 23\n",
      "MWS|DONE 3641\n",
      "MWS|UNOBS 47417\n",
      "TIMESTAMP: value number\n",
      "2021-03-18T23:11:27 67794\n",
      "2021-03-18T23:11:32 5232\n",
      "2021-03-18T23:11:37 48600\n",
      "2021-03-26T21:20:28 17815\n",
      "2021-03-29T20:16:49 18207\n",
      "VERSION: value number\n",
      "0.53.0 121626\n",
      "0.54.0 17815\n",
      "0.55.0 18207\n",
      "PRIORITY: value number\n",
      "0 23\n",
      "2 5282\n",
      "1000 30729\n",
      "1400 28124\n",
      "1500 19042\n",
      "1550 32\n",
      "1600 151\n",
      "2000 32989\n",
      "2100 41208\n",
      "2998 68\n",
      "\n",
      "\n"
     ]
    }
   ],
   "source": [
    "mtls = [tar0,tar1,tar]\n",
    "cols = ['NUMOBS_MORE','NUMOBS','TARGET_STATE','TIMESTAMP','VERSION','PRIORITY']\n",
    "ct = 0\n",
    "for tl in mtls:\n",
    "    print('for round '+str(ct))\n",
    "    for col in cols:\n",
    "        print(col+ ': value number')\n",
    "        nu = np.unique(tl[col],return_counts=True)\n",
    "        for ii in range(0,len(nu[0])):\n",
    "            print(nu[0][ii],nu[1][ii])\n",
    "    ct +=1\n",
    "    print('\\n')"
   ]
  },
  {
   "cell_type": "markdown",
   "metadata": {},
   "source": [
    "## The above all seems reasonable, the specific numbers point out a few things:\n",
    "* The version of targeting is changing. That is fine for SV2 (and very good it is being tracked) but we hope this is stable for the main survey.\n",
    "* MWS targets really require tile overlaps to get observed\n",
    "* 23 CALIB are in the MTL and start with NUMOBS=0; ADM says this expected (something about standard stars)\n",
    "* NUMOBS_MORE = 0 is the sum of those 23 and those PRIORITY =2. The PRIORITY = 2 are MWS observations (target state MWS|DONE) and BGS redshift failures (target state BGS|MORE_ZWARN)\n",
    "* This weird behavior with BGS and redshift failures was requested by C3 at some point. It won't be used for 1% but should perhaps be re-evaluated for the main survey"
   ]
  },
  {
   "cell_type": "markdown",
   "metadata": {},
   "source": [
    "## Now check things match up with zbest files"
   ]
  },
  {
   "cell_type": "code",
   "execution_count": 18,
   "metadata": {},
   "outputs": [
    {
     "name": "stdout",
     "output_type": "stream",
     "text": [
      "did not find /global/cfs/cdirs/desi/spectro/redux/daily/tiles/cumulative/81056/20210324/zbest-6-81056-thru20210324.fits\n",
      "81056 4500 3130\n",
      "did not find /global/cfs/cdirs/desi/spectro/redux/daily/tiles/cumulative/81057/20210324/zbest-6-81057-thru20210324.fits\n",
      "81057 9000 6287\n",
      "did not find /global/cfs/cdirs/desi/spectro/redux/daily/tiles/cumulative/81058/20210324/zbest-6-81058-thru20210324.fits\n",
      "81058 13500 9436\n",
      "did not find /global/cfs/cdirs/desi/spectro/redux/daily/tiles/cumulative/81059/20210324/zbest-6-81059-thru20210324.fits\n",
      "81059 18000 12541\n",
      "did not find /global/cfs/cdirs/desi/spectro/redux/daily/tiles/cumulative/81060/20210324/zbest-6-81060-thru20210324.fits\n",
      "81060 22500 15734\n",
      "did not find /global/cfs/cdirs/desi/spectro/redux/daily/tiles/cumulative/81061/20210324/zbest-6-81061-thru20210324.fits\n",
      "81061 27000 18912\n",
      "did not find /global/cfs/cdirs/desi/spectro/redux/daily/tiles/cumulative/81062/20210327/zbest-6-81062-thru20210327.fits\n",
      "81062 31500 22271\n",
      "did not find /global/cfs/cdirs/desi/spectro/redux/daily/tiles/cumulative/81063/20210327/zbest-6-81063-thru20210327.fits\n",
      "81063 36000 25694\n",
      "did not find /global/cfs/cdirs/desi/spectro/redux/daily/tiles/cumulative/81064/20210327/zbest-6-81064-thru20210327.fits\n",
      "81064 40500 29039\n",
      "did not find /global/cfs/cdirs/desi/spectro/redux/daily/tiles/cumulative/81065/20210327/zbest-6-81065-thru20210327.fits\n",
      "81065 45000 32347\n",
      "did not find /global/cfs/cdirs/desi/spectro/redux/daily/tiles/cumulative/81066/20210326/zbest-6-81066-thru20210326.fits\n",
      "81066 49500 35633\n",
      "did not find /global/cfs/cdirs/desi/spectro/redux/daily/tiles/cumulative/81067/20210327/zbest-6-81067-thru20210327.fits\n",
      "81067 54000 38980\n"
     ]
    }
   ],
   "source": [
    "#concatenate all zbest\n",
    "specs = [0,1,2,3,4,5,6,7,8,9]\n",
    "s = 0\n",
    "for tile,zdate in zip(mtld['TILEID'],mtld['ZDATE']):\n",
    "    for spec in specs:\n",
    "        ff = '/global/cfs/cdirs/desi/spectro/redux/daily/tiles/cumulative/'+str(tile)+'/'+zdate+'/zbest-'+str(spec)+'-'+str(tile)+'-thru'+zdate+'.fits'\n",
    "        #print(ff)\n",
    "        if os.path.isfile(ff):\n",
    "            zfn = Table.read(ff,hdu='ZBEST')\n",
    "            if s == 0:\n",
    "                zf = zfn\n",
    "                s = 1\n",
    "            else:\n",
    "                zf = vstack([zf,zfn])\n",
    "        else:\n",
    "            print('did not find '+ff)\n",
    "        \n",
    "    wz = zf['ZWARN'] == 0\n",
    "    print(tile,len(zf),len(zf[wz]))"
   ]
  },
  {
   "cell_type": "code",
   "execution_count": 19,
   "metadata": {},
   "outputs": [
    {
     "name": "stdout",
     "output_type": "stream",
     "text": [
      "[-1.00000000e+00 -4.72950046e-03 -2.00000000e-03 ...  5.23410957e+00\n",
      "  5.24905765e+00  5.47118187e+00]\n",
      "[  -1    0    4   32   36 1024 1028 1056 1060 1570]\n"
     ]
    }
   ],
   "source": [
    "#mtl file has columns for Z and ZWARN; null column is -1\n",
    "print(np.unique(tar['Z']))\n",
    "print(np.unique(tar['ZWARN']))"
   ]
  },
  {
   "cell_type": "code",
   "execution_count": 20,
   "metadata": {},
   "outputs": [
    {
     "name": "stdout",
     "output_type": "stream",
     "text": [
      "36022\n",
      "36022\n"
     ]
    }
   ],
   "source": [
    "wz = tar['Z'] > -1\n",
    "print(len(tar[wz]))\n",
    "wz = tar['ZWARN'] > -1\n",
    "print(len(tar[wz]))"
   ]
  },
  {
   "cell_type": "code",
   "execution_count": 26,
   "metadata": {},
   "outputs": [
    {
     "name": "stdout",
     "output_type": "stream",
     "text": [
      "54000\n",
      "53257\n",
      "45084\n"
     ]
    }
   ],
   "source": [
    "#things are going to be a little awkward, because zbest file will contain repeats and mtl just more recent\n",
    "print(len(zf))\n",
    "print(len(np.unique(zf['TARGETID'])))\n",
    "wz = zf['TARGETID'] > 0\n",
    "print(len(zf[wz]))"
   ]
  },
  {
   "cell_type": "code",
   "execution_count": 24,
   "metadata": {},
   "outputs": [
    {
     "data": {
      "text/html": [
       "&lt;Column name=&apos;ZWARN&apos; dtype=&apos;int64&apos; length=9&gt;\n",
       "<table>\n",
       "<tr><td>0</td></tr>\n",
       "<tr><td>4</td></tr>\n",
       "<tr><td>32</td></tr>\n",
       "<tr><td>36</td></tr>\n",
       "<tr><td>1024</td></tr>\n",
       "<tr><td>1028</td></tr>\n",
       "<tr><td>1056</td></tr>\n",
       "<tr><td>1060</td></tr>\n",
       "<tr><td>1570</td></tr>\n",
       "</table>"
      ],
      "text/plain": [
       "<Column name='ZWARN' dtype='int64' length=9>\n",
       "   0\n",
       "   4\n",
       "  32\n",
       "  36\n",
       "1024\n",
       "1028\n",
       "1056\n",
       "1060\n",
       "1570"
      ]
     },
     "execution_count": 24,
     "metadata": {},
     "output_type": "execute_result"
    }
   ],
   "source": [
    "np.unique(zf['ZWARN'])"
   ]
  },
  {
   "cell_type": "code",
   "execution_count": 32,
   "metadata": {},
   "outputs": [],
   "source": [
    "zfu = unique(zf,keys=['TARGETID'])\n",
    "ztar = join(tar,zfu,keys=['TARGETID'],join_type='left',table_names=['mtl','zbest'])"
   ]
  },
  {
   "cell_type": "code",
   "execution_count": 33,
   "metadata": {},
   "outputs": [
    {
     "name": "stdout",
     "output_type": "stream",
     "text": [
      "36022\n"
     ]
    }
   ],
   "source": [
    "wz = ztar['ZWARN_zbest']*0 == 0 #unmatched columns will have nans here\n",
    "print(len(ztar[wz]))"
   ]
  },
  {
   "cell_type": "markdown",
   "metadata": {},
   "source": [
    "### So the number of targets with redshift entries in the mtl indeed matches the number in the zbest files for the same targets. Entries in zbest with targetids not in the mtl are presumably skies/standards. The numbers imply an average of 83/petal: 9000/(12tiles 9petal/tiles). Check for consistency by going through fiberassign files"
   ]
  },
  {
   "cell_type": "code",
   "execution_count": 2,
   "metadata": {},
   "outputs": [],
   "source": [
    "#start by just looking at one of the fiberassign files\n",
    "fa = fitsio.FITS('/global/cfs/cdirs/desi/target/fiberassign/tiles/trunk/081/fiberassign-081056.fits.gz')"
   ]
  },
  {
   "cell_type": "code",
   "execution_count": 3,
   "metadata": {},
   "outputs": [
    {
     "data": {
      "text/plain": [
       "\n",
       "  file: /global/cfs/cdirs/desi/target/fiberassign/tiles/trunk/081/fiberassign-081056.fits.gz\n",
       "  mode: READONLY\n",
       "  extnum hdutype         hduname[v]\n",
       "  0      IMAGE_HDU       PRIMARY\n",
       "  1      BINARY_TBL      FIBERASSIGN\n",
       "  2      BINARY_TBL      SKY_MONITOR\n",
       "  3      BINARY_TBL      GFA_TARGETS\n",
       "  4      BINARY_TBL      TARGETS\n",
       "  5      BINARY_TBL      POTENTIAL_ASSIGNMENTS"
      ]
     },
     "execution_count": 3,
     "metadata": {},
     "output_type": "execute_result"
    }
   ],
   "source": [
    "fa"
   ]
  },
  {
   "cell_type": "code",
   "execution_count": 34,
   "metadata": {},
   "outputs": [],
   "source": [
    "faa = fitsio.read('/global/cfs/cdirs/desi/target/fiberassign/tiles/trunk/081/fiberassign-081056.fits.gz',ext='FIBERASSIGN')"
   ]
  },
  {
   "cell_type": "code",
   "execution_count": 33,
   "metadata": {},
   "outputs": [
    {
     "data": {
      "text/plain": [
       "('TARGETID',\n",
       " 'PETAL_LOC',\n",
       " 'DEVICE_LOC',\n",
       " 'LOCATION',\n",
       " 'FIBER',\n",
       " 'FIBERSTATUS',\n",
       " 'TARGET_RA',\n",
       " 'TARGET_DEC',\n",
       " 'PMRA',\n",
       " 'PMDEC',\n",
       " 'REF_EPOCH',\n",
       " 'LAMBDA_REF',\n",
       " 'FA_TARGET',\n",
       " 'FA_TYPE',\n",
       " 'OBJTYPE',\n",
       " 'FIBERASSIGN_X',\n",
       " 'FIBERASSIGN_Y',\n",
       " 'PRIORITY',\n",
       " 'SUBPRIORITY',\n",
       " 'OBSCONDITIONS',\n",
       " 'RELEASE',\n",
       " 'BRICKID',\n",
       " 'BRICK_OBJID',\n",
       " 'MORPHTYPE',\n",
       " 'FLUX_G',\n",
       " 'FLUX_R',\n",
       " 'FLUX_Z',\n",
       " 'FLUX_IVAR_G',\n",
       " 'FLUX_IVAR_R',\n",
       " 'FLUX_IVAR_Z',\n",
       " 'MASKBITS',\n",
       " 'REF_ID',\n",
       " 'REF_CAT',\n",
       " 'GAIA_PHOT_G_MEAN_MAG',\n",
       " 'GAIA_PHOT_BP_MEAN_MAG',\n",
       " 'GAIA_PHOT_RP_MEAN_MAG',\n",
       " 'PARALLAX',\n",
       " 'BRICKNAME',\n",
       " 'EBV',\n",
       " 'FLUX_W1',\n",
       " 'FLUX_W2',\n",
       " 'FLUX_IVAR_W1',\n",
       " 'FLUX_IVAR_W2',\n",
       " 'FIBERFLUX_G',\n",
       " 'FIBERFLUX_R',\n",
       " 'FIBERFLUX_Z',\n",
       " 'FIBERTOTFLUX_G',\n",
       " 'FIBERTOTFLUX_R',\n",
       " 'FIBERTOTFLUX_Z',\n",
       " 'SERSIC',\n",
       " 'SHAPE_R',\n",
       " 'SHAPE_E1',\n",
       " 'SHAPE_E2',\n",
       " 'PHOTSYS',\n",
       " 'PRIORITY_INIT',\n",
       " 'NUMOBS_INIT',\n",
       " 'SV2_DESI_TARGET',\n",
       " 'SV2_BGS_TARGET',\n",
       " 'SV2_MWS_TARGET',\n",
       " 'SV2_SCND_TARGET',\n",
       " 'DESI_TARGET',\n",
       " 'BGS_TARGET',\n",
       " 'MWS_TARGET')"
      ]
     },
     "execution_count": 33,
     "metadata": {},
     "output_type": "execute_result"
    }
   ],
   "source": [
    "faa.dtype.names"
   ]
  },
  {
   "cell_type": "code",
   "execution_count": 36,
   "metadata": {},
   "outputs": [
    {
     "data": {
      "text/plain": [
       "(array(['', 'SKY', 'TGT'], dtype='<U3'), array([ 791,  800, 3409]))"
      ]
     },
     "execution_count": 36,
     "metadata": {},
     "output_type": "execute_result"
    }
   ],
   "source": [
    "np.unique(faa['OBJTYPE'],return_counts=True)"
   ]
  },
  {
   "cell_type": "code",
   "execution_count": 65,
   "metadata": {},
   "outputs": [
    {
     "data": {
      "text/plain": [
       "-406910646"
      ]
     },
     "execution_count": 65,
     "metadata": {},
     "output_type": "execute_result"
    }
   ],
   "source": [
    "np.min(faa['TARGETID'])"
   ]
  },
  {
   "cell_type": "code",
   "execution_count": 67,
   "metadata": {},
   "outputs": [
    {
     "data": {
      "text/plain": [
       "39633236183222245"
      ]
     },
     "execution_count": 67,
     "metadata": {},
     "output_type": "execute_result"
    }
   ],
   "source": [
    "ws = faa['FIBERSTATUS'] == 0\n",
    "np.min(faa['TARGETID'][ws])"
   ]
  },
  {
   "cell_type": "code",
   "execution_count": 37,
   "metadata": {},
   "outputs": [],
   "source": [
    "fpa =  fitsio.read('/global/cfs/cdirs/desi/target/fiberassign/tiles/trunk/081/fiberassign-081056.fits.gz',ext='POTENTIAL_ASSIGNMENTS')"
   ]
  },
  {
   "cell_type": "code",
   "execution_count": 35,
   "metadata": {},
   "outputs": [
    {
     "data": {
      "text/plain": [
       "157772"
      ]
     },
     "execution_count": 35,
     "metadata": {},
     "output_type": "execute_result"
    }
   ],
   "source": [
    "len(fpa)"
   ]
  },
  {
   "cell_type": "code",
   "execution_count": 66,
   "metadata": {},
   "outputs": [
    {
     "data": {
      "text/plain": [
       "39633236183222245"
      ]
     },
     "execution_count": 66,
     "metadata": {},
     "output_type": "execute_result"
    }
   ],
   "source": [
    "np.min(fpa['TARGETID'])"
   ]
  },
  {
   "cell_type": "code",
   "execution_count": 36,
   "metadata": {},
   "outputs": [
    {
     "data": {
      "text/plain": [
       "('TARGETID', 'FIBER', 'LOCATION')"
      ]
     },
     "execution_count": 36,
     "metadata": {},
     "output_type": "execute_result"
    }
   ],
   "source": [
    "fpa.dtype.names"
   ]
  },
  {
   "cell_type": "code",
   "execution_count": 39,
   "metadata": {},
   "outputs": [],
   "source": [
    "fat = fitsio.read('/global/cfs/cdirs/desi/target/fiberassign/tiles/trunk/081/fiberassign-081056.fits.gz',ext='TARGETS')"
   ]
  },
  {
   "cell_type": "code",
   "execution_count": 40,
   "metadata": {},
   "outputs": [
    {
     "data": {
      "text/plain": [
       "141541"
      ]
     },
     "execution_count": 40,
     "metadata": {},
     "output_type": "execute_result"
    }
   ],
   "source": [
    "len(fat)"
   ]
  },
  {
   "cell_type": "code",
   "execution_count": 41,
   "metadata": {},
   "outputs": [
    {
     "data": {
      "text/plain": [
       "('TARGETID',\n",
       " 'RA',\n",
       " 'DEC',\n",
       " 'FA_TARGET',\n",
       " 'FA_TYPE',\n",
       " 'PRIORITY',\n",
       " 'SUBPRIORITY',\n",
       " 'OBSCONDITIONS',\n",
       " 'SV2_DESI_TARGET',\n",
       " 'SV2_BGS_TARGET',\n",
       " 'SV2_MWS_TARGET',\n",
       " 'SV2_SCND_TARGET',\n",
       " 'DESI_TARGET',\n",
       " 'BGS_TARGET',\n",
       " 'MWS_TARGET')"
      ]
     },
     "execution_count": 41,
     "metadata": {},
     "output_type": "execute_result"
    }
   ],
   "source": [
    "fat.dtype.names"
   ]
  },
  {
   "cell_type": "code",
   "execution_count": 4,
   "metadata": {},
   "outputs": [],
   "source": [
    "fh = fitsio.read_header('/global/cfs/cdirs/desi/target/fiberassign/tiles/trunk/081/fiberassign-081056.fits.gz')"
   ]
  },
  {
   "cell_type": "code",
   "execution_count": 5,
   "metadata": {},
   "outputs": [
    {
     "data": {
      "text/plain": [
       "\n",
       "SIMPLE  =                    T / file does conform to FITS standard\n",
       "BITPIX  =                   16 / number of bits per data pixel\n",
       "NAXIS   =                    0 / number of data axes\n",
       "EXTEND  =                    T / FITS dataset may contain extensions\n",
       "COMMENT   and Astrophysics', volume 376, page 359; bibcode: 2001A&A...376..359H\n",
       "COMMENT   FITS (Flexible Image Transport System) format is defined in 'Astronomy\n",
       "EXTNAME = 'PRIMARY'            / \n",
       "TILEID  =                81056 / \n",
       "TILERA  =              171.407 / \n",
       "TILEDEC =               50.926 / \n",
       "FIELDROT=   0.0290585541908356 / \n",
       "FA_PLAN = '2022-07-01T00:00:00.000' / \n",
       "FA_HA   =                  0.0 / \n",
       "FA_RUN  = '2021-03-17T23:20:01' / \n",
       "REQRA   =              171.407 / \n",
       "REQDEC  =               50.926 / \n",
       "FIELDNUM=                    0 / \n",
       "FA_VER  = '2.1.1.dev2706'      / \n",
       "FA_SURV = 'sv2'                / \n",
       "DEPNAM00= 'python'             / \n",
       "DEPVER00= '3.8.3'              / \n",
       "DEPNAM01= 'numpy'              / \n",
       "DEPVER01= '1.19.1'             / \n",
       "DEPNAM02= 'matplotlib'         / \n",
       "DEPVER02= '3.2.1'              / \n",
       "DEPNAM03= 'astropy'            / \n",
       "DEPVER03= '4.0.1.post1'        / \n",
       "DEPNAM04= 'fitsio'             / \n",
       "DEPVER04= '1.1.2'              / \n",
       "DEPNAM05= 'desiutil'           / \n",
       "DEPVER05= '3.1.2.dev909'       / \n",
       "DEPNAM06= 'desimodel'          / \n",
       "DEPVER06= '0.14.1.dev635'      / \n",
       "DEPNAM07= 'desitarget'         / \n",
       "DEPVER07= '0.53.0.dev4635'     / \n",
       "FAFLAVOR= 'sv2bright'          / \n",
       "DESIROOT= '/global/cfs/cdirs/desi' / \n",
       "GFA     = 'DESIROOT/target/catalogs/dr9/0.53.0/gfas' / \n",
       "MTL     = 'DESIROOT/target/mtl/0.53.0/mtl/sv2/bright' / \n",
       "SCND    = '-'                  / \n",
       "SKY     = 'DESIROOT/target/catalogs/dr9/0.53.0/skies' / \n",
       "SKYSUPP = 'DESIROOT/target/catalogs/gaiadr2/0.53.0/skies-supp' / \n",
       "TARG    = 'DESIROOT/target/catalogs/dr9/0.53.0/targets/sv2/resolve/bright' / \n",
       "OUTDIR  = '/global/cfs/cdirs/desi/survey/fiberassign/SV2/20210324/' / \n",
       "PMCORR  = 'n'                  / \n",
       "PMTIME  = '2021-03-24T00:00:00.000' / \n",
       "RUNDATE = '2021-03-17T23:20:01' / \n",
       "SURVEY  = 'sv2'                / \n",
       "FAARGS  = '--doclean n --dr dr9 --dtver 0.53.0 --gaiadr gaiadr2 --goaltime 150.'\n",
       "MTLTIME = '2021-03-24T22:14:00' / \n",
       "OBSCON  = 'DARK|GRAY|BRIGHT|BACKUP' / \n",
       "GOALTIME=                150.0 / \n",
       "GOALTYPE= 'BRIGHT'             / \n",
       "EBVFAC  =     1.02878343543874 / \n",
       "SBPROF  = 'BGS'                / \n",
       "MINTFRAC=                  0.9 / "
      ]
     },
     "execution_count": 5,
     "metadata": {},
     "output_type": "execute_result"
    }
   ],
   "source": [
    "fh"
   ]
  },
  {
   "cell_type": "code",
   "execution_count": 6,
   "metadata": {},
   "outputs": [],
   "source": []
  },
  {
   "cell_type": "code",
   "execution_count": 7,
   "metadata": {},
   "outputs": [],
   "source": []
  },
  {
   "cell_type": "code",
   "execution_count": 51,
   "metadata": {},
   "outputs": [],
   "source": []
  },
  {
   "cell_type": "code",
   "execution_count": 86,
   "metadata": {},
   "outputs": [],
   "source": []
  },
  {
   "cell_type": "code",
   "execution_count": 87,
   "metadata": {},
   "outputs": [],
   "source": []
  },
  {
   "cell_type": "code",
   "execution_count": 88,
   "metadata": {},
   "outputs": [],
   "source": []
  },
  {
   "cell_type": "code",
   "execution_count": 89,
   "metadata": {},
   "outputs": [
    {
     "data": {
      "text/plain": [
       "157648"
      ]
     },
     "execution_count": 89,
     "metadata": {},
     "output_type": "execute_result"
    }
   ],
   "source": [
    "len(tar)"
   ]
  },
  {
   "cell_type": "code",
   "execution_count": 90,
   "metadata": {},
   "outputs": [
    {
     "data": {
      "text/plain": [
       "('RA',\n",
       " 'DEC',\n",
       " 'REF_EPOCH',\n",
       " 'PARALLAX',\n",
       " 'PMRA',\n",
       " 'PMDEC',\n",
       " 'TARGETID',\n",
       " 'SV2_DESI_TARGET',\n",
       " 'SV2_BGS_TARGET',\n",
       " 'SV2_MWS_TARGET',\n",
       " 'SUBPRIORITY',\n",
       " 'OBSCONDITIONS',\n",
       " 'PRIORITY_INIT',\n",
       " 'NUMOBS_INIT',\n",
       " 'SV2_SCND_TARGET',\n",
       " 'NUMOBS_MORE',\n",
       " 'NUMOBS',\n",
       " 'Z',\n",
       " 'ZWARN',\n",
       " 'ZTILEID',\n",
       " 'TARGET_STATE',\n",
       " 'TIMESTAMP',\n",
       " 'VERSION',\n",
       " 'PRIORITY')"
      ]
     },
     "execution_count": 90,
     "metadata": {},
     "output_type": "execute_result"
    }
   ],
   "source": [
    "tar.dtype.names"
   ]
  },
  {
   "cell_type": "code",
   "execution_count": 91,
   "metadata": {},
   "outputs": [
    {
     "data": {
      "text/plain": [
       "array(['2021-03-18T23:11:27', '2021-03-18T23:11:32',\n",
       "       '2021-03-18T23:11:37', '2021-03-26T21:20:28',\n",
       "       '2021-03-29T20:16:49'], dtype='<U19')"
      ]
     },
     "execution_count": 91,
     "metadata": {},
     "output_type": "execute_result"
    }
   ],
   "source": []
  },
  {
   "cell_type": "code",
   "execution_count": 92,
   "metadata": {},
   "outputs": [
    {
     "data": {
      "text/html": [
       "&lt;Column name=&apos;MTLTIME&apos; dtype=&apos;str19&apos; length=12&gt;\n",
       "<table>\n",
       "<tr><td>2021-03-24T22:14:00</td></tr>\n",
       "<tr><td>2021-03-24T22:15:22</td></tr>\n",
       "<tr><td>2021-03-24T22:16:43</td></tr>\n",
       "<tr><td>2021-03-24T22:17:54</td></tr>\n",
       "<tr><td>2021-03-24T22:19:03</td></tr>\n",
       "<tr><td>2021-03-24T22:20:12</td></tr>\n",
       "<tr><td>2021-03-24T22:21:23</td></tr>\n",
       "<tr><td>2021-03-24T22:22:27</td></tr>\n",
       "<tr><td>2021-03-27T00:04:43</td></tr>\n",
       "<tr><td>2021-03-27T00:05:38</td></tr>\n",
       "<tr><td>2021-03-27T00:06:35</td></tr>\n",
       "<tr><td>2021-03-27T00:07:31</td></tr>\n",
       "</table>"
      ],
      "text/plain": [
       "<Column name='MTLTIME' dtype='str19' length=12>\n",
       "2021-03-24T22:14:00\n",
       "2021-03-24T22:15:22\n",
       "2021-03-24T22:16:43\n",
       "2021-03-24T22:17:54\n",
       "2021-03-24T22:19:03\n",
       "2021-03-24T22:20:12\n",
       "2021-03-24T22:21:23\n",
       "2021-03-24T22:22:27\n",
       "2021-03-27T00:04:43\n",
       "2021-03-27T00:05:38\n",
       "2021-03-27T00:06:35\n",
       "2021-03-27T00:07:31"
      ]
     },
     "execution_count": 92,
     "metadata": {},
     "output_type": "execute_result"
    }
   ],
   "source": [
    "np.unique(ta['MTLTIME'])"
   ]
  },
  {
   "cell_type": "markdown",
   "metadata": {},
   "source": [
    "The MTL was updated on three different dates, we can check how it evolves"
   ]
  },
  {
   "cell_type": "code",
   "execution_count": 93,
   "metadata": {},
   "outputs": [],
   "source": []
  },
  {
   "cell_type": "code",
   "execution_count": 97,
   "metadata": {},
   "outputs": [
    {
     "name": "stdout",
     "output_type": "stream",
     "text": [
      "157648 157648\n",
      "True\n"
     ]
    }
   ],
   "source": [
    "#confirm they are the same length and targetid column identical\n",
    "print(len(tar),len(tar0))\n",
    "print(np.array_equal(tar['TARGETID'],tar0['TARGETID']))"
   ]
  },
  {
   "cell_type": "code",
   "execution_count": 98,
   "metadata": {},
   "outputs": [
    {
     "name": "stdout",
     "output_type": "stream",
     "text": [
      "36011\n"
     ]
    },
    {
     "data": {
      "image/png": "[encoded data removed]",
      "text/plain": [
       "<Figure size 432x288 with 1 Axes>"
      ]
     },
     "metadata": {
      "needs_background": "light"
     },
     "output_type": "display_data"
    }
   ],
   "source": [
    "#plot the location of targets whose priorities have changed\n",
    "wc = tar['PRIORITY'] != tar0['PRIORITY']\n",
    "print(len(tar[wc]))\n",
    "plt.plot(tar['RA'],tar['DEC'],'k,')\n",
    "plt.plot(tar[wc]['RA'],tar[wc]['DEC'],'r.')\n",
    "plt.show()"
   ]
  },
  {
   "cell_type": "code",
   "execution_count": 102,
   "metadata": {},
   "outputs": [
    {
     "data": {
      "image/png": "[encoded data removed]",
      "text/plain": [
       "<Figure size 432x288 with 1 Axes>"
      ]
     },
     "metadata": {
      "needs_background": "light"
     },
     "output_type": "display_data"
    }
   ],
   "source": [
    "#zoom in on overlapping area\n",
    "#plt.plot(tar['RA'],tar['DEC'],'k,')\n",
    "plt.plot(tar[wc]['RA'],tar[wc]['DEC'],'r,')\n",
    "plt.plot(ral,decl,'ko')\n",
    "plt.xlim(170,180)\n",
    "plt.ylim(50,56)\n",
    "plt.show()"
   ]
  },
  {
   "cell_type": "code",
   "execution_count": 104,
   "metadata": {},
   "outputs": [
    {
     "name": "stdout",
     "output_type": "stream",
     "text": [
      "[0]\n",
      "[0 1 2]\n"
     ]
    }
   ],
   "source": [
    "print(np.unique(tar0['NUMOBS']))\n",
    "print(np.unique(tar['NUMOBS']))"
   ]
  },
  {
   "cell_type": "code",
   "execution_count": 107,
   "metadata": {},
   "outputs": [
    {
     "data": {
      "image/png": "[encoded data removed]",
      "text/plain": [
       "<Figure size 432x288 with 1 Axes>"
      ]
     },
     "metadata": {
      "needs_background": "light"
     },
     "output_type": "display_data"
    }
   ],
   "source": [
    "wo = tar['NUMOBS'] > 0\n",
    "wo2 = tar['NUMOBS'] > 1\n",
    "plt.plot(tar[wo]['RA'],tar[wo]['DEC'],'r,')\n",
    "plt.plot(tar[wo2]['RA'],tar[wo2]['DEC'],'b.')\n",
    "plt.plot(ral,decl,'ko')\n",
    "plt.xlim(170,180)\n",
    "plt.ylim(50,56)\n",
    "plt.show()"
   ]
  },
  {
   "cell_type": "code",
   "execution_count": 108,
   "metadata": {},
   "outputs": [],
   "source": []
  },
  {
   "cell_type": "code",
   "execution_count": 109,
   "metadata": {},
   "outputs": [
    {
     "name": "stdout",
     "output_type": "stream",
     "text": [
      "[0 1]\n"
     ]
    }
   ],
   "source": [
    "print(np.unique(tar1['NUMOBS']))"
   ]
  },
  {
   "cell_type": "code",
   "execution_count": 113,
   "metadata": {},
   "outputs": [
    {
     "data": {
      "image/png": "[encoded data removed]",
      "text/plain": [
       "<Figure size 432x288 with 1 Axes>"
      ]
     },
     "metadata": {
      "needs_background": "light"
     },
     "output_type": "display_data"
    }
   ],
   "source": []
  },
  {
   "cell_type": "code",
   "execution_count": 114,
   "metadata": {},
   "outputs": [
    {
     "data": {
      "image/png": "[encoded data removed]",
      "text/plain": [
       "<Figure size 432x288 with 1 Axes>"
      ]
     },
     "metadata": {
      "needs_background": "light"
     },
     "output_type": "display_data"
    }
   ],
   "source": []
  },
  {
   "cell_type": "code",
   "execution_count": 21,
   "metadata": {},
   "outputs": [
    {
     "data": {
      "text/plain": [
       "0"
      ]
     },
     "execution_count": 21,
     "metadata": {},
     "output_type": "execute_result"
    }
   ],
   "source": [
    "w = tar['ZWARN'] == 0\n",
    "len(tar[w])"
   ]
  },
  {
   "cell_type": "code",
   "execution_count": 22,
   "metadata": {},
   "outputs": [
    {
     "data": {
      "text/plain": [
       "array([-1])"
      ]
     },
     "execution_count": 22,
     "metadata": {},
     "output_type": "execute_result"
    }
   ],
   "source": [
    "np.unique(tar['ZWARN'])"
   ]
  },
  {
   "cell_type": "code",
   "execution_count": 23,
   "metadata": {},
   "outputs": [],
   "source": []
  },
  {
   "cell_type": "code",
   "execution_count": 24,
   "metadata": {},
   "outputs": [
    {
     "data": {
      "text/plain": [
       "<TableColumns names=('TILEID','TIMESTAMP','VERSION','PROGRAM','ZDATE')>"
      ]
     },
     "execution_count": 24,
     "metadata": {},
     "output_type": "execute_result"
    }
   ],
   "source": [
    "mtld.columns"
   ]
  },
  {
   "cell_type": "code",
   "execution_count": 26,
   "metadata": {},
   "outputs": [
    {
     "data": {
      "text/html": [
       "&lt;Column name=&apos;ZDATE&apos; dtype=&apos;str8&apos; length=3&gt;\n",
       "<table>\n",
       "<tr><td>20210324</td></tr>\n",
       "<tr><td>20210326</td></tr>\n",
       "<tr><td>20210327</td></tr>\n",
       "</table>"
      ],
      "text/plain": [
       "<Column name='ZDATE' dtype='str8' length=3>\n",
       "20210324\n",
       "20210326\n",
       "20210327"
      ]
     },
     "execution_count": 26,
     "metadata": {},
     "output_type": "execute_result"
    }
   ],
   "source": [
    "np.unique(mtld['ZDATE'])"
   ]
  },
  {
   "cell_type": "code",
   "execution_count": 27,
   "metadata": {},
   "outputs": [
    {
     "data": {
      "text/html": [
       "<i>Row index=0</i>\n",
       "<table id=\"table46913207502352\">\n",
       "<thead><tr><th>TILEID</th><th>TIMESTAMP</th><th>VERSION</th><th>PROGRAM</th><th>ZDATE</th></tr></thead>\n",
       "<thead><tr><th></th><th>s</th><th></th><th></th><th></th></tr></thead>\n",
       "<thead><tr><th>int32</th><th>str19</th><th>str6</th><th>str6</th><th>str8</th></tr></thead>\n",
       "<tr><td>81056</td><td>2021-03-26T21:20:18</td><td>0.54.0</td><td>BRIGHT</td><td>20210324</td></tr>\n",
       "</table>"
      ],
      "text/plain": [
       "<Row index=0>\n",
       "TILEID      TIMESTAMP      VERSION PROGRAM  ZDATE  \n",
       "                s                                  \n",
       "int32         str19          str6    str6    str8  \n",
       "------ ------------------- ------- ------- --------\n",
       " 81056 2021-03-26T21:20:18  0.54.0  BRIGHT 20210324"
      ]
     },
     "execution_count": 27,
     "metadata": {},
     "output_type": "execute_result"
    }
   ],
   "source": [
    "mtld[0]"
   ]
  },
  {
   "cell_type": "code",
   "execution_count": 54,
   "metadata": {},
   "outputs": [
    {
     "data": {
      "text/html": [
       "&lt;Column name=&apos;TIMESTAMP&apos; dtype=&apos;str19&apos; unit=&apos;s&apos; length=2&gt;\n",
       "<table>\n",
       "<tr><td>2021-03-26T21:20:18</td></tr>\n",
       "<tr><td>2021-03-29T20:16:40</td></tr>\n",
       "</table>"
      ],
      "text/plain": [
       "<Column name='TIMESTAMP' dtype='str19' unit='s' length=2>\n",
       "2021-03-26T21:20:18\n",
       "2021-03-29T20:16:40"
      ]
     },
     "execution_count": 54,
     "metadata": {},
     "output_type": "execute_result"
    }
   ],
   "source": [
    "np.unique(mtld['TIMESTAMP'])"
   ]
  },
  {
   "cell_type": "code",
   "execution_count": 118,
   "metadata": {},
   "outputs": [
    {
     "name": "stdout",
     "output_type": "stream",
     "text": [
      "did not find /global/cfs/cdirs/desi/spectro/redux/daily/tiles/cumulative/81056/20210324/zbest-6-81056-thru20210324.fits\n",
      "81056 4500 3130\n",
      "did not find /global/cfs/cdirs/desi/spectro/redux/daily/tiles/cumulative/81057/20210324/zbest-6-81057-thru20210324.fits\n",
      "81057 9000 6287\n",
      "did not find /global/cfs/cdirs/desi/spectro/redux/daily/tiles/cumulative/81058/20210324/zbest-6-81058-thru20210324.fits\n",
      "81058 13500 9436\n",
      "did not find /global/cfs/cdirs/desi/spectro/redux/daily/tiles/cumulative/81059/20210324/zbest-6-81059-thru20210324.fits\n",
      "81059 18000 12541\n",
      "did not find /global/cfs/cdirs/desi/spectro/redux/daily/tiles/cumulative/81060/20210324/zbest-6-81060-thru20210324.fits\n",
      "81060 22500 15734\n",
      "did not find /global/cfs/cdirs/desi/spectro/redux/daily/tiles/cumulative/81061/20210324/zbest-6-81061-thru20210324.fits\n",
      "81061 27000 18912\n",
      "did not find /global/cfs/cdirs/desi/spectro/redux/daily/tiles/cumulative/81062/20210327/zbest-6-81062-thru20210327.fits\n",
      "81062 31500 22271\n",
      "did not find /global/cfs/cdirs/desi/spectro/redux/daily/tiles/cumulative/81063/20210327/zbest-6-81063-thru20210327.fits\n",
      "81063 36000 25694\n",
      "did not find /global/cfs/cdirs/desi/spectro/redux/daily/tiles/cumulative/81064/20210327/zbest-6-81064-thru20210327.fits\n",
      "81064 40500 29039\n",
      "did not find /global/cfs/cdirs/desi/spectro/redux/daily/tiles/cumulative/81065/20210327/zbest-6-81065-thru20210327.fits\n",
      "81065 45000 32347\n",
      "did not find /global/cfs/cdirs/desi/spectro/redux/daily/tiles/cumulative/81066/20210326/zbest-6-81066-thru20210326.fits\n",
      "81066 49500 35633\n",
      "did not find /global/cfs/cdirs/desi/spectro/redux/daily/tiles/cumulative/81067/20210327/zbest-6-81067-thru20210327.fits\n",
      "81067 54000 38980\n"
     ]
    }
   ],
   "source": []
  },
  {
   "cell_type": "code",
   "execution_count": 152,
   "metadata": {},
   "outputs": [],
   "source": []
  },
  {
   "cell_type": "code",
   "execution_count": 136,
   "metadata": {},
   "outputs": [],
   "source": [
    "ztar2 = join(tar,zf,keys=['TARGETID'])"
   ]
  },
  {
   "cell_type": "code",
   "execution_count": 154,
   "metadata": {},
   "outputs": [
    {
     "data": {
      "text/plain": [
       "157648"
      ]
     },
     "execution_count": 154,
     "metadata": {},
     "output_type": "execute_result"
    }
   ],
   "source": [
    "#len(np.unique(ztar['TARGETID']))\n",
    "len(ztar)"
   ]
  },
  {
   "cell_type": "code",
   "execution_count": 129,
   "metadata": {},
   "outputs": [],
   "source": [
    "plt.plot(tar['RA'],tar['DEC'],'k,')\n",
    "plt.plot()"
   ]
  },
  {
   "cell_type": "code",
   "execution_count": 156,
   "metadata": {},
   "outputs": [
    {
     "data": {
      "text/plain": [
       "36022"
      ]
     },
     "execution_count": 156,
     "metadata": {},
     "output_type": "execute_result"
    }
   ],
   "source": [
    "wz = ztar['Z']*0 == 0\n",
    "len(ztar[wz])"
   ]
  },
  {
   "cell_type": "code",
   "execution_count": 159,
   "metadata": {},
   "outputs": [
    {
     "data": {
      "text/plain": [
       "379"
      ]
     },
     "execution_count": 159,
     "metadata": {},
     "output_type": "execute_result"
    }
   ],
   "source": [
    "len(ztar[wo2])"
   ]
  },
  {
   "cell_type": "code",
   "execution_count": 158,
   "metadata": {},
   "outputs": [
    {
     "data": {
      "text/plain": [
       "(array([282., 119., 266., 417., 323., 324., 338., 389., 436., 371., 357.,\n",
       "        599., 391., 363., 468., 332., 311., 259., 136., 158., 149., 117.,\n",
       "         91.,  62.,  77.,  82.,  43.,  32.,  23.,  15.]),\n",
       " array([0.  , 0.02, 0.04, 0.06, 0.08, 0.1 , 0.12, 0.14, 0.16, 0.18, 0.2 ,\n",
       "        0.22, 0.24, 0.26, 0.28, 0.3 , 0.32, 0.34, 0.36, 0.38, 0.4 , 0.42,\n",
       "        0.44, 0.46, 0.48, 0.5 , 0.52, 0.54, 0.56, 0.58, 0.6 ]),\n",
       " <a list of 30 Patch objects>)"
      ]
     },
     "execution_count": 158,
     "metadata": {},
     "output_type": "execute_result"
    },
    {
     "data": {
      "image/png": "[encoded data removed]",
      "text/plain": [
       "<Figure size 432x288 with 1 Axes>"
      ]
     },
     "metadata": {
      "needs_background": "light"
     },
     "output_type": "display_data"
    }
   ],
   "source": [
    "plt.hist(ztar[wo]['Z'],bins=30,range=(0,.6))"
   ]
  },
  {
   "cell_type": "code",
   "execution_count": 130,
   "metadata": {},
   "outputs": [
    {
     "data": {
      "text/plain": [
       "158027"
      ]
     },
     "execution_count": 130,
     "metadata": {},
     "output_type": "execute_result"
    }
   ],
   "source": [
    "len(ztar)"
   ]
  },
  {
   "cell_type": "code",
   "execution_count": 133,
   "metadata": {},
   "outputs": [
    {
     "data": {
      "text/plain": [
       "54000"
      ]
     },
     "execution_count": 133,
     "metadata": {},
     "output_type": "execute_result"
    }
   ],
   "source": [
    "len(zf)\n",
    "wz = zf['ZWARN']*0 == 0\n",
    "len(zf[wz])"
   ]
  },
  {
   "cell_type": "code",
   "execution_count": 135,
   "metadata": {},
   "outputs": [
    {
     "data": {
      "text/plain": [
       "53257"
      ]
     },
     "execution_count": 135,
     "metadata": {},
     "output_type": "execute_result"
    }
   ],
   "source": [
    "len(np.unique(zf['TARGETID']))"
   ]
  },
  {
   "cell_type": "code",
   "execution_count": 69,
   "metadata": {},
   "outputs": [
    {
     "data": {
      "text/plain": [
       "('TARGETID',\n",
       " 'CHI2',\n",
       " 'COEFF',\n",
       " 'Z',\n",
       " 'ZERR',\n",
       " 'ZWARN',\n",
       " 'NPIXELS',\n",
       " 'SPECTYPE',\n",
       " 'SUBTYPE',\n",
       " 'NCOEFF',\n",
       " 'DELTACHI2',\n",
       " 'NUMEXP',\n",
       " 'NUMTILE')"
      ]
     },
     "execution_count": 69,
     "metadata": {},
     "output_type": "execute_result"
    }
   ],
   "source": [
    "z0.dtype.names"
   ]
  },
  {
   "cell_type": "code",
   "execution_count": 43,
   "metadata": {},
   "outputs": [
    {
     "data": {
      "text/plain": [
       "('RA',\n",
       " 'DEC',\n",
       " 'REF_EPOCH',\n",
       " 'PARALLAX',\n",
       " 'PMRA',\n",
       " 'PMDEC',\n",
       " 'TARGETID',\n",
       " 'SV2_DESI_TARGET',\n",
       " 'SV2_BGS_TARGET',\n",
       " 'SV2_MWS_TARGET',\n",
       " 'SUBPRIORITY',\n",
       " 'OBSCONDITIONS',\n",
       " 'PRIORITY_INIT',\n",
       " 'NUMOBS_INIT',\n",
       " 'SV2_SCND_TARGET',\n",
       " 'NUMOBS_MORE',\n",
       " 'NUMOBS',\n",
       " 'Z',\n",
       " 'ZWARN',\n",
       " 'ZTILEID',\n",
       " 'TARGET_STATE',\n",
       " 'TIMESTAMP',\n",
       " 'VERSION',\n",
       " 'PRIORITY')"
      ]
     },
     "execution_count": 43,
     "metadata": {},
     "output_type": "execute_result"
    }
   ],
   "source": [
    "tarp.dtype.names"
   ]
  },
  {
   "cell_type": "code",
   "execution_count": 46,
   "metadata": {},
   "outputs": [],
   "source": [
    "from desitarget.mtl import inflate_ledger"
   ]
  },
  {
   "cell_type": "code",
   "execution_count": 52,
   "metadata": {},
   "outputs": [],
   "source": [
    "tari = inflate_ledger(tar,tdir)"
   ]
  },
  {
   "cell_type": "code",
   "execution_count": 49,
   "metadata": {},
   "outputs": [
    {
     "data": {
      "text/plain": [
       "'/global/cfs/cdirs/desi/survey/ops/surveyops/trunk/mtl/sv2/bright/'"
      ]
     },
     "execution_count": 49,
     "metadata": {},
     "output_type": "execute_result"
    }
   ],
   "source": [
    "mdir"
   ]
  },
  {
   "cell_type": "code",
   "execution_count": 53,
   "metadata": {},
   "outputs": [
    {
     "data": {
      "text/plain": [
       "('RELEASE',\n",
       " 'BRICKID',\n",
       " 'BRICKNAME',\n",
       " 'BRICK_OBJID',\n",
       " 'MORPHTYPE',\n",
       " 'RA',\n",
       " 'RA_IVAR',\n",
       " 'DEC',\n",
       " 'DEC_IVAR',\n",
       " 'DCHISQ',\n",
       " 'EBV',\n",
       " 'FLUX_G',\n",
       " 'FLUX_R',\n",
       " 'FLUX_Z',\n",
       " 'FLUX_IVAR_G',\n",
       " 'FLUX_IVAR_R',\n",
       " 'FLUX_IVAR_Z',\n",
       " 'MW_TRANSMISSION_G',\n",
       " 'MW_TRANSMISSION_R',\n",
       " 'MW_TRANSMISSION_Z',\n",
       " 'FRACFLUX_G',\n",
       " 'FRACFLUX_R',\n",
       " 'FRACFLUX_Z',\n",
       " 'FRACMASKED_G',\n",
       " 'FRACMASKED_R',\n",
       " 'FRACMASKED_Z',\n",
       " 'FRACIN_G',\n",
       " 'FRACIN_R',\n",
       " 'FRACIN_Z',\n",
       " 'NOBS_G',\n",
       " 'NOBS_R',\n",
       " 'NOBS_Z',\n",
       " 'PSFDEPTH_G',\n",
       " 'PSFDEPTH_R',\n",
       " 'PSFDEPTH_Z',\n",
       " 'GALDEPTH_G',\n",
       " 'GALDEPTH_R',\n",
       " 'GALDEPTH_Z',\n",
       " 'FLUX_W1',\n",
       " 'FLUX_W2',\n",
       " 'FLUX_W3',\n",
       " 'FLUX_W4',\n",
       " 'FLUX_IVAR_W1',\n",
       " 'FLUX_IVAR_W2',\n",
       " 'FLUX_IVAR_W3',\n",
       " 'FLUX_IVAR_W4',\n",
       " 'MW_TRANSMISSION_W1',\n",
       " 'MW_TRANSMISSION_W2',\n",
       " 'MW_TRANSMISSION_W3',\n",
       " 'MW_TRANSMISSION_W4',\n",
       " 'ALLMASK_G',\n",
       " 'ALLMASK_R',\n",
       " 'ALLMASK_Z',\n",
       " 'FIBERFLUX_G',\n",
       " 'FIBERFLUX_R',\n",
       " 'FIBERFLUX_Z',\n",
       " 'FIBERTOTFLUX_G',\n",
       " 'FIBERTOTFLUX_R',\n",
       " 'FIBERTOTFLUX_Z',\n",
       " 'REF_EPOCH',\n",
       " 'WISEMASK_W1',\n",
       " 'WISEMASK_W2',\n",
       " 'MASKBITS',\n",
       " 'LC_FLUX_W1',\n",
       " 'LC_FLUX_W2',\n",
       " 'LC_FLUX_IVAR_W1',\n",
       " 'LC_FLUX_IVAR_W2',\n",
       " 'LC_NOBS_W1',\n",
       " 'LC_NOBS_W2',\n",
       " 'LC_MJD_W1',\n",
       " 'LC_MJD_W2',\n",
       " 'SHAPE_R',\n",
       " 'SHAPE_E1',\n",
       " 'SHAPE_E2',\n",
       " 'SHAPE_R_IVAR',\n",
       " 'SHAPE_E1_IVAR',\n",
       " 'SHAPE_E2_IVAR',\n",
       " 'SERSIC',\n",
       " 'SERSIC_IVAR',\n",
       " 'REF_ID',\n",
       " 'REF_CAT',\n",
       " 'GAIA_PHOT_G_MEAN_MAG',\n",
       " 'GAIA_PHOT_G_MEAN_FLUX_OVER_ERROR',\n",
       " 'GAIA_PHOT_BP_MEAN_MAG',\n",
       " 'GAIA_PHOT_BP_MEAN_FLUX_OVER_ERROR',\n",
       " 'GAIA_PHOT_RP_MEAN_MAG',\n",
       " 'GAIA_PHOT_RP_MEAN_FLUX_OVER_ERROR',\n",
       " 'GAIA_PHOT_BP_RP_EXCESS_FACTOR',\n",
       " 'GAIA_ASTROMETRIC_EXCESS_NOISE',\n",
       " 'GAIA_DUPLICATED_SOURCE',\n",
       " 'GAIA_ASTROMETRIC_SIGMA5D_MAX',\n",
       " 'GAIA_ASTROMETRIC_PARAMS_SOLVED',\n",
       " 'PARALLAX',\n",
       " 'PARALLAX_IVAR',\n",
       " 'PMRA',\n",
       " 'PMRA_IVAR',\n",
       " 'PMDEC',\n",
       " 'PMDEC_IVAR',\n",
       " 'PHOTSYS',\n",
       " 'TARGETID',\n",
       " 'SV2_DESI_TARGET',\n",
       " 'SV2_BGS_TARGET',\n",
       " 'SV2_MWS_TARGET',\n",
       " 'SUBPRIORITY',\n",
       " 'OBSCONDITIONS',\n",
       " 'PRIORITY_INIT',\n",
       " 'NUMOBS_INIT',\n",
       " 'HPXPIXEL',\n",
       " 'SV2_SCND_TARGET',\n",
       " 'NUMOBS_MORE',\n",
       " 'NUMOBS',\n",
       " 'Z',\n",
       " 'ZWARN',\n",
       " 'ZTILEID',\n",
       " 'TARGET_STATE',\n",
       " 'TIMESTAMP',\n",
       " 'VERSION',\n",
       " 'PRIORITY')"
      ]
     },
     "execution_count": 53,
     "metadata": {},
     "output_type": "execute_result"
    }
   ],
   "source": [
    "tari.dtype.names"
   ]
  },
  {
   "cell_type": "code",
   "execution_count": 55,
   "metadata": {},
   "outputs": [
    {
     "data": {
      "text/plain": [
       "array([0, 1])"
      ]
     },
     "execution_count": 55,
     "metadata": {},
     "output_type": "execute_result"
    }
   ],
   "source": [
    "np.unique(tar['NUMOBS_MORE'])"
   ]
  },
  {
   "cell_type": "code",
   "execution_count": 61,
   "metadata": {},
   "outputs": [
    {
     "data": {
      "text/plain": [
       "[<matplotlib.lines.Line2D at 0x2aaadd9120a0>]"
      ]
     },
     "execution_count": 61,
     "metadata": {},
     "output_type": "execute_result"
    },
    {
     "data": {
      "image/png": "[encoded data removed]",
      "text/plain": [
       "<Figure size 432x288 with 1 Axes>"
      ]
     },
     "metadata": {
      "needs_background": "light"
     },
     "output_type": "display_data"
    }
   ],
   "source": [
    "w = tar['NUMOBS_MORE'] == 0\n",
    "\n",
    "plt.plot(tar['RA'][wt],tar['DEC'][wt],'bo')\n",
    "plt.plot(tar['RA'][wt&w],tar['DEC'][wt&w],'ro')"
   ]
  },
  {
   "cell_type": "code",
   "execution_count": 58,
   "metadata": {},
   "outputs": [
    {
     "data": {
      "text/plain": [
       "array([(168.98753324, 50.84939481, 2015.5, 0.39154738,  -1.1197684, -4.096409, 39633259549687989, 42949672960, 0, 0, 0.4308946 , 7, -1, -1, 0, 0, 0, -1., -1, -1, 'CALIB', '2021-03-18T23:11:27', '0.53.0', 0),\n",
       "       (170.7348222 , 50.37833763, 2015.5, 0.38275424,   2.8088198, -8.298147, 39633255720289739, 42949672960, 0, 0, 0.19171284, 7, -1, -1, 0, 0, 0, -1., -1, -1, 'CALIB', '2021-03-18T23:11:27', '0.53.0', 0),\n",
       "       (170.63031623, 51.21042137, 2015.5, 0.29866326, -19.789991 , -5.215297, 39633267195905594, 42949672960, 0, 0, 0.5963911 , 7, -1, -1, 0, 0, 0, -1., -1, -1, 'CALIB', '2021-03-18T23:11:27', '0.53.0', 0)],\n",
       "      dtype=[('RA', '<f8'), ('DEC', '<f8'), ('REF_EPOCH', '<f4'), ('PARALLAX', '<f4'), ('PMRA', '<f4'), ('PMDEC', '<f4'), ('TARGETID', '<i8'), ('SV2_DESI_TARGET', '<i8'), ('SV2_BGS_TARGET', '<i8'), ('SV2_MWS_TARGET', '<i8'), ('SUBPRIORITY', '<f8'), ('OBSCONDITIONS', '<i4'), ('PRIORITY_INIT', '<i8'), ('NUMOBS_INIT', '<i8'), ('SV2_SCND_TARGET', '<i8'), ('NUMOBS_MORE', '<i8'), ('NUMOBS', '<i8'), ('Z', '<f8'), ('ZWARN', '<i8'), ('ZTILEID', '<i4'), ('TARGET_STATE', '<U16'), ('TIMESTAMP', '<U19'), ('VERSION', '<U14'), ('PRIORITY', '<i8')])"
      ]
     },
     "execution_count": 58,
     "metadata": {},
     "output_type": "execute_result"
    }
   ],
   "source": [
    "tar[w]"
   ]
  },
  {
   "cell_type": "code",
   "execution_count": 59,
   "metadata": {},
   "outputs": [
    {
     "data": {
      "text/plain": [
       "12581"
      ]
     },
     "execution_count": 59,
     "metadata": {},
     "output_type": "execute_result"
    }
   ],
   "source": [
    "wt = tar['SV2_BGS_TARGET'] > 0\n",
    "len(tar[wt])"
   ]
  },
  {
   "cell_type": "code",
   "execution_count": 60,
   "metadata": {},
   "outputs": [
    {
     "data": {
      "text/plain": [
       "18333"
      ]
     },
     "execution_count": 60,
     "metadata": {},
     "output_type": "execute_result"
    }
   ],
   "source": [
    "len(tar)"
   ]
  },
  {
   "cell_type": "code",
   "execution_count": 62,
   "metadata": {},
   "outputs": [
    {
     "data": {
      "text/plain": [
       "0"
      ]
     },
     "execution_count": 62,
     "metadata": {},
     "output_type": "execute_result"
    }
   ],
   "source": [
    "len(tar[wt&w])"
   ]
  },
  {
   "cell_type": "code",
   "execution_count": 83,
   "metadata": {},
   "outputs": [
    {
     "name": "stdout",
     "output_type": "stream",
     "text": [
      "2021-03-26T21:20:18 0\n",
      "[2000 2100]\n",
      "[1]\n",
      "[0]\n",
      "['BGS|UNOBS']\n",
      "2021-03-29T20:16:40 153\n",
      "[   2 1000 2000 2100]\n",
      "[0 1]\n",
      "[0 1]\n",
      "['BGS|MORE_ZGOOD' 'BGS|MORE_ZWARN' 'BGS|UNOBS']\n"
     ]
    }
   ],
   "source": [
    "for time in np.unique(mtld['TIMESTAMP']):\n",
    "    tart = read_targets_in_tiles(mdir,ta,mtl=True,isodate=time)\n",
    "    wt = tart['SV2_BGS_TARGET'] > 0\n",
    "    wd = tart['NUMOBS_MORE'] == 0\n",
    "    print(time, len(tart[wt&wd]))\n",
    "    print(np.unique(tart[wt]['PRIORITY']))\n",
    "    print(np.unique(tart[wt]['NUMOBS_MORE']))\n",
    "    print(np.unique(tart[wt]['NUMOBS']))\n",
    "    print(np.unique(tart[wt]['TARGET_STATE']))\n",
    "    #plt.show()"
   ]
  },
  {
   "cell_type": "code",
   "execution_count": 81,
   "metadata": {},
   "outputs": [],
   "source": [
    "wp = tart['PRIORITY'] < 2000\n",
    "wo = tart['NUMOBS'] > 0"
   ]
  },
  {
   "cell_type": "code",
   "execution_count": 77,
   "metadata": {},
   "outputs": [
    {
     "data": {
      "text/plain": [
       "[<matplotlib.lines.Line2D at 0x2aaaddb92220>]"
      ]
     },
     "execution_count": 77,
     "metadata": {},
     "output_type": "execute_result"
    },
    {
     "data": {
      "image/png": "[encoded data removed]",
      "text/plain": [
       "<Figure size 432x288 with 1 Axes>"
      ]
     },
     "metadata": {
      "needs_background": "light"
     },
     "output_type": "display_data"
    }
   ],
   "source": [
    "plt.plot(tart['RA'][wt],tart['DEC'][wt],'bo')\n",
    "plt.plot(tart['RA'][wt&wd],tart['DEC'][wt&wd],'ro')\n",
    "plt.plot(tart['RA'][wt&wp],tart['DEC'][wt&wp],'go')"
   ]
  },
  {
   "cell_type": "code",
   "execution_count": 71,
   "metadata": {},
   "outputs": [
    {
     "data": {
      "text/plain": [
       "12581"
      ]
     },
     "execution_count": 71,
     "metadata": {},
     "output_type": "execute_result"
    }
   ],
   "source": [
    "len(tart[wt])"
   ]
  },
  {
   "cell_type": "code",
   "execution_count": 82,
   "metadata": {},
   "outputs": [
    {
     "data": {
      "text/plain": [
       "2787"
      ]
     },
     "execution_count": 82,
     "metadata": {},
     "output_type": "execute_result"
    }
   ],
   "source": [
    "len(tart[wt&wo])"
   ]
  },
  {
   "cell_type": "code",
   "execution_count": 85,
   "metadata": {},
   "outputs": [
    {
     "name": "stdout",
     "output_type": "stream",
     "text": [
      "BGS|MORE_ZGOOD [1000]\n",
      "BGS|MORE_ZWARN [2]\n",
      "BGS|UNOBS [2000 2100]\n"
     ]
    }
   ],
   "source": [
    "for ts in ['BGS|MORE_ZGOOD','BGS|MORE_ZWARN','BGS|UNOBS']:\n",
    "    ws = tart['TARGET_STATE'] == ts\n",
    "    print(ts,np.unique(tart[wt&ws]['PRIORITY']))"
   ]
  },
  {
   "cell_type": "code",
   "execution_count": null,
   "metadata": {},
   "outputs": [],
   "source": [
    "#how to remove a named column from a np array\n",
    "#tar = tar[[b for b in list(tar.dtype.names) if b != 'Z']]"
   ]
  }
 ],
 "metadata": {
  "kernelspec": {
   "display_name": "DESI master",
   "language": "python",
   "name": "desi-master"
  },
  "language_info": {
   "codemirror_mode": {
    "name": "ipython",
    "version": 3
   },
   "file_extension": ".py",
   "mimetype": "text/x-python",
   "name": "python",
   "nbconvert_exporter": "python",
   "pygments_lexer": "ipython3",
   "version": "3.8.3"
  }
 },
 "nbformat": 4,
 "nbformat_minor": 4
}
