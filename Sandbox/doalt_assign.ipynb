{
 "cells": [
  {
   "cell_type": "code",
   "execution_count": 1,
   "id": "099e3c85-d6c5-4c1a-936e-63289b0b63d9",
   "metadata": {},
   "outputs": [],
   "source": [
    "import fitsio\n",
    "# system\n",
    "import os\n",
    "import subprocess\n",
    "import sys\n",
    "import tempfile\n",
    "import shutil\n",
    "import re\n",
    "import sys"
   ]
  },
  {
   "cell_type": "code",
   "execution_count": 2,
   "id": "beac7d3c-21bf-41fd-8315-de17ff1806b8",
   "metadata": {},
   "outputs": [],
   "source": [
    "import numpy as np\n",
    "from astropy.table import Table,join"
   ]
  },
  {
   "cell_type": "code",
   "execution_count": 3,
   "id": "72e2ac32-e307-41e4-9b82-d0ea29eb0f98",
   "metadata": {},
   "outputs": [],
   "source": [
    "os.chdir('../py/LSS/SV3')"
   ]
  },
  {
   "cell_type": "code",
   "execution_count": 4,
   "id": "ac73d091-f537-4be2-9916-3fda26322159",
   "metadata": {},
   "outputs": [
    {
     "data": {
      "text/plain": [
       "'/global/u2/a/ajross/LSS/py/LSS/SV3'"
      ]
     },
     "execution_count": 4,
     "metadata": {},
     "output_type": "execute_result"
    }
   ],
   "source": [
    "os.getcwd()"
   ]
  },
  {
   "cell_type": "code",
   "execution_count": 4,
   "id": "1bca73e2-2520-4843-b11e-398e7d2ac9c2",
   "metadata": {},
   "outputs": [],
   "source": [
    "sys.path.append('../py/')"
   ]
  },
  {
   "cell_type": "code",
   "execution_count": 40,
   "id": "903de43a-4aaa-489c-990e-49290ae782aa",
   "metadata": {},
   "outputs": [],
   "source": [
    "import fatools as fa"
   ]
  },
  {
   "cell_type": "code",
   "execution_count": 57,
   "id": "12746ffc-bac4-4d8b-939c-6e9a86ec0ebe",
   "metadata": {},
   "outputs": [
    {
     "data": {
      "text/plain": [
       "<module 'fatools' from '/global/u2/a/ajross/LSS/py/LSS/SV3/fatools.py'>"
      ]
     },
     "execution_count": 57,
     "metadata": {},
     "output_type": "execute_result"
    }
   ],
   "source": [
    "#only needed when wanting to re-load during development\n",
    "import importlib\n",
    "importlib.reload(fa)"
   ]
  },
  {
   "cell_type": "code",
   "execution_count": 59,
   "id": "6deb2422-deec-4190-aa24-9d066337ba52",
   "metadata": {},
   "outputs": [
    {
     "name": "stdout",
     "output_type": "stream",
     "text": [
      "/global/cscratch1/sd/ajross/testsv3fiberassign/\n"
     ]
    }
   ],
   "source": [
    "outdir=os.environ['CSCRATCH']+'/testsv3fiberassign/'\n",
    "#'/global/cfs/cdirs/desi/survey/catalogs/testfiberassign/SV3rerun/orig/'\n",
    "print(outdir)\n",
    "if os.path.isdir(outdir) == False:\n",
    "    os.mkdir(outdir)\n",
    "outdirrun = outdir+'orig/' #if option is used to reproduce originals, which is default, 'orig' gets added to the path\n",
    "if os.path.isdir(outdirrun) == False:\n",
    "    os.mkdir(outdirrun)\n",
    "    "
   ]
  },
  {
   "cell_type": "code",
   "execution_count": 62,
   "id": "b3b6795a-006a-48fc-97d5-8175e4b28dc2",
   "metadata": {},
   "outputs": [
    {
     "name": "stdout",
     "output_type": "stream",
     "text": [
      "/global/cfs/cdirs/desi/survey/fiberassign/SV3/20210405/\n",
      "/global/cscratch1/sd/ajross/testsv3fiberassign/orig/fa-000001.sh\n",
      "4444\n",
      "4444\n",
      "4444\n",
      "1 True\n",
      "/global/cfs/cdirs/desi/users/forero/SV3/20210407/\n",
      "/global/cscratch1/sd/ajross/testsv3fiberassign/orig/fa-000002.sh\n",
      "4455\n",
      "4455\n",
      "4455\n",
      "2 True\n",
      "/global/cfs/cdirs/desi/survey/fiberassign/SV3/20210408/\n",
      "/global/cscratch1/sd/ajross/testsv3fiberassign/orig/fa-000003.sh\n",
      "4450\n",
      "4450\n",
      "4450\n",
      "3 True\n",
      "/global/cfs/cdirs/desi/survey/fiberassign/SV3/20210410/\n",
      "/global/cscratch1/sd/ajross/testsv3fiberassign/orig/fa-000004.sh\n",
      "4467\n",
      "4467\n",
      "4467\n",
      "4 True\n",
      "/global/cfs/cdirs/desi/survey/fiberassign/SV3/20210411/\n",
      "/global/cscratch1/sd/ajross/testsv3fiberassign/orig/fa-000005.sh\n",
      "4441\n",
      "4441\n",
      "4441\n",
      "5 True\n",
      "/global/cfs/cdirs/desi/survey/fiberassign/SV3/20210413/\n",
      "/global/cscratch1/sd/ajross/testsv3fiberassign/orig/fa-000006.sh\n",
      "4287\n",
      "4287\n",
      "4287\n",
      "6 True\n",
      "/global/cfs/cdirs/desi/survey/fiberassign/SV3/20210418/\n",
      "/global/cscratch1/sd/ajross/testsv3fiberassign/orig/fa-000007.sh\n",
      "4280\n",
      "4280\n",
      "4280\n",
      "7 True\n",
      "/global/cfs/cdirs/desi/survey/fiberassign/SV3/20210430/\n",
      "will be using too file /global/cfs/cdirs/desi/survey/fiberassign/SV3/20210430/000008-too.fits\n",
      "/global/cscratch1/sd/ajross/testsv3fiberassign/orig/fa-000008.sh\n",
      "4288\n",
      "4288\n",
      "4288\n",
      "8 True\n",
      "/global/cfs/cdirs/desi/survey/fiberassign/SV3/20210501/\n",
      "will be using too file /global/cfs/cdirs/desi/survey/fiberassign/SV3/20210501/000009-too.fits\n",
      "/global/cscratch1/sd/ajross/testsv3fiberassign/orig/fa-000009.sh\n",
      "4109\n",
      "4109\n",
      "4109\n",
      "9 True\n",
      "/global/cfs/cdirs/desi/survey/fiberassign/SV3/20210503/\n",
      "will be using too file /global/cfs/cdirs/desi/survey/fiberassign/SV3/20210503/000010-too.fits\n",
      "/global/cscratch1/sd/ajross/testsv3fiberassign/orig/fa-000010.sh\n",
      "4108\n",
      "4108\n",
      "4108\n",
      "10 True\n",
      "/global/cfs/cdirs/desi/survey/fiberassign/SV3/20210504/\n",
      "will be using too file /global/cfs/cdirs/desi/survey/fiberassign/SV3/20210504/000011-too.fits\n",
      "/global/cscratch1/sd/ajross/testsv3fiberassign/orig/fa-000011.sh\n",
      "4109\n",
      "4109\n",
      "4109\n",
      "11 True\n"
     ]
    }
   ],
   "source": [
    "#this reproduces the first 11 fiberassign results and tests to see if they match the original\n",
    "for tile in range(1,12):\n",
    "    ts = str(tile).zfill(6)\n",
    "    fbaf = '/global/cfs/cdirs/desi/target/fiberassign/tiles/trunk/'+ts[:3]+'/fiberassign-'+ts+'.fits.gz'\n",
    "    if os.path.isfile(fbaf):\n",
    "        fa.get_fba_fromnewmtl(tile,outdir=outdir)\n",
    "        os.system('rm '+outdirrun+'fba-'+ts+'.fits')\n",
    "        os.system('chmod +x '+outdirrun+'*.sh')       \n",
    "        print(outdirrun+'fa-'+ts+'.sh')\n",
    "        os.system(outdirrun+'fa-'+ts+'.sh')\n",
    "        t = fa.comp_neworig(tile,dirn=outdirrun)\n",
    "        print(tile,t)\n",
    "    #break"
   ]
  },
  {
   "cell_type": "markdown",
   "id": "da01eb93-fc7d-4ba8-ab65-a16d93e7cd64",
   "metadata": {},
   "source": [
    "## Below here are random tests not completely linked with above"
   ]
  },
  {
   "cell_type": "code",
   "execution_count": 32,
   "id": "f91e851e-503a-4a96-ab7e-57301a996fe0",
   "metadata": {},
   "outputs": [
    {
     "data": {
      "text/plain": [
       "210418"
      ]
     },
     "execution_count": 32,
     "metadata": {},
     "output_type": "execute_result"
    }
   ],
   "source": [
    "int('/global/cfs/cdirs/desi/survey/fiberassign/SV3/20210418/'[-7:-1])"
   ]
  },
  {
   "cell_type": "code",
   "execution_count": 8,
   "id": "43ebe0b9-08a8-4c05-a872-5ed93cb8dfc6",
   "metadata": {},
   "outputs": [
    {
     "name": "stdout",
     "output_type": "stream",
     "text": [
      "/global/cfs/cdirs/desi/survey/fiberassign/SV3/20210506/\n",
      "will be using too file /global/cfs/cdirs/desi/survey/fiberassign/SV3/20210506/000469-too.fits\n",
      "/global/cfs/cdirs/desi/survey/catalogs/testfiberassign/SV3rerun/orig/fa-000469.sh\n",
      "4207\n",
      "4207\n",
      "3758\n",
      "469 False\n"
     ]
    }
   ],
   "source": [
    "outdir='/global/cfs/cdirs/desi/survey/catalogs/testfiberassign/SV3rerun/orig/'\n",
    "for tile in range(469,470):\n",
    "    ts = str(tile).zfill(6)\n",
    "    fbaf = '/global/cfs/cdirs/desi/target/fiberassign/tiles/trunk/'+ts[:3]+'/fiberassign-'+ts+'.fits.gz'\n",
    "    if os.path.isfile(fbaf):\n",
    "        fa.redo_fba_fromorig(tile,outdir=outdir)#,faver='2.5.1')\n",
    "        os.system('rm '+outdir+'fba-'+ts+'.fits')\n",
    "        os.system('chmod +x '+outdir+'*.sh')\n",
    "        #stream = os.popen(outdir+'fa-'+ts+'.sh')\n",
    "        #output = stream.read()\n",
    "        #print(output)        \n",
    "        print(outdir+'fa-'+ts+'.sh')\n",
    "        os.system(outdir+'fa-'+ts+'.sh')\n",
    "        t = fa.comp_neworig(tile)\n",
    "        print(tile,t)\n",
    "        \n",
    "    "
   ]
  },
  {
   "cell_type": "code",
   "execution_count": null,
   "id": "93ecb924-7f2b-47bf-8785-a708a560f1a8",
   "metadata": {},
   "outputs": [],
   "source": [
    "for tile in bt:\n",
    "    ts = str(tile).zfill(6)\n",
    "    fbaf = '/global/cfs/cdirs/desi/target/fiberassign/tiles/trunk/'+ts[:3]+'/fiberassign-'+ts+'.fits.gz'\n",
    "    os.system('fba_rerun --infiberassign '+fbaf+' --outdir /global/cfs/cdirs/desi/survey/catalogs/testfiberassign/SV3rerun/')\n",
    "    print(tile)"
   ]
  },
  {
   "cell_type": "code",
   "execution_count": 20,
   "id": "98388102-09f5-4d50-b777-5e9af250432f",
   "metadata": {},
   "outputs": [
    {
     "name": "stdout",
     "output_type": "stream",
     "text": [
      "['2.2.0.dev2811' '2.4.0' '3.0.0' '4.0.0']\n",
      "['2.2.0.dev2811' '2.3.0' '2.3.0.dev2838' '2.5.0' '2.5.1']\n"
     ]
    }
   ],
   "source": [
    "print(np.unique(bv))\n",
    "print(np.unique(gv))"
   ]
  },
  {
   "cell_type": "code",
   "execution_count": 13,
   "id": "d163cff5-7514-44a7-a042-a883b6ed7711",
   "metadata": {},
   "outputs": [
    {
     "name": "stdout",
     "output_type": "stream",
     "text": [
      "['2021-04-07T22:48:49' '2021-04-07T22:48:50' '2021-04-08T17:17:36'\n",
      " '2021-04-08T17:17:37' '2021-04-08T17:17:38' '2021-04-08T17:17:39'\n",
      " '2021-04-09T17:50:20' '2021-04-10T21:28:37' '2021-04-11T21:29:43'\n",
      " '2021-04-11T21:29:44' '2021-04-11T21:29:45' '2021-04-11T21:29:46'\n",
      " '2021-04-11T21:29:47' '2021-04-11T21:29:48' '2021-04-12T22:53:58'\n",
      " '2021-04-13T23:27:13' '2021-04-13T23:27:14' '2021-05-06T21:45:35+00:00'\n",
      " '2021-05-06T21:45:36+00:00' '2021-05-06T21:45:37+00:00'\n",
      " '2021-05-06T21:45:38+00:00' '2021-05-07T19:16:32+00:00'\n",
      " '2021-05-08T19:24:59+00:00' '2021-05-08T21:24:25+00:00'\n",
      " '2021-05-09T19:46:50+00:00' '2021-05-10T19:19:17+00:00'\n",
      " '2021-05-11T00:57:51+00:00' '2021-05-14T02:50:50+00:00'\n",
      " '2021-05-14T19:33:58+00:00' '2021-05-18T22:07:21+00:00'\n",
      " '2021-05-21T19:13:29+00:00' '2021-05-29T23:32:41+00:00'\n",
      " '2021-05-29T23:35:29+00:00']\n",
      "['2021-04-06T00:39:37' '2021-04-06T00:39:38' '2021-04-06T00:42:40'\n",
      " '2021-04-06T00:42:41' '2021-04-07T22:48:49' '2021-04-07T22:48:50'\n",
      " '2021-04-08T17:17:36' '2021-04-08T17:17:37' '2021-04-08T17:17:38'\n",
      " '2021-04-08T17:17:39' '2021-04-09T17:50:20' '2021-04-11T21:29:45'\n",
      " '2021-04-11T21:29:47' '2021-04-13T23:27:14' '2021-04-14T22:12:20'\n",
      " '2021-04-15T23:07:33' '2021-04-16T19:58:33' '2021-04-17T20:00:38'\n",
      " '2021-04-17T20:00:39' '2021-04-18T21:13:37' '2021-04-20T00:30:44'\n",
      " '2021-04-20T00:30:45' '2021-04-20T19:01:46' '2021-04-22T18:55:39+00:00'\n",
      " '2021-04-29T00:00:00+00:00' '2021-04-29T20:27:33+00:00'\n",
      " '2021-05-01T20:31:51+00:00' '2021-05-02T21:09:30+00:00'\n",
      " '2021-05-03T20:56:22+00:00' '2021-05-04T02:18:21+00:00'\n",
      " '2021-05-04T20:33:01+00:00' '2021-05-05T19:09:44+00:00'\n",
      " '2021-05-05T19:51:03+00:00' '2021-05-11T22:21:48+00:00'\n",
      " '2021-05-12T20:24:43+00:00']\n"
     ]
    }
   ],
   "source": [
    "print(np.unique(bd))\n",
    "print(np.unique(gd))"
   ]
  },
  {
   "cell_type": "code",
   "execution_count": 18,
   "id": "cd63b094-5434-4be6-9430-3804674f0cd7",
   "metadata": {},
   "outputs": [
    {
     "name": "stdout",
     "output_type": "stream",
     "text": [
      "['2021-04-07T22:48:49' '2021-04-07T22:48:50' '2021-04-08T17:17:36'\n",
      " '2021-04-08T17:17:37' '2021-04-08T17:17:38' '2021-04-08T17:17:39'\n",
      " '2021-04-09T17:50:20' '2021-04-11T21:29:45' '2021-04-11T21:29:47'\n",
      " '2021-04-13T23:27:14']\n"
     ]
    }
   ],
   "source": [
    "w = np.isin(bd,gd)\n",
    "print(np.unique(np.array(bd)[w]))"
   ]
  },
  {
   "cell_type": "code",
   "execution_count": 43,
   "id": "a84c3f96-5d9f-49cd-abf0-2ac90346583d",
   "metadata": {},
   "outputs": [
    {
     "name": "stdout",
     "output_type": "stream",
     "text": [
      "4200\n",
      "4200\n",
      "4103\n"
     ]
    },
    {
     "data": {
      "text/plain": [
       "False"
      ]
     },
     "execution_count": 43,
     "metadata": {},
     "output_type": "execute_result"
    }
   ],
   "source": [
    "fa.comp_neworig(427)"
   ]
  },
  {
   "cell_type": "code",
   "execution_count": 14,
   "id": "ac61cbeb-4dd3-4fad-8f10-d614a972505d",
   "metadata": {},
   "outputs": [
    {
     "data": {
      "text/plain": [
       "array(['2021-04-10T21:28:37'], dtype='<U19')"
      ]
     },
     "execution_count": 14,
     "metadata": {},
     "output_type": "execute_result"
    }
   ],
   "source": [
    "np.unique(bd)"
   ]
  },
  {
   "cell_type": "code",
   "execution_count": 52,
   "id": "8b8f8cfb-d3eb-4b0f-ad7f-d9ec335136ce",
   "metadata": {},
   "outputs": [
    {
     "name": "stdout",
     "output_type": "stream",
     "text": [
      "\n",
      "SIMPLE  =                    T / file does conform to FITS standard\n",
      "BITPIX  =                   16 / number of bits per data pixel\n",
      "NAXIS   =                    0 / number of data axes\n",
      "EXTEND  =                    T / FITS dataset may contain extensions\n",
      "COMMENT   and Astrophysics', volume 376, page 359; bibcode: 2001A&A...376..359H\n",
      "COMMENT   FITS (Flexible Image Transport System) format is defined in 'Astronomy\n",
      "EXTNAME = 'PRIMARY'            / \n",
      "TILEID  =                  271 / \n",
      "TILERA  =              218.124 / \n",
      "TILEDEC =                2.524 / \n",
      "FIELDROT=  -0.0774836323773207 / \n",
      "FA_PLAN = '2022-07-01T00:00:00.000' / \n",
      "FA_HA   =                  0.0 / \n",
      "FA_RUN  = '2021-03-17T23:20:01' / \n",
      "REQRA   =              218.124 / \n",
      "REQDEC  =                2.524 / \n",
      "FIELDNUM=                    0 / \n",
      "FA_VER  = '2.2.0.dev2811'      / \n",
      "FA_SURV = 'sv3'                / \n",
      "DEPNAM00= 'python'             / \n",
      "DEPVER00= '3.8.3'              / \n",
      "DEPNAM01= 'numpy'              / \n",
      "DEPVER01= '1.19.1'             / \n",
      "DEPNAM02= 'matplotlib'         / \n",
      "DEPVER02= '3.2.1'              / \n",
      "DEPNAM03= 'astropy'            / \n",
      "DEPVER03= '4.0.1.post1'        / \n",
      "DEPNAM04= 'fitsio'             / \n",
      "DEPVER04= '1.1.2'              / \n",
      "DEPNAM05= 'desiutil'           / \n",
      "DEPVER05= '3.2.1.dev916'       / \n",
      "DEPNAM06= 'desimodel'          / \n",
      "DEPVER06= '0.14.2'             / \n",
      "DEPNAM07= 'desitarget'         / \n",
      "DEPVER07= '0.57.0'             / \n",
      "FAFLAVOR= 'sv3dark'            / \n",
      "DESIROOT= '/global/cfs/cdirs/desi' / \n",
      "GFA     = 'DESIROOT/target/catalogs/dr9/0.57.0/gfas' / \n",
      "MTL     = 'DESIROOT/target/mtl/sv3/dark' / \n",
      "SCND    = 'DESIROOT/target/catalogs/dr9/0.57.0/targets/sv3/secondary/dark/sv3ta'\n",
      "SCNDMTL = 'DESIROOT/target/mtl/sv3/secondary/dark' / \n",
      "SKY     = 'DESIROOT/target/catalogs/dr9/0.57.0/skies' / \n",
      "SKYSUPP = 'DESIROOT/target/catalogs/gaiadr2/0.57.0/skies-supp' / \n",
      "TARG    = 'DESIROOT/target/catalogs/dr9/0.57.0/targets/sv3/resolve/dark' / \n",
      "OUTDIR  = '/global/cfs/cdirs/desi/survey/fiberassign/SV3/20210405/' / \n",
      "PMCORR  = 'n'                  / \n",
      "PMTIME  = '2021-04-06T00:39:38' / \n",
      "RUNDATE = '2021-04-06T00:39:38' / \n",
      "SURVEY  = 'sv3'                / \n",
      "FAARGS  = '--doclean n --dr dr9 --dtver 0.57.0 --gaiadr gaiadr2 --goaltime 1200'\n",
      "FAPRGRM = 'DARK'               / \n",
      "MTLTIME = '2021-04-06T00:39:38' / \n",
      "OBSCON  = 'DARK|GRAY|BRIGHT|BACKUP' / \n",
      "GOALTIME=               1200.0 / \n",
      "GOALTYPE= 'DARK'               / \n",
      "EBVFAC  =      1.0703662014821 / \n",
      "SBPROF  = 'ELG'                / \n",
      "MINTFRAC=                  0.9 / \n"
     ]
    }
   ],
   "source": [
    "tile = 271\n",
    "ts = str(tile).zfill(6)\n",
    "fbaf = '/global/cfs/cdirs/desi/target/fiberassign/tiles/trunk/'+ts[:3]+'/fiberassign-'+ts+'.fits.gz'\n",
    "h = fitsio.read_header(fbaf)\n",
    "print(h)"
   ]
  },
  {
   "cell_type": "code",
   "execution_count": 37,
   "id": "dff9d887-b1e5-4d21-b3b3-f995e34a755f",
   "metadata": {},
   "outputs": [
    {
     "name": "stdout",
     "output_type": "stream",
     "text": [
      "4043\n",
      "4043\n",
      "4043\n",
      "4054\n",
      "4054\n",
      "4054\n",
      "4048\n",
      "4048\n",
      "4048\n",
      "4063\n",
      "4063\n",
      "4063\n",
      "4034\n",
      "4034\n",
      "4034\n",
      "3801\n",
      "3801\n",
      "3801\n",
      "3859\n",
      "3859\n",
      "3859\n",
      "3851\n",
      "3851\n",
      "3851\n",
      "3688\n",
      "3688\n",
      "3688\n",
      "3691\n",
      "3691\n",
      "3691\n",
      "3680\n",
      "3680\n",
      "3680\n",
      "4043\n",
      "4043\n",
      "4043\n",
      "4036\n",
      "4036\n",
      "4036\n",
      "3830\n",
      "3830\n",
      "3830\n",
      "3416\n",
      "3416\n",
      "3416\n",
      "2802\n",
      "2802\n",
      "2802\n",
      "3697\n",
      "3697\n",
      "3697\n",
      "3719\n",
      "3719\n",
      "3719\n",
      "3568\n",
      "3568\n",
      "3568\n",
      "3569\n",
      "3569\n",
      "3569\n",
      "3580\n",
      "3580\n",
      "3580\n",
      "3562\n",
      "3562\n",
      "3562\n",
      "3510\n",
      "3510\n",
      "3510\n",
      "2861\n",
      "2861\n",
      "2861\n",
      "3164\n",
      "3164\n",
      "3164\n",
      "4056\n",
      "4056\n",
      "4056\n",
      "4054\n",
      "4054\n",
      "4054\n",
      "4062\n",
      "4062\n",
      "4062\n",
      "4031\n",
      "4031\n",
      "4031\n",
      "3885\n",
      "3885\n",
      "3885\n",
      "3881\n",
      "3881\n",
      "3881\n",
      "3888\n",
      "3888\n",
      "3888\n",
      "3698\n",
      "3698\n",
      "3698\n",
      "4155\n",
      "4155\n",
      "4155\n",
      "4153\n",
      "4153\n",
      "4153\n",
      "4157\n",
      "4157\n",
      "4157\n",
      "4037\n",
      "4037\n",
      "4037\n",
      "3980\n",
      "3980\n",
      "3980\n",
      "3787\n",
      "3787\n",
      "3787\n",
      "3410\n",
      "3410\n",
      "3410\n",
      "2867\n",
      "2867\n",
      "2867\n",
      "3710\n",
      "3710\n",
      "3710\n",
      "3704\n",
      "3704\n",
      "3704\n",
      "3686\n",
      "3686\n",
      "3686\n",
      "3595\n",
      "3595\n",
      "3595\n",
      "3563\n",
      "3563\n",
      "3563\n",
      "3566\n",
      "3566\n",
      "3566\n",
      "3235\n",
      "3235\n",
      "3235\n",
      "2547\n",
      "2547\n",
      "2547\n",
      "1674\n",
      "1674\n",
      "1674\n",
      "2892\n",
      "2892\n",
      "2892\n",
      "2844\n",
      "2844\n",
      "2844\n",
      "4052\n",
      "4052\n",
      "4052\n",
      "4040\n",
      "4040\n",
      "4040\n",
      "4044\n",
      "4044\n",
      "4044\n",
      "4071\n",
      "4071\n",
      "4071\n",
      "3882\n",
      "3882\n",
      "3882\n",
      "3883\n",
      "3883\n",
      "3883\n",
      "3875\n",
      "3875\n",
      "3875\n",
      "3701\n",
      "3701\n",
      "3701\n",
      "3693\n",
      "3693\n",
      "3693\n",
      "4155\n",
      "4155\n",
      "4155\n",
      "4154\n",
      "4154\n",
      "4154\n",
      "4047\n",
      "4047\n",
      "4047\n",
      "3975\n",
      "3975\n",
      "3975\n",
      "3754\n",
      "3754\n",
      "3754\n",
      "3738\n",
      "3738\n",
      "3738\n",
      "3728\n",
      "3728\n",
      "3728\n",
      "3583\n",
      "3583\n",
      "3583\n",
      "3551\n",
      "3551\n",
      "3551\n",
      "3569\n",
      "3569\n",
      "3569\n",
      "3990\n",
      "3990\n",
      "3990\n",
      "3980\n",
      "3980\n",
      "3980\n",
      "3967\n",
      "3967\n",
      "3967\n",
      "3294\n",
      "3294\n",
      "3294\n",
      "2526\n",
      "2526\n",
      "2526\n",
      "2954\n",
      "2954\n",
      "2954\n",
      "2897\n",
      "2897\n",
      "2897\n",
      "4043\n",
      "4043\n",
      "4043\n",
      "4044\n",
      "4044\n",
      "4044\n",
      "4038\n",
      "4038\n",
      "4038\n",
      "4026\n",
      "4026\n",
      "4026\n",
      "3836\n",
      "3836\n",
      "3836\n",
      "3846\n",
      "3846\n",
      "3846\n",
      "3817\n",
      "3817\n",
      "3817\n",
      "3826\n",
      "3826\n",
      "3826\n",
      "3679\n",
      "3679\n",
      "3679\n",
      "3658\n",
      "3658\n",
      "3658\n",
      "3654\n",
      "3654\n",
      "3654\n",
      "4025\n",
      "4025\n",
      "4025\n",
      "3774\n",
      "3774\n",
      "3774\n",
      "3365\n",
      "3365\n",
      "3365\n",
      "3636\n",
      "3636\n",
      "3636\n",
      "3570\n",
      "3570\n",
      "3570\n",
      "3584\n",
      "3584\n",
      "3584\n",
      "3472\n",
      "3472\n",
      "3472\n",
      "3459\n",
      "3459\n",
      "3459\n",
      "3909\n",
      "3909\n",
      "3909\n",
      "3919\n",
      "3919\n",
      "3919\n",
      "3863\n",
      "3863\n",
      "3863\n",
      "3031\n",
      "3031\n",
      "3031\n",
      "2224\n",
      "2224\n",
      "2224\n",
      "2791\n",
      "2791\n",
      "2791\n",
      "2738\n",
      "2738\n",
      "2738\n",
      "2674\n",
      "2674\n",
      "2674\n",
      "4049\n",
      "4049\n",
      "4049\n",
      "4050\n",
      "4050\n",
      "4050\n",
      "4061\n",
      "4061\n",
      "4061\n",
      "4061\n",
      "4061\n",
      "4061\n",
      "4012\n",
      "4012\n",
      "4012\n",
      "3760\n",
      "3760\n",
      "3760\n",
      "3860\n",
      "3860\n",
      "3860\n",
      "3840\n",
      "3840\n",
      "3840\n",
      "3829\n",
      "3829\n",
      "3829\n",
      "3669\n",
      "3669\n",
      "3669\n",
      "3676\n",
      "3676\n",
      "3676\n",
      "4035\n",
      "4035\n",
      "4035\n",
      "3928\n",
      "3928\n",
      "3928\n",
      "3744\n",
      "3744\n",
      "3744\n",
      "3693\n",
      "3693\n",
      "3693\n",
      "3629\n",
      "3629\n",
      "3629\n",
      "3521\n",
      "3521\n",
      "3521\n",
      "3517\n",
      "3517\n",
      "3517\n",
      "3970\n",
      "3970\n",
      "3970\n",
      "3951\n",
      "3951\n",
      "3951\n",
      "3943\n",
      "3943\n",
      "3943\n",
      "3945\n",
      "3945\n",
      "3945\n",
      "2862\n",
      "2862\n",
      "2862\n",
      "1981\n",
      "1981\n",
      "1981\n",
      "2592\n",
      "2592\n",
      "2592\n",
      "2559\n",
      "2559\n",
      "2559\n",
      "4057\n",
      "4057\n",
      "4057\n",
      "4059\n",
      "4059\n",
      "4059\n",
      "4043\n",
      "4043\n",
      "4043\n",
      "4031\n",
      "4031\n",
      "4031\n",
      "4037\n",
      "4037\n",
      "4037\n",
      "3877\n",
      "3877\n",
      "3877\n",
      "3880\n",
      "3880\n",
      "3880\n",
      "3862\n",
      "3862\n",
      "3862\n",
      "3867\n",
      "3867\n",
      "3867\n",
      "3700\n",
      "3700\n",
      "3700\n",
      "3692\n",
      "3692\n",
      "3692\n",
      "4060\n",
      "4060\n",
      "4060\n",
      "4020\n",
      "4020\n",
      "4020\n",
      "3828\n",
      "3828\n",
      "3828\n",
      "3777\n",
      "3777\n",
      "3777\n",
      "3746\n",
      "3746\n",
      "3746\n",
      "3596\n",
      "3596\n",
      "3596\n",
      "3586\n",
      "3586\n",
      "3586\n",
      "3592\n",
      "3592\n",
      "3592\n",
      "4046\n",
      "4046\n",
      "4046\n",
      "4035\n",
      "4035\n",
      "4035\n",
      "4006\n",
      "4006\n",
      "4006\n",
      "3541\n",
      "3541\n",
      "3541\n",
      "2931\n",
      "2931\n",
      "2931\n",
      "4050\n",
      "4050\n",
      "4050\n",
      "4046\n",
      "4046\n",
      "4046\n",
      "4040\n",
      "4040\n",
      "4040\n",
      "4053\n",
      "4053\n",
      "4053\n",
      "4036\n",
      "4036\n",
      "4036\n",
      "3839\n",
      "3839\n",
      "3839\n",
      "3873\n",
      "3873\n",
      "3873\n",
      "3855\n",
      "3855\n",
      "3855\n",
      "3835\n",
      "3835\n",
      "3835\n",
      "4143\n",
      "4143\n",
      "4143\n",
      "4141\n",
      "4141\n",
      "4141\n",
      "4012\n",
      "4012\n",
      "4012\n",
      "3730\n",
      "3730\n",
      "3730\n",
      "3243\n",
      "3243\n",
      "3243\n",
      "3617\n",
      "3617\n",
      "3617\n",
      "3552\n",
      "3552\n",
      "3552\n",
      "3535\n",
      "3535\n",
      "3535\n",
      "3553\n",
      "3553\n",
      "3553\n",
      "3428\n",
      "3428\n",
      "3428\n",
      "3861\n",
      "3861\n",
      "3861\n",
      "3822\n",
      "3822\n",
      "3822\n",
      "3823\n",
      "3823\n",
      "3823\n",
      "3170\n",
      "3170\n",
      "3170\n",
      "2281\n",
      "2281\n",
      "2281\n",
      "2843\n",
      "2843\n",
      "2843\n",
      "2782\n",
      "2782\n",
      "2782\n",
      "4046\n",
      "4046\n",
      "4046\n",
      "4052\n",
      "4052\n",
      "4052\n",
      "4054\n",
      "4054\n",
      "4054\n",
      "4051\n",
      "4051\n",
      "4051\n",
      "4034\n",
      "4034\n",
      "4034\n",
      "3846\n",
      "3846\n",
      "3846\n",
      "3855\n",
      "3855\n",
      "3855\n",
      "3839\n",
      "3839\n",
      "3839\n",
      "3836\n",
      "3836\n",
      "3836\n",
      "3670\n",
      "3670\n",
      "3670\n",
      "4143\n",
      "4143\n",
      "4143\n",
      "4052\n",
      "4052\n",
      "4052\n",
      "3902\n",
      "3902\n",
      "3902\n",
      "3557\n",
      "3557\n",
      "3557\n",
      "3001\n",
      "3001\n",
      "3001\n",
      "3655\n",
      "3655\n",
      "3655\n",
      "3627\n",
      "3627\n",
      "3627\n",
      "3662\n",
      "3662\n",
      "3662\n",
      "3646\n",
      "3646\n",
      "3646\n",
      "3611\n",
      "3611\n",
      "3611\n",
      "3636\n",
      "3636\n",
      "3636\n",
      "3490\n",
      "3490\n",
      "3490\n",
      "3219\n",
      "3219\n",
      "3219\n",
      "2930\n",
      "2930\n",
      "2930\n",
      "2858\n",
      "2858\n",
      "2858\n",
      "2856\n",
      "2856\n",
      "2856\n",
      "2859\n",
      "2859\n",
      "2859\n",
      "4069\n",
      "4069\n",
      "4069\n",
      "4058\n",
      "4058\n",
      "4058\n",
      "4045\n",
      "4045\n",
      "4045\n",
      "4065\n",
      "4065\n",
      "4065\n",
      "4041\n",
      "4041\n",
      "4041\n",
      "3879\n",
      "3879\n",
      "3879\n",
      "3877\n",
      "3877\n",
      "3877\n",
      "3877\n",
      "3877\n",
      "3877\n",
      "3882\n",
      "3882\n",
      "3882\n",
      "3706\n",
      "3706\n",
      "3706\n",
      "4174\n",
      "4174\n",
      "4174\n",
      "4059\n",
      "4059\n",
      "4059\n",
      "3883\n",
      "3883\n",
      "3883\n",
      "3870\n",
      "3870\n",
      "3870\n",
      "3843\n",
      "3843\n",
      "3843\n",
      "3674\n",
      "3674\n",
      "3674\n",
      "3663\n",
      "3663\n",
      "3663\n",
      "3639\n",
      "3639\n",
      "3639\n",
      "4083\n",
      "4083\n",
      "4083\n",
      "4083\n",
      "4083\n",
      "4083\n",
      "4086\n",
      "4086\n",
      "4086\n",
      "4105\n",
      "4105\n",
      "4105\n",
      "3849\n",
      "3849\n",
      "3849\n",
      "4047\n",
      "4047\n",
      "4047\n",
      "4046\n",
      "4046\n",
      "4046\n",
      "4036\n",
      "4036\n",
      "4036\n",
      "4050\n",
      "4050\n",
      "4050\n",
      "4054\n",
      "4054\n",
      "4054\n",
      "4041\n",
      "4041\n",
      "4041\n",
      "3877\n",
      "3877\n",
      "3877\n",
      "3887\n",
      "3887\n",
      "3887\n",
      "3879\n",
      "3879\n",
      "3879\n",
      "3877\n",
      "3877\n",
      "3877\n",
      "3702\n",
      "3702\n",
      "3702\n",
      "4041\n",
      "4041\n",
      "4041\n",
      "4062\n",
      "4062\n",
      "4062\n",
      "4061\n",
      "4061\n",
      "4061\n",
      "3860\n",
      "3860\n",
      "3860\n",
      "3834\n",
      "3834\n",
      "3834\n",
      "3815\n",
      "3815\n",
      "3815\n",
      "3827\n",
      "3827\n",
      "3827\n",
      "3671\n",
      "3671\n",
      "3671\n",
      "3656\n",
      "3656\n",
      "3656\n",
      "4121\n",
      "4121\n",
      "4121\n",
      "4117\n",
      "4117\n",
      "4117\n",
      "3992\n",
      "3992\n",
      "3992\n",
      "4061\n",
      "4061\n",
      "4061\n",
      "4059\n",
      "4059\n",
      "4059\n",
      "4065\n",
      "4065\n",
      "4065\n",
      "4053\n",
      "4053\n",
      "4053\n",
      "4051\n",
      "4051\n",
      "4051\n",
      "4063\n",
      "4063\n",
      "4063\n",
      "3886\n",
      "3886\n",
      "3886\n",
      "3886\n",
      "3886\n",
      "3886\n",
      "3866\n",
      "3866\n",
      "3866\n",
      "3865\n",
      "3865\n",
      "3865\n",
      "3697\n",
      "3697\n",
      "3697\n",
      "4062\n",
      "4062\n",
      "4062\n",
      "4028\n",
      "4028\n",
      "4028\n",
      "3886\n",
      "3886\n",
      "3886\n",
      "3837\n",
      "3837\n",
      "3837\n",
      "3798\n",
      "3798\n",
      "3798\n",
      "3796\n",
      "3796\n",
      "3796\n",
      "3659\n",
      "3659\n",
      "3659\n",
      "3633\n",
      "3633\n",
      "3633\n",
      "4099\n",
      "4099\n",
      "4099\n",
      "4092\n",
      "4092\n",
      "4092\n",
      "4092\n",
      "4092\n",
      "4092\n",
      "3834\n",
      "3834\n",
      "3834\n",
      "4052\n",
      "4052\n",
      "4052\n",
      "4040\n",
      "4040\n",
      "4040\n",
      "4036\n",
      "4036\n",
      "4036\n",
      "4041\n",
      "4041\n",
      "4041\n",
      "4057\n",
      "4057\n",
      "4057\n",
      "4010\n",
      "4010\n",
      "4010\n",
      "3752\n",
      "3752\n",
      "3752\n",
      "3854\n",
      "3854\n",
      "3854\n",
      "3837\n",
      "3837\n",
      "3837\n",
      "3824\n",
      "3824\n",
      "3824\n",
      "3825\n",
      "3825\n",
      "3825\n",
      "4042\n",
      "4042\n",
      "4042\n",
      "4055\n",
      "4055\n",
      "4055\n",
      "4036\n",
      "4036\n",
      "4036\n",
      "3825\n",
      "3825\n",
      "3825\n",
      "3818\n",
      "3818\n",
      "3818\n",
      "3799\n",
      "3799\n",
      "3799\n",
      "3779\n",
      "3779\n",
      "3779\n",
      "3756\n",
      "3756\n",
      "3756\n",
      "3773\n",
      "3773\n",
      "3773\n",
      "3610\n",
      "3610\n",
      "3610\n",
      "3632\n",
      "3632\n",
      "3632\n",
      "3797\n",
      "3797\n",
      "3797\n",
      "3270\n",
      "3270\n",
      "3270\n",
      "3389\n",
      "3389\n",
      "3389\n",
      "4069\n",
      "4069\n",
      "4069\n",
      "4047\n",
      "4047\n",
      "4047\n",
      "4037\n",
      "4037\n",
      "4037\n",
      "4053\n",
      "4053\n",
      "4053\n",
      "4054\n",
      "4054\n",
      "4054\n",
      "4022\n",
      "4022\n",
      "4022\n",
      "3753\n",
      "3753\n",
      "3753\n",
      "3856\n",
      "3856\n",
      "3856\n",
      "3838\n",
      "3838\n",
      "3838\n",
      "3835\n",
      "3835\n",
      "3835\n",
      "3834\n",
      "3834\n",
      "3834\n",
      "4052\n",
      "4052\n",
      "4052\n",
      "4040\n",
      "4040\n",
      "4040\n",
      "3870\n",
      "3870\n",
      "3870\n",
      "3786\n",
      "3786\n",
      "3786\n",
      "3762\n",
      "3762\n",
      "3762\n",
      "3729\n",
      "3729\n",
      "3729\n",
      "3712\n",
      "3712\n",
      "3712\n",
      "3706\n",
      "3706\n",
      "3706\n",
      "3588\n",
      "3588\n",
      "3588\n",
      "3595\n",
      "3595\n",
      "3595\n",
      "4041\n",
      "4041\n",
      "4041\n",
      "3806\n",
      "3806\n",
      "3806\n",
      "3519\n",
      "3519\n",
      "3519\n",
      "4051\n",
      "4051\n",
      "4051\n",
      "4051\n",
      "4051\n",
      "4051\n",
      "4034\n",
      "4034\n",
      "4034\n",
      "4054\n",
      "4054\n",
      "4054\n",
      "4066\n",
      "4066\n",
      "4066\n",
      "4030\n",
      "4030\n",
      "4030\n",
      "3866\n",
      "3866\n",
      "3866\n",
      "3568\n",
      "3568\n",
      "3568\n",
      "3840\n",
      "3840\n",
      "3840\n",
      "3848\n",
      "3848\n",
      "3848\n",
      "3827\n",
      "3827\n",
      "3827\n",
      "4063\n",
      "4063\n",
      "4063\n",
      "4054\n",
      "4054\n",
      "4054\n",
      "4037\n",
      "4037\n",
      "4037\n",
      "3892\n",
      "3892\n",
      "3892\n",
      "3818\n",
      "3818\n",
      "3818\n",
      "3787\n",
      "3787\n",
      "3787\n",
      "3811\n",
      "3811\n",
      "3811\n",
      "3775\n",
      "3775\n",
      "3775\n",
      "3780\n",
      "3780\n",
      "3780\n",
      "3643\n",
      "3643\n",
      "3643\n",
      "4101\n",
      "4101\n",
      "4101\n",
      "3922\n",
      "3922\n",
      "3922\n",
      "3630\n",
      "3630\n",
      "3630\n",
      "3537\n",
      "3537\n",
      "3537\n",
      "4033\n",
      "4033\n",
      "4033\n",
      "4046\n",
      "4046\n",
      "4046\n",
      "4059\n",
      "4059\n",
      "4059\n",
      "4062\n",
      "4062\n",
      "4062\n",
      "4057\n",
      "4057\n",
      "4057\n",
      "4038\n",
      "4038\n",
      "4038\n",
      "3980\n",
      "3980\n",
      "3980\n",
      "3721\n",
      "3721\n",
      "3721\n",
      "3847\n",
      "3847\n",
      "3847\n",
      "3848\n",
      "3848\n",
      "3848\n",
      "3842\n",
      "3842\n",
      "3842\n",
      "4066\n",
      "4066\n",
      "4066\n",
      "4062\n",
      "4062\n",
      "4062\n",
      "4051\n",
      "4051\n",
      "4051\n",
      "3890\n",
      "3890\n",
      "3890\n",
      "3867\n",
      "3867\n",
      "3867\n",
      "3853\n",
      "3853\n",
      "3853\n",
      "3685\n",
      "3685\n",
      "3685\n",
      "3674\n",
      "3674\n",
      "3674\n",
      "3682\n",
      "3682\n",
      "3682\n",
      "4154\n",
      "4154\n",
      "4154\n",
      "4128\n",
      "4128\n",
      "4128\n",
      "4055\n",
      "4055\n",
      "4055\n",
      "3882\n",
      "3882\n",
      "3882\n",
      "4056\n",
      "4056\n",
      "4056\n",
      "4063\n",
      "4063\n",
      "4063\n",
      "4055\n",
      "4055\n",
      "4055\n",
      "4060\n",
      "4060\n",
      "4060\n",
      "4034\n",
      "4034\n",
      "4034\n",
      "3936\n",
      "3936\n",
      "3936\n",
      "3851\n",
      "3851\n",
      "3851\n",
      "3551\n",
      "3551\n",
      "3551\n",
      "3821\n",
      "3821\n",
      "3821\n",
      "3824\n",
      "3824\n",
      "3824\n",
      "3817\n",
      "3817\n",
      "3817\n",
      "4047\n",
      "4047\n",
      "4047\n",
      "4052\n",
      "4052\n",
      "4052\n",
      "4063\n",
      "4063\n",
      "4063\n",
      "3878\n",
      "3878\n",
      "3878\n",
      "3856\n",
      "3856\n",
      "3856\n",
      "3840\n",
      "3840\n",
      "3840\n",
      "3832\n",
      "3832\n",
      "3832\n",
      "3832\n",
      "3832\n",
      "3832\n",
      "3652\n",
      "3652\n",
      "3652\n",
      "4124\n",
      "4124\n",
      "4124\n",
      "4125\n",
      "4125\n",
      "4125\n",
      "4056\n",
      "4056\n",
      "4056\n",
      "4024\n",
      "4024\n",
      "4024\n",
      "3678\n",
      "3678\n",
      "3678\n",
      "3810\n",
      "3810\n",
      "3810\n",
      "3836\n",
      "3836\n",
      "3836\n",
      "3838\n",
      "3838\n",
      "3838\n",
      "3832\n",
      "3832\n",
      "3832\n",
      "3831\n",
      "3831\n",
      "3831\n",
      "3822\n",
      "3822\n",
      "3822\n",
      "3829\n",
      "3829\n",
      "3829\n",
      "3816\n",
      "3816\n",
      "3816\n",
      "4152\n",
      "4152\n",
      "4152\n",
      "4121\n",
      "4121\n",
      "4121\n",
      "4151\n",
      "4151\n",
      "4151\n",
      "4155\n",
      "4155\n",
      "4155\n",
      "4133\n",
      "4133\n",
      "4133\n",
      "4145\n",
      "4145\n",
      "4145\n",
      "4113\n",
      "4113\n",
      "4113\n",
      "4130\n",
      "4130\n",
      "4130\n",
      "4097\n",
      "4097\n",
      "4097\n",
      "3680\n",
      "3680\n",
      "3680\n",
      "3698\n",
      "3698\n",
      "3698\n",
      "4157\n",
      "4157\n",
      "4157\n",
      "4132\n",
      "4132\n",
      "4132\n",
      "4132\n",
      "4132\n",
      "4132\n",
      "4125\n",
      "4125\n",
      "4125\n",
      "4123\n",
      "4123\n",
      "4123\n",
      "4159\n",
      "4159\n",
      "4159\n",
      "4152\n",
      "4152\n",
      "4152\n",
      "4170\n",
      "4170\n",
      "4170\n",
      "4162\n",
      "4162\n",
      "4162\n",
      "3694\n",
      "3694\n",
      "3694\n",
      "4148\n",
      "4148\n",
      "4148\n",
      "3671\n",
      "3671\n",
      "3671\n",
      "4126\n",
      "4126\n",
      "4126\n",
      "3675\n",
      "3675\n",
      "3675\n",
      "4128\n",
      "4128\n",
      "4128\n",
      "3710\n",
      "3710\n",
      "3710\n",
      "3709\n",
      "3709\n",
      "3709\n",
      "3710\n",
      "3710\n",
      "3710\n",
      "3709\n",
      "3709\n",
      "3709\n",
      "4142\n",
      "4142\n",
      "4142\n",
      "4139\n",
      "4139\n",
      "4139\n",
      "4144\n",
      "4144\n",
      "4144\n",
      "4150\n",
      "4150\n",
      "4150\n",
      "4138\n",
      "4138\n",
      "4138\n",
      "4154\n",
      "4154\n",
      "4154\n",
      "4139\n",
      "4139\n",
      "4139\n",
      "4143\n",
      "4143\n",
      "4143\n",
      "3710\n",
      "3710\n",
      "3710\n",
      "3634\n",
      "3634\n",
      "3634\n",
      "3905\n",
      "3905\n",
      "3905\n",
      "3922\n",
      "3922\n",
      "3922\n",
      "3889\n",
      "3889\n",
      "3889\n",
      "3886\n",
      "3886\n",
      "3886\n",
      "3905\n",
      "3905\n",
      "3905\n",
      "3896\n",
      "3896\n",
      "3896\n",
      "3883\n",
      "3883\n",
      "3883\n",
      "3873\n",
      "3873\n",
      "3873\n",
      "2661\n",
      "2661\n",
      "2661\n",
      "3709\n",
      "3709\n",
      "3709\n",
      "3710\n",
      "3710\n",
      "3710\n",
      "3709\n",
      "3709\n",
      "3709\n",
      "4161\n",
      "4161\n",
      "4161\n",
      "4166\n",
      "4166\n",
      "4166\n",
      "4162\n",
      "4162\n",
      "4162\n",
      "4144\n",
      "4144\n",
      "4144\n",
      "4159\n",
      "4159\n",
      "4159\n",
      "4152\n",
      "4152\n",
      "4152\n",
      "4160\n",
      "4160\n",
      "4160\n",
      "4159\n",
      "4159\n",
      "4159\n",
      "3709\n",
      "3709\n",
      "3709\n",
      "3709\n",
      "3709\n",
      "3709\n",
      "3697\n",
      "3697\n",
      "3697\n",
      "4085\n",
      "4085\n",
      "4085\n",
      "4083\n",
      "4083\n",
      "4083\n",
      "4079\n",
      "4079\n",
      "4079\n",
      "4075\n",
      "4075\n",
      "4075\n",
      "4078\n",
      "4078\n",
      "4078\n",
      "4049\n",
      "4049\n",
      "4049\n",
      "4043\n",
      "4043\n",
      "4043\n",
      "4063\n",
      "4063\n",
      "4063\n",
      "3606\n",
      "3606\n",
      "3606\n",
      "3709\n",
      "3709\n",
      "3709\n",
      "3709\n",
      "3709\n",
      "3709\n",
      "3707\n",
      "3707\n",
      "3707\n",
      "4127\n",
      "4127\n",
      "4127\n",
      "4147\n",
      "4147\n",
      "4147\n",
      "4144\n",
      "4144\n",
      "4144\n",
      "4129\n",
      "4129\n",
      "4129\n",
      "4117\n",
      "4117\n",
      "4117\n",
      "4108\n",
      "4108\n",
      "4108\n",
      "4097\n",
      "4097\n",
      "4097\n",
      "4112\n",
      "4112\n",
      "4112\n",
      "4127\n",
      "4127\n",
      "4127\n",
      "3709\n",
      "3709\n",
      "3709\n",
      "3709\n",
      "3709\n",
      "3709\n",
      "4152\n",
      "4152\n",
      "4152\n",
      "4148\n",
      "4148\n",
      "4148\n",
      "4158\n",
      "4158\n",
      "4158\n",
      "4155\n",
      "4155\n",
      "4155\n",
      "4152\n",
      "4152\n",
      "4152\n",
      "4151\n",
      "4151\n",
      "4151\n",
      "4142\n",
      "4142\n",
      "4142\n",
      "4140\n",
      "4140\n",
      "4140\n",
      "4139\n",
      "4139\n",
      "4139\n",
      "3710\n",
      "3710\n",
      "3710\n",
      "3709\n",
      "3709\n",
      "3709\n",
      "3710\n",
      "3710\n",
      "3710\n",
      "3709\n",
      "3709\n",
      "3709\n",
      "4143\n",
      "4143\n",
      "4143\n",
      "4146\n",
      "4146\n",
      "4146\n",
      "4131\n",
      "4131\n",
      "4131\n",
      "4137\n",
      "4137\n",
      "4137\n",
      "4132\n",
      "4132\n",
      "4132\n",
      "4138\n",
      "4138\n",
      "4138\n",
      "4134\n",
      "4134\n",
      "4134\n",
      "4136\n",
      "4136\n",
      "4136\n",
      "4134\n",
      "4134\n",
      "4134\n",
      "3710\n",
      "3710\n",
      "3710\n",
      "3708\n",
      "3708\n",
      "3708\n",
      "3644\n",
      "3644\n",
      "3644\n",
      "3599\n",
      "3599\n",
      "3599\n",
      "3999\n",
      "3999\n",
      "3999\n",
      "4010\n",
      "4010\n",
      "4010\n",
      "3980\n",
      "3980\n",
      "3980\n",
      "3997\n",
      "3997\n",
      "3997\n",
      "4014\n",
      "4014\n",
      "4014\n",
      "4016\n",
      "4016\n",
      "4016\n",
      "3988\n",
      "3988\n",
      "3988\n",
      "3407\n",
      "3407\n",
      "3407\n"
     ]
    }
   ],
   "source": [
    "bt = []\n",
    "bd = []\n",
    "gd = []\n",
    "bv = []\n",
    "gv = []\n",
    "for tile in range(1,600):\n",
    "    ts = str(tile).zfill(6)\n",
    "    fbaf = '/global/cfs/cdirs/desi/target/fiberassign/tiles/trunk/'+ts[:3]+'/fiberassign-'+ts+'.fits.gz'\n",
    "    if os.path.isfile(fbaf):\n",
    "        t = fa.comp_neworig_tgt(tile)\n",
    "        fh = fitsio.read_header(fbaf)\n",
    "        if t == False:\n",
    "            \n",
    "            bt.append(tile)\n",
    "            print(tile,fh['FAPRGRM'],fh['RUNDATE'],fh['FA_VER'])\n",
    "            bd.append(fh['RUNDATE'])\n",
    "            bv.append(fh['FA_VER'])\n",
    "        else:\n",
    "            gv.append(fh['FA_VER'])\n",
    "            gd.append(fh['RUNDATE'])\n",
    "        #print(tile,t)"
   ]
  },
  {
   "cell_type": "code",
   "execution_count": 38,
   "id": "24efb8af-d2f9-4da5-afde-c16df70db7a5",
   "metadata": {},
   "outputs": [
    {
     "data": {
      "text/plain": [
       "0"
      ]
     },
     "execution_count": 38,
     "metadata": {},
     "output_type": "execute_result"
    }
   ],
   "source": [
    "len(bt)"
   ]
  },
  {
   "cell_type": "code",
   "execution_count": 9,
   "id": "749e32ac-f67e-4d4c-b53b-f55597d4bbd5",
   "metadata": {},
   "outputs": [
    {
     "name": "stdout",
     "output_type": "stream",
     "text": [
      "4444\n",
      "4444\n",
      "4444\n",
      "4455\n",
      "4455\n",
      "4455\n",
      "4450\n",
      "4450\n",
      "4450\n",
      "4462\n",
      "4467\n",
      "4454\n",
      "DARK 2021-04-10T21:28:37 2.2.0.dev2811\n",
      "4441\n",
      "4441\n",
      "4437\n",
      "DARK 2021-04-11T21:29:47 2.2.0.dev2811\n",
      "4286\n",
      "4287\n",
      "4217\n",
      "DARK 2021-04-13T23:27:13 2.2.0.dev2811\n",
      "4280\n",
      "4280\n",
      "4280\n",
      "4288\n",
      "4288\n",
      "4288\n",
      "4109\n",
      "4109\n",
      "4109\n",
      "4108\n",
      "4108\n",
      "4108\n",
      "4109\n",
      "4109\n",
      "4109\n",
      "4445\n",
      "4445\n",
      "4445\n",
      "4467\n",
      "4467\n",
      "4457\n",
      "BRIGHT 2021-04-07T22:48:49 2.2.0.dev2811\n",
      "4460\n",
      "4460\n",
      "4317\n",
      "BRIGHT 2021-04-08T17:17:39 2.2.0.dev2811\n",
      "4457\n",
      "4459\n",
      "3964\n",
      "BRIGHT 2021-04-09T17:50:20 2.2.0.dev2811\n",
      "4288\n",
      "4287\n",
      "3355\n",
      "BRIGHT 2021-04-13T23:27:14 2.2.0.dev2811\n",
      "4275\n",
      "4275\n",
      "4275\n",
      "4288\n",
      "4288\n",
      "4288\n",
      "4109\n",
      "4109\n",
      "4109\n",
      "4108\n",
      "4108\n",
      "4108\n",
      "4109\n",
      "4109\n",
      "4109\n",
      "4110\n",
      "4110\n",
      "4110\n",
      "4450\n",
      "4450\n",
      "4450\n",
      "4453\n",
      "4457\n",
      "3952\n",
      "BACKUP 2021-04-07T22:48:49 2.2.0.dev2811\n",
      "4285\n",
      "4285\n",
      "4285\n",
      "4459\n",
      "4459\n",
      "4459\n",
      "4455\n",
      "4455\n",
      "4455\n",
      "4461\n",
      "4466\n",
      "4453\n",
      "DARK 2021-04-10T21:28:37 2.2.0.dev2811\n",
      "4431\n",
      "4431\n",
      "4431\n",
      "4287\n",
      "4287\n",
      "4287\n",
      "4281\n",
      "4281\n",
      "4281\n",
      "4295\n",
      "4295\n",
      "4295\n",
      "4110\n",
      "4110\n",
      "4110\n",
      "4206\n",
      "4206\n",
      "3759\n",
      "DARK 2021-05-06T21:45:38+00:00 2.4.0\n",
      "4204\n",
      "4204\n",
      "3738\n",
      "DARK 2021-05-07T19:16:32+00:00 2.4.0\n",
      "4205\n",
      "4205\n",
      "3738\n",
      "DARK 2021-05-09T19:46:50+00:00 2.4.0\n",
      "4446\n",
      "4446\n",
      "4446\n",
      "4454\n",
      "4454\n",
      "4429\n",
      "BRIGHT 2021-04-07T22:48:50 2.2.0.dev2811\n",
      "4462\n",
      "4459\n",
      "4298\n",
      "BRIGHT 2021-04-08T17:17:38 2.2.0.dev2811\n",
      "4460\n",
      "4455\n",
      "3949\n",
      "BRIGHT 2021-04-11T21:29:47 2.2.0.dev2811\n",
      "4275\n",
      "4278\n",
      "3375\n",
      "BRIGHT 2021-04-13T23:27:14 2.2.0.dev2811\n",
      "4281\n",
      "4281\n",
      "4281\n",
      "4284\n",
      "4284\n",
      "4284\n",
      "4284\n",
      "4284\n",
      "4284\n",
      "4110\n",
      "4110\n",
      "4110\n",
      "4110\n",
      "4110\n",
      "4110\n",
      "4109\n",
      "4109\n",
      "4109\n",
      "4455\n",
      "4455\n",
      "4455\n",
      "4447\n",
      "4440\n",
      "3837\n",
      "BACKUP 2021-04-07T22:48:49 2.2.0.dev2811\n",
      "4426\n",
      "4426\n",
      "3003\n",
      "BACKUP 2021-04-12T22:53:58 2.2.0.dev2811\n",
      "4287\n",
      "4287\n",
      "4287\n",
      "4108\n",
      "4108\n",
      "4108\n",
      "4453\n",
      "4453\n",
      "4453\n",
      "4440\n",
      "4440\n",
      "4440\n",
      "4445\n",
      "4445\n",
      "4445\n",
      "4467\n",
      "4472\n",
      "4457\n",
      "DARK 2021-04-10T21:28:37 2.2.0.dev2811\n",
      "4282\n",
      "4282\n",
      "4282\n",
      "4287\n",
      "4287\n",
      "4287\n",
      "4282\n",
      "4282\n",
      "4282\n",
      "4110\n",
      "4110\n",
      "4110\n",
      "4110\n",
      "4110\n",
      "4110\n",
      "4208\n",
      "4208\n",
      "3738\n",
      "DARK 2021-05-06T21:45:37+00:00 2.4.0\n",
      "4207\n",
      "4206\n",
      "3741\n",
      "DARK 2021-05-07T19:16:32+00:00 2.4.0\n",
      "4449\n",
      "4449\n",
      "4449\n",
      "4447\n",
      "4447\n",
      "4423\n",
      "BRIGHT 2021-04-07T22:48:50 2.2.0.dev2811\n",
      "4439\n",
      "4441\n",
      "4276\n",
      "BRIGHT 2021-04-08T17:17:39 2.2.0.dev2811\n",
      "4284\n",
      "4284\n",
      "4284\n",
      "4283\n",
      "4283\n",
      "4283\n",
      "4109\n",
      "4109\n",
      "4109\n",
      "4108\n",
      "4108\n",
      "4108\n",
      "4109\n",
      "4109\n",
      "4109\n",
      "4207\n",
      "4207\n",
      "3694\n",
      "BRIGHT 2021-05-06T21:45:36+00:00 2.4.0\n",
      "4207\n",
      "4207\n",
      "3699\n",
      "BRIGHT 2021-05-08T21:24:25+00:00 2.4.0\n",
      "4200\n",
      "4200\n",
      "4118\n",
      "bright 2021-05-29T23:32:41+00:00 4.0.0\n",
      "4463\n",
      "4463\n",
      "4463\n",
      "4436\n",
      "4439\n",
      "3830\n",
      "BACKUP 2021-04-12T22:53:58 2.2.0.dev2811\n",
      "4289\n",
      "4289\n",
      "4289\n",
      "4287\n",
      "4287\n",
      "4287\n",
      "4447\n",
      "4447\n",
      "4447\n",
      "4446\n",
      "4446\n",
      "4445\n",
      "DARK 2021-04-08T17:17:36 2.2.0.dev2811\n",
      "4441\n",
      "4445\n",
      "4431\n",
      "DARK 2021-04-10T21:28:37 2.2.0.dev2811\n",
      "4451\n",
      "4451\n",
      "4432\n",
      "DARK 2021-04-11T21:29:46 2.2.0.dev2811\n",
      "4283\n",
      "4282\n",
      "4247\n",
      "DARK 2021-04-13T23:27:13 2.2.0.dev2811\n",
      "4280\n",
      "4280\n",
      "4280\n",
      "4271\n",
      "4271\n",
      "4271\n",
      "4276\n",
      "4276\n",
      "4276\n",
      "4110\n",
      "4110\n",
      "4110\n",
      "4110\n",
      "4110\n",
      "4110\n",
      "4109\n",
      "4109\n",
      "4109\n",
      "4443\n",
      "4443\n",
      "4443\n",
      "4456\n",
      "4457\n",
      "4354\n",
      "BRIGHT 2021-04-07T22:48:50 2.2.0.dev2811\n",
      "4459\n",
      "4461\n",
      "4009\n",
      "BRIGHT 2021-04-08T17:17:38 2.2.0.dev2811\n",
      "4289\n",
      "4289\n",
      "4289\n",
      "4280\n",
      "4280\n",
      "4280\n",
      "4275\n",
      "4275\n",
      "4275\n",
      "4109\n",
      "4109\n",
      "4109\n",
      "4108\n",
      "4108\n",
      "4108\n",
      "4203\n",
      "4203\n",
      "3705\n",
      "BRIGHT 2021-05-06T21:45:36+00:00 2.4.0\n",
      "4207\n",
      "4206\n",
      "3799\n",
      "BRIGHT 2021-05-08T21:24:25+00:00 2.4.0\n",
      "4206\n",
      "4205\n",
      "3863\n",
      "BRIGHT 2021-05-11T00:57:51+00:00 2.4.0\n",
      "4445\n",
      "4445\n",
      "4445\n",
      "4429\n",
      "4435\n",
      "3733\n",
      "BACKUP 2021-04-12T22:53:58 2.2.0.dev2811\n",
      "4291\n",
      "4291\n",
      "4291\n",
      "4280\n",
      "4280\n",
      "4280\n",
      "4266\n",
      "4266\n",
      "4266\n",
      "4451\n",
      "4451\n",
      "4451\n",
      "4451\n",
      "4451\n",
      "4451\n",
      "4465\n",
      "4465\n",
      "4464\n",
      "DARK 2021-04-08T17:17:37 2.2.0.dev2811\n",
      "4458\n",
      "4462\n",
      "4445\n",
      "DARK 2021-04-10T21:28:37 2.2.0.dev2811\n",
      "4440\n",
      "4440\n",
      "4422\n",
      "DARK 2021-04-11T21:29:47 2.2.0.dev2811\n",
      "4278\n",
      "4278\n",
      "4182\n",
      "DARK 2021-04-13T23:27:14 2.2.0.dev2811\n",
      "4286\n",
      "4286\n",
      "4286\n",
      "4275\n",
      "4275\n",
      "4275\n",
      "4276\n",
      "4276\n",
      "4276\n",
      "4108\n",
      "4108\n",
      "4108\n",
      "4110\n",
      "4110\n",
      "4110\n",
      "4451\n",
      "4451\n",
      "4451\n",
      "4457\n",
      "4456\n",
      "4411\n",
      "BRIGHT 2021-04-08T17:17:38 2.2.0.dev2811\n",
      "4288\n",
      "4288\n",
      "4288\n",
      "4278\n",
      "4278\n",
      "4278\n",
      "4270\n",
      "4270\n",
      "4270\n",
      "4110\n",
      "4110\n",
      "4110\n",
      "4109\n",
      "4109\n",
      "4109\n",
      "4206\n",
      "4206\n",
      "3700\n",
      "BRIGHT 2021-05-06T21:45:37+00:00 2.4.0\n",
      "4207\n",
      "4207\n",
      "3698\n",
      "BRIGHT 2021-05-07T19:16:32+00:00 2.4.0\n",
      "4206\n",
      "4206\n",
      "3709\n",
      "BRIGHT 2021-05-08T21:24:25+00:00 2.4.0\n",
      "4200\n",
      "4200\n",
      "4112\n",
      "bright 2021-05-29T23:32:41+00:00 4.0.0\n",
      "4443\n",
      "4443\n",
      "4443\n",
      "4451\n",
      "4449\n",
      "3663\n",
      "BACKUP 2021-04-07T22:48:50 2.2.0.dev2811\n",
      "4288\n",
      "4288\n",
      "4288\n",
      "4281\n",
      "4281\n",
      "4281\n",
      "4457\n",
      "4457\n",
      "4457\n",
      "4462\n",
      "4462\n",
      "4462\n",
      "4444\n",
      "4444\n",
      "4444\n",
      "4429\n",
      "4432\n",
      "4416\n",
      "DARK 2021-04-10T21:28:37 2.2.0.dev2811\n",
      "4438\n",
      "4438\n",
      "4437\n",
      "DARK 2021-04-11T21:29:44 2.2.0.dev2811\n",
      "4282\n",
      "4282\n",
      "4276\n",
      "DARK 2021-04-13T23:27:14 2.2.0.dev2811\n",
      "4281\n",
      "4281\n",
      "4281\n",
      "4275\n",
      "4275\n",
      "4275\n",
      "4288\n",
      "4288\n",
      "4288\n",
      "4108\n",
      "4108\n",
      "4108\n",
      "4108\n",
      "4108\n",
      "4108\n",
      "4462\n",
      "4462\n",
      "4462\n",
      "4449\n",
      "4449\n",
      "4437\n",
      "BRIGHT 2021-04-07T22:48:49 2.2.0.dev2811\n",
      "4446\n",
      "4446\n",
      "4319\n",
      "BRIGHT 2021-04-08T17:17:38 2.2.0.dev2811\n",
      "4276\n",
      "4276\n",
      "4276\n",
      "4274\n",
      "4274\n",
      "4274\n",
      "4109\n",
      "4109\n",
      "4109\n",
      "4108\n",
      "4108\n",
      "4108\n",
      "4108\n",
      "4108\n",
      "4108\n",
      "4208\n",
      "4208\n",
      "3692\n",
      "BRIGHT 2021-05-06T21:45:37+00:00 2.4.0\n",
      "4204\n",
      "4204\n",
      "3699\n",
      "BRIGHT 2021-05-08T21:24:25+00:00 2.4.0\n",
      "4201\n",
      "4201\n",
      "4123\n",
      "bright 2021-05-29T23:32:41+00:00 4.0.0\n",
      "4461\n",
      "4461\n",
      "4461\n",
      "4438\n",
      "4439\n",
      "3963\n",
      "BACKUP 2021-04-07T22:48:49 2.2.0.dev2811\n",
      "4451\n",
      "4451\n",
      "4451\n",
      "4449\n",
      "4449\n",
      "4446\n",
      "DARK 2021-04-07T22:48:49 2.2.0.dev2811\n",
      "4442\n",
      "4441\n",
      "4436\n",
      "DARK 2021-04-08T17:17:36 2.2.0.dev2811\n",
      "4450\n",
      "4454\n",
      "4436\n",
      "DARK 2021-04-10T21:28:37 2.2.0.dev2811\n",
      "4447\n",
      "4447\n",
      "4434\n",
      "DARK 2021-04-11T21:29:48 2.2.0.dev2811\n",
      "4284\n",
      "4284\n",
      "4247\n",
      "DARK 2021-04-13T23:27:14 2.2.0.dev2811\n",
      "4297\n",
      "4297\n",
      "4297\n",
      "4296\n",
      "4296\n",
      "4296\n",
      "4286\n",
      "4286\n",
      "4286\n",
      "4207\n",
      "4207\n",
      "3745\n",
      "DARK 2021-05-07T19:16:32+00:00 2.4.0\n",
      "4208\n",
      "4208\n",
      "3750\n",
      "DARK 2021-05-08T19:24:59+00:00 2.4.0\n",
      "4464\n",
      "4464\n",
      "4464\n",
      "4449\n",
      "4450\n",
      "4325\n",
      "BRIGHT 2021-04-07T22:48:50 2.2.0.dev2811\n",
      "4445\n",
      "4441\n",
      "3937\n",
      "BRIGHT 2021-04-08T17:17:38 2.2.0.dev2811\n",
      "4290\n",
      "4290\n",
      "4290\n",
      "4273\n",
      "4273\n",
      "4273\n",
      "4272\n",
      "4272\n",
      "4272\n",
      "4284\n",
      "4284\n",
      "4284\n",
      "4109\n",
      "4109\n",
      "4109\n",
      "4207\n",
      "4207\n",
      "3727\n",
      "BRIGHT 2021-05-06T21:45:37+00:00 2.4.0\n",
      "4206\n",
      "4206\n",
      "3768\n",
      "BRIGHT 2021-05-08T21:24:25+00:00 2.4.0\n",
      "4199\n",
      "4199\n",
      "4106\n",
      "bright 2021-05-29T23:32:41+00:00 4.0.0\n",
      "4446\n",
      "4446\n",
      "4446\n",
      "4458\n",
      "4457\n",
      "3736\n",
      "BACKUP 2021-04-12T22:53:58 2.2.0.dev2811\n",
      "4288\n",
      "4288\n",
      "4288\n",
      "4280\n",
      "4280\n",
      "4280\n",
      "4449\n",
      "4449\n",
      "4449\n",
      "4453\n",
      "4453\n",
      "4453\n",
      "4457\n",
      "4457\n",
      "4457\n",
      "4452\n",
      "4456\n",
      "4444\n",
      "DARK 2021-04-10T21:28:37 2.2.0.dev2811\n",
      "4453\n",
      "4453\n",
      "4443\n",
      "DARK 2021-04-11T21:29:47 2.2.0.dev2811\n",
      "4282\n",
      "4282\n",
      "4257\n",
      "DARK 2021-04-13T23:27:14 2.2.0.dev2811\n",
      "4277\n",
      "4277\n",
      "4277\n",
      "4283\n",
      "4283\n",
      "4283\n",
      "4270\n",
      "4270\n",
      "4270\n",
      "4110\n",
      "4110\n",
      "4110\n",
      "4206\n",
      "4206\n",
      "3737\n",
      "DARK 2021-05-06T21:45:35+00:00 2.4.0\n",
      "4459\n",
      "4459\n",
      "4459\n",
      "4443\n",
      "4444\n",
      "4391\n",
      "BRIGHT 2021-04-07T22:48:50 2.2.0.dev2811\n",
      "4436\n",
      "4436\n",
      "4151\n",
      "BRIGHT 2021-04-11T21:29:47 2.2.0.dev2811\n",
      "4274\n",
      "4277\n",
      "3564\n",
      "BRIGHT 2021-04-13T23:27:14 2.2.0.dev2811\n",
      "4272\n",
      "4272\n",
      "4272\n",
      "4275\n",
      "4275\n",
      "4275\n",
      "4285\n",
      "4285\n",
      "4285\n",
      "4274\n",
      "4274\n",
      "4274\n",
      "4275\n",
      "4275\n",
      "4275\n",
      "4283\n",
      "4283\n",
      "4283\n",
      "4109\n",
      "4109\n",
      "4109\n",
      "4458\n",
      "4458\n",
      "4458\n",
      "4283\n",
      "4283\n",
      "4283\n",
      "4284\n",
      "4284\n",
      "4284\n",
      "4271\n",
      "4271\n",
      "4271\n",
      "4281\n",
      "4281\n",
      "4281\n",
      "4469\n",
      "4469\n",
      "4469\n",
      "4460\n",
      "4460\n",
      "4460\n",
      "4447\n",
      "4447\n",
      "4446\n",
      "DARK 2021-04-08T17:17:38 2.2.0.dev2811\n",
      "4463\n",
      "4467\n",
      "4453\n",
      "DARK 2021-04-10T21:28:37 2.2.0.dev2811\n",
      "4441\n",
      "4441\n",
      "4441\n",
      "4280\n",
      "4280\n",
      "4280\n",
      "4279\n",
      "4279\n",
      "4279\n",
      "4277\n",
      "4277\n",
      "4277\n",
      "4288\n",
      "4288\n",
      "4288\n",
      "4110\n",
      "4110\n",
      "4110\n",
      "4206\n",
      "4206\n",
      "3777\n",
      "DARK 2021-05-06T21:45:37+00:00 2.4.0\n",
      "4459\n",
      "4459\n",
      "4459\n",
      "4283\n",
      "4283\n",
      "4283\n",
      "4270\n",
      "4270\n",
      "4270\n",
      "4283\n",
      "4283\n",
      "4283\n",
      "4109\n",
      "4109\n",
      "4109\n",
      "4109\n",
      "4109\n",
      "4109\n",
      "4110\n",
      "4110\n",
      "4110\n",
      "4207\n",
      "4206\n",
      "3711\n",
      "BRIGHT 2021-05-06T21:45:37+00:00 2.4.0\n",
      "4207\n",
      "4207\n",
      "3683\n",
      "BRIGHT 2021-05-07T19:16:32+00:00 2.4.0\n",
      "4205\n",
      "4205\n",
      "3682\n",
      "BRIGHT 2021-05-08T21:24:25+00:00 2.4.0\n",
      "4200\n",
      "4200\n",
      "4108\n",
      "bright 2021-05-29T23:32:41+00:00 4.0.0\n",
      "4445\n",
      "4445\n",
      "4445\n",
      "4449\n",
      "4449\n",
      "4449\n",
      "4447\n",
      "4447\n",
      "4446\n",
      "DARK 2021-04-07T22:48:50 2.2.0.dev2811\n",
      "4436\n",
      "4436\n",
      "4436\n",
      "4453\n",
      "4453\n",
      "4452\n",
      "DARK 2021-04-09T17:50:20 2.2.0.dev2811\n",
      "4453\n",
      "4456\n",
      "4446\n",
      "DARK 2021-04-10T21:28:37 2.2.0.dev2811\n",
      "4444\n",
      "4444\n",
      "4442\n",
      "DARK 2021-04-11T21:29:47 2.2.0.dev2811\n",
      "4277\n",
      "4277\n",
      "4277\n",
      "4287\n",
      "4287\n",
      "4287\n",
      "4280\n",
      "4280\n",
      "4280\n",
      "4290\n",
      "4290\n",
      "4290\n",
      "4109\n",
      "4109\n",
      "4109\n",
      "4441\n",
      "4441\n",
      "4441\n",
      "4464\n",
      "4464\n",
      "4463\n",
      "BRIGHT 2021-04-08T17:17:38 2.2.0.dev2811\n",
      "4462\n",
      "4462\n",
      "4461\n",
      "BRIGHT 2021-04-11T21:29:47 2.2.0.dev2811\n",
      "4275\n",
      "4275\n",
      "4275\n",
      "4276\n",
      "4276\n",
      "4276\n",
      "4282\n",
      "4282\n",
      "4282\n",
      "4285\n",
      "4285\n",
      "4285\n",
      "4108\n",
      "4108\n",
      "4108\n",
      "4109\n",
      "4109\n",
      "4109\n",
      "4207\n",
      "4207\n",
      "3708\n",
      "BRIGHT 2021-05-08T21:24:25+00:00 2.4.0\n",
      "4199\n",
      "4199\n",
      "4117\n",
      "bright 2021-05-29T23:32:41+00:00 4.0.0\n",
      "4466\n",
      "4466\n",
      "4466\n",
      "4464\n",
      "4464\n",
      "4464\n",
      "4459\n",
      "4459\n",
      "4459\n",
      "4465\n",
      "4465\n",
      "4465\n",
      "4455\n",
      "4455\n",
      "4454\n",
      "DARK 2021-04-09T17:50:20 2.2.0.dev2811\n",
      "4451\n",
      "4455\n",
      "4439\n",
      "DARK 2021-04-10T21:28:37 2.2.0.dev2811\n",
      "4465\n",
      "4465\n",
      "4465\n",
      "4286\n",
      "4286\n",
      "4286\n",
      "4289\n",
      "4289\n",
      "4289\n",
      "4279\n",
      "4279\n",
      "4279\n",
      "4286\n",
      "4286\n",
      "4286\n",
      "4110\n",
      "4110\n",
      "4110\n",
      "4462\n",
      "4462\n",
      "4462\n",
      "4429\n",
      "4429\n",
      "4428\n",
      "BRIGHT 2021-04-11T21:29:43 2.2.0.dev2811\n",
      "4286\n",
      "4286\n",
      "4286\n",
      "4274\n",
      "4274\n",
      "4274\n",
      "4289\n",
      "4289\n",
      "4289\n",
      "4270\n",
      "4270\n",
      "4270\n",
      "4109\n",
      "4109\n",
      "4109\n",
      "4109\n",
      "4109\n",
      "4109\n",
      "4205\n",
      "4205\n",
      "3690\n",
      "BRIGHT 2021-05-06T21:45:37+00:00 2.4.0\n",
      "4204\n",
      "4204\n",
      "3690\n",
      "BRIGHT 2021-05-08T21:24:25+00:00 2.4.0\n",
      "4199\n",
      "4199\n",
      "4112\n",
      "bright 2021-05-29T23:32:41+00:00 4.0.0\n",
      "4450\n",
      "4450\n",
      "4450\n",
      "4454\n",
      "4454\n",
      "4454\n",
      "4444\n",
      "4444\n",
      "4443\n",
      "DARK 2021-04-07T22:48:50 2.2.0.dev2811\n",
      "4436\n",
      "4436\n",
      "4436\n",
      "4446\n",
      "4446\n",
      "4444\n",
      "DARK 2021-04-09T17:50:20 2.2.0.dev2811\n",
      "4456\n",
      "4459\n",
      "4441\n",
      "DARK 2021-04-10T21:28:37 2.2.0.dev2811\n",
      "4440\n",
      "4440\n",
      "4417\n",
      "DARK 2021-04-11T21:29:44 2.2.0.dev2811\n",
      "4280\n",
      "4280\n",
      "4170\n",
      "DARK 2021-04-13T23:27:14 2.2.0.dev2811\n",
      "4281\n",
      "4281\n",
      "4281\n",
      "4280\n",
      "4280\n",
      "4280\n",
      "4273\n",
      "4273\n",
      "4273\n",
      "4262\n",
      "4262\n",
      "4262\n",
      "4443\n",
      "4443\n",
      "4443\n",
      "4457\n",
      "4457\n",
      "4457\n",
      "4455\n",
      "4455\n",
      "4450\n",
      "BRIGHT 2021-04-11T21:29:46 2.2.0.dev2811\n",
      "4271\n",
      "4271\n",
      "4271\n",
      "4293\n",
      "4293\n",
      "4293\n",
      "4273\n",
      "4273\n",
      "4273\n",
      "4290\n",
      "4290\n",
      "4290\n",
      "4282\n",
      "4282\n",
      "4282\n",
      "4272\n",
      "4272\n",
      "4272\n",
      "4109\n",
      "4109\n",
      "4109\n",
      "4109\n",
      "4109\n",
      "4109\n",
      "4455\n",
      "4455\n",
      "4455\n",
      "4445\n",
      "4439\n",
      "4109\n",
      "BACKUP 2021-04-12T22:53:58 2.2.0.dev2811\n",
      "4284\n",
      "4284\n",
      "4284\n",
      "4470\n",
      "4470\n",
      "4470\n",
      "4451\n",
      "4451\n",
      "4451\n",
      "4441\n",
      "4441\n",
      "4439\n",
      "DARK 2021-04-08T17:17:37 2.2.0.dev2811\n",
      "4453\n",
      "4453\n",
      "4453\n",
      "4457\n",
      "4461\n",
      "4443\n",
      "DARK 2021-04-10T21:28:37 2.2.0.dev2811\n",
      "4469\n",
      "4469\n",
      "4437\n",
      "DARK 2021-04-11T21:29:44 2.2.0.dev2811\n",
      "4282\n",
      "4283\n",
      "4176\n",
      "DARK 2021-04-13T23:27:14 2.2.0.dev2811\n",
      "4288\n",
      "4288\n",
      "4288\n",
      "4279\n",
      "4279\n",
      "4279\n",
      "4284\n",
      "4284\n",
      "4284\n",
      "4288\n",
      "4288\n",
      "4288\n",
      "4452\n",
      "4452\n",
      "4452\n",
      "4440\n",
      "4440\n",
      "4440\n",
      "4456\n",
      "4457\n",
      "4334\n",
      "BRIGHT 2021-04-11T21:29:45 2.2.0.dev2811\n",
      "4293\n",
      "4293\n",
      "4293\n",
      "4284\n",
      "4284\n",
      "4284\n",
      "4268\n",
      "4268\n",
      "4268\n",
      "4281\n",
      "4281\n",
      "4281\n",
      "4280\n",
      "4280\n",
      "4280\n",
      "4109\n",
      "4109\n",
      "4109\n",
      "4110\n",
      "4110\n",
      "4110\n",
      "4200\n",
      "4200\n",
      "4125\n",
      "bright 2021-05-29T23:32:41+00:00 4.0.0\n",
      "4444\n",
      "4444\n",
      "4444\n",
      "4277\n",
      "4277\n",
      "4277\n",
      "4454\n",
      "4454\n",
      "4454\n",
      "4454\n",
      "4454\n",
      "4453\n",
      "DARK 2021-04-07T22:48:50 2.2.0.dev2811\n",
      "4436\n",
      "4436\n",
      "4435\n",
      "DARK 2021-04-08T17:17:39 2.2.0.dev2811\n",
      "4457\n",
      "4457\n",
      "4455\n",
      "DARK 2021-04-09T17:50:20 2.2.0.dev2811\n",
      "4461\n",
      "4466\n",
      "4448\n",
      "DARK 2021-04-10T21:28:37 2.2.0.dev2811\n",
      "4461\n",
      "4461\n",
      "4437\n",
      "DARK 2021-04-11T21:29:45 2.2.0.dev2811\n",
      "4430\n",
      "4429\n",
      "4294\n",
      "DARK 2021-04-12T22:53:58 2.2.0.dev2811\n",
      "4277\n",
      "4278\n",
      "3994\n",
      "DARK 2021-04-13T23:27:14 2.2.0.dev2811\n",
      "4285\n",
      "4285\n",
      "4285\n",
      "4282\n",
      "4282\n",
      "4282\n",
      "4268\n",
      "4268\n",
      "4268\n",
      "4464\n",
      "4464\n",
      "4464\n",
      "4449\n",
      "4454\n",
      "4439\n",
      "BRIGHT 2021-04-10T21:28:37 2.2.0.dev2811\n",
      "4443\n",
      "4443\n",
      "4437\n",
      "BRIGHT 2021-04-11T21:29:47 2.2.0.dev2811\n",
      "4441\n",
      "4440\n",
      "4338\n",
      "BRIGHT 2021-04-12T22:53:58 2.2.0.dev2811\n",
      "4287\n",
      "4287\n",
      "4287\n",
      "4275\n",
      "4275\n",
      "4275\n",
      "4289\n",
      "4289\n",
      "4289\n",
      "4284\n",
      "4284\n",
      "4284\n",
      "4278\n",
      "4278\n",
      "4278\n",
      "4109\n",
      "4109\n",
      "4109\n",
      "4201\n",
      "4201\n",
      "4121\n",
      "bright 2021-05-29T23:32:41+00:00 4.0.0\n",
      "4445\n",
      "4445\n",
      "4445\n",
      "4268\n",
      "4268\n",
      "4268\n",
      "4275\n",
      "4275\n",
      "4275\n",
      "4434\n",
      "4434\n",
      "4434\n",
      "4449\n",
      "4449\n",
      "4449\n",
      "4461\n",
      "4461\n",
      "4461\n",
      "4462\n",
      "4462\n",
      "4462\n",
      "4454\n",
      "4458\n",
      "4446\n",
      "DARK 2021-04-10T21:28:37 2.2.0.dev2811\n",
      "4451\n",
      "4451\n",
      "4440\n",
      "DARK 2021-04-11T21:29:47 2.2.0.dev2811\n",
      "4448\n",
      "4449\n",
      "4384\n",
      "DARK 2021-04-12T22:53:58 2.2.0.dev2811\n",
      "4282\n",
      "4282\n",
      "4134\n",
      "DARK 2021-04-13T23:27:14 2.2.0.dev2811\n",
      "4283\n",
      "4283\n",
      "4283\n",
      "4278\n",
      "4278\n",
      "4278\n",
      "4283\n",
      "4283\n",
      "4283\n",
      "4468\n",
      "4468\n",
      "4468\n",
      "4461\n",
      "4464\n",
      "4453\n",
      "BRIGHT 2021-04-10T21:28:37 2.2.0.dev2811\n",
      "4452\n",
      "4452\n",
      "4451\n",
      "BRIGHT 2021-04-11T21:29:45 2.2.0.dev2811\n",
      "4290\n",
      "4290\n",
      "4290\n",
      "4282\n",
      "4282\n",
      "4282\n",
      "4285\n",
      "4285\n",
      "4285\n",
      "4110\n",
      "4110\n",
      "4110\n",
      "4108\n",
      "4108\n",
      "4108\n",
      "4110\n",
      "4110\n",
      "4110\n",
      "4206\n",
      "4207\n",
      "3707\n",
      "BRIGHT 2021-05-08T21:24:25+00:00 2.4.0\n",
      "4200\n",
      "4200\n",
      "4116\n",
      "bright 2021-05-29T23:32:41+00:00 4.0.0\n",
      "4457\n",
      "4457\n",
      "4457\n",
      "4284\n",
      "4284\n",
      "4284\n",
      "4457\n",
      "4457\n",
      "4457\n",
      "4463\n",
      "4463\n",
      "4463\n",
      "4458\n",
      "4458\n",
      "4457\n",
      "DARK 2021-04-08T17:17:38 2.2.0.dev2811\n",
      "4463\n",
      "4463\n",
      "4462\n",
      "DARK 2021-04-09T17:50:20 2.2.0.dev2811\n",
      "4451\n",
      "4456\n",
      "4433\n",
      "DARK 2021-04-10T21:28:37 2.2.0.dev2811\n",
      "4454\n",
      "4454\n",
      "4363\n",
      "DARK 2021-04-11T21:29:47 2.2.0.dev2811\n",
      "4481\n",
      "4479\n",
      "4278\n",
      "DARK 2021-04-12T22:53:58 2.2.0.dev2811\n",
      "4292\n",
      "4273\n",
      "658\n",
      "DARK 2021-04-13T23:27:13 2.2.0.dev2811\n",
      "4280\n",
      "4280\n",
      "4280\n",
      "4275\n",
      "4275\n",
      "4275\n",
      "4274\n",
      "4274\n",
      "4274\n",
      "4448\n",
      "4448\n",
      "4448\n",
      "4454\n",
      "4458\n",
      "4443\n",
      "BRIGHT 2021-04-10T21:28:37 2.2.0.dev2811\n",
      "4463\n",
      "4463\n",
      "4463\n",
      "4282\n",
      "4282\n",
      "4282\n",
      "4286\n",
      "4286\n",
      "4286\n",
      "4287\n",
      "4287\n",
      "4287\n",
      "4286\n",
      "4286\n",
      "4286\n",
      "4290\n",
      "4290\n",
      "4290\n",
      "4109\n",
      "4109\n",
      "4109\n",
      "4205\n",
      "4205\n",
      "3711\n",
      "BRIGHT 2021-05-08T21:24:25+00:00 2.4.0\n",
      "4200\n",
      "4200\n",
      "4103\n",
      "bright 2021-05-29T23:32:41+00:00 4.0.0\n",
      "4456\n",
      "4456\n",
      "4456\n",
      "4440\n",
      "4440\n",
      "4437\n",
      "BACKUP 2021-04-12T22:53:58 2.2.0.dev2811\n",
      "4110\n",
      "4110\n",
      "4110\n",
      "4264\n",
      "4264\n",
      "4264\n",
      "4284\n",
      "4284\n",
      "4284\n",
      "4287\n",
      "4287\n",
      "4287\n",
      "4283\n",
      "4283\n",
      "4283\n",
      "4273\n",
      "4273\n",
      "4273\n",
      "4274\n",
      "4274\n",
      "4274\n",
      "4292\n",
      "4292\n",
      "4292\n",
      "4277\n",
      "4277\n",
      "4277\n",
      "4208\n",
      "4207\n",
      "3729\n",
      "DARK 2021-05-06T21:45:36+00:00 2.4.0\n",
      "4201\n",
      "4201\n",
      "4116\n",
      "dark 2021-05-29T23:32:41+00:00 4.0.0\n",
      "4201\n",
      "4201\n",
      "4107\n",
      "dark 2021-05-14T02:50:50+00:00 3.0.0\n",
      "4200\n",
      "4200\n",
      "4098\n",
      "dark 2021-05-29T23:32:41+00:00 4.0.0\n",
      "4200\n",
      "4200\n",
      "4101\n",
      "dark 2021-05-14T02:50:50+00:00 3.0.0\n",
      "4199\n",
      "4199\n",
      "4091\n",
      "dark 2021-05-29T23:32:41+00:00 4.0.0\n",
      "4207\n",
      "4207\n",
      "3708\n",
      "DARK 2021-05-06T21:45:37+00:00 2.4.0\n",
      "4206\n",
      "4206\n",
      "3705\n",
      "DARK 2021-05-11T00:57:51+00:00 2.4.0\n",
      "4200\n",
      "4200\n",
      "4096\n",
      "dark 2021-05-29T23:32:41+00:00 4.0.0\n",
      "4109\n",
      "4109\n",
      "4109\n",
      "4108\n",
      "4108\n",
      "4108\n",
      "4200\n",
      "4200\n",
      "4107\n",
      "dark 2021-05-29T23:32:41+00:00 4.0.0\n",
      "4207\n",
      "4207\n",
      "3713\n",
      "DARK 2021-05-10T19:19:17+00:00 2.4.0\n",
      "4200\n",
      "4200\n",
      "4117\n",
      "dark 2021-05-29T23:32:41+00:00 4.0.0\n",
      "4206\n",
      "4206\n",
      "3738\n",
      "DARK 2021-05-07T19:16:32+00:00 2.4.0\n",
      "4201\n",
      "4201\n",
      "4101\n",
      "dark 2021-05-29T23:32:41+00:00 4.0.0\n",
      "4200\n",
      "4200\n",
      "4104\n",
      "dark 2021-05-14T02:50:50+00:00 3.0.0\n",
      "4200\n",
      "4200\n",
      "4105\n",
      "dark 2021-05-29T23:32:41+00:00 4.0.0\n",
      "4207\n",
      "4207\n",
      "3758\n",
      "DARK 2021-05-06T21:45:37+00:00 2.4.0\n",
      "4199\n",
      "4199\n",
      "4111\n",
      "dark 2021-05-29T23:32:41+00:00 4.0.0\n",
      "4109\n",
      "4109\n",
      "4109\n",
      "4200\n",
      "4200\n",
      "4124\n",
      "dark 2021-05-29T23:32:41+00:00 4.0.0\n",
      "4109\n",
      "4109\n",
      "4109\n",
      "4200\n",
      "4200\n",
      "4087\n",
      "dark 2021-05-29T23:32:41+00:00 4.0.0\n",
      "4109\n",
      "4109\n",
      "4109\n",
      "4199\n",
      "4199\n",
      "4108\n",
      "dark 2021-05-29T23:32:41+00:00 4.0.0\n",
      "4110\n",
      "4110\n",
      "4110\n",
      "4109\n",
      "4109\n",
      "4109\n",
      "4110\n",
      "4110\n",
      "4110\n",
      "4109\n",
      "4109\n",
      "4109\n",
      "4207\n",
      "4207\n",
      "3795\n",
      "DARK 2021-05-06T21:45:37+00:00 2.4.0\n",
      "4207\n",
      "4207\n",
      "3785\n",
      "DARK 2021-05-07T19:16:32+00:00 2.4.0\n",
      "4207\n",
      "4207\n",
      "3772\n",
      "DARK 2021-05-08T19:24:59+00:00 2.4.0\n",
      "4208\n",
      "4208\n",
      "3769\n",
      "DARK 2021-05-09T19:46:50+00:00 2.4.0\n",
      "4201\n",
      "4201\n",
      "4201\n",
      "4201\n",
      "4201\n",
      "4201\n",
      "4201\n",
      "4201\n",
      "4096\n",
      "dark 2021-05-14T02:50:50+00:00 3.0.0\n",
      "4201\n",
      "4201\n",
      "4121\n",
      "dark 2021-05-14T19:33:58+00:00 3.0.0\n",
      "4110\n",
      "4110\n",
      "4110\n",
      "4109\n",
      "4109\n",
      "4109\n",
      "4207\n",
      "4207\n",
      "3768\n",
      "BRIGHT 2021-05-07T19:16:32+00:00 2.4.0\n",
      "4206\n",
      "4206\n",
      "3746\n",
      "BRIGHT 2021-05-08T19:24:59+00:00 2.4.0\n",
      "4207\n",
      "4207\n",
      "3739\n",
      "BRIGHT 2021-05-09T19:46:50+00:00 2.4.0\n",
      "4206\n",
      "4206\n",
      "3738\n",
      "BRIGHT 2021-05-10T19:19:17+00:00 2.4.0\n",
      "4201\n",
      "4201\n",
      "4201\n",
      "4200\n",
      "4200\n",
      "4200\n",
      "4201\n",
      "4201\n",
      "4120\n",
      "bright 2021-05-14T02:50:50+00:00 3.0.0\n",
      "4200\n",
      "4200\n",
      "4110\n",
      "bright 2021-05-14T19:33:58+00:00 3.0.0\n",
      "4110\n",
      "4110\n",
      "4110\n",
      "4109\n",
      "4109\n",
      "4109\n",
      "4110\n",
      "4110\n",
      "4110\n",
      "4109\n",
      "4109\n",
      "4109\n",
      "4205\n",
      "4205\n",
      "3810\n",
      "DARK 2021-05-06T21:45:36+00:00 2.4.0\n",
      "4206\n",
      "4206\n",
      "3809\n",
      "DARK 2021-05-07T19:16:32+00:00 2.4.0\n",
      "4206\n",
      "4206\n",
      "3797\n",
      "DARK 2021-05-09T19:46:50+00:00 2.4.0\n",
      "4199\n",
      "4199\n",
      "4199\n",
      "4201\n",
      "4201\n",
      "4113\n",
      "dark 2021-05-14T02:50:50+00:00 3.0.0\n",
      "4200\n",
      "4200\n",
      "4093\n",
      "dark 2021-05-14T19:33:58+00:00 3.0.0\n",
      "4198\n",
      "4198\n",
      "4115\n",
      "dark 2021-05-18T22:07:21+00:00 4.0.0\n",
      "4196\n",
      "4196\n",
      "4113\n",
      "dark 2021-05-21T19:13:29+00:00 4.0.0\n",
      "4109\n",
      "4109\n",
      "4109\n",
      "4109\n",
      "4109\n",
      "4109\n",
      "4110\n",
      "4110\n",
      "4110\n",
      "4206\n",
      "4206\n",
      "3763\n",
      "BRIGHT 2021-05-06T21:45:36+00:00 2.4.0\n",
      "4205\n",
      "4205\n",
      "3759\n",
      "BRIGHT 2021-05-07T19:16:32+00:00 2.4.0\n",
      "4205\n",
      "4206\n",
      "3734\n",
      "BRIGHT 2021-05-08T19:24:59+00:00 2.4.0\n",
      "4208\n",
      "4207\n",
      "3710\n",
      "BRIGHT 2021-05-09T19:46:50+00:00 2.4.0\n",
      "4201\n",
      "4201\n",
      "4201\n",
      "4199\n",
      "4199\n",
      "4128\n",
      "bright 2021-05-14T02:50:50+00:00 3.0.0\n",
      "4200\n",
      "4200\n",
      "4117\n",
      "bright 2021-05-14T19:33:58+00:00 3.0.0\n",
      "4199\n",
      "4199\n",
      "4110\n",
      "bright 2021-05-29T23:32:41+00:00 4.0.0\n",
      "4109\n",
      "4109\n",
      "4109\n",
      "4109\n",
      "4109\n",
      "4109\n",
      "4109\n",
      "4109\n",
      "4109\n",
      "4107\n",
      "4107\n",
      "4107\n",
      "4207\n",
      "4207\n",
      "3798\n",
      "DARK 2021-05-08T19:24:59+00:00 2.4.0\n",
      "4207\n",
      "4207\n",
      "3787\n",
      "DARK 2021-05-10T19:19:17+00:00 2.4.0\n",
      "4201\n",
      "4201\n",
      "4201\n",
      "4200\n",
      "4200\n",
      "4200\n",
      "4201\n",
      "4201\n",
      "4117\n",
      "dark 2021-05-14T02:50:50+00:00 3.0.0\n",
      "4201\n",
      "4201\n",
      "4118\n",
      "dark 2021-05-14T19:33:58+00:00 3.0.0\n",
      "4198\n",
      "4198\n",
      "4089\n",
      "dark 2021-05-18T22:07:21+00:00 4.0.0\n",
      "4195\n",
      "4195\n",
      "4105\n",
      "dark 2021-05-21T19:13:29+00:00 4.0.0\n",
      "4201\n",
      "4201\n",
      "4120\n",
      "dark 2021-05-29T23:35:29+00:00 4.0.0\n",
      "4109\n",
      "4109\n",
      "4109\n",
      "4109\n",
      "4109\n",
      "4109\n",
      "4207\n",
      "4207\n",
      "3807\n",
      "BRIGHT 2021-05-06T21:45:37+00:00 2.4.0\n",
      "4208\n",
      "4208\n",
      "3791\n",
      "BRIGHT 2021-05-07T19:16:32+00:00 2.4.0\n",
      "4208\n",
      "4208\n",
      "3780\n",
      "BRIGHT 2021-05-08T19:24:59+00:00 2.4.0\n",
      "4207\n",
      "4207\n",
      "3763\n",
      "BRIGHT 2021-05-09T19:46:50+00:00 2.4.0\n",
      "4206\n",
      "4206\n",
      "3746\n",
      "BRIGHT 2021-05-10T19:19:17+00:00 2.4.0\n",
      "4200\n",
      "4200\n",
      "4200\n",
      "4201\n",
      "4201\n",
      "4201\n",
      "4200\n",
      "4200\n",
      "4113\n",
      "bright 2021-05-14T02:50:50+00:00 3.0.0\n",
      "4201\n",
      "4201\n",
      "4116\n",
      "bright 2021-05-29T23:35:29+00:00 4.0.0\n",
      "4110\n",
      "4110\n",
      "4110\n",
      "4109\n",
      "4109\n",
      "4109\n",
      "4110\n",
      "4110\n",
      "4110\n",
      "4109\n",
      "4109\n",
      "4109\n",
      "4207\n",
      "4207\n",
      "3791\n",
      "DARK 2021-05-06T21:45:37+00:00 2.4.0\n",
      "4207\n",
      "4206\n",
      "3785\n",
      "DARK 2021-05-07T19:16:32+00:00 2.4.0\n",
      "4206\n",
      "4206\n",
      "3771\n",
      "DARK 2021-05-08T19:24:59+00:00 2.4.0\n",
      "4205\n",
      "4205\n",
      "3765\n",
      "DARK 2021-05-09T19:46:50+00:00 2.4.0\n",
      "4207\n",
      "4207\n",
      "3750\n",
      "DARK 2021-05-10T19:19:17+00:00 2.4.0\n",
      "4200\n",
      "4200\n",
      "4200\n",
      "4200\n",
      "4200\n",
      "4200\n",
      "4200\n",
      "4200\n",
      "4115\n",
      "dark 2021-05-14T02:50:50+00:00 3.0.0\n",
      "4201\n",
      "4201\n",
      "4121\n",
      "dark 2021-05-14T19:33:58+00:00 3.0.0\n",
      "4110\n",
      "4110\n",
      "4110\n",
      "4110\n",
      "4110\n",
      "4110\n",
      "4109\n",
      "4109\n",
      "4109\n",
      "4110\n",
      "4110\n",
      "4110\n",
      "4207\n",
      "4207\n",
      "3732\n",
      "BRIGHT 2021-05-06T21:45:37+00:00 2.4.0\n",
      "4206\n",
      "4206\n",
      "3721\n",
      "BRIGHT 2021-05-07T19:16:32+00:00 2.4.0\n",
      "4206\n",
      "4205\n",
      "3701\n",
      "BRIGHT 2021-05-08T19:24:59+00:00 2.4.0\n",
      "4205\n",
      "4206\n",
      "3682\n",
      "BRIGHT 2021-05-10T19:19:17+00:00 2.4.0\n",
      "4201\n",
      "4201\n",
      "4201\n",
      "4201\n",
      "4201\n",
      "4201\n",
      "4200\n",
      "4200\n",
      "4135\n",
      "bright 2021-05-29T23:35:29+00:00 4.0.0\n",
      "4109\n",
      "4109\n",
      "4109\n"
     ]
    }
   ],
   "source": [
    "bt = []\n",
    "for tile in range(1,600):\n",
    "    ts = str(tile).zfill(6)\n",
    "    fbaf = '/global/cfs/cdirs/desi/target/fiberassign/tiles/trunk/'+ts[:3]+'/fiberassign-'+ts+'.fits.gz'\n",
    "    if os.path.isfile(fbaf):\n",
    "        t = fa.comp_neworig(tile)\n",
    "        if t == False:\n",
    "            fh = fitsio.read_header(fbaf)\n",
    "            bt.append(tile)\n",
    "            print(fh['FAPRGRM'],fh['RUNDATE'],fh['FA_VER'])\n",
    "        #print(tile,t)"
   ]
  },
  {
   "cell_type": "code",
   "execution_count": 10,
   "id": "0ca08f05-d9ab-49a3-8c7b-b9fbf31a0ad1",
   "metadata": {},
   "outputs": [
    {
     "data": {
      "text/plain": [
       "212"
      ]
     },
     "execution_count": 10,
     "metadata": {},
     "output_type": "execute_result"
    }
   ],
   "source": [
    "len(bt)"
   ]
  },
  {
   "cell_type": "code",
   "execution_count": 13,
   "id": "9239b592-fdf7-4d0b-b055-151f54b4fcae",
   "metadata": {},
   "outputs": [
    {
     "name": "stdout",
     "output_type": "stream",
     "text": [
      "/global/cfs/cdirs/desi/survey/fiberassign/SV3/20210411/\n"
     ]
    }
   ],
   "source": [
    "fa.redo_fba_fromorig(5,outdir='/global/cfs/cdirs/desi/survey/catalogs/testfiberassign/SV3rerun/orig/')"
   ]
  },
  {
   "cell_type": "code",
   "execution_count": 12,
   "id": "419f1ad9-f5d7-4cdb-bc73-e87bd4eb00b9",
   "metadata": {},
   "outputs": [
    {
     "name": "stdout",
     "output_type": "stream",
     "text": [
      "4450\n",
      "4450\n",
      "4450\n",
      "True\n"
     ]
    }
   ],
   "source": [
    "t = fa.comp_neworig(3)\n",
    "print(t)"
   ]
  },
  {
   "cell_type": "code",
   "execution_count": 65,
   "id": "9baa5664-dfca-4b5f-8d7d-672256b39d7a",
   "metadata": {},
   "outputs": [
    {
     "name": "stdout",
     "output_type": "stream",
     "text": [
      "4444\n",
      "4444\n",
      "4444\n",
      "good\n",
      "4459\n",
      "4459\n",
      "4459\n",
      "good\n",
      "4453\n",
      "4453\n",
      "4453\n",
      "good\n",
      "4447\n",
      "4447\n",
      "4447\n",
      "good\n",
      "4451\n",
      "4451\n",
      "4451\n",
      "good\n",
      "4457\n",
      "4457\n",
      "4457\n",
      "good\n",
      "4451\n",
      "4451\n",
      "4451\n",
      "good\n",
      "4449\n",
      "4449\n",
      "4449\n",
      "good\n",
      "4469\n",
      "4469\n",
      "4469\n",
      "good\n",
      "4449\n",
      "4449\n",
      "4449\n",
      "good\n",
      "4464\n",
      "4464\n",
      "4464\n",
      "good\n",
      "4454\n",
      "4454\n",
      "4454\n",
      "good\n",
      "4470\n",
      "4470\n",
      "4470\n",
      "good\n",
      "4454\n",
      "4454\n",
      "4454\n",
      "good\n",
      "4434\n",
      "4434\n",
      "4434\n",
      "good\n",
      "4457\n",
      "4457\n",
      "4457\n",
      "good\n"
     ]
    }
   ],
   "source": [
    "for i in range(0,16):\n",
    "    ti = 1+i*27\n",
    "    t = fa.comp_neworig(ti)\n",
    "    if t:\n",
    "        print('good')\n",
    "    else:\n",
    "        print('bad')"
   ]
  },
  {
   "cell_type": "code",
   "execution_count": 94,
   "id": "86af59cb-54ba-4063-afcb-170a2da3b85f",
   "metadata": {},
   "outputs": [
    {
     "name": "stdout",
     "output_type": "stream",
     "text": [
      "4109\n",
      "4109\n",
      "4109\n",
      "True\n"
     ]
    }
   ],
   "source": [
    "t = fa.comp_neworig(571)\n",
    "print(t)"
   ]
  },
  {
   "cell_type": "code",
   "execution_count": 69,
   "id": "3eccf519-96b1-4ff4-9757-d194d7fba895",
   "metadata": {},
   "outputs": [
    {
     "data": {
      "text/html": [
       "<i>Table length=43</i>\n",
       "<table id=\"table46913310040560\" class=\"table-striped table-bordered table-condensed\">\n",
       "<thead><tr><th>TILEID</th><th>SURVEY</th><th>FAPRGRM</th><th>FAFLAVOR</th><th>NEXP</th><th>EXPTIME</th><th>EFFTIME_ETC</th><th>EFFTIME_SPEC</th><th>EFFTIME_GFA</th><th>GOALTIME</th><th>OBSSTATUS</th><th>ZDONE</th><th>ELG_EFFTIME_DARK</th><th>BGS_EFFTIME_BRIGHT</th><th>LYA_EFFTIME_DARK</th><th>GOALTYPE</th><th>MINTFRAC</th><th>LASTNIGHT</th></tr></thead>\n",
       "<thead><tr><th>int64</th><th>str7</th><th>str16</th><th>str19</th><th>int64</th><th>float64</th><th>float64</th><th>float64</th><th>float64</th><th>float64</th><th>str8</th><th>str5</th><th>float64</th><th>float64</th><th>float64</th><th>str7</th><th>float64</th><th>int64</th></tr></thead>\n",
       "<tr><td>481</td><td>sv3</td><td>dark</td><td>sv3dark</td><td>1</td><td>1326.2</td><td>1417.8</td><td>1476.9</td><td>1298.5</td><td>1200.0</td><td>obsend</td><td>true</td><td>1476.9</td><td>1565.3</td><td>1561.9</td><td>dark</td><td>0.9</td><td>20210502</td></tr>\n",
       "<tr><td>511</td><td>sv3</td><td>dark</td><td>sv3dark</td><td>1</td><td>1722.7</td><td>1401.2</td><td>1395.8</td><td>1203.9</td><td>1200.0</td><td>obsend</td><td>true</td><td>1395.8</td><td>1448.9</td><td>1437.2</td><td>dark</td><td>0.9</td><td>20210502</td></tr>\n",
       "<tr><td>541</td><td>sv3</td><td>dark</td><td>sv3dark</td><td>1</td><td>875.9</td><td>1403.1</td><td>1347.3</td><td>1043.3</td><td>1200.0</td><td>obsend</td><td>true</td><td>1347.3</td><td>1378.0</td><td>1343.0</td><td>dark</td><td>0.9</td><td>20210503</td></tr>\n",
       "<tr><td>571</td><td>sv3</td><td>dark</td><td>sv3dark</td><td>1</td><td>834.9</td><td>1408.5</td><td>1311.2</td><td>1166.9</td><td>1200.0</td><td>obsend</td><td>true</td><td>1311.2</td><td>1393.8</td><td>1491.3</td><td>dark</td><td>0.9</td><td>20210503</td></tr>\n",
       "<tr><td>512</td><td>sv3</td><td>dark</td><td>sv3dark</td><td>2</td><td>2004.5</td><td>1403.1</td><td>1209.3</td><td>1140.7</td><td>1200.0</td><td>obsend</td><td>true</td><td>1209.3</td><td>1318.7</td><td>1340.4</td><td>dark</td><td>0.9</td><td>20210503</td></tr>\n",
       "<tr><td>482</td><td>sv3</td><td>dark</td><td>sv3dark</td><td>1</td><td>1065.4</td><td>1403.8</td><td>1348.0</td><td>1250.1</td><td>1200.0</td><td>obsend</td><td>true</td><td>1348.0</td><td>1500.0</td><td>1640.2</td><td>dark</td><td>0.9</td><td>20210503</td></tr>\n",
       "<tr><td>483</td><td>sv3</td><td>dark</td><td>sv3dark</td><td>1</td><td>1030.1</td><td>1406.0</td><td>1257.4</td><td>1262.9</td><td>1200.0</td><td>obsend</td><td>true</td><td>1257.4</td><td>1399.0</td><td>1390.0</td><td>dark</td><td>0.9</td><td>20210504</td></tr>\n",
       "<tr><td>542</td><td>sv3</td><td>dark</td><td>sv3dark</td><td>1</td><td>1129.4</td><td>1400.2</td><td>1276.6</td><td>1020.5</td><td>1200.0</td><td>obsend</td><td>true</td><td>1276.6</td><td>1255.2</td><td>928.0</td><td>dark</td><td>0.9</td><td>20210504</td></tr>\n",
       "<tr><td>572</td><td>sv3</td><td>dark</td><td>sv3dark</td><td>1</td><td>1055.9</td><td>1413.8</td><td>1348.9</td><td>1193.5</td><td>1200.0</td><td>obsend</td><td>true</td><td>1348.9</td><td>1399.2</td><td>1208.4</td><td>dark</td><td>0.9</td><td>20210504</td></tr>\n",
       "<tr><td>513</td><td>sv3</td><td>dark</td><td>sv3dark</td><td>4</td><td>3676.5</td><td>1285.7</td><td>1208.8</td><td>1077.7</td><td>1200.0</td><td>obsend</td><td>true</td><td>1208.8</td><td>1268.9</td><td>1114.9</td><td>dark</td><td>0.9</td><td>20210505</td></tr>\n",
       "<tr><td>...</td><td>...</td><td>...</td><td>...</td><td>...</td><td>...</td><td>...</td><td>...</td><td>...</td><td>...</td><td>...</td><td>...</td><td>...</td><td>...</td><td>...</td><td>...</td><td>...</td><td>...</td></tr>\n",
       "<tr><td>490</td><td>sv3</td><td>dark</td><td>sv3dark</td><td>1</td><td>812.5</td><td>1205.5</td><td>1242.0</td><td>1233.6</td><td>1200.0</td><td>obsend</td><td>true</td><td>1242.0</td><td>1400.5</td><td>1330.4</td><td>dark</td><td>0.9</td><td>20210512</td></tr>\n",
       "<tr><td>581</td><td>sv3</td><td>dark</td><td>sv3dark</td><td>1</td><td>981.8</td><td>1211.5</td><td>1470.3</td><td>1354.5</td><td>1200.0</td><td>obsend</td><td>true</td><td>1470.3</td><td>1698.5</td><td>1661.2</td><td>dark</td><td>0.9</td><td>20210513</td></tr>\n",
       "<tr><td>491</td><td>sv3</td><td>dark</td><td>sv3dark</td><td>1</td><td>1364.9</td><td>1207.6</td><td>1441.4</td><td>1465.8</td><td>1200.0</td><td>obsend</td><td>true</td><td>1441.4</td><td>1657.4</td><td>1592.1</td><td>dark</td><td>0.9</td><td>20210513</td></tr>\n",
       "<tr><td>548</td><td>sv3</td><td>dark</td><td>sv3dark</td><td>1</td><td>985.1</td><td>1215.5</td><td>1362.4</td><td>1267.0</td><td>1200.0</td><td>obsend</td><td>true</td><td>1362.4</td><td>1542.8</td><td>1372.1</td><td>dark</td><td>0.9</td><td>20210513</td></tr>\n",
       "<tr><td>518</td><td>sv3</td><td>dark</td><td>sv3dark</td><td>1</td><td>1721.4</td><td>1205.9</td><td>1483.0</td><td>1359.5</td><td>1200.0</td><td>obsend</td><td>true</td><td>1483.0</td><td>1650.9</td><td>1564.6</td><td>dark</td><td>0.9</td><td>20210513</td></tr>\n",
       "<tr><td>549</td><td>sv3</td><td>dark</td><td>sv3dark</td><td>1</td><td>850.2</td><td>1214.7</td><td>1381.5</td><td>1215.3</td><td>1200.0</td><td>obsend</td><td>true</td><td>1381.5</td><td>1553.8</td><td>1268.9</td><td>dark</td><td>0.9</td><td>20210517</td></tr>\n",
       "<tr><td>519</td><td>sv3</td><td>dark</td><td>sv3dark</td><td>1</td><td>1378.3</td><td>0.0</td><td>1257.6</td><td>1124.1</td><td>1200.0</td><td>obsend</td><td>true</td><td>1257.6</td><td>1445.6</td><td>1651.9</td><td>dark</td><td>0.9</td><td>20210517</td></tr>\n",
       "<tr><td>550</td><td>sv3</td><td>dark</td><td>sv3dark</td><td>1</td><td>1167.2</td><td>1208.4</td><td>1157.9</td><td>1193.5</td><td>1200.0</td><td>obsend</td><td>true</td><td>1157.9</td><td>1316.5</td><td>1060.9</td><td>dark</td><td>0.9</td><td>20210518</td></tr>\n",
       "<tr><td>520</td><td>sv3</td><td>dark</td><td>sv3dark</td><td>2</td><td>2563.3</td><td>1201.9</td><td>1406.6</td><td>1203.2</td><td>1200.0</td><td>obsend</td><td>true</td><td>1406.6</td><td>1534.2</td><td>1428.3</td><td>dark</td><td>0.9</td><td>20210518</td></tr>\n",
       "<tr><td>551</td><td>sv3</td><td>dark</td><td>sv3dark</td><td>1</td><td>1308.2</td><td>1210.9</td><td>1299.0</td><td>1213.8</td><td>1200.0</td><td>obsend</td><td>true</td><td>1299.0</td><td>1352.2</td><td>1048.5</td><td>dark</td><td>0.9</td><td>20210521</td></tr>\n",
       "</table>"
      ],
      "text/plain": [
       "<Table length=43>\n",
       "TILEID SURVEY FAPRGRM FAFLAVOR ... LYA_EFFTIME_DARK GOALTYPE MINTFRAC LASTNIGHT\n",
       "int64   str7   str16   str19   ...     float64        str7   float64    int64  \n",
       "------ ------ ------- -------- ... ---------------- -------- -------- ---------\n",
       "   481    sv3    dark  sv3dark ...           1561.9     dark      0.9  20210502\n",
       "   511    sv3    dark  sv3dark ...           1437.2     dark      0.9  20210502\n",
       "   541    sv3    dark  sv3dark ...           1343.0     dark      0.9  20210503\n",
       "   571    sv3    dark  sv3dark ...           1491.3     dark      0.9  20210503\n",
       "   512    sv3    dark  sv3dark ...           1340.4     dark      0.9  20210503\n",
       "   482    sv3    dark  sv3dark ...           1640.2     dark      0.9  20210503\n",
       "   483    sv3    dark  sv3dark ...           1390.0     dark      0.9  20210504\n",
       "   542    sv3    dark  sv3dark ...            928.0     dark      0.9  20210504\n",
       "   572    sv3    dark  sv3dark ...           1208.4     dark      0.9  20210504\n",
       "   513    sv3    dark  sv3dark ...           1114.9     dark      0.9  20210505\n",
       "   ...    ...     ...      ... ...              ...      ...      ...       ...\n",
       "   490    sv3    dark  sv3dark ...           1330.4     dark      0.9  20210512\n",
       "   581    sv3    dark  sv3dark ...           1661.2     dark      0.9  20210513\n",
       "   491    sv3    dark  sv3dark ...           1592.1     dark      0.9  20210513\n",
       "   548    sv3    dark  sv3dark ...           1372.1     dark      0.9  20210513\n",
       "   518    sv3    dark  sv3dark ...           1564.6     dark      0.9  20210513\n",
       "   549    sv3    dark  sv3dark ...           1268.9     dark      0.9  20210517\n",
       "   519    sv3    dark  sv3dark ...           1651.9     dark      0.9  20210517\n",
       "   550    sv3    dark  sv3dark ...           1060.9     dark      0.9  20210518\n",
       "   520    sv3    dark  sv3dark ...           1428.3     dark      0.9  20210518\n",
       "   551    sv3    dark  sv3dark ...           1048.5     dark      0.9  20210521"
      ]
     },
     "execution_count": 69,
     "metadata": {},
     "output_type": "execute_result"
    }
   ],
   "source": [
    "wt = mtld['TILEID'] > 480\n",
    "mtld[wt]"
   ]
  },
  {
   "cell_type": "code",
   "execution_count": 3,
   "id": "cec86c79-5e31-4e0c-ba2c-ce235a5f69fa",
   "metadata": {},
   "outputs": [],
   "source": [
    "skydir = '/global/cfs/cdirs/desi/target/catalogs/dr9/0.57.0/skies'\n",
    "mtldarkdir = '/global/cfs/cdirs/desi/survey/catalogs/SV3/LSS/altmtl/debug_jl/orig_mtls/sv3/dark'\n",
    "tdarkdir = '/global/cfs/cdirs/desi/target/catalogs/dr9/0.57.0/targets/sv3/resolve/dark/'"
   ]
  },
  {
   "cell_type": "code",
   "execution_count": 68,
   "id": "353e945c-595e-4d5f-b08c-c61346ac705f",
   "metadata": {},
   "outputs": [
    {
     "data": {
      "text/plain": [
       "('TILEID',\n",
       " 'SURVEY',\n",
       " 'FAPRGRM',\n",
       " 'FAFLAVOR',\n",
       " 'NEXP',\n",
       " 'EXPTIME',\n",
       " 'EFFTIME_ETC',\n",
       " 'EFFTIME_SPEC',\n",
       " 'EFFTIME_GFA',\n",
       " 'GOALTIME',\n",
       " 'OBSSTATUS',\n",
       " 'ZDONE',\n",
       " 'ELG_EFFTIME_DARK',\n",
       " 'BGS_EFFTIME_BRIGHT',\n",
       " 'LYA_EFFTIME_DARK',\n",
       " 'GOALTYPE',\n",
       " 'MINTFRAC',\n",
       " 'LASTNIGHT')"
      ]
     },
     "execution_count": 68,
     "metadata": {},
     "output_type": "execute_result"
    }
   ],
   "source": [
    "mtld.dtype.names"
   ]
  },
  {
   "cell_type": "code",
   "execution_count": 33,
   "id": "5defcffc-eab2-48ab-aae4-2c9c0bc059be",
   "metadata": {},
   "outputs": [
    {
     "name": "stdout",
     "output_type": "stream",
     "text": [
      "487\n",
      "/global/cfs/cdirs/desi/survey/fiberassign/SV3/20210504 541 DARK\n",
      "/global/cfs/cdirs/desi/survey/fiberassign/SV3/20210504 555 BRIGHT\n",
      "/global/cfs/cdirs/desi/survey/fiberassign/SV3/20210511 103 BRIGHT\n",
      "/global/cfs/cdirs/desi/survey/fiberassign/SV3/20210511 452 DARK\n",
      "/global/cfs/cdirs/desi/survey/fiberassign/SV3/20210514 581 dark\n",
      "/global/cfs/cdirs/desi/survey/fiberassign/SV3/20210514 503 bright\n",
      "/global/cfs/cdirs/desi/survey/fiberassign/SV3/20210514 466 dark\n",
      "/global/cfs/cdirs/desi/survey/fiberassign/SV3/20210514 448 dark\n",
      "/global/cfs/cdirs/desi/survey/fiberassign/SV3/20210514 491 dark\n",
      "/global/cfs/cdirs/desi/survey/fiberassign/SV3/20210514 548 dark\n",
      "/global/cfs/cdirs/desi/survey/fiberassign/SV3/20210514 445 dark\n",
      "/global/cfs/cdirs/desi/survey/fiberassign/SV3/20210514 518 dark\n",
      "/global/cfs/cdirs/desi/survey/fiberassign/SV3/20210514 533 bright\n",
      "/global/cfs/cdirs/desi/survey/fiberassign/SV3/20210514 564 bright\n"
     ]
    }
   ],
   "source": [
    "mtld = Table.read('/global/cfs/cdirs/desi/spectro/redux/daily/tiles.csv')\n",
    "wdone = mtld['ZDONE'] == 'true'\n",
    "mtld = mtld[wdone]\n",
    "tiles = Table.read('/global/cfs/cdirs/desi/survey/ops/surveyops/trunk/ops/tiles-sv3.ecsv')\n",
    "wp = np.isin(mtld['TILEID'],tiles['TILEID']) #we want to consider MTL done tiles that correspond to the SV3 tile file\n",
    "mtld = mtld[wp]\n",
    "print(len(mtld))\n",
    "\n",
    "indir = '/global/cfs/cdirs/desi/survey/fiberassign/SV3/'\n",
    "#for i in range(1,100):\n",
    "for tile in mtld['TILEID']:\n",
    "    try:\n",
    "        ts = str(tile).zfill(6)\n",
    "        fht = fitsio.read_header('/global/cfs/cdirs/desi/target/fiberassign/tiles/trunk/'+ts[:3]+'/fiberassign-'+ts+'.fits.gz')\n",
    "        dr = fht['OUTDIR']\n",
    "        if fht['DESIROOT'] == '/data/datasystems':\n",
    "            dr = indir +fht['PMTIME'][:10].translate({ord('-'): None})\n",
    "        f = fitsio.read(dr+'/'+ts+'-targ.fits')\n",
    "    except:\n",
    "        print(dr,tile,fht['FAPRGRM'])\n",
    "        date = int(fht['PMTIME'][:10].translate({ord('-'): None}))-1\n",
    "        try:\n",
    "            dr = indir+str(date)\n",
    "            f = fitsio.read(dr+'/'+ts+'-targ.fits')\n",
    "        except:\n",
    "            print('2nd try failed')\n",
    "    #print(i)"
   ]
  },
  {
   "cell_type": "code",
   "execution_count": 96,
   "id": "6bbb35b1-a1aa-49c8-aff6-38d9f2dceb37",
   "metadata": {},
   "outputs": [
    {
     "name": "stdout",
     "output_type": "stream",
     "text": [
      "/global/cfs/cdirs/desi/survey/fiberassign/SV3/20210502/\n"
     ]
    }
   ],
   "source": [
    "fa.get_fba_fromnewmtl(481)#,getosubp=True)"
   ]
  },
  {
   "cell_type": "code",
   "execution_count": 45,
   "id": "0b51f3b2-1af3-441b-9adf-fe6b77f7818e",
   "metadata": {},
   "outputs": [
    {
     "name": "stdout",
     "output_type": "stream",
     "text": [
      "238\n",
      "WARNING:io.py:611:write_targets: qso_selection method not specified for output file\n"
     ]
    },
    {
     "name": "stderr",
     "output_type": "stream",
     "text": [
      "WARNING: MergeConflictWarning: Cannot merge meta key 'DEPNAM00' types <class 'str'> and <class 'str'>, choosing DEPNAM00='desitarget' [astropy.utils.metadata]\n",
      "WARNING: MergeConflictWarning: Cannot merge meta key 'DEPVER00' types <class 'str'> and <class 'str'>, choosing DEPVER00='0.57.0' [astropy.utils.metadata]\n",
      "WARNING: MergeConflictWarning: Cannot merge meta key 'DEPNAM01' types <class 'str'> and <class 'str'>, choosing DEPNAM01='desitarget-git' [astropy.utils.metadata]\n",
      "WARNING: MergeConflictWarning: Cannot merge meta key 'DEPVER01' types <class 'str'> and <class 'str'>, choosing DEPVER01='0.57.0' [astropy.utils.metadata]\n",
      "WARNING: MergeConflictWarning: Cannot merge meta key 'DEPNAM02' types <class 'str'> and <class 'str'>, choosing DEPNAM02='photcat' [astropy.utils.metadata]\n",
      "WARNING: MergeConflictWarning: Cannot merge meta key 'DEPVER02' types <class 'str'> and <class 'str'>, choosing DEPVER02='X' [astropy.utils.metadata]\n",
      "WARNING: MergeConflictWarning: Cannot merge meta key 'DEPNAM03' types <class 'str'> and <class 'str'>, choosing DEPNAM03='tractor-files' [astropy.utils.metadata]\n",
      "WARNING: MergeConflictWarning: Cannot merge meta key 'DEPVER03' types <class 'str'> and <class 'str'>, choosing DEPVER03='/global/cfs/cdirs/desi/target/mtl/sv3/dark' [astropy.utils.metadata]\n",
      "WARNING: MergeConflictWarning: Cannot merge meta key 'DEPNAM04' types <class 'str'> and <class 'str'>, choosing DEPNAM04='tractor-files-2' [astropy.utils.metadata]\n",
      "WARNING: MergeConflictWarning: Cannot merge meta key 'DEPVER04' types <class 'str'> and <class 'str'>, choosing DEPVER04='/global/cfs/cdirs/desi/target/catalogs/dr9/0.57.0/targets/sv3/resolve/dark' [astropy.utils.metadata]\n",
      "WARNING: MergeConflictWarning: Cannot merge meta key 'DEPNAM05' types <class 'str'> and <class 'str'>, choosing DEPNAM05='qso-selection' [astropy.utils.metadata]\n",
      "WARNING: MergeConflictWarning: Cannot merge meta key 'DEPVER05' types <class 'str'> and <class 'str'>, choosing DEPVER05='unknown' [astropy.utils.metadata]\n",
      "WARNING: MergeConflictWarning: Cannot merge meta key 'DR' types <class 'astropy.io.fits.card.Undefined'> and <class 'astropy.io.fits.card.Undefined'>, choosing DR=<astropy.io.fits.card.Undefined object at 0x2aaad43d6940> [astropy.utils.metadata]\n",
      "WARNING: UnitsWarning: 'nanomaggy' did not parse as fits unit: At col 0, Unit 'nanomaggy' not supported by the FITS standard.  If this is meant to be a custom unit, define it with 'u.def_unit'. To have it recognized inside a file reader or other code, enable it with 'u.add_enabled_units'. For details, see http://docs.astropy.org/en/latest/units/combining_and_defining.html [astropy.units.core]\n",
      "WARNING: UnitsWarning: '1/nanomaggy^2' did not parse as fits unit: Numeric factor not supported by FITS If this is meant to be a custom unit, define it with 'u.def_unit'. To have it recognized inside a file reader or other code, enable it with 'u.add_enabled_units'. For details, see http://docs.astropy.org/en/latest/units/combining_and_defining.html [astropy.units.core]\n"
     ]
    },
    {
     "name": "stdout",
     "output_type": "stream",
     "text": [
      "WARNING:io.py:611:write_targets: qso_selection method not specified for output file\n"
     ]
    },
    {
     "name": "stderr",
     "output_type": "stream",
     "text": [
      "WARNING: MergeConflictWarning: Cannot merge meta key 'DEPNAM00' types <class 'str'> and <class 'str'>, choosing DEPNAM00='desitarget' [astropy.utils.metadata]\n",
      "WARNING: MergeConflictWarning: Cannot merge meta key 'DEPVER00' types <class 'str'> and <class 'str'>, choosing DEPVER00='0.57.0' [astropy.utils.metadata]\n",
      "WARNING: MergeConflictWarning: Cannot merge meta key 'DEPNAM01' types <class 'str'> and <class 'str'>, choosing DEPNAM01='desitarget-git' [astropy.utils.metadata]\n",
      "WARNING: MergeConflictWarning: Cannot merge meta key 'DEPVER01' types <class 'str'> and <class 'str'>, choosing DEPVER01='0.57.0' [astropy.utils.metadata]\n",
      "WARNING: MergeConflictWarning: Cannot merge meta key 'DEPNAM02' types <class 'str'> and <class 'str'>, choosing DEPNAM02='photcat' [astropy.utils.metadata]\n",
      "WARNING: MergeConflictWarning: Cannot merge meta key 'DEPVER02' types <class 'str'> and <class 'str'>, choosing DEPVER02='X' [astropy.utils.metadata]\n",
      "WARNING: MergeConflictWarning: Cannot merge meta key 'DEPNAM03' types <class 'str'> and <class 'str'>, choosing DEPNAM03='tractor-files' [astropy.utils.metadata]\n",
      "WARNING: MergeConflictWarning: Cannot merge meta key 'DEPVER03' types <class 'str'> and <class 'str'>, choosing DEPVER03='/global/cfs/cdirs/desi/target/mtl/sv3/dark' [astropy.utils.metadata]\n",
      "WARNING: MergeConflictWarning: Cannot merge meta key 'DEPNAM04' types <class 'str'> and <class 'str'>, choosing DEPNAM04='tractor-files-2' [astropy.utils.metadata]\n",
      "WARNING: MergeConflictWarning: Cannot merge meta key 'DEPVER04' types <class 'str'> and <class 'str'>, choosing DEPVER04='/global/cfs/cdirs/desi/target/catalogs/dr9/0.57.0/targets/sv3/resolve/dark' [astropy.utils.metadata]\n",
      "WARNING: MergeConflictWarning: Cannot merge meta key 'DEPNAM05' types <class 'str'> and <class 'str'>, choosing DEPNAM05='qso-selection' [astropy.utils.metadata]\n",
      "WARNING: MergeConflictWarning: Cannot merge meta key 'DEPVER05' types <class 'str'> and <class 'str'>, choosing DEPVER05='unknown' [astropy.utils.metadata]\n",
      "WARNING: MergeConflictWarning: Cannot merge meta key 'DR' types <class 'astropy.io.fits.card.Undefined'> and <class 'astropy.io.fits.card.Undefined'>, choosing DR=<astropy.io.fits.card.Undefined object at 0x2aaad43d6940> [astropy.utils.metadata]\n",
      "WARNING: UnitsWarning: 'nanomaggy' did not parse as fits unit: At col 0, Unit 'nanomaggy' not supported by the FITS standard.  If this is meant to be a custom unit, define it with 'u.def_unit'. To have it recognized inside a file reader or other code, enable it with 'u.add_enabled_units'. For details, see http://docs.astropy.org/en/latest/units/combining_and_defining.html [astropy.units.core]\n",
      "WARNING: UnitsWarning: '1/nanomaggy^2' did not parse as fits unit: Numeric factor not supported by FITS If this is meant to be a custom unit, define it with 'u.def_unit'. To have it recognized inside a file reader or other code, enable it with 'u.add_enabled_units'. For details, see http://docs.astropy.org/en/latest/units/combining_and_defining.html [astropy.units.core]\n"
     ]
    },
    {
     "name": "stdout",
     "output_type": "stream",
     "text": [
      "WARNING:io.py:611:write_targets: qso_selection method not specified for output file\n"
     ]
    },
    {
     "name": "stderr",
     "output_type": "stream",
     "text": [
      "WARNING: MergeConflictWarning: Cannot merge meta key 'DEPNAM00' types <class 'str'> and <class 'str'>, choosing DEPNAM00='desitarget' [astropy.utils.metadata]\n",
      "WARNING: MergeConflictWarning: Cannot merge meta key 'DEPVER00' types <class 'str'> and <class 'str'>, choosing DEPVER00='0.57.0' [astropy.utils.metadata]\n",
      "WARNING: MergeConflictWarning: Cannot merge meta key 'DEPNAM01' types <class 'str'> and <class 'str'>, choosing DEPNAM01='desitarget-git' [astropy.utils.metadata]\n",
      "WARNING: MergeConflictWarning: Cannot merge meta key 'DEPVER01' types <class 'str'> and <class 'str'>, choosing DEPVER01='0.57.0' [astropy.utils.metadata]\n",
      "WARNING: MergeConflictWarning: Cannot merge meta key 'DEPNAM02' types <class 'str'> and <class 'str'>, choosing DEPNAM02='photcat' [astropy.utils.metadata]\n",
      "WARNING: MergeConflictWarning: Cannot merge meta key 'DEPVER02' types <class 'str'> and <class 'str'>, choosing DEPVER02='X' [astropy.utils.metadata]\n",
      "WARNING: MergeConflictWarning: Cannot merge meta key 'DEPNAM03' types <class 'str'> and <class 'str'>, choosing DEPNAM03='tractor-files' [astropy.utils.metadata]\n",
      "WARNING: MergeConflictWarning: Cannot merge meta key 'DEPVER03' types <class 'str'> and <class 'str'>, choosing DEPVER03='/global/cfs/cdirs/desi/target/mtl/sv3/dark' [astropy.utils.metadata]\n",
      "WARNING: MergeConflictWarning: Cannot merge meta key 'DEPNAM04' types <class 'str'> and <class 'str'>, choosing DEPNAM04='tractor-files-2' [astropy.utils.metadata]\n",
      "WARNING: MergeConflictWarning: Cannot merge meta key 'DEPVER04' types <class 'str'> and <class 'str'>, choosing DEPVER04='/global/cfs/cdirs/desi/target/catalogs/dr9/0.57.0/targets/sv3/resolve/dark' [astropy.utils.metadata]\n",
      "WARNING: MergeConflictWarning: Cannot merge meta key 'DEPNAM05' types <class 'str'> and <class 'str'>, choosing DEPNAM05='qso-selection' [astropy.utils.metadata]\n",
      "WARNING: MergeConflictWarning: Cannot merge meta key 'DEPVER05' types <class 'str'> and <class 'str'>, choosing DEPVER05='unknown' [astropy.utils.metadata]\n",
      "WARNING: MergeConflictWarning: Cannot merge meta key 'DR' types <class 'astropy.io.fits.card.Undefined'> and <class 'astropy.io.fits.card.Undefined'>, choosing DR=<astropy.io.fits.card.Undefined object at 0x2aaad43d6940> [astropy.utils.metadata]\n",
      "WARNING: UnitsWarning: 'nanomaggy' did not parse as fits unit: At col 0, Unit 'nanomaggy' not supported by the FITS standard.  If this is meant to be a custom unit, define it with 'u.def_unit'. To have it recognized inside a file reader or other code, enable it with 'u.add_enabled_units'. For details, see http://docs.astropy.org/en/latest/units/combining_and_defining.html [astropy.units.core]\n",
      "WARNING: UnitsWarning: '1/nanomaggy^2' did not parse as fits unit: Numeric factor not supported by FITS If this is meant to be a custom unit, define it with 'u.def_unit'. To have it recognized inside a file reader or other code, enable it with 'u.add_enabled_units'. For details, see http://docs.astropy.org/en/latest/units/combining_and_defining.html [astropy.units.core]\n"
     ]
    },
    {
     "name": "stdout",
     "output_type": "stream",
     "text": [
      "WARNING:io.py:611:write_targets: qso_selection method not specified for output file\n"
     ]
    },
    {
     "name": "stderr",
     "output_type": "stream",
     "text": [
      "WARNING: MergeConflictWarning: Cannot merge meta key 'DEPNAM00' types <class 'str'> and <class 'str'>, choosing DEPNAM00='desitarget' [astropy.utils.metadata]\n",
      "WARNING: MergeConflictWarning: Cannot merge meta key 'DEPVER00' types <class 'str'> and <class 'str'>, choosing DEPVER00='0.57.0' [astropy.utils.metadata]\n",
      "WARNING: MergeConflictWarning: Cannot merge meta key 'DEPNAM01' types <class 'str'> and <class 'str'>, choosing DEPNAM01='desitarget-git' [astropy.utils.metadata]\n",
      "WARNING: MergeConflictWarning: Cannot merge meta key 'DEPVER01' types <class 'str'> and <class 'str'>, choosing DEPVER01='0.57.0' [astropy.utils.metadata]\n",
      "WARNING: MergeConflictWarning: Cannot merge meta key 'DEPNAM02' types <class 'str'> and <class 'str'>, choosing DEPNAM02='photcat' [astropy.utils.metadata]\n",
      "WARNING: MergeConflictWarning: Cannot merge meta key 'DEPVER02' types <class 'str'> and <class 'str'>, choosing DEPVER02='X' [astropy.utils.metadata]\n",
      "WARNING: MergeConflictWarning: Cannot merge meta key 'DEPNAM03' types <class 'str'> and <class 'str'>, choosing DEPNAM03='tractor-files' [astropy.utils.metadata]\n",
      "WARNING: MergeConflictWarning: Cannot merge meta key 'DEPVER03' types <class 'str'> and <class 'str'>, choosing DEPVER03='/global/cfs/cdirs/desi/target/mtl/sv3/dark' [astropy.utils.metadata]\n",
      "WARNING: MergeConflictWarning: Cannot merge meta key 'DEPNAM04' types <class 'str'> and <class 'str'>, choosing DEPNAM04='tractor-files-2' [astropy.utils.metadata]\n",
      "WARNING: MergeConflictWarning: Cannot merge meta key 'DEPVER04' types <class 'str'> and <class 'str'>, choosing DEPVER04='/global/cfs/cdirs/desi/target/catalogs/dr9/0.57.0/targets/sv3/resolve/dark' [astropy.utils.metadata]\n",
      "WARNING: MergeConflictWarning: Cannot merge meta key 'DEPNAM05' types <class 'str'> and <class 'str'>, choosing DEPNAM05='qso-selection' [astropy.utils.metadata]\n",
      "WARNING: MergeConflictWarning: Cannot merge meta key 'DEPVER05' types <class 'str'> and <class 'str'>, choosing DEPVER05='unknown' [astropy.utils.metadata]\n",
      "WARNING: MergeConflictWarning: Cannot merge meta key 'DR' types <class 'astropy.io.fits.card.Undefined'> and <class 'astropy.io.fits.card.Undefined'>, choosing DR=<astropy.io.fits.card.Undefined object at 0x2aaad43d6940> [astropy.utils.metadata]\n",
      "WARNING: UnitsWarning: 'nanomaggy' did not parse as fits unit: At col 0, Unit 'nanomaggy' not supported by the FITS standard.  If this is meant to be a custom unit, define it with 'u.def_unit'. To have it recognized inside a file reader or other code, enable it with 'u.add_enabled_units'. For details, see http://docs.astropy.org/en/latest/units/combining_and_defining.html [astropy.units.core]\n",
      "WARNING: UnitsWarning: '1/nanomaggy^2' did not parse as fits unit: Numeric factor not supported by FITS If this is meant to be a custom unit, define it with 'u.def_unit'. To have it recognized inside a file reader or other code, enable it with 'u.add_enabled_units'. For details, see http://docs.astropy.org/en/latest/units/combining_and_defining.html [astropy.units.core]\n"
     ]
    },
    {
     "name": "stdout",
     "output_type": "stream",
     "text": [
      "WARNING:io.py:611:write_targets: qso_selection method not specified for output file\n"
     ]
    },
    {
     "name": "stderr",
     "output_type": "stream",
     "text": [
      "WARNING: MergeConflictWarning: Cannot merge meta key 'DEPNAM00' types <class 'str'> and <class 'str'>, choosing DEPNAM00='desitarget' [astropy.utils.metadata]\n",
      "WARNING: MergeConflictWarning: Cannot merge meta key 'DEPVER00' types <class 'str'> and <class 'str'>, choosing DEPVER00='0.57.0' [astropy.utils.metadata]\n",
      "WARNING: MergeConflictWarning: Cannot merge meta key 'DEPNAM01' types <class 'str'> and <class 'str'>, choosing DEPNAM01='desitarget-git' [astropy.utils.metadata]\n",
      "WARNING: MergeConflictWarning: Cannot merge meta key 'DEPVER01' types <class 'str'> and <class 'str'>, choosing DEPVER01='0.57.0' [astropy.utils.metadata]\n",
      "WARNING: MergeConflictWarning: Cannot merge meta key 'DEPNAM02' types <class 'str'> and <class 'str'>, choosing DEPNAM02='photcat' [astropy.utils.metadata]\n",
      "WARNING: MergeConflictWarning: Cannot merge meta key 'DEPVER02' types <class 'str'> and <class 'str'>, choosing DEPVER02='X' [astropy.utils.metadata]\n",
      "WARNING: MergeConflictWarning: Cannot merge meta key 'DEPNAM03' types <class 'str'> and <class 'str'>, choosing DEPNAM03='tractor-files' [astropy.utils.metadata]\n",
      "WARNING: MergeConflictWarning: Cannot merge meta key 'DEPVER03' types <class 'str'> and <class 'str'>, choosing DEPVER03='/global/cfs/cdirs/desi/target/mtl/sv3/dark' [astropy.utils.metadata]\n",
      "WARNING: MergeConflictWarning: Cannot merge meta key 'DEPNAM04' types <class 'str'> and <class 'str'>, choosing DEPNAM04='tractor-files-2' [astropy.utils.metadata]\n",
      "WARNING: MergeConflictWarning: Cannot merge meta key 'DEPVER04' types <class 'str'> and <class 'str'>, choosing DEPVER04='/global/cfs/cdirs/desi/target/catalogs/dr9/0.57.0/targets/sv3/resolve/dark' [astropy.utils.metadata]\n",
      "WARNING: MergeConflictWarning: Cannot merge meta key 'DEPNAM05' types <class 'str'> and <class 'str'>, choosing DEPNAM05='qso-selection' [astropy.utils.metadata]\n",
      "WARNING: MergeConflictWarning: Cannot merge meta key 'DEPVER05' types <class 'str'> and <class 'str'>, choosing DEPVER05='unknown' [astropy.utils.metadata]\n",
      "WARNING: MergeConflictWarning: Cannot merge meta key 'DR' types <class 'astropy.io.fits.card.Undefined'> and <class 'astropy.io.fits.card.Undefined'>, choosing DR=<astropy.io.fits.card.Undefined object at 0x2aaad43d6940> [astropy.utils.metadata]\n",
      "WARNING: UnitsWarning: 'nanomaggy' did not parse as fits unit: At col 0, Unit 'nanomaggy' not supported by the FITS standard.  If this is meant to be a custom unit, define it with 'u.def_unit'. To have it recognized inside a file reader or other code, enable it with 'u.add_enabled_units'. For details, see http://docs.astropy.org/en/latest/units/combining_and_defining.html [astropy.units.core]\n",
      "WARNING: UnitsWarning: '1/nanomaggy^2' did not parse as fits unit: Numeric factor not supported by FITS If this is meant to be a custom unit, define it with 'u.def_unit'. To have it recognized inside a file reader or other code, enable it with 'u.add_enabled_units'. For details, see http://docs.astropy.org/en/latest/units/combining_and_defining.html [astropy.units.core]\n"
     ]
    },
    {
     "name": "stdout",
     "output_type": "stream",
     "text": [
      "WARNING:io.py:611:write_targets: qso_selection method not specified for output file\n"
     ]
    },
    {
     "name": "stderr",
     "output_type": "stream",
     "text": [
      "WARNING: MergeConflictWarning: Cannot merge meta key 'DEPNAM00' types <class 'str'> and <class 'str'>, choosing DEPNAM00='desitarget' [astropy.utils.metadata]\n",
      "WARNING: MergeConflictWarning: Cannot merge meta key 'DEPVER00' types <class 'str'> and <class 'str'>, choosing DEPVER00='0.57.0' [astropy.utils.metadata]\n",
      "WARNING: MergeConflictWarning: Cannot merge meta key 'DEPNAM01' types <class 'str'> and <class 'str'>, choosing DEPNAM01='desitarget-git' [astropy.utils.metadata]\n",
      "WARNING: MergeConflictWarning: Cannot merge meta key 'DEPVER01' types <class 'str'> and <class 'str'>, choosing DEPVER01='0.57.0' [astropy.utils.metadata]\n",
      "WARNING: MergeConflictWarning: Cannot merge meta key 'DEPNAM02' types <class 'str'> and <class 'str'>, choosing DEPNAM02='photcat' [astropy.utils.metadata]\n",
      "WARNING: MergeConflictWarning: Cannot merge meta key 'DEPVER02' types <class 'str'> and <class 'str'>, choosing DEPVER02='X' [astropy.utils.metadata]\n",
      "WARNING: MergeConflictWarning: Cannot merge meta key 'DEPNAM03' types <class 'str'> and <class 'str'>, choosing DEPNAM03='tractor-files' [astropy.utils.metadata]\n",
      "WARNING: MergeConflictWarning: Cannot merge meta key 'DEPVER03' types <class 'str'> and <class 'str'>, choosing DEPVER03='/global/cfs/cdirs/desi/target/mtl/sv3/dark' [astropy.utils.metadata]\n",
      "WARNING: MergeConflictWarning: Cannot merge meta key 'DEPNAM04' types <class 'str'> and <class 'str'>, choosing DEPNAM04='tractor-files-2' [astropy.utils.metadata]\n",
      "WARNING: MergeConflictWarning: Cannot merge meta key 'DEPVER04' types <class 'str'> and <class 'str'>, choosing DEPVER04='/global/cfs/cdirs/desi/target/catalogs/dr9/0.57.0/targets/sv3/resolve/dark' [astropy.utils.metadata]\n",
      "WARNING: MergeConflictWarning: Cannot merge meta key 'DEPNAM05' types <class 'str'> and <class 'str'>, choosing DEPNAM05='qso-selection' [astropy.utils.metadata]\n",
      "WARNING: MergeConflictWarning: Cannot merge meta key 'DEPVER05' types <class 'str'> and <class 'str'>, choosing DEPVER05='unknown' [astropy.utils.metadata]\n",
      "WARNING: MergeConflictWarning: Cannot merge meta key 'DR' types <class 'astropy.io.fits.card.Undefined'> and <class 'astropy.io.fits.card.Undefined'>, choosing DR=<astropy.io.fits.card.Undefined object at 0x2aaad43d6940> [astropy.utils.metadata]\n",
      "WARNING: UnitsWarning: 'nanomaggy' did not parse as fits unit: At col 0, Unit 'nanomaggy' not supported by the FITS standard.  If this is meant to be a custom unit, define it with 'u.def_unit'. To have it recognized inside a file reader or other code, enable it with 'u.add_enabled_units'. For details, see http://docs.astropy.org/en/latest/units/combining_and_defining.html [astropy.units.core]\n",
      "WARNING: UnitsWarning: '1/nanomaggy^2' did not parse as fits unit: Numeric factor not supported by FITS If this is meant to be a custom unit, define it with 'u.def_unit'. To have it recognized inside a file reader or other code, enable it with 'u.add_enabled_units'. For details, see http://docs.astropy.org/en/latest/units/combining_and_defining.html [astropy.units.core]\n"
     ]
    },
    {
     "name": "stdout",
     "output_type": "stream",
     "text": [
      "WARNING:io.py:611:write_targets: qso_selection method not specified for output file\n"
     ]
    },
    {
     "name": "stderr",
     "output_type": "stream",
     "text": [
      "WARNING: MergeConflictWarning: Cannot merge meta key 'DEPNAM00' types <class 'str'> and <class 'str'>, choosing DEPNAM00='desitarget' [astropy.utils.metadata]\n",
      "WARNING: MergeConflictWarning: Cannot merge meta key 'DEPVER00' types <class 'str'> and <class 'str'>, choosing DEPVER00='0.57.0' [astropy.utils.metadata]\n",
      "WARNING: MergeConflictWarning: Cannot merge meta key 'DEPNAM01' types <class 'str'> and <class 'str'>, choosing DEPNAM01='desitarget-git' [astropy.utils.metadata]\n",
      "WARNING: MergeConflictWarning: Cannot merge meta key 'DEPVER01' types <class 'str'> and <class 'str'>, choosing DEPVER01='0.57.0' [astropy.utils.metadata]\n",
      "WARNING: MergeConflictWarning: Cannot merge meta key 'DEPNAM02' types <class 'str'> and <class 'str'>, choosing DEPNAM02='photcat' [astropy.utils.metadata]\n",
      "WARNING: MergeConflictWarning: Cannot merge meta key 'DEPVER02' types <class 'str'> and <class 'str'>, choosing DEPVER02='X' [astropy.utils.metadata]\n",
      "WARNING: MergeConflictWarning: Cannot merge meta key 'DEPNAM03' types <class 'str'> and <class 'str'>, choosing DEPNAM03='tractor-files' [astropy.utils.metadata]\n",
      "WARNING: MergeConflictWarning: Cannot merge meta key 'DEPVER03' types <class 'str'> and <class 'str'>, choosing DEPVER03='/global/cfs/cdirs/desi/target/mtl/sv3/dark' [astropy.utils.metadata]\n",
      "WARNING: MergeConflictWarning: Cannot merge meta key 'DEPNAM04' types <class 'str'> and <class 'str'>, choosing DEPNAM04='tractor-files-2' [astropy.utils.metadata]\n",
      "WARNING: MergeConflictWarning: Cannot merge meta key 'DEPVER04' types <class 'str'> and <class 'str'>, choosing DEPVER04='/global/cfs/cdirs/desi/target/catalogs/dr9/0.57.0/targets/sv3/resolve/dark' [astropy.utils.metadata]\n",
      "WARNING: MergeConflictWarning: Cannot merge meta key 'DEPNAM05' types <class 'str'> and <class 'str'>, choosing DEPNAM05='qso-selection' [astropy.utils.metadata]\n",
      "WARNING: MergeConflictWarning: Cannot merge meta key 'DEPVER05' types <class 'str'> and <class 'str'>, choosing DEPVER05='unknown' [astropy.utils.metadata]\n",
      "WARNING: MergeConflictWarning: Cannot merge meta key 'DR' types <class 'astropy.io.fits.card.Undefined'> and <class 'astropy.io.fits.card.Undefined'>, choosing DR=<astropy.io.fits.card.Undefined object at 0x2aaad43d6940> [astropy.utils.metadata]\n",
      "WARNING: UnitsWarning: 'nanomaggy' did not parse as fits unit: At col 0, Unit 'nanomaggy' not supported by the FITS standard.  If this is meant to be a custom unit, define it with 'u.def_unit'. To have it recognized inside a file reader or other code, enable it with 'u.add_enabled_units'. For details, see http://docs.astropy.org/en/latest/units/combining_and_defining.html [astropy.units.core]\n",
      "WARNING: UnitsWarning: '1/nanomaggy^2' did not parse as fits unit: Numeric factor not supported by FITS If this is meant to be a custom unit, define it with 'u.def_unit'. To have it recognized inside a file reader or other code, enable it with 'u.add_enabled_units'. For details, see http://docs.astropy.org/en/latest/units/combining_and_defining.html [astropy.units.core]\n"
     ]
    },
    {
     "name": "stdout",
     "output_type": "stream",
     "text": [
      "WARNING:io.py:611:write_targets: qso_selection method not specified for output file\n"
     ]
    },
    {
     "name": "stderr",
     "output_type": "stream",
     "text": [
      "WARNING: MergeConflictWarning: Cannot merge meta key 'DEPNAM00' types <class 'str'> and <class 'str'>, choosing DEPNAM00='desitarget' [astropy.utils.metadata]\n",
      "WARNING: MergeConflictWarning: Cannot merge meta key 'DEPVER00' types <class 'str'> and <class 'str'>, choosing DEPVER00='0.57.0' [astropy.utils.metadata]\n",
      "WARNING: MergeConflictWarning: Cannot merge meta key 'DEPNAM01' types <class 'str'> and <class 'str'>, choosing DEPNAM01='desitarget-git' [astropy.utils.metadata]\n",
      "WARNING: MergeConflictWarning: Cannot merge meta key 'DEPVER01' types <class 'str'> and <class 'str'>, choosing DEPVER01='0.57.0' [astropy.utils.metadata]\n",
      "WARNING: MergeConflictWarning: Cannot merge meta key 'DEPNAM02' types <class 'str'> and <class 'str'>, choosing DEPNAM02='photcat' [astropy.utils.metadata]\n",
      "WARNING: MergeConflictWarning: Cannot merge meta key 'DEPVER02' types <class 'str'> and <class 'str'>, choosing DEPVER02='X' [astropy.utils.metadata]\n",
      "WARNING: MergeConflictWarning: Cannot merge meta key 'DEPNAM03' types <class 'str'> and <class 'str'>, choosing DEPNAM03='tractor-files' [astropy.utils.metadata]\n",
      "WARNING: MergeConflictWarning: Cannot merge meta key 'DEPVER03' types <class 'str'> and <class 'str'>, choosing DEPVER03='/global/cfs/cdirs/desi/target/mtl/sv3/dark' [astropy.utils.metadata]\n",
      "WARNING: MergeConflictWarning: Cannot merge meta key 'DEPNAM04' types <class 'str'> and <class 'str'>, choosing DEPNAM04='tractor-files-2' [astropy.utils.metadata]\n",
      "WARNING: MergeConflictWarning: Cannot merge meta key 'DEPVER04' types <class 'str'> and <class 'str'>, choosing DEPVER04='/global/cfs/cdirs/desi/target/catalogs/dr9/0.57.0/targets/sv3/resolve/dark' [astropy.utils.metadata]\n",
      "WARNING: MergeConflictWarning: Cannot merge meta key 'DEPNAM05' types <class 'str'> and <class 'str'>, choosing DEPNAM05='qso-selection' [astropy.utils.metadata]\n",
      "WARNING: MergeConflictWarning: Cannot merge meta key 'DEPVER05' types <class 'str'> and <class 'str'>, choosing DEPVER05='unknown' [astropy.utils.metadata]\n",
      "WARNING: MergeConflictWarning: Cannot merge meta key 'DR' types <class 'astropy.io.fits.card.Undefined'> and <class 'astropy.io.fits.card.Undefined'>, choosing DR=<astropy.io.fits.card.Undefined object at 0x2aaad43d6940> [astropy.utils.metadata]\n",
      "WARNING: UnitsWarning: 'nanomaggy' did not parse as fits unit: At col 0, Unit 'nanomaggy' not supported by the FITS standard.  If this is meant to be a custom unit, define it with 'u.def_unit'. To have it recognized inside a file reader or other code, enable it with 'u.add_enabled_units'. For details, see http://docs.astropy.org/en/latest/units/combining_and_defining.html [astropy.units.core]\n",
      "WARNING: UnitsWarning: '1/nanomaggy^2' did not parse as fits unit: Numeric factor not supported by FITS If this is meant to be a custom unit, define it with 'u.def_unit'. To have it recognized inside a file reader or other code, enable it with 'u.add_enabled_units'. For details, see http://docs.astropy.org/en/latest/units/combining_and_defining.html [astropy.units.core]\n"
     ]
    },
    {
     "name": "stdout",
     "output_type": "stream",
     "text": [
      "WARNING:io.py:611:write_targets: qso_selection method not specified for output file\n"
     ]
    },
    {
     "name": "stderr",
     "output_type": "stream",
     "text": [
      "WARNING: MergeConflictWarning: Cannot merge meta key 'DEPNAM00' types <class 'str'> and <class 'str'>, choosing DEPNAM00='desitarget' [astropy.utils.metadata]\n",
      "WARNING: MergeConflictWarning: Cannot merge meta key 'DEPVER00' types <class 'str'> and <class 'str'>, choosing DEPVER00='0.57.0' [astropy.utils.metadata]\n",
      "WARNING: MergeConflictWarning: Cannot merge meta key 'DEPNAM01' types <class 'str'> and <class 'str'>, choosing DEPNAM01='desitarget-git' [astropy.utils.metadata]\n",
      "WARNING: MergeConflictWarning: Cannot merge meta key 'DEPVER01' types <class 'str'> and <class 'str'>, choosing DEPVER01='0.57.0' [astropy.utils.metadata]\n",
      "WARNING: MergeConflictWarning: Cannot merge meta key 'DEPNAM02' types <class 'str'> and <class 'str'>, choosing DEPNAM02='photcat' [astropy.utils.metadata]\n",
      "WARNING: MergeConflictWarning: Cannot merge meta key 'DEPVER02' types <class 'str'> and <class 'str'>, choosing DEPVER02='X' [astropy.utils.metadata]\n",
      "WARNING: MergeConflictWarning: Cannot merge meta key 'DEPNAM03' types <class 'str'> and <class 'str'>, choosing DEPNAM03='tractor-files' [astropy.utils.metadata]\n",
      "WARNING: MergeConflictWarning: Cannot merge meta key 'DEPVER03' types <class 'str'> and <class 'str'>, choosing DEPVER03='/global/cfs/cdirs/desi/target/mtl/sv3/dark' [astropy.utils.metadata]\n",
      "WARNING: MergeConflictWarning: Cannot merge meta key 'DEPNAM04' types <class 'str'> and <class 'str'>, choosing DEPNAM04='tractor-files-2' [astropy.utils.metadata]\n",
      "WARNING: MergeConflictWarning: Cannot merge meta key 'DEPVER04' types <class 'str'> and <class 'str'>, choosing DEPVER04='/global/cfs/cdirs/desi/target/catalogs/dr9/0.57.0/targets/sv3/resolve/dark' [astropy.utils.metadata]\n",
      "WARNING: MergeConflictWarning: Cannot merge meta key 'DEPNAM05' types <class 'str'> and <class 'str'>, choosing DEPNAM05='qso-selection' [astropy.utils.metadata]\n",
      "WARNING: MergeConflictWarning: Cannot merge meta key 'DEPVER05' types <class 'str'> and <class 'str'>, choosing DEPVER05='unknown' [astropy.utils.metadata]\n",
      "WARNING: MergeConflictWarning: Cannot merge meta key 'DR' types <class 'astropy.io.fits.card.Undefined'> and <class 'astropy.io.fits.card.Undefined'>, choosing DR=<astropy.io.fits.card.Undefined object at 0x2aaad43d6940> [astropy.utils.metadata]\n",
      "WARNING: UnitsWarning: 'nanomaggy' did not parse as fits unit: At col 0, Unit 'nanomaggy' not supported by the FITS standard.  If this is meant to be a custom unit, define it with 'u.def_unit'. To have it recognized inside a file reader or other code, enable it with 'u.add_enabled_units'. For details, see http://docs.astropy.org/en/latest/units/combining_and_defining.html [astropy.units.core]\n",
      "WARNING: UnitsWarning: '1/nanomaggy^2' did not parse as fits unit: Numeric factor not supported by FITS If this is meant to be a custom unit, define it with 'u.def_unit'. To have it recognized inside a file reader or other code, enable it with 'u.add_enabled_units'. For details, see http://docs.astropy.org/en/latest/units/combining_and_defining.html [astropy.units.core]\n"
     ]
    },
    {
     "name": "stdout",
     "output_type": "stream",
     "text": [
      "WARNING:io.py:611:write_targets: qso_selection method not specified for output file\n"
     ]
    },
    {
     "name": "stderr",
     "output_type": "stream",
     "text": [
      "WARNING: MergeConflictWarning: Cannot merge meta key 'DEPNAM00' types <class 'str'> and <class 'str'>, choosing DEPNAM00='desitarget' [astropy.utils.metadata]\n",
      "WARNING: MergeConflictWarning: Cannot merge meta key 'DEPVER00' types <class 'str'> and <class 'str'>, choosing DEPVER00='0.57.0' [astropy.utils.metadata]\n",
      "WARNING: MergeConflictWarning: Cannot merge meta key 'DEPNAM01' types <class 'str'> and <class 'str'>, choosing DEPNAM01='desitarget-git' [astropy.utils.metadata]\n",
      "WARNING: MergeConflictWarning: Cannot merge meta key 'DEPVER01' types <class 'str'> and <class 'str'>, choosing DEPVER01='0.57.0' [astropy.utils.metadata]\n",
      "WARNING: MergeConflictWarning: Cannot merge meta key 'DEPNAM02' types <class 'str'> and <class 'str'>, choosing DEPNAM02='photcat' [astropy.utils.metadata]\n",
      "WARNING: MergeConflictWarning: Cannot merge meta key 'DEPVER02' types <class 'str'> and <class 'str'>, choosing DEPVER02='X' [astropy.utils.metadata]\n",
      "WARNING: MergeConflictWarning: Cannot merge meta key 'DEPNAM03' types <class 'str'> and <class 'str'>, choosing DEPNAM03='tractor-files' [astropy.utils.metadata]\n",
      "WARNING: MergeConflictWarning: Cannot merge meta key 'DEPVER03' types <class 'str'> and <class 'str'>, choosing DEPVER03='/global/cfs/cdirs/desi/target/mtl/sv3/dark' [astropy.utils.metadata]\n",
      "WARNING: MergeConflictWarning: Cannot merge meta key 'DEPNAM04' types <class 'str'> and <class 'str'>, choosing DEPNAM04='tractor-files-2' [astropy.utils.metadata]\n",
      "WARNING: MergeConflictWarning: Cannot merge meta key 'DEPVER04' types <class 'str'> and <class 'str'>, choosing DEPVER04='/global/cfs/cdirs/desi/target/catalogs/dr9/0.57.0/targets/sv3/resolve/dark' [astropy.utils.metadata]\n",
      "WARNING: MergeConflictWarning: Cannot merge meta key 'DEPNAM05' types <class 'str'> and <class 'str'>, choosing DEPNAM05='qso-selection' [astropy.utils.metadata]\n",
      "WARNING: MergeConflictWarning: Cannot merge meta key 'DEPVER05' types <class 'str'> and <class 'str'>, choosing DEPVER05='unknown' [astropy.utils.metadata]\n",
      "WARNING: MergeConflictWarning: Cannot merge meta key 'DR' types <class 'astropy.io.fits.card.Undefined'> and <class 'astropy.io.fits.card.Undefined'>, choosing DR=<astropy.io.fits.card.Undefined object at 0x2aaad43d6940> [astropy.utils.metadata]\n",
      "WARNING: UnitsWarning: 'nanomaggy' did not parse as fits unit: At col 0, Unit 'nanomaggy' not supported by the FITS standard.  If this is meant to be a custom unit, define it with 'u.def_unit'. To have it recognized inside a file reader or other code, enable it with 'u.add_enabled_units'. For details, see http://docs.astropy.org/en/latest/units/combining_and_defining.html [astropy.units.core]\n",
      "WARNING: UnitsWarning: '1/nanomaggy^2' did not parse as fits unit: Numeric factor not supported by FITS If this is meant to be a custom unit, define it with 'u.def_unit'. To have it recognized inside a file reader or other code, enable it with 'u.add_enabled_units'. For details, see http://docs.astropy.org/en/latest/units/combining_and_defining.html [astropy.units.core]\n"
     ]
    },
    {
     "name": "stdout",
     "output_type": "stream",
     "text": [
      "WARNING:io.py:611:write_targets: qso_selection method not specified for output file\n"
     ]
    },
    {
     "name": "stderr",
     "output_type": "stream",
     "text": [
      "WARNING: MergeConflictWarning: Cannot merge meta key 'DEPNAM00' types <class 'str'> and <class 'str'>, choosing DEPNAM00='desitarget' [astropy.utils.metadata]\n",
      "WARNING: MergeConflictWarning: Cannot merge meta key 'DEPVER00' types <class 'str'> and <class 'str'>, choosing DEPVER00='0.57.0' [astropy.utils.metadata]\n",
      "WARNING: MergeConflictWarning: Cannot merge meta key 'DEPNAM01' types <class 'str'> and <class 'str'>, choosing DEPNAM01='desitarget-git' [astropy.utils.metadata]\n",
      "WARNING: MergeConflictWarning: Cannot merge meta key 'DEPVER01' types <class 'str'> and <class 'str'>, choosing DEPVER01='0.57.0' [astropy.utils.metadata]\n",
      "WARNING: MergeConflictWarning: Cannot merge meta key 'DEPNAM02' types <class 'str'> and <class 'str'>, choosing DEPNAM02='photcat' [astropy.utils.metadata]\n",
      "WARNING: MergeConflictWarning: Cannot merge meta key 'DEPVER02' types <class 'str'> and <class 'str'>, choosing DEPVER02='X' [astropy.utils.metadata]\n",
      "WARNING: MergeConflictWarning: Cannot merge meta key 'DEPNAM03' types <class 'str'> and <class 'str'>, choosing DEPNAM03='tractor-files' [astropy.utils.metadata]\n",
      "WARNING: MergeConflictWarning: Cannot merge meta key 'DEPVER03' types <class 'str'> and <class 'str'>, choosing DEPVER03='/global/cfs/cdirs/desi/target/mtl/sv3/dark' [astropy.utils.metadata]\n",
      "WARNING: MergeConflictWarning: Cannot merge meta key 'DEPNAM04' types <class 'str'> and <class 'str'>, choosing DEPNAM04='tractor-files-2' [astropy.utils.metadata]\n",
      "WARNING: MergeConflictWarning: Cannot merge meta key 'DEPVER04' types <class 'str'> and <class 'str'>, choosing DEPVER04='/global/cfs/cdirs/desi/target/catalogs/dr9/0.57.0/targets/sv3/resolve/dark' [astropy.utils.metadata]\n",
      "WARNING: MergeConflictWarning: Cannot merge meta key 'DEPNAM05' types <class 'str'> and <class 'str'>, choosing DEPNAM05='qso-selection' [astropy.utils.metadata]\n",
      "WARNING: MergeConflictWarning: Cannot merge meta key 'DEPVER05' types <class 'str'> and <class 'str'>, choosing DEPVER05='unknown' [astropy.utils.metadata]\n",
      "WARNING: MergeConflictWarning: Cannot merge meta key 'DR' types <class 'astropy.io.fits.card.Undefined'> and <class 'astropy.io.fits.card.Undefined'>, choosing DR=<astropy.io.fits.card.Undefined object at 0x2aaad43d6940> [astropy.utils.metadata]\n",
      "WARNING: UnitsWarning: 'nanomaggy' did not parse as fits unit: At col 0, Unit 'nanomaggy' not supported by the FITS standard.  If this is meant to be a custom unit, define it with 'u.def_unit'. To have it recognized inside a file reader or other code, enable it with 'u.add_enabled_units'. For details, see http://docs.astropy.org/en/latest/units/combining_and_defining.html [astropy.units.core]\n",
      "WARNING: UnitsWarning: '1/nanomaggy^2' did not parse as fits unit: Numeric factor not supported by FITS If this is meant to be a custom unit, define it with 'u.def_unit'. To have it recognized inside a file reader or other code, enable it with 'u.add_enabled_units'. For details, see http://docs.astropy.org/en/latest/units/combining_and_defining.html [astropy.units.core]\n"
     ]
    },
    {
     "name": "stdout",
     "output_type": "stream",
     "text": [
      "WARNING:io.py:611:write_targets: qso_selection method not specified for output file\n"
     ]
    },
    {
     "name": "stderr",
     "output_type": "stream",
     "text": [
      "WARNING: MergeConflictWarning: Cannot merge meta key 'DEPNAM00' types <class 'str'> and <class 'str'>, choosing DEPNAM00='desitarget' [astropy.utils.metadata]\n",
      "WARNING: MergeConflictWarning: Cannot merge meta key 'DEPVER00' types <class 'str'> and <class 'str'>, choosing DEPVER00='0.57.0' [astropy.utils.metadata]\n",
      "WARNING: MergeConflictWarning: Cannot merge meta key 'DEPNAM01' types <class 'str'> and <class 'str'>, choosing DEPNAM01='desitarget-git' [astropy.utils.metadata]\n",
      "WARNING: MergeConflictWarning: Cannot merge meta key 'DEPVER01' types <class 'str'> and <class 'str'>, choosing DEPVER01='0.57.0' [astropy.utils.metadata]\n",
      "WARNING: MergeConflictWarning: Cannot merge meta key 'DEPNAM02' types <class 'str'> and <class 'str'>, choosing DEPNAM02='photcat' [astropy.utils.metadata]\n",
      "WARNING: MergeConflictWarning: Cannot merge meta key 'DEPVER02' types <class 'str'> and <class 'str'>, choosing DEPVER02='X' [astropy.utils.metadata]\n",
      "WARNING: MergeConflictWarning: Cannot merge meta key 'DEPNAM03' types <class 'str'> and <class 'str'>, choosing DEPNAM03='tractor-files' [astropy.utils.metadata]\n",
      "WARNING: MergeConflictWarning: Cannot merge meta key 'DEPVER03' types <class 'str'> and <class 'str'>, choosing DEPVER03='/global/cfs/cdirs/desi/target/mtl/sv3/dark' [astropy.utils.metadata]\n",
      "WARNING: MergeConflictWarning: Cannot merge meta key 'DEPNAM04' types <class 'str'> and <class 'str'>, choosing DEPNAM04='tractor-files-2' [astropy.utils.metadata]\n",
      "WARNING: MergeConflictWarning: Cannot merge meta key 'DEPVER04' types <class 'str'> and <class 'str'>, choosing DEPVER04='/global/cfs/cdirs/desi/target/catalogs/dr9/0.57.0/targets/sv3/resolve/dark' [astropy.utils.metadata]\n",
      "WARNING: MergeConflictWarning: Cannot merge meta key 'DEPNAM05' types <class 'str'> and <class 'str'>, choosing DEPNAM05='qso-selection' [astropy.utils.metadata]\n",
      "WARNING: MergeConflictWarning: Cannot merge meta key 'DEPVER05' types <class 'str'> and <class 'str'>, choosing DEPVER05='unknown' [astropy.utils.metadata]\n",
      "WARNING: MergeConflictWarning: Cannot merge meta key 'DR' types <class 'astropy.io.fits.card.Undefined'> and <class 'astropy.io.fits.card.Undefined'>, choosing DR=<astropy.io.fits.card.Undefined object at 0x2aaad43d6940> [astropy.utils.metadata]\n",
      "WARNING: UnitsWarning: 'nanomaggy' did not parse as fits unit: At col 0, Unit 'nanomaggy' not supported by the FITS standard.  If this is meant to be a custom unit, define it with 'u.def_unit'. To have it recognized inside a file reader or other code, enable it with 'u.add_enabled_units'. For details, see http://docs.astropy.org/en/latest/units/combining_and_defining.html [astropy.units.core]\n",
      "WARNING: UnitsWarning: '1/nanomaggy^2' did not parse as fits unit: Numeric factor not supported by FITS If this is meant to be a custom unit, define it with 'u.def_unit'. To have it recognized inside a file reader or other code, enable it with 'u.add_enabled_units'. For details, see http://docs.astropy.org/en/latest/units/combining_and_defining.html [astropy.units.core]\n"
     ]
    },
    {
     "name": "stdout",
     "output_type": "stream",
     "text": [
      "WARNING:io.py:611:write_targets: qso_selection method not specified for output file\n"
     ]
    },
    {
     "name": "stderr",
     "output_type": "stream",
     "text": [
      "WARNING: MergeConflictWarning: Cannot merge meta key 'DEPNAM00' types <class 'str'> and <class 'str'>, choosing DEPNAM00='desitarget' [astropy.utils.metadata]\n",
      "WARNING: MergeConflictWarning: Cannot merge meta key 'DEPVER00' types <class 'str'> and <class 'str'>, choosing DEPVER00='0.57.0' [astropy.utils.metadata]\n",
      "WARNING: MergeConflictWarning: Cannot merge meta key 'DEPNAM01' types <class 'str'> and <class 'str'>, choosing DEPNAM01='desitarget-git' [astropy.utils.metadata]\n",
      "WARNING: MergeConflictWarning: Cannot merge meta key 'DEPVER01' types <class 'str'> and <class 'str'>, choosing DEPVER01='0.57.0' [astropy.utils.metadata]\n",
      "WARNING: MergeConflictWarning: Cannot merge meta key 'DEPNAM02' types <class 'str'> and <class 'str'>, choosing DEPNAM02='photcat' [astropy.utils.metadata]\n",
      "WARNING: MergeConflictWarning: Cannot merge meta key 'DEPVER02' types <class 'str'> and <class 'str'>, choosing DEPVER02='X' [astropy.utils.metadata]\n",
      "WARNING: MergeConflictWarning: Cannot merge meta key 'DEPNAM03' types <class 'str'> and <class 'str'>, choosing DEPNAM03='tractor-files' [astropy.utils.metadata]\n",
      "WARNING: MergeConflictWarning: Cannot merge meta key 'DEPVER03' types <class 'str'> and <class 'str'>, choosing DEPVER03='/global/cfs/cdirs/desi/target/mtl/sv3/dark' [astropy.utils.metadata]\n",
      "WARNING: MergeConflictWarning: Cannot merge meta key 'DEPNAM04' types <class 'str'> and <class 'str'>, choosing DEPNAM04='tractor-files-2' [astropy.utils.metadata]\n",
      "WARNING: MergeConflictWarning: Cannot merge meta key 'DEPVER04' types <class 'str'> and <class 'str'>, choosing DEPVER04='/global/cfs/cdirs/desi/target/catalogs/dr9/0.57.0/targets/sv3/resolve/dark' [astropy.utils.metadata]\n",
      "WARNING: MergeConflictWarning: Cannot merge meta key 'DEPNAM05' types <class 'str'> and <class 'str'>, choosing DEPNAM05='qso-selection' [astropy.utils.metadata]\n",
      "WARNING: MergeConflictWarning: Cannot merge meta key 'DEPVER05' types <class 'str'> and <class 'str'>, choosing DEPVER05='unknown' [astropy.utils.metadata]\n",
      "WARNING: MergeConflictWarning: Cannot merge meta key 'DR' types <class 'astropy.io.fits.card.Undefined'> and <class 'astropy.io.fits.card.Undefined'>, choosing DR=<astropy.io.fits.card.Undefined object at 0x2aaad43d6940> [astropy.utils.metadata]\n",
      "WARNING: UnitsWarning: 'nanomaggy' did not parse as fits unit: At col 0, Unit 'nanomaggy' not supported by the FITS standard.  If this is meant to be a custom unit, define it with 'u.def_unit'. To have it recognized inside a file reader or other code, enable it with 'u.add_enabled_units'. For details, see http://docs.astropy.org/en/latest/units/combining_and_defining.html [astropy.units.core]\n",
      "WARNING: UnitsWarning: '1/nanomaggy^2' did not parse as fits unit: Numeric factor not supported by FITS If this is meant to be a custom unit, define it with 'u.def_unit'. To have it recognized inside a file reader or other code, enable it with 'u.add_enabled_units'. For details, see http://docs.astropy.org/en/latest/units/combining_and_defining.html [astropy.units.core]\n"
     ]
    },
    {
     "name": "stdout",
     "output_type": "stream",
     "text": [
      "WARNING:io.py:611:write_targets: qso_selection method not specified for output file\n"
     ]
    },
    {
     "name": "stderr",
     "output_type": "stream",
     "text": [
      "WARNING: MergeConflictWarning: Cannot merge meta key 'DEPNAM00' types <class 'str'> and <class 'str'>, choosing DEPNAM00='desitarget' [astropy.utils.metadata]\n",
      "WARNING: MergeConflictWarning: Cannot merge meta key 'DEPVER00' types <class 'str'> and <class 'str'>, choosing DEPVER00='0.57.0' [astropy.utils.metadata]\n",
      "WARNING: MergeConflictWarning: Cannot merge meta key 'DEPNAM01' types <class 'str'> and <class 'str'>, choosing DEPNAM01='desitarget-git' [astropy.utils.metadata]\n",
      "WARNING: MergeConflictWarning: Cannot merge meta key 'DEPVER01' types <class 'str'> and <class 'str'>, choosing DEPVER01='0.57.0' [astropy.utils.metadata]\n",
      "WARNING: MergeConflictWarning: Cannot merge meta key 'DEPNAM02' types <class 'str'> and <class 'str'>, choosing DEPNAM02='photcat' [astropy.utils.metadata]\n",
      "WARNING: MergeConflictWarning: Cannot merge meta key 'DEPVER02' types <class 'str'> and <class 'str'>, choosing DEPVER02='X' [astropy.utils.metadata]\n",
      "WARNING: MergeConflictWarning: Cannot merge meta key 'DEPNAM03' types <class 'str'> and <class 'str'>, choosing DEPNAM03='tractor-files' [astropy.utils.metadata]\n",
      "WARNING: MergeConflictWarning: Cannot merge meta key 'DEPVER03' types <class 'str'> and <class 'str'>, choosing DEPVER03='/global/cfs/cdirs/desi/target/mtl/sv3/dark' [astropy.utils.metadata]\n",
      "WARNING: MergeConflictWarning: Cannot merge meta key 'DEPNAM04' types <class 'str'> and <class 'str'>, choosing DEPNAM04='tractor-files-2' [astropy.utils.metadata]\n",
      "WARNING: MergeConflictWarning: Cannot merge meta key 'DEPVER04' types <class 'str'> and <class 'str'>, choosing DEPVER04='/global/cfs/cdirs/desi/target/catalogs/dr9/0.57.0/targets/sv3/resolve/dark' [astropy.utils.metadata]\n",
      "WARNING: MergeConflictWarning: Cannot merge meta key 'DEPNAM05' types <class 'str'> and <class 'str'>, choosing DEPNAM05='qso-selection' [astropy.utils.metadata]\n",
      "WARNING: MergeConflictWarning: Cannot merge meta key 'DEPVER05' types <class 'str'> and <class 'str'>, choosing DEPVER05='unknown' [astropy.utils.metadata]\n",
      "WARNING: MergeConflictWarning: Cannot merge meta key 'DR' types <class 'astropy.io.fits.card.Undefined'> and <class 'astropy.io.fits.card.Undefined'>, choosing DR=<astropy.io.fits.card.Undefined object at 0x2aaad43d6940> [astropy.utils.metadata]\n",
      "WARNING: UnitsWarning: 'nanomaggy' did not parse as fits unit: At col 0, Unit 'nanomaggy' not supported by the FITS standard.  If this is meant to be a custom unit, define it with 'u.def_unit'. To have it recognized inside a file reader or other code, enable it with 'u.add_enabled_units'. For details, see http://docs.astropy.org/en/latest/units/combining_and_defining.html [astropy.units.core]\n",
      "WARNING: UnitsWarning: '1/nanomaggy^2' did not parse as fits unit: Numeric factor not supported by FITS If this is meant to be a custom unit, define it with 'u.def_unit'. To have it recognized inside a file reader or other code, enable it with 'u.add_enabled_units'. For details, see http://docs.astropy.org/en/latest/units/combining_and_defining.html [astropy.units.core]\n"
     ]
    },
    {
     "name": "stdout",
     "output_type": "stream",
     "text": [
      "WARNING:io.py:611:write_targets: qso_selection method not specified for output file\n"
     ]
    },
    {
     "name": "stderr",
     "output_type": "stream",
     "text": [
      "WARNING: MergeConflictWarning: Cannot merge meta key 'DEPNAM00' types <class 'str'> and <class 'str'>, choosing DEPNAM00='desitarget' [astropy.utils.metadata]\n",
      "WARNING: MergeConflictWarning: Cannot merge meta key 'DEPVER00' types <class 'str'> and <class 'str'>, choosing DEPVER00='0.57.1' [astropy.utils.metadata]\n",
      "WARNING: MergeConflictWarning: Cannot merge meta key 'DEPNAM01' types <class 'str'> and <class 'str'>, choosing DEPNAM01='desitarget-git' [astropy.utils.metadata]\n",
      "WARNING: MergeConflictWarning: Cannot merge meta key 'DEPVER01' types <class 'str'> and <class 'str'>, choosing DEPVER01='0.57.1' [astropy.utils.metadata]\n",
      "WARNING: MergeConflictWarning: Cannot merge meta key 'DEPNAM02' types <class 'str'> and <class 'str'>, choosing DEPNAM02='photcat' [astropy.utils.metadata]\n",
      "WARNING: MergeConflictWarning: Cannot merge meta key 'DEPVER02' types <class 'str'> and <class 'str'>, choosing DEPVER02='X' [astropy.utils.metadata]\n",
      "WARNING: MergeConflictWarning: Cannot merge meta key 'DEPNAM03' types <class 'str'> and <class 'str'>, choosing DEPNAM03='tractor-files' [astropy.utils.metadata]\n",
      "WARNING: MergeConflictWarning: Cannot merge meta key 'DEPVER03' types <class 'str'> and <class 'str'>, choosing DEPVER03='/global/cfs/cdirs/desi/survey/ops/surveyops/trunk/mtl/sv3/dark' [astropy.utils.metadata]\n",
      "WARNING: MergeConflictWarning: Cannot merge meta key 'DEPNAM04' types <class 'str'> and <class 'str'>, choosing DEPNAM04='tractor-files-2' [astropy.utils.metadata]\n",
      "WARNING: MergeConflictWarning: Cannot merge meta key 'DEPVER04' types <class 'str'> and <class 'str'>, choosing DEPVER04='/global/cfs/cdirs/desi/target/catalogs/dr9/0.57.0/targets/sv3/resolve/dark' [astropy.utils.metadata]\n",
      "WARNING: MergeConflictWarning: Cannot merge meta key 'DEPNAM05' types <class 'str'> and <class 'str'>, choosing DEPNAM05='qso-selection' [astropy.utils.metadata]\n",
      "WARNING: MergeConflictWarning: Cannot merge meta key 'DEPVER05' types <class 'str'> and <class 'str'>, choosing DEPVER05='unknown' [astropy.utils.metadata]\n",
      "WARNING: MergeConflictWarning: Cannot merge meta key 'DR' types <class 'astropy.io.fits.card.Undefined'> and <class 'astropy.io.fits.card.Undefined'>, choosing DR=<astropy.io.fits.card.Undefined object at 0x2aaad43d6940> [astropy.utils.metadata]\n",
      "WARNING: UnitsWarning: 'nanomaggy' did not parse as fits unit: At col 0, Unit 'nanomaggy' not supported by the FITS standard.  If this is meant to be a custom unit, define it with 'u.def_unit'. To have it recognized inside a file reader or other code, enable it with 'u.add_enabled_units'. For details, see http://docs.astropy.org/en/latest/units/combining_and_defining.html [astropy.units.core]\n",
      "WARNING: UnitsWarning: '1/nanomaggy^2' did not parse as fits unit: Numeric factor not supported by FITS If this is meant to be a custom unit, define it with 'u.def_unit'. To have it recognized inside a file reader or other code, enable it with 'u.add_enabled_units'. For details, see http://docs.astropy.org/en/latest/units/combining_and_defining.html [astropy.units.core]\n"
     ]
    },
    {
     "name": "stdout",
     "output_type": "stream",
     "text": [
      "WARNING:io.py:611:write_targets: qso_selection method not specified for output file\n"
     ]
    },
    {
     "name": "stderr",
     "output_type": "stream",
     "text": [
      "WARNING: MergeConflictWarning: Cannot merge meta key 'DEPNAM00' types <class 'str'> and <class 'str'>, choosing DEPNAM00='desitarget' [astropy.utils.metadata]\n",
      "WARNING: MergeConflictWarning: Cannot merge meta key 'DEPVER00' types <class 'str'> and <class 'str'>, choosing DEPVER00='0.57.1' [astropy.utils.metadata]\n",
      "WARNING: MergeConflictWarning: Cannot merge meta key 'DEPNAM01' types <class 'str'> and <class 'str'>, choosing DEPNAM01='desitarget-git' [astropy.utils.metadata]\n",
      "WARNING: MergeConflictWarning: Cannot merge meta key 'DEPVER01' types <class 'str'> and <class 'str'>, choosing DEPVER01='0.57.1' [astropy.utils.metadata]\n",
      "WARNING: MergeConflictWarning: Cannot merge meta key 'DEPNAM02' types <class 'str'> and <class 'str'>, choosing DEPNAM02='photcat' [astropy.utils.metadata]\n",
      "WARNING: MergeConflictWarning: Cannot merge meta key 'DEPVER02' types <class 'str'> and <class 'str'>, choosing DEPVER02='X' [astropy.utils.metadata]\n",
      "WARNING: MergeConflictWarning: Cannot merge meta key 'DEPNAM03' types <class 'str'> and <class 'str'>, choosing DEPNAM03='tractor-files' [astropy.utils.metadata]\n",
      "WARNING: MergeConflictWarning: Cannot merge meta key 'DEPVER03' types <class 'str'> and <class 'str'>, choosing DEPVER03='/global/cfs/cdirs/desi/survey/ops/surveyops/trunk/mtl/sv3/dark' [astropy.utils.metadata]\n",
      "WARNING: MergeConflictWarning: Cannot merge meta key 'DEPNAM04' types <class 'str'> and <class 'str'>, choosing DEPNAM04='tractor-files-2' [astropy.utils.metadata]\n",
      "WARNING: MergeConflictWarning: Cannot merge meta key 'DEPVER04' types <class 'str'> and <class 'str'>, choosing DEPVER04='/global/cfs/cdirs/desi/target/catalogs/dr9/0.57.0/targets/sv3/resolve/dark' [astropy.utils.metadata]\n",
      "WARNING: MergeConflictWarning: Cannot merge meta key 'DEPNAM05' types <class 'str'> and <class 'str'>, choosing DEPNAM05='qso-selection' [astropy.utils.metadata]\n",
      "WARNING: MergeConflictWarning: Cannot merge meta key 'DEPVER05' types <class 'str'> and <class 'str'>, choosing DEPVER05='unknown' [astropy.utils.metadata]\n",
      "WARNING: MergeConflictWarning: Cannot merge meta key 'DR' types <class 'astropy.io.fits.card.Undefined'> and <class 'astropy.io.fits.card.Undefined'>, choosing DR=<astropy.io.fits.card.Undefined object at 0x2aaad43d6940> [astropy.utils.metadata]\n",
      "WARNING: UnitsWarning: 'nanomaggy' did not parse as fits unit: At col 0, Unit 'nanomaggy' not supported by the FITS standard.  If this is meant to be a custom unit, define it with 'u.def_unit'. To have it recognized inside a file reader or other code, enable it with 'u.add_enabled_units'. For details, see http://docs.astropy.org/en/latest/units/combining_and_defining.html [astropy.units.core]\n",
      "WARNING: UnitsWarning: '1/nanomaggy^2' did not parse as fits unit: Numeric factor not supported by FITS If this is meant to be a custom unit, define it with 'u.def_unit'. To have it recognized inside a file reader or other code, enable it with 'u.add_enabled_units'. For details, see http://docs.astropy.org/en/latest/units/combining_and_defining.html [astropy.units.core]\n"
     ]
    },
    {
     "name": "stdout",
     "output_type": "stream",
     "text": [
      "WARNING:io.py:611:write_targets: qso_selection method not specified for output file\n"
     ]
    },
    {
     "name": "stderr",
     "output_type": "stream",
     "text": [
      "WARNING: MergeConflictWarning: Cannot merge meta key 'DEPNAM00' types <class 'str'> and <class 'str'>, choosing DEPNAM00='desitarget' [astropy.utils.metadata]\n",
      "WARNING: MergeConflictWarning: Cannot merge meta key 'DEPVER00' types <class 'str'> and <class 'str'>, choosing DEPVER00='0.57.0' [astropy.utils.metadata]\n",
      "WARNING: MergeConflictWarning: Cannot merge meta key 'DEPNAM01' types <class 'str'> and <class 'str'>, choosing DEPNAM01='desitarget-git' [astropy.utils.metadata]\n",
      "WARNING: MergeConflictWarning: Cannot merge meta key 'DEPVER01' types <class 'str'> and <class 'str'>, choosing DEPVER01='0.57.0' [astropy.utils.metadata]\n",
      "WARNING: MergeConflictWarning: Cannot merge meta key 'DEPNAM02' types <class 'str'> and <class 'str'>, choosing DEPNAM02='photcat' [astropy.utils.metadata]\n",
      "WARNING: MergeConflictWarning: Cannot merge meta key 'DEPVER02' types <class 'str'> and <class 'str'>, choosing DEPVER02='X' [astropy.utils.metadata]\n",
      "WARNING: MergeConflictWarning: Cannot merge meta key 'DEPNAM03' types <class 'str'> and <class 'str'>, choosing DEPNAM03='tractor-files' [astropy.utils.metadata]\n",
      "WARNING: MergeConflictWarning: Cannot merge meta key 'DEPVER03' types <class 'str'> and <class 'str'>, choosing DEPVER03='/global/cfs/cdirs/desi/target/mtl/sv3/dark' [astropy.utils.metadata]\n",
      "WARNING: MergeConflictWarning: Cannot merge meta key 'DEPNAM04' types <class 'str'> and <class 'str'>, choosing DEPNAM04='tractor-files-2' [astropy.utils.metadata]\n",
      "WARNING: MergeConflictWarning: Cannot merge meta key 'DEPVER04' types <class 'str'> and <class 'str'>, choosing DEPVER04='/global/cfs/cdirs/desi/target/catalogs/dr9/0.57.0/targets/sv3/resolve/dark' [astropy.utils.metadata]\n",
      "WARNING: MergeConflictWarning: Cannot merge meta key 'DEPNAM05' types <class 'str'> and <class 'str'>, choosing DEPNAM05='qso-selection' [astropy.utils.metadata]\n",
      "WARNING: MergeConflictWarning: Cannot merge meta key 'DEPVER05' types <class 'str'> and <class 'str'>, choosing DEPVER05='unknown' [astropy.utils.metadata]\n",
      "WARNING: MergeConflictWarning: Cannot merge meta key 'DR' types <class 'astropy.io.fits.card.Undefined'> and <class 'astropy.io.fits.card.Undefined'>, choosing DR=<astropy.io.fits.card.Undefined object at 0x2aaad43d6940> [astropy.utils.metadata]\n",
      "WARNING: UnitsWarning: 'nanomaggy' did not parse as fits unit: At col 0, Unit 'nanomaggy' not supported by the FITS standard.  If this is meant to be a custom unit, define it with 'u.def_unit'. To have it recognized inside a file reader or other code, enable it with 'u.add_enabled_units'. For details, see http://docs.astropy.org/en/latest/units/combining_and_defining.html [astropy.units.core]\n",
      "WARNING: UnitsWarning: '1/nanomaggy^2' did not parse as fits unit: Numeric factor not supported by FITS If this is meant to be a custom unit, define it with 'u.def_unit'. To have it recognized inside a file reader or other code, enable it with 'u.add_enabled_units'. For details, see http://docs.astropy.org/en/latest/units/combining_and_defining.html [astropy.units.core]\n"
     ]
    },
    {
     "name": "stdout",
     "output_type": "stream",
     "text": [
      "WARNING:io.py:611:write_targets: qso_selection method not specified for output file\n"
     ]
    },
    {
     "name": "stderr",
     "output_type": "stream",
     "text": [
      "WARNING: MergeConflictWarning: Cannot merge meta key 'DEPNAM00' types <class 'str'> and <class 'str'>, choosing DEPNAM00='desitarget' [astropy.utils.metadata]\n",
      "WARNING: MergeConflictWarning: Cannot merge meta key 'DEPVER00' types <class 'str'> and <class 'str'>, choosing DEPVER00='0.57.1' [astropy.utils.metadata]\n",
      "WARNING: MergeConflictWarning: Cannot merge meta key 'DEPNAM01' types <class 'str'> and <class 'str'>, choosing DEPNAM01='desitarget-git' [astropy.utils.metadata]\n",
      "WARNING: MergeConflictWarning: Cannot merge meta key 'DEPVER01' types <class 'str'> and <class 'str'>, choosing DEPVER01='0.57.1' [astropy.utils.metadata]\n",
      "WARNING: MergeConflictWarning: Cannot merge meta key 'DEPNAM02' types <class 'str'> and <class 'str'>, choosing DEPNAM02='photcat' [astropy.utils.metadata]\n",
      "WARNING: MergeConflictWarning: Cannot merge meta key 'DEPVER02' types <class 'str'> and <class 'str'>, choosing DEPVER02='X' [astropy.utils.metadata]\n",
      "WARNING: MergeConflictWarning: Cannot merge meta key 'DEPNAM03' types <class 'str'> and <class 'str'>, choosing DEPNAM03='tractor-files' [astropy.utils.metadata]\n",
      "WARNING: MergeConflictWarning: Cannot merge meta key 'DEPVER03' types <class 'str'> and <class 'str'>, choosing DEPVER03='/global/cfs/cdirs/desi/survey/ops/surveyops/trunk/mtl/sv3/dark' [astropy.utils.metadata]\n",
      "WARNING: MergeConflictWarning: Cannot merge meta key 'DEPNAM04' types <class 'str'> and <class 'str'>, choosing DEPNAM04='tractor-files-2' [astropy.utils.metadata]\n",
      "WARNING: MergeConflictWarning: Cannot merge meta key 'DEPVER04' types <class 'str'> and <class 'str'>, choosing DEPVER04='/global/cfs/cdirs/desi/target/catalogs/dr9/0.57.0/targets/sv3/resolve/dark' [astropy.utils.metadata]\n",
      "WARNING: MergeConflictWarning: Cannot merge meta key 'DEPNAM05' types <class 'str'> and <class 'str'>, choosing DEPNAM05='qso-selection' [astropy.utils.metadata]\n",
      "WARNING: MergeConflictWarning: Cannot merge meta key 'DEPVER05' types <class 'str'> and <class 'str'>, choosing DEPVER05='unknown' [astropy.utils.metadata]\n",
      "WARNING: MergeConflictWarning: Cannot merge meta key 'DR' types <class 'astropy.io.fits.card.Undefined'> and <class 'astropy.io.fits.card.Undefined'>, choosing DR=<astropy.io.fits.card.Undefined object at 0x2aaad43d6940> [astropy.utils.metadata]\n",
      "WARNING: UnitsWarning: 'nanomaggy' did not parse as fits unit: At col 0, Unit 'nanomaggy' not supported by the FITS standard.  If this is meant to be a custom unit, define it with 'u.def_unit'. To have it recognized inside a file reader or other code, enable it with 'u.add_enabled_units'. For details, see http://docs.astropy.org/en/latest/units/combining_and_defining.html [astropy.units.core]\n",
      "WARNING: UnitsWarning: '1/nanomaggy^2' did not parse as fits unit: Numeric factor not supported by FITS If this is meant to be a custom unit, define it with 'u.def_unit'. To have it recognized inside a file reader or other code, enable it with 'u.add_enabled_units'. For details, see http://docs.astropy.org/en/latest/units/combining_and_defining.html [astropy.units.core]\n"
     ]
    },
    {
     "name": "stdout",
     "output_type": "stream",
     "text": [
      "WARNING:io.py:611:write_targets: qso_selection method not specified for output file\n"
     ]
    },
    {
     "name": "stderr",
     "output_type": "stream",
     "text": [
      "WARNING: MergeConflictWarning: Cannot merge meta key 'DEPNAM00' types <class 'str'> and <class 'str'>, choosing DEPNAM00='desitarget' [astropy.utils.metadata]\n",
      "WARNING: MergeConflictWarning: Cannot merge meta key 'DEPVER00' types <class 'str'> and <class 'str'>, choosing DEPVER00='0.57.1' [astropy.utils.metadata]\n",
      "WARNING: MergeConflictWarning: Cannot merge meta key 'DEPNAM01' types <class 'str'> and <class 'str'>, choosing DEPNAM01='desitarget-git' [astropy.utils.metadata]\n",
      "WARNING: MergeConflictWarning: Cannot merge meta key 'DEPVER01' types <class 'str'> and <class 'str'>, choosing DEPVER01='0.57.1' [astropy.utils.metadata]\n",
      "WARNING: MergeConflictWarning: Cannot merge meta key 'DEPNAM02' types <class 'str'> and <class 'str'>, choosing DEPNAM02='photcat' [astropy.utils.metadata]\n",
      "WARNING: MergeConflictWarning: Cannot merge meta key 'DEPVER02' types <class 'str'> and <class 'str'>, choosing DEPVER02='X' [astropy.utils.metadata]\n",
      "WARNING: MergeConflictWarning: Cannot merge meta key 'DEPNAM03' types <class 'str'> and <class 'str'>, choosing DEPNAM03='tractor-files' [astropy.utils.metadata]\n",
      "WARNING: MergeConflictWarning: Cannot merge meta key 'DEPVER03' types <class 'str'> and <class 'str'>, choosing DEPVER03='/global/cfs/cdirs/desi/survey/ops/surveyops/trunk/mtl/sv3/dark' [astropy.utils.metadata]\n",
      "WARNING: MergeConflictWarning: Cannot merge meta key 'DEPNAM04' types <class 'str'> and <class 'str'>, choosing DEPNAM04='tractor-files-2' [astropy.utils.metadata]\n",
      "WARNING: MergeConflictWarning: Cannot merge meta key 'DEPVER04' types <class 'str'> and <class 'str'>, choosing DEPVER04='/global/cfs/cdirs/desi/target/catalogs/dr9/0.57.0/targets/sv3/resolve/dark' [astropy.utils.metadata]\n",
      "WARNING: MergeConflictWarning: Cannot merge meta key 'DEPNAM05' types <class 'str'> and <class 'str'>, choosing DEPNAM05='qso-selection' [astropy.utils.metadata]\n",
      "WARNING: MergeConflictWarning: Cannot merge meta key 'DEPVER05' types <class 'str'> and <class 'str'>, choosing DEPVER05='unknown' [astropy.utils.metadata]\n",
      "WARNING: MergeConflictWarning: Cannot merge meta key 'DR' types <class 'astropy.io.fits.card.Undefined'> and <class 'astropy.io.fits.card.Undefined'>, choosing DR=<astropy.io.fits.card.Undefined object at 0x2aaad43d6940> [astropy.utils.metadata]\n",
      "WARNING: UnitsWarning: 'nanomaggy' did not parse as fits unit: At col 0, Unit 'nanomaggy' not supported by the FITS standard.  If this is meant to be a custom unit, define it with 'u.def_unit'. To have it recognized inside a file reader or other code, enable it with 'u.add_enabled_units'. For details, see http://docs.astropy.org/en/latest/units/combining_and_defining.html [astropy.units.core]\n",
      "WARNING: UnitsWarning: '1/nanomaggy^2' did not parse as fits unit: Numeric factor not supported by FITS If this is meant to be a custom unit, define it with 'u.def_unit'. To have it recognized inside a file reader or other code, enable it with 'u.add_enabled_units'. For details, see http://docs.astropy.org/en/latest/units/combining_and_defining.html [astropy.units.core]\n"
     ]
    },
    {
     "name": "stdout",
     "output_type": "stream",
     "text": [
      "WARNING:io.py:611:write_targets: qso_selection method not specified for output file\n"
     ]
    },
    {
     "name": "stderr",
     "output_type": "stream",
     "text": [
      "WARNING: MergeConflictWarning: Cannot merge meta key 'DEPNAM00' types <class 'str'> and <class 'str'>, choosing DEPNAM00='desitarget' [astropy.utils.metadata]\n",
      "WARNING: MergeConflictWarning: Cannot merge meta key 'DEPVER00' types <class 'str'> and <class 'str'>, choosing DEPVER00='0.57.1' [astropy.utils.metadata]\n",
      "WARNING: MergeConflictWarning: Cannot merge meta key 'DEPNAM01' types <class 'str'> and <class 'str'>, choosing DEPNAM01='desitarget-git' [astropy.utils.metadata]\n",
      "WARNING: MergeConflictWarning: Cannot merge meta key 'DEPVER01' types <class 'str'> and <class 'str'>, choosing DEPVER01='0.57.1' [astropy.utils.metadata]\n",
      "WARNING: MergeConflictWarning: Cannot merge meta key 'DEPNAM02' types <class 'str'> and <class 'str'>, choosing DEPNAM02='photcat' [astropy.utils.metadata]\n",
      "WARNING: MergeConflictWarning: Cannot merge meta key 'DEPVER02' types <class 'str'> and <class 'str'>, choosing DEPVER02='X' [astropy.utils.metadata]\n",
      "WARNING: MergeConflictWarning: Cannot merge meta key 'DEPNAM03' types <class 'str'> and <class 'str'>, choosing DEPNAM03='tractor-files' [astropy.utils.metadata]\n",
      "WARNING: MergeConflictWarning: Cannot merge meta key 'DEPVER03' types <class 'str'> and <class 'str'>, choosing DEPVER03='/global/cfs/cdirs/desi/survey/ops/surveyops/trunk/mtl/sv3/dark' [astropy.utils.metadata]\n",
      "WARNING: MergeConflictWarning: Cannot merge meta key 'DEPNAM04' types <class 'str'> and <class 'str'>, choosing DEPNAM04='tractor-files-2' [astropy.utils.metadata]\n",
      "WARNING: MergeConflictWarning: Cannot merge meta key 'DEPVER04' types <class 'str'> and <class 'str'>, choosing DEPVER04='/global/cfs/cdirs/desi/target/catalogs/dr9/0.57.0/targets/sv3/resolve/dark' [astropy.utils.metadata]\n",
      "WARNING: MergeConflictWarning: Cannot merge meta key 'DEPNAM05' types <class 'str'> and <class 'str'>, choosing DEPNAM05='qso-selection' [astropy.utils.metadata]\n",
      "WARNING: MergeConflictWarning: Cannot merge meta key 'DEPVER05' types <class 'str'> and <class 'str'>, choosing DEPVER05='unknown' [astropy.utils.metadata]\n",
      "WARNING: MergeConflictWarning: Cannot merge meta key 'DR' types <class 'astropy.io.fits.card.Undefined'> and <class 'astropy.io.fits.card.Undefined'>, choosing DR=<astropy.io.fits.card.Undefined object at 0x2aaad43d6940> [astropy.utils.metadata]\n",
      "WARNING: UnitsWarning: 'nanomaggy' did not parse as fits unit: At col 0, Unit 'nanomaggy' not supported by the FITS standard.  If this is meant to be a custom unit, define it with 'u.def_unit'. To have it recognized inside a file reader or other code, enable it with 'u.add_enabled_units'. For details, see http://docs.astropy.org/en/latest/units/combining_and_defining.html [astropy.units.core]\n",
      "WARNING: UnitsWarning: '1/nanomaggy^2' did not parse as fits unit: Numeric factor not supported by FITS If this is meant to be a custom unit, define it with 'u.def_unit'. To have it recognized inside a file reader or other code, enable it with 'u.add_enabled_units'. For details, see http://docs.astropy.org/en/latest/units/combining_and_defining.html [astropy.units.core]\n"
     ]
    },
    {
     "name": "stdout",
     "output_type": "stream",
     "text": [
      "WARNING:io.py:611:write_targets: qso_selection method not specified for output file\n"
     ]
    },
    {
     "name": "stderr",
     "output_type": "stream",
     "text": [
      "WARNING: MergeConflictWarning: Cannot merge meta key 'DEPNAM00' types <class 'str'> and <class 'str'>, choosing DEPNAM00='desitarget' [astropy.utils.metadata]\n",
      "WARNING: MergeConflictWarning: Cannot merge meta key 'DEPVER00' types <class 'str'> and <class 'str'>, choosing DEPVER00='0.57.1' [astropy.utils.metadata]\n",
      "WARNING: MergeConflictWarning: Cannot merge meta key 'DEPNAM01' types <class 'str'> and <class 'str'>, choosing DEPNAM01='desitarget-git' [astropy.utils.metadata]\n",
      "WARNING: MergeConflictWarning: Cannot merge meta key 'DEPVER01' types <class 'str'> and <class 'str'>, choosing DEPVER01='0.57.1' [astropy.utils.metadata]\n",
      "WARNING: MergeConflictWarning: Cannot merge meta key 'DEPNAM02' types <class 'str'> and <class 'str'>, choosing DEPNAM02='photcat' [astropy.utils.metadata]\n",
      "WARNING: MergeConflictWarning: Cannot merge meta key 'DEPVER02' types <class 'str'> and <class 'str'>, choosing DEPVER02='X' [astropy.utils.metadata]\n",
      "WARNING: MergeConflictWarning: Cannot merge meta key 'DEPNAM03' types <class 'str'> and <class 'str'>, choosing DEPNAM03='tractor-files' [astropy.utils.metadata]\n",
      "WARNING: MergeConflictWarning: Cannot merge meta key 'DEPVER03' types <class 'str'> and <class 'str'>, choosing DEPVER03='/global/cfs/cdirs/desi/survey/ops/surveyops/trunk/mtl/sv3/dark' [astropy.utils.metadata]\n",
      "WARNING: MergeConflictWarning: Cannot merge meta key 'DEPNAM04' types <class 'str'> and <class 'str'>, choosing DEPNAM04='tractor-files-2' [astropy.utils.metadata]\n",
      "WARNING: MergeConflictWarning: Cannot merge meta key 'DEPVER04' types <class 'str'> and <class 'str'>, choosing DEPVER04='/global/cfs/cdirs/desi/target/catalogs/dr9/0.57.0/targets/sv3/resolve/dark' [astropy.utils.metadata]\n",
      "WARNING: MergeConflictWarning: Cannot merge meta key 'DEPNAM05' types <class 'str'> and <class 'str'>, choosing DEPNAM05='qso-selection' [astropy.utils.metadata]\n",
      "WARNING: MergeConflictWarning: Cannot merge meta key 'DEPVER05' types <class 'str'> and <class 'str'>, choosing DEPVER05='unknown' [astropy.utils.metadata]\n",
      "WARNING: MergeConflictWarning: Cannot merge meta key 'DR' types <class 'astropy.io.fits.card.Undefined'> and <class 'astropy.io.fits.card.Undefined'>, choosing DR=<astropy.io.fits.card.Undefined object at 0x2aaad43d6940> [astropy.utils.metadata]\n",
      "WARNING: UnitsWarning: 'nanomaggy' did not parse as fits unit: At col 0, Unit 'nanomaggy' not supported by the FITS standard.  If this is meant to be a custom unit, define it with 'u.def_unit'. To have it recognized inside a file reader or other code, enable it with 'u.add_enabled_units'. For details, see http://docs.astropy.org/en/latest/units/combining_and_defining.html [astropy.units.core]\n",
      "WARNING: UnitsWarning: '1/nanomaggy^2' did not parse as fits unit: Numeric factor not supported by FITS If this is meant to be a custom unit, define it with 'u.def_unit'. To have it recognized inside a file reader or other code, enable it with 'u.add_enabled_units'. For details, see http://docs.astropy.org/en/latest/units/combining_and_defining.html [astropy.units.core]\n"
     ]
    },
    {
     "name": "stdout",
     "output_type": "stream",
     "text": [
      "WARNING:io.py:611:write_targets: qso_selection method not specified for output file\n"
     ]
    },
    {
     "name": "stderr",
     "output_type": "stream",
     "text": [
      "WARNING: MergeConflictWarning: Cannot merge meta key 'DEPNAM00' types <class 'str'> and <class 'str'>, choosing DEPNAM00='desitarget' [astropy.utils.metadata]\n",
      "WARNING: MergeConflictWarning: Cannot merge meta key 'DEPVER00' types <class 'str'> and <class 'str'>, choosing DEPVER00='0.57.1' [astropy.utils.metadata]\n",
      "WARNING: MergeConflictWarning: Cannot merge meta key 'DEPNAM01' types <class 'str'> and <class 'str'>, choosing DEPNAM01='desitarget-git' [astropy.utils.metadata]\n",
      "WARNING: MergeConflictWarning: Cannot merge meta key 'DEPVER01' types <class 'str'> and <class 'str'>, choosing DEPVER01='0.57.1' [astropy.utils.metadata]\n",
      "WARNING: MergeConflictWarning: Cannot merge meta key 'DEPNAM02' types <class 'str'> and <class 'str'>, choosing DEPNAM02='photcat' [astropy.utils.metadata]\n",
      "WARNING: MergeConflictWarning: Cannot merge meta key 'DEPVER02' types <class 'str'> and <class 'str'>, choosing DEPVER02='X' [astropy.utils.metadata]\n",
      "WARNING: MergeConflictWarning: Cannot merge meta key 'DEPNAM03' types <class 'str'> and <class 'str'>, choosing DEPNAM03='tractor-files' [astropy.utils.metadata]\n",
      "WARNING: MergeConflictWarning: Cannot merge meta key 'DEPVER03' types <class 'str'> and <class 'str'>, choosing DEPVER03='/global/cfs/cdirs/desi/survey/ops/surveyops/trunk/mtl/sv3/dark' [astropy.utils.metadata]\n",
      "WARNING: MergeConflictWarning: Cannot merge meta key 'DEPNAM04' types <class 'str'> and <class 'str'>, choosing DEPNAM04='tractor-files-2' [astropy.utils.metadata]\n",
      "WARNING: MergeConflictWarning: Cannot merge meta key 'DEPVER04' types <class 'str'> and <class 'str'>, choosing DEPVER04='/global/cfs/cdirs/desi/target/catalogs/dr9/0.57.0/targets/sv3/resolve/dark' [astropy.utils.metadata]\n",
      "WARNING: MergeConflictWarning: Cannot merge meta key 'DEPNAM05' types <class 'str'> and <class 'str'>, choosing DEPNAM05='qso-selection' [astropy.utils.metadata]\n",
      "WARNING: MergeConflictWarning: Cannot merge meta key 'DEPVER05' types <class 'str'> and <class 'str'>, choosing DEPVER05='unknown' [astropy.utils.metadata]\n",
      "WARNING: MergeConflictWarning: Cannot merge meta key 'DR' types <class 'astropy.io.fits.card.Undefined'> and <class 'astropy.io.fits.card.Undefined'>, choosing DR=<astropy.io.fits.card.Undefined object at 0x2aaad43d6940> [astropy.utils.metadata]\n",
      "WARNING: UnitsWarning: 'nanomaggy' did not parse as fits unit: At col 0, Unit 'nanomaggy' not supported by the FITS standard.  If this is meant to be a custom unit, define it with 'u.def_unit'. To have it recognized inside a file reader or other code, enable it with 'u.add_enabled_units'. For details, see http://docs.astropy.org/en/latest/units/combining_and_defining.html [astropy.units.core]\n",
      "WARNING: UnitsWarning: '1/nanomaggy^2' did not parse as fits unit: Numeric factor not supported by FITS If this is meant to be a custom unit, define it with 'u.def_unit'. To have it recognized inside a file reader or other code, enable it with 'u.add_enabled_units'. For details, see http://docs.astropy.org/en/latest/units/combining_and_defining.html [astropy.units.core]\n"
     ]
    },
    {
     "name": "stdout",
     "output_type": "stream",
     "text": [
      "WARNING:io.py:611:write_targets: qso_selection method not specified for output file\n"
     ]
    },
    {
     "name": "stderr",
     "output_type": "stream",
     "text": [
      "WARNING: MergeConflictWarning: Cannot merge meta key 'DEPNAM00' types <class 'str'> and <class 'str'>, choosing DEPNAM00='desitarget' [astropy.utils.metadata]\n",
      "WARNING: MergeConflictWarning: Cannot merge meta key 'DEPVER00' types <class 'str'> and <class 'str'>, choosing DEPVER00='0.57.1' [astropy.utils.metadata]\n",
      "WARNING: MergeConflictWarning: Cannot merge meta key 'DEPNAM01' types <class 'str'> and <class 'str'>, choosing DEPNAM01='desitarget-git' [astropy.utils.metadata]\n",
      "WARNING: MergeConflictWarning: Cannot merge meta key 'DEPVER01' types <class 'str'> and <class 'str'>, choosing DEPVER01='0.57.1' [astropy.utils.metadata]\n",
      "WARNING: MergeConflictWarning: Cannot merge meta key 'DEPNAM02' types <class 'str'> and <class 'str'>, choosing DEPNAM02='photcat' [astropy.utils.metadata]\n",
      "WARNING: MergeConflictWarning: Cannot merge meta key 'DEPVER02' types <class 'str'> and <class 'str'>, choosing DEPVER02='X' [astropy.utils.metadata]\n",
      "WARNING: MergeConflictWarning: Cannot merge meta key 'DEPNAM03' types <class 'str'> and <class 'str'>, choosing DEPNAM03='tractor-files' [astropy.utils.metadata]\n",
      "WARNING: MergeConflictWarning: Cannot merge meta key 'DEPVER03' types <class 'str'> and <class 'str'>, choosing DEPVER03='/global/cfs/cdirs/desi/survey/ops/surveyops/trunk/mtl/sv3/dark' [astropy.utils.metadata]\n",
      "WARNING: MergeConflictWarning: Cannot merge meta key 'DEPNAM04' types <class 'str'> and <class 'str'>, choosing DEPNAM04='tractor-files-2' [astropy.utils.metadata]\n",
      "WARNING: MergeConflictWarning: Cannot merge meta key 'DEPVER04' types <class 'str'> and <class 'str'>, choosing DEPVER04='/global/cfs/cdirs/desi/target/catalogs/dr9/0.57.0/targets/sv3/resolve/dark' [astropy.utils.metadata]\n",
      "WARNING: MergeConflictWarning: Cannot merge meta key 'DEPNAM05' types <class 'str'> and <class 'str'>, choosing DEPNAM05='qso-selection' [astropy.utils.metadata]\n",
      "WARNING: MergeConflictWarning: Cannot merge meta key 'DEPVER05' types <class 'str'> and <class 'str'>, choosing DEPVER05='unknown' [astropy.utils.metadata]\n",
      "WARNING: MergeConflictWarning: Cannot merge meta key 'DR' types <class 'astropy.io.fits.card.Undefined'> and <class 'astropy.io.fits.card.Undefined'>, choosing DR=<astropy.io.fits.card.Undefined object at 0x2aaad43d6940> [astropy.utils.metadata]\n",
      "WARNING: UnitsWarning: 'nanomaggy' did not parse as fits unit: At col 0, Unit 'nanomaggy' not supported by the FITS standard.  If this is meant to be a custom unit, define it with 'u.def_unit'. To have it recognized inside a file reader or other code, enable it with 'u.add_enabled_units'. For details, see http://docs.astropy.org/en/latest/units/combining_and_defining.html [astropy.units.core]\n",
      "WARNING: UnitsWarning: '1/nanomaggy^2' did not parse as fits unit: Numeric factor not supported by FITS If this is meant to be a custom unit, define it with 'u.def_unit'. To have it recognized inside a file reader or other code, enable it with 'u.add_enabled_units'. For details, see http://docs.astropy.org/en/latest/units/combining_and_defining.html [astropy.units.core]\n"
     ]
    },
    {
     "name": "stdout",
     "output_type": "stream",
     "text": [
      "WARNING:io.py:611:write_targets: qso_selection method not specified for output file\n"
     ]
    },
    {
     "name": "stderr",
     "output_type": "stream",
     "text": [
      "WARNING: MergeConflictWarning: Cannot merge meta key 'DEPNAM00' types <class 'str'> and <class 'str'>, choosing DEPNAM00='desitarget' [astropy.utils.metadata]\n",
      "WARNING: MergeConflictWarning: Cannot merge meta key 'DEPVER00' types <class 'str'> and <class 'str'>, choosing DEPVER00='0.57.1' [astropy.utils.metadata]\n",
      "WARNING: MergeConflictWarning: Cannot merge meta key 'DEPNAM01' types <class 'str'> and <class 'str'>, choosing DEPNAM01='desitarget-git' [astropy.utils.metadata]\n",
      "WARNING: MergeConflictWarning: Cannot merge meta key 'DEPVER01' types <class 'str'> and <class 'str'>, choosing DEPVER01='0.57.1' [astropy.utils.metadata]\n",
      "WARNING: MergeConflictWarning: Cannot merge meta key 'DEPNAM02' types <class 'str'> and <class 'str'>, choosing DEPNAM02='photcat' [astropy.utils.metadata]\n",
      "WARNING: MergeConflictWarning: Cannot merge meta key 'DEPVER02' types <class 'str'> and <class 'str'>, choosing DEPVER02='X' [astropy.utils.metadata]\n",
      "WARNING: MergeConflictWarning: Cannot merge meta key 'DEPNAM03' types <class 'str'> and <class 'str'>, choosing DEPNAM03='tractor-files' [astropy.utils.metadata]\n",
      "WARNING: MergeConflictWarning: Cannot merge meta key 'DEPVER03' types <class 'str'> and <class 'str'>, choosing DEPVER03='/global/cfs/cdirs/desi/survey/ops/surveyops/trunk/mtl/sv3/dark' [astropy.utils.metadata]\n",
      "WARNING: MergeConflictWarning: Cannot merge meta key 'DEPNAM04' types <class 'str'> and <class 'str'>, choosing DEPNAM04='tractor-files-2' [astropy.utils.metadata]\n",
      "WARNING: MergeConflictWarning: Cannot merge meta key 'DEPVER04' types <class 'str'> and <class 'str'>, choosing DEPVER04='/global/cfs/cdirs/desi/target/catalogs/dr9/0.57.0/targets/sv3/resolve/dark' [astropy.utils.metadata]\n",
      "WARNING: MergeConflictWarning: Cannot merge meta key 'DEPNAM05' types <class 'str'> and <class 'str'>, choosing DEPNAM05='qso-selection' [astropy.utils.metadata]\n",
      "WARNING: MergeConflictWarning: Cannot merge meta key 'DEPVER05' types <class 'str'> and <class 'str'>, choosing DEPVER05='unknown' [astropy.utils.metadata]\n",
      "WARNING: MergeConflictWarning: Cannot merge meta key 'DR' types <class 'astropy.io.fits.card.Undefined'> and <class 'astropy.io.fits.card.Undefined'>, choosing DR=<astropy.io.fits.card.Undefined object at 0x2aaad43d6940> [astropy.utils.metadata]\n",
      "WARNING: UnitsWarning: 'nanomaggy' did not parse as fits unit: At col 0, Unit 'nanomaggy' not supported by the FITS standard.  If this is meant to be a custom unit, define it with 'u.def_unit'. To have it recognized inside a file reader or other code, enable it with 'u.add_enabled_units'. For details, see http://docs.astropy.org/en/latest/units/combining_and_defining.html [astropy.units.core]\n",
      "WARNING: UnitsWarning: '1/nanomaggy^2' did not parse as fits unit: Numeric factor not supported by FITS If this is meant to be a custom unit, define it with 'u.def_unit'. To have it recognized inside a file reader or other code, enable it with 'u.add_enabled_units'. For details, see http://docs.astropy.org/en/latest/units/combining_and_defining.html [astropy.units.core]\n"
     ]
    },
    {
     "name": "stdout",
     "output_type": "stream",
     "text": [
      "WARNING:io.py:611:write_targets: qso_selection method not specified for output file\n"
     ]
    },
    {
     "name": "stderr",
     "output_type": "stream",
     "text": [
      "WARNING: MergeConflictWarning: Cannot merge meta key 'DEPNAM00' types <class 'str'> and <class 'str'>, choosing DEPNAM00='desitarget' [astropy.utils.metadata]\n",
      "WARNING: MergeConflictWarning: Cannot merge meta key 'DEPVER00' types <class 'str'> and <class 'str'>, choosing DEPVER00='0.57.1' [astropy.utils.metadata]\n",
      "WARNING: MergeConflictWarning: Cannot merge meta key 'DEPNAM01' types <class 'str'> and <class 'str'>, choosing DEPNAM01='desitarget-git' [astropy.utils.metadata]\n",
      "WARNING: MergeConflictWarning: Cannot merge meta key 'DEPVER01' types <class 'str'> and <class 'str'>, choosing DEPVER01='0.57.1' [astropy.utils.metadata]\n",
      "WARNING: MergeConflictWarning: Cannot merge meta key 'DEPNAM02' types <class 'str'> and <class 'str'>, choosing DEPNAM02='photcat' [astropy.utils.metadata]\n",
      "WARNING: MergeConflictWarning: Cannot merge meta key 'DEPVER02' types <class 'str'> and <class 'str'>, choosing DEPVER02='X' [astropy.utils.metadata]\n",
      "WARNING: MergeConflictWarning: Cannot merge meta key 'DEPNAM03' types <class 'str'> and <class 'str'>, choosing DEPNAM03='tractor-files' [astropy.utils.metadata]\n",
      "WARNING: MergeConflictWarning: Cannot merge meta key 'DEPVER03' types <class 'str'> and <class 'str'>, choosing DEPVER03='/global/cfs/cdirs/desi/survey/ops/surveyops/trunk/mtl/sv3/dark' [astropy.utils.metadata]\n",
      "WARNING: MergeConflictWarning: Cannot merge meta key 'DEPNAM04' types <class 'str'> and <class 'str'>, choosing DEPNAM04='tractor-files-2' [astropy.utils.metadata]\n",
      "WARNING: MergeConflictWarning: Cannot merge meta key 'DEPVER04' types <class 'str'> and <class 'str'>, choosing DEPVER04='/global/cfs/cdirs/desi/target/catalogs/dr9/0.57.0/targets/sv3/resolve/dark' [astropy.utils.metadata]\n",
      "WARNING: MergeConflictWarning: Cannot merge meta key 'DEPNAM05' types <class 'str'> and <class 'str'>, choosing DEPNAM05='qso-selection' [astropy.utils.metadata]\n",
      "WARNING: MergeConflictWarning: Cannot merge meta key 'DEPVER05' types <class 'str'> and <class 'str'>, choosing DEPVER05='unknown' [astropy.utils.metadata]\n",
      "WARNING: MergeConflictWarning: Cannot merge meta key 'DR' types <class 'astropy.io.fits.card.Undefined'> and <class 'astropy.io.fits.card.Undefined'>, choosing DR=<astropy.io.fits.card.Undefined object at 0x2aaad43d6940> [astropy.utils.metadata]\n",
      "WARNING: UnitsWarning: 'nanomaggy' did not parse as fits unit: At col 0, Unit 'nanomaggy' not supported by the FITS standard.  If this is meant to be a custom unit, define it with 'u.def_unit'. To have it recognized inside a file reader or other code, enable it with 'u.add_enabled_units'. For details, see http://docs.astropy.org/en/latest/units/combining_and_defining.html [astropy.units.core]\n",
      "WARNING: UnitsWarning: '1/nanomaggy^2' did not parse as fits unit: Numeric factor not supported by FITS If this is meant to be a custom unit, define it with 'u.def_unit'. To have it recognized inside a file reader or other code, enable it with 'u.add_enabled_units'. For details, see http://docs.astropy.org/en/latest/units/combining_and_defining.html [astropy.units.core]\n"
     ]
    },
    {
     "name": "stdout",
     "output_type": "stream",
     "text": [
      "WARNING:io.py:611:write_targets: qso_selection method not specified for output file\n"
     ]
    },
    {
     "name": "stderr",
     "output_type": "stream",
     "text": [
      "WARNING: MergeConflictWarning: Cannot merge meta key 'DEPNAM00' types <class 'str'> and <class 'str'>, choosing DEPNAM00='desitarget' [astropy.utils.metadata]\n",
      "WARNING: MergeConflictWarning: Cannot merge meta key 'DEPVER00' types <class 'str'> and <class 'str'>, choosing DEPVER00='0.57.1' [astropy.utils.metadata]\n",
      "WARNING: MergeConflictWarning: Cannot merge meta key 'DEPNAM01' types <class 'str'> and <class 'str'>, choosing DEPNAM01='desitarget-git' [astropy.utils.metadata]\n",
      "WARNING: MergeConflictWarning: Cannot merge meta key 'DEPVER01' types <class 'str'> and <class 'str'>, choosing DEPVER01='0.57.1' [astropy.utils.metadata]\n",
      "WARNING: MergeConflictWarning: Cannot merge meta key 'DEPNAM02' types <class 'str'> and <class 'str'>, choosing DEPNAM02='photcat' [astropy.utils.metadata]\n",
      "WARNING: MergeConflictWarning: Cannot merge meta key 'DEPVER02' types <class 'str'> and <class 'str'>, choosing DEPVER02='X' [astropy.utils.metadata]\n",
      "WARNING: MergeConflictWarning: Cannot merge meta key 'DEPNAM03' types <class 'str'> and <class 'str'>, choosing DEPNAM03='tractor-files' [astropy.utils.metadata]\n",
      "WARNING: MergeConflictWarning: Cannot merge meta key 'DEPVER03' types <class 'str'> and <class 'str'>, choosing DEPVER03='/global/cfs/cdirs/desi/survey/ops/surveyops/trunk/mtl/sv3/dark' [astropy.utils.metadata]\n",
      "WARNING: MergeConflictWarning: Cannot merge meta key 'DEPNAM04' types <class 'str'> and <class 'str'>, choosing DEPNAM04='tractor-files-2' [astropy.utils.metadata]\n",
      "WARNING: MergeConflictWarning: Cannot merge meta key 'DEPVER04' types <class 'str'> and <class 'str'>, choosing DEPVER04='/global/cfs/cdirs/desi/target/catalogs/dr9/0.57.0/targets/sv3/resolve/dark' [astropy.utils.metadata]\n",
      "WARNING: MergeConflictWarning: Cannot merge meta key 'DEPNAM05' types <class 'str'> and <class 'str'>, choosing DEPNAM05='qso-selection' [astropy.utils.metadata]\n",
      "WARNING: MergeConflictWarning: Cannot merge meta key 'DEPVER05' types <class 'str'> and <class 'str'>, choosing DEPVER05='unknown' [astropy.utils.metadata]\n",
      "WARNING: MergeConflictWarning: Cannot merge meta key 'DR' types <class 'astropy.io.fits.card.Undefined'> and <class 'astropy.io.fits.card.Undefined'>, choosing DR=<astropy.io.fits.card.Undefined object at 0x2aaad43d6940> [astropy.utils.metadata]\n",
      "WARNING: UnitsWarning: 'nanomaggy' did not parse as fits unit: At col 0, Unit 'nanomaggy' not supported by the FITS standard.  If this is meant to be a custom unit, define it with 'u.def_unit'. To have it recognized inside a file reader or other code, enable it with 'u.add_enabled_units'. For details, see http://docs.astropy.org/en/latest/units/combining_and_defining.html [astropy.units.core]\n",
      "WARNING: UnitsWarning: '1/nanomaggy^2' did not parse as fits unit: Numeric factor not supported by FITS If this is meant to be a custom unit, define it with 'u.def_unit'. To have it recognized inside a file reader or other code, enable it with 'u.add_enabled_units'. For details, see http://docs.astropy.org/en/latest/units/combining_and_defining.html [astropy.units.core]\n"
     ]
    },
    {
     "name": "stdout",
     "output_type": "stream",
     "text": [
      "WARNING:io.py:611:write_targets: qso_selection method not specified for output file\n"
     ]
    },
    {
     "name": "stderr",
     "output_type": "stream",
     "text": [
      "WARNING: MergeConflictWarning: Cannot merge meta key 'DEPNAM00' types <class 'str'> and <class 'str'>, choosing DEPNAM00='desitarget' [astropy.utils.metadata]\n",
      "WARNING: MergeConflictWarning: Cannot merge meta key 'DEPVER00' types <class 'str'> and <class 'str'>, choosing DEPVER00='0.57.1' [astropy.utils.metadata]\n",
      "WARNING: MergeConflictWarning: Cannot merge meta key 'DEPNAM01' types <class 'str'> and <class 'str'>, choosing DEPNAM01='desitarget-git' [astropy.utils.metadata]\n",
      "WARNING: MergeConflictWarning: Cannot merge meta key 'DEPVER01' types <class 'str'> and <class 'str'>, choosing DEPVER01='0.57.1' [astropy.utils.metadata]\n",
      "WARNING: MergeConflictWarning: Cannot merge meta key 'DEPNAM02' types <class 'str'> and <class 'str'>, choosing DEPNAM02='photcat' [astropy.utils.metadata]\n",
      "WARNING: MergeConflictWarning: Cannot merge meta key 'DEPVER02' types <class 'str'> and <class 'str'>, choosing DEPVER02='X' [astropy.utils.metadata]\n",
      "WARNING: MergeConflictWarning: Cannot merge meta key 'DEPNAM03' types <class 'str'> and <class 'str'>, choosing DEPNAM03='tractor-files' [astropy.utils.metadata]\n",
      "WARNING: MergeConflictWarning: Cannot merge meta key 'DEPVER03' types <class 'str'> and <class 'str'>, choosing DEPVER03='/global/cfs/cdirs/desi/survey/ops/surveyops/trunk/mtl/sv3/dark' [astropy.utils.metadata]\n",
      "WARNING: MergeConflictWarning: Cannot merge meta key 'DEPNAM04' types <class 'str'> and <class 'str'>, choosing DEPNAM04='tractor-files-2' [astropy.utils.metadata]\n",
      "WARNING: MergeConflictWarning: Cannot merge meta key 'DEPVER04' types <class 'str'> and <class 'str'>, choosing DEPVER04='/global/cfs/cdirs/desi/target/catalogs/dr9/0.57.0/targets/sv3/resolve/dark' [astropy.utils.metadata]\n",
      "WARNING: MergeConflictWarning: Cannot merge meta key 'DEPNAM05' types <class 'str'> and <class 'str'>, choosing DEPNAM05='qso-selection' [astropy.utils.metadata]\n",
      "WARNING: MergeConflictWarning: Cannot merge meta key 'DEPVER05' types <class 'str'> and <class 'str'>, choosing DEPVER05='unknown' [astropy.utils.metadata]\n",
      "WARNING: MergeConflictWarning: Cannot merge meta key 'DR' types <class 'astropy.io.fits.card.Undefined'> and <class 'astropy.io.fits.card.Undefined'>, choosing DR=<astropy.io.fits.card.Undefined object at 0x2aaad43d6940> [astropy.utils.metadata]\n",
      "WARNING: UnitsWarning: 'nanomaggy' did not parse as fits unit: At col 0, Unit 'nanomaggy' not supported by the FITS standard.  If this is meant to be a custom unit, define it with 'u.def_unit'. To have it recognized inside a file reader or other code, enable it with 'u.add_enabled_units'. For details, see http://docs.astropy.org/en/latest/units/combining_and_defining.html [astropy.units.core]\n",
      "WARNING: UnitsWarning: '1/nanomaggy^2' did not parse as fits unit: Numeric factor not supported by FITS If this is meant to be a custom unit, define it with 'u.def_unit'. To have it recognized inside a file reader or other code, enable it with 'u.add_enabled_units'. For details, see http://docs.astropy.org/en/latest/units/combining_and_defining.html [astropy.units.core]\n"
     ]
    },
    {
     "name": "stdout",
     "output_type": "stream",
     "text": [
      "WARNING:io.py:611:write_targets: qso_selection method not specified for output file\n"
     ]
    },
    {
     "name": "stderr",
     "output_type": "stream",
     "text": [
      "WARNING: MergeConflictWarning: Cannot merge meta key 'DEPNAM00' types <class 'str'> and <class 'str'>, choosing DEPNAM00='desitarget' [astropy.utils.metadata]\n",
      "WARNING: MergeConflictWarning: Cannot merge meta key 'DEPVER00' types <class 'str'> and <class 'str'>, choosing DEPVER00='0.57.1' [astropy.utils.metadata]\n",
      "WARNING: MergeConflictWarning: Cannot merge meta key 'DEPNAM01' types <class 'str'> and <class 'str'>, choosing DEPNAM01='desitarget-git' [astropy.utils.metadata]\n",
      "WARNING: MergeConflictWarning: Cannot merge meta key 'DEPVER01' types <class 'str'> and <class 'str'>, choosing DEPVER01='0.57.1' [astropy.utils.metadata]\n",
      "WARNING: MergeConflictWarning: Cannot merge meta key 'DEPNAM02' types <class 'str'> and <class 'str'>, choosing DEPNAM02='photcat' [astropy.utils.metadata]\n",
      "WARNING: MergeConflictWarning: Cannot merge meta key 'DEPVER02' types <class 'str'> and <class 'str'>, choosing DEPVER02='X' [astropy.utils.metadata]\n",
      "WARNING: MergeConflictWarning: Cannot merge meta key 'DEPNAM03' types <class 'str'> and <class 'str'>, choosing DEPNAM03='tractor-files' [astropy.utils.metadata]\n",
      "WARNING: MergeConflictWarning: Cannot merge meta key 'DEPVER03' types <class 'str'> and <class 'str'>, choosing DEPVER03='/global/cfs/cdirs/desi/survey/ops/surveyops/trunk/mtl/sv3/dark' [astropy.utils.metadata]\n",
      "WARNING: MergeConflictWarning: Cannot merge meta key 'DEPNAM04' types <class 'str'> and <class 'str'>, choosing DEPNAM04='tractor-files-2' [astropy.utils.metadata]\n",
      "WARNING: MergeConflictWarning: Cannot merge meta key 'DEPVER04' types <class 'str'> and <class 'str'>, choosing DEPVER04='/global/cfs/cdirs/desi/target/catalogs/dr9/0.57.0/targets/sv3/resolve/dark' [astropy.utils.metadata]\n",
      "WARNING: MergeConflictWarning: Cannot merge meta key 'DEPNAM05' types <class 'str'> and <class 'str'>, choosing DEPNAM05='qso-selection' [astropy.utils.metadata]\n",
      "WARNING: MergeConflictWarning: Cannot merge meta key 'DEPVER05' types <class 'str'> and <class 'str'>, choosing DEPVER05='unknown' [astropy.utils.metadata]\n",
      "WARNING: MergeConflictWarning: Cannot merge meta key 'DR' types <class 'astropy.io.fits.card.Undefined'> and <class 'astropy.io.fits.card.Undefined'>, choosing DR=<astropy.io.fits.card.Undefined object at 0x2aaad43d6940> [astropy.utils.metadata]\n",
      "WARNING: UnitsWarning: 'nanomaggy' did not parse as fits unit: At col 0, Unit 'nanomaggy' not supported by the FITS standard.  If this is meant to be a custom unit, define it with 'u.def_unit'. To have it recognized inside a file reader or other code, enable it with 'u.add_enabled_units'. For details, see http://docs.astropy.org/en/latest/units/combining_and_defining.html [astropy.units.core]\n",
      "WARNING: UnitsWarning: '1/nanomaggy^2' did not parse as fits unit: Numeric factor not supported by FITS If this is meant to be a custom unit, define it with 'u.def_unit'. To have it recognized inside a file reader or other code, enable it with 'u.add_enabled_units'. For details, see http://docs.astropy.org/en/latest/units/combining_and_defining.html [astropy.units.core]\n"
     ]
    },
    {
     "name": "stdout",
     "output_type": "stream",
     "text": [
      "WARNING:io.py:611:write_targets: qso_selection method not specified for output file\n"
     ]
    },
    {
     "name": "stderr",
     "output_type": "stream",
     "text": [
      "WARNING: MergeConflictWarning: Cannot merge meta key 'DEPNAM00' types <class 'str'> and <class 'str'>, choosing DEPNAM00='desitarget' [astropy.utils.metadata]\n",
      "WARNING: MergeConflictWarning: Cannot merge meta key 'DEPVER00' types <class 'str'> and <class 'str'>, choosing DEPVER00='0.57.0' [astropy.utils.metadata]\n",
      "WARNING: MergeConflictWarning: Cannot merge meta key 'DEPNAM01' types <class 'str'> and <class 'str'>, choosing DEPNAM01='desitarget-git' [astropy.utils.metadata]\n",
      "WARNING: MergeConflictWarning: Cannot merge meta key 'DEPVER01' types <class 'str'> and <class 'str'>, choosing DEPVER01='0.57.0' [astropy.utils.metadata]\n",
      "WARNING: MergeConflictWarning: Cannot merge meta key 'DEPNAM02' types <class 'str'> and <class 'str'>, choosing DEPNAM02='photcat' [astropy.utils.metadata]\n",
      "WARNING: MergeConflictWarning: Cannot merge meta key 'DEPVER02' types <class 'str'> and <class 'str'>, choosing DEPVER02='X' [astropy.utils.metadata]\n",
      "WARNING: MergeConflictWarning: Cannot merge meta key 'DEPNAM03' types <class 'str'> and <class 'str'>, choosing DEPNAM03='tractor-files' [astropy.utils.metadata]\n",
      "WARNING: MergeConflictWarning: Cannot merge meta key 'DEPVER03' types <class 'str'> and <class 'str'>, choosing DEPVER03='/global/cfs/cdirs/desi/target/mtl/sv3/dark' [astropy.utils.metadata]\n",
      "WARNING: MergeConflictWarning: Cannot merge meta key 'DEPNAM04' types <class 'str'> and <class 'str'>, choosing DEPNAM04='tractor-files-2' [astropy.utils.metadata]\n",
      "WARNING: MergeConflictWarning: Cannot merge meta key 'DEPVER04' types <class 'str'> and <class 'str'>, choosing DEPVER04='/global/cfs/cdirs/desi/target/catalogs/dr9/0.57.0/targets/sv3/resolve/dark' [astropy.utils.metadata]\n",
      "WARNING: MergeConflictWarning: Cannot merge meta key 'DEPNAM05' types <class 'str'> and <class 'str'>, choosing DEPNAM05='qso-selection' [astropy.utils.metadata]\n",
      "WARNING: MergeConflictWarning: Cannot merge meta key 'DEPVER05' types <class 'str'> and <class 'str'>, choosing DEPVER05='unknown' [astropy.utils.metadata]\n",
      "WARNING: MergeConflictWarning: Cannot merge meta key 'DR' types <class 'astropy.io.fits.card.Undefined'> and <class 'astropy.io.fits.card.Undefined'>, choosing DR=<astropy.io.fits.card.Undefined object at 0x2aaad43d6940> [astropy.utils.metadata]\n",
      "WARNING: UnitsWarning: 'nanomaggy' did not parse as fits unit: At col 0, Unit 'nanomaggy' not supported by the FITS standard.  If this is meant to be a custom unit, define it with 'u.def_unit'. To have it recognized inside a file reader or other code, enable it with 'u.add_enabled_units'. For details, see http://docs.astropy.org/en/latest/units/combining_and_defining.html [astropy.units.core]\n",
      "WARNING: UnitsWarning: '1/nanomaggy^2' did not parse as fits unit: Numeric factor not supported by FITS If this is meant to be a custom unit, define it with 'u.def_unit'. To have it recognized inside a file reader or other code, enable it with 'u.add_enabled_units'. For details, see http://docs.astropy.org/en/latest/units/combining_and_defining.html [astropy.units.core]\n"
     ]
    },
    {
     "name": "stdout",
     "output_type": "stream",
     "text": [
      "WARNING:io.py:611:write_targets: qso_selection method not specified for output file\n"
     ]
    },
    {
     "name": "stderr",
     "output_type": "stream",
     "text": [
      "WARNING: MergeConflictWarning: Cannot merge meta key 'DEPNAM00' types <class 'str'> and <class 'str'>, choosing DEPNAM00='desitarget' [astropy.utils.metadata]\n",
      "WARNING: MergeConflictWarning: Cannot merge meta key 'DEPVER00' types <class 'str'> and <class 'str'>, choosing DEPVER00='0.57.1' [astropy.utils.metadata]\n",
      "WARNING: MergeConflictWarning: Cannot merge meta key 'DEPNAM01' types <class 'str'> and <class 'str'>, choosing DEPNAM01='desitarget-git' [astropy.utils.metadata]\n",
      "WARNING: MergeConflictWarning: Cannot merge meta key 'DEPVER01' types <class 'str'> and <class 'str'>, choosing DEPVER01='0.57.1' [astropy.utils.metadata]\n",
      "WARNING: MergeConflictWarning: Cannot merge meta key 'DEPNAM02' types <class 'str'> and <class 'str'>, choosing DEPNAM02='photcat' [astropy.utils.metadata]\n",
      "WARNING: MergeConflictWarning: Cannot merge meta key 'DEPVER02' types <class 'str'> and <class 'str'>, choosing DEPVER02='X' [astropy.utils.metadata]\n",
      "WARNING: MergeConflictWarning: Cannot merge meta key 'DEPNAM03' types <class 'str'> and <class 'str'>, choosing DEPNAM03='tractor-files' [astropy.utils.metadata]\n",
      "WARNING: MergeConflictWarning: Cannot merge meta key 'DEPVER03' types <class 'str'> and <class 'str'>, choosing DEPVER03='/global/cfs/cdirs/desi/survey/ops/surveyops/trunk/mtl/sv3/dark' [astropy.utils.metadata]\n",
      "WARNING: MergeConflictWarning: Cannot merge meta key 'DEPNAM04' types <class 'str'> and <class 'str'>, choosing DEPNAM04='tractor-files-2' [astropy.utils.metadata]\n",
      "WARNING: MergeConflictWarning: Cannot merge meta key 'DEPVER04' types <class 'str'> and <class 'str'>, choosing DEPVER04='/global/cfs/cdirs/desi/target/catalogs/dr9/0.57.0/targets/sv3/resolve/dark' [astropy.utils.metadata]\n",
      "WARNING: MergeConflictWarning: Cannot merge meta key 'DEPNAM05' types <class 'str'> and <class 'str'>, choosing DEPNAM05='qso-selection' [astropy.utils.metadata]\n",
      "WARNING: MergeConflictWarning: Cannot merge meta key 'DEPVER05' types <class 'str'> and <class 'str'>, choosing DEPVER05='unknown' [astropy.utils.metadata]\n",
      "WARNING: MergeConflictWarning: Cannot merge meta key 'DR' types <class 'astropy.io.fits.card.Undefined'> and <class 'astropy.io.fits.card.Undefined'>, choosing DR=<astropy.io.fits.card.Undefined object at 0x2aaad43d6940> [astropy.utils.metadata]\n",
      "WARNING: UnitsWarning: 'nanomaggy' did not parse as fits unit: At col 0, Unit 'nanomaggy' not supported by the FITS standard.  If this is meant to be a custom unit, define it with 'u.def_unit'. To have it recognized inside a file reader or other code, enable it with 'u.add_enabled_units'. For details, see http://docs.astropy.org/en/latest/units/combining_and_defining.html [astropy.units.core]\n",
      "WARNING: UnitsWarning: '1/nanomaggy^2' did not parse as fits unit: Numeric factor not supported by FITS If this is meant to be a custom unit, define it with 'u.def_unit'. To have it recognized inside a file reader or other code, enable it with 'u.add_enabled_units'. For details, see http://docs.astropy.org/en/latest/units/combining_and_defining.html [astropy.units.core]\n"
     ]
    },
    {
     "name": "stdout",
     "output_type": "stream",
     "text": [
      "WARNING:io.py:611:write_targets: qso_selection method not specified for output file\n"
     ]
    },
    {
     "name": "stderr",
     "output_type": "stream",
     "text": [
      "WARNING: MergeConflictWarning: Cannot merge meta key 'DEPNAM00' types <class 'str'> and <class 'str'>, choosing DEPNAM00='desitarget' [astropy.utils.metadata]\n",
      "WARNING: MergeConflictWarning: Cannot merge meta key 'DEPVER00' types <class 'str'> and <class 'str'>, choosing DEPVER00='0.57.1' [astropy.utils.metadata]\n",
      "WARNING: MergeConflictWarning: Cannot merge meta key 'DEPNAM01' types <class 'str'> and <class 'str'>, choosing DEPNAM01='desitarget-git' [astropy.utils.metadata]\n",
      "WARNING: MergeConflictWarning: Cannot merge meta key 'DEPVER01' types <class 'str'> and <class 'str'>, choosing DEPVER01='0.57.1' [astropy.utils.metadata]\n",
      "WARNING: MergeConflictWarning: Cannot merge meta key 'DEPNAM02' types <class 'str'> and <class 'str'>, choosing DEPNAM02='photcat' [astropy.utils.metadata]\n",
      "WARNING: MergeConflictWarning: Cannot merge meta key 'DEPVER02' types <class 'str'> and <class 'str'>, choosing DEPVER02='X' [astropy.utils.metadata]\n",
      "WARNING: MergeConflictWarning: Cannot merge meta key 'DEPNAM03' types <class 'str'> and <class 'str'>, choosing DEPNAM03='tractor-files' [astropy.utils.metadata]\n",
      "WARNING: MergeConflictWarning: Cannot merge meta key 'DEPVER03' types <class 'str'> and <class 'str'>, choosing DEPVER03='/global/cfs/cdirs/desi/survey/ops/surveyops/trunk/mtl/sv3/dark' [astropy.utils.metadata]\n",
      "WARNING: MergeConflictWarning: Cannot merge meta key 'DEPNAM04' types <class 'str'> and <class 'str'>, choosing DEPNAM04='tractor-files-2' [astropy.utils.metadata]\n",
      "WARNING: MergeConflictWarning: Cannot merge meta key 'DEPVER04' types <class 'str'> and <class 'str'>, choosing DEPVER04='/global/cfs/cdirs/desi/target/catalogs/dr9/0.57.0/targets/sv3/resolve/dark' [astropy.utils.metadata]\n",
      "WARNING: MergeConflictWarning: Cannot merge meta key 'DEPNAM05' types <class 'str'> and <class 'str'>, choosing DEPNAM05='qso-selection' [astropy.utils.metadata]\n",
      "WARNING: MergeConflictWarning: Cannot merge meta key 'DEPVER05' types <class 'str'> and <class 'str'>, choosing DEPVER05='unknown' [astropy.utils.metadata]\n",
      "WARNING: MergeConflictWarning: Cannot merge meta key 'DR' types <class 'astropy.io.fits.card.Undefined'> and <class 'astropy.io.fits.card.Undefined'>, choosing DR=<astropy.io.fits.card.Undefined object at 0x2aaad43d6940> [astropy.utils.metadata]\n",
      "WARNING: UnitsWarning: 'nanomaggy' did not parse as fits unit: At col 0, Unit 'nanomaggy' not supported by the FITS standard.  If this is meant to be a custom unit, define it with 'u.def_unit'. To have it recognized inside a file reader or other code, enable it with 'u.add_enabled_units'. For details, see http://docs.astropy.org/en/latest/units/combining_and_defining.html [astropy.units.core]\n",
      "WARNING: UnitsWarning: '1/nanomaggy^2' did not parse as fits unit: Numeric factor not supported by FITS If this is meant to be a custom unit, define it with 'u.def_unit'. To have it recognized inside a file reader or other code, enable it with 'u.add_enabled_units'. For details, see http://docs.astropy.org/en/latest/units/combining_and_defining.html [astropy.units.core]\n"
     ]
    },
    {
     "name": "stdout",
     "output_type": "stream",
     "text": [
      "WARNING:io.py:611:write_targets: qso_selection method not specified for output file\n"
     ]
    },
    {
     "name": "stderr",
     "output_type": "stream",
     "text": [
      "WARNING: MergeConflictWarning: Cannot merge meta key 'DEPNAM00' types <class 'str'> and <class 'str'>, choosing DEPNAM00='desitarget' [astropy.utils.metadata]\n",
      "WARNING: MergeConflictWarning: Cannot merge meta key 'DEPVER00' types <class 'str'> and <class 'str'>, choosing DEPVER00='0.57.1' [astropy.utils.metadata]\n",
      "WARNING: MergeConflictWarning: Cannot merge meta key 'DEPNAM01' types <class 'str'> and <class 'str'>, choosing DEPNAM01='desitarget-git' [astropy.utils.metadata]\n",
      "WARNING: MergeConflictWarning: Cannot merge meta key 'DEPVER01' types <class 'str'> and <class 'str'>, choosing DEPVER01='0.57.1' [astropy.utils.metadata]\n",
      "WARNING: MergeConflictWarning: Cannot merge meta key 'DEPNAM02' types <class 'str'> and <class 'str'>, choosing DEPNAM02='photcat' [astropy.utils.metadata]\n",
      "WARNING: MergeConflictWarning: Cannot merge meta key 'DEPVER02' types <class 'str'> and <class 'str'>, choosing DEPVER02='X' [astropy.utils.metadata]\n",
      "WARNING: MergeConflictWarning: Cannot merge meta key 'DEPNAM03' types <class 'str'> and <class 'str'>, choosing DEPNAM03='tractor-files' [astropy.utils.metadata]\n",
      "WARNING: MergeConflictWarning: Cannot merge meta key 'DEPVER03' types <class 'str'> and <class 'str'>, choosing DEPVER03='/global/cfs/cdirs/desi/survey/ops/surveyops/trunk/mtl/sv3/dark' [astropy.utils.metadata]\n",
      "WARNING: MergeConflictWarning: Cannot merge meta key 'DEPNAM04' types <class 'str'> and <class 'str'>, choosing DEPNAM04='tractor-files-2' [astropy.utils.metadata]\n",
      "WARNING: MergeConflictWarning: Cannot merge meta key 'DEPVER04' types <class 'str'> and <class 'str'>, choosing DEPVER04='/global/cfs/cdirs/desi/target/catalogs/dr9/0.57.0/targets/sv3/resolve/dark' [astropy.utils.metadata]\n",
      "WARNING: MergeConflictWarning: Cannot merge meta key 'DEPNAM05' types <class 'str'> and <class 'str'>, choosing DEPNAM05='qso-selection' [astropy.utils.metadata]\n",
      "WARNING: MergeConflictWarning: Cannot merge meta key 'DEPVER05' types <class 'str'> and <class 'str'>, choosing DEPVER05='unknown' [astropy.utils.metadata]\n",
      "WARNING: MergeConflictWarning: Cannot merge meta key 'DR' types <class 'astropy.io.fits.card.Undefined'> and <class 'astropy.io.fits.card.Undefined'>, choosing DR=<astropy.io.fits.card.Undefined object at 0x2aaad43d6940> [astropy.utils.metadata]\n",
      "WARNING: UnitsWarning: 'nanomaggy' did not parse as fits unit: At col 0, Unit 'nanomaggy' not supported by the FITS standard.  If this is meant to be a custom unit, define it with 'u.def_unit'. To have it recognized inside a file reader or other code, enable it with 'u.add_enabled_units'. For details, see http://docs.astropy.org/en/latest/units/combining_and_defining.html [astropy.units.core]\n",
      "WARNING: UnitsWarning: '1/nanomaggy^2' did not parse as fits unit: Numeric factor not supported by FITS If this is meant to be a custom unit, define it with 'u.def_unit'. To have it recognized inside a file reader or other code, enable it with 'u.add_enabled_units'. For details, see http://docs.astropy.org/en/latest/units/combining_and_defining.html [astropy.units.core]\n"
     ]
    },
    {
     "name": "stdout",
     "output_type": "stream",
     "text": [
      "WARNING:io.py:611:write_targets: qso_selection method not specified for output file\n"
     ]
    },
    {
     "name": "stderr",
     "output_type": "stream",
     "text": [
      "WARNING: MergeConflictWarning: Cannot merge meta key 'DEPNAM00' types <class 'str'> and <class 'str'>, choosing DEPNAM00='desitarget' [astropy.utils.metadata]\n",
      "WARNING: MergeConflictWarning: Cannot merge meta key 'DEPVER00' types <class 'str'> and <class 'str'>, choosing DEPVER00='0.57.1' [astropy.utils.metadata]\n",
      "WARNING: MergeConflictWarning: Cannot merge meta key 'DEPNAM01' types <class 'str'> and <class 'str'>, choosing DEPNAM01='desitarget-git' [astropy.utils.metadata]\n",
      "WARNING: MergeConflictWarning: Cannot merge meta key 'DEPVER01' types <class 'str'> and <class 'str'>, choosing DEPVER01='0.57.1' [astropy.utils.metadata]\n",
      "WARNING: MergeConflictWarning: Cannot merge meta key 'DEPNAM02' types <class 'str'> and <class 'str'>, choosing DEPNAM02='photcat' [astropy.utils.metadata]\n",
      "WARNING: MergeConflictWarning: Cannot merge meta key 'DEPVER02' types <class 'str'> and <class 'str'>, choosing DEPVER02='X' [astropy.utils.metadata]\n",
      "WARNING: MergeConflictWarning: Cannot merge meta key 'DEPNAM03' types <class 'str'> and <class 'str'>, choosing DEPNAM03='tractor-files' [astropy.utils.metadata]\n",
      "WARNING: MergeConflictWarning: Cannot merge meta key 'DEPVER03' types <class 'str'> and <class 'str'>, choosing DEPVER03='/global/cfs/cdirs/desi/survey/ops/surveyops/trunk/mtl/sv3/dark' [astropy.utils.metadata]\n",
      "WARNING: MergeConflictWarning: Cannot merge meta key 'DEPNAM04' types <class 'str'> and <class 'str'>, choosing DEPNAM04='tractor-files-2' [astropy.utils.metadata]\n",
      "WARNING: MergeConflictWarning: Cannot merge meta key 'DEPVER04' types <class 'str'> and <class 'str'>, choosing DEPVER04='/global/cfs/cdirs/desi/target/catalogs/dr9/0.57.0/targets/sv3/resolve/dark' [astropy.utils.metadata]\n",
      "WARNING: MergeConflictWarning: Cannot merge meta key 'DEPNAM05' types <class 'str'> and <class 'str'>, choosing DEPNAM05='qso-selection' [astropy.utils.metadata]\n",
      "WARNING: MergeConflictWarning: Cannot merge meta key 'DEPVER05' types <class 'str'> and <class 'str'>, choosing DEPVER05='unknown' [astropy.utils.metadata]\n",
      "WARNING: MergeConflictWarning: Cannot merge meta key 'DR' types <class 'astropy.io.fits.card.Undefined'> and <class 'astropy.io.fits.card.Undefined'>, choosing DR=<astropy.io.fits.card.Undefined object at 0x2aaad43d6940> [astropy.utils.metadata]\n",
      "WARNING: UnitsWarning: 'nanomaggy' did not parse as fits unit: At col 0, Unit 'nanomaggy' not supported by the FITS standard.  If this is meant to be a custom unit, define it with 'u.def_unit'. To have it recognized inside a file reader or other code, enable it with 'u.add_enabled_units'. For details, see http://docs.astropy.org/en/latest/units/combining_and_defining.html [astropy.units.core]\n",
      "WARNING: UnitsWarning: '1/nanomaggy^2' did not parse as fits unit: Numeric factor not supported by FITS If this is meant to be a custom unit, define it with 'u.def_unit'. To have it recognized inside a file reader or other code, enable it with 'u.add_enabled_units'. For details, see http://docs.astropy.org/en/latest/units/combining_and_defining.html [astropy.units.core]\n"
     ]
    },
    {
     "name": "stdout",
     "output_type": "stream",
     "text": [
      "WARNING:io.py:611:write_targets: qso_selection method not specified for output file\n"
     ]
    },
    {
     "name": "stderr",
     "output_type": "stream",
     "text": [
      "WARNING: MergeConflictWarning: Cannot merge meta key 'DEPNAM00' types <class 'str'> and <class 'str'>, choosing DEPNAM00='desitarget' [astropy.utils.metadata]\n",
      "WARNING: MergeConflictWarning: Cannot merge meta key 'DEPVER00' types <class 'str'> and <class 'str'>, choosing DEPVER00='0.57.1' [astropy.utils.metadata]\n",
      "WARNING: MergeConflictWarning: Cannot merge meta key 'DEPNAM01' types <class 'str'> and <class 'str'>, choosing DEPNAM01='desitarget-git' [astropy.utils.metadata]\n",
      "WARNING: MergeConflictWarning: Cannot merge meta key 'DEPVER01' types <class 'str'> and <class 'str'>, choosing DEPVER01='0.57.1' [astropy.utils.metadata]\n",
      "WARNING: MergeConflictWarning: Cannot merge meta key 'DEPNAM02' types <class 'str'> and <class 'str'>, choosing DEPNAM02='photcat' [astropy.utils.metadata]\n",
      "WARNING: MergeConflictWarning: Cannot merge meta key 'DEPVER02' types <class 'str'> and <class 'str'>, choosing DEPVER02='X' [astropy.utils.metadata]\n",
      "WARNING: MergeConflictWarning: Cannot merge meta key 'DEPNAM03' types <class 'str'> and <class 'str'>, choosing DEPNAM03='tractor-files' [astropy.utils.metadata]\n",
      "WARNING: MergeConflictWarning: Cannot merge meta key 'DEPVER03' types <class 'str'> and <class 'str'>, choosing DEPVER03='/global/cfs/cdirs/desi/survey/ops/surveyops/trunk/mtl/sv3/dark' [astropy.utils.metadata]\n",
      "WARNING: MergeConflictWarning: Cannot merge meta key 'DEPNAM04' types <class 'str'> and <class 'str'>, choosing DEPNAM04='tractor-files-2' [astropy.utils.metadata]\n",
      "WARNING: MergeConflictWarning: Cannot merge meta key 'DEPVER04' types <class 'str'> and <class 'str'>, choosing DEPVER04='/global/cfs/cdirs/desi/target/catalogs/dr9/0.57.0/targets/sv3/resolve/dark' [astropy.utils.metadata]\n",
      "WARNING: MergeConflictWarning: Cannot merge meta key 'DEPNAM05' types <class 'str'> and <class 'str'>, choosing DEPNAM05='qso-selection' [astropy.utils.metadata]\n",
      "WARNING: MergeConflictWarning: Cannot merge meta key 'DEPVER05' types <class 'str'> and <class 'str'>, choosing DEPVER05='unknown' [astropy.utils.metadata]\n",
      "WARNING: MergeConflictWarning: Cannot merge meta key 'DR' types <class 'astropy.io.fits.card.Undefined'> and <class 'astropy.io.fits.card.Undefined'>, choosing DR=<astropy.io.fits.card.Undefined object at 0x2aaad43d6940> [astropy.utils.metadata]\n",
      "WARNING: UnitsWarning: 'nanomaggy' did not parse as fits unit: At col 0, Unit 'nanomaggy' not supported by the FITS standard.  If this is meant to be a custom unit, define it with 'u.def_unit'. To have it recognized inside a file reader or other code, enable it with 'u.add_enabled_units'. For details, see http://docs.astropy.org/en/latest/units/combining_and_defining.html [astropy.units.core]\n",
      "WARNING: UnitsWarning: '1/nanomaggy^2' did not parse as fits unit: Numeric factor not supported by FITS If this is meant to be a custom unit, define it with 'u.def_unit'. To have it recognized inside a file reader or other code, enable it with 'u.add_enabled_units'. For details, see http://docs.astropy.org/en/latest/units/combining_and_defining.html [astropy.units.core]\n"
     ]
    },
    {
     "name": "stdout",
     "output_type": "stream",
     "text": [
      "WARNING:io.py:611:write_targets: qso_selection method not specified for output file\n"
     ]
    },
    {
     "name": "stderr",
     "output_type": "stream",
     "text": [
      "WARNING: MergeConflictWarning: Cannot merge meta key 'DEPNAM00' types <class 'str'> and <class 'str'>, choosing DEPNAM00='desitarget' [astropy.utils.metadata]\n",
      "WARNING: MergeConflictWarning: Cannot merge meta key 'DEPVER00' types <class 'str'> and <class 'str'>, choosing DEPVER00='0.57.1' [astropy.utils.metadata]\n",
      "WARNING: MergeConflictWarning: Cannot merge meta key 'DEPNAM01' types <class 'str'> and <class 'str'>, choosing DEPNAM01='desitarget-git' [astropy.utils.metadata]\n",
      "WARNING: MergeConflictWarning: Cannot merge meta key 'DEPVER01' types <class 'str'> and <class 'str'>, choosing DEPVER01='0.57.1' [astropy.utils.metadata]\n",
      "WARNING: MergeConflictWarning: Cannot merge meta key 'DEPNAM02' types <class 'str'> and <class 'str'>, choosing DEPNAM02='photcat' [astropy.utils.metadata]\n",
      "WARNING: MergeConflictWarning: Cannot merge meta key 'DEPVER02' types <class 'str'> and <class 'str'>, choosing DEPVER02='X' [astropy.utils.metadata]\n",
      "WARNING: MergeConflictWarning: Cannot merge meta key 'DEPNAM03' types <class 'str'> and <class 'str'>, choosing DEPNAM03='tractor-files' [astropy.utils.metadata]\n",
      "WARNING: MergeConflictWarning: Cannot merge meta key 'DEPVER03' types <class 'str'> and <class 'str'>, choosing DEPVER03='/global/cfs/cdirs/desi/survey/ops/surveyops/trunk/mtl/sv3/dark' [astropy.utils.metadata]\n",
      "WARNING: MergeConflictWarning: Cannot merge meta key 'DEPNAM04' types <class 'str'> and <class 'str'>, choosing DEPNAM04='tractor-files-2' [astropy.utils.metadata]\n",
      "WARNING: MergeConflictWarning: Cannot merge meta key 'DEPVER04' types <class 'str'> and <class 'str'>, choosing DEPVER04='/global/cfs/cdirs/desi/target/catalogs/dr9/0.57.0/targets/sv3/resolve/dark' [astropy.utils.metadata]\n",
      "WARNING: MergeConflictWarning: Cannot merge meta key 'DEPNAM05' types <class 'str'> and <class 'str'>, choosing DEPNAM05='qso-selection' [astropy.utils.metadata]\n",
      "WARNING: MergeConflictWarning: Cannot merge meta key 'DEPVER05' types <class 'str'> and <class 'str'>, choosing DEPVER05='unknown' [astropy.utils.metadata]\n",
      "WARNING: MergeConflictWarning: Cannot merge meta key 'DR' types <class 'astropy.io.fits.card.Undefined'> and <class 'astropy.io.fits.card.Undefined'>, choosing DR=<astropy.io.fits.card.Undefined object at 0x2aaad43d6940> [astropy.utils.metadata]\n",
      "WARNING: UnitsWarning: 'nanomaggy' did not parse as fits unit: At col 0, Unit 'nanomaggy' not supported by the FITS standard.  If this is meant to be a custom unit, define it with 'u.def_unit'. To have it recognized inside a file reader or other code, enable it with 'u.add_enabled_units'. For details, see http://docs.astropy.org/en/latest/units/combining_and_defining.html [astropy.units.core]\n",
      "WARNING: UnitsWarning: '1/nanomaggy^2' did not parse as fits unit: Numeric factor not supported by FITS If this is meant to be a custom unit, define it with 'u.def_unit'. To have it recognized inside a file reader or other code, enable it with 'u.add_enabled_units'. For details, see http://docs.astropy.org/en/latest/units/combining_and_defining.html [astropy.units.core]\n"
     ]
    },
    {
     "name": "stdout",
     "output_type": "stream",
     "text": [
      "WARNING:io.py:611:write_targets: qso_selection method not specified for output file\n"
     ]
    },
    {
     "name": "stderr",
     "output_type": "stream",
     "text": [
      "WARNING: MergeConflictWarning: Cannot merge meta key 'DEPNAM00' types <class 'str'> and <class 'str'>, choosing DEPNAM00='desitarget' [astropy.utils.metadata]\n",
      "WARNING: MergeConflictWarning: Cannot merge meta key 'DEPVER00' types <class 'str'> and <class 'str'>, choosing DEPVER00='0.57.1' [astropy.utils.metadata]\n",
      "WARNING: MergeConflictWarning: Cannot merge meta key 'DEPNAM01' types <class 'str'> and <class 'str'>, choosing DEPNAM01='desitarget-git' [astropy.utils.metadata]\n",
      "WARNING: MergeConflictWarning: Cannot merge meta key 'DEPVER01' types <class 'str'> and <class 'str'>, choosing DEPVER01='0.57.1' [astropy.utils.metadata]\n",
      "WARNING: MergeConflictWarning: Cannot merge meta key 'DEPNAM02' types <class 'str'> and <class 'str'>, choosing DEPNAM02='photcat' [astropy.utils.metadata]\n",
      "WARNING: MergeConflictWarning: Cannot merge meta key 'DEPVER02' types <class 'str'> and <class 'str'>, choosing DEPVER02='X' [astropy.utils.metadata]\n",
      "WARNING: MergeConflictWarning: Cannot merge meta key 'DEPNAM03' types <class 'str'> and <class 'str'>, choosing DEPNAM03='tractor-files' [astropy.utils.metadata]\n",
      "WARNING: MergeConflictWarning: Cannot merge meta key 'DEPVER03' types <class 'str'> and <class 'str'>, choosing DEPVER03='/global/cfs/cdirs/desi/survey/ops/surveyops/trunk/mtl/sv3/dark' [astropy.utils.metadata]\n",
      "WARNING: MergeConflictWarning: Cannot merge meta key 'DEPNAM04' types <class 'str'> and <class 'str'>, choosing DEPNAM04='tractor-files-2' [astropy.utils.metadata]\n",
      "WARNING: MergeConflictWarning: Cannot merge meta key 'DEPVER04' types <class 'str'> and <class 'str'>, choosing DEPVER04='/global/cfs/cdirs/desi/target/catalogs/dr9/0.57.0/targets/sv3/resolve/dark' [astropy.utils.metadata]\n",
      "WARNING: MergeConflictWarning: Cannot merge meta key 'DEPNAM05' types <class 'str'> and <class 'str'>, choosing DEPNAM05='qso-selection' [astropy.utils.metadata]\n",
      "WARNING: MergeConflictWarning: Cannot merge meta key 'DEPVER05' types <class 'str'> and <class 'str'>, choosing DEPVER05='unknown' [astropy.utils.metadata]\n",
      "WARNING: MergeConflictWarning: Cannot merge meta key 'DR' types <class 'astropy.io.fits.card.Undefined'> and <class 'astropy.io.fits.card.Undefined'>, choosing DR=<astropy.io.fits.card.Undefined object at 0x2aaad43d6940> [astropy.utils.metadata]\n",
      "WARNING: UnitsWarning: 'nanomaggy' did not parse as fits unit: At col 0, Unit 'nanomaggy' not supported by the FITS standard.  If this is meant to be a custom unit, define it with 'u.def_unit'. To have it recognized inside a file reader or other code, enable it with 'u.add_enabled_units'. For details, see http://docs.astropy.org/en/latest/units/combining_and_defining.html [astropy.units.core]\n",
      "WARNING: UnitsWarning: '1/nanomaggy^2' did not parse as fits unit: Numeric factor not supported by FITS If this is meant to be a custom unit, define it with 'u.def_unit'. To have it recognized inside a file reader or other code, enable it with 'u.add_enabled_units'. For details, see http://docs.astropy.org/en/latest/units/combining_and_defining.html [astropy.units.core]\n"
     ]
    },
    {
     "name": "stdout",
     "output_type": "stream",
     "text": [
      "WARNING:io.py:611:write_targets: qso_selection method not specified for output file\n"
     ]
    },
    {
     "name": "stderr",
     "output_type": "stream",
     "text": [
      "WARNING: MergeConflictWarning: Cannot merge meta key 'DEPNAM00' types <class 'str'> and <class 'str'>, choosing DEPNAM00='desitarget' [astropy.utils.metadata]\n",
      "WARNING: MergeConflictWarning: Cannot merge meta key 'DEPVER00' types <class 'str'> and <class 'str'>, choosing DEPVER00='0.57.1' [astropy.utils.metadata]\n",
      "WARNING: MergeConflictWarning: Cannot merge meta key 'DEPNAM01' types <class 'str'> and <class 'str'>, choosing DEPNAM01='desitarget-git' [astropy.utils.metadata]\n",
      "WARNING: MergeConflictWarning: Cannot merge meta key 'DEPVER01' types <class 'str'> and <class 'str'>, choosing DEPVER01='0.57.1' [astropy.utils.metadata]\n",
      "WARNING: MergeConflictWarning: Cannot merge meta key 'DEPNAM02' types <class 'str'> and <class 'str'>, choosing DEPNAM02='photcat' [astropy.utils.metadata]\n",
      "WARNING: MergeConflictWarning: Cannot merge meta key 'DEPVER02' types <class 'str'> and <class 'str'>, choosing DEPVER02='X' [astropy.utils.metadata]\n",
      "WARNING: MergeConflictWarning: Cannot merge meta key 'DEPNAM03' types <class 'str'> and <class 'str'>, choosing DEPNAM03='tractor-files' [astropy.utils.metadata]\n",
      "WARNING: MergeConflictWarning: Cannot merge meta key 'DEPVER03' types <class 'str'> and <class 'str'>, choosing DEPVER03='/global/cfs/cdirs/desi/survey/ops/surveyops/trunk/mtl/sv3/dark' [astropy.utils.metadata]\n",
      "WARNING: MergeConflictWarning: Cannot merge meta key 'DEPNAM04' types <class 'str'> and <class 'str'>, choosing DEPNAM04='tractor-files-2' [astropy.utils.metadata]\n",
      "WARNING: MergeConflictWarning: Cannot merge meta key 'DEPVER04' types <class 'str'> and <class 'str'>, choosing DEPVER04='/global/cfs/cdirs/desi/target/catalogs/dr9/0.57.0/targets/sv3/resolve/dark' [astropy.utils.metadata]\n",
      "WARNING: MergeConflictWarning: Cannot merge meta key 'DEPNAM05' types <class 'str'> and <class 'str'>, choosing DEPNAM05='qso-selection' [astropy.utils.metadata]\n",
      "WARNING: MergeConflictWarning: Cannot merge meta key 'DEPVER05' types <class 'str'> and <class 'str'>, choosing DEPVER05='unknown' [astropy.utils.metadata]\n",
      "WARNING: MergeConflictWarning: Cannot merge meta key 'DR' types <class 'astropy.io.fits.card.Undefined'> and <class 'astropy.io.fits.card.Undefined'>, choosing DR=<astropy.io.fits.card.Undefined object at 0x2aaad43d6940> [astropy.utils.metadata]\n",
      "WARNING: UnitsWarning: 'nanomaggy' did not parse as fits unit: At col 0, Unit 'nanomaggy' not supported by the FITS standard.  If this is meant to be a custom unit, define it with 'u.def_unit'. To have it recognized inside a file reader or other code, enable it with 'u.add_enabled_units'. For details, see http://docs.astropy.org/en/latest/units/combining_and_defining.html [astropy.units.core]\n",
      "WARNING: UnitsWarning: '1/nanomaggy^2' did not parse as fits unit: Numeric factor not supported by FITS If this is meant to be a custom unit, define it with 'u.def_unit'. To have it recognized inside a file reader or other code, enable it with 'u.add_enabled_units'. For details, see http://docs.astropy.org/en/latest/units/combining_and_defining.html [astropy.units.core]\n"
     ]
    },
    {
     "name": "stdout",
     "output_type": "stream",
     "text": [
      "WARNING:io.py:611:write_targets: qso_selection method not specified for output file\n"
     ]
    },
    {
     "name": "stderr",
     "output_type": "stream",
     "text": [
      "WARNING: MergeConflictWarning: Cannot merge meta key 'DEPNAM00' types <class 'str'> and <class 'str'>, choosing DEPNAM00='desitarget' [astropy.utils.metadata]\n",
      "WARNING: MergeConflictWarning: Cannot merge meta key 'DEPVER00' types <class 'str'> and <class 'str'>, choosing DEPVER00='0.57.1' [astropy.utils.metadata]\n",
      "WARNING: MergeConflictWarning: Cannot merge meta key 'DEPNAM01' types <class 'str'> and <class 'str'>, choosing DEPNAM01='desitarget-git' [astropy.utils.metadata]\n",
      "WARNING: MergeConflictWarning: Cannot merge meta key 'DEPVER01' types <class 'str'> and <class 'str'>, choosing DEPVER01='0.57.1' [astropy.utils.metadata]\n",
      "WARNING: MergeConflictWarning: Cannot merge meta key 'DEPNAM02' types <class 'str'> and <class 'str'>, choosing DEPNAM02='photcat' [astropy.utils.metadata]\n",
      "WARNING: MergeConflictWarning: Cannot merge meta key 'DEPVER02' types <class 'str'> and <class 'str'>, choosing DEPVER02='X' [astropy.utils.metadata]\n",
      "WARNING: MergeConflictWarning: Cannot merge meta key 'DEPNAM03' types <class 'str'> and <class 'str'>, choosing DEPNAM03='tractor-files' [astropy.utils.metadata]\n",
      "WARNING: MergeConflictWarning: Cannot merge meta key 'DEPVER03' types <class 'str'> and <class 'str'>, choosing DEPVER03='/global/cfs/cdirs/desi/survey/ops/surveyops/trunk/mtl/sv3/dark' [astropy.utils.metadata]\n",
      "WARNING: MergeConflictWarning: Cannot merge meta key 'DEPNAM04' types <class 'str'> and <class 'str'>, choosing DEPNAM04='tractor-files-2' [astropy.utils.metadata]\n",
      "WARNING: MergeConflictWarning: Cannot merge meta key 'DEPVER04' types <class 'str'> and <class 'str'>, choosing DEPVER04='/global/cfs/cdirs/desi/target/catalogs/dr9/0.57.0/targets/sv3/resolve/dark' [astropy.utils.metadata]\n",
      "WARNING: MergeConflictWarning: Cannot merge meta key 'DEPNAM05' types <class 'str'> and <class 'str'>, choosing DEPNAM05='qso-selection' [astropy.utils.metadata]\n",
      "WARNING: MergeConflictWarning: Cannot merge meta key 'DEPVER05' types <class 'str'> and <class 'str'>, choosing DEPVER05='unknown' [astropy.utils.metadata]\n",
      "WARNING: MergeConflictWarning: Cannot merge meta key 'DR' types <class 'astropy.io.fits.card.Undefined'> and <class 'astropy.io.fits.card.Undefined'>, choosing DR=<astropy.io.fits.card.Undefined object at 0x2aaad43d6940> [astropy.utils.metadata]\n",
      "WARNING: UnitsWarning: 'nanomaggy' did not parse as fits unit: At col 0, Unit 'nanomaggy' not supported by the FITS standard.  If this is meant to be a custom unit, define it with 'u.def_unit'. To have it recognized inside a file reader or other code, enable it with 'u.add_enabled_units'. For details, see http://docs.astropy.org/en/latest/units/combining_and_defining.html [astropy.units.core]\n",
      "WARNING: UnitsWarning: '1/nanomaggy^2' did not parse as fits unit: Numeric factor not supported by FITS If this is meant to be a custom unit, define it with 'u.def_unit'. To have it recognized inside a file reader or other code, enable it with 'u.add_enabled_units'. For details, see http://docs.astropy.org/en/latest/units/combining_and_defining.html [astropy.units.core]\n"
     ]
    },
    {
     "name": "stdout",
     "output_type": "stream",
     "text": [
      "WARNING:io.py:611:write_targets: qso_selection method not specified for output file\n"
     ]
    },
    {
     "name": "stderr",
     "output_type": "stream",
     "text": [
      "WARNING: MergeConflictWarning: Cannot merge meta key 'DEPNAM00' types <class 'str'> and <class 'str'>, choosing DEPNAM00='desitarget' [astropy.utils.metadata]\n",
      "WARNING: MergeConflictWarning: Cannot merge meta key 'DEPVER00' types <class 'str'> and <class 'str'>, choosing DEPVER00='0.57.1' [astropy.utils.metadata]\n",
      "WARNING: MergeConflictWarning: Cannot merge meta key 'DEPNAM01' types <class 'str'> and <class 'str'>, choosing DEPNAM01='desitarget-git' [astropy.utils.metadata]\n",
      "WARNING: MergeConflictWarning: Cannot merge meta key 'DEPVER01' types <class 'str'> and <class 'str'>, choosing DEPVER01='0.57.1' [astropy.utils.metadata]\n",
      "WARNING: MergeConflictWarning: Cannot merge meta key 'DEPNAM02' types <class 'str'> and <class 'str'>, choosing DEPNAM02='photcat' [astropy.utils.metadata]\n",
      "WARNING: MergeConflictWarning: Cannot merge meta key 'DEPVER02' types <class 'str'> and <class 'str'>, choosing DEPVER02='X' [astropy.utils.metadata]\n",
      "WARNING: MergeConflictWarning: Cannot merge meta key 'DEPNAM03' types <class 'str'> and <class 'str'>, choosing DEPNAM03='tractor-files' [astropy.utils.metadata]\n",
      "WARNING: MergeConflictWarning: Cannot merge meta key 'DEPVER03' types <class 'str'> and <class 'str'>, choosing DEPVER03='/global/cfs/cdirs/desi/survey/ops/surveyops/trunk/mtl/sv3/dark' [astropy.utils.metadata]\n",
      "WARNING: MergeConflictWarning: Cannot merge meta key 'DEPNAM04' types <class 'str'> and <class 'str'>, choosing DEPNAM04='tractor-files-2' [astropy.utils.metadata]\n",
      "WARNING: MergeConflictWarning: Cannot merge meta key 'DEPVER04' types <class 'str'> and <class 'str'>, choosing DEPVER04='/global/cfs/cdirs/desi/target/catalogs/dr9/0.57.0/targets/sv3/resolve/dark' [astropy.utils.metadata]\n",
      "WARNING: MergeConflictWarning: Cannot merge meta key 'DEPNAM05' types <class 'str'> and <class 'str'>, choosing DEPNAM05='qso-selection' [astropy.utils.metadata]\n",
      "WARNING: MergeConflictWarning: Cannot merge meta key 'DEPVER05' types <class 'str'> and <class 'str'>, choosing DEPVER05='unknown' [astropy.utils.metadata]\n",
      "WARNING: MergeConflictWarning: Cannot merge meta key 'DR' types <class 'astropy.io.fits.card.Undefined'> and <class 'astropy.io.fits.card.Undefined'>, choosing DR=<astropy.io.fits.card.Undefined object at 0x2aaad43d6940> [astropy.utils.metadata]\n",
      "WARNING: UnitsWarning: 'nanomaggy' did not parse as fits unit: At col 0, Unit 'nanomaggy' not supported by the FITS standard.  If this is meant to be a custom unit, define it with 'u.def_unit'. To have it recognized inside a file reader or other code, enable it with 'u.add_enabled_units'. For details, see http://docs.astropy.org/en/latest/units/combining_and_defining.html [astropy.units.core]\n",
      "WARNING: UnitsWarning: '1/nanomaggy^2' did not parse as fits unit: Numeric factor not supported by FITS If this is meant to be a custom unit, define it with 'u.def_unit'. To have it recognized inside a file reader or other code, enable it with 'u.add_enabled_units'. For details, see http://docs.astropy.org/en/latest/units/combining_and_defining.html [astropy.units.core]\n"
     ]
    },
    {
     "name": "stdout",
     "output_type": "stream",
     "text": [
      "WARNING:io.py:611:write_targets: qso_selection method not specified for output file\n"
     ]
    },
    {
     "name": "stderr",
     "output_type": "stream",
     "text": [
      "WARNING: MergeConflictWarning: Cannot merge meta key 'DEPNAM00' types <class 'str'> and <class 'str'>, choosing DEPNAM00='desitarget' [astropy.utils.metadata]\n",
      "WARNING: MergeConflictWarning: Cannot merge meta key 'DEPVER00' types <class 'str'> and <class 'str'>, choosing DEPVER00='0.57.1' [astropy.utils.metadata]\n",
      "WARNING: MergeConflictWarning: Cannot merge meta key 'DEPNAM01' types <class 'str'> and <class 'str'>, choosing DEPNAM01='desitarget-git' [astropy.utils.metadata]\n",
      "WARNING: MergeConflictWarning: Cannot merge meta key 'DEPVER01' types <class 'str'> and <class 'str'>, choosing DEPVER01='0.57.1' [astropy.utils.metadata]\n",
      "WARNING: MergeConflictWarning: Cannot merge meta key 'DEPNAM02' types <class 'str'> and <class 'str'>, choosing DEPNAM02='photcat' [astropy.utils.metadata]\n",
      "WARNING: MergeConflictWarning: Cannot merge meta key 'DEPVER02' types <class 'str'> and <class 'str'>, choosing DEPVER02='X' [astropy.utils.metadata]\n",
      "WARNING: MergeConflictWarning: Cannot merge meta key 'DEPNAM03' types <class 'str'> and <class 'str'>, choosing DEPNAM03='tractor-files' [astropy.utils.metadata]\n",
      "WARNING: MergeConflictWarning: Cannot merge meta key 'DEPVER03' types <class 'str'> and <class 'str'>, choosing DEPVER03='/global/cfs/cdirs/desi/survey/ops/surveyops/trunk/mtl/sv3/dark' [astropy.utils.metadata]\n",
      "WARNING: MergeConflictWarning: Cannot merge meta key 'DEPNAM04' types <class 'str'> and <class 'str'>, choosing DEPNAM04='tractor-files-2' [astropy.utils.metadata]\n",
      "WARNING: MergeConflictWarning: Cannot merge meta key 'DEPVER04' types <class 'str'> and <class 'str'>, choosing DEPVER04='/global/cfs/cdirs/desi/target/catalogs/dr9/0.57.0/targets/sv3/resolve/dark' [astropy.utils.metadata]\n",
      "WARNING: MergeConflictWarning: Cannot merge meta key 'DEPNAM05' types <class 'str'> and <class 'str'>, choosing DEPNAM05='qso-selection' [astropy.utils.metadata]\n",
      "WARNING: MergeConflictWarning: Cannot merge meta key 'DEPVER05' types <class 'str'> and <class 'str'>, choosing DEPVER05='unknown' [astropy.utils.metadata]\n",
      "WARNING: MergeConflictWarning: Cannot merge meta key 'DR' types <class 'astropy.io.fits.card.Undefined'> and <class 'astropy.io.fits.card.Undefined'>, choosing DR=<astropy.io.fits.card.Undefined object at 0x2aaad43d6940> [astropy.utils.metadata]\n",
      "WARNING: UnitsWarning: 'nanomaggy' did not parse as fits unit: At col 0, Unit 'nanomaggy' not supported by the FITS standard.  If this is meant to be a custom unit, define it with 'u.def_unit'. To have it recognized inside a file reader or other code, enable it with 'u.add_enabled_units'. For details, see http://docs.astropy.org/en/latest/units/combining_and_defining.html [astropy.units.core]\n",
      "WARNING: UnitsWarning: '1/nanomaggy^2' did not parse as fits unit: Numeric factor not supported by FITS If this is meant to be a custom unit, define it with 'u.def_unit'. To have it recognized inside a file reader or other code, enable it with 'u.add_enabled_units'. For details, see http://docs.astropy.org/en/latest/units/combining_and_defining.html [astropy.units.core]\n"
     ]
    },
    {
     "name": "stdout",
     "output_type": "stream",
     "text": [
      "WARNING:io.py:611:write_targets: qso_selection method not specified for output file\n"
     ]
    },
    {
     "name": "stderr",
     "output_type": "stream",
     "text": [
      "WARNING: MergeConflictWarning: Cannot merge meta key 'DEPNAM00' types <class 'str'> and <class 'str'>, choosing DEPNAM00='desitarget' [astropy.utils.metadata]\n",
      "WARNING: MergeConflictWarning: Cannot merge meta key 'DEPVER00' types <class 'str'> and <class 'str'>, choosing DEPVER00='0.57.1' [astropy.utils.metadata]\n",
      "WARNING: MergeConflictWarning: Cannot merge meta key 'DEPNAM01' types <class 'str'> and <class 'str'>, choosing DEPNAM01='desitarget-git' [astropy.utils.metadata]\n",
      "WARNING: MergeConflictWarning: Cannot merge meta key 'DEPVER01' types <class 'str'> and <class 'str'>, choosing DEPVER01='0.57.1' [astropy.utils.metadata]\n",
      "WARNING: MergeConflictWarning: Cannot merge meta key 'DEPNAM02' types <class 'str'> and <class 'str'>, choosing DEPNAM02='photcat' [astropy.utils.metadata]\n",
      "WARNING: MergeConflictWarning: Cannot merge meta key 'DEPVER02' types <class 'str'> and <class 'str'>, choosing DEPVER02='X' [astropy.utils.metadata]\n",
      "WARNING: MergeConflictWarning: Cannot merge meta key 'DEPNAM03' types <class 'str'> and <class 'str'>, choosing DEPNAM03='tractor-files' [astropy.utils.metadata]\n",
      "WARNING: MergeConflictWarning: Cannot merge meta key 'DEPVER03' types <class 'str'> and <class 'str'>, choosing DEPVER03='/global/cfs/cdirs/desi/survey/ops/surveyops/trunk/mtl/sv3/dark' [astropy.utils.metadata]\n",
      "WARNING: MergeConflictWarning: Cannot merge meta key 'DEPNAM04' types <class 'str'> and <class 'str'>, choosing DEPNAM04='tractor-files-2' [astropy.utils.metadata]\n",
      "WARNING: MergeConflictWarning: Cannot merge meta key 'DEPVER04' types <class 'str'> and <class 'str'>, choosing DEPVER04='/global/cfs/cdirs/desi/target/catalogs/dr9/0.57.0/targets/sv3/resolve/dark' [astropy.utils.metadata]\n",
      "WARNING: MergeConflictWarning: Cannot merge meta key 'DEPNAM05' types <class 'str'> and <class 'str'>, choosing DEPNAM05='qso-selection' [astropy.utils.metadata]\n",
      "WARNING: MergeConflictWarning: Cannot merge meta key 'DEPVER05' types <class 'str'> and <class 'str'>, choosing DEPVER05='unknown' [astropy.utils.metadata]\n",
      "WARNING: MergeConflictWarning: Cannot merge meta key 'DR' types <class 'astropy.io.fits.card.Undefined'> and <class 'astropy.io.fits.card.Undefined'>, choosing DR=<astropy.io.fits.card.Undefined object at 0x2aaad43d6940> [astropy.utils.metadata]\n",
      "WARNING: UnitsWarning: 'nanomaggy' did not parse as fits unit: At col 0, Unit 'nanomaggy' not supported by the FITS standard.  If this is meant to be a custom unit, define it with 'u.def_unit'. To have it recognized inside a file reader or other code, enable it with 'u.add_enabled_units'. For details, see http://docs.astropy.org/en/latest/units/combining_and_defining.html [astropy.units.core]\n",
      "WARNING: UnitsWarning: '1/nanomaggy^2' did not parse as fits unit: Numeric factor not supported by FITS If this is meant to be a custom unit, define it with 'u.def_unit'. To have it recognized inside a file reader or other code, enable it with 'u.add_enabled_units'. For details, see http://docs.astropy.org/en/latest/units/combining_and_defining.html [astropy.units.core]\n"
     ]
    },
    {
     "name": "stdout",
     "output_type": "stream",
     "text": [
      "WARNING:io.py:611:write_targets: qso_selection method not specified for output file\n"
     ]
    },
    {
     "name": "stderr",
     "output_type": "stream",
     "text": [
      "WARNING: MergeConflictWarning: Cannot merge meta key 'DEPNAM00' types <class 'str'> and <class 'str'>, choosing DEPNAM00='desitarget' [astropy.utils.metadata]\n",
      "WARNING: MergeConflictWarning: Cannot merge meta key 'DEPVER00' types <class 'str'> and <class 'str'>, choosing DEPVER00='0.57.1' [astropy.utils.metadata]\n",
      "WARNING: MergeConflictWarning: Cannot merge meta key 'DEPNAM01' types <class 'str'> and <class 'str'>, choosing DEPNAM01='desitarget-git' [astropy.utils.metadata]\n",
      "WARNING: MergeConflictWarning: Cannot merge meta key 'DEPVER01' types <class 'str'> and <class 'str'>, choosing DEPVER01='0.57.1' [astropy.utils.metadata]\n",
      "WARNING: MergeConflictWarning: Cannot merge meta key 'DEPNAM02' types <class 'str'> and <class 'str'>, choosing DEPNAM02='photcat' [astropy.utils.metadata]\n",
      "WARNING: MergeConflictWarning: Cannot merge meta key 'DEPVER02' types <class 'str'> and <class 'str'>, choosing DEPVER02='X' [astropy.utils.metadata]\n",
      "WARNING: MergeConflictWarning: Cannot merge meta key 'DEPNAM03' types <class 'str'> and <class 'str'>, choosing DEPNAM03='tractor-files' [astropy.utils.metadata]\n",
      "WARNING: MergeConflictWarning: Cannot merge meta key 'DEPVER03' types <class 'str'> and <class 'str'>, choosing DEPVER03='/global/cfs/cdirs/desi/survey/ops/surveyops/trunk/mtl/sv3/dark' [astropy.utils.metadata]\n",
      "WARNING: MergeConflictWarning: Cannot merge meta key 'DEPNAM04' types <class 'str'> and <class 'str'>, choosing DEPNAM04='tractor-files-2' [astropy.utils.metadata]\n",
      "WARNING: MergeConflictWarning: Cannot merge meta key 'DEPVER04' types <class 'str'> and <class 'str'>, choosing DEPVER04='/global/cfs/cdirs/desi/target/catalogs/dr9/0.57.0/targets/sv3/resolve/dark' [astropy.utils.metadata]\n",
      "WARNING: MergeConflictWarning: Cannot merge meta key 'DEPNAM05' types <class 'str'> and <class 'str'>, choosing DEPNAM05='qso-selection' [astropy.utils.metadata]\n",
      "WARNING: MergeConflictWarning: Cannot merge meta key 'DEPVER05' types <class 'str'> and <class 'str'>, choosing DEPVER05='unknown' [astropy.utils.metadata]\n",
      "WARNING: MergeConflictWarning: Cannot merge meta key 'DR' types <class 'astropy.io.fits.card.Undefined'> and <class 'astropy.io.fits.card.Undefined'>, choosing DR=<astropy.io.fits.card.Undefined object at 0x2aaad43d6940> [astropy.utils.metadata]\n",
      "WARNING: UnitsWarning: 'nanomaggy' did not parse as fits unit: At col 0, Unit 'nanomaggy' not supported by the FITS standard.  If this is meant to be a custom unit, define it with 'u.def_unit'. To have it recognized inside a file reader or other code, enable it with 'u.add_enabled_units'. For details, see http://docs.astropy.org/en/latest/units/combining_and_defining.html [astropy.units.core]\n",
      "WARNING: UnitsWarning: '1/nanomaggy^2' did not parse as fits unit: Numeric factor not supported by FITS If this is meant to be a custom unit, define it with 'u.def_unit'. To have it recognized inside a file reader or other code, enable it with 'u.add_enabled_units'. For details, see http://docs.astropy.org/en/latest/units/combining_and_defining.html [astropy.units.core]\n"
     ]
    },
    {
     "name": "stdout",
     "output_type": "stream",
     "text": [
      "WARNING:io.py:611:write_targets: qso_selection method not specified for output file\n"
     ]
    },
    {
     "name": "stderr",
     "output_type": "stream",
     "text": [
      "WARNING: MergeConflictWarning: Cannot merge meta key 'DEPNAM00' types <class 'str'> and <class 'str'>, choosing DEPNAM00='desitarget' [astropy.utils.metadata]\n",
      "WARNING: MergeConflictWarning: Cannot merge meta key 'DEPVER00' types <class 'str'> and <class 'str'>, choosing DEPVER00='0.57.1' [astropy.utils.metadata]\n",
      "WARNING: MergeConflictWarning: Cannot merge meta key 'DEPNAM01' types <class 'str'> and <class 'str'>, choosing DEPNAM01='desitarget-git' [astropy.utils.metadata]\n",
      "WARNING: MergeConflictWarning: Cannot merge meta key 'DEPVER01' types <class 'str'> and <class 'str'>, choosing DEPVER01='0.57.1' [astropy.utils.metadata]\n",
      "WARNING: MergeConflictWarning: Cannot merge meta key 'DEPNAM02' types <class 'str'> and <class 'str'>, choosing DEPNAM02='photcat' [astropy.utils.metadata]\n",
      "WARNING: MergeConflictWarning: Cannot merge meta key 'DEPVER02' types <class 'str'> and <class 'str'>, choosing DEPVER02='X' [astropy.utils.metadata]\n",
      "WARNING: MergeConflictWarning: Cannot merge meta key 'DEPNAM03' types <class 'str'> and <class 'str'>, choosing DEPNAM03='tractor-files' [astropy.utils.metadata]\n",
      "WARNING: MergeConflictWarning: Cannot merge meta key 'DEPVER03' types <class 'str'> and <class 'str'>, choosing DEPVER03='/global/cfs/cdirs/desi/survey/ops/surveyops/trunk/mtl/sv3/dark' [astropy.utils.metadata]\n",
      "WARNING: MergeConflictWarning: Cannot merge meta key 'DEPNAM04' types <class 'str'> and <class 'str'>, choosing DEPNAM04='tractor-files-2' [astropy.utils.metadata]\n",
      "WARNING: MergeConflictWarning: Cannot merge meta key 'DEPVER04' types <class 'str'> and <class 'str'>, choosing DEPVER04='/global/cfs/cdirs/desi/target/catalogs/dr9/0.57.0/targets/sv3/resolve/dark' [astropy.utils.metadata]\n",
      "WARNING: MergeConflictWarning: Cannot merge meta key 'DEPNAM05' types <class 'str'> and <class 'str'>, choosing DEPNAM05='qso-selection' [astropy.utils.metadata]\n",
      "WARNING: MergeConflictWarning: Cannot merge meta key 'DEPVER05' types <class 'str'> and <class 'str'>, choosing DEPVER05='unknown' [astropy.utils.metadata]\n",
      "WARNING: MergeConflictWarning: Cannot merge meta key 'DR' types <class 'astropy.io.fits.card.Undefined'> and <class 'astropy.io.fits.card.Undefined'>, choosing DR=<astropy.io.fits.card.Undefined object at 0x2aaad43d6940> [astropy.utils.metadata]\n",
      "WARNING: UnitsWarning: 'nanomaggy' did not parse as fits unit: At col 0, Unit 'nanomaggy' not supported by the FITS standard.  If this is meant to be a custom unit, define it with 'u.def_unit'. To have it recognized inside a file reader or other code, enable it with 'u.add_enabled_units'. For details, see http://docs.astropy.org/en/latest/units/combining_and_defining.html [astropy.units.core]\n",
      "WARNING: UnitsWarning: '1/nanomaggy^2' did not parse as fits unit: Numeric factor not supported by FITS If this is meant to be a custom unit, define it with 'u.def_unit'. To have it recognized inside a file reader or other code, enable it with 'u.add_enabled_units'. For details, see http://docs.astropy.org/en/latest/units/combining_and_defining.html [astropy.units.core]\n"
     ]
    },
    {
     "name": "stdout",
     "output_type": "stream",
     "text": [
      "WARNING:io.py:611:write_targets: qso_selection method not specified for output file\n"
     ]
    },
    {
     "name": "stderr",
     "output_type": "stream",
     "text": [
      "WARNING: MergeConflictWarning: Cannot merge meta key 'DEPNAM00' types <class 'str'> and <class 'str'>, choosing DEPNAM00='desitarget' [astropy.utils.metadata]\n",
      "WARNING: MergeConflictWarning: Cannot merge meta key 'DEPVER00' types <class 'str'> and <class 'str'>, choosing DEPVER00='0.57.1' [astropy.utils.metadata]\n",
      "WARNING: MergeConflictWarning: Cannot merge meta key 'DEPNAM01' types <class 'str'> and <class 'str'>, choosing DEPNAM01='desitarget-git' [astropy.utils.metadata]\n",
      "WARNING: MergeConflictWarning: Cannot merge meta key 'DEPVER01' types <class 'str'> and <class 'str'>, choosing DEPVER01='0.57.1' [astropy.utils.metadata]\n",
      "WARNING: MergeConflictWarning: Cannot merge meta key 'DEPNAM02' types <class 'str'> and <class 'str'>, choosing DEPNAM02='photcat' [astropy.utils.metadata]\n",
      "WARNING: MergeConflictWarning: Cannot merge meta key 'DEPVER02' types <class 'str'> and <class 'str'>, choosing DEPVER02='X' [astropy.utils.metadata]\n",
      "WARNING: MergeConflictWarning: Cannot merge meta key 'DEPNAM03' types <class 'str'> and <class 'str'>, choosing DEPNAM03='tractor-files' [astropy.utils.metadata]\n",
      "WARNING: MergeConflictWarning: Cannot merge meta key 'DEPVER03' types <class 'str'> and <class 'str'>, choosing DEPVER03='/global/cfs/cdirs/desi/survey/ops/surveyops/trunk/mtl/sv3/dark' [astropy.utils.metadata]\n",
      "WARNING: MergeConflictWarning: Cannot merge meta key 'DEPNAM04' types <class 'str'> and <class 'str'>, choosing DEPNAM04='tractor-files-2' [astropy.utils.metadata]\n",
      "WARNING: MergeConflictWarning: Cannot merge meta key 'DEPVER04' types <class 'str'> and <class 'str'>, choosing DEPVER04='/global/cfs/cdirs/desi/target/catalogs/dr9/0.57.0/targets/sv3/resolve/dark' [astropy.utils.metadata]\n",
      "WARNING: MergeConflictWarning: Cannot merge meta key 'DEPNAM05' types <class 'str'> and <class 'str'>, choosing DEPNAM05='qso-selection' [astropy.utils.metadata]\n",
      "WARNING: MergeConflictWarning: Cannot merge meta key 'DEPVER05' types <class 'str'> and <class 'str'>, choosing DEPVER05='unknown' [astropy.utils.metadata]\n",
      "WARNING: MergeConflictWarning: Cannot merge meta key 'DR' types <class 'astropy.io.fits.card.Undefined'> and <class 'astropy.io.fits.card.Undefined'>, choosing DR=<astropy.io.fits.card.Undefined object at 0x2aaad43d6940> [astropy.utils.metadata]\n",
      "WARNING: UnitsWarning: 'nanomaggy' did not parse as fits unit: At col 0, Unit 'nanomaggy' not supported by the FITS standard.  If this is meant to be a custom unit, define it with 'u.def_unit'. To have it recognized inside a file reader or other code, enable it with 'u.add_enabled_units'. For details, see http://docs.astropy.org/en/latest/units/combining_and_defining.html [astropy.units.core]\n",
      "WARNING: UnitsWarning: '1/nanomaggy^2' did not parse as fits unit: Numeric factor not supported by FITS If this is meant to be a custom unit, define it with 'u.def_unit'. To have it recognized inside a file reader or other code, enable it with 'u.add_enabled_units'. For details, see http://docs.astropy.org/en/latest/units/combining_and_defining.html [astropy.units.core]\n"
     ]
    },
    {
     "name": "stdout",
     "output_type": "stream",
     "text": [
      "WARNING:io.py:611:write_targets: qso_selection method not specified for output file\n"
     ]
    },
    {
     "name": "stderr",
     "output_type": "stream",
     "text": [
      "WARNING: MergeConflictWarning: Cannot merge meta key 'DEPNAM00' types <class 'str'> and <class 'str'>, choosing DEPNAM00='desitarget' [astropy.utils.metadata]\n",
      "WARNING: MergeConflictWarning: Cannot merge meta key 'DEPVER00' types <class 'str'> and <class 'str'>, choosing DEPVER00='0.57.1' [astropy.utils.metadata]\n",
      "WARNING: MergeConflictWarning: Cannot merge meta key 'DEPNAM01' types <class 'str'> and <class 'str'>, choosing DEPNAM01='desitarget-git' [astropy.utils.metadata]\n",
      "WARNING: MergeConflictWarning: Cannot merge meta key 'DEPVER01' types <class 'str'> and <class 'str'>, choosing DEPVER01='0.57.1' [astropy.utils.metadata]\n",
      "WARNING: MergeConflictWarning: Cannot merge meta key 'DEPNAM02' types <class 'str'> and <class 'str'>, choosing DEPNAM02='photcat' [astropy.utils.metadata]\n",
      "WARNING: MergeConflictWarning: Cannot merge meta key 'DEPVER02' types <class 'str'> and <class 'str'>, choosing DEPVER02='X' [astropy.utils.metadata]\n",
      "WARNING: MergeConflictWarning: Cannot merge meta key 'DEPNAM03' types <class 'str'> and <class 'str'>, choosing DEPNAM03='tractor-files' [astropy.utils.metadata]\n",
      "WARNING: MergeConflictWarning: Cannot merge meta key 'DEPVER03' types <class 'str'> and <class 'str'>, choosing DEPVER03='/global/cfs/cdirs/desi/survey/ops/surveyops/trunk/mtl/sv3/dark' [astropy.utils.metadata]\n",
      "WARNING: MergeConflictWarning: Cannot merge meta key 'DEPNAM04' types <class 'str'> and <class 'str'>, choosing DEPNAM04='tractor-files-2' [astropy.utils.metadata]\n",
      "WARNING: MergeConflictWarning: Cannot merge meta key 'DEPVER04' types <class 'str'> and <class 'str'>, choosing DEPVER04='/global/cfs/cdirs/desi/target/catalogs/dr9/0.57.0/targets/sv3/resolve/dark' [astropy.utils.metadata]\n",
      "WARNING: MergeConflictWarning: Cannot merge meta key 'DEPNAM05' types <class 'str'> and <class 'str'>, choosing DEPNAM05='qso-selection' [astropy.utils.metadata]\n",
      "WARNING: MergeConflictWarning: Cannot merge meta key 'DEPVER05' types <class 'str'> and <class 'str'>, choosing DEPVER05='unknown' [astropy.utils.metadata]\n",
      "WARNING: MergeConflictWarning: Cannot merge meta key 'DR' types <class 'astropy.io.fits.card.Undefined'> and <class 'astropy.io.fits.card.Undefined'>, choosing DR=<astropy.io.fits.card.Undefined object at 0x2aaad43d6940> [astropy.utils.metadata]\n",
      "WARNING: UnitsWarning: 'nanomaggy' did not parse as fits unit: At col 0, Unit 'nanomaggy' not supported by the FITS standard.  If this is meant to be a custom unit, define it with 'u.def_unit'. To have it recognized inside a file reader or other code, enable it with 'u.add_enabled_units'. For details, see http://docs.astropy.org/en/latest/units/combining_and_defining.html [astropy.units.core]\n",
      "WARNING: UnitsWarning: '1/nanomaggy^2' did not parse as fits unit: Numeric factor not supported by FITS If this is meant to be a custom unit, define it with 'u.def_unit'. To have it recognized inside a file reader or other code, enable it with 'u.add_enabled_units'. For details, see http://docs.astropy.org/en/latest/units/combining_and_defining.html [astropy.units.core]\n"
     ]
    },
    {
     "name": "stdout",
     "output_type": "stream",
     "text": [
      "WARNING:io.py:611:write_targets: qso_selection method not specified for output file\n"
     ]
    },
    {
     "name": "stderr",
     "output_type": "stream",
     "text": [
      "WARNING: MergeConflictWarning: Cannot merge meta key 'DEPNAM00' types <class 'str'> and <class 'str'>, choosing DEPNAM00='desitarget' [astropy.utils.metadata]\n",
      "WARNING: MergeConflictWarning: Cannot merge meta key 'DEPVER00' types <class 'str'> and <class 'str'>, choosing DEPVER00='0.57.1' [astropy.utils.metadata]\n",
      "WARNING: MergeConflictWarning: Cannot merge meta key 'DEPNAM01' types <class 'str'> and <class 'str'>, choosing DEPNAM01='desitarget-git' [astropy.utils.metadata]\n",
      "WARNING: MergeConflictWarning: Cannot merge meta key 'DEPVER01' types <class 'str'> and <class 'str'>, choosing DEPVER01='0.57.1' [astropy.utils.metadata]\n",
      "WARNING: MergeConflictWarning: Cannot merge meta key 'DEPNAM02' types <class 'str'> and <class 'str'>, choosing DEPNAM02='photcat' [astropy.utils.metadata]\n",
      "WARNING: MergeConflictWarning: Cannot merge meta key 'DEPVER02' types <class 'str'> and <class 'str'>, choosing DEPVER02='X' [astropy.utils.metadata]\n",
      "WARNING: MergeConflictWarning: Cannot merge meta key 'DEPNAM03' types <class 'str'> and <class 'str'>, choosing DEPNAM03='tractor-files' [astropy.utils.metadata]\n",
      "WARNING: MergeConflictWarning: Cannot merge meta key 'DEPVER03' types <class 'str'> and <class 'str'>, choosing DEPVER03='/global/cfs/cdirs/desi/survey/ops/surveyops/trunk/mtl/sv3/dark' [astropy.utils.metadata]\n",
      "WARNING: MergeConflictWarning: Cannot merge meta key 'DEPNAM04' types <class 'str'> and <class 'str'>, choosing DEPNAM04='tractor-files-2' [astropy.utils.metadata]\n",
      "WARNING: MergeConflictWarning: Cannot merge meta key 'DEPVER04' types <class 'str'> and <class 'str'>, choosing DEPVER04='/global/cfs/cdirs/desi/target/catalogs/dr9/0.57.0/targets/sv3/resolve/dark' [astropy.utils.metadata]\n",
      "WARNING: MergeConflictWarning: Cannot merge meta key 'DEPNAM05' types <class 'str'> and <class 'str'>, choosing DEPNAM05='qso-selection' [astropy.utils.metadata]\n",
      "WARNING: MergeConflictWarning: Cannot merge meta key 'DEPVER05' types <class 'str'> and <class 'str'>, choosing DEPVER05='unknown' [astropy.utils.metadata]\n",
      "WARNING: MergeConflictWarning: Cannot merge meta key 'DR' types <class 'astropy.io.fits.card.Undefined'> and <class 'astropy.io.fits.card.Undefined'>, choosing DR=<astropy.io.fits.card.Undefined object at 0x2aaad43d6940> [astropy.utils.metadata]\n",
      "WARNING: UnitsWarning: 'nanomaggy' did not parse as fits unit: At col 0, Unit 'nanomaggy' not supported by the FITS standard.  If this is meant to be a custom unit, define it with 'u.def_unit'. To have it recognized inside a file reader or other code, enable it with 'u.add_enabled_units'. For details, see http://docs.astropy.org/en/latest/units/combining_and_defining.html [astropy.units.core]\n",
      "WARNING: UnitsWarning: '1/nanomaggy^2' did not parse as fits unit: Numeric factor not supported by FITS If this is meant to be a custom unit, define it with 'u.def_unit'. To have it recognized inside a file reader or other code, enable it with 'u.add_enabled_units'. For details, see http://docs.astropy.org/en/latest/units/combining_and_defining.html [astropy.units.core]\n"
     ]
    },
    {
     "name": "stdout",
     "output_type": "stream",
     "text": [
      "WARNING:io.py:611:write_targets: qso_selection method not specified for output file\n"
     ]
    },
    {
     "name": "stderr",
     "output_type": "stream",
     "text": [
      "WARNING: MergeConflictWarning: Cannot merge meta key 'DEPNAM00' types <class 'str'> and <class 'str'>, choosing DEPNAM00='desitarget' [astropy.utils.metadata]\n",
      "WARNING: MergeConflictWarning: Cannot merge meta key 'DEPVER00' types <class 'str'> and <class 'str'>, choosing DEPVER00='0.57.1' [astropy.utils.metadata]\n",
      "WARNING: MergeConflictWarning: Cannot merge meta key 'DEPNAM01' types <class 'str'> and <class 'str'>, choosing DEPNAM01='desitarget-git' [astropy.utils.metadata]\n",
      "WARNING: MergeConflictWarning: Cannot merge meta key 'DEPVER01' types <class 'str'> and <class 'str'>, choosing DEPVER01='0.57.1' [astropy.utils.metadata]\n",
      "WARNING: MergeConflictWarning: Cannot merge meta key 'DEPNAM02' types <class 'str'> and <class 'str'>, choosing DEPNAM02='photcat' [astropy.utils.metadata]\n",
      "WARNING: MergeConflictWarning: Cannot merge meta key 'DEPVER02' types <class 'str'> and <class 'str'>, choosing DEPVER02='X' [astropy.utils.metadata]\n",
      "WARNING: MergeConflictWarning: Cannot merge meta key 'DEPNAM03' types <class 'str'> and <class 'str'>, choosing DEPNAM03='tractor-files' [astropy.utils.metadata]\n",
      "WARNING: MergeConflictWarning: Cannot merge meta key 'DEPVER03' types <class 'str'> and <class 'str'>, choosing DEPVER03='/global/cfs/cdirs/desi/survey/ops/surveyops/trunk/mtl/sv3/dark' [astropy.utils.metadata]\n",
      "WARNING: MergeConflictWarning: Cannot merge meta key 'DEPNAM04' types <class 'str'> and <class 'str'>, choosing DEPNAM04='tractor-files-2' [astropy.utils.metadata]\n",
      "WARNING: MergeConflictWarning: Cannot merge meta key 'DEPVER04' types <class 'str'> and <class 'str'>, choosing DEPVER04='/global/cfs/cdirs/desi/target/catalogs/dr9/0.57.0/targets/sv3/resolve/dark' [astropy.utils.metadata]\n",
      "WARNING: MergeConflictWarning: Cannot merge meta key 'DEPNAM05' types <class 'str'> and <class 'str'>, choosing DEPNAM05='qso-selection' [astropy.utils.metadata]\n",
      "WARNING: MergeConflictWarning: Cannot merge meta key 'DEPVER05' types <class 'str'> and <class 'str'>, choosing DEPVER05='unknown' [astropy.utils.metadata]\n",
      "WARNING: MergeConflictWarning: Cannot merge meta key 'DR' types <class 'astropy.io.fits.card.Undefined'> and <class 'astropy.io.fits.card.Undefined'>, choosing DR=<astropy.io.fits.card.Undefined object at 0x2aaad43d6940> [astropy.utils.metadata]\n",
      "WARNING: UnitsWarning: 'nanomaggy' did not parse as fits unit: At col 0, Unit 'nanomaggy' not supported by the FITS standard.  If this is meant to be a custom unit, define it with 'u.def_unit'. To have it recognized inside a file reader or other code, enable it with 'u.add_enabled_units'. For details, see http://docs.astropy.org/en/latest/units/combining_and_defining.html [astropy.units.core]\n",
      "WARNING: UnitsWarning: '1/nanomaggy^2' did not parse as fits unit: Numeric factor not supported by FITS If this is meant to be a custom unit, define it with 'u.def_unit'. To have it recognized inside a file reader or other code, enable it with 'u.add_enabled_units'. For details, see http://docs.astropy.org/en/latest/units/combining_and_defining.html [astropy.units.core]\n"
     ]
    },
    {
     "name": "stdout",
     "output_type": "stream",
     "text": [
      "WARNING:io.py:611:write_targets: qso_selection method not specified for output file\n"
     ]
    },
    {
     "name": "stderr",
     "output_type": "stream",
     "text": [
      "WARNING: MergeConflictWarning: Cannot merge meta key 'DEPNAM00' types <class 'str'> and <class 'str'>, choosing DEPNAM00='desitarget' [astropy.utils.metadata]\n",
      "WARNING: MergeConflictWarning: Cannot merge meta key 'DEPVER00' types <class 'str'> and <class 'str'>, choosing DEPVER00='0.57.1' [astropy.utils.metadata]\n",
      "WARNING: MergeConflictWarning: Cannot merge meta key 'DEPNAM01' types <class 'str'> and <class 'str'>, choosing DEPNAM01='desitarget-git' [astropy.utils.metadata]\n",
      "WARNING: MergeConflictWarning: Cannot merge meta key 'DEPVER01' types <class 'str'> and <class 'str'>, choosing DEPVER01='0.57.1' [astropy.utils.metadata]\n",
      "WARNING: MergeConflictWarning: Cannot merge meta key 'DEPNAM02' types <class 'str'> and <class 'str'>, choosing DEPNAM02='photcat' [astropy.utils.metadata]\n",
      "WARNING: MergeConflictWarning: Cannot merge meta key 'DEPVER02' types <class 'str'> and <class 'str'>, choosing DEPVER02='X' [astropy.utils.metadata]\n",
      "WARNING: MergeConflictWarning: Cannot merge meta key 'DEPNAM03' types <class 'str'> and <class 'str'>, choosing DEPNAM03='tractor-files' [astropy.utils.metadata]\n",
      "WARNING: MergeConflictWarning: Cannot merge meta key 'DEPVER03' types <class 'str'> and <class 'str'>, choosing DEPVER03='/global/cfs/cdirs/desi/survey/ops/surveyops/trunk/mtl/sv3/dark' [astropy.utils.metadata]\n",
      "WARNING: MergeConflictWarning: Cannot merge meta key 'DEPNAM04' types <class 'str'> and <class 'str'>, choosing DEPNAM04='tractor-files-2' [astropy.utils.metadata]\n",
      "WARNING: MergeConflictWarning: Cannot merge meta key 'DEPVER04' types <class 'str'> and <class 'str'>, choosing DEPVER04='/global/cfs/cdirs/desi/target/catalogs/dr9/0.57.0/targets/sv3/resolve/dark' [astropy.utils.metadata]\n",
      "WARNING: MergeConflictWarning: Cannot merge meta key 'DEPNAM05' types <class 'str'> and <class 'str'>, choosing DEPNAM05='qso-selection' [astropy.utils.metadata]\n",
      "WARNING: MergeConflictWarning: Cannot merge meta key 'DEPVER05' types <class 'str'> and <class 'str'>, choosing DEPVER05='unknown' [astropy.utils.metadata]\n",
      "WARNING: MergeConflictWarning: Cannot merge meta key 'DR' types <class 'astropy.io.fits.card.Undefined'> and <class 'astropy.io.fits.card.Undefined'>, choosing DR=<astropy.io.fits.card.Undefined object at 0x2aaad43d6940> [astropy.utils.metadata]\n",
      "WARNING: UnitsWarning: 'nanomaggy' did not parse as fits unit: At col 0, Unit 'nanomaggy' not supported by the FITS standard.  If this is meant to be a custom unit, define it with 'u.def_unit'. To have it recognized inside a file reader or other code, enable it with 'u.add_enabled_units'. For details, see http://docs.astropy.org/en/latest/units/combining_and_defining.html [astropy.units.core]\n",
      "WARNING: UnitsWarning: '1/nanomaggy^2' did not parse as fits unit: Numeric factor not supported by FITS If this is meant to be a custom unit, define it with 'u.def_unit'. To have it recognized inside a file reader or other code, enable it with 'u.add_enabled_units'. For details, see http://docs.astropy.org/en/latest/units/combining_and_defining.html [astropy.units.core]\n"
     ]
    },
    {
     "name": "stdout",
     "output_type": "stream",
     "text": [
      "WARNING:io.py:611:write_targets: qso_selection method not specified for output file\n"
     ]
    },
    {
     "name": "stderr",
     "output_type": "stream",
     "text": [
      "WARNING: MergeConflictWarning: Cannot merge meta key 'DEPNAM00' types <class 'str'> and <class 'str'>, choosing DEPNAM00='desitarget' [astropy.utils.metadata]\n",
      "WARNING: MergeConflictWarning: Cannot merge meta key 'DEPVER00' types <class 'str'> and <class 'str'>, choosing DEPVER00='0.57.1' [astropy.utils.metadata]\n",
      "WARNING: MergeConflictWarning: Cannot merge meta key 'DEPNAM01' types <class 'str'> and <class 'str'>, choosing DEPNAM01='desitarget-git' [astropy.utils.metadata]\n",
      "WARNING: MergeConflictWarning: Cannot merge meta key 'DEPVER01' types <class 'str'> and <class 'str'>, choosing DEPVER01='0.57.1' [astropy.utils.metadata]\n",
      "WARNING: MergeConflictWarning: Cannot merge meta key 'DEPNAM02' types <class 'str'> and <class 'str'>, choosing DEPNAM02='photcat' [astropy.utils.metadata]\n",
      "WARNING: MergeConflictWarning: Cannot merge meta key 'DEPVER02' types <class 'str'> and <class 'str'>, choosing DEPVER02='X' [astropy.utils.metadata]\n",
      "WARNING: MergeConflictWarning: Cannot merge meta key 'DEPNAM03' types <class 'str'> and <class 'str'>, choosing DEPNAM03='tractor-files' [astropy.utils.metadata]\n",
      "WARNING: MergeConflictWarning: Cannot merge meta key 'DEPVER03' types <class 'str'> and <class 'str'>, choosing DEPVER03='/global/cfs/cdirs/desi/survey/ops/surveyops/trunk/mtl/sv3/dark' [astropy.utils.metadata]\n",
      "WARNING: MergeConflictWarning: Cannot merge meta key 'DEPNAM04' types <class 'str'> and <class 'str'>, choosing DEPNAM04='tractor-files-2' [astropy.utils.metadata]\n",
      "WARNING: MergeConflictWarning: Cannot merge meta key 'DEPVER04' types <class 'str'> and <class 'str'>, choosing DEPVER04='/global/cfs/cdirs/desi/target/catalogs/dr9/0.57.0/targets/sv3/resolve/dark' [astropy.utils.metadata]\n",
      "WARNING: MergeConflictWarning: Cannot merge meta key 'DEPNAM05' types <class 'str'> and <class 'str'>, choosing DEPNAM05='qso-selection' [astropy.utils.metadata]\n",
      "WARNING: MergeConflictWarning: Cannot merge meta key 'DEPVER05' types <class 'str'> and <class 'str'>, choosing DEPVER05='unknown' [astropy.utils.metadata]\n",
      "WARNING: MergeConflictWarning: Cannot merge meta key 'DR' types <class 'astropy.io.fits.card.Undefined'> and <class 'astropy.io.fits.card.Undefined'>, choosing DR=<astropy.io.fits.card.Undefined object at 0x2aaad43d6940> [astropy.utils.metadata]\n",
      "WARNING: UnitsWarning: 'nanomaggy' did not parse as fits unit: At col 0, Unit 'nanomaggy' not supported by the FITS standard.  If this is meant to be a custom unit, define it with 'u.def_unit'. To have it recognized inside a file reader or other code, enable it with 'u.add_enabled_units'. For details, see http://docs.astropy.org/en/latest/units/combining_and_defining.html [astropy.units.core]\n",
      "WARNING: UnitsWarning: '1/nanomaggy^2' did not parse as fits unit: Numeric factor not supported by FITS If this is meant to be a custom unit, define it with 'u.def_unit'. To have it recognized inside a file reader or other code, enable it with 'u.add_enabled_units'. For details, see http://docs.astropy.org/en/latest/units/combining_and_defining.html [astropy.units.core]\n"
     ]
    },
    {
     "name": "stdout",
     "output_type": "stream",
     "text": [
      "WARNING:io.py:611:write_targets: qso_selection method not specified for output file\n"
     ]
    },
    {
     "name": "stderr",
     "output_type": "stream",
     "text": [
      "WARNING: MergeConflictWarning: Cannot merge meta key 'DEPNAM00' types <class 'str'> and <class 'str'>, choosing DEPNAM00='desitarget' [astropy.utils.metadata]\n",
      "WARNING: MergeConflictWarning: Cannot merge meta key 'DEPVER00' types <class 'str'> and <class 'str'>, choosing DEPVER00='0.57.1' [astropy.utils.metadata]\n",
      "WARNING: MergeConflictWarning: Cannot merge meta key 'DEPNAM01' types <class 'str'> and <class 'str'>, choosing DEPNAM01='desitarget-git' [astropy.utils.metadata]\n",
      "WARNING: MergeConflictWarning: Cannot merge meta key 'DEPVER01' types <class 'str'> and <class 'str'>, choosing DEPVER01='0.57.1' [astropy.utils.metadata]\n",
      "WARNING: MergeConflictWarning: Cannot merge meta key 'DEPNAM02' types <class 'str'> and <class 'str'>, choosing DEPNAM02='photcat' [astropy.utils.metadata]\n",
      "WARNING: MergeConflictWarning: Cannot merge meta key 'DEPVER02' types <class 'str'> and <class 'str'>, choosing DEPVER02='X' [astropy.utils.metadata]\n",
      "WARNING: MergeConflictWarning: Cannot merge meta key 'DEPNAM03' types <class 'str'> and <class 'str'>, choosing DEPNAM03='tractor-files' [astropy.utils.metadata]\n",
      "WARNING: MergeConflictWarning: Cannot merge meta key 'DEPVER03' types <class 'str'> and <class 'str'>, choosing DEPVER03='/global/cfs/cdirs/desi/survey/ops/surveyops/trunk/mtl/sv3/dark' [astropy.utils.metadata]\n",
      "WARNING: MergeConflictWarning: Cannot merge meta key 'DEPNAM04' types <class 'str'> and <class 'str'>, choosing DEPNAM04='tractor-files-2' [astropy.utils.metadata]\n",
      "WARNING: MergeConflictWarning: Cannot merge meta key 'DEPVER04' types <class 'str'> and <class 'str'>, choosing DEPVER04='/global/cfs/cdirs/desi/target/catalogs/dr9/0.57.0/targets/sv3/resolve/dark' [astropy.utils.metadata]\n",
      "WARNING: MergeConflictWarning: Cannot merge meta key 'DEPNAM05' types <class 'str'> and <class 'str'>, choosing DEPNAM05='qso-selection' [astropy.utils.metadata]\n",
      "WARNING: MergeConflictWarning: Cannot merge meta key 'DEPVER05' types <class 'str'> and <class 'str'>, choosing DEPVER05='unknown' [astropy.utils.metadata]\n",
      "WARNING: MergeConflictWarning: Cannot merge meta key 'DR' types <class 'astropy.io.fits.card.Undefined'> and <class 'astropy.io.fits.card.Undefined'>, choosing DR=<astropy.io.fits.card.Undefined object at 0x2aaad43d6940> [astropy.utils.metadata]\n",
      "WARNING: UnitsWarning: 'nanomaggy' did not parse as fits unit: At col 0, Unit 'nanomaggy' not supported by the FITS standard.  If this is meant to be a custom unit, define it with 'u.def_unit'. To have it recognized inside a file reader or other code, enable it with 'u.add_enabled_units'. For details, see http://docs.astropy.org/en/latest/units/combining_and_defining.html [astropy.units.core]\n",
      "WARNING: UnitsWarning: '1/nanomaggy^2' did not parse as fits unit: Numeric factor not supported by FITS If this is meant to be a custom unit, define it with 'u.def_unit'. To have it recognized inside a file reader or other code, enable it with 'u.add_enabled_units'. For details, see http://docs.astropy.org/en/latest/units/combining_and_defining.html [astropy.units.core]\n"
     ]
    },
    {
     "name": "stdout",
     "output_type": "stream",
     "text": [
      "WARNING:io.py:611:write_targets: qso_selection method not specified for output file\n"
     ]
    },
    {
     "name": "stderr",
     "output_type": "stream",
     "text": [
      "WARNING: MergeConflictWarning: Cannot merge meta key 'DEPNAM00' types <class 'str'> and <class 'str'>, choosing DEPNAM00='desitarget' [astropy.utils.metadata]\n",
      "WARNING: MergeConflictWarning: Cannot merge meta key 'DEPVER00' types <class 'str'> and <class 'str'>, choosing DEPVER00='0.57.1' [astropy.utils.metadata]\n",
      "WARNING: MergeConflictWarning: Cannot merge meta key 'DEPNAM01' types <class 'str'> and <class 'str'>, choosing DEPNAM01='desitarget-git' [astropy.utils.metadata]\n",
      "WARNING: MergeConflictWarning: Cannot merge meta key 'DEPVER01' types <class 'str'> and <class 'str'>, choosing DEPVER01='0.57.1' [astropy.utils.metadata]\n",
      "WARNING: MergeConflictWarning: Cannot merge meta key 'DEPNAM02' types <class 'str'> and <class 'str'>, choosing DEPNAM02='photcat' [astropy.utils.metadata]\n",
      "WARNING: MergeConflictWarning: Cannot merge meta key 'DEPVER02' types <class 'str'> and <class 'str'>, choosing DEPVER02='X' [astropy.utils.metadata]\n",
      "WARNING: MergeConflictWarning: Cannot merge meta key 'DEPNAM03' types <class 'str'> and <class 'str'>, choosing DEPNAM03='tractor-files' [astropy.utils.metadata]\n",
      "WARNING: MergeConflictWarning: Cannot merge meta key 'DEPVER03' types <class 'str'> and <class 'str'>, choosing DEPVER03='/global/cfs/cdirs/desi/survey/ops/surveyops/trunk/mtl/sv3/dark' [astropy.utils.metadata]\n",
      "WARNING: MergeConflictWarning: Cannot merge meta key 'DEPNAM04' types <class 'str'> and <class 'str'>, choosing DEPNAM04='tractor-files-2' [astropy.utils.metadata]\n",
      "WARNING: MergeConflictWarning: Cannot merge meta key 'DEPVER04' types <class 'str'> and <class 'str'>, choosing DEPVER04='/global/cfs/cdirs/desi/target/catalogs/dr9/0.57.0/targets/sv3/resolve/dark' [astropy.utils.metadata]\n",
      "WARNING: MergeConflictWarning: Cannot merge meta key 'DEPNAM05' types <class 'str'> and <class 'str'>, choosing DEPNAM05='qso-selection' [astropy.utils.metadata]\n",
      "WARNING: MergeConflictWarning: Cannot merge meta key 'DEPVER05' types <class 'str'> and <class 'str'>, choosing DEPVER05='unknown' [astropy.utils.metadata]\n",
      "WARNING: MergeConflictWarning: Cannot merge meta key 'DR' types <class 'astropy.io.fits.card.Undefined'> and <class 'astropy.io.fits.card.Undefined'>, choosing DR=<astropy.io.fits.card.Undefined object at 0x2aaad43d6940> [astropy.utils.metadata]\n",
      "WARNING: UnitsWarning: 'nanomaggy' did not parse as fits unit: At col 0, Unit 'nanomaggy' not supported by the FITS standard.  If this is meant to be a custom unit, define it with 'u.def_unit'. To have it recognized inside a file reader or other code, enable it with 'u.add_enabled_units'. For details, see http://docs.astropy.org/en/latest/units/combining_and_defining.html [astropy.units.core]\n",
      "WARNING: UnitsWarning: '1/nanomaggy^2' did not parse as fits unit: Numeric factor not supported by FITS If this is meant to be a custom unit, define it with 'u.def_unit'. To have it recognized inside a file reader or other code, enable it with 'u.add_enabled_units'. For details, see http://docs.astropy.org/en/latest/units/combining_and_defining.html [astropy.units.core]\n"
     ]
    },
    {
     "name": "stdout",
     "output_type": "stream",
     "text": [
      "WARNING:io.py:611:write_targets: qso_selection method not specified for output file\n"
     ]
    },
    {
     "name": "stderr",
     "output_type": "stream",
     "text": [
      "WARNING: MergeConflictWarning: Cannot merge meta key 'DEPNAM00' types <class 'str'> and <class 'str'>, choosing DEPNAM00='desitarget' [astropy.utils.metadata]\n",
      "WARNING: MergeConflictWarning: Cannot merge meta key 'DEPVER00' types <class 'str'> and <class 'str'>, choosing DEPVER00='0.57.1' [astropy.utils.metadata]\n",
      "WARNING: MergeConflictWarning: Cannot merge meta key 'DEPNAM01' types <class 'str'> and <class 'str'>, choosing DEPNAM01='desitarget-git' [astropy.utils.metadata]\n",
      "WARNING: MergeConflictWarning: Cannot merge meta key 'DEPVER01' types <class 'str'> and <class 'str'>, choosing DEPVER01='0.57.1' [astropy.utils.metadata]\n",
      "WARNING: MergeConflictWarning: Cannot merge meta key 'DEPNAM02' types <class 'str'> and <class 'str'>, choosing DEPNAM02='photcat' [astropy.utils.metadata]\n",
      "WARNING: MergeConflictWarning: Cannot merge meta key 'DEPVER02' types <class 'str'> and <class 'str'>, choosing DEPVER02='X' [astropy.utils.metadata]\n",
      "WARNING: MergeConflictWarning: Cannot merge meta key 'DEPNAM03' types <class 'str'> and <class 'str'>, choosing DEPNAM03='tractor-files' [astropy.utils.metadata]\n",
      "WARNING: MergeConflictWarning: Cannot merge meta key 'DEPVER03' types <class 'str'> and <class 'str'>, choosing DEPVER03='/global/cfs/cdirs/desi/survey/ops/surveyops/trunk/mtl/sv3/dark' [astropy.utils.metadata]\n",
      "WARNING: MergeConflictWarning: Cannot merge meta key 'DEPNAM04' types <class 'str'> and <class 'str'>, choosing DEPNAM04='tractor-files-2' [astropy.utils.metadata]\n",
      "WARNING: MergeConflictWarning: Cannot merge meta key 'DEPVER04' types <class 'str'> and <class 'str'>, choosing DEPVER04='/global/cfs/cdirs/desi/target/catalogs/dr9/0.57.0/targets/sv3/resolve/dark' [astropy.utils.metadata]\n",
      "WARNING: MergeConflictWarning: Cannot merge meta key 'DEPNAM05' types <class 'str'> and <class 'str'>, choosing DEPNAM05='qso-selection' [astropy.utils.metadata]\n",
      "WARNING: MergeConflictWarning: Cannot merge meta key 'DEPVER05' types <class 'str'> and <class 'str'>, choosing DEPVER05='unknown' [astropy.utils.metadata]\n",
      "WARNING: MergeConflictWarning: Cannot merge meta key 'DR' types <class 'astropy.io.fits.card.Undefined'> and <class 'astropy.io.fits.card.Undefined'>, choosing DR=<astropy.io.fits.card.Undefined object at 0x2aaad43d6940> [astropy.utils.metadata]\n",
      "WARNING: UnitsWarning: 'nanomaggy' did not parse as fits unit: At col 0, Unit 'nanomaggy' not supported by the FITS standard.  If this is meant to be a custom unit, define it with 'u.def_unit'. To have it recognized inside a file reader or other code, enable it with 'u.add_enabled_units'. For details, see http://docs.astropy.org/en/latest/units/combining_and_defining.html [astropy.units.core]\n",
      "WARNING: UnitsWarning: '1/nanomaggy^2' did not parse as fits unit: Numeric factor not supported by FITS If this is meant to be a custom unit, define it with 'u.def_unit'. To have it recognized inside a file reader or other code, enable it with 'u.add_enabled_units'. For details, see http://docs.astropy.org/en/latest/units/combining_and_defining.html [astropy.units.core]\n"
     ]
    },
    {
     "name": "stdout",
     "output_type": "stream",
     "text": [
      "WARNING:io.py:611:write_targets: qso_selection method not specified for output file\n"
     ]
    },
    {
     "name": "stderr",
     "output_type": "stream",
     "text": [
      "WARNING: MergeConflictWarning: Cannot merge meta key 'DEPNAM00' types <class 'str'> and <class 'str'>, choosing DEPNAM00='desitarget' [astropy.utils.metadata]\n",
      "WARNING: MergeConflictWarning: Cannot merge meta key 'DEPVER00' types <class 'str'> and <class 'str'>, choosing DEPVER00='0.57.1' [astropy.utils.metadata]\n",
      "WARNING: MergeConflictWarning: Cannot merge meta key 'DEPNAM01' types <class 'str'> and <class 'str'>, choosing DEPNAM01='desitarget-git' [astropy.utils.metadata]\n",
      "WARNING: MergeConflictWarning: Cannot merge meta key 'DEPVER01' types <class 'str'> and <class 'str'>, choosing DEPVER01='0.57.1' [astropy.utils.metadata]\n",
      "WARNING: MergeConflictWarning: Cannot merge meta key 'DEPNAM02' types <class 'str'> and <class 'str'>, choosing DEPNAM02='photcat' [astropy.utils.metadata]\n",
      "WARNING: MergeConflictWarning: Cannot merge meta key 'DEPVER02' types <class 'str'> and <class 'str'>, choosing DEPVER02='X' [astropy.utils.metadata]\n",
      "WARNING: MergeConflictWarning: Cannot merge meta key 'DEPNAM03' types <class 'str'> and <class 'str'>, choosing DEPNAM03='tractor-files' [astropy.utils.metadata]\n",
      "WARNING: MergeConflictWarning: Cannot merge meta key 'DEPVER03' types <class 'str'> and <class 'str'>, choosing DEPVER03='/global/cfs/cdirs/desi/survey/ops/surveyops/trunk/mtl/sv3/dark' [astropy.utils.metadata]\n",
      "WARNING: MergeConflictWarning: Cannot merge meta key 'DEPNAM04' types <class 'str'> and <class 'str'>, choosing DEPNAM04='tractor-files-2' [astropy.utils.metadata]\n",
      "WARNING: MergeConflictWarning: Cannot merge meta key 'DEPVER04' types <class 'str'> and <class 'str'>, choosing DEPVER04='/global/cfs/cdirs/desi/target/catalogs/dr9/0.57.0/targets/sv3/resolve/dark' [astropy.utils.metadata]\n",
      "WARNING: MergeConflictWarning: Cannot merge meta key 'DEPNAM05' types <class 'str'> and <class 'str'>, choosing DEPNAM05='qso-selection' [astropy.utils.metadata]\n",
      "WARNING: MergeConflictWarning: Cannot merge meta key 'DEPVER05' types <class 'str'> and <class 'str'>, choosing DEPVER05='unknown' [astropy.utils.metadata]\n",
      "WARNING: MergeConflictWarning: Cannot merge meta key 'DR' types <class 'astropy.io.fits.card.Undefined'> and <class 'astropy.io.fits.card.Undefined'>, choosing DR=<astropy.io.fits.card.Undefined object at 0x2aaad43d6940> [astropy.utils.metadata]\n",
      "WARNING: UnitsWarning: 'nanomaggy' did not parse as fits unit: At col 0, Unit 'nanomaggy' not supported by the FITS standard.  If this is meant to be a custom unit, define it with 'u.def_unit'. To have it recognized inside a file reader or other code, enable it with 'u.add_enabled_units'. For details, see http://docs.astropy.org/en/latest/units/combining_and_defining.html [astropy.units.core]\n",
      "WARNING: UnitsWarning: '1/nanomaggy^2' did not parse as fits unit: Numeric factor not supported by FITS If this is meant to be a custom unit, define it with 'u.def_unit'. To have it recognized inside a file reader or other code, enable it with 'u.add_enabled_units'. For details, see http://docs.astropy.org/en/latest/units/combining_and_defining.html [astropy.units.core]\n"
     ]
    },
    {
     "name": "stdout",
     "output_type": "stream",
     "text": [
      "WARNING:io.py:611:write_targets: qso_selection method not specified for output file\n"
     ]
    },
    {
     "name": "stderr",
     "output_type": "stream",
     "text": [
      "WARNING: MergeConflictWarning: Cannot merge meta key 'DEPNAM00' types <class 'str'> and <class 'str'>, choosing DEPNAM00='desitarget' [astropy.utils.metadata]\n",
      "WARNING: MergeConflictWarning: Cannot merge meta key 'DEPVER00' types <class 'str'> and <class 'str'>, choosing DEPVER00='0.57.1' [astropy.utils.metadata]\n",
      "WARNING: MergeConflictWarning: Cannot merge meta key 'DEPNAM01' types <class 'str'> and <class 'str'>, choosing DEPNAM01='desitarget-git' [astropy.utils.metadata]\n",
      "WARNING: MergeConflictWarning: Cannot merge meta key 'DEPVER01' types <class 'str'> and <class 'str'>, choosing DEPVER01='0.57.1' [astropy.utils.metadata]\n",
      "WARNING: MergeConflictWarning: Cannot merge meta key 'DEPNAM02' types <class 'str'> and <class 'str'>, choosing DEPNAM02='photcat' [astropy.utils.metadata]\n",
      "WARNING: MergeConflictWarning: Cannot merge meta key 'DEPVER02' types <class 'str'> and <class 'str'>, choosing DEPVER02='X' [astropy.utils.metadata]\n",
      "WARNING: MergeConflictWarning: Cannot merge meta key 'DEPNAM03' types <class 'str'> and <class 'str'>, choosing DEPNAM03='tractor-files' [astropy.utils.metadata]\n",
      "WARNING: MergeConflictWarning: Cannot merge meta key 'DEPVER03' types <class 'str'> and <class 'str'>, choosing DEPVER03='/global/cfs/cdirs/desi/survey/ops/surveyops/trunk/mtl/sv3/dark' [astropy.utils.metadata]\n",
      "WARNING: MergeConflictWarning: Cannot merge meta key 'DEPNAM04' types <class 'str'> and <class 'str'>, choosing DEPNAM04='tractor-files-2' [astropy.utils.metadata]\n",
      "WARNING: MergeConflictWarning: Cannot merge meta key 'DEPVER04' types <class 'str'> and <class 'str'>, choosing DEPVER04='/global/cfs/cdirs/desi/target/catalogs/dr9/0.57.0/targets/sv3/resolve/dark' [astropy.utils.metadata]\n",
      "WARNING: MergeConflictWarning: Cannot merge meta key 'DEPNAM05' types <class 'str'> and <class 'str'>, choosing DEPNAM05='qso-selection' [astropy.utils.metadata]\n",
      "WARNING: MergeConflictWarning: Cannot merge meta key 'DEPVER05' types <class 'str'> and <class 'str'>, choosing DEPVER05='unknown' [astropy.utils.metadata]\n",
      "WARNING: MergeConflictWarning: Cannot merge meta key 'DR' types <class 'astropy.io.fits.card.Undefined'> and <class 'astropy.io.fits.card.Undefined'>, choosing DR=<astropy.io.fits.card.Undefined object at 0x2aaad43d6940> [astropy.utils.metadata]\n",
      "WARNING: UnitsWarning: 'nanomaggy' did not parse as fits unit: At col 0, Unit 'nanomaggy' not supported by the FITS standard.  If this is meant to be a custom unit, define it with 'u.def_unit'. To have it recognized inside a file reader or other code, enable it with 'u.add_enabled_units'. For details, see http://docs.astropy.org/en/latest/units/combining_and_defining.html [astropy.units.core]\n",
      "WARNING: UnitsWarning: '1/nanomaggy^2' did not parse as fits unit: Numeric factor not supported by FITS If this is meant to be a custom unit, define it with 'u.def_unit'. To have it recognized inside a file reader or other code, enable it with 'u.add_enabled_units'. For details, see http://docs.astropy.org/en/latest/units/combining_and_defining.html [astropy.units.core]\n"
     ]
    },
    {
     "name": "stdout",
     "output_type": "stream",
     "text": [
      "WARNING:io.py:611:write_targets: qso_selection method not specified for output file\n"
     ]
    },
    {
     "name": "stderr",
     "output_type": "stream",
     "text": [
      "WARNING: MergeConflictWarning: Cannot merge meta key 'DEPNAM00' types <class 'str'> and <class 'str'>, choosing DEPNAM00='desitarget' [astropy.utils.metadata]\n",
      "WARNING: MergeConflictWarning: Cannot merge meta key 'DEPVER00' types <class 'str'> and <class 'str'>, choosing DEPVER00='0.57.1' [astropy.utils.metadata]\n",
      "WARNING: MergeConflictWarning: Cannot merge meta key 'DEPNAM01' types <class 'str'> and <class 'str'>, choosing DEPNAM01='desitarget-git' [astropy.utils.metadata]\n",
      "WARNING: MergeConflictWarning: Cannot merge meta key 'DEPVER01' types <class 'str'> and <class 'str'>, choosing DEPVER01='0.57.1' [astropy.utils.metadata]\n",
      "WARNING: MergeConflictWarning: Cannot merge meta key 'DEPNAM02' types <class 'str'> and <class 'str'>, choosing DEPNAM02='photcat' [astropy.utils.metadata]\n",
      "WARNING: MergeConflictWarning: Cannot merge meta key 'DEPVER02' types <class 'str'> and <class 'str'>, choosing DEPVER02='X' [astropy.utils.metadata]\n",
      "WARNING: MergeConflictWarning: Cannot merge meta key 'DEPNAM03' types <class 'str'> and <class 'str'>, choosing DEPNAM03='tractor-files' [astropy.utils.metadata]\n",
      "WARNING: MergeConflictWarning: Cannot merge meta key 'DEPVER03' types <class 'str'> and <class 'str'>, choosing DEPVER03='/global/cfs/cdirs/desi/survey/ops/surveyops/trunk/mtl/sv3/dark' [astropy.utils.metadata]\n",
      "WARNING: MergeConflictWarning: Cannot merge meta key 'DEPNAM04' types <class 'str'> and <class 'str'>, choosing DEPNAM04='tractor-files-2' [astropy.utils.metadata]\n",
      "WARNING: MergeConflictWarning: Cannot merge meta key 'DEPVER04' types <class 'str'> and <class 'str'>, choosing DEPVER04='/global/cfs/cdirs/desi/target/catalogs/dr9/0.57.0/targets/sv3/resolve/dark' [astropy.utils.metadata]\n",
      "WARNING: MergeConflictWarning: Cannot merge meta key 'DEPNAM05' types <class 'str'> and <class 'str'>, choosing DEPNAM05='qso-selection' [astropy.utils.metadata]\n",
      "WARNING: MergeConflictWarning: Cannot merge meta key 'DEPVER05' types <class 'str'> and <class 'str'>, choosing DEPVER05='unknown' [astropy.utils.metadata]\n",
      "WARNING: MergeConflictWarning: Cannot merge meta key 'DR' types <class 'astropy.io.fits.card.Undefined'> and <class 'astropy.io.fits.card.Undefined'>, choosing DR=<astropy.io.fits.card.Undefined object at 0x2aaad43d6940> [astropy.utils.metadata]\n",
      "WARNING: UnitsWarning: 'nanomaggy' did not parse as fits unit: At col 0, Unit 'nanomaggy' not supported by the FITS standard.  If this is meant to be a custom unit, define it with 'u.def_unit'. To have it recognized inside a file reader or other code, enable it with 'u.add_enabled_units'. For details, see http://docs.astropy.org/en/latest/units/combining_and_defining.html [astropy.units.core]\n",
      "WARNING: UnitsWarning: '1/nanomaggy^2' did not parse as fits unit: Numeric factor not supported by FITS If this is meant to be a custom unit, define it with 'u.def_unit'. To have it recognized inside a file reader or other code, enable it with 'u.add_enabled_units'. For details, see http://docs.astropy.org/en/latest/units/combining_and_defining.html [astropy.units.core]\n"
     ]
    },
    {
     "name": "stdout",
     "output_type": "stream",
     "text": [
      "WARNING:io.py:611:write_targets: qso_selection method not specified for output file\n"
     ]
    },
    {
     "name": "stderr",
     "output_type": "stream",
     "text": [
      "WARNING: MergeConflictWarning: Cannot merge meta key 'DEPNAM00' types <class 'str'> and <class 'str'>, choosing DEPNAM00='desitarget' [astropy.utils.metadata]\n",
      "WARNING: MergeConflictWarning: Cannot merge meta key 'DEPVER00' types <class 'str'> and <class 'str'>, choosing DEPVER00='0.57.1' [astropy.utils.metadata]\n",
      "WARNING: MergeConflictWarning: Cannot merge meta key 'DEPNAM01' types <class 'str'> and <class 'str'>, choosing DEPNAM01='desitarget-git' [astropy.utils.metadata]\n",
      "WARNING: MergeConflictWarning: Cannot merge meta key 'DEPVER01' types <class 'str'> and <class 'str'>, choosing DEPVER01='0.57.1' [astropy.utils.metadata]\n",
      "WARNING: MergeConflictWarning: Cannot merge meta key 'DEPNAM02' types <class 'str'> and <class 'str'>, choosing DEPNAM02='photcat' [astropy.utils.metadata]\n",
      "WARNING: MergeConflictWarning: Cannot merge meta key 'DEPVER02' types <class 'str'> and <class 'str'>, choosing DEPVER02='X' [astropy.utils.metadata]\n",
      "WARNING: MergeConflictWarning: Cannot merge meta key 'DEPNAM03' types <class 'str'> and <class 'str'>, choosing DEPNAM03='tractor-files' [astropy.utils.metadata]\n",
      "WARNING: MergeConflictWarning: Cannot merge meta key 'DEPVER03' types <class 'str'> and <class 'str'>, choosing DEPVER03='/global/cfs/cdirs/desi/survey/ops/surveyops/trunk/mtl/sv3/dark' [astropy.utils.metadata]\n",
      "WARNING: MergeConflictWarning: Cannot merge meta key 'DEPNAM04' types <class 'str'> and <class 'str'>, choosing DEPNAM04='tractor-files-2' [astropy.utils.metadata]\n",
      "WARNING: MergeConflictWarning: Cannot merge meta key 'DEPVER04' types <class 'str'> and <class 'str'>, choosing DEPVER04='/global/cfs/cdirs/desi/target/catalogs/dr9/0.57.0/targets/sv3/resolve/dark' [astropy.utils.metadata]\n",
      "WARNING: MergeConflictWarning: Cannot merge meta key 'DEPNAM05' types <class 'str'> and <class 'str'>, choosing DEPNAM05='qso-selection' [astropy.utils.metadata]\n",
      "WARNING: MergeConflictWarning: Cannot merge meta key 'DEPVER05' types <class 'str'> and <class 'str'>, choosing DEPVER05='unknown' [astropy.utils.metadata]\n",
      "WARNING: MergeConflictWarning: Cannot merge meta key 'DR' types <class 'astropy.io.fits.card.Undefined'> and <class 'astropy.io.fits.card.Undefined'>, choosing DR=<astropy.io.fits.card.Undefined object at 0x2aaad43d6940> [astropy.utils.metadata]\n",
      "WARNING: UnitsWarning: 'nanomaggy' did not parse as fits unit: At col 0, Unit 'nanomaggy' not supported by the FITS standard.  If this is meant to be a custom unit, define it with 'u.def_unit'. To have it recognized inside a file reader or other code, enable it with 'u.add_enabled_units'. For details, see http://docs.astropy.org/en/latest/units/combining_and_defining.html [astropy.units.core]\n",
      "WARNING: UnitsWarning: '1/nanomaggy^2' did not parse as fits unit: Numeric factor not supported by FITS If this is meant to be a custom unit, define it with 'u.def_unit'. To have it recognized inside a file reader or other code, enable it with 'u.add_enabled_units'. For details, see http://docs.astropy.org/en/latest/units/combining_and_defining.html [astropy.units.core]\n"
     ]
    },
    {
     "name": "stdout",
     "output_type": "stream",
     "text": [
      "WARNING:io.py:611:write_targets: qso_selection method not specified for output file\n"
     ]
    },
    {
     "name": "stderr",
     "output_type": "stream",
     "text": [
      "WARNING: MergeConflictWarning: Cannot merge meta key 'DEPNAM00' types <class 'str'> and <class 'str'>, choosing DEPNAM00='desitarget' [astropy.utils.metadata]\n",
      "WARNING: MergeConflictWarning: Cannot merge meta key 'DEPVER00' types <class 'str'> and <class 'str'>, choosing DEPVER00='0.57.1' [astropy.utils.metadata]\n",
      "WARNING: MergeConflictWarning: Cannot merge meta key 'DEPNAM01' types <class 'str'> and <class 'str'>, choosing DEPNAM01='desitarget-git' [astropy.utils.metadata]\n",
      "WARNING: MergeConflictWarning: Cannot merge meta key 'DEPVER01' types <class 'str'> and <class 'str'>, choosing DEPVER01='0.57.1' [astropy.utils.metadata]\n",
      "WARNING: MergeConflictWarning: Cannot merge meta key 'DEPNAM02' types <class 'str'> and <class 'str'>, choosing DEPNAM02='photcat' [astropy.utils.metadata]\n",
      "WARNING: MergeConflictWarning: Cannot merge meta key 'DEPVER02' types <class 'str'> and <class 'str'>, choosing DEPVER02='X' [astropy.utils.metadata]\n",
      "WARNING: MergeConflictWarning: Cannot merge meta key 'DEPNAM03' types <class 'str'> and <class 'str'>, choosing DEPNAM03='tractor-files' [astropy.utils.metadata]\n",
      "WARNING: MergeConflictWarning: Cannot merge meta key 'DEPVER03' types <class 'str'> and <class 'str'>, choosing DEPVER03='/global/cfs/cdirs/desi/survey/ops/surveyops/trunk/mtl/sv3/dark' [astropy.utils.metadata]\n",
      "WARNING: MergeConflictWarning: Cannot merge meta key 'DEPNAM04' types <class 'str'> and <class 'str'>, choosing DEPNAM04='tractor-files-2' [astropy.utils.metadata]\n",
      "WARNING: MergeConflictWarning: Cannot merge meta key 'DEPVER04' types <class 'str'> and <class 'str'>, choosing DEPVER04='/global/cfs/cdirs/desi/target/catalogs/dr9/0.57.0/targets/sv3/resolve/dark' [astropy.utils.metadata]\n",
      "WARNING: MergeConflictWarning: Cannot merge meta key 'DEPNAM05' types <class 'str'> and <class 'str'>, choosing DEPNAM05='qso-selection' [astropy.utils.metadata]\n",
      "WARNING: MergeConflictWarning: Cannot merge meta key 'DEPVER05' types <class 'str'> and <class 'str'>, choosing DEPVER05='unknown' [astropy.utils.metadata]\n",
      "WARNING: MergeConflictWarning: Cannot merge meta key 'DR' types <class 'astropy.io.fits.card.Undefined'> and <class 'astropy.io.fits.card.Undefined'>, choosing DR=<astropy.io.fits.card.Undefined object at 0x2aaad43d6940> [astropy.utils.metadata]\n",
      "WARNING: UnitsWarning: 'nanomaggy' did not parse as fits unit: At col 0, Unit 'nanomaggy' not supported by the FITS standard.  If this is meant to be a custom unit, define it with 'u.def_unit'. To have it recognized inside a file reader or other code, enable it with 'u.add_enabled_units'. For details, see http://docs.astropy.org/en/latest/units/combining_and_defining.html [astropy.units.core]\n",
      "WARNING: UnitsWarning: '1/nanomaggy^2' did not parse as fits unit: Numeric factor not supported by FITS If this is meant to be a custom unit, define it with 'u.def_unit'. To have it recognized inside a file reader or other code, enable it with 'u.add_enabled_units'. For details, see http://docs.astropy.org/en/latest/units/combining_and_defining.html [astropy.units.core]\n"
     ]
    },
    {
     "name": "stdout",
     "output_type": "stream",
     "text": [
      "WARNING:io.py:611:write_targets: qso_selection method not specified for output file\n"
     ]
    },
    {
     "name": "stderr",
     "output_type": "stream",
     "text": [
      "WARNING: MergeConflictWarning: Cannot merge meta key 'DEPNAM00' types <class 'str'> and <class 'str'>, choosing DEPNAM00='desitarget' [astropy.utils.metadata]\n",
      "WARNING: MergeConflictWarning: Cannot merge meta key 'DEPVER00' types <class 'str'> and <class 'str'>, choosing DEPVER00='0.57.1' [astropy.utils.metadata]\n",
      "WARNING: MergeConflictWarning: Cannot merge meta key 'DEPNAM01' types <class 'str'> and <class 'str'>, choosing DEPNAM01='desitarget-git' [astropy.utils.metadata]\n",
      "WARNING: MergeConflictWarning: Cannot merge meta key 'DEPVER01' types <class 'str'> and <class 'str'>, choosing DEPVER01='0.57.1' [astropy.utils.metadata]\n",
      "WARNING: MergeConflictWarning: Cannot merge meta key 'DEPNAM02' types <class 'str'> and <class 'str'>, choosing DEPNAM02='photcat' [astropy.utils.metadata]\n",
      "WARNING: MergeConflictWarning: Cannot merge meta key 'DEPVER02' types <class 'str'> and <class 'str'>, choosing DEPVER02='X' [astropy.utils.metadata]\n",
      "WARNING: MergeConflictWarning: Cannot merge meta key 'DEPNAM03' types <class 'str'> and <class 'str'>, choosing DEPNAM03='tractor-files' [astropy.utils.metadata]\n",
      "WARNING: MergeConflictWarning: Cannot merge meta key 'DEPVER03' types <class 'str'> and <class 'str'>, choosing DEPVER03='/global/cfs/cdirs/desi/survey/ops/surveyops/trunk/mtl/sv3/dark' [astropy.utils.metadata]\n",
      "WARNING: MergeConflictWarning: Cannot merge meta key 'DEPNAM04' types <class 'str'> and <class 'str'>, choosing DEPNAM04='tractor-files-2' [astropy.utils.metadata]\n",
      "WARNING: MergeConflictWarning: Cannot merge meta key 'DEPVER04' types <class 'str'> and <class 'str'>, choosing DEPVER04='/global/cfs/cdirs/desi/target/catalogs/dr9/0.57.0/targets/sv3/resolve/dark' [astropy.utils.metadata]\n",
      "WARNING: MergeConflictWarning: Cannot merge meta key 'DEPNAM05' types <class 'str'> and <class 'str'>, choosing DEPNAM05='qso-selection' [astropy.utils.metadata]\n",
      "WARNING: MergeConflictWarning: Cannot merge meta key 'DEPVER05' types <class 'str'> and <class 'str'>, choosing DEPVER05='unknown' [astropy.utils.metadata]\n",
      "WARNING: MergeConflictWarning: Cannot merge meta key 'DR' types <class 'astropy.io.fits.card.Undefined'> and <class 'astropy.io.fits.card.Undefined'>, choosing DR=<astropy.io.fits.card.Undefined object at 0x2aaad43d6940> [astropy.utils.metadata]\n",
      "WARNING: UnitsWarning: 'nanomaggy' did not parse as fits unit: At col 0, Unit 'nanomaggy' not supported by the FITS standard.  If this is meant to be a custom unit, define it with 'u.def_unit'. To have it recognized inside a file reader or other code, enable it with 'u.add_enabled_units'. For details, see http://docs.astropy.org/en/latest/units/combining_and_defining.html [astropy.units.core]\n",
      "WARNING: UnitsWarning: '1/nanomaggy^2' did not parse as fits unit: Numeric factor not supported by FITS If this is meant to be a custom unit, define it with 'u.def_unit'. To have it recognized inside a file reader or other code, enable it with 'u.add_enabled_units'. For details, see http://docs.astropy.org/en/latest/units/combining_and_defining.html [astropy.units.core]\n"
     ]
    },
    {
     "name": "stdout",
     "output_type": "stream",
     "text": [
      "WARNING:io.py:611:write_targets: qso_selection method not specified for output file\n"
     ]
    },
    {
     "name": "stderr",
     "output_type": "stream",
     "text": [
      "WARNING: MergeConflictWarning: Cannot merge meta key 'DEPNAM00' types <class 'str'> and <class 'str'>, choosing DEPNAM00='desitarget' [astropy.utils.metadata]\n",
      "WARNING: MergeConflictWarning: Cannot merge meta key 'DEPVER00' types <class 'str'> and <class 'str'>, choosing DEPVER00='0.57.1' [astropy.utils.metadata]\n",
      "WARNING: MergeConflictWarning: Cannot merge meta key 'DEPNAM01' types <class 'str'> and <class 'str'>, choosing DEPNAM01='desitarget-git' [astropy.utils.metadata]\n",
      "WARNING: MergeConflictWarning: Cannot merge meta key 'DEPVER01' types <class 'str'> and <class 'str'>, choosing DEPVER01='0.57.1' [astropy.utils.metadata]\n",
      "WARNING: MergeConflictWarning: Cannot merge meta key 'DEPNAM02' types <class 'str'> and <class 'str'>, choosing DEPNAM02='photcat' [astropy.utils.metadata]\n",
      "WARNING: MergeConflictWarning: Cannot merge meta key 'DEPVER02' types <class 'str'> and <class 'str'>, choosing DEPVER02='X' [astropy.utils.metadata]\n",
      "WARNING: MergeConflictWarning: Cannot merge meta key 'DEPNAM03' types <class 'str'> and <class 'str'>, choosing DEPNAM03='tractor-files' [astropy.utils.metadata]\n",
      "WARNING: MergeConflictWarning: Cannot merge meta key 'DEPVER03' types <class 'str'> and <class 'str'>, choosing DEPVER03='/global/cfs/cdirs/desi/survey/ops/surveyops/trunk/mtl/sv3/dark' [astropy.utils.metadata]\n",
      "WARNING: MergeConflictWarning: Cannot merge meta key 'DEPNAM04' types <class 'str'> and <class 'str'>, choosing DEPNAM04='tractor-files-2' [astropy.utils.metadata]\n",
      "WARNING: MergeConflictWarning: Cannot merge meta key 'DEPVER04' types <class 'str'> and <class 'str'>, choosing DEPVER04='/global/cfs/cdirs/desi/target/catalogs/dr9/0.57.0/targets/sv3/resolve/dark' [astropy.utils.metadata]\n",
      "WARNING: MergeConflictWarning: Cannot merge meta key 'DEPNAM05' types <class 'str'> and <class 'str'>, choosing DEPNAM05='qso-selection' [astropy.utils.metadata]\n",
      "WARNING: MergeConflictWarning: Cannot merge meta key 'DEPVER05' types <class 'str'> and <class 'str'>, choosing DEPVER05='unknown' [astropy.utils.metadata]\n",
      "WARNING: MergeConflictWarning: Cannot merge meta key 'DR' types <class 'astropy.io.fits.card.Undefined'> and <class 'astropy.io.fits.card.Undefined'>, choosing DR=<astropy.io.fits.card.Undefined object at 0x2aaad43d6940> [astropy.utils.metadata]\n",
      "WARNING: UnitsWarning: 'nanomaggy' did not parse as fits unit: At col 0, Unit 'nanomaggy' not supported by the FITS standard.  If this is meant to be a custom unit, define it with 'u.def_unit'. To have it recognized inside a file reader or other code, enable it with 'u.add_enabled_units'. For details, see http://docs.astropy.org/en/latest/units/combining_and_defining.html [astropy.units.core]\n",
      "WARNING: UnitsWarning: '1/nanomaggy^2' did not parse as fits unit: Numeric factor not supported by FITS If this is meant to be a custom unit, define it with 'u.def_unit'. To have it recognized inside a file reader or other code, enable it with 'u.add_enabled_units'. For details, see http://docs.astropy.org/en/latest/units/combining_and_defining.html [astropy.units.core]\n"
     ]
    },
    {
     "name": "stdout",
     "output_type": "stream",
     "text": [
      "WARNING:io.py:611:write_targets: qso_selection method not specified for output file\n"
     ]
    },
    {
     "name": "stderr",
     "output_type": "stream",
     "text": [
      "WARNING: MergeConflictWarning: Cannot merge meta key 'DEPNAM00' types <class 'str'> and <class 'str'>, choosing DEPNAM00='desitarget' [astropy.utils.metadata]\n",
      "WARNING: MergeConflictWarning: Cannot merge meta key 'DEPVER00' types <class 'str'> and <class 'str'>, choosing DEPVER00='0.57.1' [astropy.utils.metadata]\n",
      "WARNING: MergeConflictWarning: Cannot merge meta key 'DEPNAM01' types <class 'str'> and <class 'str'>, choosing DEPNAM01='desitarget-git' [astropy.utils.metadata]\n",
      "WARNING: MergeConflictWarning: Cannot merge meta key 'DEPVER01' types <class 'str'> and <class 'str'>, choosing DEPVER01='0.57.1' [astropy.utils.metadata]\n",
      "WARNING: MergeConflictWarning: Cannot merge meta key 'DEPNAM02' types <class 'str'> and <class 'str'>, choosing DEPNAM02='photcat' [astropy.utils.metadata]\n",
      "WARNING: MergeConflictWarning: Cannot merge meta key 'DEPVER02' types <class 'str'> and <class 'str'>, choosing DEPVER02='X' [astropy.utils.metadata]\n",
      "WARNING: MergeConflictWarning: Cannot merge meta key 'DEPNAM03' types <class 'str'> and <class 'str'>, choosing DEPNAM03='tractor-files' [astropy.utils.metadata]\n",
      "WARNING: MergeConflictWarning: Cannot merge meta key 'DEPVER03' types <class 'str'> and <class 'str'>, choosing DEPVER03='/global/cfs/cdirs/desi/survey/ops/surveyops/trunk/mtl/sv3/dark' [astropy.utils.metadata]\n",
      "WARNING: MergeConflictWarning: Cannot merge meta key 'DEPNAM04' types <class 'str'> and <class 'str'>, choosing DEPNAM04='tractor-files-2' [astropy.utils.metadata]\n",
      "WARNING: MergeConflictWarning: Cannot merge meta key 'DEPVER04' types <class 'str'> and <class 'str'>, choosing DEPVER04='/global/cfs/cdirs/desi/target/catalogs/dr9/0.57.0/targets/sv3/resolve/dark' [astropy.utils.metadata]\n",
      "WARNING: MergeConflictWarning: Cannot merge meta key 'DEPNAM05' types <class 'str'> and <class 'str'>, choosing DEPNAM05='qso-selection' [astropy.utils.metadata]\n",
      "WARNING: MergeConflictWarning: Cannot merge meta key 'DEPVER05' types <class 'str'> and <class 'str'>, choosing DEPVER05='unknown' [astropy.utils.metadata]\n",
      "WARNING: MergeConflictWarning: Cannot merge meta key 'DR' types <class 'astropy.io.fits.card.Undefined'> and <class 'astropy.io.fits.card.Undefined'>, choosing DR=<astropy.io.fits.card.Undefined object at 0x2aaad43d6940> [astropy.utils.metadata]\n",
      "WARNING: UnitsWarning: 'nanomaggy' did not parse as fits unit: At col 0, Unit 'nanomaggy' not supported by the FITS standard.  If this is meant to be a custom unit, define it with 'u.def_unit'. To have it recognized inside a file reader or other code, enable it with 'u.add_enabled_units'. For details, see http://docs.astropy.org/en/latest/units/combining_and_defining.html [astropy.units.core]\n",
      "WARNING: UnitsWarning: '1/nanomaggy^2' did not parse as fits unit: Numeric factor not supported by FITS If this is meant to be a custom unit, define it with 'u.def_unit'. To have it recognized inside a file reader or other code, enable it with 'u.add_enabled_units'. For details, see http://docs.astropy.org/en/latest/units/combining_and_defining.html [astropy.units.core]\n"
     ]
    },
    {
     "name": "stdout",
     "output_type": "stream",
     "text": [
      "WARNING:io.py:611:write_targets: qso_selection method not specified for output file\n"
     ]
    },
    {
     "name": "stderr",
     "output_type": "stream",
     "text": [
      "WARNING: MergeConflictWarning: Cannot merge meta key 'DEPNAM00' types <class 'str'> and <class 'str'>, choosing DEPNAM00='desitarget' [astropy.utils.metadata]\n",
      "WARNING: MergeConflictWarning: Cannot merge meta key 'DEPVER00' types <class 'str'> and <class 'str'>, choosing DEPVER00='0.57.1' [astropy.utils.metadata]\n",
      "WARNING: MergeConflictWarning: Cannot merge meta key 'DEPNAM01' types <class 'str'> and <class 'str'>, choosing DEPNAM01='desitarget-git' [astropy.utils.metadata]\n",
      "WARNING: MergeConflictWarning: Cannot merge meta key 'DEPVER01' types <class 'str'> and <class 'str'>, choosing DEPVER01='0.57.1' [astropy.utils.metadata]\n",
      "WARNING: MergeConflictWarning: Cannot merge meta key 'DEPNAM02' types <class 'str'> and <class 'str'>, choosing DEPNAM02='photcat' [astropy.utils.metadata]\n",
      "WARNING: MergeConflictWarning: Cannot merge meta key 'DEPVER02' types <class 'str'> and <class 'str'>, choosing DEPVER02='X' [astropy.utils.metadata]\n",
      "WARNING: MergeConflictWarning: Cannot merge meta key 'DEPNAM03' types <class 'str'> and <class 'str'>, choosing DEPNAM03='tractor-files' [astropy.utils.metadata]\n",
      "WARNING: MergeConflictWarning: Cannot merge meta key 'DEPVER03' types <class 'str'> and <class 'str'>, choosing DEPVER03='/global/cfs/cdirs/desi/survey/ops/surveyops/trunk/mtl/sv3/dark' [astropy.utils.metadata]\n",
      "WARNING: MergeConflictWarning: Cannot merge meta key 'DEPNAM04' types <class 'str'> and <class 'str'>, choosing DEPNAM04='tractor-files-2' [astropy.utils.metadata]\n",
      "WARNING: MergeConflictWarning: Cannot merge meta key 'DEPVER04' types <class 'str'> and <class 'str'>, choosing DEPVER04='/global/cfs/cdirs/desi/target/catalogs/dr9/0.57.0/targets/sv3/resolve/dark' [astropy.utils.metadata]\n",
      "WARNING: MergeConflictWarning: Cannot merge meta key 'DEPNAM05' types <class 'str'> and <class 'str'>, choosing DEPNAM05='qso-selection' [astropy.utils.metadata]\n",
      "WARNING: MergeConflictWarning: Cannot merge meta key 'DEPVER05' types <class 'str'> and <class 'str'>, choosing DEPVER05='unknown' [astropy.utils.metadata]\n",
      "WARNING: MergeConflictWarning: Cannot merge meta key 'DR' types <class 'astropy.io.fits.card.Undefined'> and <class 'astropy.io.fits.card.Undefined'>, choosing DR=<astropy.io.fits.card.Undefined object at 0x2aaad43d6940> [astropy.utils.metadata]\n",
      "WARNING: UnitsWarning: 'nanomaggy' did not parse as fits unit: At col 0, Unit 'nanomaggy' not supported by the FITS standard.  If this is meant to be a custom unit, define it with 'u.def_unit'. To have it recognized inside a file reader or other code, enable it with 'u.add_enabled_units'. For details, see http://docs.astropy.org/en/latest/units/combining_and_defining.html [astropy.units.core]\n",
      "WARNING: UnitsWarning: '1/nanomaggy^2' did not parse as fits unit: Numeric factor not supported by FITS If this is meant to be a custom unit, define it with 'u.def_unit'. To have it recognized inside a file reader or other code, enable it with 'u.add_enabled_units'. For details, see http://docs.astropy.org/en/latest/units/combining_and_defining.html [astropy.units.core]\n"
     ]
    },
    {
     "name": "stdout",
     "output_type": "stream",
     "text": [
      "WARNING:io.py:611:write_targets: qso_selection method not specified for output file\n"
     ]
    },
    {
     "name": "stderr",
     "output_type": "stream",
     "text": [
      "WARNING: MergeConflictWarning: Cannot merge meta key 'DEPNAM00' types <class 'str'> and <class 'str'>, choosing DEPNAM00='desitarget' [astropy.utils.metadata]\n",
      "WARNING: MergeConflictWarning: Cannot merge meta key 'DEPVER00' types <class 'str'> and <class 'str'>, choosing DEPVER00='0.57.1' [astropy.utils.metadata]\n",
      "WARNING: MergeConflictWarning: Cannot merge meta key 'DEPNAM01' types <class 'str'> and <class 'str'>, choosing DEPNAM01='desitarget-git' [astropy.utils.metadata]\n",
      "WARNING: MergeConflictWarning: Cannot merge meta key 'DEPVER01' types <class 'str'> and <class 'str'>, choosing DEPVER01='0.57.1' [astropy.utils.metadata]\n",
      "WARNING: MergeConflictWarning: Cannot merge meta key 'DEPNAM02' types <class 'str'> and <class 'str'>, choosing DEPNAM02='photcat' [astropy.utils.metadata]\n",
      "WARNING: MergeConflictWarning: Cannot merge meta key 'DEPVER02' types <class 'str'> and <class 'str'>, choosing DEPVER02='X' [astropy.utils.metadata]\n",
      "WARNING: MergeConflictWarning: Cannot merge meta key 'DEPNAM03' types <class 'str'> and <class 'str'>, choosing DEPNAM03='tractor-files' [astropy.utils.metadata]\n",
      "WARNING: MergeConflictWarning: Cannot merge meta key 'DEPVER03' types <class 'str'> and <class 'str'>, choosing DEPVER03='/global/cfs/cdirs/desi/survey/ops/surveyops/trunk/mtl/sv3/dark' [astropy.utils.metadata]\n",
      "WARNING: MergeConflictWarning: Cannot merge meta key 'DEPNAM04' types <class 'str'> and <class 'str'>, choosing DEPNAM04='tractor-files-2' [astropy.utils.metadata]\n",
      "WARNING: MergeConflictWarning: Cannot merge meta key 'DEPVER04' types <class 'str'> and <class 'str'>, choosing DEPVER04='/global/cfs/cdirs/desi/target/catalogs/dr9/0.57.0/targets/sv3/resolve/dark' [astropy.utils.metadata]\n",
      "WARNING: MergeConflictWarning: Cannot merge meta key 'DEPNAM05' types <class 'str'> and <class 'str'>, choosing DEPNAM05='qso-selection' [astropy.utils.metadata]\n",
      "WARNING: MergeConflictWarning: Cannot merge meta key 'DEPVER05' types <class 'str'> and <class 'str'>, choosing DEPVER05='unknown' [astropy.utils.metadata]\n",
      "WARNING: MergeConflictWarning: Cannot merge meta key 'DR' types <class 'astropy.io.fits.card.Undefined'> and <class 'astropy.io.fits.card.Undefined'>, choosing DR=<astropy.io.fits.card.Undefined object at 0x2aaad43d6940> [astropy.utils.metadata]\n",
      "WARNING: UnitsWarning: 'nanomaggy' did not parse as fits unit: At col 0, Unit 'nanomaggy' not supported by the FITS standard.  If this is meant to be a custom unit, define it with 'u.def_unit'. To have it recognized inside a file reader or other code, enable it with 'u.add_enabled_units'. For details, see http://docs.astropy.org/en/latest/units/combining_and_defining.html [astropy.units.core]\n",
      "WARNING: UnitsWarning: '1/nanomaggy^2' did not parse as fits unit: Numeric factor not supported by FITS If this is meant to be a custom unit, define it with 'u.def_unit'. To have it recognized inside a file reader or other code, enable it with 'u.add_enabled_units'. For details, see http://docs.astropy.org/en/latest/units/combining_and_defining.html [astropy.units.core]\n"
     ]
    },
    {
     "name": "stdout",
     "output_type": "stream",
     "text": [
      "WARNING:io.py:611:write_targets: qso_selection method not specified for output file\n"
     ]
    },
    {
     "name": "stderr",
     "output_type": "stream",
     "text": [
      "WARNING: MergeConflictWarning: Cannot merge meta key 'DEPNAM00' types <class 'str'> and <class 'str'>, choosing DEPNAM00='desitarget' [astropy.utils.metadata]\n",
      "WARNING: MergeConflictWarning: Cannot merge meta key 'DEPVER00' types <class 'str'> and <class 'str'>, choosing DEPVER00='0.57.1' [astropy.utils.metadata]\n",
      "WARNING: MergeConflictWarning: Cannot merge meta key 'DEPNAM01' types <class 'str'> and <class 'str'>, choosing DEPNAM01='desitarget-git' [astropy.utils.metadata]\n",
      "WARNING: MergeConflictWarning: Cannot merge meta key 'DEPVER01' types <class 'str'> and <class 'str'>, choosing DEPVER01='0.57.1' [astropy.utils.metadata]\n",
      "WARNING: MergeConflictWarning: Cannot merge meta key 'DEPNAM02' types <class 'str'> and <class 'str'>, choosing DEPNAM02='photcat' [astropy.utils.metadata]\n",
      "WARNING: MergeConflictWarning: Cannot merge meta key 'DEPVER02' types <class 'str'> and <class 'str'>, choosing DEPVER02='X' [astropy.utils.metadata]\n",
      "WARNING: MergeConflictWarning: Cannot merge meta key 'DEPNAM03' types <class 'str'> and <class 'str'>, choosing DEPNAM03='tractor-files' [astropy.utils.metadata]\n",
      "WARNING: MergeConflictWarning: Cannot merge meta key 'DEPVER03' types <class 'str'> and <class 'str'>, choosing DEPVER03='/global/cfs/cdirs/desi/survey/ops/surveyops/trunk/mtl/sv3/dark' [astropy.utils.metadata]\n",
      "WARNING: MergeConflictWarning: Cannot merge meta key 'DEPNAM04' types <class 'str'> and <class 'str'>, choosing DEPNAM04='tractor-files-2' [astropy.utils.metadata]\n",
      "WARNING: MergeConflictWarning: Cannot merge meta key 'DEPVER04' types <class 'str'> and <class 'str'>, choosing DEPVER04='/global/cfs/cdirs/desi/target/catalogs/dr9/0.57.0/targets/sv3/resolve/dark' [astropy.utils.metadata]\n",
      "WARNING: MergeConflictWarning: Cannot merge meta key 'DEPNAM05' types <class 'str'> and <class 'str'>, choosing DEPNAM05='qso-selection' [astropy.utils.metadata]\n",
      "WARNING: MergeConflictWarning: Cannot merge meta key 'DEPVER05' types <class 'str'> and <class 'str'>, choosing DEPVER05='unknown' [astropy.utils.metadata]\n",
      "WARNING: MergeConflictWarning: Cannot merge meta key 'DR' types <class 'astropy.io.fits.card.Undefined'> and <class 'astropy.io.fits.card.Undefined'>, choosing DR=<astropy.io.fits.card.Undefined object at 0x2aaad43d6940> [astropy.utils.metadata]\n",
      "WARNING: UnitsWarning: 'nanomaggy' did not parse as fits unit: At col 0, Unit 'nanomaggy' not supported by the FITS standard.  If this is meant to be a custom unit, define it with 'u.def_unit'. To have it recognized inside a file reader or other code, enable it with 'u.add_enabled_units'. For details, see http://docs.astropy.org/en/latest/units/combining_and_defining.html [astropy.units.core]\n",
      "WARNING: UnitsWarning: '1/nanomaggy^2' did not parse as fits unit: Numeric factor not supported by FITS If this is meant to be a custom unit, define it with 'u.def_unit'. To have it recognized inside a file reader or other code, enable it with 'u.add_enabled_units'. For details, see http://docs.astropy.org/en/latest/units/combining_and_defining.html [astropy.units.core]\n"
     ]
    },
    {
     "name": "stdout",
     "output_type": "stream",
     "text": [
      "WARNING:io.py:611:write_targets: qso_selection method not specified for output file\n"
     ]
    },
    {
     "name": "stderr",
     "output_type": "stream",
     "text": [
      "WARNING: MergeConflictWarning: Cannot merge meta key 'DEPNAM00' types <class 'str'> and <class 'str'>, choosing DEPNAM00='desitarget' [astropy.utils.metadata]\n",
      "WARNING: MergeConflictWarning: Cannot merge meta key 'DEPVER00' types <class 'str'> and <class 'str'>, choosing DEPVER00='0.57.1' [astropy.utils.metadata]\n",
      "WARNING: MergeConflictWarning: Cannot merge meta key 'DEPNAM01' types <class 'str'> and <class 'str'>, choosing DEPNAM01='desitarget-git' [astropy.utils.metadata]\n",
      "WARNING: MergeConflictWarning: Cannot merge meta key 'DEPVER01' types <class 'str'> and <class 'str'>, choosing DEPVER01='0.57.1' [astropy.utils.metadata]\n",
      "WARNING: MergeConflictWarning: Cannot merge meta key 'DEPNAM02' types <class 'str'> and <class 'str'>, choosing DEPNAM02='photcat' [astropy.utils.metadata]\n",
      "WARNING: MergeConflictWarning: Cannot merge meta key 'DEPVER02' types <class 'str'> and <class 'str'>, choosing DEPVER02='X' [astropy.utils.metadata]\n",
      "WARNING: MergeConflictWarning: Cannot merge meta key 'DEPNAM03' types <class 'str'> and <class 'str'>, choosing DEPNAM03='tractor-files' [astropy.utils.metadata]\n",
      "WARNING: MergeConflictWarning: Cannot merge meta key 'DEPVER03' types <class 'str'> and <class 'str'>, choosing DEPVER03='/global/cfs/cdirs/desi/survey/ops/surveyops/trunk/mtl/sv3/dark' [astropy.utils.metadata]\n",
      "WARNING: MergeConflictWarning: Cannot merge meta key 'DEPNAM04' types <class 'str'> and <class 'str'>, choosing DEPNAM04='tractor-files-2' [astropy.utils.metadata]\n",
      "WARNING: MergeConflictWarning: Cannot merge meta key 'DEPVER04' types <class 'str'> and <class 'str'>, choosing DEPVER04='/global/cfs/cdirs/desi/target/catalogs/dr9/0.57.0/targets/sv3/resolve/dark' [astropy.utils.metadata]\n",
      "WARNING: MergeConflictWarning: Cannot merge meta key 'DEPNAM05' types <class 'str'> and <class 'str'>, choosing DEPNAM05='qso-selection' [astropy.utils.metadata]\n",
      "WARNING: MergeConflictWarning: Cannot merge meta key 'DEPVER05' types <class 'str'> and <class 'str'>, choosing DEPVER05='unknown' [astropy.utils.metadata]\n",
      "WARNING: MergeConflictWarning: Cannot merge meta key 'DR' types <class 'astropy.io.fits.card.Undefined'> and <class 'astropy.io.fits.card.Undefined'>, choosing DR=<astropy.io.fits.card.Undefined object at 0x2aaad43d6940> [astropy.utils.metadata]\n",
      "WARNING: UnitsWarning: 'nanomaggy' did not parse as fits unit: At col 0, Unit 'nanomaggy' not supported by the FITS standard.  If this is meant to be a custom unit, define it with 'u.def_unit'. To have it recognized inside a file reader or other code, enable it with 'u.add_enabled_units'. For details, see http://docs.astropy.org/en/latest/units/combining_and_defining.html [astropy.units.core]\n",
      "WARNING: UnitsWarning: '1/nanomaggy^2' did not parse as fits unit: Numeric factor not supported by FITS If this is meant to be a custom unit, define it with 'u.def_unit'. To have it recognized inside a file reader or other code, enable it with 'u.add_enabled_units'. For details, see http://docs.astropy.org/en/latest/units/combining_and_defining.html [astropy.units.core]\n"
     ]
    },
    {
     "name": "stdout",
     "output_type": "stream",
     "text": [
      "WARNING:io.py:611:write_targets: qso_selection method not specified for output file\n"
     ]
    },
    {
     "name": "stderr",
     "output_type": "stream",
     "text": [
      "WARNING: MergeConflictWarning: Cannot merge meta key 'DEPNAM00' types <class 'str'> and <class 'str'>, choosing DEPNAM00='desitarget' [astropy.utils.metadata]\n",
      "WARNING: MergeConflictWarning: Cannot merge meta key 'DEPVER00' types <class 'str'> and <class 'str'>, choosing DEPVER00='0.57.1' [astropy.utils.metadata]\n",
      "WARNING: MergeConflictWarning: Cannot merge meta key 'DEPNAM01' types <class 'str'> and <class 'str'>, choosing DEPNAM01='desitarget-git' [astropy.utils.metadata]\n",
      "WARNING: MergeConflictWarning: Cannot merge meta key 'DEPVER01' types <class 'str'> and <class 'str'>, choosing DEPVER01='0.57.1' [astropy.utils.metadata]\n",
      "WARNING: MergeConflictWarning: Cannot merge meta key 'DEPNAM02' types <class 'str'> and <class 'str'>, choosing DEPNAM02='photcat' [astropy.utils.metadata]\n",
      "WARNING: MergeConflictWarning: Cannot merge meta key 'DEPVER02' types <class 'str'> and <class 'str'>, choosing DEPVER02='X' [astropy.utils.metadata]\n",
      "WARNING: MergeConflictWarning: Cannot merge meta key 'DEPNAM03' types <class 'str'> and <class 'str'>, choosing DEPNAM03='tractor-files' [astropy.utils.metadata]\n",
      "WARNING: MergeConflictWarning: Cannot merge meta key 'DEPVER03' types <class 'str'> and <class 'str'>, choosing DEPVER03='/global/cfs/cdirs/desi/survey/ops/surveyops/trunk/mtl/sv3/dark' [astropy.utils.metadata]\n",
      "WARNING: MergeConflictWarning: Cannot merge meta key 'DEPNAM04' types <class 'str'> and <class 'str'>, choosing DEPNAM04='tractor-files-2' [astropy.utils.metadata]\n",
      "WARNING: MergeConflictWarning: Cannot merge meta key 'DEPVER04' types <class 'str'> and <class 'str'>, choosing DEPVER04='/global/cfs/cdirs/desi/target/catalogs/dr9/0.57.0/targets/sv3/resolve/dark' [astropy.utils.metadata]\n",
      "WARNING: MergeConflictWarning: Cannot merge meta key 'DEPNAM05' types <class 'str'> and <class 'str'>, choosing DEPNAM05='qso-selection' [astropy.utils.metadata]\n",
      "WARNING: MergeConflictWarning: Cannot merge meta key 'DEPVER05' types <class 'str'> and <class 'str'>, choosing DEPVER05='unknown' [astropy.utils.metadata]\n",
      "WARNING: MergeConflictWarning: Cannot merge meta key 'DR' types <class 'astropy.io.fits.card.Undefined'> and <class 'astropy.io.fits.card.Undefined'>, choosing DR=<astropy.io.fits.card.Undefined object at 0x2aaad43d6940> [astropy.utils.metadata]\n",
      "WARNING: UnitsWarning: 'nanomaggy' did not parse as fits unit: At col 0, Unit 'nanomaggy' not supported by the FITS standard.  If this is meant to be a custom unit, define it with 'u.def_unit'. To have it recognized inside a file reader or other code, enable it with 'u.add_enabled_units'. For details, see http://docs.astropy.org/en/latest/units/combining_and_defining.html [astropy.units.core]\n",
      "WARNING: UnitsWarning: '1/nanomaggy^2' did not parse as fits unit: Numeric factor not supported by FITS If this is meant to be a custom unit, define it with 'u.def_unit'. To have it recognized inside a file reader or other code, enable it with 'u.add_enabled_units'. For details, see http://docs.astropy.org/en/latest/units/combining_and_defining.html [astropy.units.core]\n"
     ]
    },
    {
     "name": "stdout",
     "output_type": "stream",
     "text": [
      "WARNING:io.py:611:write_targets: qso_selection method not specified for output file\n"
     ]
    },
    {
     "name": "stderr",
     "output_type": "stream",
     "text": [
      "WARNING: MergeConflictWarning: Cannot merge meta key 'DEPNAM00' types <class 'str'> and <class 'str'>, choosing DEPNAM00='desitarget' [astropy.utils.metadata]\n",
      "WARNING: MergeConflictWarning: Cannot merge meta key 'DEPVER00' types <class 'str'> and <class 'str'>, choosing DEPVER00='0.57.1' [astropy.utils.metadata]\n",
      "WARNING: MergeConflictWarning: Cannot merge meta key 'DEPNAM01' types <class 'str'> and <class 'str'>, choosing DEPNAM01='desitarget-git' [astropy.utils.metadata]\n",
      "WARNING: MergeConflictWarning: Cannot merge meta key 'DEPVER01' types <class 'str'> and <class 'str'>, choosing DEPVER01='0.57.1' [astropy.utils.metadata]\n",
      "WARNING: MergeConflictWarning: Cannot merge meta key 'DEPNAM02' types <class 'str'> and <class 'str'>, choosing DEPNAM02='photcat' [astropy.utils.metadata]\n",
      "WARNING: MergeConflictWarning: Cannot merge meta key 'DEPVER02' types <class 'str'> and <class 'str'>, choosing DEPVER02='X' [astropy.utils.metadata]\n",
      "WARNING: MergeConflictWarning: Cannot merge meta key 'DEPNAM03' types <class 'str'> and <class 'str'>, choosing DEPNAM03='tractor-files' [astropy.utils.metadata]\n",
      "WARNING: MergeConflictWarning: Cannot merge meta key 'DEPVER03' types <class 'str'> and <class 'str'>, choosing DEPVER03='/global/cfs/cdirs/desi/survey/ops/surveyops/trunk/mtl/sv3/dark' [astropy.utils.metadata]\n",
      "WARNING: MergeConflictWarning: Cannot merge meta key 'DEPNAM04' types <class 'str'> and <class 'str'>, choosing DEPNAM04='tractor-files-2' [astropy.utils.metadata]\n",
      "WARNING: MergeConflictWarning: Cannot merge meta key 'DEPVER04' types <class 'str'> and <class 'str'>, choosing DEPVER04='/global/cfs/cdirs/desi/target/catalogs/dr9/0.57.0/targets/sv3/resolve/dark' [astropy.utils.metadata]\n",
      "WARNING: MergeConflictWarning: Cannot merge meta key 'DEPNAM05' types <class 'str'> and <class 'str'>, choosing DEPNAM05='qso-selection' [astropy.utils.metadata]\n",
      "WARNING: MergeConflictWarning: Cannot merge meta key 'DEPVER05' types <class 'str'> and <class 'str'>, choosing DEPVER05='unknown' [astropy.utils.metadata]\n",
      "WARNING: MergeConflictWarning: Cannot merge meta key 'DR' types <class 'astropy.io.fits.card.Undefined'> and <class 'astropy.io.fits.card.Undefined'>, choosing DR=<astropy.io.fits.card.Undefined object at 0x2aaad43d6940> [astropy.utils.metadata]\n",
      "WARNING: UnitsWarning: 'nanomaggy' did not parse as fits unit: At col 0, Unit 'nanomaggy' not supported by the FITS standard.  If this is meant to be a custom unit, define it with 'u.def_unit'. To have it recognized inside a file reader or other code, enable it with 'u.add_enabled_units'. For details, see http://docs.astropy.org/en/latest/units/combining_and_defining.html [astropy.units.core]\n",
      "WARNING: UnitsWarning: '1/nanomaggy^2' did not parse as fits unit: Numeric factor not supported by FITS If this is meant to be a custom unit, define it with 'u.def_unit'. To have it recognized inside a file reader or other code, enable it with 'u.add_enabled_units'. For details, see http://docs.astropy.org/en/latest/units/combining_and_defining.html [astropy.units.core]\n"
     ]
    },
    {
     "name": "stdout",
     "output_type": "stream",
     "text": [
      "WARNING:io.py:611:write_targets: qso_selection method not specified for output file\n"
     ]
    },
    {
     "name": "stderr",
     "output_type": "stream",
     "text": [
      "WARNING: MergeConflictWarning: Cannot merge meta key 'DEPNAM00' types <class 'str'> and <class 'str'>, choosing DEPNAM00='desitarget' [astropy.utils.metadata]\n",
      "WARNING: MergeConflictWarning: Cannot merge meta key 'DEPVER00' types <class 'str'> and <class 'str'>, choosing DEPVER00='0.57.1' [astropy.utils.metadata]\n",
      "WARNING: MergeConflictWarning: Cannot merge meta key 'DEPNAM01' types <class 'str'> and <class 'str'>, choosing DEPNAM01='desitarget-git' [astropy.utils.metadata]\n",
      "WARNING: MergeConflictWarning: Cannot merge meta key 'DEPVER01' types <class 'str'> and <class 'str'>, choosing DEPVER01='0.57.1' [astropy.utils.metadata]\n",
      "WARNING: MergeConflictWarning: Cannot merge meta key 'DEPNAM02' types <class 'str'> and <class 'str'>, choosing DEPNAM02='photcat' [astropy.utils.metadata]\n",
      "WARNING: MergeConflictWarning: Cannot merge meta key 'DEPVER02' types <class 'str'> and <class 'str'>, choosing DEPVER02='X' [astropy.utils.metadata]\n",
      "WARNING: MergeConflictWarning: Cannot merge meta key 'DEPNAM03' types <class 'str'> and <class 'str'>, choosing DEPNAM03='tractor-files' [astropy.utils.metadata]\n",
      "WARNING: MergeConflictWarning: Cannot merge meta key 'DEPVER03' types <class 'str'> and <class 'str'>, choosing DEPVER03='/global/cfs/cdirs/desi/survey/ops/surveyops/trunk/mtl/sv3/dark' [astropy.utils.metadata]\n",
      "WARNING: MergeConflictWarning: Cannot merge meta key 'DEPNAM04' types <class 'str'> and <class 'str'>, choosing DEPNAM04='tractor-files-2' [astropy.utils.metadata]\n",
      "WARNING: MergeConflictWarning: Cannot merge meta key 'DEPVER04' types <class 'str'> and <class 'str'>, choosing DEPVER04='/global/cfs/cdirs/desi/target/catalogs/dr9/0.57.0/targets/sv3/resolve/dark' [astropy.utils.metadata]\n",
      "WARNING: MergeConflictWarning: Cannot merge meta key 'DEPNAM05' types <class 'str'> and <class 'str'>, choosing DEPNAM05='qso-selection' [astropy.utils.metadata]\n",
      "WARNING: MergeConflictWarning: Cannot merge meta key 'DEPVER05' types <class 'str'> and <class 'str'>, choosing DEPVER05='unknown' [astropy.utils.metadata]\n",
      "WARNING: MergeConflictWarning: Cannot merge meta key 'DR' types <class 'astropy.io.fits.card.Undefined'> and <class 'astropy.io.fits.card.Undefined'>, choosing DR=<astropy.io.fits.card.Undefined object at 0x2aaad43d6940> [astropy.utils.metadata]\n",
      "WARNING: UnitsWarning: 'nanomaggy' did not parse as fits unit: At col 0, Unit 'nanomaggy' not supported by the FITS standard.  If this is meant to be a custom unit, define it with 'u.def_unit'. To have it recognized inside a file reader or other code, enable it with 'u.add_enabled_units'. For details, see http://docs.astropy.org/en/latest/units/combining_and_defining.html [astropy.units.core]\n",
      "WARNING: UnitsWarning: '1/nanomaggy^2' did not parse as fits unit: Numeric factor not supported by FITS If this is meant to be a custom unit, define it with 'u.def_unit'. To have it recognized inside a file reader or other code, enable it with 'u.add_enabled_units'. For details, see http://docs.astropy.org/en/latest/units/combining_and_defining.html [astropy.units.core]\n"
     ]
    },
    {
     "name": "stdout",
     "output_type": "stream",
     "text": [
      "WARNING:io.py:611:write_targets: qso_selection method not specified for output file\n"
     ]
    },
    {
     "name": "stderr",
     "output_type": "stream",
     "text": [
      "WARNING: MergeConflictWarning: Cannot merge meta key 'DEPNAM00' types <class 'str'> and <class 'str'>, choosing DEPNAM00='desitarget' [astropy.utils.metadata]\n",
      "WARNING: MergeConflictWarning: Cannot merge meta key 'DEPVER00' types <class 'str'> and <class 'str'>, choosing DEPVER00='0.57.1' [astropy.utils.metadata]\n",
      "WARNING: MergeConflictWarning: Cannot merge meta key 'DEPNAM01' types <class 'str'> and <class 'str'>, choosing DEPNAM01='desitarget-git' [astropy.utils.metadata]\n",
      "WARNING: MergeConflictWarning: Cannot merge meta key 'DEPVER01' types <class 'str'> and <class 'str'>, choosing DEPVER01='0.57.1' [astropy.utils.metadata]\n",
      "WARNING: MergeConflictWarning: Cannot merge meta key 'DEPNAM02' types <class 'str'> and <class 'str'>, choosing DEPNAM02='photcat' [astropy.utils.metadata]\n",
      "WARNING: MergeConflictWarning: Cannot merge meta key 'DEPVER02' types <class 'str'> and <class 'str'>, choosing DEPVER02='X' [astropy.utils.metadata]\n",
      "WARNING: MergeConflictWarning: Cannot merge meta key 'DEPNAM03' types <class 'str'> and <class 'str'>, choosing DEPNAM03='tractor-files' [astropy.utils.metadata]\n",
      "WARNING: MergeConflictWarning: Cannot merge meta key 'DEPVER03' types <class 'str'> and <class 'str'>, choosing DEPVER03='/global/cfs/cdirs/desi/survey/ops/surveyops/trunk/mtl/sv3/dark' [astropy.utils.metadata]\n",
      "WARNING: MergeConflictWarning: Cannot merge meta key 'DEPNAM04' types <class 'str'> and <class 'str'>, choosing DEPNAM04='tractor-files-2' [astropy.utils.metadata]\n",
      "WARNING: MergeConflictWarning: Cannot merge meta key 'DEPVER04' types <class 'str'> and <class 'str'>, choosing DEPVER04='/global/cfs/cdirs/desi/target/catalogs/dr9/0.57.0/targets/sv3/resolve/dark' [astropy.utils.metadata]\n",
      "WARNING: MergeConflictWarning: Cannot merge meta key 'DEPNAM05' types <class 'str'> and <class 'str'>, choosing DEPNAM05='qso-selection' [astropy.utils.metadata]\n",
      "WARNING: MergeConflictWarning: Cannot merge meta key 'DEPVER05' types <class 'str'> and <class 'str'>, choosing DEPVER05='unknown' [astropy.utils.metadata]\n",
      "WARNING: MergeConflictWarning: Cannot merge meta key 'DR' types <class 'astropy.io.fits.card.Undefined'> and <class 'astropy.io.fits.card.Undefined'>, choosing DR=<astropy.io.fits.card.Undefined object at 0x2aaad43d6940> [astropy.utils.metadata]\n",
      "WARNING: UnitsWarning: 'nanomaggy' did not parse as fits unit: At col 0, Unit 'nanomaggy' not supported by the FITS standard.  If this is meant to be a custom unit, define it with 'u.def_unit'. To have it recognized inside a file reader or other code, enable it with 'u.add_enabled_units'. For details, see http://docs.astropy.org/en/latest/units/combining_and_defining.html [astropy.units.core]\n",
      "WARNING: UnitsWarning: '1/nanomaggy^2' did not parse as fits unit: Numeric factor not supported by FITS If this is meant to be a custom unit, define it with 'u.def_unit'. To have it recognized inside a file reader or other code, enable it with 'u.add_enabled_units'. For details, see http://docs.astropy.org/en/latest/units/combining_and_defining.html [astropy.units.core]\n"
     ]
    },
    {
     "name": "stdout",
     "output_type": "stream",
     "text": [
      "WARNING:io.py:611:write_targets: qso_selection method not specified for output file\n"
     ]
    },
    {
     "name": "stderr",
     "output_type": "stream",
     "text": [
      "WARNING: MergeConflictWarning: Cannot merge meta key 'DEPNAM00' types <class 'str'> and <class 'str'>, choosing DEPNAM00='desitarget' [astropy.utils.metadata]\n",
      "WARNING: MergeConflictWarning: Cannot merge meta key 'DEPVER00' types <class 'str'> and <class 'str'>, choosing DEPVER00='0.57.1' [astropy.utils.metadata]\n",
      "WARNING: MergeConflictWarning: Cannot merge meta key 'DEPNAM01' types <class 'str'> and <class 'str'>, choosing DEPNAM01='desitarget-git' [astropy.utils.metadata]\n",
      "WARNING: MergeConflictWarning: Cannot merge meta key 'DEPVER01' types <class 'str'> and <class 'str'>, choosing DEPVER01='0.57.1' [astropy.utils.metadata]\n",
      "WARNING: MergeConflictWarning: Cannot merge meta key 'DEPNAM02' types <class 'str'> and <class 'str'>, choosing DEPNAM02='photcat' [astropy.utils.metadata]\n",
      "WARNING: MergeConflictWarning: Cannot merge meta key 'DEPVER02' types <class 'str'> and <class 'str'>, choosing DEPVER02='X' [astropy.utils.metadata]\n",
      "WARNING: MergeConflictWarning: Cannot merge meta key 'DEPNAM03' types <class 'str'> and <class 'str'>, choosing DEPNAM03='tractor-files' [astropy.utils.metadata]\n",
      "WARNING: MergeConflictWarning: Cannot merge meta key 'DEPVER03' types <class 'str'> and <class 'str'>, choosing DEPVER03='/global/cfs/cdirs/desi/survey/ops/surveyops/trunk/mtl/sv3/dark' [astropy.utils.metadata]\n",
      "WARNING: MergeConflictWarning: Cannot merge meta key 'DEPNAM04' types <class 'str'> and <class 'str'>, choosing DEPNAM04='tractor-files-2' [astropy.utils.metadata]\n",
      "WARNING: MergeConflictWarning: Cannot merge meta key 'DEPVER04' types <class 'str'> and <class 'str'>, choosing DEPVER04='/global/cfs/cdirs/desi/target/catalogs/dr9/0.57.0/targets/sv3/resolve/dark' [astropy.utils.metadata]\n",
      "WARNING: MergeConflictWarning: Cannot merge meta key 'DEPNAM05' types <class 'str'> and <class 'str'>, choosing DEPNAM05='qso-selection' [astropy.utils.metadata]\n",
      "WARNING: MergeConflictWarning: Cannot merge meta key 'DEPVER05' types <class 'str'> and <class 'str'>, choosing DEPVER05='unknown' [astropy.utils.metadata]\n",
      "WARNING: MergeConflictWarning: Cannot merge meta key 'DR' types <class 'astropy.io.fits.card.Undefined'> and <class 'astropy.io.fits.card.Undefined'>, choosing DR=<astropy.io.fits.card.Undefined object at 0x2aaad43d6940> [astropy.utils.metadata]\n",
      "WARNING: UnitsWarning: 'nanomaggy' did not parse as fits unit: At col 0, Unit 'nanomaggy' not supported by the FITS standard.  If this is meant to be a custom unit, define it with 'u.def_unit'. To have it recognized inside a file reader or other code, enable it with 'u.add_enabled_units'. For details, see http://docs.astropy.org/en/latest/units/combining_and_defining.html [astropy.units.core]\n",
      "WARNING: UnitsWarning: '1/nanomaggy^2' did not parse as fits unit: Numeric factor not supported by FITS If this is meant to be a custom unit, define it with 'u.def_unit'. To have it recognized inside a file reader or other code, enable it with 'u.add_enabled_units'. For details, see http://docs.astropy.org/en/latest/units/combining_and_defining.html [astropy.units.core]\n"
     ]
    },
    {
     "name": "stdout",
     "output_type": "stream",
     "text": [
      "WARNING:io.py:611:write_targets: qso_selection method not specified for output file\n"
     ]
    },
    {
     "name": "stderr",
     "output_type": "stream",
     "text": [
      "WARNING: MergeConflictWarning: Cannot merge meta key 'DEPNAM00' types <class 'str'> and <class 'str'>, choosing DEPNAM00='desitarget' [astropy.utils.metadata]\n",
      "WARNING: MergeConflictWarning: Cannot merge meta key 'DEPVER00' types <class 'str'> and <class 'str'>, choosing DEPVER00='0.57.1' [astropy.utils.metadata]\n",
      "WARNING: MergeConflictWarning: Cannot merge meta key 'DEPNAM01' types <class 'str'> and <class 'str'>, choosing DEPNAM01='desitarget-git' [astropy.utils.metadata]\n",
      "WARNING: MergeConflictWarning: Cannot merge meta key 'DEPVER01' types <class 'str'> and <class 'str'>, choosing DEPVER01='0.57.1' [astropy.utils.metadata]\n",
      "WARNING: MergeConflictWarning: Cannot merge meta key 'DEPNAM02' types <class 'str'> and <class 'str'>, choosing DEPNAM02='photcat' [astropy.utils.metadata]\n",
      "WARNING: MergeConflictWarning: Cannot merge meta key 'DEPVER02' types <class 'str'> and <class 'str'>, choosing DEPVER02='X' [astropy.utils.metadata]\n",
      "WARNING: MergeConflictWarning: Cannot merge meta key 'DEPNAM03' types <class 'str'> and <class 'str'>, choosing DEPNAM03='tractor-files' [astropy.utils.metadata]\n",
      "WARNING: MergeConflictWarning: Cannot merge meta key 'DEPVER03' types <class 'str'> and <class 'str'>, choosing DEPVER03='/global/cfs/cdirs/desi/survey/ops/surveyops/trunk/mtl/sv3/dark' [astropy.utils.metadata]\n",
      "WARNING: MergeConflictWarning: Cannot merge meta key 'DEPNAM04' types <class 'str'> and <class 'str'>, choosing DEPNAM04='tractor-files-2' [astropy.utils.metadata]\n",
      "WARNING: MergeConflictWarning: Cannot merge meta key 'DEPVER04' types <class 'str'> and <class 'str'>, choosing DEPVER04='/global/cfs/cdirs/desi/target/catalogs/dr9/0.57.0/targets/sv3/resolve/dark' [astropy.utils.metadata]\n",
      "WARNING: MergeConflictWarning: Cannot merge meta key 'DEPNAM05' types <class 'str'> and <class 'str'>, choosing DEPNAM05='qso-selection' [astropy.utils.metadata]\n",
      "WARNING: MergeConflictWarning: Cannot merge meta key 'DEPVER05' types <class 'str'> and <class 'str'>, choosing DEPVER05='unknown' [astropy.utils.metadata]\n",
      "WARNING: MergeConflictWarning: Cannot merge meta key 'DR' types <class 'astropy.io.fits.card.Undefined'> and <class 'astropy.io.fits.card.Undefined'>, choosing DR=<astropy.io.fits.card.Undefined object at 0x2aaad43d6940> [astropy.utils.metadata]\n",
      "WARNING: UnitsWarning: 'nanomaggy' did not parse as fits unit: At col 0, Unit 'nanomaggy' not supported by the FITS standard.  If this is meant to be a custom unit, define it with 'u.def_unit'. To have it recognized inside a file reader or other code, enable it with 'u.add_enabled_units'. For details, see http://docs.astropy.org/en/latest/units/combining_and_defining.html [astropy.units.core]\n",
      "WARNING: UnitsWarning: '1/nanomaggy^2' did not parse as fits unit: Numeric factor not supported by FITS If this is meant to be a custom unit, define it with 'u.def_unit'. To have it recognized inside a file reader or other code, enable it with 'u.add_enabled_units'. For details, see http://docs.astropy.org/en/latest/units/combining_and_defining.html [astropy.units.core]\n"
     ]
    },
    {
     "name": "stdout",
     "output_type": "stream",
     "text": [
      "WARNING:io.py:611:write_targets: qso_selection method not specified for output file\n"
     ]
    },
    {
     "name": "stderr",
     "output_type": "stream",
     "text": [
      "WARNING: MergeConflictWarning: Cannot merge meta key 'DEPNAM00' types <class 'str'> and <class 'str'>, choosing DEPNAM00='desitarget' [astropy.utils.metadata]\n",
      "WARNING: MergeConflictWarning: Cannot merge meta key 'DEPVER00' types <class 'str'> and <class 'str'>, choosing DEPVER00='0.57.1' [astropy.utils.metadata]\n",
      "WARNING: MergeConflictWarning: Cannot merge meta key 'DEPNAM01' types <class 'str'> and <class 'str'>, choosing DEPNAM01='desitarget-git' [astropy.utils.metadata]\n",
      "WARNING: MergeConflictWarning: Cannot merge meta key 'DEPVER01' types <class 'str'> and <class 'str'>, choosing DEPVER01='0.57.1' [astropy.utils.metadata]\n",
      "WARNING: MergeConflictWarning: Cannot merge meta key 'DEPNAM02' types <class 'str'> and <class 'str'>, choosing DEPNAM02='photcat' [astropy.utils.metadata]\n",
      "WARNING: MergeConflictWarning: Cannot merge meta key 'DEPVER02' types <class 'str'> and <class 'str'>, choosing DEPVER02='X' [astropy.utils.metadata]\n",
      "WARNING: MergeConflictWarning: Cannot merge meta key 'DEPNAM03' types <class 'str'> and <class 'str'>, choosing DEPNAM03='tractor-files' [astropy.utils.metadata]\n",
      "WARNING: MergeConflictWarning: Cannot merge meta key 'DEPVER03' types <class 'str'> and <class 'str'>, choosing DEPVER03='/global/cfs/cdirs/desi/survey/ops/surveyops/trunk/mtl/sv3/dark' [astropy.utils.metadata]\n",
      "WARNING: MergeConflictWarning: Cannot merge meta key 'DEPNAM04' types <class 'str'> and <class 'str'>, choosing DEPNAM04='tractor-files-2' [astropy.utils.metadata]\n",
      "WARNING: MergeConflictWarning: Cannot merge meta key 'DEPVER04' types <class 'str'> and <class 'str'>, choosing DEPVER04='/global/cfs/cdirs/desi/target/catalogs/dr9/0.57.0/targets/sv3/resolve/dark' [astropy.utils.metadata]\n",
      "WARNING: MergeConflictWarning: Cannot merge meta key 'DEPNAM05' types <class 'str'> and <class 'str'>, choosing DEPNAM05='qso-selection' [astropy.utils.metadata]\n",
      "WARNING: MergeConflictWarning: Cannot merge meta key 'DEPVER05' types <class 'str'> and <class 'str'>, choosing DEPVER05='unknown' [astropy.utils.metadata]\n",
      "WARNING: MergeConflictWarning: Cannot merge meta key 'DR' types <class 'astropy.io.fits.card.Undefined'> and <class 'astropy.io.fits.card.Undefined'>, choosing DR=<astropy.io.fits.card.Undefined object at 0x2aaad43d6940> [astropy.utils.metadata]\n",
      "WARNING: UnitsWarning: 'nanomaggy' did not parse as fits unit: At col 0, Unit 'nanomaggy' not supported by the FITS standard.  If this is meant to be a custom unit, define it with 'u.def_unit'. To have it recognized inside a file reader or other code, enable it with 'u.add_enabled_units'. For details, see http://docs.astropy.org/en/latest/units/combining_and_defining.html [astropy.units.core]\n",
      "WARNING: UnitsWarning: '1/nanomaggy^2' did not parse as fits unit: Numeric factor not supported by FITS If this is meant to be a custom unit, define it with 'u.def_unit'. To have it recognized inside a file reader or other code, enable it with 'u.add_enabled_units'. For details, see http://docs.astropy.org/en/latest/units/combining_and_defining.html [astropy.units.core]\n"
     ]
    },
    {
     "name": "stdout",
     "output_type": "stream",
     "text": [
      "WARNING:io.py:611:write_targets: qso_selection method not specified for output file\n"
     ]
    },
    {
     "name": "stderr",
     "output_type": "stream",
     "text": [
      "WARNING: MergeConflictWarning: Cannot merge meta key 'DEPNAM00' types <class 'str'> and <class 'str'>, choosing DEPNAM00='desitarget' [astropy.utils.metadata]\n",
      "WARNING: MergeConflictWarning: Cannot merge meta key 'DEPVER00' types <class 'str'> and <class 'str'>, choosing DEPVER00='0.57.1' [astropy.utils.metadata]\n",
      "WARNING: MergeConflictWarning: Cannot merge meta key 'DEPNAM01' types <class 'str'> and <class 'str'>, choosing DEPNAM01='desitarget-git' [astropy.utils.metadata]\n",
      "WARNING: MergeConflictWarning: Cannot merge meta key 'DEPVER01' types <class 'str'> and <class 'str'>, choosing DEPVER01='0.57.1' [astropy.utils.metadata]\n",
      "WARNING: MergeConflictWarning: Cannot merge meta key 'DEPNAM02' types <class 'str'> and <class 'str'>, choosing DEPNAM02='photcat' [astropy.utils.metadata]\n",
      "WARNING: MergeConflictWarning: Cannot merge meta key 'DEPVER02' types <class 'str'> and <class 'str'>, choosing DEPVER02='X' [astropy.utils.metadata]\n",
      "WARNING: MergeConflictWarning: Cannot merge meta key 'DEPNAM03' types <class 'str'> and <class 'str'>, choosing DEPNAM03='tractor-files' [astropy.utils.metadata]\n",
      "WARNING: MergeConflictWarning: Cannot merge meta key 'DEPVER03' types <class 'str'> and <class 'str'>, choosing DEPVER03='/global/cfs/cdirs/desi/survey/ops/surveyops/trunk/mtl/sv3/dark' [astropy.utils.metadata]\n",
      "WARNING: MergeConflictWarning: Cannot merge meta key 'DEPNAM04' types <class 'str'> and <class 'str'>, choosing DEPNAM04='tractor-files-2' [astropy.utils.metadata]\n",
      "WARNING: MergeConflictWarning: Cannot merge meta key 'DEPVER04' types <class 'str'> and <class 'str'>, choosing DEPVER04='/global/cfs/cdirs/desi/target/catalogs/dr9/0.57.0/targets/sv3/resolve/dark' [astropy.utils.metadata]\n",
      "WARNING: MergeConflictWarning: Cannot merge meta key 'DEPNAM05' types <class 'str'> and <class 'str'>, choosing DEPNAM05='qso-selection' [astropy.utils.metadata]\n",
      "WARNING: MergeConflictWarning: Cannot merge meta key 'DEPVER05' types <class 'str'> and <class 'str'>, choosing DEPVER05='unknown' [astropy.utils.metadata]\n",
      "WARNING: MergeConflictWarning: Cannot merge meta key 'DR' types <class 'astropy.io.fits.card.Undefined'> and <class 'astropy.io.fits.card.Undefined'>, choosing DR=<astropy.io.fits.card.Undefined object at 0x2aaad43d6940> [astropy.utils.metadata]\n",
      "WARNING: UnitsWarning: 'nanomaggy' did not parse as fits unit: At col 0, Unit 'nanomaggy' not supported by the FITS standard.  If this is meant to be a custom unit, define it with 'u.def_unit'. To have it recognized inside a file reader or other code, enable it with 'u.add_enabled_units'. For details, see http://docs.astropy.org/en/latest/units/combining_and_defining.html [astropy.units.core]\n",
      "WARNING: UnitsWarning: '1/nanomaggy^2' did not parse as fits unit: Numeric factor not supported by FITS If this is meant to be a custom unit, define it with 'u.def_unit'. To have it recognized inside a file reader or other code, enable it with 'u.add_enabled_units'. For details, see http://docs.astropy.org/en/latest/units/combining_and_defining.html [astropy.units.core]\n"
     ]
    },
    {
     "name": "stdout",
     "output_type": "stream",
     "text": [
      "WARNING:io.py:611:write_targets: qso_selection method not specified for output file\n"
     ]
    },
    {
     "name": "stderr",
     "output_type": "stream",
     "text": [
      "WARNING: MergeConflictWarning: Cannot merge meta key 'DEPNAM00' types <class 'str'> and <class 'str'>, choosing DEPNAM00='desitarget' [astropy.utils.metadata]\n",
      "WARNING: MergeConflictWarning: Cannot merge meta key 'DEPVER00' types <class 'str'> and <class 'str'>, choosing DEPVER00='0.57.1' [astropy.utils.metadata]\n",
      "WARNING: MergeConflictWarning: Cannot merge meta key 'DEPNAM01' types <class 'str'> and <class 'str'>, choosing DEPNAM01='desitarget-git' [astropy.utils.metadata]\n",
      "WARNING: MergeConflictWarning: Cannot merge meta key 'DEPVER01' types <class 'str'> and <class 'str'>, choosing DEPVER01='0.57.1' [astropy.utils.metadata]\n",
      "WARNING: MergeConflictWarning: Cannot merge meta key 'DEPNAM02' types <class 'str'> and <class 'str'>, choosing DEPNAM02='photcat' [astropy.utils.metadata]\n",
      "WARNING: MergeConflictWarning: Cannot merge meta key 'DEPVER02' types <class 'str'> and <class 'str'>, choosing DEPVER02='X' [astropy.utils.metadata]\n",
      "WARNING: MergeConflictWarning: Cannot merge meta key 'DEPNAM03' types <class 'str'> and <class 'str'>, choosing DEPNAM03='tractor-files' [astropy.utils.metadata]\n",
      "WARNING: MergeConflictWarning: Cannot merge meta key 'DEPVER03' types <class 'str'> and <class 'str'>, choosing DEPVER03='/global/cfs/cdirs/desi/survey/ops/surveyops/trunk/mtl/sv3/dark' [astropy.utils.metadata]\n",
      "WARNING: MergeConflictWarning: Cannot merge meta key 'DEPNAM04' types <class 'str'> and <class 'str'>, choosing DEPNAM04='tractor-files-2' [astropy.utils.metadata]\n",
      "WARNING: MergeConflictWarning: Cannot merge meta key 'DEPVER04' types <class 'str'> and <class 'str'>, choosing DEPVER04='/global/cfs/cdirs/desi/target/catalogs/dr9/0.57.0/targets/sv3/resolve/dark' [astropy.utils.metadata]\n",
      "WARNING: MergeConflictWarning: Cannot merge meta key 'DEPNAM05' types <class 'str'> and <class 'str'>, choosing DEPNAM05='qso-selection' [astropy.utils.metadata]\n",
      "WARNING: MergeConflictWarning: Cannot merge meta key 'DEPVER05' types <class 'str'> and <class 'str'>, choosing DEPVER05='unknown' [astropy.utils.metadata]\n",
      "WARNING: MergeConflictWarning: Cannot merge meta key 'DR' types <class 'astropy.io.fits.card.Undefined'> and <class 'astropy.io.fits.card.Undefined'>, choosing DR=<astropy.io.fits.card.Undefined object at 0x2aaad43d6940> [astropy.utils.metadata]\n",
      "WARNING: UnitsWarning: 'nanomaggy' did not parse as fits unit: At col 0, Unit 'nanomaggy' not supported by the FITS standard.  If this is meant to be a custom unit, define it with 'u.def_unit'. To have it recognized inside a file reader or other code, enable it with 'u.add_enabled_units'. For details, see http://docs.astropy.org/en/latest/units/combining_and_defining.html [astropy.units.core]\n",
      "WARNING: UnitsWarning: '1/nanomaggy^2' did not parse as fits unit: Numeric factor not supported by FITS If this is meant to be a custom unit, define it with 'u.def_unit'. To have it recognized inside a file reader or other code, enable it with 'u.add_enabled_units'. For details, see http://docs.astropy.org/en/latest/units/combining_and_defining.html [astropy.units.core]\n"
     ]
    },
    {
     "name": "stdout",
     "output_type": "stream",
     "text": [
      "WARNING:io.py:611:write_targets: qso_selection method not specified for output file\n"
     ]
    },
    {
     "name": "stderr",
     "output_type": "stream",
     "text": [
      "WARNING: MergeConflictWarning: Cannot merge meta key 'DEPNAM00' types <class 'str'> and <class 'str'>, choosing DEPNAM00='desitarget' [astropy.utils.metadata]\n",
      "WARNING: MergeConflictWarning: Cannot merge meta key 'DEPVER00' types <class 'str'> and <class 'str'>, choosing DEPVER00='0.57.1' [astropy.utils.metadata]\n",
      "WARNING: MergeConflictWarning: Cannot merge meta key 'DEPNAM01' types <class 'str'> and <class 'str'>, choosing DEPNAM01='desitarget-git' [astropy.utils.metadata]\n",
      "WARNING: MergeConflictWarning: Cannot merge meta key 'DEPVER01' types <class 'str'> and <class 'str'>, choosing DEPVER01='0.57.1' [astropy.utils.metadata]\n",
      "WARNING: MergeConflictWarning: Cannot merge meta key 'DEPNAM02' types <class 'str'> and <class 'str'>, choosing DEPNAM02='photcat' [astropy.utils.metadata]\n",
      "WARNING: MergeConflictWarning: Cannot merge meta key 'DEPVER02' types <class 'str'> and <class 'str'>, choosing DEPVER02='X' [astropy.utils.metadata]\n",
      "WARNING: MergeConflictWarning: Cannot merge meta key 'DEPNAM03' types <class 'str'> and <class 'str'>, choosing DEPNAM03='tractor-files' [astropy.utils.metadata]\n",
      "WARNING: MergeConflictWarning: Cannot merge meta key 'DEPVER03' types <class 'str'> and <class 'str'>, choosing DEPVER03='/global/cfs/cdirs/desi/survey/ops/surveyops/trunk/mtl/sv3/dark' [astropy.utils.metadata]\n",
      "WARNING: MergeConflictWarning: Cannot merge meta key 'DEPNAM04' types <class 'str'> and <class 'str'>, choosing DEPNAM04='tractor-files-2' [astropy.utils.metadata]\n",
      "WARNING: MergeConflictWarning: Cannot merge meta key 'DEPVER04' types <class 'str'> and <class 'str'>, choosing DEPVER04='/global/cfs/cdirs/desi/target/catalogs/dr9/0.57.0/targets/sv3/resolve/dark' [astropy.utils.metadata]\n",
      "WARNING: MergeConflictWarning: Cannot merge meta key 'DEPNAM05' types <class 'str'> and <class 'str'>, choosing DEPNAM05='qso-selection' [astropy.utils.metadata]\n",
      "WARNING: MergeConflictWarning: Cannot merge meta key 'DEPVER05' types <class 'str'> and <class 'str'>, choosing DEPVER05='unknown' [astropy.utils.metadata]\n",
      "WARNING: MergeConflictWarning: Cannot merge meta key 'DR' types <class 'astropy.io.fits.card.Undefined'> and <class 'astropy.io.fits.card.Undefined'>, choosing DR=<astropy.io.fits.card.Undefined object at 0x2aaad43d6940> [astropy.utils.metadata]\n",
      "WARNING: UnitsWarning: 'nanomaggy' did not parse as fits unit: At col 0, Unit 'nanomaggy' not supported by the FITS standard.  If this is meant to be a custom unit, define it with 'u.def_unit'. To have it recognized inside a file reader or other code, enable it with 'u.add_enabled_units'. For details, see http://docs.astropy.org/en/latest/units/combining_and_defining.html [astropy.units.core]\n",
      "WARNING: UnitsWarning: '1/nanomaggy^2' did not parse as fits unit: Numeric factor not supported by FITS If this is meant to be a custom unit, define it with 'u.def_unit'. To have it recognized inside a file reader or other code, enable it with 'u.add_enabled_units'. For details, see http://docs.astropy.org/en/latest/units/combining_and_defining.html [astropy.units.core]\n"
     ]
    },
    {
     "name": "stdout",
     "output_type": "stream",
     "text": [
      "WARNING:io.py:611:write_targets: qso_selection method not specified for output file\n"
     ]
    },
    {
     "name": "stderr",
     "output_type": "stream",
     "text": [
      "WARNING: MergeConflictWarning: Cannot merge meta key 'DEPNAM00' types <class 'str'> and <class 'str'>, choosing DEPNAM00='desitarget' [astropy.utils.metadata]\n",
      "WARNING: MergeConflictWarning: Cannot merge meta key 'DEPVER00' types <class 'str'> and <class 'str'>, choosing DEPVER00='0.57.1' [astropy.utils.metadata]\n",
      "WARNING: MergeConflictWarning: Cannot merge meta key 'DEPNAM01' types <class 'str'> and <class 'str'>, choosing DEPNAM01='desitarget-git' [astropy.utils.metadata]\n",
      "WARNING: MergeConflictWarning: Cannot merge meta key 'DEPVER01' types <class 'str'> and <class 'str'>, choosing DEPVER01='0.57.1' [astropy.utils.metadata]\n",
      "WARNING: MergeConflictWarning: Cannot merge meta key 'DEPNAM02' types <class 'str'> and <class 'str'>, choosing DEPNAM02='photcat' [astropy.utils.metadata]\n",
      "WARNING: MergeConflictWarning: Cannot merge meta key 'DEPVER02' types <class 'str'> and <class 'str'>, choosing DEPVER02='X' [astropy.utils.metadata]\n",
      "WARNING: MergeConflictWarning: Cannot merge meta key 'DEPNAM03' types <class 'str'> and <class 'str'>, choosing DEPNAM03='tractor-files' [astropy.utils.metadata]\n",
      "WARNING: MergeConflictWarning: Cannot merge meta key 'DEPVER03' types <class 'str'> and <class 'str'>, choosing DEPVER03='/global/cfs/cdirs/desi/survey/ops/surveyops/trunk/mtl/sv3/dark' [astropy.utils.metadata]\n",
      "WARNING: MergeConflictWarning: Cannot merge meta key 'DEPNAM04' types <class 'str'> and <class 'str'>, choosing DEPNAM04='tractor-files-2' [astropy.utils.metadata]\n",
      "WARNING: MergeConflictWarning: Cannot merge meta key 'DEPVER04' types <class 'str'> and <class 'str'>, choosing DEPVER04='/global/cfs/cdirs/desi/target/catalogs/dr9/0.57.0/targets/sv3/resolve/dark' [astropy.utils.metadata]\n",
      "WARNING: MergeConflictWarning: Cannot merge meta key 'DEPNAM05' types <class 'str'> and <class 'str'>, choosing DEPNAM05='qso-selection' [astropy.utils.metadata]\n",
      "WARNING: MergeConflictWarning: Cannot merge meta key 'DEPVER05' types <class 'str'> and <class 'str'>, choosing DEPVER05='unknown' [astropy.utils.metadata]\n",
      "WARNING: MergeConflictWarning: Cannot merge meta key 'DR' types <class 'astropy.io.fits.card.Undefined'> and <class 'astropy.io.fits.card.Undefined'>, choosing DR=<astropy.io.fits.card.Undefined object at 0x2aaad43d6940> [astropy.utils.metadata]\n",
      "WARNING: UnitsWarning: 'nanomaggy' did not parse as fits unit: At col 0, Unit 'nanomaggy' not supported by the FITS standard.  If this is meant to be a custom unit, define it with 'u.def_unit'. To have it recognized inside a file reader or other code, enable it with 'u.add_enabled_units'. For details, see http://docs.astropy.org/en/latest/units/combining_and_defining.html [astropy.units.core]\n",
      "WARNING: UnitsWarning: '1/nanomaggy^2' did not parse as fits unit: Numeric factor not supported by FITS If this is meant to be a custom unit, define it with 'u.def_unit'. To have it recognized inside a file reader or other code, enable it with 'u.add_enabled_units'. For details, see http://docs.astropy.org/en/latest/units/combining_and_defining.html [astropy.units.core]\n"
     ]
    },
    {
     "name": "stdout",
     "output_type": "stream",
     "text": [
      "WARNING:io.py:611:write_targets: qso_selection method not specified for output file\n"
     ]
    },
    {
     "name": "stderr",
     "output_type": "stream",
     "text": [
      "WARNING: MergeConflictWarning: Cannot merge meta key 'DEPNAM00' types <class 'str'> and <class 'str'>, choosing DEPNAM00='desitarget' [astropy.utils.metadata]\n",
      "WARNING: MergeConflictWarning: Cannot merge meta key 'DEPVER00' types <class 'str'> and <class 'str'>, choosing DEPVER00='0.57.1' [astropy.utils.metadata]\n",
      "WARNING: MergeConflictWarning: Cannot merge meta key 'DEPNAM01' types <class 'str'> and <class 'str'>, choosing DEPNAM01='desitarget-git' [astropy.utils.metadata]\n",
      "WARNING: MergeConflictWarning: Cannot merge meta key 'DEPVER01' types <class 'str'> and <class 'str'>, choosing DEPVER01='0.57.1' [astropy.utils.metadata]\n",
      "WARNING: MergeConflictWarning: Cannot merge meta key 'DEPNAM02' types <class 'str'> and <class 'str'>, choosing DEPNAM02='photcat' [astropy.utils.metadata]\n",
      "WARNING: MergeConflictWarning: Cannot merge meta key 'DEPVER02' types <class 'str'> and <class 'str'>, choosing DEPVER02='X' [astropy.utils.metadata]\n",
      "WARNING: MergeConflictWarning: Cannot merge meta key 'DEPNAM03' types <class 'str'> and <class 'str'>, choosing DEPNAM03='tractor-files' [astropy.utils.metadata]\n",
      "WARNING: MergeConflictWarning: Cannot merge meta key 'DEPVER03' types <class 'str'> and <class 'str'>, choosing DEPVER03='/global/cfs/cdirs/desi/survey/ops/surveyops/trunk/mtl/sv3/dark' [astropy.utils.metadata]\n",
      "WARNING: MergeConflictWarning: Cannot merge meta key 'DEPNAM04' types <class 'str'> and <class 'str'>, choosing DEPNAM04='tractor-files-2' [astropy.utils.metadata]\n",
      "WARNING: MergeConflictWarning: Cannot merge meta key 'DEPVER04' types <class 'str'> and <class 'str'>, choosing DEPVER04='/global/cfs/cdirs/desi/target/catalogs/dr9/0.57.0/targets/sv3/resolve/dark' [astropy.utils.metadata]\n",
      "WARNING: MergeConflictWarning: Cannot merge meta key 'DEPNAM05' types <class 'str'> and <class 'str'>, choosing DEPNAM05='qso-selection' [astropy.utils.metadata]\n",
      "WARNING: MergeConflictWarning: Cannot merge meta key 'DEPVER05' types <class 'str'> and <class 'str'>, choosing DEPVER05='unknown' [astropy.utils.metadata]\n",
      "WARNING: MergeConflictWarning: Cannot merge meta key 'DR' types <class 'astropy.io.fits.card.Undefined'> and <class 'astropy.io.fits.card.Undefined'>, choosing DR=<astropy.io.fits.card.Undefined object at 0x2aaad43d6940> [astropy.utils.metadata]\n",
      "WARNING: UnitsWarning: 'nanomaggy' did not parse as fits unit: At col 0, Unit 'nanomaggy' not supported by the FITS standard.  If this is meant to be a custom unit, define it with 'u.def_unit'. To have it recognized inside a file reader or other code, enable it with 'u.add_enabled_units'. For details, see http://docs.astropy.org/en/latest/units/combining_and_defining.html [astropy.units.core]\n",
      "WARNING: UnitsWarning: '1/nanomaggy^2' did not parse as fits unit: Numeric factor not supported by FITS If this is meant to be a custom unit, define it with 'u.def_unit'. To have it recognized inside a file reader or other code, enable it with 'u.add_enabled_units'. For details, see http://docs.astropy.org/en/latest/units/combining_and_defining.html [astropy.units.core]\n"
     ]
    },
    {
     "name": "stdout",
     "output_type": "stream",
     "text": [
      "WARNING:io.py:611:write_targets: qso_selection method not specified for output file\n"
     ]
    },
    {
     "name": "stderr",
     "output_type": "stream",
     "text": [
      "WARNING: MergeConflictWarning: Cannot merge meta key 'DEPNAM00' types <class 'str'> and <class 'str'>, choosing DEPNAM00='desitarget' [astropy.utils.metadata]\n",
      "WARNING: MergeConflictWarning: Cannot merge meta key 'DEPVER00' types <class 'str'> and <class 'str'>, choosing DEPVER00='0.57.1' [astropy.utils.metadata]\n",
      "WARNING: MergeConflictWarning: Cannot merge meta key 'DEPNAM01' types <class 'str'> and <class 'str'>, choosing DEPNAM01='desitarget-git' [astropy.utils.metadata]\n",
      "WARNING: MergeConflictWarning: Cannot merge meta key 'DEPVER01' types <class 'str'> and <class 'str'>, choosing DEPVER01='0.57.1' [astropy.utils.metadata]\n",
      "WARNING: MergeConflictWarning: Cannot merge meta key 'DEPNAM02' types <class 'str'> and <class 'str'>, choosing DEPNAM02='photcat' [astropy.utils.metadata]\n",
      "WARNING: MergeConflictWarning: Cannot merge meta key 'DEPVER02' types <class 'str'> and <class 'str'>, choosing DEPVER02='X' [astropy.utils.metadata]\n",
      "WARNING: MergeConflictWarning: Cannot merge meta key 'DEPNAM03' types <class 'str'> and <class 'str'>, choosing DEPNAM03='tractor-files' [astropy.utils.metadata]\n",
      "WARNING: MergeConflictWarning: Cannot merge meta key 'DEPVER03' types <class 'str'> and <class 'str'>, choosing DEPVER03='/global/cfs/cdirs/desi/survey/ops/surveyops/trunk/mtl/sv3/dark' [astropy.utils.metadata]\n",
      "WARNING: MergeConflictWarning: Cannot merge meta key 'DEPNAM04' types <class 'str'> and <class 'str'>, choosing DEPNAM04='tractor-files-2' [astropy.utils.metadata]\n",
      "WARNING: MergeConflictWarning: Cannot merge meta key 'DEPVER04' types <class 'str'> and <class 'str'>, choosing DEPVER04='/global/cfs/cdirs/desi/target/catalogs/dr9/0.57.0/targets/sv3/resolve/dark' [astropy.utils.metadata]\n",
      "WARNING: MergeConflictWarning: Cannot merge meta key 'DEPNAM05' types <class 'str'> and <class 'str'>, choosing DEPNAM05='qso-selection' [astropy.utils.metadata]\n",
      "WARNING: MergeConflictWarning: Cannot merge meta key 'DEPVER05' types <class 'str'> and <class 'str'>, choosing DEPVER05='unknown' [astropy.utils.metadata]\n",
      "WARNING: MergeConflictWarning: Cannot merge meta key 'DR' types <class 'astropy.io.fits.card.Undefined'> and <class 'astropy.io.fits.card.Undefined'>, choosing DR=<astropy.io.fits.card.Undefined object at 0x2aaad43d6940> [astropy.utils.metadata]\n",
      "WARNING: UnitsWarning: 'nanomaggy' did not parse as fits unit: At col 0, Unit 'nanomaggy' not supported by the FITS standard.  If this is meant to be a custom unit, define it with 'u.def_unit'. To have it recognized inside a file reader or other code, enable it with 'u.add_enabled_units'. For details, see http://docs.astropy.org/en/latest/units/combining_and_defining.html [astropy.units.core]\n",
      "WARNING: UnitsWarning: '1/nanomaggy^2' did not parse as fits unit: Numeric factor not supported by FITS If this is meant to be a custom unit, define it with 'u.def_unit'. To have it recognized inside a file reader or other code, enable it with 'u.add_enabled_units'. For details, see http://docs.astropy.org/en/latest/units/combining_and_defining.html [astropy.units.core]\n"
     ]
    },
    {
     "name": "stdout",
     "output_type": "stream",
     "text": [
      "WARNING:io.py:611:write_targets: qso_selection method not specified for output file\n"
     ]
    },
    {
     "name": "stderr",
     "output_type": "stream",
     "text": [
      "WARNING: MergeConflictWarning: Cannot merge meta key 'DEPNAM00' types <class 'str'> and <class 'str'>, choosing DEPNAM00='desitarget' [astropy.utils.metadata]\n",
      "WARNING: MergeConflictWarning: Cannot merge meta key 'DEPVER00' types <class 'str'> and <class 'str'>, choosing DEPVER00='0.57.1' [astropy.utils.metadata]\n",
      "WARNING: MergeConflictWarning: Cannot merge meta key 'DEPNAM01' types <class 'str'> and <class 'str'>, choosing DEPNAM01='desitarget-git' [astropy.utils.metadata]\n",
      "WARNING: MergeConflictWarning: Cannot merge meta key 'DEPVER01' types <class 'str'> and <class 'str'>, choosing DEPVER01='0.57.1' [astropy.utils.metadata]\n",
      "WARNING: MergeConflictWarning: Cannot merge meta key 'DEPNAM02' types <class 'str'> and <class 'str'>, choosing DEPNAM02='photcat' [astropy.utils.metadata]\n",
      "WARNING: MergeConflictWarning: Cannot merge meta key 'DEPVER02' types <class 'str'> and <class 'str'>, choosing DEPVER02='X' [astropy.utils.metadata]\n",
      "WARNING: MergeConflictWarning: Cannot merge meta key 'DEPNAM03' types <class 'str'> and <class 'str'>, choosing DEPNAM03='tractor-files' [astropy.utils.metadata]\n",
      "WARNING: MergeConflictWarning: Cannot merge meta key 'DEPVER03' types <class 'str'> and <class 'str'>, choosing DEPVER03='/global/cfs/cdirs/desi/survey/ops/surveyops/trunk/mtl/sv3/dark' [astropy.utils.metadata]\n",
      "WARNING: MergeConflictWarning: Cannot merge meta key 'DEPNAM04' types <class 'str'> and <class 'str'>, choosing DEPNAM04='tractor-files-2' [astropy.utils.metadata]\n",
      "WARNING: MergeConflictWarning: Cannot merge meta key 'DEPVER04' types <class 'str'> and <class 'str'>, choosing DEPVER04='/global/cfs/cdirs/desi/target/catalogs/dr9/0.57.0/targets/sv3/resolve/dark' [astropy.utils.metadata]\n",
      "WARNING: MergeConflictWarning: Cannot merge meta key 'DEPNAM05' types <class 'str'> and <class 'str'>, choosing DEPNAM05='qso-selection' [astropy.utils.metadata]\n",
      "WARNING: MergeConflictWarning: Cannot merge meta key 'DEPVER05' types <class 'str'> and <class 'str'>, choosing DEPVER05='unknown' [astropy.utils.metadata]\n",
      "WARNING: MergeConflictWarning: Cannot merge meta key 'DR' types <class 'astropy.io.fits.card.Undefined'> and <class 'astropy.io.fits.card.Undefined'>, choosing DR=<astropy.io.fits.card.Undefined object at 0x2aaad43d6940> [astropy.utils.metadata]\n",
      "WARNING: UnitsWarning: 'nanomaggy' did not parse as fits unit: At col 0, Unit 'nanomaggy' not supported by the FITS standard.  If this is meant to be a custom unit, define it with 'u.def_unit'. To have it recognized inside a file reader or other code, enable it with 'u.add_enabled_units'. For details, see http://docs.astropy.org/en/latest/units/combining_and_defining.html [astropy.units.core]\n",
      "WARNING: UnitsWarning: '1/nanomaggy^2' did not parse as fits unit: Numeric factor not supported by FITS If this is meant to be a custom unit, define it with 'u.def_unit'. To have it recognized inside a file reader or other code, enable it with 'u.add_enabled_units'. For details, see http://docs.astropy.org/en/latest/units/combining_and_defining.html [astropy.units.core]\n"
     ]
    },
    {
     "name": "stdout",
     "output_type": "stream",
     "text": [
      "WARNING:io.py:611:write_targets: qso_selection method not specified for output file\n"
     ]
    },
    {
     "name": "stderr",
     "output_type": "stream",
     "text": [
      "WARNING: MergeConflictWarning: Cannot merge meta key 'DEPNAM00' types <class 'str'> and <class 'str'>, choosing DEPNAM00='desitarget' [astropy.utils.metadata]\n",
      "WARNING: MergeConflictWarning: Cannot merge meta key 'DEPVER00' types <class 'str'> and <class 'str'>, choosing DEPVER00='0.57.1' [astropy.utils.metadata]\n",
      "WARNING: MergeConflictWarning: Cannot merge meta key 'DEPNAM01' types <class 'str'> and <class 'str'>, choosing DEPNAM01='desitarget-git' [astropy.utils.metadata]\n",
      "WARNING: MergeConflictWarning: Cannot merge meta key 'DEPVER01' types <class 'str'> and <class 'str'>, choosing DEPVER01='0.57.1' [astropy.utils.metadata]\n",
      "WARNING: MergeConflictWarning: Cannot merge meta key 'DEPNAM02' types <class 'str'> and <class 'str'>, choosing DEPNAM02='photcat' [astropy.utils.metadata]\n",
      "WARNING: MergeConflictWarning: Cannot merge meta key 'DEPVER02' types <class 'str'> and <class 'str'>, choosing DEPVER02='X' [astropy.utils.metadata]\n",
      "WARNING: MergeConflictWarning: Cannot merge meta key 'DEPNAM03' types <class 'str'> and <class 'str'>, choosing DEPNAM03='tractor-files' [astropy.utils.metadata]\n",
      "WARNING: MergeConflictWarning: Cannot merge meta key 'DEPVER03' types <class 'str'> and <class 'str'>, choosing DEPVER03='/global/cfs/cdirs/desi/survey/ops/surveyops/trunk/mtl/sv3/dark' [astropy.utils.metadata]\n",
      "WARNING: MergeConflictWarning: Cannot merge meta key 'DEPNAM04' types <class 'str'> and <class 'str'>, choosing DEPNAM04='tractor-files-2' [astropy.utils.metadata]\n",
      "WARNING: MergeConflictWarning: Cannot merge meta key 'DEPVER04' types <class 'str'> and <class 'str'>, choosing DEPVER04='/global/cfs/cdirs/desi/target/catalogs/dr9/0.57.0/targets/sv3/resolve/dark' [astropy.utils.metadata]\n",
      "WARNING: MergeConflictWarning: Cannot merge meta key 'DEPNAM05' types <class 'str'> and <class 'str'>, choosing DEPNAM05='qso-selection' [astropy.utils.metadata]\n",
      "WARNING: MergeConflictWarning: Cannot merge meta key 'DEPVER05' types <class 'str'> and <class 'str'>, choosing DEPVER05='unknown' [astropy.utils.metadata]\n",
      "WARNING: MergeConflictWarning: Cannot merge meta key 'DR' types <class 'astropy.io.fits.card.Undefined'> and <class 'astropy.io.fits.card.Undefined'>, choosing DR=<astropy.io.fits.card.Undefined object at 0x2aaad43d6940> [astropy.utils.metadata]\n",
      "WARNING: UnitsWarning: 'nanomaggy' did not parse as fits unit: At col 0, Unit 'nanomaggy' not supported by the FITS standard.  If this is meant to be a custom unit, define it with 'u.def_unit'. To have it recognized inside a file reader or other code, enable it with 'u.add_enabled_units'. For details, see http://docs.astropy.org/en/latest/units/combining_and_defining.html [astropy.units.core]\n",
      "WARNING: UnitsWarning: '1/nanomaggy^2' did not parse as fits unit: Numeric factor not supported by FITS If this is meant to be a custom unit, define it with 'u.def_unit'. To have it recognized inside a file reader or other code, enable it with 'u.add_enabled_units'. For details, see http://docs.astropy.org/en/latest/units/combining_and_defining.html [astropy.units.core]\n"
     ]
    },
    {
     "name": "stdout",
     "output_type": "stream",
     "text": [
      "WARNING:io.py:611:write_targets: qso_selection method not specified for output file\n"
     ]
    },
    {
     "name": "stderr",
     "output_type": "stream",
     "text": [
      "WARNING: MergeConflictWarning: Cannot merge meta key 'DEPNAM00' types <class 'str'> and <class 'str'>, choosing DEPNAM00='desitarget' [astropy.utils.metadata]\n",
      "WARNING: MergeConflictWarning: Cannot merge meta key 'DEPVER00' types <class 'str'> and <class 'str'>, choosing DEPVER00='0.57.1' [astropy.utils.metadata]\n",
      "WARNING: MergeConflictWarning: Cannot merge meta key 'DEPNAM01' types <class 'str'> and <class 'str'>, choosing DEPNAM01='desitarget-git' [astropy.utils.metadata]\n",
      "WARNING: MergeConflictWarning: Cannot merge meta key 'DEPVER01' types <class 'str'> and <class 'str'>, choosing DEPVER01='0.57.1' [astropy.utils.metadata]\n",
      "WARNING: MergeConflictWarning: Cannot merge meta key 'DEPNAM02' types <class 'str'> and <class 'str'>, choosing DEPNAM02='photcat' [astropy.utils.metadata]\n",
      "WARNING: MergeConflictWarning: Cannot merge meta key 'DEPVER02' types <class 'str'> and <class 'str'>, choosing DEPVER02='X' [astropy.utils.metadata]\n",
      "WARNING: MergeConflictWarning: Cannot merge meta key 'DEPNAM03' types <class 'str'> and <class 'str'>, choosing DEPNAM03='tractor-files' [astropy.utils.metadata]\n",
      "WARNING: MergeConflictWarning: Cannot merge meta key 'DEPVER03' types <class 'str'> and <class 'str'>, choosing DEPVER03='/global/cfs/cdirs/desi/survey/ops/surveyops/trunk/mtl/sv3/dark' [astropy.utils.metadata]\n",
      "WARNING: MergeConflictWarning: Cannot merge meta key 'DEPNAM04' types <class 'str'> and <class 'str'>, choosing DEPNAM04='tractor-files-2' [astropy.utils.metadata]\n",
      "WARNING: MergeConflictWarning: Cannot merge meta key 'DEPVER04' types <class 'str'> and <class 'str'>, choosing DEPVER04='/global/cfs/cdirs/desi/target/catalogs/dr9/0.57.0/targets/sv3/resolve/dark' [astropy.utils.metadata]\n",
      "WARNING: MergeConflictWarning: Cannot merge meta key 'DEPNAM05' types <class 'str'> and <class 'str'>, choosing DEPNAM05='qso-selection' [astropy.utils.metadata]\n",
      "WARNING: MergeConflictWarning: Cannot merge meta key 'DEPVER05' types <class 'str'> and <class 'str'>, choosing DEPVER05='unknown' [astropy.utils.metadata]\n",
      "WARNING: MergeConflictWarning: Cannot merge meta key 'DR' types <class 'astropy.io.fits.card.Undefined'> and <class 'astropy.io.fits.card.Undefined'>, choosing DR=<astropy.io.fits.card.Undefined object at 0x2aaad43d6940> [astropy.utils.metadata]\n",
      "WARNING: UnitsWarning: 'nanomaggy' did not parse as fits unit: At col 0, Unit 'nanomaggy' not supported by the FITS standard.  If this is meant to be a custom unit, define it with 'u.def_unit'. To have it recognized inside a file reader or other code, enable it with 'u.add_enabled_units'. For details, see http://docs.astropy.org/en/latest/units/combining_and_defining.html [astropy.units.core]\n",
      "WARNING: UnitsWarning: '1/nanomaggy^2' did not parse as fits unit: Numeric factor not supported by FITS If this is meant to be a custom unit, define it with 'u.def_unit'. To have it recognized inside a file reader or other code, enable it with 'u.add_enabled_units'. For details, see http://docs.astropy.org/en/latest/units/combining_and_defining.html [astropy.units.core]\n"
     ]
    },
    {
     "name": "stdout",
     "output_type": "stream",
     "text": [
      "WARNING:io.py:611:write_targets: qso_selection method not specified for output file\n"
     ]
    },
    {
     "name": "stderr",
     "output_type": "stream",
     "text": [
      "WARNING: MergeConflictWarning: Cannot merge meta key 'DEPNAM00' types <class 'str'> and <class 'str'>, choosing DEPNAM00='desitarget' [astropy.utils.metadata]\n",
      "WARNING: MergeConflictWarning: Cannot merge meta key 'DEPVER00' types <class 'str'> and <class 'str'>, choosing DEPVER00='0.57.1' [astropy.utils.metadata]\n",
      "WARNING: MergeConflictWarning: Cannot merge meta key 'DEPNAM01' types <class 'str'> and <class 'str'>, choosing DEPNAM01='desitarget-git' [astropy.utils.metadata]\n",
      "WARNING: MergeConflictWarning: Cannot merge meta key 'DEPVER01' types <class 'str'> and <class 'str'>, choosing DEPVER01='0.57.1' [astropy.utils.metadata]\n",
      "WARNING: MergeConflictWarning: Cannot merge meta key 'DEPNAM02' types <class 'str'> and <class 'str'>, choosing DEPNAM02='photcat' [astropy.utils.metadata]\n",
      "WARNING: MergeConflictWarning: Cannot merge meta key 'DEPVER02' types <class 'str'> and <class 'str'>, choosing DEPVER02='X' [astropy.utils.metadata]\n",
      "WARNING: MergeConflictWarning: Cannot merge meta key 'DEPNAM03' types <class 'str'> and <class 'str'>, choosing DEPNAM03='tractor-files' [astropy.utils.metadata]\n",
      "WARNING: MergeConflictWarning: Cannot merge meta key 'DEPVER03' types <class 'str'> and <class 'str'>, choosing DEPVER03='/global/cfs/cdirs/desi/survey/ops/surveyops/trunk/mtl/sv3/dark' [astropy.utils.metadata]\n",
      "WARNING: MergeConflictWarning: Cannot merge meta key 'DEPNAM04' types <class 'str'> and <class 'str'>, choosing DEPNAM04='tractor-files-2' [astropy.utils.metadata]\n",
      "WARNING: MergeConflictWarning: Cannot merge meta key 'DEPVER04' types <class 'str'> and <class 'str'>, choosing DEPVER04='/global/cfs/cdirs/desi/target/catalogs/dr9/0.57.0/targets/sv3/resolve/dark' [astropy.utils.metadata]\n",
      "WARNING: MergeConflictWarning: Cannot merge meta key 'DEPNAM05' types <class 'str'> and <class 'str'>, choosing DEPNAM05='qso-selection' [astropy.utils.metadata]\n",
      "WARNING: MergeConflictWarning: Cannot merge meta key 'DEPVER05' types <class 'str'> and <class 'str'>, choosing DEPVER05='unknown' [astropy.utils.metadata]\n",
      "WARNING: MergeConflictWarning: Cannot merge meta key 'DR' types <class 'astropy.io.fits.card.Undefined'> and <class 'astropy.io.fits.card.Undefined'>, choosing DR=<astropy.io.fits.card.Undefined object at 0x2aaad43d6940> [astropy.utils.metadata]\n",
      "WARNING: UnitsWarning: 'nanomaggy' did not parse as fits unit: At col 0, Unit 'nanomaggy' not supported by the FITS standard.  If this is meant to be a custom unit, define it with 'u.def_unit'. To have it recognized inside a file reader or other code, enable it with 'u.add_enabled_units'. For details, see http://docs.astropy.org/en/latest/units/combining_and_defining.html [astropy.units.core]\n",
      "WARNING: UnitsWarning: '1/nanomaggy^2' did not parse as fits unit: Numeric factor not supported by FITS If this is meant to be a custom unit, define it with 'u.def_unit'. To have it recognized inside a file reader or other code, enable it with 'u.add_enabled_units'. For details, see http://docs.astropy.org/en/latest/units/combining_and_defining.html [astropy.units.core]\n"
     ]
    },
    {
     "name": "stdout",
     "output_type": "stream",
     "text": [
      "WARNING:io.py:611:write_targets: qso_selection method not specified for output file\n"
     ]
    },
    {
     "name": "stderr",
     "output_type": "stream",
     "text": [
      "WARNING: MergeConflictWarning: Cannot merge meta key 'DEPNAM00' types <class 'str'> and <class 'str'>, choosing DEPNAM00='desitarget' [astropy.utils.metadata]\n",
      "WARNING: MergeConflictWarning: Cannot merge meta key 'DEPVER00' types <class 'str'> and <class 'str'>, choosing DEPVER00='0.57.1' [astropy.utils.metadata]\n",
      "WARNING: MergeConflictWarning: Cannot merge meta key 'DEPNAM01' types <class 'str'> and <class 'str'>, choosing DEPNAM01='desitarget-git' [astropy.utils.metadata]\n",
      "WARNING: MergeConflictWarning: Cannot merge meta key 'DEPVER01' types <class 'str'> and <class 'str'>, choosing DEPVER01='0.57.1' [astropy.utils.metadata]\n",
      "WARNING: MergeConflictWarning: Cannot merge meta key 'DEPNAM02' types <class 'str'> and <class 'str'>, choosing DEPNAM02='photcat' [astropy.utils.metadata]\n",
      "WARNING: MergeConflictWarning: Cannot merge meta key 'DEPVER02' types <class 'str'> and <class 'str'>, choosing DEPVER02='X' [astropy.utils.metadata]\n",
      "WARNING: MergeConflictWarning: Cannot merge meta key 'DEPNAM03' types <class 'str'> and <class 'str'>, choosing DEPNAM03='tractor-files' [astropy.utils.metadata]\n",
      "WARNING: MergeConflictWarning: Cannot merge meta key 'DEPVER03' types <class 'str'> and <class 'str'>, choosing DEPVER03='/global/cfs/cdirs/desi/survey/ops/surveyops/trunk/mtl/sv3/dark' [astropy.utils.metadata]\n",
      "WARNING: MergeConflictWarning: Cannot merge meta key 'DEPNAM04' types <class 'str'> and <class 'str'>, choosing DEPNAM04='tractor-files-2' [astropy.utils.metadata]\n",
      "WARNING: MergeConflictWarning: Cannot merge meta key 'DEPVER04' types <class 'str'> and <class 'str'>, choosing DEPVER04='/global/cfs/cdirs/desi/target/catalogs/dr9/0.57.0/targets/sv3/resolve/dark' [astropy.utils.metadata]\n",
      "WARNING: MergeConflictWarning: Cannot merge meta key 'DEPNAM05' types <class 'str'> and <class 'str'>, choosing DEPNAM05='qso-selection' [astropy.utils.metadata]\n",
      "WARNING: MergeConflictWarning: Cannot merge meta key 'DEPVER05' types <class 'str'> and <class 'str'>, choosing DEPVER05='unknown' [astropy.utils.metadata]\n",
      "WARNING: MergeConflictWarning: Cannot merge meta key 'DR' types <class 'astropy.io.fits.card.Undefined'> and <class 'astropy.io.fits.card.Undefined'>, choosing DR=<astropy.io.fits.card.Undefined object at 0x2aaad43d6940> [astropy.utils.metadata]\n",
      "WARNING: UnitsWarning: 'nanomaggy' did not parse as fits unit: At col 0, Unit 'nanomaggy' not supported by the FITS standard.  If this is meant to be a custom unit, define it with 'u.def_unit'. To have it recognized inside a file reader or other code, enable it with 'u.add_enabled_units'. For details, see http://docs.astropy.org/en/latest/units/combining_and_defining.html [astropy.units.core]\n",
      "WARNING: UnitsWarning: '1/nanomaggy^2' did not parse as fits unit: Numeric factor not supported by FITS If this is meant to be a custom unit, define it with 'u.def_unit'. To have it recognized inside a file reader or other code, enable it with 'u.add_enabled_units'. For details, see http://docs.astropy.org/en/latest/units/combining_and_defining.html [astropy.units.core]\n"
     ]
    },
    {
     "name": "stdout",
     "output_type": "stream",
     "text": [
      "WARNING:io.py:611:write_targets: qso_selection method not specified for output file\n"
     ]
    },
    {
     "name": "stderr",
     "output_type": "stream",
     "text": [
      "WARNING: MergeConflictWarning: Cannot merge meta key 'DEPNAM00' types <class 'str'> and <class 'str'>, choosing DEPNAM00='desitarget' [astropy.utils.metadata]\n",
      "WARNING: MergeConflictWarning: Cannot merge meta key 'DEPVER00' types <class 'str'> and <class 'str'>, choosing DEPVER00='0.57.1' [astropy.utils.metadata]\n",
      "WARNING: MergeConflictWarning: Cannot merge meta key 'DEPNAM01' types <class 'str'> and <class 'str'>, choosing DEPNAM01='desitarget-git' [astropy.utils.metadata]\n",
      "WARNING: MergeConflictWarning: Cannot merge meta key 'DEPVER01' types <class 'str'> and <class 'str'>, choosing DEPVER01='0.57.1' [astropy.utils.metadata]\n",
      "WARNING: MergeConflictWarning: Cannot merge meta key 'DEPNAM02' types <class 'str'> and <class 'str'>, choosing DEPNAM02='photcat' [astropy.utils.metadata]\n",
      "WARNING: MergeConflictWarning: Cannot merge meta key 'DEPVER02' types <class 'str'> and <class 'str'>, choosing DEPVER02='X' [astropy.utils.metadata]\n",
      "WARNING: MergeConflictWarning: Cannot merge meta key 'DEPNAM03' types <class 'str'> and <class 'str'>, choosing DEPNAM03='tractor-files' [astropy.utils.metadata]\n",
      "WARNING: MergeConflictWarning: Cannot merge meta key 'DEPVER03' types <class 'str'> and <class 'str'>, choosing DEPVER03='/global/cfs/cdirs/desi/survey/ops/surveyops/trunk/mtl/sv3/dark' [astropy.utils.metadata]\n",
      "WARNING: MergeConflictWarning: Cannot merge meta key 'DEPNAM04' types <class 'str'> and <class 'str'>, choosing DEPNAM04='tractor-files-2' [astropy.utils.metadata]\n",
      "WARNING: MergeConflictWarning: Cannot merge meta key 'DEPVER04' types <class 'str'> and <class 'str'>, choosing DEPVER04='/global/cfs/cdirs/desi/target/catalogs/dr9/0.57.0/targets/sv3/resolve/dark' [astropy.utils.metadata]\n",
      "WARNING: MergeConflictWarning: Cannot merge meta key 'DEPNAM05' types <class 'str'> and <class 'str'>, choosing DEPNAM05='qso-selection' [astropy.utils.metadata]\n",
      "WARNING: MergeConflictWarning: Cannot merge meta key 'DEPVER05' types <class 'str'> and <class 'str'>, choosing DEPVER05='unknown' [astropy.utils.metadata]\n",
      "WARNING: MergeConflictWarning: Cannot merge meta key 'DR' types <class 'astropy.io.fits.card.Undefined'> and <class 'astropy.io.fits.card.Undefined'>, choosing DR=<astropy.io.fits.card.Undefined object at 0x2aaad43d6940> [astropy.utils.metadata]\n",
      "WARNING: UnitsWarning: 'nanomaggy' did not parse as fits unit: At col 0, Unit 'nanomaggy' not supported by the FITS standard.  If this is meant to be a custom unit, define it with 'u.def_unit'. To have it recognized inside a file reader or other code, enable it with 'u.add_enabled_units'. For details, see http://docs.astropy.org/en/latest/units/combining_and_defining.html [astropy.units.core]\n",
      "WARNING: UnitsWarning: '1/nanomaggy^2' did not parse as fits unit: Numeric factor not supported by FITS If this is meant to be a custom unit, define it with 'u.def_unit'. To have it recognized inside a file reader or other code, enable it with 'u.add_enabled_units'. For details, see http://docs.astropy.org/en/latest/units/combining_and_defining.html [astropy.units.core]\n"
     ]
    },
    {
     "name": "stdout",
     "output_type": "stream",
     "text": [
      "WARNING:io.py:611:write_targets: qso_selection method not specified for output file\n"
     ]
    },
    {
     "name": "stderr",
     "output_type": "stream",
     "text": [
      "WARNING: MergeConflictWarning: Cannot merge meta key 'DEPNAM00' types <class 'str'> and <class 'str'>, choosing DEPNAM00='desitarget' [astropy.utils.metadata]\n",
      "WARNING: MergeConflictWarning: Cannot merge meta key 'DEPVER00' types <class 'str'> and <class 'str'>, choosing DEPVER00='0.57.1' [astropy.utils.metadata]\n",
      "WARNING: MergeConflictWarning: Cannot merge meta key 'DEPNAM01' types <class 'str'> and <class 'str'>, choosing DEPNAM01='desitarget-git' [astropy.utils.metadata]\n",
      "WARNING: MergeConflictWarning: Cannot merge meta key 'DEPVER01' types <class 'str'> and <class 'str'>, choosing DEPVER01='0.57.1' [astropy.utils.metadata]\n",
      "WARNING: MergeConflictWarning: Cannot merge meta key 'DEPNAM02' types <class 'str'> and <class 'str'>, choosing DEPNAM02='photcat' [astropy.utils.metadata]\n",
      "WARNING: MergeConflictWarning: Cannot merge meta key 'DEPVER02' types <class 'str'> and <class 'str'>, choosing DEPVER02='X' [astropy.utils.metadata]\n",
      "WARNING: MergeConflictWarning: Cannot merge meta key 'DEPNAM03' types <class 'str'> and <class 'str'>, choosing DEPNAM03='tractor-files' [astropy.utils.metadata]\n",
      "WARNING: MergeConflictWarning: Cannot merge meta key 'DEPVER03' types <class 'str'> and <class 'str'>, choosing DEPVER03='/global/cfs/cdirs/desi/survey/ops/surveyops/trunk/mtl/sv3/dark' [astropy.utils.metadata]\n",
      "WARNING: MergeConflictWarning: Cannot merge meta key 'DEPNAM04' types <class 'str'> and <class 'str'>, choosing DEPNAM04='tractor-files-2' [astropy.utils.metadata]\n",
      "WARNING: MergeConflictWarning: Cannot merge meta key 'DEPVER04' types <class 'str'> and <class 'str'>, choosing DEPVER04='/global/cfs/cdirs/desi/target/catalogs/dr9/0.57.0/targets/sv3/resolve/dark' [astropy.utils.metadata]\n",
      "WARNING: MergeConflictWarning: Cannot merge meta key 'DEPNAM05' types <class 'str'> and <class 'str'>, choosing DEPNAM05='qso-selection' [astropy.utils.metadata]\n",
      "WARNING: MergeConflictWarning: Cannot merge meta key 'DEPVER05' types <class 'str'> and <class 'str'>, choosing DEPVER05='unknown' [astropy.utils.metadata]\n",
      "WARNING: MergeConflictWarning: Cannot merge meta key 'DR' types <class 'astropy.io.fits.card.Undefined'> and <class 'astropy.io.fits.card.Undefined'>, choosing DR=<astropy.io.fits.card.Undefined object at 0x2aaad43d6940> [astropy.utils.metadata]\n",
      "WARNING: UnitsWarning: 'nanomaggy' did not parse as fits unit: At col 0, Unit 'nanomaggy' not supported by the FITS standard.  If this is meant to be a custom unit, define it with 'u.def_unit'. To have it recognized inside a file reader or other code, enable it with 'u.add_enabled_units'. For details, see http://docs.astropy.org/en/latest/units/combining_and_defining.html [astropy.units.core]\n",
      "WARNING: UnitsWarning: '1/nanomaggy^2' did not parse as fits unit: Numeric factor not supported by FITS If this is meant to be a custom unit, define it with 'u.def_unit'. To have it recognized inside a file reader or other code, enable it with 'u.add_enabled_units'. For details, see http://docs.astropy.org/en/latest/units/combining_and_defining.html [astropy.units.core]\n"
     ]
    },
    {
     "name": "stdout",
     "output_type": "stream",
     "text": [
      "WARNING:io.py:611:write_targets: qso_selection method not specified for output file\n"
     ]
    },
    {
     "name": "stderr",
     "output_type": "stream",
     "text": [
      "WARNING: MergeConflictWarning: Cannot merge meta key 'DEPNAM00' types <class 'str'> and <class 'str'>, choosing DEPNAM00='desitarget' [astropy.utils.metadata]\n",
      "WARNING: MergeConflictWarning: Cannot merge meta key 'DEPVER00' types <class 'str'> and <class 'str'>, choosing DEPVER00='0.57.1' [astropy.utils.metadata]\n",
      "WARNING: MergeConflictWarning: Cannot merge meta key 'DEPNAM01' types <class 'str'> and <class 'str'>, choosing DEPNAM01='desitarget-git' [astropy.utils.metadata]\n",
      "WARNING: MergeConflictWarning: Cannot merge meta key 'DEPVER01' types <class 'str'> and <class 'str'>, choosing DEPVER01='0.57.1' [astropy.utils.metadata]\n",
      "WARNING: MergeConflictWarning: Cannot merge meta key 'DEPNAM02' types <class 'str'> and <class 'str'>, choosing DEPNAM02='photcat' [astropy.utils.metadata]\n",
      "WARNING: MergeConflictWarning: Cannot merge meta key 'DEPVER02' types <class 'str'> and <class 'str'>, choosing DEPVER02='X' [astropy.utils.metadata]\n",
      "WARNING: MergeConflictWarning: Cannot merge meta key 'DEPNAM03' types <class 'str'> and <class 'str'>, choosing DEPNAM03='tractor-files' [astropy.utils.metadata]\n",
      "WARNING: MergeConflictWarning: Cannot merge meta key 'DEPVER03' types <class 'str'> and <class 'str'>, choosing DEPVER03='/global/cfs/cdirs/desi/survey/ops/surveyops/trunk/mtl/sv3/dark' [astropy.utils.metadata]\n",
      "WARNING: MergeConflictWarning: Cannot merge meta key 'DEPNAM04' types <class 'str'> and <class 'str'>, choosing DEPNAM04='tractor-files-2' [astropy.utils.metadata]\n",
      "WARNING: MergeConflictWarning: Cannot merge meta key 'DEPVER04' types <class 'str'> and <class 'str'>, choosing DEPVER04='/global/cfs/cdirs/desi/target/catalogs/dr9/0.57.0/targets/sv3/resolve/dark' [astropy.utils.metadata]\n",
      "WARNING: MergeConflictWarning: Cannot merge meta key 'DEPNAM05' types <class 'str'> and <class 'str'>, choosing DEPNAM05='qso-selection' [astropy.utils.metadata]\n",
      "WARNING: MergeConflictWarning: Cannot merge meta key 'DEPVER05' types <class 'str'> and <class 'str'>, choosing DEPVER05='unknown' [astropy.utils.metadata]\n",
      "WARNING: MergeConflictWarning: Cannot merge meta key 'DR' types <class 'astropy.io.fits.card.Undefined'> and <class 'astropy.io.fits.card.Undefined'>, choosing DR=<astropy.io.fits.card.Undefined object at 0x2aaad43d6940> [astropy.utils.metadata]\n",
      "WARNING: UnitsWarning: 'nanomaggy' did not parse as fits unit: At col 0, Unit 'nanomaggy' not supported by the FITS standard.  If this is meant to be a custom unit, define it with 'u.def_unit'. To have it recognized inside a file reader or other code, enable it with 'u.add_enabled_units'. For details, see http://docs.astropy.org/en/latest/units/combining_and_defining.html [astropy.units.core]\n",
      "WARNING: UnitsWarning: '1/nanomaggy^2' did not parse as fits unit: Numeric factor not supported by FITS If this is meant to be a custom unit, define it with 'u.def_unit'. To have it recognized inside a file reader or other code, enable it with 'u.add_enabled_units'. For details, see http://docs.astropy.org/en/latest/units/combining_and_defining.html [astropy.units.core]\n"
     ]
    },
    {
     "name": "stdout",
     "output_type": "stream",
     "text": [
      "WARNING:io.py:611:write_targets: qso_selection method not specified for output file\n"
     ]
    },
    {
     "name": "stderr",
     "output_type": "stream",
     "text": [
      "WARNING: MergeConflictWarning: Cannot merge meta key 'DEPNAM00' types <class 'str'> and <class 'str'>, choosing DEPNAM00='desitarget' [astropy.utils.metadata]\n",
      "WARNING: MergeConflictWarning: Cannot merge meta key 'DEPVER00' types <class 'str'> and <class 'str'>, choosing DEPVER00='0.57.1' [astropy.utils.metadata]\n",
      "WARNING: MergeConflictWarning: Cannot merge meta key 'DEPNAM01' types <class 'str'> and <class 'str'>, choosing DEPNAM01='desitarget-git' [astropy.utils.metadata]\n",
      "WARNING: MergeConflictWarning: Cannot merge meta key 'DEPVER01' types <class 'str'> and <class 'str'>, choosing DEPVER01='0.57.1' [astropy.utils.metadata]\n",
      "WARNING: MergeConflictWarning: Cannot merge meta key 'DEPNAM02' types <class 'str'> and <class 'str'>, choosing DEPNAM02='photcat' [astropy.utils.metadata]\n",
      "WARNING: MergeConflictWarning: Cannot merge meta key 'DEPVER02' types <class 'str'> and <class 'str'>, choosing DEPVER02='X' [astropy.utils.metadata]\n",
      "WARNING: MergeConflictWarning: Cannot merge meta key 'DEPNAM03' types <class 'str'> and <class 'str'>, choosing DEPNAM03='tractor-files' [astropy.utils.metadata]\n",
      "WARNING: MergeConflictWarning: Cannot merge meta key 'DEPVER03' types <class 'str'> and <class 'str'>, choosing DEPVER03='/global/cfs/cdirs/desi/survey/ops/surveyops/trunk/mtl/sv3/dark' [astropy.utils.metadata]\n",
      "WARNING: MergeConflictWarning: Cannot merge meta key 'DEPNAM04' types <class 'str'> and <class 'str'>, choosing DEPNAM04='tractor-files-2' [astropy.utils.metadata]\n",
      "WARNING: MergeConflictWarning: Cannot merge meta key 'DEPVER04' types <class 'str'> and <class 'str'>, choosing DEPVER04='/global/cfs/cdirs/desi/target/catalogs/dr9/0.57.0/targets/sv3/resolve/dark' [astropy.utils.metadata]\n",
      "WARNING: MergeConflictWarning: Cannot merge meta key 'DEPNAM05' types <class 'str'> and <class 'str'>, choosing DEPNAM05='qso-selection' [astropy.utils.metadata]\n",
      "WARNING: MergeConflictWarning: Cannot merge meta key 'DEPVER05' types <class 'str'> and <class 'str'>, choosing DEPVER05='unknown' [astropy.utils.metadata]\n",
      "WARNING: MergeConflictWarning: Cannot merge meta key 'DR' types <class 'astropy.io.fits.card.Undefined'> and <class 'astropy.io.fits.card.Undefined'>, choosing DR=<astropy.io.fits.card.Undefined object at 0x2aaad43d6940> [astropy.utils.metadata]\n",
      "WARNING: UnitsWarning: 'nanomaggy' did not parse as fits unit: At col 0, Unit 'nanomaggy' not supported by the FITS standard.  If this is meant to be a custom unit, define it with 'u.def_unit'. To have it recognized inside a file reader or other code, enable it with 'u.add_enabled_units'. For details, see http://docs.astropy.org/en/latest/units/combining_and_defining.html [astropy.units.core]\n",
      "WARNING: UnitsWarning: '1/nanomaggy^2' did not parse as fits unit: Numeric factor not supported by FITS If this is meant to be a custom unit, define it with 'u.def_unit'. To have it recognized inside a file reader or other code, enable it with 'u.add_enabled_units'. For details, see http://docs.astropy.org/en/latest/units/combining_and_defining.html [astropy.units.core]\n"
     ]
    },
    {
     "name": "stdout",
     "output_type": "stream",
     "text": [
      "WARNING:io.py:611:write_targets: qso_selection method not specified for output file\n"
     ]
    },
    {
     "name": "stderr",
     "output_type": "stream",
     "text": [
      "WARNING: MergeConflictWarning: Cannot merge meta key 'DEPNAM00' types <class 'str'> and <class 'str'>, choosing DEPNAM00='desitarget' [astropy.utils.metadata]\n",
      "WARNING: MergeConflictWarning: Cannot merge meta key 'DEPVER00' types <class 'str'> and <class 'str'>, choosing DEPVER00='0.57.1' [astropy.utils.metadata]\n",
      "WARNING: MergeConflictWarning: Cannot merge meta key 'DEPNAM01' types <class 'str'> and <class 'str'>, choosing DEPNAM01='desitarget-git' [astropy.utils.metadata]\n",
      "WARNING: MergeConflictWarning: Cannot merge meta key 'DEPVER01' types <class 'str'> and <class 'str'>, choosing DEPVER01='0.57.1' [astropy.utils.metadata]\n",
      "WARNING: MergeConflictWarning: Cannot merge meta key 'DEPNAM02' types <class 'str'> and <class 'str'>, choosing DEPNAM02='photcat' [astropy.utils.metadata]\n",
      "WARNING: MergeConflictWarning: Cannot merge meta key 'DEPVER02' types <class 'str'> and <class 'str'>, choosing DEPVER02='X' [astropy.utils.metadata]\n",
      "WARNING: MergeConflictWarning: Cannot merge meta key 'DEPNAM03' types <class 'str'> and <class 'str'>, choosing DEPNAM03='tractor-files' [astropy.utils.metadata]\n",
      "WARNING: MergeConflictWarning: Cannot merge meta key 'DEPVER03' types <class 'str'> and <class 'str'>, choosing DEPVER03='/global/cfs/cdirs/desi/survey/ops/surveyops/trunk/mtl/sv3/dark' [astropy.utils.metadata]\n",
      "WARNING: MergeConflictWarning: Cannot merge meta key 'DEPNAM04' types <class 'str'> and <class 'str'>, choosing DEPNAM04='tractor-files-2' [astropy.utils.metadata]\n",
      "WARNING: MergeConflictWarning: Cannot merge meta key 'DEPVER04' types <class 'str'> and <class 'str'>, choosing DEPVER04='/global/cfs/cdirs/desi/target/catalogs/dr9/0.57.0/targets/sv3/resolve/dark' [astropy.utils.metadata]\n",
      "WARNING: MergeConflictWarning: Cannot merge meta key 'DEPNAM05' types <class 'str'> and <class 'str'>, choosing DEPNAM05='qso-selection' [astropy.utils.metadata]\n",
      "WARNING: MergeConflictWarning: Cannot merge meta key 'DEPVER05' types <class 'str'> and <class 'str'>, choosing DEPVER05='unknown' [astropy.utils.metadata]\n",
      "WARNING: MergeConflictWarning: Cannot merge meta key 'DR' types <class 'astropy.io.fits.card.Undefined'> and <class 'astropy.io.fits.card.Undefined'>, choosing DR=<astropy.io.fits.card.Undefined object at 0x2aaad43d6940> [astropy.utils.metadata]\n",
      "WARNING: UnitsWarning: 'nanomaggy' did not parse as fits unit: At col 0, Unit 'nanomaggy' not supported by the FITS standard.  If this is meant to be a custom unit, define it with 'u.def_unit'. To have it recognized inside a file reader or other code, enable it with 'u.add_enabled_units'. For details, see http://docs.astropy.org/en/latest/units/combining_and_defining.html [astropy.units.core]\n",
      "WARNING: UnitsWarning: '1/nanomaggy^2' did not parse as fits unit: Numeric factor not supported by FITS If this is meant to be a custom unit, define it with 'u.def_unit'. To have it recognized inside a file reader or other code, enable it with 'u.add_enabled_units'. For details, see http://docs.astropy.org/en/latest/units/combining_and_defining.html [astropy.units.core]\n"
     ]
    },
    {
     "name": "stdout",
     "output_type": "stream",
     "text": [
      "WARNING:io.py:611:write_targets: qso_selection method not specified for output file\n"
     ]
    },
    {
     "name": "stderr",
     "output_type": "stream",
     "text": [
      "WARNING: MergeConflictWarning: Cannot merge meta key 'DEPNAM00' types <class 'str'> and <class 'str'>, choosing DEPNAM00='desitarget' [astropy.utils.metadata]\n",
      "WARNING: MergeConflictWarning: Cannot merge meta key 'DEPVER00' types <class 'str'> and <class 'str'>, choosing DEPVER00='0.57.1' [astropy.utils.metadata]\n",
      "WARNING: MergeConflictWarning: Cannot merge meta key 'DEPNAM01' types <class 'str'> and <class 'str'>, choosing DEPNAM01='desitarget-git' [astropy.utils.metadata]\n",
      "WARNING: MergeConflictWarning: Cannot merge meta key 'DEPVER01' types <class 'str'> and <class 'str'>, choosing DEPVER01='0.57.1' [astropy.utils.metadata]\n",
      "WARNING: MergeConflictWarning: Cannot merge meta key 'DEPNAM02' types <class 'str'> and <class 'str'>, choosing DEPNAM02='photcat' [astropy.utils.metadata]\n",
      "WARNING: MergeConflictWarning: Cannot merge meta key 'DEPVER02' types <class 'str'> and <class 'str'>, choosing DEPVER02='X' [astropy.utils.metadata]\n",
      "WARNING: MergeConflictWarning: Cannot merge meta key 'DEPNAM03' types <class 'str'> and <class 'str'>, choosing DEPNAM03='tractor-files' [astropy.utils.metadata]\n",
      "WARNING: MergeConflictWarning: Cannot merge meta key 'DEPVER03' types <class 'str'> and <class 'str'>, choosing DEPVER03='/global/cfs/cdirs/desi/survey/ops/surveyops/trunk/mtl/sv3/dark' [astropy.utils.metadata]\n",
      "WARNING: MergeConflictWarning: Cannot merge meta key 'DEPNAM04' types <class 'str'> and <class 'str'>, choosing DEPNAM04='tractor-files-2' [astropy.utils.metadata]\n",
      "WARNING: MergeConflictWarning: Cannot merge meta key 'DEPVER04' types <class 'str'> and <class 'str'>, choosing DEPVER04='/global/cfs/cdirs/desi/target/catalogs/dr9/0.57.0/targets/sv3/resolve/dark' [astropy.utils.metadata]\n",
      "WARNING: MergeConflictWarning: Cannot merge meta key 'DEPNAM05' types <class 'str'> and <class 'str'>, choosing DEPNAM05='qso-selection' [astropy.utils.metadata]\n",
      "WARNING: MergeConflictWarning: Cannot merge meta key 'DEPVER05' types <class 'str'> and <class 'str'>, choosing DEPVER05='unknown' [astropy.utils.metadata]\n",
      "WARNING: MergeConflictWarning: Cannot merge meta key 'DR' types <class 'astropy.io.fits.card.Undefined'> and <class 'astropy.io.fits.card.Undefined'>, choosing DR=<astropy.io.fits.card.Undefined object at 0x2aaad43d6940> [astropy.utils.metadata]\n",
      "WARNING: UnitsWarning: 'nanomaggy' did not parse as fits unit: At col 0, Unit 'nanomaggy' not supported by the FITS standard.  If this is meant to be a custom unit, define it with 'u.def_unit'. To have it recognized inside a file reader or other code, enable it with 'u.add_enabled_units'. For details, see http://docs.astropy.org/en/latest/units/combining_and_defining.html [astropy.units.core]\n",
      "WARNING: UnitsWarning: '1/nanomaggy^2' did not parse as fits unit: Numeric factor not supported by FITS If this is meant to be a custom unit, define it with 'u.def_unit'. To have it recognized inside a file reader or other code, enable it with 'u.add_enabled_units'. For details, see http://docs.astropy.org/en/latest/units/combining_and_defining.html [astropy.units.core]\n"
     ]
    },
    {
     "name": "stdout",
     "output_type": "stream",
     "text": [
      "WARNING:io.py:611:write_targets: qso_selection method not specified for output file\n"
     ]
    },
    {
     "name": "stderr",
     "output_type": "stream",
     "text": [
      "WARNING: MergeConflictWarning: Cannot merge meta key 'DEPNAM00' types <class 'str'> and <class 'str'>, choosing DEPNAM00='desitarget' [astropy.utils.metadata]\n",
      "WARNING: MergeConflictWarning: Cannot merge meta key 'DEPVER00' types <class 'str'> and <class 'str'>, choosing DEPVER00='0.57.1' [astropy.utils.metadata]\n",
      "WARNING: MergeConflictWarning: Cannot merge meta key 'DEPNAM01' types <class 'str'> and <class 'str'>, choosing DEPNAM01='desitarget-git' [astropy.utils.metadata]\n",
      "WARNING: MergeConflictWarning: Cannot merge meta key 'DEPVER01' types <class 'str'> and <class 'str'>, choosing DEPVER01='0.57.1' [astropy.utils.metadata]\n",
      "WARNING: MergeConflictWarning: Cannot merge meta key 'DEPNAM02' types <class 'str'> and <class 'str'>, choosing DEPNAM02='photcat' [astropy.utils.metadata]\n",
      "WARNING: MergeConflictWarning: Cannot merge meta key 'DEPVER02' types <class 'str'> and <class 'str'>, choosing DEPVER02='X' [astropy.utils.metadata]\n",
      "WARNING: MergeConflictWarning: Cannot merge meta key 'DEPNAM03' types <class 'str'> and <class 'str'>, choosing DEPNAM03='tractor-files' [astropy.utils.metadata]\n",
      "WARNING: MergeConflictWarning: Cannot merge meta key 'DEPVER03' types <class 'str'> and <class 'str'>, choosing DEPVER03='/global/cfs/cdirs/desi/survey/ops/surveyops/trunk/mtl/sv3/dark' [astropy.utils.metadata]\n",
      "WARNING: MergeConflictWarning: Cannot merge meta key 'DEPNAM04' types <class 'str'> and <class 'str'>, choosing DEPNAM04='tractor-files-2' [astropy.utils.metadata]\n",
      "WARNING: MergeConflictWarning: Cannot merge meta key 'DEPVER04' types <class 'str'> and <class 'str'>, choosing DEPVER04='/global/cfs/cdirs/desi/target/catalogs/dr9/0.57.0/targets/sv3/resolve/dark' [astropy.utils.metadata]\n",
      "WARNING: MergeConflictWarning: Cannot merge meta key 'DEPNAM05' types <class 'str'> and <class 'str'>, choosing DEPNAM05='qso-selection' [astropy.utils.metadata]\n",
      "WARNING: MergeConflictWarning: Cannot merge meta key 'DEPVER05' types <class 'str'> and <class 'str'>, choosing DEPVER05='unknown' [astropy.utils.metadata]\n",
      "WARNING: MergeConflictWarning: Cannot merge meta key 'DR' types <class 'astropy.io.fits.card.Undefined'> and <class 'astropy.io.fits.card.Undefined'>, choosing DR=<astropy.io.fits.card.Undefined object at 0x2aaad43d6940> [astropy.utils.metadata]\n",
      "WARNING: UnitsWarning: 'nanomaggy' did not parse as fits unit: At col 0, Unit 'nanomaggy' not supported by the FITS standard.  If this is meant to be a custom unit, define it with 'u.def_unit'. To have it recognized inside a file reader or other code, enable it with 'u.add_enabled_units'. For details, see http://docs.astropy.org/en/latest/units/combining_and_defining.html [astropy.units.core]\n",
      "WARNING: UnitsWarning: '1/nanomaggy^2' did not parse as fits unit: Numeric factor not supported by FITS If this is meant to be a custom unit, define it with 'u.def_unit'. To have it recognized inside a file reader or other code, enable it with 'u.add_enabled_units'. For details, see http://docs.astropy.org/en/latest/units/combining_and_defining.html [astropy.units.core]\n"
     ]
    },
    {
     "name": "stdout",
     "output_type": "stream",
     "text": [
      "WARNING:io.py:611:write_targets: qso_selection method not specified for output file\n"
     ]
    },
    {
     "name": "stderr",
     "output_type": "stream",
     "text": [
      "WARNING: MergeConflictWarning: Cannot merge meta key 'DEPNAM00' types <class 'str'> and <class 'str'>, choosing DEPNAM00='desitarget' [astropy.utils.metadata]\n",
      "WARNING: MergeConflictWarning: Cannot merge meta key 'DEPVER00' types <class 'str'> and <class 'str'>, choosing DEPVER00='0.57.1' [astropy.utils.metadata]\n",
      "WARNING: MergeConflictWarning: Cannot merge meta key 'DEPNAM01' types <class 'str'> and <class 'str'>, choosing DEPNAM01='desitarget-git' [astropy.utils.metadata]\n",
      "WARNING: MergeConflictWarning: Cannot merge meta key 'DEPVER01' types <class 'str'> and <class 'str'>, choosing DEPVER01='0.57.1' [astropy.utils.metadata]\n",
      "WARNING: MergeConflictWarning: Cannot merge meta key 'DEPNAM02' types <class 'str'> and <class 'str'>, choosing DEPNAM02='photcat' [astropy.utils.metadata]\n",
      "WARNING: MergeConflictWarning: Cannot merge meta key 'DEPVER02' types <class 'str'> and <class 'str'>, choosing DEPVER02='X' [astropy.utils.metadata]\n",
      "WARNING: MergeConflictWarning: Cannot merge meta key 'DEPNAM03' types <class 'str'> and <class 'str'>, choosing DEPNAM03='tractor-files' [astropy.utils.metadata]\n",
      "WARNING: MergeConflictWarning: Cannot merge meta key 'DEPVER03' types <class 'str'> and <class 'str'>, choosing DEPVER03='/global/cfs/cdirs/desi/survey/ops/surveyops/trunk/mtl/sv3/dark' [astropy.utils.metadata]\n",
      "WARNING: MergeConflictWarning: Cannot merge meta key 'DEPNAM04' types <class 'str'> and <class 'str'>, choosing DEPNAM04='tractor-files-2' [astropy.utils.metadata]\n",
      "WARNING: MergeConflictWarning: Cannot merge meta key 'DEPVER04' types <class 'str'> and <class 'str'>, choosing DEPVER04='/global/cfs/cdirs/desi/target/catalogs/dr9/0.57.0/targets/sv3/resolve/dark' [astropy.utils.metadata]\n",
      "WARNING: MergeConflictWarning: Cannot merge meta key 'DEPNAM05' types <class 'str'> and <class 'str'>, choosing DEPNAM05='qso-selection' [astropy.utils.metadata]\n",
      "WARNING: MergeConflictWarning: Cannot merge meta key 'DEPVER05' types <class 'str'> and <class 'str'>, choosing DEPVER05='unknown' [astropy.utils.metadata]\n",
      "WARNING: MergeConflictWarning: Cannot merge meta key 'DR' types <class 'astropy.io.fits.card.Undefined'> and <class 'astropy.io.fits.card.Undefined'>, choosing DR=<astropy.io.fits.card.Undefined object at 0x2aaad43d6940> [astropy.utils.metadata]\n",
      "WARNING: UnitsWarning: 'nanomaggy' did not parse as fits unit: At col 0, Unit 'nanomaggy' not supported by the FITS standard.  If this is meant to be a custom unit, define it with 'u.def_unit'. To have it recognized inside a file reader or other code, enable it with 'u.add_enabled_units'. For details, see http://docs.astropy.org/en/latest/units/combining_and_defining.html [astropy.units.core]\n",
      "WARNING: UnitsWarning: '1/nanomaggy^2' did not parse as fits unit: Numeric factor not supported by FITS If this is meant to be a custom unit, define it with 'u.def_unit'. To have it recognized inside a file reader or other code, enable it with 'u.add_enabled_units'. For details, see http://docs.astropy.org/en/latest/units/combining_and_defining.html [astropy.units.core]\n"
     ]
    },
    {
     "name": "stdout",
     "output_type": "stream",
     "text": [
      "WARNING:io.py:611:write_targets: qso_selection method not specified for output file\n"
     ]
    },
    {
     "name": "stderr",
     "output_type": "stream",
     "text": [
      "WARNING: MergeConflictWarning: Cannot merge meta key 'DEPNAM00' types <class 'str'> and <class 'str'>, choosing DEPNAM00='desitarget' [astropy.utils.metadata]\n",
      "WARNING: MergeConflictWarning: Cannot merge meta key 'DEPVER00' types <class 'str'> and <class 'str'>, choosing DEPVER00='0.57.1' [astropy.utils.metadata]\n",
      "WARNING: MergeConflictWarning: Cannot merge meta key 'DEPNAM01' types <class 'str'> and <class 'str'>, choosing DEPNAM01='desitarget-git' [astropy.utils.metadata]\n",
      "WARNING: MergeConflictWarning: Cannot merge meta key 'DEPVER01' types <class 'str'> and <class 'str'>, choosing DEPVER01='0.57.1' [astropy.utils.metadata]\n",
      "WARNING: MergeConflictWarning: Cannot merge meta key 'DEPNAM02' types <class 'str'> and <class 'str'>, choosing DEPNAM02='photcat' [astropy.utils.metadata]\n",
      "WARNING: MergeConflictWarning: Cannot merge meta key 'DEPVER02' types <class 'str'> and <class 'str'>, choosing DEPVER02='X' [astropy.utils.metadata]\n",
      "WARNING: MergeConflictWarning: Cannot merge meta key 'DEPNAM03' types <class 'str'> and <class 'str'>, choosing DEPNAM03='tractor-files' [astropy.utils.metadata]\n",
      "WARNING: MergeConflictWarning: Cannot merge meta key 'DEPVER03' types <class 'str'> and <class 'str'>, choosing DEPVER03='/global/cfs/cdirs/desi/survey/ops/surveyops/trunk/mtl/sv3/dark' [astropy.utils.metadata]\n",
      "WARNING: MergeConflictWarning: Cannot merge meta key 'DEPNAM04' types <class 'str'> and <class 'str'>, choosing DEPNAM04='tractor-files-2' [astropy.utils.metadata]\n",
      "WARNING: MergeConflictWarning: Cannot merge meta key 'DEPVER04' types <class 'str'> and <class 'str'>, choosing DEPVER04='/global/cfs/cdirs/desi/target/catalogs/dr9/0.57.0/targets/sv3/resolve/dark' [astropy.utils.metadata]\n",
      "WARNING: MergeConflictWarning: Cannot merge meta key 'DEPNAM05' types <class 'str'> and <class 'str'>, choosing DEPNAM05='qso-selection' [astropy.utils.metadata]\n",
      "WARNING: MergeConflictWarning: Cannot merge meta key 'DEPVER05' types <class 'str'> and <class 'str'>, choosing DEPVER05='unknown' [astropy.utils.metadata]\n",
      "WARNING: MergeConflictWarning: Cannot merge meta key 'DR' types <class 'astropy.io.fits.card.Undefined'> and <class 'astropy.io.fits.card.Undefined'>, choosing DR=<astropy.io.fits.card.Undefined object at 0x2aaad43d6940> [astropy.utils.metadata]\n",
      "WARNING: UnitsWarning: 'nanomaggy' did not parse as fits unit: At col 0, Unit 'nanomaggy' not supported by the FITS standard.  If this is meant to be a custom unit, define it with 'u.def_unit'. To have it recognized inside a file reader or other code, enable it with 'u.add_enabled_units'. For details, see http://docs.astropy.org/en/latest/units/combining_and_defining.html [astropy.units.core]\n",
      "WARNING: UnitsWarning: '1/nanomaggy^2' did not parse as fits unit: Numeric factor not supported by FITS If this is meant to be a custom unit, define it with 'u.def_unit'. To have it recognized inside a file reader or other code, enable it with 'u.add_enabled_units'. For details, see http://docs.astropy.org/en/latest/units/combining_and_defining.html [astropy.units.core]\n"
     ]
    },
    {
     "name": "stdout",
     "output_type": "stream",
     "text": [
      "WARNING:io.py:611:write_targets: qso_selection method not specified for output file\n"
     ]
    },
    {
     "name": "stderr",
     "output_type": "stream",
     "text": [
      "WARNING: MergeConflictWarning: Cannot merge meta key 'DEPNAM00' types <class 'str'> and <class 'str'>, choosing DEPNAM00='desitarget' [astropy.utils.metadata]\n",
      "WARNING: MergeConflictWarning: Cannot merge meta key 'DEPVER00' types <class 'str'> and <class 'str'>, choosing DEPVER00='0.57.1' [astropy.utils.metadata]\n",
      "WARNING: MergeConflictWarning: Cannot merge meta key 'DEPNAM01' types <class 'str'> and <class 'str'>, choosing DEPNAM01='desitarget-git' [astropy.utils.metadata]\n",
      "WARNING: MergeConflictWarning: Cannot merge meta key 'DEPVER01' types <class 'str'> and <class 'str'>, choosing DEPVER01='0.57.1' [astropy.utils.metadata]\n",
      "WARNING: MergeConflictWarning: Cannot merge meta key 'DEPNAM02' types <class 'str'> and <class 'str'>, choosing DEPNAM02='photcat' [astropy.utils.metadata]\n",
      "WARNING: MergeConflictWarning: Cannot merge meta key 'DEPVER02' types <class 'str'> and <class 'str'>, choosing DEPVER02='X' [astropy.utils.metadata]\n",
      "WARNING: MergeConflictWarning: Cannot merge meta key 'DEPNAM03' types <class 'str'> and <class 'str'>, choosing DEPNAM03='tractor-files' [astropy.utils.metadata]\n",
      "WARNING: MergeConflictWarning: Cannot merge meta key 'DEPVER03' types <class 'str'> and <class 'str'>, choosing DEPVER03='/global/cfs/cdirs/desi/survey/ops/surveyops/trunk/mtl/sv3/dark' [astropy.utils.metadata]\n",
      "WARNING: MergeConflictWarning: Cannot merge meta key 'DEPNAM04' types <class 'str'> and <class 'str'>, choosing DEPNAM04='tractor-files-2' [astropy.utils.metadata]\n",
      "WARNING: MergeConflictWarning: Cannot merge meta key 'DEPVER04' types <class 'str'> and <class 'str'>, choosing DEPVER04='/global/cfs/cdirs/desi/target/catalogs/dr9/0.57.0/targets/sv3/resolve/dark' [astropy.utils.metadata]\n",
      "WARNING: MergeConflictWarning: Cannot merge meta key 'DEPNAM05' types <class 'str'> and <class 'str'>, choosing DEPNAM05='qso-selection' [astropy.utils.metadata]\n",
      "WARNING: MergeConflictWarning: Cannot merge meta key 'DEPVER05' types <class 'str'> and <class 'str'>, choosing DEPVER05='unknown' [astropy.utils.metadata]\n",
      "WARNING: MergeConflictWarning: Cannot merge meta key 'DR' types <class 'astropy.io.fits.card.Undefined'> and <class 'astropy.io.fits.card.Undefined'>, choosing DR=<astropy.io.fits.card.Undefined object at 0x2aaad43d6940> [astropy.utils.metadata]\n",
      "WARNING: UnitsWarning: 'nanomaggy' did not parse as fits unit: At col 0, Unit 'nanomaggy' not supported by the FITS standard.  If this is meant to be a custom unit, define it with 'u.def_unit'. To have it recognized inside a file reader or other code, enable it with 'u.add_enabled_units'. For details, see http://docs.astropy.org/en/latest/units/combining_and_defining.html [astropy.units.core]\n",
      "WARNING: UnitsWarning: '1/nanomaggy^2' did not parse as fits unit: Numeric factor not supported by FITS If this is meant to be a custom unit, define it with 'u.def_unit'. To have it recognized inside a file reader or other code, enable it with 'u.add_enabled_units'. For details, see http://docs.astropy.org/en/latest/units/combining_and_defining.html [astropy.units.core]\n"
     ]
    },
    {
     "name": "stdout",
     "output_type": "stream",
     "text": [
      "WARNING:io.py:611:write_targets: qso_selection method not specified for output file\n"
     ]
    },
    {
     "name": "stderr",
     "output_type": "stream",
     "text": [
      "WARNING: MergeConflictWarning: Cannot merge meta key 'DEPNAM00' types <class 'str'> and <class 'str'>, choosing DEPNAM00='desitarget' [astropy.utils.metadata]\n",
      "WARNING: MergeConflictWarning: Cannot merge meta key 'DEPVER00' types <class 'str'> and <class 'str'>, choosing DEPVER00='0.57.1' [astropy.utils.metadata]\n",
      "WARNING: MergeConflictWarning: Cannot merge meta key 'DEPNAM01' types <class 'str'> and <class 'str'>, choosing DEPNAM01='desitarget-git' [astropy.utils.metadata]\n",
      "WARNING: MergeConflictWarning: Cannot merge meta key 'DEPVER01' types <class 'str'> and <class 'str'>, choosing DEPVER01='0.57.1' [astropy.utils.metadata]\n",
      "WARNING: MergeConflictWarning: Cannot merge meta key 'DEPNAM02' types <class 'str'> and <class 'str'>, choosing DEPNAM02='photcat' [astropy.utils.metadata]\n",
      "WARNING: MergeConflictWarning: Cannot merge meta key 'DEPVER02' types <class 'str'> and <class 'str'>, choosing DEPVER02='X' [astropy.utils.metadata]\n",
      "WARNING: MergeConflictWarning: Cannot merge meta key 'DEPNAM03' types <class 'str'> and <class 'str'>, choosing DEPNAM03='tractor-files' [astropy.utils.metadata]\n",
      "WARNING: MergeConflictWarning: Cannot merge meta key 'DEPVER03' types <class 'str'> and <class 'str'>, choosing DEPVER03='/global/cfs/cdirs/desi/survey/ops/surveyops/trunk/mtl/sv3/dark' [astropy.utils.metadata]\n",
      "WARNING: MergeConflictWarning: Cannot merge meta key 'DEPNAM04' types <class 'str'> and <class 'str'>, choosing DEPNAM04='tractor-files-2' [astropy.utils.metadata]\n",
      "WARNING: MergeConflictWarning: Cannot merge meta key 'DEPVER04' types <class 'str'> and <class 'str'>, choosing DEPVER04='/global/cfs/cdirs/desi/target/catalogs/dr9/0.57.0/targets/sv3/resolve/dark' [astropy.utils.metadata]\n",
      "WARNING: MergeConflictWarning: Cannot merge meta key 'DEPNAM05' types <class 'str'> and <class 'str'>, choosing DEPNAM05='qso-selection' [astropy.utils.metadata]\n",
      "WARNING: MergeConflictWarning: Cannot merge meta key 'DEPVER05' types <class 'str'> and <class 'str'>, choosing DEPVER05='unknown' [astropy.utils.metadata]\n",
      "WARNING: MergeConflictWarning: Cannot merge meta key 'DR' types <class 'astropy.io.fits.card.Undefined'> and <class 'astropy.io.fits.card.Undefined'>, choosing DR=<astropy.io.fits.card.Undefined object at 0x2aaad43d6940> [astropy.utils.metadata]\n",
      "WARNING: UnitsWarning: 'nanomaggy' did not parse as fits unit: At col 0, Unit 'nanomaggy' not supported by the FITS standard.  If this is meant to be a custom unit, define it with 'u.def_unit'. To have it recognized inside a file reader or other code, enable it with 'u.add_enabled_units'. For details, see http://docs.astropy.org/en/latest/units/combining_and_defining.html [astropy.units.core]\n",
      "WARNING: UnitsWarning: '1/nanomaggy^2' did not parse as fits unit: Numeric factor not supported by FITS If this is meant to be a custom unit, define it with 'u.def_unit'. To have it recognized inside a file reader or other code, enable it with 'u.add_enabled_units'. For details, see http://docs.astropy.org/en/latest/units/combining_and_defining.html [astropy.units.core]\n"
     ]
    },
    {
     "name": "stdout",
     "output_type": "stream",
     "text": [
      "WARNING:io.py:611:write_targets: qso_selection method not specified for output file\n"
     ]
    },
    {
     "name": "stderr",
     "output_type": "stream",
     "text": [
      "WARNING: MergeConflictWarning: Cannot merge meta key 'DEPNAM00' types <class 'str'> and <class 'str'>, choosing DEPNAM00='desitarget' [astropy.utils.metadata]\n",
      "WARNING: MergeConflictWarning: Cannot merge meta key 'DEPVER00' types <class 'str'> and <class 'str'>, choosing DEPVER00='0.57.1' [astropy.utils.metadata]\n",
      "WARNING: MergeConflictWarning: Cannot merge meta key 'DEPNAM01' types <class 'str'> and <class 'str'>, choosing DEPNAM01='desitarget-git' [astropy.utils.metadata]\n",
      "WARNING: MergeConflictWarning: Cannot merge meta key 'DEPVER01' types <class 'str'> and <class 'str'>, choosing DEPVER01='0.57.1' [astropy.utils.metadata]\n",
      "WARNING: MergeConflictWarning: Cannot merge meta key 'DEPNAM02' types <class 'str'> and <class 'str'>, choosing DEPNAM02='photcat' [astropy.utils.metadata]\n",
      "WARNING: MergeConflictWarning: Cannot merge meta key 'DEPVER02' types <class 'str'> and <class 'str'>, choosing DEPVER02='X' [astropy.utils.metadata]\n",
      "WARNING: MergeConflictWarning: Cannot merge meta key 'DEPNAM03' types <class 'str'> and <class 'str'>, choosing DEPNAM03='tractor-files' [astropy.utils.metadata]\n",
      "WARNING: MergeConflictWarning: Cannot merge meta key 'DEPVER03' types <class 'str'> and <class 'str'>, choosing DEPVER03='/global/cfs/cdirs/desi/survey/ops/surveyops/trunk/mtl/sv3/dark' [astropy.utils.metadata]\n",
      "WARNING: MergeConflictWarning: Cannot merge meta key 'DEPNAM04' types <class 'str'> and <class 'str'>, choosing DEPNAM04='tractor-files-2' [astropy.utils.metadata]\n",
      "WARNING: MergeConflictWarning: Cannot merge meta key 'DEPVER04' types <class 'str'> and <class 'str'>, choosing DEPVER04='/global/cfs/cdirs/desi/target/catalogs/dr9/0.57.0/targets/sv3/resolve/dark' [astropy.utils.metadata]\n",
      "WARNING: MergeConflictWarning: Cannot merge meta key 'DEPNAM05' types <class 'str'> and <class 'str'>, choosing DEPNAM05='qso-selection' [astropy.utils.metadata]\n",
      "WARNING: MergeConflictWarning: Cannot merge meta key 'DEPVER05' types <class 'str'> and <class 'str'>, choosing DEPVER05='unknown' [astropy.utils.metadata]\n",
      "WARNING: MergeConflictWarning: Cannot merge meta key 'DR' types <class 'astropy.io.fits.card.Undefined'> and <class 'astropy.io.fits.card.Undefined'>, choosing DR=<astropy.io.fits.card.Undefined object at 0x2aaad43d6940> [astropy.utils.metadata]\n",
      "WARNING: UnitsWarning: 'nanomaggy' did not parse as fits unit: At col 0, Unit 'nanomaggy' not supported by the FITS standard.  If this is meant to be a custom unit, define it with 'u.def_unit'. To have it recognized inside a file reader or other code, enable it with 'u.add_enabled_units'. For details, see http://docs.astropy.org/en/latest/units/combining_and_defining.html [astropy.units.core]\n",
      "WARNING: UnitsWarning: '1/nanomaggy^2' did not parse as fits unit: Numeric factor not supported by FITS If this is meant to be a custom unit, define it with 'u.def_unit'. To have it recognized inside a file reader or other code, enable it with 'u.add_enabled_units'. For details, see http://docs.astropy.org/en/latest/units/combining_and_defining.html [astropy.units.core]\n"
     ]
    },
    {
     "name": "stdout",
     "output_type": "stream",
     "text": [
      "WARNING:io.py:611:write_targets: qso_selection method not specified for output file\n"
     ]
    },
    {
     "name": "stderr",
     "output_type": "stream",
     "text": [
      "WARNING: MergeConflictWarning: Cannot merge meta key 'DEPNAM00' types <class 'str'> and <class 'str'>, choosing DEPNAM00='desitarget' [astropy.utils.metadata]\n",
      "WARNING: MergeConflictWarning: Cannot merge meta key 'DEPVER00' types <class 'str'> and <class 'str'>, choosing DEPVER00='0.57.1' [astropy.utils.metadata]\n",
      "WARNING: MergeConflictWarning: Cannot merge meta key 'DEPNAM01' types <class 'str'> and <class 'str'>, choosing DEPNAM01='desitarget-git' [astropy.utils.metadata]\n",
      "WARNING: MergeConflictWarning: Cannot merge meta key 'DEPVER01' types <class 'str'> and <class 'str'>, choosing DEPVER01='0.57.1' [astropy.utils.metadata]\n",
      "WARNING: MergeConflictWarning: Cannot merge meta key 'DEPNAM02' types <class 'str'> and <class 'str'>, choosing DEPNAM02='photcat' [astropy.utils.metadata]\n",
      "WARNING: MergeConflictWarning: Cannot merge meta key 'DEPVER02' types <class 'str'> and <class 'str'>, choosing DEPVER02='X' [astropy.utils.metadata]\n",
      "WARNING: MergeConflictWarning: Cannot merge meta key 'DEPNAM03' types <class 'str'> and <class 'str'>, choosing DEPNAM03='tractor-files' [astropy.utils.metadata]\n",
      "WARNING: MergeConflictWarning: Cannot merge meta key 'DEPVER03' types <class 'str'> and <class 'str'>, choosing DEPVER03='/global/cfs/cdirs/desi/survey/ops/surveyops/trunk/mtl/sv3/dark' [astropy.utils.metadata]\n",
      "WARNING: MergeConflictWarning: Cannot merge meta key 'DEPNAM04' types <class 'str'> and <class 'str'>, choosing DEPNAM04='tractor-files-2' [astropy.utils.metadata]\n",
      "WARNING: MergeConflictWarning: Cannot merge meta key 'DEPVER04' types <class 'str'> and <class 'str'>, choosing DEPVER04='/global/cfs/cdirs/desi/target/catalogs/dr9/0.57.0/targets/sv3/resolve/dark' [astropy.utils.metadata]\n",
      "WARNING: MergeConflictWarning: Cannot merge meta key 'DEPNAM05' types <class 'str'> and <class 'str'>, choosing DEPNAM05='qso-selection' [astropy.utils.metadata]\n",
      "WARNING: MergeConflictWarning: Cannot merge meta key 'DEPVER05' types <class 'str'> and <class 'str'>, choosing DEPVER05='unknown' [astropy.utils.metadata]\n",
      "WARNING: MergeConflictWarning: Cannot merge meta key 'DR' types <class 'astropy.io.fits.card.Undefined'> and <class 'astropy.io.fits.card.Undefined'>, choosing DR=<astropy.io.fits.card.Undefined object at 0x2aaad43d6940> [astropy.utils.metadata]\n",
      "WARNING: UnitsWarning: 'nanomaggy' did not parse as fits unit: At col 0, Unit 'nanomaggy' not supported by the FITS standard.  If this is meant to be a custom unit, define it with 'u.def_unit'. To have it recognized inside a file reader or other code, enable it with 'u.add_enabled_units'. For details, see http://docs.astropy.org/en/latest/units/combining_and_defining.html [astropy.units.core]\n",
      "WARNING: UnitsWarning: '1/nanomaggy^2' did not parse as fits unit: Numeric factor not supported by FITS If this is meant to be a custom unit, define it with 'u.def_unit'. To have it recognized inside a file reader or other code, enable it with 'u.add_enabled_units'. For details, see http://docs.astropy.org/en/latest/units/combining_and_defining.html [astropy.units.core]\n"
     ]
    },
    {
     "name": "stdout",
     "output_type": "stream",
     "text": [
      "WARNING:io.py:611:write_targets: qso_selection method not specified for output file\n"
     ]
    },
    {
     "name": "stderr",
     "output_type": "stream",
     "text": [
      "WARNING: MergeConflictWarning: Cannot merge meta key 'DEPNAM00' types <class 'str'> and <class 'str'>, choosing DEPNAM00='desitarget' [astropy.utils.metadata]\n",
      "WARNING: MergeConflictWarning: Cannot merge meta key 'DEPVER00' types <class 'str'> and <class 'str'>, choosing DEPVER00='0.57.1' [astropy.utils.metadata]\n",
      "WARNING: MergeConflictWarning: Cannot merge meta key 'DEPNAM01' types <class 'str'> and <class 'str'>, choosing DEPNAM01='desitarget-git' [astropy.utils.metadata]\n",
      "WARNING: MergeConflictWarning: Cannot merge meta key 'DEPVER01' types <class 'str'> and <class 'str'>, choosing DEPVER01='0.57.1' [astropy.utils.metadata]\n",
      "WARNING: MergeConflictWarning: Cannot merge meta key 'DEPNAM02' types <class 'str'> and <class 'str'>, choosing DEPNAM02='photcat' [astropy.utils.metadata]\n",
      "WARNING: MergeConflictWarning: Cannot merge meta key 'DEPVER02' types <class 'str'> and <class 'str'>, choosing DEPVER02='X' [astropy.utils.metadata]\n",
      "WARNING: MergeConflictWarning: Cannot merge meta key 'DEPNAM03' types <class 'str'> and <class 'str'>, choosing DEPNAM03='tractor-files' [astropy.utils.metadata]\n",
      "WARNING: MergeConflictWarning: Cannot merge meta key 'DEPVER03' types <class 'str'> and <class 'str'>, choosing DEPVER03='/global/cfs/cdirs/desi/survey/ops/surveyops/trunk/mtl/sv3/dark' [astropy.utils.metadata]\n",
      "WARNING: MergeConflictWarning: Cannot merge meta key 'DEPNAM04' types <class 'str'> and <class 'str'>, choosing DEPNAM04='tractor-files-2' [astropy.utils.metadata]\n",
      "WARNING: MergeConflictWarning: Cannot merge meta key 'DEPVER04' types <class 'str'> and <class 'str'>, choosing DEPVER04='/global/cfs/cdirs/desi/target/catalogs/dr9/0.57.0/targets/sv3/resolve/dark' [astropy.utils.metadata]\n",
      "WARNING: MergeConflictWarning: Cannot merge meta key 'DEPNAM05' types <class 'str'> and <class 'str'>, choosing DEPNAM05='qso-selection' [astropy.utils.metadata]\n",
      "WARNING: MergeConflictWarning: Cannot merge meta key 'DEPVER05' types <class 'str'> and <class 'str'>, choosing DEPVER05='unknown' [astropy.utils.metadata]\n",
      "WARNING: MergeConflictWarning: Cannot merge meta key 'DR' types <class 'astropy.io.fits.card.Undefined'> and <class 'astropy.io.fits.card.Undefined'>, choosing DR=<astropy.io.fits.card.Undefined object at 0x2aaad43d6940> [astropy.utils.metadata]\n",
      "WARNING: UnitsWarning: 'nanomaggy' did not parse as fits unit: At col 0, Unit 'nanomaggy' not supported by the FITS standard.  If this is meant to be a custom unit, define it with 'u.def_unit'. To have it recognized inside a file reader or other code, enable it with 'u.add_enabled_units'. For details, see http://docs.astropy.org/en/latest/units/combining_and_defining.html [astropy.units.core]\n",
      "WARNING: UnitsWarning: '1/nanomaggy^2' did not parse as fits unit: Numeric factor not supported by FITS If this is meant to be a custom unit, define it with 'u.def_unit'. To have it recognized inside a file reader or other code, enable it with 'u.add_enabled_units'. For details, see http://docs.astropy.org/en/latest/units/combining_and_defining.html [astropy.units.core]\n"
     ]
    },
    {
     "name": "stdout",
     "output_type": "stream",
     "text": [
      "WARNING:io.py:611:write_targets: qso_selection method not specified for output file\n"
     ]
    },
    {
     "name": "stderr",
     "output_type": "stream",
     "text": [
      "WARNING: MergeConflictWarning: Cannot merge meta key 'DEPNAM00' types <class 'str'> and <class 'str'>, choosing DEPNAM00='desitarget' [astropy.utils.metadata]\n",
      "WARNING: MergeConflictWarning: Cannot merge meta key 'DEPVER00' types <class 'str'> and <class 'str'>, choosing DEPVER00='0.57.1' [astropy.utils.metadata]\n",
      "WARNING: MergeConflictWarning: Cannot merge meta key 'DEPNAM01' types <class 'str'> and <class 'str'>, choosing DEPNAM01='desitarget-git' [astropy.utils.metadata]\n",
      "WARNING: MergeConflictWarning: Cannot merge meta key 'DEPVER01' types <class 'str'> and <class 'str'>, choosing DEPVER01='0.57.1' [astropy.utils.metadata]\n",
      "WARNING: MergeConflictWarning: Cannot merge meta key 'DEPNAM02' types <class 'str'> and <class 'str'>, choosing DEPNAM02='photcat' [astropy.utils.metadata]\n",
      "WARNING: MergeConflictWarning: Cannot merge meta key 'DEPVER02' types <class 'str'> and <class 'str'>, choosing DEPVER02='X' [astropy.utils.metadata]\n",
      "WARNING: MergeConflictWarning: Cannot merge meta key 'DEPNAM03' types <class 'str'> and <class 'str'>, choosing DEPNAM03='tractor-files' [astropy.utils.metadata]\n",
      "WARNING: MergeConflictWarning: Cannot merge meta key 'DEPVER03' types <class 'str'> and <class 'str'>, choosing DEPVER03='/global/cfs/cdirs/desi/survey/ops/surveyops/trunk/mtl/sv3/dark' [astropy.utils.metadata]\n",
      "WARNING: MergeConflictWarning: Cannot merge meta key 'DEPNAM04' types <class 'str'> and <class 'str'>, choosing DEPNAM04='tractor-files-2' [astropy.utils.metadata]\n",
      "WARNING: MergeConflictWarning: Cannot merge meta key 'DEPVER04' types <class 'str'> and <class 'str'>, choosing DEPVER04='/global/cfs/cdirs/desi/target/catalogs/dr9/0.57.0/targets/sv3/resolve/dark' [astropy.utils.metadata]\n",
      "WARNING: MergeConflictWarning: Cannot merge meta key 'DEPNAM05' types <class 'str'> and <class 'str'>, choosing DEPNAM05='qso-selection' [astropy.utils.metadata]\n",
      "WARNING: MergeConflictWarning: Cannot merge meta key 'DEPVER05' types <class 'str'> and <class 'str'>, choosing DEPVER05='unknown' [astropy.utils.metadata]\n",
      "WARNING: MergeConflictWarning: Cannot merge meta key 'DR' types <class 'astropy.io.fits.card.Undefined'> and <class 'astropy.io.fits.card.Undefined'>, choosing DR=<astropy.io.fits.card.Undefined object at 0x2aaad43d6940> [astropy.utils.metadata]\n",
      "WARNING: UnitsWarning: 'nanomaggy' did not parse as fits unit: At col 0, Unit 'nanomaggy' not supported by the FITS standard.  If this is meant to be a custom unit, define it with 'u.def_unit'. To have it recognized inside a file reader or other code, enable it with 'u.add_enabled_units'. For details, see http://docs.astropy.org/en/latest/units/combining_and_defining.html [astropy.units.core]\n",
      "WARNING: UnitsWarning: '1/nanomaggy^2' did not parse as fits unit: Numeric factor not supported by FITS If this is meant to be a custom unit, define it with 'u.def_unit'. To have it recognized inside a file reader or other code, enable it with 'u.add_enabled_units'. For details, see http://docs.astropy.org/en/latest/units/combining_and_defining.html [astropy.units.core]\n"
     ]
    },
    {
     "name": "stdout",
     "output_type": "stream",
     "text": [
      "WARNING:io.py:611:write_targets: qso_selection method not specified for output file\n"
     ]
    },
    {
     "name": "stderr",
     "output_type": "stream",
     "text": [
      "WARNING: MergeConflictWarning: Cannot merge meta key 'DEPNAM00' types <class 'str'> and <class 'str'>, choosing DEPNAM00='desitarget' [astropy.utils.metadata]\n",
      "WARNING: MergeConflictWarning: Cannot merge meta key 'DEPVER00' types <class 'str'> and <class 'str'>, choosing DEPVER00='0.57.1' [astropy.utils.metadata]\n",
      "WARNING: MergeConflictWarning: Cannot merge meta key 'DEPNAM01' types <class 'str'> and <class 'str'>, choosing DEPNAM01='desitarget-git' [astropy.utils.metadata]\n",
      "WARNING: MergeConflictWarning: Cannot merge meta key 'DEPVER01' types <class 'str'> and <class 'str'>, choosing DEPVER01='0.57.1' [astropy.utils.metadata]\n",
      "WARNING: MergeConflictWarning: Cannot merge meta key 'DEPNAM02' types <class 'str'> and <class 'str'>, choosing DEPNAM02='photcat' [astropy.utils.metadata]\n",
      "WARNING: MergeConflictWarning: Cannot merge meta key 'DEPVER02' types <class 'str'> and <class 'str'>, choosing DEPVER02='X' [astropy.utils.metadata]\n",
      "WARNING: MergeConflictWarning: Cannot merge meta key 'DEPNAM03' types <class 'str'> and <class 'str'>, choosing DEPNAM03='tractor-files' [astropy.utils.metadata]\n",
      "WARNING: MergeConflictWarning: Cannot merge meta key 'DEPVER03' types <class 'str'> and <class 'str'>, choosing DEPVER03='/global/cfs/cdirs/desi/survey/ops/surveyops/trunk/mtl/sv3/dark' [astropy.utils.metadata]\n",
      "WARNING: MergeConflictWarning: Cannot merge meta key 'DEPNAM04' types <class 'str'> and <class 'str'>, choosing DEPNAM04='tractor-files-2' [astropy.utils.metadata]\n",
      "WARNING: MergeConflictWarning: Cannot merge meta key 'DEPVER04' types <class 'str'> and <class 'str'>, choosing DEPVER04='/global/cfs/cdirs/desi/target/catalogs/dr9/0.57.0/targets/sv3/resolve/dark' [astropy.utils.metadata]\n",
      "WARNING: MergeConflictWarning: Cannot merge meta key 'DEPNAM05' types <class 'str'> and <class 'str'>, choosing DEPNAM05='qso-selection' [astropy.utils.metadata]\n",
      "WARNING: MergeConflictWarning: Cannot merge meta key 'DEPVER05' types <class 'str'> and <class 'str'>, choosing DEPVER05='unknown' [astropy.utils.metadata]\n",
      "WARNING: MergeConflictWarning: Cannot merge meta key 'DR' types <class 'astropy.io.fits.card.Undefined'> and <class 'astropy.io.fits.card.Undefined'>, choosing DR=<astropy.io.fits.card.Undefined object at 0x2aaad43d6940> [astropy.utils.metadata]\n",
      "WARNING: UnitsWarning: 'nanomaggy' did not parse as fits unit: At col 0, Unit 'nanomaggy' not supported by the FITS standard.  If this is meant to be a custom unit, define it with 'u.def_unit'. To have it recognized inside a file reader or other code, enable it with 'u.add_enabled_units'. For details, see http://docs.astropy.org/en/latest/units/combining_and_defining.html [astropy.units.core]\n",
      "WARNING: UnitsWarning: '1/nanomaggy^2' did not parse as fits unit: Numeric factor not supported by FITS If this is meant to be a custom unit, define it with 'u.def_unit'. To have it recognized inside a file reader or other code, enable it with 'u.add_enabled_units'. For details, see http://docs.astropy.org/en/latest/units/combining_and_defining.html [astropy.units.core]\n"
     ]
    },
    {
     "name": "stdout",
     "output_type": "stream",
     "text": [
      "WARNING:io.py:611:write_targets: qso_selection method not specified for output file\n"
     ]
    },
    {
     "name": "stderr",
     "output_type": "stream",
     "text": [
      "WARNING: MergeConflictWarning: Cannot merge meta key 'DEPNAM00' types <class 'str'> and <class 'str'>, choosing DEPNAM00='desitarget' [astropy.utils.metadata]\n",
      "WARNING: MergeConflictWarning: Cannot merge meta key 'DEPVER00' types <class 'str'> and <class 'str'>, choosing DEPVER00='0.57.1' [astropy.utils.metadata]\n",
      "WARNING: MergeConflictWarning: Cannot merge meta key 'DEPNAM01' types <class 'str'> and <class 'str'>, choosing DEPNAM01='desitarget-git' [astropy.utils.metadata]\n",
      "WARNING: MergeConflictWarning: Cannot merge meta key 'DEPVER01' types <class 'str'> and <class 'str'>, choosing DEPVER01='0.57.1' [astropy.utils.metadata]\n",
      "WARNING: MergeConflictWarning: Cannot merge meta key 'DEPNAM02' types <class 'str'> and <class 'str'>, choosing DEPNAM02='photcat' [astropy.utils.metadata]\n",
      "WARNING: MergeConflictWarning: Cannot merge meta key 'DEPVER02' types <class 'str'> and <class 'str'>, choosing DEPVER02='X' [astropy.utils.metadata]\n",
      "WARNING: MergeConflictWarning: Cannot merge meta key 'DEPNAM03' types <class 'str'> and <class 'str'>, choosing DEPNAM03='tractor-files' [astropy.utils.metadata]\n",
      "WARNING: MergeConflictWarning: Cannot merge meta key 'DEPVER03' types <class 'str'> and <class 'str'>, choosing DEPVER03='/global/cfs/cdirs/desi/survey/ops/surveyops/trunk/mtl/sv3/dark' [astropy.utils.metadata]\n",
      "WARNING: MergeConflictWarning: Cannot merge meta key 'DEPNAM04' types <class 'str'> and <class 'str'>, choosing DEPNAM04='tractor-files-2' [astropy.utils.metadata]\n",
      "WARNING: MergeConflictWarning: Cannot merge meta key 'DEPVER04' types <class 'str'> and <class 'str'>, choosing DEPVER04='/global/cfs/cdirs/desi/target/catalogs/dr9/0.57.0/targets/sv3/resolve/dark' [astropy.utils.metadata]\n",
      "WARNING: MergeConflictWarning: Cannot merge meta key 'DEPNAM05' types <class 'str'> and <class 'str'>, choosing DEPNAM05='qso-selection' [astropy.utils.metadata]\n",
      "WARNING: MergeConflictWarning: Cannot merge meta key 'DEPVER05' types <class 'str'> and <class 'str'>, choosing DEPVER05='unknown' [astropy.utils.metadata]\n",
      "WARNING: MergeConflictWarning: Cannot merge meta key 'DR' types <class 'astropy.io.fits.card.Undefined'> and <class 'astropy.io.fits.card.Undefined'>, choosing DR=<astropy.io.fits.card.Undefined object at 0x2aaad43d6940> [astropy.utils.metadata]\n",
      "WARNING: UnitsWarning: 'nanomaggy' did not parse as fits unit: At col 0, Unit 'nanomaggy' not supported by the FITS standard.  If this is meant to be a custom unit, define it with 'u.def_unit'. To have it recognized inside a file reader or other code, enable it with 'u.add_enabled_units'. For details, see http://docs.astropy.org/en/latest/units/combining_and_defining.html [astropy.units.core]\n",
      "WARNING: UnitsWarning: '1/nanomaggy^2' did not parse as fits unit: Numeric factor not supported by FITS If this is meant to be a custom unit, define it with 'u.def_unit'. To have it recognized inside a file reader or other code, enable it with 'u.add_enabled_units'. For details, see http://docs.astropy.org/en/latest/units/combining_and_defining.html [astropy.units.core]\n"
     ]
    },
    {
     "name": "stdout",
     "output_type": "stream",
     "text": [
      "WARNING:io.py:611:write_targets: qso_selection method not specified for output file\n"
     ]
    },
    {
     "name": "stderr",
     "output_type": "stream",
     "text": [
      "WARNING: MergeConflictWarning: Cannot merge meta key 'DEPNAM00' types <class 'str'> and <class 'str'>, choosing DEPNAM00='desitarget' [astropy.utils.metadata]\n",
      "WARNING: MergeConflictWarning: Cannot merge meta key 'DEPVER00' types <class 'str'> and <class 'str'>, choosing DEPVER00='0.57.1' [astropy.utils.metadata]\n",
      "WARNING: MergeConflictWarning: Cannot merge meta key 'DEPNAM01' types <class 'str'> and <class 'str'>, choosing DEPNAM01='desitarget-git' [astropy.utils.metadata]\n",
      "WARNING: MergeConflictWarning: Cannot merge meta key 'DEPVER01' types <class 'str'> and <class 'str'>, choosing DEPVER01='0.57.1' [astropy.utils.metadata]\n",
      "WARNING: MergeConflictWarning: Cannot merge meta key 'DEPNAM02' types <class 'str'> and <class 'str'>, choosing DEPNAM02='photcat' [astropy.utils.metadata]\n",
      "WARNING: MergeConflictWarning: Cannot merge meta key 'DEPVER02' types <class 'str'> and <class 'str'>, choosing DEPVER02='X' [astropy.utils.metadata]\n",
      "WARNING: MergeConflictWarning: Cannot merge meta key 'DEPNAM03' types <class 'str'> and <class 'str'>, choosing DEPNAM03='tractor-files' [astropy.utils.metadata]\n",
      "WARNING: MergeConflictWarning: Cannot merge meta key 'DEPVER03' types <class 'str'> and <class 'str'>, choosing DEPVER03='/global/cfs/cdirs/desi/survey/ops/surveyops/trunk/mtl/sv3/dark' [astropy.utils.metadata]\n",
      "WARNING: MergeConflictWarning: Cannot merge meta key 'DEPNAM04' types <class 'str'> and <class 'str'>, choosing DEPNAM04='tractor-files-2' [astropy.utils.metadata]\n",
      "WARNING: MergeConflictWarning: Cannot merge meta key 'DEPVER04' types <class 'str'> and <class 'str'>, choosing DEPVER04='/global/cfs/cdirs/desi/target/catalogs/dr9/0.57.0/targets/sv3/resolve/dark' [astropy.utils.metadata]\n",
      "WARNING: MergeConflictWarning: Cannot merge meta key 'DEPNAM05' types <class 'str'> and <class 'str'>, choosing DEPNAM05='qso-selection' [astropy.utils.metadata]\n",
      "WARNING: MergeConflictWarning: Cannot merge meta key 'DEPVER05' types <class 'str'> and <class 'str'>, choosing DEPVER05='unknown' [astropy.utils.metadata]\n",
      "WARNING: MergeConflictWarning: Cannot merge meta key 'DR' types <class 'astropy.io.fits.card.Undefined'> and <class 'astropy.io.fits.card.Undefined'>, choosing DR=<astropy.io.fits.card.Undefined object at 0x2aaad43d6940> [astropy.utils.metadata]\n",
      "WARNING: UnitsWarning: 'nanomaggy' did not parse as fits unit: At col 0, Unit 'nanomaggy' not supported by the FITS standard.  If this is meant to be a custom unit, define it with 'u.def_unit'. To have it recognized inside a file reader or other code, enable it with 'u.add_enabled_units'. For details, see http://docs.astropy.org/en/latest/units/combining_and_defining.html [astropy.units.core]\n",
      "WARNING: UnitsWarning: '1/nanomaggy^2' did not parse as fits unit: Numeric factor not supported by FITS If this is meant to be a custom unit, define it with 'u.def_unit'. To have it recognized inside a file reader or other code, enable it with 'u.add_enabled_units'. For details, see http://docs.astropy.org/en/latest/units/combining_and_defining.html [astropy.units.core]\n"
     ]
    },
    {
     "name": "stdout",
     "output_type": "stream",
     "text": [
      "WARNING:io.py:611:write_targets: qso_selection method not specified for output file\n"
     ]
    },
    {
     "name": "stderr",
     "output_type": "stream",
     "text": [
      "WARNING: MergeConflictWarning: Cannot merge meta key 'DEPNAM00' types <class 'str'> and <class 'str'>, choosing DEPNAM00='desitarget' [astropy.utils.metadata]\n",
      "WARNING: MergeConflictWarning: Cannot merge meta key 'DEPVER00' types <class 'str'> and <class 'str'>, choosing DEPVER00='0.57.1' [astropy.utils.metadata]\n",
      "WARNING: MergeConflictWarning: Cannot merge meta key 'DEPNAM01' types <class 'str'> and <class 'str'>, choosing DEPNAM01='desitarget-git' [astropy.utils.metadata]\n",
      "WARNING: MergeConflictWarning: Cannot merge meta key 'DEPVER01' types <class 'str'> and <class 'str'>, choosing DEPVER01='0.57.1' [astropy.utils.metadata]\n",
      "WARNING: MergeConflictWarning: Cannot merge meta key 'DEPNAM02' types <class 'str'> and <class 'str'>, choosing DEPNAM02='photcat' [astropy.utils.metadata]\n",
      "WARNING: MergeConflictWarning: Cannot merge meta key 'DEPVER02' types <class 'str'> and <class 'str'>, choosing DEPVER02='X' [astropy.utils.metadata]\n",
      "WARNING: MergeConflictWarning: Cannot merge meta key 'DEPNAM03' types <class 'str'> and <class 'str'>, choosing DEPNAM03='tractor-files' [astropy.utils.metadata]\n",
      "WARNING: MergeConflictWarning: Cannot merge meta key 'DEPVER03' types <class 'str'> and <class 'str'>, choosing DEPVER03='/global/cfs/cdirs/desi/survey/ops/surveyops/trunk/mtl/sv3/dark' [astropy.utils.metadata]\n",
      "WARNING: MergeConflictWarning: Cannot merge meta key 'DEPNAM04' types <class 'str'> and <class 'str'>, choosing DEPNAM04='tractor-files-2' [astropy.utils.metadata]\n",
      "WARNING: MergeConflictWarning: Cannot merge meta key 'DEPVER04' types <class 'str'> and <class 'str'>, choosing DEPVER04='/global/cfs/cdirs/desi/target/catalogs/dr9/0.57.0/targets/sv3/resolve/dark' [astropy.utils.metadata]\n",
      "WARNING: MergeConflictWarning: Cannot merge meta key 'DEPNAM05' types <class 'str'> and <class 'str'>, choosing DEPNAM05='qso-selection' [astropy.utils.metadata]\n",
      "WARNING: MergeConflictWarning: Cannot merge meta key 'DEPVER05' types <class 'str'> and <class 'str'>, choosing DEPVER05='unknown' [astropy.utils.metadata]\n",
      "WARNING: MergeConflictWarning: Cannot merge meta key 'DR' types <class 'astropy.io.fits.card.Undefined'> and <class 'astropy.io.fits.card.Undefined'>, choosing DR=<astropy.io.fits.card.Undefined object at 0x2aaad43d6940> [astropy.utils.metadata]\n",
      "WARNING: UnitsWarning: 'nanomaggy' did not parse as fits unit: At col 0, Unit 'nanomaggy' not supported by the FITS standard.  If this is meant to be a custom unit, define it with 'u.def_unit'. To have it recognized inside a file reader or other code, enable it with 'u.add_enabled_units'. For details, see http://docs.astropy.org/en/latest/units/combining_and_defining.html [astropy.units.core]\n",
      "WARNING: UnitsWarning: '1/nanomaggy^2' did not parse as fits unit: Numeric factor not supported by FITS If this is meant to be a custom unit, define it with 'u.def_unit'. To have it recognized inside a file reader or other code, enable it with 'u.add_enabled_units'. For details, see http://docs.astropy.org/en/latest/units/combining_and_defining.html [astropy.units.core]\n"
     ]
    },
    {
     "name": "stdout",
     "output_type": "stream",
     "text": [
      "WARNING:io.py:611:write_targets: qso_selection method not specified for output file\n"
     ]
    },
    {
     "name": "stderr",
     "output_type": "stream",
     "text": [
      "WARNING: MergeConflictWarning: Cannot merge meta key 'DEPNAM00' types <class 'str'> and <class 'str'>, choosing DEPNAM00='desitarget' [astropy.utils.metadata]\n",
      "WARNING: MergeConflictWarning: Cannot merge meta key 'DEPVER00' types <class 'str'> and <class 'str'>, choosing DEPVER00='0.57.1' [astropy.utils.metadata]\n",
      "WARNING: MergeConflictWarning: Cannot merge meta key 'DEPNAM01' types <class 'str'> and <class 'str'>, choosing DEPNAM01='desitarget-git' [astropy.utils.metadata]\n",
      "WARNING: MergeConflictWarning: Cannot merge meta key 'DEPVER01' types <class 'str'> and <class 'str'>, choosing DEPVER01='0.57.1' [astropy.utils.metadata]\n",
      "WARNING: MergeConflictWarning: Cannot merge meta key 'DEPNAM02' types <class 'str'> and <class 'str'>, choosing DEPNAM02='photcat' [astropy.utils.metadata]\n",
      "WARNING: MergeConflictWarning: Cannot merge meta key 'DEPVER02' types <class 'str'> and <class 'str'>, choosing DEPVER02='X' [astropy.utils.metadata]\n",
      "WARNING: MergeConflictWarning: Cannot merge meta key 'DEPNAM03' types <class 'str'> and <class 'str'>, choosing DEPNAM03='tractor-files' [astropy.utils.metadata]\n",
      "WARNING: MergeConflictWarning: Cannot merge meta key 'DEPVER03' types <class 'str'> and <class 'str'>, choosing DEPVER03='/global/cfs/cdirs/desi/survey/ops/surveyops/trunk/mtl/sv3/dark' [astropy.utils.metadata]\n",
      "WARNING: MergeConflictWarning: Cannot merge meta key 'DEPNAM04' types <class 'str'> and <class 'str'>, choosing DEPNAM04='tractor-files-2' [astropy.utils.metadata]\n",
      "WARNING: MergeConflictWarning: Cannot merge meta key 'DEPVER04' types <class 'str'> and <class 'str'>, choosing DEPVER04='/global/cfs/cdirs/desi/target/catalogs/dr9/0.57.0/targets/sv3/resolve/dark' [astropy.utils.metadata]\n",
      "WARNING: MergeConflictWarning: Cannot merge meta key 'DEPNAM05' types <class 'str'> and <class 'str'>, choosing DEPNAM05='qso-selection' [astropy.utils.metadata]\n",
      "WARNING: MergeConflictWarning: Cannot merge meta key 'DEPVER05' types <class 'str'> and <class 'str'>, choosing DEPVER05='unknown' [astropy.utils.metadata]\n",
      "WARNING: MergeConflictWarning: Cannot merge meta key 'DR' types <class 'astropy.io.fits.card.Undefined'> and <class 'astropy.io.fits.card.Undefined'>, choosing DR=<astropy.io.fits.card.Undefined object at 0x2aaad43d6940> [astropy.utils.metadata]\n",
      "WARNING: UnitsWarning: 'nanomaggy' did not parse as fits unit: At col 0, Unit 'nanomaggy' not supported by the FITS standard.  If this is meant to be a custom unit, define it with 'u.def_unit'. To have it recognized inside a file reader or other code, enable it with 'u.add_enabled_units'. For details, see http://docs.astropy.org/en/latest/units/combining_and_defining.html [astropy.units.core]\n",
      "WARNING: UnitsWarning: '1/nanomaggy^2' did not parse as fits unit: Numeric factor not supported by FITS If this is meant to be a custom unit, define it with 'u.def_unit'. To have it recognized inside a file reader or other code, enable it with 'u.add_enabled_units'. For details, see http://docs.astropy.org/en/latest/units/combining_and_defining.html [astropy.units.core]\n"
     ]
    },
    {
     "name": "stdout",
     "output_type": "stream",
     "text": [
      "WARNING:io.py:611:write_targets: qso_selection method not specified for output file\n"
     ]
    },
    {
     "name": "stderr",
     "output_type": "stream",
     "text": [
      "WARNING: MergeConflictWarning: Cannot merge meta key 'DEPNAM00' types <class 'str'> and <class 'str'>, choosing DEPNAM00='desitarget' [astropy.utils.metadata]\n",
      "WARNING: MergeConflictWarning: Cannot merge meta key 'DEPVER00' types <class 'str'> and <class 'str'>, choosing DEPVER00='0.57.1' [astropy.utils.metadata]\n",
      "WARNING: MergeConflictWarning: Cannot merge meta key 'DEPNAM01' types <class 'str'> and <class 'str'>, choosing DEPNAM01='desitarget-git' [astropy.utils.metadata]\n",
      "WARNING: MergeConflictWarning: Cannot merge meta key 'DEPVER01' types <class 'str'> and <class 'str'>, choosing DEPVER01='0.57.1' [astropy.utils.metadata]\n",
      "WARNING: MergeConflictWarning: Cannot merge meta key 'DEPNAM02' types <class 'str'> and <class 'str'>, choosing DEPNAM02='photcat' [astropy.utils.metadata]\n",
      "WARNING: MergeConflictWarning: Cannot merge meta key 'DEPVER02' types <class 'str'> and <class 'str'>, choosing DEPVER02='X' [astropy.utils.metadata]\n",
      "WARNING: MergeConflictWarning: Cannot merge meta key 'DEPNAM03' types <class 'str'> and <class 'str'>, choosing DEPNAM03='tractor-files' [astropy.utils.metadata]\n",
      "WARNING: MergeConflictWarning: Cannot merge meta key 'DEPVER03' types <class 'str'> and <class 'str'>, choosing DEPVER03='/global/cfs/cdirs/desi/survey/ops/surveyops/trunk/mtl/sv3/dark' [astropy.utils.metadata]\n",
      "WARNING: MergeConflictWarning: Cannot merge meta key 'DEPNAM04' types <class 'str'> and <class 'str'>, choosing DEPNAM04='tractor-files-2' [astropy.utils.metadata]\n",
      "WARNING: MergeConflictWarning: Cannot merge meta key 'DEPVER04' types <class 'str'> and <class 'str'>, choosing DEPVER04='/global/cfs/cdirs/desi/target/catalogs/dr9/0.57.0/targets/sv3/resolve/dark' [astropy.utils.metadata]\n",
      "WARNING: MergeConflictWarning: Cannot merge meta key 'DEPNAM05' types <class 'str'> and <class 'str'>, choosing DEPNAM05='qso-selection' [astropy.utils.metadata]\n",
      "WARNING: MergeConflictWarning: Cannot merge meta key 'DEPVER05' types <class 'str'> and <class 'str'>, choosing DEPVER05='unknown' [astropy.utils.metadata]\n",
      "WARNING: MergeConflictWarning: Cannot merge meta key 'DR' types <class 'astropy.io.fits.card.Undefined'> and <class 'astropy.io.fits.card.Undefined'>, choosing DR=<astropy.io.fits.card.Undefined object at 0x2aaad43d6940> [astropy.utils.metadata]\n",
      "WARNING: UnitsWarning: 'nanomaggy' did not parse as fits unit: At col 0, Unit 'nanomaggy' not supported by the FITS standard.  If this is meant to be a custom unit, define it with 'u.def_unit'. To have it recognized inside a file reader or other code, enable it with 'u.add_enabled_units'. For details, see http://docs.astropy.org/en/latest/units/combining_and_defining.html [astropy.units.core]\n",
      "WARNING: UnitsWarning: '1/nanomaggy^2' did not parse as fits unit: Numeric factor not supported by FITS If this is meant to be a custom unit, define it with 'u.def_unit'. To have it recognized inside a file reader or other code, enable it with 'u.add_enabled_units'. For details, see http://docs.astropy.org/en/latest/units/combining_and_defining.html [astropy.units.core]\n"
     ]
    },
    {
     "name": "stdout",
     "output_type": "stream",
     "text": [
      "WARNING:io.py:611:write_targets: qso_selection method not specified for output file\n"
     ]
    },
    {
     "name": "stderr",
     "output_type": "stream",
     "text": [
      "WARNING: MergeConflictWarning: Cannot merge meta key 'DEPNAM00' types <class 'str'> and <class 'str'>, choosing DEPNAM00='desitarget' [astropy.utils.metadata]\n",
      "WARNING: MergeConflictWarning: Cannot merge meta key 'DEPVER00' types <class 'str'> and <class 'str'>, choosing DEPVER00='0.57.1' [astropy.utils.metadata]\n",
      "WARNING: MergeConflictWarning: Cannot merge meta key 'DEPNAM01' types <class 'str'> and <class 'str'>, choosing DEPNAM01='desitarget-git' [astropy.utils.metadata]\n",
      "WARNING: MergeConflictWarning: Cannot merge meta key 'DEPVER01' types <class 'str'> and <class 'str'>, choosing DEPVER01='0.57.1' [astropy.utils.metadata]\n",
      "WARNING: MergeConflictWarning: Cannot merge meta key 'DEPNAM02' types <class 'str'> and <class 'str'>, choosing DEPNAM02='photcat' [astropy.utils.metadata]\n",
      "WARNING: MergeConflictWarning: Cannot merge meta key 'DEPVER02' types <class 'str'> and <class 'str'>, choosing DEPVER02='X' [astropy.utils.metadata]\n",
      "WARNING: MergeConflictWarning: Cannot merge meta key 'DEPNAM03' types <class 'str'> and <class 'str'>, choosing DEPNAM03='tractor-files' [astropy.utils.metadata]\n",
      "WARNING: MergeConflictWarning: Cannot merge meta key 'DEPVER03' types <class 'str'> and <class 'str'>, choosing DEPVER03='/global/cfs/cdirs/desi/survey/ops/surveyops/trunk/mtl/sv3/dark' [astropy.utils.metadata]\n",
      "WARNING: MergeConflictWarning: Cannot merge meta key 'DEPNAM04' types <class 'str'> and <class 'str'>, choosing DEPNAM04='tractor-files-2' [astropy.utils.metadata]\n",
      "WARNING: MergeConflictWarning: Cannot merge meta key 'DEPVER04' types <class 'str'> and <class 'str'>, choosing DEPVER04='/global/cfs/cdirs/desi/target/catalogs/dr9/0.57.0/targets/sv3/resolve/dark' [astropy.utils.metadata]\n",
      "WARNING: MergeConflictWarning: Cannot merge meta key 'DEPNAM05' types <class 'str'> and <class 'str'>, choosing DEPNAM05='qso-selection' [astropy.utils.metadata]\n",
      "WARNING: MergeConflictWarning: Cannot merge meta key 'DEPVER05' types <class 'str'> and <class 'str'>, choosing DEPVER05='unknown' [astropy.utils.metadata]\n",
      "WARNING: MergeConflictWarning: Cannot merge meta key 'DR' types <class 'astropy.io.fits.card.Undefined'> and <class 'astropy.io.fits.card.Undefined'>, choosing DR=<astropy.io.fits.card.Undefined object at 0x2aaad43d6940> [astropy.utils.metadata]\n",
      "WARNING: UnitsWarning: 'nanomaggy' did not parse as fits unit: At col 0, Unit 'nanomaggy' not supported by the FITS standard.  If this is meant to be a custom unit, define it with 'u.def_unit'. To have it recognized inside a file reader or other code, enable it with 'u.add_enabled_units'. For details, see http://docs.astropy.org/en/latest/units/combining_and_defining.html [astropy.units.core]\n",
      "WARNING: UnitsWarning: '1/nanomaggy^2' did not parse as fits unit: Numeric factor not supported by FITS If this is meant to be a custom unit, define it with 'u.def_unit'. To have it recognized inside a file reader or other code, enable it with 'u.add_enabled_units'. For details, see http://docs.astropy.org/en/latest/units/combining_and_defining.html [astropy.units.core]\n"
     ]
    },
    {
     "name": "stdout",
     "output_type": "stream",
     "text": [
      "WARNING:io.py:611:write_targets: qso_selection method not specified for output file\n"
     ]
    },
    {
     "name": "stderr",
     "output_type": "stream",
     "text": [
      "WARNING: MergeConflictWarning: Cannot merge meta key 'DEPNAM00' types <class 'str'> and <class 'str'>, choosing DEPNAM00='desitarget' [astropy.utils.metadata]\n",
      "WARNING: MergeConflictWarning: Cannot merge meta key 'DEPVER00' types <class 'str'> and <class 'str'>, choosing DEPVER00='0.57.1' [astropy.utils.metadata]\n",
      "WARNING: MergeConflictWarning: Cannot merge meta key 'DEPNAM01' types <class 'str'> and <class 'str'>, choosing DEPNAM01='desitarget-git' [astropy.utils.metadata]\n",
      "WARNING: MergeConflictWarning: Cannot merge meta key 'DEPVER01' types <class 'str'> and <class 'str'>, choosing DEPVER01='0.57.1' [astropy.utils.metadata]\n",
      "WARNING: MergeConflictWarning: Cannot merge meta key 'DEPNAM02' types <class 'str'> and <class 'str'>, choosing DEPNAM02='photcat' [astropy.utils.metadata]\n",
      "WARNING: MergeConflictWarning: Cannot merge meta key 'DEPVER02' types <class 'str'> and <class 'str'>, choosing DEPVER02='X' [astropy.utils.metadata]\n",
      "WARNING: MergeConflictWarning: Cannot merge meta key 'DEPNAM03' types <class 'str'> and <class 'str'>, choosing DEPNAM03='tractor-files' [astropy.utils.metadata]\n",
      "WARNING: MergeConflictWarning: Cannot merge meta key 'DEPVER03' types <class 'str'> and <class 'str'>, choosing DEPVER03='/global/cfs/cdirs/desi/survey/ops/surveyops/trunk/mtl/sv3/dark' [astropy.utils.metadata]\n",
      "WARNING: MergeConflictWarning: Cannot merge meta key 'DEPNAM04' types <class 'str'> and <class 'str'>, choosing DEPNAM04='tractor-files-2' [astropy.utils.metadata]\n",
      "WARNING: MergeConflictWarning: Cannot merge meta key 'DEPVER04' types <class 'str'> and <class 'str'>, choosing DEPVER04='/global/cfs/cdirs/desi/target/catalogs/dr9/0.57.0/targets/sv3/resolve/dark' [astropy.utils.metadata]\n",
      "WARNING: MergeConflictWarning: Cannot merge meta key 'DEPNAM05' types <class 'str'> and <class 'str'>, choosing DEPNAM05='qso-selection' [astropy.utils.metadata]\n",
      "WARNING: MergeConflictWarning: Cannot merge meta key 'DEPVER05' types <class 'str'> and <class 'str'>, choosing DEPVER05='unknown' [astropy.utils.metadata]\n",
      "WARNING: MergeConflictWarning: Cannot merge meta key 'DR' types <class 'astropy.io.fits.card.Undefined'> and <class 'astropy.io.fits.card.Undefined'>, choosing DR=<astropy.io.fits.card.Undefined object at 0x2aaad43d6940> [astropy.utils.metadata]\n",
      "WARNING: UnitsWarning: 'nanomaggy' did not parse as fits unit: At col 0, Unit 'nanomaggy' not supported by the FITS standard.  If this is meant to be a custom unit, define it with 'u.def_unit'. To have it recognized inside a file reader or other code, enable it with 'u.add_enabled_units'. For details, see http://docs.astropy.org/en/latest/units/combining_and_defining.html [astropy.units.core]\n",
      "WARNING: UnitsWarning: '1/nanomaggy^2' did not parse as fits unit: Numeric factor not supported by FITS If this is meant to be a custom unit, define it with 'u.def_unit'. To have it recognized inside a file reader or other code, enable it with 'u.add_enabled_units'. For details, see http://docs.astropy.org/en/latest/units/combining_and_defining.html [astropy.units.core]\n"
     ]
    },
    {
     "name": "stdout",
     "output_type": "stream",
     "text": [
      "WARNING:io.py:611:write_targets: qso_selection method not specified for output file\n"
     ]
    },
    {
     "name": "stderr",
     "output_type": "stream",
     "text": [
      "WARNING: MergeConflictWarning: Cannot merge meta key 'DEPNAM00' types <class 'str'> and <class 'str'>, choosing DEPNAM00='desitarget' [astropy.utils.metadata]\n",
      "WARNING: MergeConflictWarning: Cannot merge meta key 'DEPVER00' types <class 'str'> and <class 'str'>, choosing DEPVER00='0.57.1' [astropy.utils.metadata]\n",
      "WARNING: MergeConflictWarning: Cannot merge meta key 'DEPNAM01' types <class 'str'> and <class 'str'>, choosing DEPNAM01='desitarget-git' [astropy.utils.metadata]\n",
      "WARNING: MergeConflictWarning: Cannot merge meta key 'DEPVER01' types <class 'str'> and <class 'str'>, choosing DEPVER01='0.57.1' [astropy.utils.metadata]\n",
      "WARNING: MergeConflictWarning: Cannot merge meta key 'DEPNAM02' types <class 'str'> and <class 'str'>, choosing DEPNAM02='photcat' [astropy.utils.metadata]\n",
      "WARNING: MergeConflictWarning: Cannot merge meta key 'DEPVER02' types <class 'str'> and <class 'str'>, choosing DEPVER02='X' [astropy.utils.metadata]\n",
      "WARNING: MergeConflictWarning: Cannot merge meta key 'DEPNAM03' types <class 'str'> and <class 'str'>, choosing DEPNAM03='tractor-files' [astropy.utils.metadata]\n",
      "WARNING: MergeConflictWarning: Cannot merge meta key 'DEPVER03' types <class 'str'> and <class 'str'>, choosing DEPVER03='/global/cfs/cdirs/desi/survey/ops/surveyops/trunk/mtl/sv3/dark' [astropy.utils.metadata]\n",
      "WARNING: MergeConflictWarning: Cannot merge meta key 'DEPNAM04' types <class 'str'> and <class 'str'>, choosing DEPNAM04='tractor-files-2' [astropy.utils.metadata]\n",
      "WARNING: MergeConflictWarning: Cannot merge meta key 'DEPVER04' types <class 'str'> and <class 'str'>, choosing DEPVER04='/global/cfs/cdirs/desi/target/catalogs/dr9/0.57.0/targets/sv3/resolve/dark' [astropy.utils.metadata]\n",
      "WARNING: MergeConflictWarning: Cannot merge meta key 'DEPNAM05' types <class 'str'> and <class 'str'>, choosing DEPNAM05='qso-selection' [astropy.utils.metadata]\n",
      "WARNING: MergeConflictWarning: Cannot merge meta key 'DEPVER05' types <class 'str'> and <class 'str'>, choosing DEPVER05='unknown' [astropy.utils.metadata]\n",
      "WARNING: MergeConflictWarning: Cannot merge meta key 'DR' types <class 'astropy.io.fits.card.Undefined'> and <class 'astropy.io.fits.card.Undefined'>, choosing DR=<astropy.io.fits.card.Undefined object at 0x2aaad43d6940> [astropy.utils.metadata]\n",
      "WARNING: UnitsWarning: 'nanomaggy' did not parse as fits unit: At col 0, Unit 'nanomaggy' not supported by the FITS standard.  If this is meant to be a custom unit, define it with 'u.def_unit'. To have it recognized inside a file reader or other code, enable it with 'u.add_enabled_units'. For details, see http://docs.astropy.org/en/latest/units/combining_and_defining.html [astropy.units.core]\n",
      "WARNING: UnitsWarning: '1/nanomaggy^2' did not parse as fits unit: Numeric factor not supported by FITS If this is meant to be a custom unit, define it with 'u.def_unit'. To have it recognized inside a file reader or other code, enable it with 'u.add_enabled_units'. For details, see http://docs.astropy.org/en/latest/units/combining_and_defining.html [astropy.units.core]\n"
     ]
    },
    {
     "name": "stdout",
     "output_type": "stream",
     "text": [
      "WARNING:io.py:611:write_targets: qso_selection method not specified for output file\n"
     ]
    },
    {
     "name": "stderr",
     "output_type": "stream",
     "text": [
      "WARNING: MergeConflictWarning: Cannot merge meta key 'DEPNAM00' types <class 'str'> and <class 'str'>, choosing DEPNAM00='desitarget' [astropy.utils.metadata]\n",
      "WARNING: MergeConflictWarning: Cannot merge meta key 'DEPVER00' types <class 'str'> and <class 'str'>, choosing DEPVER00='0.57.1' [astropy.utils.metadata]\n",
      "WARNING: MergeConflictWarning: Cannot merge meta key 'DEPNAM01' types <class 'str'> and <class 'str'>, choosing DEPNAM01='desitarget-git' [astropy.utils.metadata]\n",
      "WARNING: MergeConflictWarning: Cannot merge meta key 'DEPVER01' types <class 'str'> and <class 'str'>, choosing DEPVER01='0.57.1' [astropy.utils.metadata]\n",
      "WARNING: MergeConflictWarning: Cannot merge meta key 'DEPNAM02' types <class 'str'> and <class 'str'>, choosing DEPNAM02='photcat' [astropy.utils.metadata]\n",
      "WARNING: MergeConflictWarning: Cannot merge meta key 'DEPVER02' types <class 'str'> and <class 'str'>, choosing DEPVER02='X' [astropy.utils.metadata]\n",
      "WARNING: MergeConflictWarning: Cannot merge meta key 'DEPNAM03' types <class 'str'> and <class 'str'>, choosing DEPNAM03='tractor-files' [astropy.utils.metadata]\n",
      "WARNING: MergeConflictWarning: Cannot merge meta key 'DEPVER03' types <class 'str'> and <class 'str'>, choosing DEPVER03='/global/cfs/cdirs/desi/survey/ops/surveyops/trunk/mtl/sv3/dark' [astropy.utils.metadata]\n",
      "WARNING: MergeConflictWarning: Cannot merge meta key 'DEPNAM04' types <class 'str'> and <class 'str'>, choosing DEPNAM04='tractor-files-2' [astropy.utils.metadata]\n",
      "WARNING: MergeConflictWarning: Cannot merge meta key 'DEPVER04' types <class 'str'> and <class 'str'>, choosing DEPVER04='/global/cfs/cdirs/desi/target/catalogs/dr9/0.57.0/targets/sv3/resolve/dark' [astropy.utils.metadata]\n",
      "WARNING: MergeConflictWarning: Cannot merge meta key 'DEPNAM05' types <class 'str'> and <class 'str'>, choosing DEPNAM05='qso-selection' [astropy.utils.metadata]\n",
      "WARNING: MergeConflictWarning: Cannot merge meta key 'DEPVER05' types <class 'str'> and <class 'str'>, choosing DEPVER05='unknown' [astropy.utils.metadata]\n",
      "WARNING: MergeConflictWarning: Cannot merge meta key 'DR' types <class 'astropy.io.fits.card.Undefined'> and <class 'astropy.io.fits.card.Undefined'>, choosing DR=<astropy.io.fits.card.Undefined object at 0x2aaad43d6940> [astropy.utils.metadata]\n",
      "WARNING: UnitsWarning: 'nanomaggy' did not parse as fits unit: At col 0, Unit 'nanomaggy' not supported by the FITS standard.  If this is meant to be a custom unit, define it with 'u.def_unit'. To have it recognized inside a file reader or other code, enable it with 'u.add_enabled_units'. For details, see http://docs.astropy.org/en/latest/units/combining_and_defining.html [astropy.units.core]\n",
      "WARNING: UnitsWarning: '1/nanomaggy^2' did not parse as fits unit: Numeric factor not supported by FITS If this is meant to be a custom unit, define it with 'u.def_unit'. To have it recognized inside a file reader or other code, enable it with 'u.add_enabled_units'. For details, see http://docs.astropy.org/en/latest/units/combining_and_defining.html [astropy.units.core]\n"
     ]
    },
    {
     "name": "stdout",
     "output_type": "stream",
     "text": [
      "WARNING:io.py:611:write_targets: qso_selection method not specified for output file\n"
     ]
    },
    {
     "name": "stderr",
     "output_type": "stream",
     "text": [
      "WARNING: MergeConflictWarning: Cannot merge meta key 'DEPNAM00' types <class 'str'> and <class 'str'>, choosing DEPNAM00='desitarget' [astropy.utils.metadata]\n",
      "WARNING: MergeConflictWarning: Cannot merge meta key 'DEPVER00' types <class 'str'> and <class 'str'>, choosing DEPVER00='0.57.1' [astropy.utils.metadata]\n",
      "WARNING: MergeConflictWarning: Cannot merge meta key 'DEPNAM01' types <class 'str'> and <class 'str'>, choosing DEPNAM01='desitarget-git' [astropy.utils.metadata]\n",
      "WARNING: MergeConflictWarning: Cannot merge meta key 'DEPVER01' types <class 'str'> and <class 'str'>, choosing DEPVER01='0.57.1' [astropy.utils.metadata]\n",
      "WARNING: MergeConflictWarning: Cannot merge meta key 'DEPNAM02' types <class 'str'> and <class 'str'>, choosing DEPNAM02='photcat' [astropy.utils.metadata]\n",
      "WARNING: MergeConflictWarning: Cannot merge meta key 'DEPVER02' types <class 'str'> and <class 'str'>, choosing DEPVER02='X' [astropy.utils.metadata]\n",
      "WARNING: MergeConflictWarning: Cannot merge meta key 'DEPNAM03' types <class 'str'> and <class 'str'>, choosing DEPNAM03='tractor-files' [astropy.utils.metadata]\n",
      "WARNING: MergeConflictWarning: Cannot merge meta key 'DEPVER03' types <class 'str'> and <class 'str'>, choosing DEPVER03='/global/cfs/cdirs/desi/survey/ops/surveyops/trunk/mtl/sv3/dark' [astropy.utils.metadata]\n",
      "WARNING: MergeConflictWarning: Cannot merge meta key 'DEPNAM04' types <class 'str'> and <class 'str'>, choosing DEPNAM04='tractor-files-2' [astropy.utils.metadata]\n",
      "WARNING: MergeConflictWarning: Cannot merge meta key 'DEPVER04' types <class 'str'> and <class 'str'>, choosing DEPVER04='/global/cfs/cdirs/desi/target/catalogs/dr9/0.57.0/targets/sv3/resolve/dark' [astropy.utils.metadata]\n",
      "WARNING: MergeConflictWarning: Cannot merge meta key 'DEPNAM05' types <class 'str'> and <class 'str'>, choosing DEPNAM05='qso-selection' [astropy.utils.metadata]\n",
      "WARNING: MergeConflictWarning: Cannot merge meta key 'DEPVER05' types <class 'str'> and <class 'str'>, choosing DEPVER05='unknown' [astropy.utils.metadata]\n",
      "WARNING: MergeConflictWarning: Cannot merge meta key 'DR' types <class 'astropy.io.fits.card.Undefined'> and <class 'astropy.io.fits.card.Undefined'>, choosing DR=<astropy.io.fits.card.Undefined object at 0x2aaad43d6940> [astropy.utils.metadata]\n",
      "WARNING: UnitsWarning: 'nanomaggy' did not parse as fits unit: At col 0, Unit 'nanomaggy' not supported by the FITS standard.  If this is meant to be a custom unit, define it with 'u.def_unit'. To have it recognized inside a file reader or other code, enable it with 'u.add_enabled_units'. For details, see http://docs.astropy.org/en/latest/units/combining_and_defining.html [astropy.units.core]\n",
      "WARNING: UnitsWarning: '1/nanomaggy^2' did not parse as fits unit: Numeric factor not supported by FITS If this is meant to be a custom unit, define it with 'u.def_unit'. To have it recognized inside a file reader or other code, enable it with 'u.add_enabled_units'. For details, see http://docs.astropy.org/en/latest/units/combining_and_defining.html [astropy.units.core]\n"
     ]
    },
    {
     "name": "stdout",
     "output_type": "stream",
     "text": [
      "WARNING:io.py:611:write_targets: qso_selection method not specified for output file\n"
     ]
    },
    {
     "name": "stderr",
     "output_type": "stream",
     "text": [
      "WARNING: MergeConflictWarning: Cannot merge meta key 'DEPNAM00' types <class 'str'> and <class 'str'>, choosing DEPNAM00='desitarget' [astropy.utils.metadata]\n",
      "WARNING: MergeConflictWarning: Cannot merge meta key 'DEPVER00' types <class 'str'> and <class 'str'>, choosing DEPVER00='0.57.1' [astropy.utils.metadata]\n",
      "WARNING: MergeConflictWarning: Cannot merge meta key 'DEPNAM01' types <class 'str'> and <class 'str'>, choosing DEPNAM01='desitarget-git' [astropy.utils.metadata]\n",
      "WARNING: MergeConflictWarning: Cannot merge meta key 'DEPVER01' types <class 'str'> and <class 'str'>, choosing DEPVER01='0.57.1' [astropy.utils.metadata]\n",
      "WARNING: MergeConflictWarning: Cannot merge meta key 'DEPNAM02' types <class 'str'> and <class 'str'>, choosing DEPNAM02='photcat' [astropy.utils.metadata]\n",
      "WARNING: MergeConflictWarning: Cannot merge meta key 'DEPVER02' types <class 'str'> and <class 'str'>, choosing DEPVER02='X' [astropy.utils.metadata]\n",
      "WARNING: MergeConflictWarning: Cannot merge meta key 'DEPNAM03' types <class 'str'> and <class 'str'>, choosing DEPNAM03='tractor-files' [astropy.utils.metadata]\n",
      "WARNING: MergeConflictWarning: Cannot merge meta key 'DEPVER03' types <class 'str'> and <class 'str'>, choosing DEPVER03='/global/cfs/cdirs/desi/survey/ops/surveyops/trunk/mtl/sv3/dark' [astropy.utils.metadata]\n",
      "WARNING: MergeConflictWarning: Cannot merge meta key 'DEPNAM04' types <class 'str'> and <class 'str'>, choosing DEPNAM04='tractor-files-2' [astropy.utils.metadata]\n",
      "WARNING: MergeConflictWarning: Cannot merge meta key 'DEPVER04' types <class 'str'> and <class 'str'>, choosing DEPVER04='/global/cfs/cdirs/desi/target/catalogs/dr9/0.57.0/targets/sv3/resolve/dark' [astropy.utils.metadata]\n",
      "WARNING: MergeConflictWarning: Cannot merge meta key 'DEPNAM05' types <class 'str'> and <class 'str'>, choosing DEPNAM05='qso-selection' [astropy.utils.metadata]\n",
      "WARNING: MergeConflictWarning: Cannot merge meta key 'DEPVER05' types <class 'str'> and <class 'str'>, choosing DEPVER05='unknown' [astropy.utils.metadata]\n",
      "WARNING: MergeConflictWarning: Cannot merge meta key 'DR' types <class 'astropy.io.fits.card.Undefined'> and <class 'astropy.io.fits.card.Undefined'>, choosing DR=<astropy.io.fits.card.Undefined object at 0x2aaad43d6940> [astropy.utils.metadata]\n",
      "WARNING: UnitsWarning: 'nanomaggy' did not parse as fits unit: At col 0, Unit 'nanomaggy' not supported by the FITS standard.  If this is meant to be a custom unit, define it with 'u.def_unit'. To have it recognized inside a file reader or other code, enable it with 'u.add_enabled_units'. For details, see http://docs.astropy.org/en/latest/units/combining_and_defining.html [astropy.units.core]\n",
      "WARNING: UnitsWarning: '1/nanomaggy^2' did not parse as fits unit: Numeric factor not supported by FITS If this is meant to be a custom unit, define it with 'u.def_unit'. To have it recognized inside a file reader or other code, enable it with 'u.add_enabled_units'. For details, see http://docs.astropy.org/en/latest/units/combining_and_defining.html [astropy.units.core]\n"
     ]
    },
    {
     "name": "stdout",
     "output_type": "stream",
     "text": [
      "WARNING:io.py:611:write_targets: qso_selection method not specified for output file\n"
     ]
    },
    {
     "name": "stderr",
     "output_type": "stream",
     "text": [
      "WARNING: MergeConflictWarning: Cannot merge meta key 'DEPNAM00' types <class 'str'> and <class 'str'>, choosing DEPNAM00='desitarget' [astropy.utils.metadata]\n",
      "WARNING: MergeConflictWarning: Cannot merge meta key 'DEPVER00' types <class 'str'> and <class 'str'>, choosing DEPVER00='0.57.1' [astropy.utils.metadata]\n",
      "WARNING: MergeConflictWarning: Cannot merge meta key 'DEPNAM01' types <class 'str'> and <class 'str'>, choosing DEPNAM01='desitarget-git' [astropy.utils.metadata]\n",
      "WARNING: MergeConflictWarning: Cannot merge meta key 'DEPVER01' types <class 'str'> and <class 'str'>, choosing DEPVER01='0.57.1' [astropy.utils.metadata]\n",
      "WARNING: MergeConflictWarning: Cannot merge meta key 'DEPNAM02' types <class 'str'> and <class 'str'>, choosing DEPNAM02='photcat' [astropy.utils.metadata]\n",
      "WARNING: MergeConflictWarning: Cannot merge meta key 'DEPVER02' types <class 'str'> and <class 'str'>, choosing DEPVER02='X' [astropy.utils.metadata]\n",
      "WARNING: MergeConflictWarning: Cannot merge meta key 'DEPNAM03' types <class 'str'> and <class 'str'>, choosing DEPNAM03='tractor-files' [astropy.utils.metadata]\n",
      "WARNING: MergeConflictWarning: Cannot merge meta key 'DEPVER03' types <class 'str'> and <class 'str'>, choosing DEPVER03='/global/cfs/cdirs/desi/survey/ops/surveyops/trunk/mtl/sv3/dark' [astropy.utils.metadata]\n",
      "WARNING: MergeConflictWarning: Cannot merge meta key 'DEPNAM04' types <class 'str'> and <class 'str'>, choosing DEPNAM04='tractor-files-2' [astropy.utils.metadata]\n",
      "WARNING: MergeConflictWarning: Cannot merge meta key 'DEPVER04' types <class 'str'> and <class 'str'>, choosing DEPVER04='/global/cfs/cdirs/desi/target/catalogs/dr9/0.57.0/targets/sv3/resolve/dark' [astropy.utils.metadata]\n",
      "WARNING: MergeConflictWarning: Cannot merge meta key 'DEPNAM05' types <class 'str'> and <class 'str'>, choosing DEPNAM05='qso-selection' [astropy.utils.metadata]\n",
      "WARNING: MergeConflictWarning: Cannot merge meta key 'DEPVER05' types <class 'str'> and <class 'str'>, choosing DEPVER05='unknown' [astropy.utils.metadata]\n",
      "WARNING: MergeConflictWarning: Cannot merge meta key 'DR' types <class 'astropy.io.fits.card.Undefined'> and <class 'astropy.io.fits.card.Undefined'>, choosing DR=<astropy.io.fits.card.Undefined object at 0x2aaad43d6940> [astropy.utils.metadata]\n",
      "WARNING: UnitsWarning: 'nanomaggy' did not parse as fits unit: At col 0, Unit 'nanomaggy' not supported by the FITS standard.  If this is meant to be a custom unit, define it with 'u.def_unit'. To have it recognized inside a file reader or other code, enable it with 'u.add_enabled_units'. For details, see http://docs.astropy.org/en/latest/units/combining_and_defining.html [astropy.units.core]\n",
      "WARNING: UnitsWarning: '1/nanomaggy^2' did not parse as fits unit: Numeric factor not supported by FITS If this is meant to be a custom unit, define it with 'u.def_unit'. To have it recognized inside a file reader or other code, enable it with 'u.add_enabled_units'. For details, see http://docs.astropy.org/en/latest/units/combining_and_defining.html [astropy.units.core]\n"
     ]
    },
    {
     "name": "stdout",
     "output_type": "stream",
     "text": [
      "WARNING:io.py:611:write_targets: qso_selection method not specified for output file\n"
     ]
    },
    {
     "name": "stderr",
     "output_type": "stream",
     "text": [
      "WARNING: MergeConflictWarning: Cannot merge meta key 'DEPNAM00' types <class 'str'> and <class 'str'>, choosing DEPNAM00='desitarget' [astropy.utils.metadata]\n",
      "WARNING: MergeConflictWarning: Cannot merge meta key 'DEPVER00' types <class 'str'> and <class 'str'>, choosing DEPVER00='0.57.1' [astropy.utils.metadata]\n",
      "WARNING: MergeConflictWarning: Cannot merge meta key 'DEPNAM01' types <class 'str'> and <class 'str'>, choosing DEPNAM01='desitarget-git' [astropy.utils.metadata]\n",
      "WARNING: MergeConflictWarning: Cannot merge meta key 'DEPVER01' types <class 'str'> and <class 'str'>, choosing DEPVER01='0.57.1' [astropy.utils.metadata]\n",
      "WARNING: MergeConflictWarning: Cannot merge meta key 'DEPNAM02' types <class 'str'> and <class 'str'>, choosing DEPNAM02='photcat' [astropy.utils.metadata]\n",
      "WARNING: MergeConflictWarning: Cannot merge meta key 'DEPVER02' types <class 'str'> and <class 'str'>, choosing DEPVER02='X' [astropy.utils.metadata]\n",
      "WARNING: MergeConflictWarning: Cannot merge meta key 'DEPNAM03' types <class 'str'> and <class 'str'>, choosing DEPNAM03='tractor-files' [astropy.utils.metadata]\n",
      "WARNING: MergeConflictWarning: Cannot merge meta key 'DEPVER03' types <class 'str'> and <class 'str'>, choosing DEPVER03='/global/cfs/cdirs/desi/survey/ops/surveyops/trunk/mtl/sv3/dark' [astropy.utils.metadata]\n",
      "WARNING: MergeConflictWarning: Cannot merge meta key 'DEPNAM04' types <class 'str'> and <class 'str'>, choosing DEPNAM04='tractor-files-2' [astropy.utils.metadata]\n",
      "WARNING: MergeConflictWarning: Cannot merge meta key 'DEPVER04' types <class 'str'> and <class 'str'>, choosing DEPVER04='/global/cfs/cdirs/desi/target/catalogs/dr9/0.57.0/targets/sv3/resolve/dark' [astropy.utils.metadata]\n",
      "WARNING: MergeConflictWarning: Cannot merge meta key 'DEPNAM05' types <class 'str'> and <class 'str'>, choosing DEPNAM05='qso-selection' [astropy.utils.metadata]\n",
      "WARNING: MergeConflictWarning: Cannot merge meta key 'DEPVER05' types <class 'str'> and <class 'str'>, choosing DEPVER05='unknown' [astropy.utils.metadata]\n",
      "WARNING: MergeConflictWarning: Cannot merge meta key 'DR' types <class 'astropy.io.fits.card.Undefined'> and <class 'astropy.io.fits.card.Undefined'>, choosing DR=<astropy.io.fits.card.Undefined object at 0x2aaad43d6940> [astropy.utils.metadata]\n",
      "WARNING: UnitsWarning: 'nanomaggy' did not parse as fits unit: At col 0, Unit 'nanomaggy' not supported by the FITS standard.  If this is meant to be a custom unit, define it with 'u.def_unit'. To have it recognized inside a file reader or other code, enable it with 'u.add_enabled_units'. For details, see http://docs.astropy.org/en/latest/units/combining_and_defining.html [astropy.units.core]\n",
      "WARNING: UnitsWarning: '1/nanomaggy^2' did not parse as fits unit: Numeric factor not supported by FITS If this is meant to be a custom unit, define it with 'u.def_unit'. To have it recognized inside a file reader or other code, enable it with 'u.add_enabled_units'. For details, see http://docs.astropy.org/en/latest/units/combining_and_defining.html [astropy.units.core]\n"
     ]
    },
    {
     "name": "stdout",
     "output_type": "stream",
     "text": [
      "WARNING:io.py:611:write_targets: qso_selection method not specified for output file\n"
     ]
    },
    {
     "name": "stderr",
     "output_type": "stream",
     "text": [
      "WARNING: MergeConflictWarning: Cannot merge meta key 'DEPNAM00' types <class 'str'> and <class 'str'>, choosing DEPNAM00='desitarget' [astropy.utils.metadata]\n",
      "WARNING: MergeConflictWarning: Cannot merge meta key 'DEPVER00' types <class 'str'> and <class 'str'>, choosing DEPVER00='0.57.1' [astropy.utils.metadata]\n",
      "WARNING: MergeConflictWarning: Cannot merge meta key 'DEPNAM01' types <class 'str'> and <class 'str'>, choosing DEPNAM01='desitarget-git' [astropy.utils.metadata]\n",
      "WARNING: MergeConflictWarning: Cannot merge meta key 'DEPVER01' types <class 'str'> and <class 'str'>, choosing DEPVER01='0.57.1' [astropy.utils.metadata]\n",
      "WARNING: MergeConflictWarning: Cannot merge meta key 'DEPNAM02' types <class 'str'> and <class 'str'>, choosing DEPNAM02='photcat' [astropy.utils.metadata]\n",
      "WARNING: MergeConflictWarning: Cannot merge meta key 'DEPVER02' types <class 'str'> and <class 'str'>, choosing DEPVER02='X' [astropy.utils.metadata]\n",
      "WARNING: MergeConflictWarning: Cannot merge meta key 'DEPNAM03' types <class 'str'> and <class 'str'>, choosing DEPNAM03='tractor-files' [astropy.utils.metadata]\n",
      "WARNING: MergeConflictWarning: Cannot merge meta key 'DEPVER03' types <class 'str'> and <class 'str'>, choosing DEPVER03='/global/cfs/cdirs/desi/survey/ops/surveyops/trunk/mtl/sv3/dark' [astropy.utils.metadata]\n",
      "WARNING: MergeConflictWarning: Cannot merge meta key 'DEPNAM04' types <class 'str'> and <class 'str'>, choosing DEPNAM04='tractor-files-2' [astropy.utils.metadata]\n",
      "WARNING: MergeConflictWarning: Cannot merge meta key 'DEPVER04' types <class 'str'> and <class 'str'>, choosing DEPVER04='/global/cfs/cdirs/desi/target/catalogs/dr9/0.57.0/targets/sv3/resolve/dark' [astropy.utils.metadata]\n",
      "WARNING: MergeConflictWarning: Cannot merge meta key 'DEPNAM05' types <class 'str'> and <class 'str'>, choosing DEPNAM05='qso-selection' [astropy.utils.metadata]\n",
      "WARNING: MergeConflictWarning: Cannot merge meta key 'DEPVER05' types <class 'str'> and <class 'str'>, choosing DEPVER05='unknown' [astropy.utils.metadata]\n",
      "WARNING: MergeConflictWarning: Cannot merge meta key 'DR' types <class 'astropy.io.fits.card.Undefined'> and <class 'astropy.io.fits.card.Undefined'>, choosing DR=<astropy.io.fits.card.Undefined object at 0x2aaad43d6940> [astropy.utils.metadata]\n",
      "WARNING: UnitsWarning: 'nanomaggy' did not parse as fits unit: At col 0, Unit 'nanomaggy' not supported by the FITS standard.  If this is meant to be a custom unit, define it with 'u.def_unit'. To have it recognized inside a file reader or other code, enable it with 'u.add_enabled_units'. For details, see http://docs.astropy.org/en/latest/units/combining_and_defining.html [astropy.units.core]\n",
      "WARNING: UnitsWarning: '1/nanomaggy^2' did not parse as fits unit: Numeric factor not supported by FITS If this is meant to be a custom unit, define it with 'u.def_unit'. To have it recognized inside a file reader or other code, enable it with 'u.add_enabled_units'. For details, see http://docs.astropy.org/en/latest/units/combining_and_defining.html [astropy.units.core]\n"
     ]
    },
    {
     "name": "stdout",
     "output_type": "stream",
     "text": [
      "WARNING:io.py:611:write_targets: qso_selection method not specified for output file\n"
     ]
    },
    {
     "name": "stderr",
     "output_type": "stream",
     "text": [
      "WARNING: MergeConflictWarning: Cannot merge meta key 'DEPNAM00' types <class 'str'> and <class 'str'>, choosing DEPNAM00='desitarget' [astropy.utils.metadata]\n",
      "WARNING: MergeConflictWarning: Cannot merge meta key 'DEPVER00' types <class 'str'> and <class 'str'>, choosing DEPVER00='0.57.1' [astropy.utils.metadata]\n",
      "WARNING: MergeConflictWarning: Cannot merge meta key 'DEPNAM01' types <class 'str'> and <class 'str'>, choosing DEPNAM01='desitarget-git' [astropy.utils.metadata]\n",
      "WARNING: MergeConflictWarning: Cannot merge meta key 'DEPVER01' types <class 'str'> and <class 'str'>, choosing DEPVER01='0.57.1' [astropy.utils.metadata]\n",
      "WARNING: MergeConflictWarning: Cannot merge meta key 'DEPNAM02' types <class 'str'> and <class 'str'>, choosing DEPNAM02='photcat' [astropy.utils.metadata]\n",
      "WARNING: MergeConflictWarning: Cannot merge meta key 'DEPVER02' types <class 'str'> and <class 'str'>, choosing DEPVER02='X' [astropy.utils.metadata]\n",
      "WARNING: MergeConflictWarning: Cannot merge meta key 'DEPNAM03' types <class 'str'> and <class 'str'>, choosing DEPNAM03='tractor-files' [astropy.utils.metadata]\n",
      "WARNING: MergeConflictWarning: Cannot merge meta key 'DEPVER03' types <class 'str'> and <class 'str'>, choosing DEPVER03='/global/cfs/cdirs/desi/survey/ops/surveyops/trunk/mtl/sv3/dark' [astropy.utils.metadata]\n",
      "WARNING: MergeConflictWarning: Cannot merge meta key 'DEPNAM04' types <class 'str'> and <class 'str'>, choosing DEPNAM04='tractor-files-2' [astropy.utils.metadata]\n",
      "WARNING: MergeConflictWarning: Cannot merge meta key 'DEPVER04' types <class 'str'> and <class 'str'>, choosing DEPVER04='/global/cfs/cdirs/desi/target/catalogs/dr9/0.57.0/targets/sv3/resolve/dark' [astropy.utils.metadata]\n",
      "WARNING: MergeConflictWarning: Cannot merge meta key 'DEPNAM05' types <class 'str'> and <class 'str'>, choosing DEPNAM05='qso-selection' [astropy.utils.metadata]\n",
      "WARNING: MergeConflictWarning: Cannot merge meta key 'DEPVER05' types <class 'str'> and <class 'str'>, choosing DEPVER05='unknown' [astropy.utils.metadata]\n",
      "WARNING: MergeConflictWarning: Cannot merge meta key 'DR' types <class 'astropy.io.fits.card.Undefined'> and <class 'astropy.io.fits.card.Undefined'>, choosing DR=<astropy.io.fits.card.Undefined object at 0x2aaad43d6940> [astropy.utils.metadata]\n",
      "WARNING: UnitsWarning: 'nanomaggy' did not parse as fits unit: At col 0, Unit 'nanomaggy' not supported by the FITS standard.  If this is meant to be a custom unit, define it with 'u.def_unit'. To have it recognized inside a file reader or other code, enable it with 'u.add_enabled_units'. For details, see http://docs.astropy.org/en/latest/units/combining_and_defining.html [astropy.units.core]\n",
      "WARNING: UnitsWarning: '1/nanomaggy^2' did not parse as fits unit: Numeric factor not supported by FITS If this is meant to be a custom unit, define it with 'u.def_unit'. To have it recognized inside a file reader or other code, enable it with 'u.add_enabled_units'. For details, see http://docs.astropy.org/en/latest/units/combining_and_defining.html [astropy.units.core]\n"
     ]
    },
    {
     "name": "stdout",
     "output_type": "stream",
     "text": [
      "WARNING:io.py:611:write_targets: qso_selection method not specified for output file\n"
     ]
    },
    {
     "name": "stderr",
     "output_type": "stream",
     "text": [
      "WARNING: MergeConflictWarning: Cannot merge meta key 'DEPNAM00' types <class 'str'> and <class 'str'>, choosing DEPNAM00='desitarget' [astropy.utils.metadata]\n",
      "WARNING: MergeConflictWarning: Cannot merge meta key 'DEPVER00' types <class 'str'> and <class 'str'>, choosing DEPVER00='0.57.1' [astropy.utils.metadata]\n",
      "WARNING: MergeConflictWarning: Cannot merge meta key 'DEPNAM01' types <class 'str'> and <class 'str'>, choosing DEPNAM01='desitarget-git' [astropy.utils.metadata]\n",
      "WARNING: MergeConflictWarning: Cannot merge meta key 'DEPVER01' types <class 'str'> and <class 'str'>, choosing DEPVER01='0.57.1' [astropy.utils.metadata]\n",
      "WARNING: MergeConflictWarning: Cannot merge meta key 'DEPNAM02' types <class 'str'> and <class 'str'>, choosing DEPNAM02='photcat' [astropy.utils.metadata]\n",
      "WARNING: MergeConflictWarning: Cannot merge meta key 'DEPVER02' types <class 'str'> and <class 'str'>, choosing DEPVER02='X' [astropy.utils.metadata]\n",
      "WARNING: MergeConflictWarning: Cannot merge meta key 'DEPNAM03' types <class 'str'> and <class 'str'>, choosing DEPNAM03='tractor-files' [astropy.utils.metadata]\n",
      "WARNING: MergeConflictWarning: Cannot merge meta key 'DEPVER03' types <class 'str'> and <class 'str'>, choosing DEPVER03='/global/cfs/cdirs/desi/survey/ops/surveyops/trunk/mtl/sv3/dark' [astropy.utils.metadata]\n",
      "WARNING: MergeConflictWarning: Cannot merge meta key 'DEPNAM04' types <class 'str'> and <class 'str'>, choosing DEPNAM04='tractor-files-2' [astropy.utils.metadata]\n",
      "WARNING: MergeConflictWarning: Cannot merge meta key 'DEPVER04' types <class 'str'> and <class 'str'>, choosing DEPVER04='/global/cfs/cdirs/desi/target/catalogs/dr9/0.57.0/targets/sv3/resolve/dark' [astropy.utils.metadata]\n",
      "WARNING: MergeConflictWarning: Cannot merge meta key 'DEPNAM05' types <class 'str'> and <class 'str'>, choosing DEPNAM05='qso-selection' [astropy.utils.metadata]\n",
      "WARNING: MergeConflictWarning: Cannot merge meta key 'DEPVER05' types <class 'str'> and <class 'str'>, choosing DEPVER05='unknown' [astropy.utils.metadata]\n",
      "WARNING: MergeConflictWarning: Cannot merge meta key 'DR' types <class 'astropy.io.fits.card.Undefined'> and <class 'astropy.io.fits.card.Undefined'>, choosing DR=<astropy.io.fits.card.Undefined object at 0x2aaad43d6940> [astropy.utils.metadata]\n",
      "WARNING: UnitsWarning: 'nanomaggy' did not parse as fits unit: At col 0, Unit 'nanomaggy' not supported by the FITS standard.  If this is meant to be a custom unit, define it with 'u.def_unit'. To have it recognized inside a file reader or other code, enable it with 'u.add_enabled_units'. For details, see http://docs.astropy.org/en/latest/units/combining_and_defining.html [astropy.units.core]\n",
      "WARNING: UnitsWarning: '1/nanomaggy^2' did not parse as fits unit: Numeric factor not supported by FITS If this is meant to be a custom unit, define it with 'u.def_unit'. To have it recognized inside a file reader or other code, enable it with 'u.add_enabled_units'. For details, see http://docs.astropy.org/en/latest/units/combining_and_defining.html [astropy.units.core]\n"
     ]
    },
    {
     "name": "stdout",
     "output_type": "stream",
     "text": [
      "WARNING:io.py:611:write_targets: qso_selection method not specified for output file\n"
     ]
    },
    {
     "name": "stderr",
     "output_type": "stream",
     "text": [
      "WARNING: MergeConflictWarning: Cannot merge meta key 'DEPNAM00' types <class 'str'> and <class 'str'>, choosing DEPNAM00='desitarget' [astropy.utils.metadata]\n",
      "WARNING: MergeConflictWarning: Cannot merge meta key 'DEPVER00' types <class 'str'> and <class 'str'>, choosing DEPVER00='0.57.1' [astropy.utils.metadata]\n",
      "WARNING: MergeConflictWarning: Cannot merge meta key 'DEPNAM01' types <class 'str'> and <class 'str'>, choosing DEPNAM01='desitarget-git' [astropy.utils.metadata]\n",
      "WARNING: MergeConflictWarning: Cannot merge meta key 'DEPVER01' types <class 'str'> and <class 'str'>, choosing DEPVER01='0.57.1' [astropy.utils.metadata]\n",
      "WARNING: MergeConflictWarning: Cannot merge meta key 'DEPNAM02' types <class 'str'> and <class 'str'>, choosing DEPNAM02='photcat' [astropy.utils.metadata]\n",
      "WARNING: MergeConflictWarning: Cannot merge meta key 'DEPVER02' types <class 'str'> and <class 'str'>, choosing DEPVER02='X' [astropy.utils.metadata]\n",
      "WARNING: MergeConflictWarning: Cannot merge meta key 'DEPNAM03' types <class 'str'> and <class 'str'>, choosing DEPNAM03='tractor-files' [astropy.utils.metadata]\n",
      "WARNING: MergeConflictWarning: Cannot merge meta key 'DEPVER03' types <class 'str'> and <class 'str'>, choosing DEPVER03='/global/cfs/cdirs/desi/survey/ops/surveyops/trunk/mtl/sv3/dark' [astropy.utils.metadata]\n",
      "WARNING: MergeConflictWarning: Cannot merge meta key 'DEPNAM04' types <class 'str'> and <class 'str'>, choosing DEPNAM04='tractor-files-2' [astropy.utils.metadata]\n",
      "WARNING: MergeConflictWarning: Cannot merge meta key 'DEPVER04' types <class 'str'> and <class 'str'>, choosing DEPVER04='/global/cfs/cdirs/desi/target/catalogs/dr9/0.57.0/targets/sv3/resolve/dark' [astropy.utils.metadata]\n",
      "WARNING: MergeConflictWarning: Cannot merge meta key 'DEPNAM05' types <class 'str'> and <class 'str'>, choosing DEPNAM05='qso-selection' [astropy.utils.metadata]\n",
      "WARNING: MergeConflictWarning: Cannot merge meta key 'DEPVER05' types <class 'str'> and <class 'str'>, choosing DEPVER05='unknown' [astropy.utils.metadata]\n",
      "WARNING: MergeConflictWarning: Cannot merge meta key 'DR' types <class 'astropy.io.fits.card.Undefined'> and <class 'astropy.io.fits.card.Undefined'>, choosing DR=<astropy.io.fits.card.Undefined object at 0x2aaad43d6940> [astropy.utils.metadata]\n",
      "WARNING: UnitsWarning: 'nanomaggy' did not parse as fits unit: At col 0, Unit 'nanomaggy' not supported by the FITS standard.  If this is meant to be a custom unit, define it with 'u.def_unit'. To have it recognized inside a file reader or other code, enable it with 'u.add_enabled_units'. For details, see http://docs.astropy.org/en/latest/units/combining_and_defining.html [astropy.units.core]\n",
      "WARNING: UnitsWarning: '1/nanomaggy^2' did not parse as fits unit: Numeric factor not supported by FITS If this is meant to be a custom unit, define it with 'u.def_unit'. To have it recognized inside a file reader or other code, enable it with 'u.add_enabled_units'. For details, see http://docs.astropy.org/en/latest/units/combining_and_defining.html [astropy.units.core]\n"
     ]
    },
    {
     "name": "stdout",
     "output_type": "stream",
     "text": [
      "WARNING:io.py:611:write_targets: qso_selection method not specified for output file\n"
     ]
    },
    {
     "name": "stderr",
     "output_type": "stream",
     "text": [
      "WARNING: MergeConflictWarning: Cannot merge meta key 'DEPNAM00' types <class 'str'> and <class 'str'>, choosing DEPNAM00='desitarget' [astropy.utils.metadata]\n",
      "WARNING: MergeConflictWarning: Cannot merge meta key 'DEPVER00' types <class 'str'> and <class 'str'>, choosing DEPVER00='0.57.1' [astropy.utils.metadata]\n",
      "WARNING: MergeConflictWarning: Cannot merge meta key 'DEPNAM01' types <class 'str'> and <class 'str'>, choosing DEPNAM01='desitarget-git' [astropy.utils.metadata]\n",
      "WARNING: MergeConflictWarning: Cannot merge meta key 'DEPVER01' types <class 'str'> and <class 'str'>, choosing DEPVER01='0.57.1' [astropy.utils.metadata]\n",
      "WARNING: MergeConflictWarning: Cannot merge meta key 'DEPNAM02' types <class 'str'> and <class 'str'>, choosing DEPNAM02='photcat' [astropy.utils.metadata]\n",
      "WARNING: MergeConflictWarning: Cannot merge meta key 'DEPVER02' types <class 'str'> and <class 'str'>, choosing DEPVER02='X' [astropy.utils.metadata]\n",
      "WARNING: MergeConflictWarning: Cannot merge meta key 'DEPNAM03' types <class 'str'> and <class 'str'>, choosing DEPNAM03='tractor-files' [astropy.utils.metadata]\n",
      "WARNING: MergeConflictWarning: Cannot merge meta key 'DEPVER03' types <class 'str'> and <class 'str'>, choosing DEPVER03='/global/cfs/cdirs/desi/survey/ops/surveyops/trunk/mtl/sv3/dark' [astropy.utils.metadata]\n",
      "WARNING: MergeConflictWarning: Cannot merge meta key 'DEPNAM04' types <class 'str'> and <class 'str'>, choosing DEPNAM04='tractor-files-2' [astropy.utils.metadata]\n",
      "WARNING: MergeConflictWarning: Cannot merge meta key 'DEPVER04' types <class 'str'> and <class 'str'>, choosing DEPVER04='/global/cfs/cdirs/desi/target/catalogs/dr9/0.57.0/targets/sv3/resolve/dark' [astropy.utils.metadata]\n",
      "WARNING: MergeConflictWarning: Cannot merge meta key 'DEPNAM05' types <class 'str'> and <class 'str'>, choosing DEPNAM05='qso-selection' [astropy.utils.metadata]\n",
      "WARNING: MergeConflictWarning: Cannot merge meta key 'DEPVER05' types <class 'str'> and <class 'str'>, choosing DEPVER05='unknown' [astropy.utils.metadata]\n",
      "WARNING: MergeConflictWarning: Cannot merge meta key 'DR' types <class 'astropy.io.fits.card.Undefined'> and <class 'astropy.io.fits.card.Undefined'>, choosing DR=<astropy.io.fits.card.Undefined object at 0x2aaad43d6940> [astropy.utils.metadata]\n",
      "WARNING: UnitsWarning: 'nanomaggy' did not parse as fits unit: At col 0, Unit 'nanomaggy' not supported by the FITS standard.  If this is meant to be a custom unit, define it with 'u.def_unit'. To have it recognized inside a file reader or other code, enable it with 'u.add_enabled_units'. For details, see http://docs.astropy.org/en/latest/units/combining_and_defining.html [astropy.units.core]\n",
      "WARNING: UnitsWarning: '1/nanomaggy^2' did not parse as fits unit: Numeric factor not supported by FITS If this is meant to be a custom unit, define it with 'u.def_unit'. To have it recognized inside a file reader or other code, enable it with 'u.add_enabled_units'. For details, see http://docs.astropy.org/en/latest/units/combining_and_defining.html [astropy.units.core]\n"
     ]
    },
    {
     "name": "stdout",
     "output_type": "stream",
     "text": [
      "WARNING:io.py:611:write_targets: qso_selection method not specified for output file\n"
     ]
    },
    {
     "name": "stderr",
     "output_type": "stream",
     "text": [
      "WARNING: MergeConflictWarning: Cannot merge meta key 'DEPNAM00' types <class 'str'> and <class 'str'>, choosing DEPNAM00='desitarget' [astropy.utils.metadata]\n",
      "WARNING: MergeConflictWarning: Cannot merge meta key 'DEPVER00' types <class 'str'> and <class 'str'>, choosing DEPVER00='0.57.1' [astropy.utils.metadata]\n",
      "WARNING: MergeConflictWarning: Cannot merge meta key 'DEPNAM01' types <class 'str'> and <class 'str'>, choosing DEPNAM01='desitarget-git' [astropy.utils.metadata]\n",
      "WARNING: MergeConflictWarning: Cannot merge meta key 'DEPVER01' types <class 'str'> and <class 'str'>, choosing DEPVER01='0.57.1' [astropy.utils.metadata]\n",
      "WARNING: MergeConflictWarning: Cannot merge meta key 'DEPNAM02' types <class 'str'> and <class 'str'>, choosing DEPNAM02='photcat' [astropy.utils.metadata]\n",
      "WARNING: MergeConflictWarning: Cannot merge meta key 'DEPVER02' types <class 'str'> and <class 'str'>, choosing DEPVER02='X' [astropy.utils.metadata]\n",
      "WARNING: MergeConflictWarning: Cannot merge meta key 'DEPNAM03' types <class 'str'> and <class 'str'>, choosing DEPNAM03='tractor-files' [astropy.utils.metadata]\n",
      "WARNING: MergeConflictWarning: Cannot merge meta key 'DEPVER03' types <class 'str'> and <class 'str'>, choosing DEPVER03='/global/cfs/cdirs/desi/survey/ops/surveyops/trunk/mtl/sv3/dark' [astropy.utils.metadata]\n",
      "WARNING: MergeConflictWarning: Cannot merge meta key 'DEPNAM04' types <class 'str'> and <class 'str'>, choosing DEPNAM04='tractor-files-2' [astropy.utils.metadata]\n",
      "WARNING: MergeConflictWarning: Cannot merge meta key 'DEPVER04' types <class 'str'> and <class 'str'>, choosing DEPVER04='/global/cfs/cdirs/desi/target/catalogs/dr9/0.57.0/targets/sv3/resolve/dark' [astropy.utils.metadata]\n",
      "WARNING: MergeConflictWarning: Cannot merge meta key 'DEPNAM05' types <class 'str'> and <class 'str'>, choosing DEPNAM05='qso-selection' [astropy.utils.metadata]\n",
      "WARNING: MergeConflictWarning: Cannot merge meta key 'DEPVER05' types <class 'str'> and <class 'str'>, choosing DEPVER05='unknown' [astropy.utils.metadata]\n",
      "WARNING: MergeConflictWarning: Cannot merge meta key 'DR' types <class 'astropy.io.fits.card.Undefined'> and <class 'astropy.io.fits.card.Undefined'>, choosing DR=<astropy.io.fits.card.Undefined object at 0x2aaad43d6940> [astropy.utils.metadata]\n",
      "WARNING: UnitsWarning: 'nanomaggy' did not parse as fits unit: At col 0, Unit 'nanomaggy' not supported by the FITS standard.  If this is meant to be a custom unit, define it with 'u.def_unit'. To have it recognized inside a file reader or other code, enable it with 'u.add_enabled_units'. For details, see http://docs.astropy.org/en/latest/units/combining_and_defining.html [astropy.units.core]\n",
      "WARNING: UnitsWarning: '1/nanomaggy^2' did not parse as fits unit: Numeric factor not supported by FITS If this is meant to be a custom unit, define it with 'u.def_unit'. To have it recognized inside a file reader or other code, enable it with 'u.add_enabled_units'. For details, see http://docs.astropy.org/en/latest/units/combining_and_defining.html [astropy.units.core]\n"
     ]
    },
    {
     "name": "stdout",
     "output_type": "stream",
     "text": [
      "WARNING:io.py:611:write_targets: qso_selection method not specified for output file\n"
     ]
    },
    {
     "name": "stderr",
     "output_type": "stream",
     "text": [
      "WARNING: MergeConflictWarning: Cannot merge meta key 'DEPNAM00' types <class 'str'> and <class 'str'>, choosing DEPNAM00='desitarget' [astropy.utils.metadata]\n",
      "WARNING: MergeConflictWarning: Cannot merge meta key 'DEPVER00' types <class 'str'> and <class 'str'>, choosing DEPVER00='0.57.1' [astropy.utils.metadata]\n",
      "WARNING: MergeConflictWarning: Cannot merge meta key 'DEPNAM01' types <class 'str'> and <class 'str'>, choosing DEPNAM01='desitarget-git' [astropy.utils.metadata]\n",
      "WARNING: MergeConflictWarning: Cannot merge meta key 'DEPVER01' types <class 'str'> and <class 'str'>, choosing DEPVER01='0.57.1' [astropy.utils.metadata]\n",
      "WARNING: MergeConflictWarning: Cannot merge meta key 'DEPNAM02' types <class 'str'> and <class 'str'>, choosing DEPNAM02='photcat' [astropy.utils.metadata]\n",
      "WARNING: MergeConflictWarning: Cannot merge meta key 'DEPVER02' types <class 'str'> and <class 'str'>, choosing DEPVER02='X' [astropy.utils.metadata]\n",
      "WARNING: MergeConflictWarning: Cannot merge meta key 'DEPNAM03' types <class 'str'> and <class 'str'>, choosing DEPNAM03='tractor-files' [astropy.utils.metadata]\n",
      "WARNING: MergeConflictWarning: Cannot merge meta key 'DEPVER03' types <class 'str'> and <class 'str'>, choosing DEPVER03='/global/cfs/cdirs/desi/survey/ops/surveyops/trunk/mtl/sv3/dark' [astropy.utils.metadata]\n",
      "WARNING: MergeConflictWarning: Cannot merge meta key 'DEPNAM04' types <class 'str'> and <class 'str'>, choosing DEPNAM04='tractor-files-2' [astropy.utils.metadata]\n",
      "WARNING: MergeConflictWarning: Cannot merge meta key 'DEPVER04' types <class 'str'> and <class 'str'>, choosing DEPVER04='/global/cfs/cdirs/desi/target/catalogs/dr9/0.57.0/targets/sv3/resolve/dark' [astropy.utils.metadata]\n",
      "WARNING: MergeConflictWarning: Cannot merge meta key 'DEPNAM05' types <class 'str'> and <class 'str'>, choosing DEPNAM05='qso-selection' [astropy.utils.metadata]\n",
      "WARNING: MergeConflictWarning: Cannot merge meta key 'DEPVER05' types <class 'str'> and <class 'str'>, choosing DEPVER05='unknown' [astropy.utils.metadata]\n",
      "WARNING: MergeConflictWarning: Cannot merge meta key 'DR' types <class 'astropy.io.fits.card.Undefined'> and <class 'astropy.io.fits.card.Undefined'>, choosing DR=<astropy.io.fits.card.Undefined object at 0x2aaad43d6940> [astropy.utils.metadata]\n",
      "WARNING: UnitsWarning: 'nanomaggy' did not parse as fits unit: At col 0, Unit 'nanomaggy' not supported by the FITS standard.  If this is meant to be a custom unit, define it with 'u.def_unit'. To have it recognized inside a file reader or other code, enable it with 'u.add_enabled_units'. For details, see http://docs.astropy.org/en/latest/units/combining_and_defining.html [astropy.units.core]\n",
      "WARNING: UnitsWarning: '1/nanomaggy^2' did not parse as fits unit: Numeric factor not supported by FITS If this is meant to be a custom unit, define it with 'u.def_unit'. To have it recognized inside a file reader or other code, enable it with 'u.add_enabled_units'. For details, see http://docs.astropy.org/en/latest/units/combining_and_defining.html [astropy.units.core]\n"
     ]
    },
    {
     "name": "stdout",
     "output_type": "stream",
     "text": [
      "WARNING:io.py:611:write_targets: qso_selection method not specified for output file\n"
     ]
    },
    {
     "name": "stderr",
     "output_type": "stream",
     "text": [
      "WARNING: MergeConflictWarning: Cannot merge meta key 'DEPNAM00' types <class 'str'> and <class 'str'>, choosing DEPNAM00='desitarget' [astropy.utils.metadata]\n",
      "WARNING: MergeConflictWarning: Cannot merge meta key 'DEPVER00' types <class 'str'> and <class 'str'>, choosing DEPVER00='0.57.1' [astropy.utils.metadata]\n",
      "WARNING: MergeConflictWarning: Cannot merge meta key 'DEPNAM01' types <class 'str'> and <class 'str'>, choosing DEPNAM01='desitarget-git' [astropy.utils.metadata]\n",
      "WARNING: MergeConflictWarning: Cannot merge meta key 'DEPVER01' types <class 'str'> and <class 'str'>, choosing DEPVER01='0.57.1' [astropy.utils.metadata]\n",
      "WARNING: MergeConflictWarning: Cannot merge meta key 'DEPNAM02' types <class 'str'> and <class 'str'>, choosing DEPNAM02='photcat' [astropy.utils.metadata]\n",
      "WARNING: MergeConflictWarning: Cannot merge meta key 'DEPVER02' types <class 'str'> and <class 'str'>, choosing DEPVER02='X' [astropy.utils.metadata]\n",
      "WARNING: MergeConflictWarning: Cannot merge meta key 'DEPNAM03' types <class 'str'> and <class 'str'>, choosing DEPNAM03='tractor-files' [astropy.utils.metadata]\n",
      "WARNING: MergeConflictWarning: Cannot merge meta key 'DEPVER03' types <class 'str'> and <class 'str'>, choosing DEPVER03='/global/cfs/cdirs/desi/survey/ops/surveyops/trunk/mtl/sv3/dark' [astropy.utils.metadata]\n",
      "WARNING: MergeConflictWarning: Cannot merge meta key 'DEPNAM04' types <class 'str'> and <class 'str'>, choosing DEPNAM04='tractor-files-2' [astropy.utils.metadata]\n",
      "WARNING: MergeConflictWarning: Cannot merge meta key 'DEPVER04' types <class 'str'> and <class 'str'>, choosing DEPVER04='/global/cfs/cdirs/desi/target/catalogs/dr9/0.57.0/targets/sv3/resolve/dark' [astropy.utils.metadata]\n",
      "WARNING: MergeConflictWarning: Cannot merge meta key 'DEPNAM05' types <class 'str'> and <class 'str'>, choosing DEPNAM05='qso-selection' [astropy.utils.metadata]\n",
      "WARNING: MergeConflictWarning: Cannot merge meta key 'DEPVER05' types <class 'str'> and <class 'str'>, choosing DEPVER05='unknown' [astropy.utils.metadata]\n",
      "WARNING: MergeConflictWarning: Cannot merge meta key 'DR' types <class 'astropy.io.fits.card.Undefined'> and <class 'astropy.io.fits.card.Undefined'>, choosing DR=<astropy.io.fits.card.Undefined object at 0x2aaad43d6940> [astropy.utils.metadata]\n",
      "WARNING: UnitsWarning: 'nanomaggy' did not parse as fits unit: At col 0, Unit 'nanomaggy' not supported by the FITS standard.  If this is meant to be a custom unit, define it with 'u.def_unit'. To have it recognized inside a file reader or other code, enable it with 'u.add_enabled_units'. For details, see http://docs.astropy.org/en/latest/units/combining_and_defining.html [astropy.units.core]\n",
      "WARNING: UnitsWarning: '1/nanomaggy^2' did not parse as fits unit: Numeric factor not supported by FITS If this is meant to be a custom unit, define it with 'u.def_unit'. To have it recognized inside a file reader or other code, enable it with 'u.add_enabled_units'. For details, see http://docs.astropy.org/en/latest/units/combining_and_defining.html [astropy.units.core]\n"
     ]
    },
    {
     "name": "stdout",
     "output_type": "stream",
     "text": [
      "WARNING:io.py:611:write_targets: qso_selection method not specified for output file\n"
     ]
    },
    {
     "name": "stderr",
     "output_type": "stream",
     "text": [
      "WARNING: MergeConflictWarning: Cannot merge meta key 'DEPNAM00' types <class 'str'> and <class 'str'>, choosing DEPNAM00='desitarget' [astropy.utils.metadata]\n",
      "WARNING: MergeConflictWarning: Cannot merge meta key 'DEPVER00' types <class 'str'> and <class 'str'>, choosing DEPVER00='0.57.1' [astropy.utils.metadata]\n",
      "WARNING: MergeConflictWarning: Cannot merge meta key 'DEPNAM01' types <class 'str'> and <class 'str'>, choosing DEPNAM01='desitarget-git' [astropy.utils.metadata]\n",
      "WARNING: MergeConflictWarning: Cannot merge meta key 'DEPVER01' types <class 'str'> and <class 'str'>, choosing DEPVER01='0.57.1' [astropy.utils.metadata]\n",
      "WARNING: MergeConflictWarning: Cannot merge meta key 'DEPNAM02' types <class 'str'> and <class 'str'>, choosing DEPNAM02='photcat' [astropy.utils.metadata]\n",
      "WARNING: MergeConflictWarning: Cannot merge meta key 'DEPVER02' types <class 'str'> and <class 'str'>, choosing DEPVER02='X' [astropy.utils.metadata]\n",
      "WARNING: MergeConflictWarning: Cannot merge meta key 'DEPNAM03' types <class 'str'> and <class 'str'>, choosing DEPNAM03='tractor-files' [astropy.utils.metadata]\n",
      "WARNING: MergeConflictWarning: Cannot merge meta key 'DEPVER03' types <class 'str'> and <class 'str'>, choosing DEPVER03='/global/cfs/cdirs/desi/survey/ops/surveyops/trunk/mtl/sv3/dark' [astropy.utils.metadata]\n",
      "WARNING: MergeConflictWarning: Cannot merge meta key 'DEPNAM04' types <class 'str'> and <class 'str'>, choosing DEPNAM04='tractor-files-2' [astropy.utils.metadata]\n",
      "WARNING: MergeConflictWarning: Cannot merge meta key 'DEPVER04' types <class 'str'> and <class 'str'>, choosing DEPVER04='/global/cfs/cdirs/desi/target/catalogs/dr9/0.57.0/targets/sv3/resolve/dark' [astropy.utils.metadata]\n",
      "WARNING: MergeConflictWarning: Cannot merge meta key 'DEPNAM05' types <class 'str'> and <class 'str'>, choosing DEPNAM05='qso-selection' [astropy.utils.metadata]\n",
      "WARNING: MergeConflictWarning: Cannot merge meta key 'DEPVER05' types <class 'str'> and <class 'str'>, choosing DEPVER05='unknown' [astropy.utils.metadata]\n",
      "WARNING: MergeConflictWarning: Cannot merge meta key 'DR' types <class 'astropy.io.fits.card.Undefined'> and <class 'astropy.io.fits.card.Undefined'>, choosing DR=<astropy.io.fits.card.Undefined object at 0x2aaad43d6940> [astropy.utils.metadata]\n",
      "WARNING: UnitsWarning: 'nanomaggy' did not parse as fits unit: At col 0, Unit 'nanomaggy' not supported by the FITS standard.  If this is meant to be a custom unit, define it with 'u.def_unit'. To have it recognized inside a file reader or other code, enable it with 'u.add_enabled_units'. For details, see http://docs.astropy.org/en/latest/units/combining_and_defining.html [astropy.units.core]\n",
      "WARNING: UnitsWarning: '1/nanomaggy^2' did not parse as fits unit: Numeric factor not supported by FITS If this is meant to be a custom unit, define it with 'u.def_unit'. To have it recognized inside a file reader or other code, enable it with 'u.add_enabled_units'. For details, see http://docs.astropy.org/en/latest/units/combining_and_defining.html [astropy.units.core]\n"
     ]
    },
    {
     "name": "stdout",
     "output_type": "stream",
     "text": [
      "WARNING:io.py:611:write_targets: qso_selection method not specified for output file\n"
     ]
    },
    {
     "name": "stderr",
     "output_type": "stream",
     "text": [
      "WARNING: MergeConflictWarning: Cannot merge meta key 'DEPNAM00' types <class 'str'> and <class 'str'>, choosing DEPNAM00='desitarget' [astropy.utils.metadata]\n",
      "WARNING: MergeConflictWarning: Cannot merge meta key 'DEPVER00' types <class 'str'> and <class 'str'>, choosing DEPVER00='0.57.1' [astropy.utils.metadata]\n",
      "WARNING: MergeConflictWarning: Cannot merge meta key 'DEPNAM01' types <class 'str'> and <class 'str'>, choosing DEPNAM01='desitarget-git' [astropy.utils.metadata]\n",
      "WARNING: MergeConflictWarning: Cannot merge meta key 'DEPVER01' types <class 'str'> and <class 'str'>, choosing DEPVER01='0.57.1' [astropy.utils.metadata]\n",
      "WARNING: MergeConflictWarning: Cannot merge meta key 'DEPNAM02' types <class 'str'> and <class 'str'>, choosing DEPNAM02='photcat' [astropy.utils.metadata]\n",
      "WARNING: MergeConflictWarning: Cannot merge meta key 'DEPVER02' types <class 'str'> and <class 'str'>, choosing DEPVER02='X' [astropy.utils.metadata]\n",
      "WARNING: MergeConflictWarning: Cannot merge meta key 'DEPNAM03' types <class 'str'> and <class 'str'>, choosing DEPNAM03='tractor-files' [astropy.utils.metadata]\n",
      "WARNING: MergeConflictWarning: Cannot merge meta key 'DEPVER03' types <class 'str'> and <class 'str'>, choosing DEPVER03='/global/cfs/cdirs/desi/survey/ops/surveyops/trunk/mtl/sv3/dark' [astropy.utils.metadata]\n",
      "WARNING: MergeConflictWarning: Cannot merge meta key 'DEPNAM04' types <class 'str'> and <class 'str'>, choosing DEPNAM04='tractor-files-2' [astropy.utils.metadata]\n",
      "WARNING: MergeConflictWarning: Cannot merge meta key 'DEPVER04' types <class 'str'> and <class 'str'>, choosing DEPVER04='/global/cfs/cdirs/desi/target/catalogs/dr9/0.57.0/targets/sv3/resolve/dark' [astropy.utils.metadata]\n",
      "WARNING: MergeConflictWarning: Cannot merge meta key 'DEPNAM05' types <class 'str'> and <class 'str'>, choosing DEPNAM05='qso-selection' [astropy.utils.metadata]\n",
      "WARNING: MergeConflictWarning: Cannot merge meta key 'DEPVER05' types <class 'str'> and <class 'str'>, choosing DEPVER05='unknown' [astropy.utils.metadata]\n",
      "WARNING: MergeConflictWarning: Cannot merge meta key 'DR' types <class 'astropy.io.fits.card.Undefined'> and <class 'astropy.io.fits.card.Undefined'>, choosing DR=<astropy.io.fits.card.Undefined object at 0x2aaad43d6940> [astropy.utils.metadata]\n",
      "WARNING: UnitsWarning: 'nanomaggy' did not parse as fits unit: At col 0, Unit 'nanomaggy' not supported by the FITS standard.  If this is meant to be a custom unit, define it with 'u.def_unit'. To have it recognized inside a file reader or other code, enable it with 'u.add_enabled_units'. For details, see http://docs.astropy.org/en/latest/units/combining_and_defining.html [astropy.units.core]\n",
      "WARNING: UnitsWarning: '1/nanomaggy^2' did not parse as fits unit: Numeric factor not supported by FITS If this is meant to be a custom unit, define it with 'u.def_unit'. To have it recognized inside a file reader or other code, enable it with 'u.add_enabled_units'. For details, see http://docs.astropy.org/en/latest/units/combining_and_defining.html [astropy.units.core]\n"
     ]
    },
    {
     "name": "stdout",
     "output_type": "stream",
     "text": [
      "WARNING:io.py:611:write_targets: qso_selection method not specified for output file\n"
     ]
    },
    {
     "name": "stderr",
     "output_type": "stream",
     "text": [
      "WARNING: MergeConflictWarning: Cannot merge meta key 'DEPNAM00' types <class 'str'> and <class 'str'>, choosing DEPNAM00='desitarget' [astropy.utils.metadata]\n",
      "WARNING: MergeConflictWarning: Cannot merge meta key 'DEPVER00' types <class 'str'> and <class 'str'>, choosing DEPVER00='0.57.1' [astropy.utils.metadata]\n",
      "WARNING: MergeConflictWarning: Cannot merge meta key 'DEPNAM01' types <class 'str'> and <class 'str'>, choosing DEPNAM01='desitarget-git' [astropy.utils.metadata]\n",
      "WARNING: MergeConflictWarning: Cannot merge meta key 'DEPVER01' types <class 'str'> and <class 'str'>, choosing DEPVER01='0.57.1' [astropy.utils.metadata]\n",
      "WARNING: MergeConflictWarning: Cannot merge meta key 'DEPNAM02' types <class 'str'> and <class 'str'>, choosing DEPNAM02='photcat' [astropy.utils.metadata]\n",
      "WARNING: MergeConflictWarning: Cannot merge meta key 'DEPVER02' types <class 'str'> and <class 'str'>, choosing DEPVER02='X' [astropy.utils.metadata]\n",
      "WARNING: MergeConflictWarning: Cannot merge meta key 'DEPNAM03' types <class 'str'> and <class 'str'>, choosing DEPNAM03='tractor-files' [astropy.utils.metadata]\n",
      "WARNING: MergeConflictWarning: Cannot merge meta key 'DEPVER03' types <class 'str'> and <class 'str'>, choosing DEPVER03='/global/cfs/cdirs/desi/survey/ops/surveyops/trunk/mtl/sv3/dark' [astropy.utils.metadata]\n",
      "WARNING: MergeConflictWarning: Cannot merge meta key 'DEPNAM04' types <class 'str'> and <class 'str'>, choosing DEPNAM04='tractor-files-2' [astropy.utils.metadata]\n",
      "WARNING: MergeConflictWarning: Cannot merge meta key 'DEPVER04' types <class 'str'> and <class 'str'>, choosing DEPVER04='/global/cfs/cdirs/desi/target/catalogs/dr9/0.57.0/targets/sv3/resolve/dark' [astropy.utils.metadata]\n",
      "WARNING: MergeConflictWarning: Cannot merge meta key 'DEPNAM05' types <class 'str'> and <class 'str'>, choosing DEPNAM05='qso-selection' [astropy.utils.metadata]\n",
      "WARNING: MergeConflictWarning: Cannot merge meta key 'DEPVER05' types <class 'str'> and <class 'str'>, choosing DEPVER05='unknown' [astropy.utils.metadata]\n",
      "WARNING: MergeConflictWarning: Cannot merge meta key 'DR' types <class 'astropy.io.fits.card.Undefined'> and <class 'astropy.io.fits.card.Undefined'>, choosing DR=<astropy.io.fits.card.Undefined object at 0x2aaad43d6940> [astropy.utils.metadata]\n",
      "WARNING: UnitsWarning: 'nanomaggy' did not parse as fits unit: At col 0, Unit 'nanomaggy' not supported by the FITS standard.  If this is meant to be a custom unit, define it with 'u.def_unit'. To have it recognized inside a file reader or other code, enable it with 'u.add_enabled_units'. For details, see http://docs.astropy.org/en/latest/units/combining_and_defining.html [astropy.units.core]\n",
      "WARNING: UnitsWarning: '1/nanomaggy^2' did not parse as fits unit: Numeric factor not supported by FITS If this is meant to be a custom unit, define it with 'u.def_unit'. To have it recognized inside a file reader or other code, enable it with 'u.add_enabled_units'. For details, see http://docs.astropy.org/en/latest/units/combining_and_defining.html [astropy.units.core]\n"
     ]
    },
    {
     "name": "stdout",
     "output_type": "stream",
     "text": [
      "WARNING:io.py:611:write_targets: qso_selection method not specified for output file\n"
     ]
    },
    {
     "name": "stderr",
     "output_type": "stream",
     "text": [
      "WARNING: MergeConflictWarning: Cannot merge meta key 'DEPNAM00' types <class 'str'> and <class 'str'>, choosing DEPNAM00='desitarget' [astropy.utils.metadata]\n",
      "WARNING: MergeConflictWarning: Cannot merge meta key 'DEPVER00' types <class 'str'> and <class 'str'>, choosing DEPVER00='0.57.1' [astropy.utils.metadata]\n",
      "WARNING: MergeConflictWarning: Cannot merge meta key 'DEPNAM01' types <class 'str'> and <class 'str'>, choosing DEPNAM01='desitarget-git' [astropy.utils.metadata]\n",
      "WARNING: MergeConflictWarning: Cannot merge meta key 'DEPVER01' types <class 'str'> and <class 'str'>, choosing DEPVER01='0.57.1' [astropy.utils.metadata]\n",
      "WARNING: MergeConflictWarning: Cannot merge meta key 'DEPNAM02' types <class 'str'> and <class 'str'>, choosing DEPNAM02='photcat' [astropy.utils.metadata]\n",
      "WARNING: MergeConflictWarning: Cannot merge meta key 'DEPVER02' types <class 'str'> and <class 'str'>, choosing DEPVER02='X' [astropy.utils.metadata]\n",
      "WARNING: MergeConflictWarning: Cannot merge meta key 'DEPNAM03' types <class 'str'> and <class 'str'>, choosing DEPNAM03='tractor-files' [astropy.utils.metadata]\n",
      "WARNING: MergeConflictWarning: Cannot merge meta key 'DEPVER03' types <class 'str'> and <class 'str'>, choosing DEPVER03='/global/cfs/cdirs/desi/survey/ops/surveyops/trunk/mtl/sv3/dark' [astropy.utils.metadata]\n",
      "WARNING: MergeConflictWarning: Cannot merge meta key 'DEPNAM04' types <class 'str'> and <class 'str'>, choosing DEPNAM04='tractor-files-2' [astropy.utils.metadata]\n",
      "WARNING: MergeConflictWarning: Cannot merge meta key 'DEPVER04' types <class 'str'> and <class 'str'>, choosing DEPVER04='/global/cfs/cdirs/desi/target/catalogs/dr9/0.57.0/targets/sv3/resolve/dark' [astropy.utils.metadata]\n",
      "WARNING: MergeConflictWarning: Cannot merge meta key 'DEPNAM05' types <class 'str'> and <class 'str'>, choosing DEPNAM05='qso-selection' [astropy.utils.metadata]\n",
      "WARNING: MergeConflictWarning: Cannot merge meta key 'DEPVER05' types <class 'str'> and <class 'str'>, choosing DEPVER05='unknown' [astropy.utils.metadata]\n",
      "WARNING: MergeConflictWarning: Cannot merge meta key 'DR' types <class 'astropy.io.fits.card.Undefined'> and <class 'astropy.io.fits.card.Undefined'>, choosing DR=<astropy.io.fits.card.Undefined object at 0x2aaad43d6940> [astropy.utils.metadata]\n",
      "WARNING: UnitsWarning: 'nanomaggy' did not parse as fits unit: At col 0, Unit 'nanomaggy' not supported by the FITS standard.  If this is meant to be a custom unit, define it with 'u.def_unit'. To have it recognized inside a file reader or other code, enable it with 'u.add_enabled_units'. For details, see http://docs.astropy.org/en/latest/units/combining_and_defining.html [astropy.units.core]\n",
      "WARNING: UnitsWarning: '1/nanomaggy^2' did not parse as fits unit: Numeric factor not supported by FITS If this is meant to be a custom unit, define it with 'u.def_unit'. To have it recognized inside a file reader or other code, enable it with 'u.add_enabled_units'. For details, see http://docs.astropy.org/en/latest/units/combining_and_defining.html [astropy.units.core]\n"
     ]
    },
    {
     "name": "stdout",
     "output_type": "stream",
     "text": [
      "WARNING:io.py:611:write_targets: qso_selection method not specified for output file\n"
     ]
    },
    {
     "name": "stderr",
     "output_type": "stream",
     "text": [
      "WARNING: MergeConflictWarning: Cannot merge meta key 'DEPNAM00' types <class 'str'> and <class 'str'>, choosing DEPNAM00='desitarget' [astropy.utils.metadata]\n",
      "WARNING: MergeConflictWarning: Cannot merge meta key 'DEPVER00' types <class 'str'> and <class 'str'>, choosing DEPVER00='0.57.1' [astropy.utils.metadata]\n",
      "WARNING: MergeConflictWarning: Cannot merge meta key 'DEPNAM01' types <class 'str'> and <class 'str'>, choosing DEPNAM01='desitarget-git' [astropy.utils.metadata]\n",
      "WARNING: MergeConflictWarning: Cannot merge meta key 'DEPVER01' types <class 'str'> and <class 'str'>, choosing DEPVER01='0.57.1' [astropy.utils.metadata]\n",
      "WARNING: MergeConflictWarning: Cannot merge meta key 'DEPNAM02' types <class 'str'> and <class 'str'>, choosing DEPNAM02='photcat' [astropy.utils.metadata]\n",
      "WARNING: MergeConflictWarning: Cannot merge meta key 'DEPVER02' types <class 'str'> and <class 'str'>, choosing DEPVER02='X' [astropy.utils.metadata]\n",
      "WARNING: MergeConflictWarning: Cannot merge meta key 'DEPNAM03' types <class 'str'> and <class 'str'>, choosing DEPNAM03='tractor-files' [astropy.utils.metadata]\n",
      "WARNING: MergeConflictWarning: Cannot merge meta key 'DEPVER03' types <class 'str'> and <class 'str'>, choosing DEPVER03='/global/cfs/cdirs/desi/survey/ops/surveyops/trunk/mtl/sv3/dark' [astropy.utils.metadata]\n",
      "WARNING: MergeConflictWarning: Cannot merge meta key 'DEPNAM04' types <class 'str'> and <class 'str'>, choosing DEPNAM04='tractor-files-2' [astropy.utils.metadata]\n",
      "WARNING: MergeConflictWarning: Cannot merge meta key 'DEPVER04' types <class 'str'> and <class 'str'>, choosing DEPVER04='/global/cfs/cdirs/desi/target/catalogs/dr9/0.57.0/targets/sv3/resolve/dark' [astropy.utils.metadata]\n",
      "WARNING: MergeConflictWarning: Cannot merge meta key 'DEPNAM05' types <class 'str'> and <class 'str'>, choosing DEPNAM05='qso-selection' [astropy.utils.metadata]\n",
      "WARNING: MergeConflictWarning: Cannot merge meta key 'DEPVER05' types <class 'str'> and <class 'str'>, choosing DEPVER05='unknown' [astropy.utils.metadata]\n",
      "WARNING: MergeConflictWarning: Cannot merge meta key 'DR' types <class 'astropy.io.fits.card.Undefined'> and <class 'astropy.io.fits.card.Undefined'>, choosing DR=<astropy.io.fits.card.Undefined object at 0x2aaad43d6940> [astropy.utils.metadata]\n",
      "WARNING: UnitsWarning: 'nanomaggy' did not parse as fits unit: At col 0, Unit 'nanomaggy' not supported by the FITS standard.  If this is meant to be a custom unit, define it with 'u.def_unit'. To have it recognized inside a file reader or other code, enable it with 'u.add_enabled_units'. For details, see http://docs.astropy.org/en/latest/units/combining_and_defining.html [astropy.units.core]\n",
      "WARNING: UnitsWarning: '1/nanomaggy^2' did not parse as fits unit: Numeric factor not supported by FITS If this is meant to be a custom unit, define it with 'u.def_unit'. To have it recognized inside a file reader or other code, enable it with 'u.add_enabled_units'. For details, see http://docs.astropy.org/en/latest/units/combining_and_defining.html [astropy.units.core]\n"
     ]
    },
    {
     "name": "stdout",
     "output_type": "stream",
     "text": [
      "WARNING:io.py:611:write_targets: qso_selection method not specified for output file\n"
     ]
    },
    {
     "name": "stderr",
     "output_type": "stream",
     "text": [
      "WARNING: MergeConflictWarning: Cannot merge meta key 'DEPNAM00' types <class 'str'> and <class 'str'>, choosing DEPNAM00='desitarget' [astropy.utils.metadata]\n",
      "WARNING: MergeConflictWarning: Cannot merge meta key 'DEPVER00' types <class 'str'> and <class 'str'>, choosing DEPVER00='0.57.1' [astropy.utils.metadata]\n",
      "WARNING: MergeConflictWarning: Cannot merge meta key 'DEPNAM01' types <class 'str'> and <class 'str'>, choosing DEPNAM01='desitarget-git' [astropy.utils.metadata]\n",
      "WARNING: MergeConflictWarning: Cannot merge meta key 'DEPVER01' types <class 'str'> and <class 'str'>, choosing DEPVER01='0.57.1' [astropy.utils.metadata]\n",
      "WARNING: MergeConflictWarning: Cannot merge meta key 'DEPNAM02' types <class 'str'> and <class 'str'>, choosing DEPNAM02='photcat' [astropy.utils.metadata]\n",
      "WARNING: MergeConflictWarning: Cannot merge meta key 'DEPVER02' types <class 'str'> and <class 'str'>, choosing DEPVER02='X' [astropy.utils.metadata]\n",
      "WARNING: MergeConflictWarning: Cannot merge meta key 'DEPNAM03' types <class 'str'> and <class 'str'>, choosing DEPNAM03='tractor-files' [astropy.utils.metadata]\n",
      "WARNING: MergeConflictWarning: Cannot merge meta key 'DEPVER03' types <class 'str'> and <class 'str'>, choosing DEPVER03='/global/cfs/cdirs/desi/survey/ops/surveyops/trunk/mtl/sv3/dark' [astropy.utils.metadata]\n",
      "WARNING: MergeConflictWarning: Cannot merge meta key 'DEPNAM04' types <class 'str'> and <class 'str'>, choosing DEPNAM04='tractor-files-2' [astropy.utils.metadata]\n",
      "WARNING: MergeConflictWarning: Cannot merge meta key 'DEPVER04' types <class 'str'> and <class 'str'>, choosing DEPVER04='/global/cfs/cdirs/desi/target/catalogs/dr9/0.57.0/targets/sv3/resolve/dark' [astropy.utils.metadata]\n",
      "WARNING: MergeConflictWarning: Cannot merge meta key 'DEPNAM05' types <class 'str'> and <class 'str'>, choosing DEPNAM05='qso-selection' [astropy.utils.metadata]\n",
      "WARNING: MergeConflictWarning: Cannot merge meta key 'DEPVER05' types <class 'str'> and <class 'str'>, choosing DEPVER05='unknown' [astropy.utils.metadata]\n",
      "WARNING: MergeConflictWarning: Cannot merge meta key 'DR' types <class 'astropy.io.fits.card.Undefined'> and <class 'astropy.io.fits.card.Undefined'>, choosing DR=<astropy.io.fits.card.Undefined object at 0x2aaad43d6940> [astropy.utils.metadata]\n",
      "WARNING: UnitsWarning: 'nanomaggy' did not parse as fits unit: At col 0, Unit 'nanomaggy' not supported by the FITS standard.  If this is meant to be a custom unit, define it with 'u.def_unit'. To have it recognized inside a file reader or other code, enable it with 'u.add_enabled_units'. For details, see http://docs.astropy.org/en/latest/units/combining_and_defining.html [astropy.units.core]\n",
      "WARNING: UnitsWarning: '1/nanomaggy^2' did not parse as fits unit: Numeric factor not supported by FITS If this is meant to be a custom unit, define it with 'u.def_unit'. To have it recognized inside a file reader or other code, enable it with 'u.add_enabled_units'. For details, see http://docs.astropy.org/en/latest/units/combining_and_defining.html [astropy.units.core]\n"
     ]
    },
    {
     "name": "stdout",
     "output_type": "stream",
     "text": [
      "WARNING:io.py:611:write_targets: qso_selection method not specified for output file\n"
     ]
    },
    {
     "name": "stderr",
     "output_type": "stream",
     "text": [
      "WARNING: MergeConflictWarning: Cannot merge meta key 'DEPNAM00' types <class 'str'> and <class 'str'>, choosing DEPNAM00='desitarget' [astropy.utils.metadata]\n",
      "WARNING: MergeConflictWarning: Cannot merge meta key 'DEPVER00' types <class 'str'> and <class 'str'>, choosing DEPVER00='0.57.1' [astropy.utils.metadata]\n",
      "WARNING: MergeConflictWarning: Cannot merge meta key 'DEPNAM01' types <class 'str'> and <class 'str'>, choosing DEPNAM01='desitarget-git' [astropy.utils.metadata]\n",
      "WARNING: MergeConflictWarning: Cannot merge meta key 'DEPVER01' types <class 'str'> and <class 'str'>, choosing DEPVER01='0.57.1' [astropy.utils.metadata]\n",
      "WARNING: MergeConflictWarning: Cannot merge meta key 'DEPNAM02' types <class 'str'> and <class 'str'>, choosing DEPNAM02='photcat' [astropy.utils.metadata]\n",
      "WARNING: MergeConflictWarning: Cannot merge meta key 'DEPVER02' types <class 'str'> and <class 'str'>, choosing DEPVER02='X' [astropy.utils.metadata]\n",
      "WARNING: MergeConflictWarning: Cannot merge meta key 'DEPNAM03' types <class 'str'> and <class 'str'>, choosing DEPNAM03='tractor-files' [astropy.utils.metadata]\n",
      "WARNING: MergeConflictWarning: Cannot merge meta key 'DEPVER03' types <class 'str'> and <class 'str'>, choosing DEPVER03='/global/cfs/cdirs/desi/survey/ops/surveyops/trunk/mtl/sv3/dark' [astropy.utils.metadata]\n",
      "WARNING: MergeConflictWarning: Cannot merge meta key 'DEPNAM04' types <class 'str'> and <class 'str'>, choosing DEPNAM04='tractor-files-2' [astropy.utils.metadata]\n",
      "WARNING: MergeConflictWarning: Cannot merge meta key 'DEPVER04' types <class 'str'> and <class 'str'>, choosing DEPVER04='/global/cfs/cdirs/desi/target/catalogs/dr9/0.57.0/targets/sv3/resolve/dark' [astropy.utils.metadata]\n",
      "WARNING: MergeConflictWarning: Cannot merge meta key 'DEPNAM05' types <class 'str'> and <class 'str'>, choosing DEPNAM05='qso-selection' [astropy.utils.metadata]\n",
      "WARNING: MergeConflictWarning: Cannot merge meta key 'DEPVER05' types <class 'str'> and <class 'str'>, choosing DEPVER05='unknown' [astropy.utils.metadata]\n",
      "WARNING: MergeConflictWarning: Cannot merge meta key 'DR' types <class 'astropy.io.fits.card.Undefined'> and <class 'astropy.io.fits.card.Undefined'>, choosing DR=<astropy.io.fits.card.Undefined object at 0x2aaad43d6940> [astropy.utils.metadata]\n",
      "WARNING: UnitsWarning: 'nanomaggy' did not parse as fits unit: At col 0, Unit 'nanomaggy' not supported by the FITS standard.  If this is meant to be a custom unit, define it with 'u.def_unit'. To have it recognized inside a file reader or other code, enable it with 'u.add_enabled_units'. For details, see http://docs.astropy.org/en/latest/units/combining_and_defining.html [astropy.units.core]\n",
      "WARNING: UnitsWarning: '1/nanomaggy^2' did not parse as fits unit: Numeric factor not supported by FITS If this is meant to be a custom unit, define it with 'u.def_unit'. To have it recognized inside a file reader or other code, enable it with 'u.add_enabled_units'. For details, see http://docs.astropy.org/en/latest/units/combining_and_defining.html [astropy.units.core]\n"
     ]
    },
    {
     "name": "stdout",
     "output_type": "stream",
     "text": [
      "WARNING:io.py:611:write_targets: qso_selection method not specified for output file\n"
     ]
    },
    {
     "name": "stderr",
     "output_type": "stream",
     "text": [
      "WARNING: MergeConflictWarning: Cannot merge meta key 'DEPNAM00' types <class 'str'> and <class 'str'>, choosing DEPNAM00='desitarget' [astropy.utils.metadata]\n",
      "WARNING: MergeConflictWarning: Cannot merge meta key 'DEPVER00' types <class 'str'> and <class 'str'>, choosing DEPVER00='0.57.1' [astropy.utils.metadata]\n",
      "WARNING: MergeConflictWarning: Cannot merge meta key 'DEPNAM01' types <class 'str'> and <class 'str'>, choosing DEPNAM01='desitarget-git' [astropy.utils.metadata]\n",
      "WARNING: MergeConflictWarning: Cannot merge meta key 'DEPVER01' types <class 'str'> and <class 'str'>, choosing DEPVER01='0.57.1' [astropy.utils.metadata]\n",
      "WARNING: MergeConflictWarning: Cannot merge meta key 'DEPNAM02' types <class 'str'> and <class 'str'>, choosing DEPNAM02='photcat' [astropy.utils.metadata]\n",
      "WARNING: MergeConflictWarning: Cannot merge meta key 'DEPVER02' types <class 'str'> and <class 'str'>, choosing DEPVER02='X' [astropy.utils.metadata]\n",
      "WARNING: MergeConflictWarning: Cannot merge meta key 'DEPNAM03' types <class 'str'> and <class 'str'>, choosing DEPNAM03='tractor-files' [astropy.utils.metadata]\n",
      "WARNING: MergeConflictWarning: Cannot merge meta key 'DEPVER03' types <class 'str'> and <class 'str'>, choosing DEPVER03='/global/cfs/cdirs/desi/survey/ops/surveyops/trunk/mtl/sv3/dark' [astropy.utils.metadata]\n",
      "WARNING: MergeConflictWarning: Cannot merge meta key 'DEPNAM04' types <class 'str'> and <class 'str'>, choosing DEPNAM04='tractor-files-2' [astropy.utils.metadata]\n",
      "WARNING: MergeConflictWarning: Cannot merge meta key 'DEPVER04' types <class 'str'> and <class 'str'>, choosing DEPVER04='/global/cfs/cdirs/desi/target/catalogs/dr9/0.57.0/targets/sv3/resolve/dark' [astropy.utils.metadata]\n",
      "WARNING: MergeConflictWarning: Cannot merge meta key 'DEPNAM05' types <class 'str'> and <class 'str'>, choosing DEPNAM05='qso-selection' [astropy.utils.metadata]\n",
      "WARNING: MergeConflictWarning: Cannot merge meta key 'DEPVER05' types <class 'str'> and <class 'str'>, choosing DEPVER05='unknown' [astropy.utils.metadata]\n",
      "WARNING: MergeConflictWarning: Cannot merge meta key 'DR' types <class 'astropy.io.fits.card.Undefined'> and <class 'astropy.io.fits.card.Undefined'>, choosing DR=<astropy.io.fits.card.Undefined object at 0x2aaad43d6940> [astropy.utils.metadata]\n",
      "WARNING: UnitsWarning: 'nanomaggy' did not parse as fits unit: At col 0, Unit 'nanomaggy' not supported by the FITS standard.  If this is meant to be a custom unit, define it with 'u.def_unit'. To have it recognized inside a file reader or other code, enable it with 'u.add_enabled_units'. For details, see http://docs.astropy.org/en/latest/units/combining_and_defining.html [astropy.units.core]\n",
      "WARNING: UnitsWarning: '1/nanomaggy^2' did not parse as fits unit: Numeric factor not supported by FITS If this is meant to be a custom unit, define it with 'u.def_unit'. To have it recognized inside a file reader or other code, enable it with 'u.add_enabled_units'. For details, see http://docs.astropy.org/en/latest/units/combining_and_defining.html [astropy.units.core]\n"
     ]
    },
    {
     "name": "stdout",
     "output_type": "stream",
     "text": [
      "will be using too file /global/cfs/cdirs/desi/survey/fiberassign/SV3/20210419/000252-too.fits\n",
      "WARNING:io.py:611:write_targets: qso_selection method not specified for output file\n"
     ]
    },
    {
     "name": "stderr",
     "output_type": "stream",
     "text": [
      "WARNING: MergeConflictWarning: Cannot merge meta key 'DEPNAM00' types <class 'str'> and <class 'str'>, choosing DEPNAM00='desitarget' [astropy.utils.metadata]\n",
      "WARNING: MergeConflictWarning: Cannot merge meta key 'DEPVER00' types <class 'str'> and <class 'str'>, choosing DEPVER00='0.57.1' [astropy.utils.metadata]\n",
      "WARNING: MergeConflictWarning: Cannot merge meta key 'DEPNAM01' types <class 'str'> and <class 'str'>, choosing DEPNAM01='desitarget-git' [astropy.utils.metadata]\n",
      "WARNING: MergeConflictWarning: Cannot merge meta key 'DEPVER01' types <class 'str'> and <class 'str'>, choosing DEPVER01='0.57.1' [astropy.utils.metadata]\n",
      "WARNING: MergeConflictWarning: Cannot merge meta key 'DEPNAM02' types <class 'str'> and <class 'str'>, choosing DEPNAM02='photcat' [astropy.utils.metadata]\n",
      "WARNING: MergeConflictWarning: Cannot merge meta key 'DEPVER02' types <class 'str'> and <class 'str'>, choosing DEPVER02='X' [astropy.utils.metadata]\n",
      "WARNING: MergeConflictWarning: Cannot merge meta key 'DEPNAM03' types <class 'str'> and <class 'str'>, choosing DEPNAM03='tractor-files' [astropy.utils.metadata]\n",
      "WARNING: MergeConflictWarning: Cannot merge meta key 'DEPVER03' types <class 'str'> and <class 'str'>, choosing DEPVER03='/global/cfs/cdirs/desi/survey/ops/surveyops/trunk/mtl/sv3/dark' [astropy.utils.metadata]\n",
      "WARNING: MergeConflictWarning: Cannot merge meta key 'DEPNAM04' types <class 'str'> and <class 'str'>, choosing DEPNAM04='tractor-files-2' [astropy.utils.metadata]\n",
      "WARNING: MergeConflictWarning: Cannot merge meta key 'DEPVER04' types <class 'str'> and <class 'str'>, choosing DEPVER04='/global/cfs/cdirs/desi/target/catalogs/dr9/0.57.0/targets/sv3/resolve/dark' [astropy.utils.metadata]\n",
      "WARNING: MergeConflictWarning: Cannot merge meta key 'DEPNAM05' types <class 'str'> and <class 'str'>, choosing DEPNAM05='qso-selection' [astropy.utils.metadata]\n",
      "WARNING: MergeConflictWarning: Cannot merge meta key 'DEPVER05' types <class 'str'> and <class 'str'>, choosing DEPVER05='unknown' [astropy.utils.metadata]\n",
      "WARNING: MergeConflictWarning: Cannot merge meta key 'DR' types <class 'astropy.io.fits.card.Undefined'> and <class 'astropy.io.fits.card.Undefined'>, choosing DR=<astropy.io.fits.card.Undefined object at 0x2aaad43d6940> [astropy.utils.metadata]\n",
      "WARNING: UnitsWarning: 'nanomaggy' did not parse as fits unit: At col 0, Unit 'nanomaggy' not supported by the FITS standard.  If this is meant to be a custom unit, define it with 'u.def_unit'. To have it recognized inside a file reader or other code, enable it with 'u.add_enabled_units'. For details, see http://docs.astropy.org/en/latest/units/combining_and_defining.html [astropy.units.core]\n",
      "WARNING: UnitsWarning: '1/nanomaggy^2' did not parse as fits unit: Numeric factor not supported by FITS If this is meant to be a custom unit, define it with 'u.def_unit'. To have it recognized inside a file reader or other code, enable it with 'u.add_enabled_units'. For details, see http://docs.astropy.org/en/latest/units/combining_and_defining.html [astropy.units.core]\n"
     ]
    },
    {
     "name": "stdout",
     "output_type": "stream",
     "text": [
      "WARNING:io.py:611:write_targets: qso_selection method not specified for output file\n"
     ]
    },
    {
     "name": "stderr",
     "output_type": "stream",
     "text": [
      "WARNING: MergeConflictWarning: Cannot merge meta key 'DEPNAM00' types <class 'str'> and <class 'str'>, choosing DEPNAM00='desitarget' [astropy.utils.metadata]\n",
      "WARNING: MergeConflictWarning: Cannot merge meta key 'DEPVER00' types <class 'str'> and <class 'str'>, choosing DEPVER00='0.57.1' [astropy.utils.metadata]\n",
      "WARNING: MergeConflictWarning: Cannot merge meta key 'DEPNAM01' types <class 'str'> and <class 'str'>, choosing DEPNAM01='desitarget-git' [astropy.utils.metadata]\n",
      "WARNING: MergeConflictWarning: Cannot merge meta key 'DEPVER01' types <class 'str'> and <class 'str'>, choosing DEPVER01='0.57.1' [astropy.utils.metadata]\n",
      "WARNING: MergeConflictWarning: Cannot merge meta key 'DEPNAM02' types <class 'str'> and <class 'str'>, choosing DEPNAM02='photcat' [astropy.utils.metadata]\n",
      "WARNING: MergeConflictWarning: Cannot merge meta key 'DEPVER02' types <class 'str'> and <class 'str'>, choosing DEPVER02='X' [astropy.utils.metadata]\n",
      "WARNING: MergeConflictWarning: Cannot merge meta key 'DEPNAM03' types <class 'str'> and <class 'str'>, choosing DEPNAM03='tractor-files' [astropy.utils.metadata]\n",
      "WARNING: MergeConflictWarning: Cannot merge meta key 'DEPVER03' types <class 'str'> and <class 'str'>, choosing DEPVER03='/global/cfs/cdirs/desi/survey/ops/surveyops/trunk/mtl/sv3/dark' [astropy.utils.metadata]\n",
      "WARNING: MergeConflictWarning: Cannot merge meta key 'DEPNAM04' types <class 'str'> and <class 'str'>, choosing DEPNAM04='tractor-files-2' [astropy.utils.metadata]\n",
      "WARNING: MergeConflictWarning: Cannot merge meta key 'DEPVER04' types <class 'str'> and <class 'str'>, choosing DEPVER04='/global/cfs/cdirs/desi/target/catalogs/dr9/0.57.0/targets/sv3/resolve/dark' [astropy.utils.metadata]\n",
      "WARNING: MergeConflictWarning: Cannot merge meta key 'DEPNAM05' types <class 'str'> and <class 'str'>, choosing DEPNAM05='qso-selection' [astropy.utils.metadata]\n",
      "WARNING: MergeConflictWarning: Cannot merge meta key 'DEPVER05' types <class 'str'> and <class 'str'>, choosing DEPVER05='unknown' [astropy.utils.metadata]\n",
      "WARNING: MergeConflictWarning: Cannot merge meta key 'DR' types <class 'astropy.io.fits.card.Undefined'> and <class 'astropy.io.fits.card.Undefined'>, choosing DR=<astropy.io.fits.card.Undefined object at 0x2aaad43d6940> [astropy.utils.metadata]\n",
      "WARNING: UnitsWarning: 'nanomaggy' did not parse as fits unit: At col 0, Unit 'nanomaggy' not supported by the FITS standard.  If this is meant to be a custom unit, define it with 'u.def_unit'. To have it recognized inside a file reader or other code, enable it with 'u.add_enabled_units'. For details, see http://docs.astropy.org/en/latest/units/combining_and_defining.html [astropy.units.core]\n",
      "WARNING: UnitsWarning: '1/nanomaggy^2' did not parse as fits unit: Numeric factor not supported by FITS If this is meant to be a custom unit, define it with 'u.def_unit'. To have it recognized inside a file reader or other code, enable it with 'u.add_enabled_units'. For details, see http://docs.astropy.org/en/latest/units/combining_and_defining.html [astropy.units.core]\n"
     ]
    },
    {
     "name": "stdout",
     "output_type": "stream",
     "text": [
      "WARNING:io.py:611:write_targets: qso_selection method not specified for output file\n"
     ]
    },
    {
     "name": "stderr",
     "output_type": "stream",
     "text": [
      "WARNING: MergeConflictWarning: Cannot merge meta key 'DEPNAM00' types <class 'str'> and <class 'str'>, choosing DEPNAM00='desitarget' [astropy.utils.metadata]\n",
      "WARNING: MergeConflictWarning: Cannot merge meta key 'DEPVER00' types <class 'str'> and <class 'str'>, choosing DEPVER00='0.57.1' [astropy.utils.metadata]\n",
      "WARNING: MergeConflictWarning: Cannot merge meta key 'DEPNAM01' types <class 'str'> and <class 'str'>, choosing DEPNAM01='desitarget-git' [astropy.utils.metadata]\n",
      "WARNING: MergeConflictWarning: Cannot merge meta key 'DEPVER01' types <class 'str'> and <class 'str'>, choosing DEPVER01='0.57.1' [astropy.utils.metadata]\n",
      "WARNING: MergeConflictWarning: Cannot merge meta key 'DEPNAM02' types <class 'str'> and <class 'str'>, choosing DEPNAM02='photcat' [astropy.utils.metadata]\n",
      "WARNING: MergeConflictWarning: Cannot merge meta key 'DEPVER02' types <class 'str'> and <class 'str'>, choosing DEPVER02='X' [astropy.utils.metadata]\n",
      "WARNING: MergeConflictWarning: Cannot merge meta key 'DEPNAM03' types <class 'str'> and <class 'str'>, choosing DEPNAM03='tractor-files' [astropy.utils.metadata]\n",
      "WARNING: MergeConflictWarning: Cannot merge meta key 'DEPVER03' types <class 'str'> and <class 'str'>, choosing DEPVER03='/global/cfs/cdirs/desi/survey/ops/surveyops/trunk/mtl/sv3/dark' [astropy.utils.metadata]\n",
      "WARNING: MergeConflictWarning: Cannot merge meta key 'DEPNAM04' types <class 'str'> and <class 'str'>, choosing DEPNAM04='tractor-files-2' [astropy.utils.metadata]\n",
      "WARNING: MergeConflictWarning: Cannot merge meta key 'DEPVER04' types <class 'str'> and <class 'str'>, choosing DEPVER04='/global/cfs/cdirs/desi/target/catalogs/dr9/0.57.0/targets/sv3/resolve/dark' [astropy.utils.metadata]\n",
      "WARNING: MergeConflictWarning: Cannot merge meta key 'DEPNAM05' types <class 'str'> and <class 'str'>, choosing DEPNAM05='qso-selection' [astropy.utils.metadata]\n",
      "WARNING: MergeConflictWarning: Cannot merge meta key 'DEPVER05' types <class 'str'> and <class 'str'>, choosing DEPVER05='unknown' [astropy.utils.metadata]\n",
      "WARNING: MergeConflictWarning: Cannot merge meta key 'DR' types <class 'astropy.io.fits.card.Undefined'> and <class 'astropy.io.fits.card.Undefined'>, choosing DR=<astropy.io.fits.card.Undefined object at 0x2aaad43d6940> [astropy.utils.metadata]\n",
      "WARNING: UnitsWarning: 'nanomaggy' did not parse as fits unit: At col 0, Unit 'nanomaggy' not supported by the FITS standard.  If this is meant to be a custom unit, define it with 'u.def_unit'. To have it recognized inside a file reader or other code, enable it with 'u.add_enabled_units'. For details, see http://docs.astropy.org/en/latest/units/combining_and_defining.html [astropy.units.core]\n",
      "WARNING: UnitsWarning: '1/nanomaggy^2' did not parse as fits unit: Numeric factor not supported by FITS If this is meant to be a custom unit, define it with 'u.def_unit'. To have it recognized inside a file reader or other code, enable it with 'u.add_enabled_units'. For details, see http://docs.astropy.org/en/latest/units/combining_and_defining.html [astropy.units.core]\n"
     ]
    },
    {
     "name": "stdout",
     "output_type": "stream",
     "text": [
      "WARNING:io.py:611:write_targets: qso_selection method not specified for output file\n"
     ]
    },
    {
     "name": "stderr",
     "output_type": "stream",
     "text": [
      "WARNING: MergeConflictWarning: Cannot merge meta key 'DEPNAM00' types <class 'str'> and <class 'str'>, choosing DEPNAM00='desitarget' [astropy.utils.metadata]\n",
      "WARNING: MergeConflictWarning: Cannot merge meta key 'DEPVER00' types <class 'str'> and <class 'str'>, choosing DEPVER00='0.57.1' [astropy.utils.metadata]\n",
      "WARNING: MergeConflictWarning: Cannot merge meta key 'DEPNAM01' types <class 'str'> and <class 'str'>, choosing DEPNAM01='desitarget-git' [astropy.utils.metadata]\n",
      "WARNING: MergeConflictWarning: Cannot merge meta key 'DEPVER01' types <class 'str'> and <class 'str'>, choosing DEPVER01='0.57.1' [astropy.utils.metadata]\n",
      "WARNING: MergeConflictWarning: Cannot merge meta key 'DEPNAM02' types <class 'str'> and <class 'str'>, choosing DEPNAM02='photcat' [astropy.utils.metadata]\n",
      "WARNING: MergeConflictWarning: Cannot merge meta key 'DEPVER02' types <class 'str'> and <class 'str'>, choosing DEPVER02='X' [astropy.utils.metadata]\n",
      "WARNING: MergeConflictWarning: Cannot merge meta key 'DEPNAM03' types <class 'str'> and <class 'str'>, choosing DEPNAM03='tractor-files' [astropy.utils.metadata]\n",
      "WARNING: MergeConflictWarning: Cannot merge meta key 'DEPVER03' types <class 'str'> and <class 'str'>, choosing DEPVER03='/global/cfs/cdirs/desi/survey/ops/surveyops/trunk/mtl/sv3/dark' [astropy.utils.metadata]\n",
      "WARNING: MergeConflictWarning: Cannot merge meta key 'DEPNAM04' types <class 'str'> and <class 'str'>, choosing DEPNAM04='tractor-files-2' [astropy.utils.metadata]\n",
      "WARNING: MergeConflictWarning: Cannot merge meta key 'DEPVER04' types <class 'str'> and <class 'str'>, choosing DEPVER04='/global/cfs/cdirs/desi/target/catalogs/dr9/0.57.0/targets/sv3/resolve/dark' [astropy.utils.metadata]\n",
      "WARNING: MergeConflictWarning: Cannot merge meta key 'DEPNAM05' types <class 'str'> and <class 'str'>, choosing DEPNAM05='qso-selection' [astropy.utils.metadata]\n",
      "WARNING: MergeConflictWarning: Cannot merge meta key 'DEPVER05' types <class 'str'> and <class 'str'>, choosing DEPVER05='unknown' [astropy.utils.metadata]\n",
      "WARNING: MergeConflictWarning: Cannot merge meta key 'DR' types <class 'astropy.io.fits.card.Undefined'> and <class 'astropy.io.fits.card.Undefined'>, choosing DR=<astropy.io.fits.card.Undefined object at 0x2aaad43d6940> [astropy.utils.metadata]\n",
      "WARNING: UnitsWarning: 'nanomaggy' did not parse as fits unit: At col 0, Unit 'nanomaggy' not supported by the FITS standard.  If this is meant to be a custom unit, define it with 'u.def_unit'. To have it recognized inside a file reader or other code, enable it with 'u.add_enabled_units'. For details, see http://docs.astropy.org/en/latest/units/combining_and_defining.html [astropy.units.core]\n",
      "WARNING: UnitsWarning: '1/nanomaggy^2' did not parse as fits unit: Numeric factor not supported by FITS If this is meant to be a custom unit, define it with 'u.def_unit'. To have it recognized inside a file reader or other code, enable it with 'u.add_enabled_units'. For details, see http://docs.astropy.org/en/latest/units/combining_and_defining.html [astropy.units.core]\n"
     ]
    },
    {
     "name": "stdout",
     "output_type": "stream",
     "text": [
      "WARNING:io.py:611:write_targets: qso_selection method not specified for output file\n"
     ]
    },
    {
     "name": "stderr",
     "output_type": "stream",
     "text": [
      "WARNING: MergeConflictWarning: Cannot merge meta key 'DEPNAM00' types <class 'str'> and <class 'str'>, choosing DEPNAM00='desitarget' [astropy.utils.metadata]\n",
      "WARNING: MergeConflictWarning: Cannot merge meta key 'DEPVER00' types <class 'str'> and <class 'str'>, choosing DEPVER00='0.57.1' [astropy.utils.metadata]\n",
      "WARNING: MergeConflictWarning: Cannot merge meta key 'DEPNAM01' types <class 'str'> and <class 'str'>, choosing DEPNAM01='desitarget-git' [astropy.utils.metadata]\n",
      "WARNING: MergeConflictWarning: Cannot merge meta key 'DEPVER01' types <class 'str'> and <class 'str'>, choosing DEPVER01='0.57.1' [astropy.utils.metadata]\n",
      "WARNING: MergeConflictWarning: Cannot merge meta key 'DEPNAM02' types <class 'str'> and <class 'str'>, choosing DEPNAM02='photcat' [astropy.utils.metadata]\n",
      "WARNING: MergeConflictWarning: Cannot merge meta key 'DEPVER02' types <class 'str'> and <class 'str'>, choosing DEPVER02='X' [astropy.utils.metadata]\n",
      "WARNING: MergeConflictWarning: Cannot merge meta key 'DEPNAM03' types <class 'str'> and <class 'str'>, choosing DEPNAM03='tractor-files' [astropy.utils.metadata]\n",
      "WARNING: MergeConflictWarning: Cannot merge meta key 'DEPVER03' types <class 'str'> and <class 'str'>, choosing DEPVER03='/global/cfs/cdirs/desi/survey/ops/surveyops/trunk/mtl/sv3/dark' [astropy.utils.metadata]\n",
      "WARNING: MergeConflictWarning: Cannot merge meta key 'DEPNAM04' types <class 'str'> and <class 'str'>, choosing DEPNAM04='tractor-files-2' [astropy.utils.metadata]\n",
      "WARNING: MergeConflictWarning: Cannot merge meta key 'DEPVER04' types <class 'str'> and <class 'str'>, choosing DEPVER04='/global/cfs/cdirs/desi/target/catalogs/dr9/0.57.0/targets/sv3/resolve/dark' [astropy.utils.metadata]\n",
      "WARNING: MergeConflictWarning: Cannot merge meta key 'DEPNAM05' types <class 'str'> and <class 'str'>, choosing DEPNAM05='qso-selection' [astropy.utils.metadata]\n",
      "WARNING: MergeConflictWarning: Cannot merge meta key 'DEPVER05' types <class 'str'> and <class 'str'>, choosing DEPVER05='unknown' [astropy.utils.metadata]\n",
      "WARNING: MergeConflictWarning: Cannot merge meta key 'DR' types <class 'astropy.io.fits.card.Undefined'> and <class 'astropy.io.fits.card.Undefined'>, choosing DR=<astropy.io.fits.card.Undefined object at 0x2aaad43d6940> [astropy.utils.metadata]\n",
      "WARNING: UnitsWarning: 'nanomaggy' did not parse as fits unit: At col 0, Unit 'nanomaggy' not supported by the FITS standard.  If this is meant to be a custom unit, define it with 'u.def_unit'. To have it recognized inside a file reader or other code, enable it with 'u.add_enabled_units'. For details, see http://docs.astropy.org/en/latest/units/combining_and_defining.html [astropy.units.core]\n",
      "WARNING: UnitsWarning: '1/nanomaggy^2' did not parse as fits unit: Numeric factor not supported by FITS If this is meant to be a custom unit, define it with 'u.def_unit'. To have it recognized inside a file reader or other code, enable it with 'u.add_enabled_units'. For details, see http://docs.astropy.org/en/latest/units/combining_and_defining.html [astropy.units.core]\n"
     ]
    },
    {
     "name": "stdout",
     "output_type": "stream",
     "text": [
      "WARNING:io.py:611:write_targets: qso_selection method not specified for output file\n"
     ]
    },
    {
     "name": "stderr",
     "output_type": "stream",
     "text": [
      "WARNING: MergeConflictWarning: Cannot merge meta key 'DEPNAM00' types <class 'str'> and <class 'str'>, choosing DEPNAM00='desitarget' [astropy.utils.metadata]\n",
      "WARNING: MergeConflictWarning: Cannot merge meta key 'DEPVER00' types <class 'str'> and <class 'str'>, choosing DEPVER00='0.57.1' [astropy.utils.metadata]\n",
      "WARNING: MergeConflictWarning: Cannot merge meta key 'DEPNAM01' types <class 'str'> and <class 'str'>, choosing DEPNAM01='desitarget-git' [astropy.utils.metadata]\n",
      "WARNING: MergeConflictWarning: Cannot merge meta key 'DEPVER01' types <class 'str'> and <class 'str'>, choosing DEPVER01='0.57.1' [astropy.utils.metadata]\n",
      "WARNING: MergeConflictWarning: Cannot merge meta key 'DEPNAM02' types <class 'str'> and <class 'str'>, choosing DEPNAM02='photcat' [astropy.utils.metadata]\n",
      "WARNING: MergeConflictWarning: Cannot merge meta key 'DEPVER02' types <class 'str'> and <class 'str'>, choosing DEPVER02='X' [astropy.utils.metadata]\n",
      "WARNING: MergeConflictWarning: Cannot merge meta key 'DEPNAM03' types <class 'str'> and <class 'str'>, choosing DEPNAM03='tractor-files' [astropy.utils.metadata]\n",
      "WARNING: MergeConflictWarning: Cannot merge meta key 'DEPVER03' types <class 'str'> and <class 'str'>, choosing DEPVER03='/global/cfs/cdirs/desi/survey/ops/surveyops/trunk/mtl/sv3/dark' [astropy.utils.metadata]\n",
      "WARNING: MergeConflictWarning: Cannot merge meta key 'DEPNAM04' types <class 'str'> and <class 'str'>, choosing DEPNAM04='tractor-files-2' [astropy.utils.metadata]\n",
      "WARNING: MergeConflictWarning: Cannot merge meta key 'DEPVER04' types <class 'str'> and <class 'str'>, choosing DEPVER04='/global/cfs/cdirs/desi/target/catalogs/dr9/0.57.0/targets/sv3/resolve/dark' [astropy.utils.metadata]\n",
      "WARNING: MergeConflictWarning: Cannot merge meta key 'DEPNAM05' types <class 'str'> and <class 'str'>, choosing DEPNAM05='qso-selection' [astropy.utils.metadata]\n",
      "WARNING: MergeConflictWarning: Cannot merge meta key 'DEPVER05' types <class 'str'> and <class 'str'>, choosing DEPVER05='unknown' [astropy.utils.metadata]\n",
      "WARNING: MergeConflictWarning: Cannot merge meta key 'DR' types <class 'astropy.io.fits.card.Undefined'> and <class 'astropy.io.fits.card.Undefined'>, choosing DR=<astropy.io.fits.card.Undefined object at 0x2aaad43d6940> [astropy.utils.metadata]\n",
      "WARNING: UnitsWarning: 'nanomaggy' did not parse as fits unit: At col 0, Unit 'nanomaggy' not supported by the FITS standard.  If this is meant to be a custom unit, define it with 'u.def_unit'. To have it recognized inside a file reader or other code, enable it with 'u.add_enabled_units'. For details, see http://docs.astropy.org/en/latest/units/combining_and_defining.html [astropy.units.core]\n",
      "WARNING: UnitsWarning: '1/nanomaggy^2' did not parse as fits unit: Numeric factor not supported by FITS If this is meant to be a custom unit, define it with 'u.def_unit'. To have it recognized inside a file reader or other code, enable it with 'u.add_enabled_units'. For details, see http://docs.astropy.org/en/latest/units/combining_and_defining.html [astropy.units.core]\n"
     ]
    },
    {
     "name": "stdout",
     "output_type": "stream",
     "text": [
      "WARNING:io.py:611:write_targets: qso_selection method not specified for output file\n"
     ]
    },
    {
     "name": "stderr",
     "output_type": "stream",
     "text": [
      "WARNING: MergeConflictWarning: Cannot merge meta key 'DEPNAM00' types <class 'str'> and <class 'str'>, choosing DEPNAM00='desitarget' [astropy.utils.metadata]\n",
      "WARNING: MergeConflictWarning: Cannot merge meta key 'DEPVER00' types <class 'str'> and <class 'str'>, choosing DEPVER00='0.57.1' [astropy.utils.metadata]\n",
      "WARNING: MergeConflictWarning: Cannot merge meta key 'DEPNAM01' types <class 'str'> and <class 'str'>, choosing DEPNAM01='desitarget-git' [astropy.utils.metadata]\n",
      "WARNING: MergeConflictWarning: Cannot merge meta key 'DEPVER01' types <class 'str'> and <class 'str'>, choosing DEPVER01='0.57.1' [astropy.utils.metadata]\n",
      "WARNING: MergeConflictWarning: Cannot merge meta key 'DEPNAM02' types <class 'str'> and <class 'str'>, choosing DEPNAM02='photcat' [astropy.utils.metadata]\n",
      "WARNING: MergeConflictWarning: Cannot merge meta key 'DEPVER02' types <class 'str'> and <class 'str'>, choosing DEPVER02='X' [astropy.utils.metadata]\n",
      "WARNING: MergeConflictWarning: Cannot merge meta key 'DEPNAM03' types <class 'str'> and <class 'str'>, choosing DEPNAM03='tractor-files' [astropy.utils.metadata]\n",
      "WARNING: MergeConflictWarning: Cannot merge meta key 'DEPVER03' types <class 'str'> and <class 'str'>, choosing DEPVER03='/global/cfs/cdirs/desi/survey/ops/surveyops/trunk/mtl/sv3/dark' [astropy.utils.metadata]\n",
      "WARNING: MergeConflictWarning: Cannot merge meta key 'DEPNAM04' types <class 'str'> and <class 'str'>, choosing DEPNAM04='tractor-files-2' [astropy.utils.metadata]\n",
      "WARNING: MergeConflictWarning: Cannot merge meta key 'DEPVER04' types <class 'str'> and <class 'str'>, choosing DEPVER04='/global/cfs/cdirs/desi/target/catalogs/dr9/0.57.0/targets/sv3/resolve/dark' [astropy.utils.metadata]\n",
      "WARNING: MergeConflictWarning: Cannot merge meta key 'DEPNAM05' types <class 'str'> and <class 'str'>, choosing DEPNAM05='qso-selection' [astropy.utils.metadata]\n",
      "WARNING: MergeConflictWarning: Cannot merge meta key 'DEPVER05' types <class 'str'> and <class 'str'>, choosing DEPVER05='unknown' [astropy.utils.metadata]\n",
      "WARNING: MergeConflictWarning: Cannot merge meta key 'DR' types <class 'astropy.io.fits.card.Undefined'> and <class 'astropy.io.fits.card.Undefined'>, choosing DR=<astropy.io.fits.card.Undefined object at 0x2aaad43d6940> [astropy.utils.metadata]\n",
      "WARNING: UnitsWarning: 'nanomaggy' did not parse as fits unit: At col 0, Unit 'nanomaggy' not supported by the FITS standard.  If this is meant to be a custom unit, define it with 'u.def_unit'. To have it recognized inside a file reader or other code, enable it with 'u.add_enabled_units'. For details, see http://docs.astropy.org/en/latest/units/combining_and_defining.html [astropy.units.core]\n",
      "WARNING: UnitsWarning: '1/nanomaggy^2' did not parse as fits unit: Numeric factor not supported by FITS If this is meant to be a custom unit, define it with 'u.def_unit'. To have it recognized inside a file reader or other code, enable it with 'u.add_enabled_units'. For details, see http://docs.astropy.org/en/latest/units/combining_and_defining.html [astropy.units.core]\n"
     ]
    },
    {
     "name": "stdout",
     "output_type": "stream",
     "text": [
      "WARNING:io.py:611:write_targets: qso_selection method not specified for output file\n"
     ]
    },
    {
     "name": "stderr",
     "output_type": "stream",
     "text": [
      "WARNING: MergeConflictWarning: Cannot merge meta key 'DEPNAM00' types <class 'str'> and <class 'str'>, choosing DEPNAM00='desitarget' [astropy.utils.metadata]\n",
      "WARNING: MergeConflictWarning: Cannot merge meta key 'DEPVER00' types <class 'str'> and <class 'str'>, choosing DEPVER00='0.57.1' [astropy.utils.metadata]\n",
      "WARNING: MergeConflictWarning: Cannot merge meta key 'DEPNAM01' types <class 'str'> and <class 'str'>, choosing DEPNAM01='desitarget-git' [astropy.utils.metadata]\n",
      "WARNING: MergeConflictWarning: Cannot merge meta key 'DEPVER01' types <class 'str'> and <class 'str'>, choosing DEPVER01='0.57.1' [astropy.utils.metadata]\n",
      "WARNING: MergeConflictWarning: Cannot merge meta key 'DEPNAM02' types <class 'str'> and <class 'str'>, choosing DEPNAM02='photcat' [astropy.utils.metadata]\n",
      "WARNING: MergeConflictWarning: Cannot merge meta key 'DEPVER02' types <class 'str'> and <class 'str'>, choosing DEPVER02='X' [astropy.utils.metadata]\n",
      "WARNING: MergeConflictWarning: Cannot merge meta key 'DEPNAM03' types <class 'str'> and <class 'str'>, choosing DEPNAM03='tractor-files' [astropy.utils.metadata]\n",
      "WARNING: MergeConflictWarning: Cannot merge meta key 'DEPVER03' types <class 'str'> and <class 'str'>, choosing DEPVER03='/global/cfs/cdirs/desi/survey/ops/surveyops/trunk/mtl/sv3/dark' [astropy.utils.metadata]\n",
      "WARNING: MergeConflictWarning: Cannot merge meta key 'DEPNAM04' types <class 'str'> and <class 'str'>, choosing DEPNAM04='tractor-files-2' [astropy.utils.metadata]\n",
      "WARNING: MergeConflictWarning: Cannot merge meta key 'DEPVER04' types <class 'str'> and <class 'str'>, choosing DEPVER04='/global/cfs/cdirs/desi/target/catalogs/dr9/0.57.0/targets/sv3/resolve/dark' [astropy.utils.metadata]\n",
      "WARNING: MergeConflictWarning: Cannot merge meta key 'DEPNAM05' types <class 'str'> and <class 'str'>, choosing DEPNAM05='qso-selection' [astropy.utils.metadata]\n",
      "WARNING: MergeConflictWarning: Cannot merge meta key 'DEPVER05' types <class 'str'> and <class 'str'>, choosing DEPVER05='unknown' [astropy.utils.metadata]\n",
      "WARNING: MergeConflictWarning: Cannot merge meta key 'DR' types <class 'astropy.io.fits.card.Undefined'> and <class 'astropy.io.fits.card.Undefined'>, choosing DR=<astropy.io.fits.card.Undefined object at 0x2aaad43d6940> [astropy.utils.metadata]\n",
      "WARNING: UnitsWarning: 'nanomaggy' did not parse as fits unit: At col 0, Unit 'nanomaggy' not supported by the FITS standard.  If this is meant to be a custom unit, define it with 'u.def_unit'. To have it recognized inside a file reader or other code, enable it with 'u.add_enabled_units'. For details, see http://docs.astropy.org/en/latest/units/combining_and_defining.html [astropy.units.core]\n",
      "WARNING: UnitsWarning: '1/nanomaggy^2' did not parse as fits unit: Numeric factor not supported by FITS If this is meant to be a custom unit, define it with 'u.def_unit'. To have it recognized inside a file reader or other code, enable it with 'u.add_enabled_units'. For details, see http://docs.astropy.org/en/latest/units/combining_and_defining.html [astropy.units.core]\n"
     ]
    },
    {
     "name": "stdout",
     "output_type": "stream",
     "text": [
      "WARNING:io.py:611:write_targets: qso_selection method not specified for output file\n"
     ]
    },
    {
     "name": "stderr",
     "output_type": "stream",
     "text": [
      "WARNING: MergeConflictWarning: Cannot merge meta key 'DEPNAM00' types <class 'str'> and <class 'str'>, choosing DEPNAM00='desitarget' [astropy.utils.metadata]\n",
      "WARNING: MergeConflictWarning: Cannot merge meta key 'DEPVER00' types <class 'str'> and <class 'str'>, choosing DEPVER00='0.57.1' [astropy.utils.metadata]\n",
      "WARNING: MergeConflictWarning: Cannot merge meta key 'DEPNAM01' types <class 'str'> and <class 'str'>, choosing DEPNAM01='desitarget-git' [astropy.utils.metadata]\n",
      "WARNING: MergeConflictWarning: Cannot merge meta key 'DEPVER01' types <class 'str'> and <class 'str'>, choosing DEPVER01='0.57.1' [astropy.utils.metadata]\n",
      "WARNING: MergeConflictWarning: Cannot merge meta key 'DEPNAM02' types <class 'str'> and <class 'str'>, choosing DEPNAM02='photcat' [astropy.utils.metadata]\n",
      "WARNING: MergeConflictWarning: Cannot merge meta key 'DEPVER02' types <class 'str'> and <class 'str'>, choosing DEPVER02='X' [astropy.utils.metadata]\n",
      "WARNING: MergeConflictWarning: Cannot merge meta key 'DEPNAM03' types <class 'str'> and <class 'str'>, choosing DEPNAM03='tractor-files' [astropy.utils.metadata]\n",
      "WARNING: MergeConflictWarning: Cannot merge meta key 'DEPVER03' types <class 'str'> and <class 'str'>, choosing DEPVER03='/global/cfs/cdirs/desi/survey/ops/surveyops/trunk/mtl/sv3/dark' [astropy.utils.metadata]\n",
      "WARNING: MergeConflictWarning: Cannot merge meta key 'DEPNAM04' types <class 'str'> and <class 'str'>, choosing DEPNAM04='tractor-files-2' [astropy.utils.metadata]\n",
      "WARNING: MergeConflictWarning: Cannot merge meta key 'DEPVER04' types <class 'str'> and <class 'str'>, choosing DEPVER04='/global/cfs/cdirs/desi/target/catalogs/dr9/0.57.0/targets/sv3/resolve/dark' [astropy.utils.metadata]\n",
      "WARNING: MergeConflictWarning: Cannot merge meta key 'DEPNAM05' types <class 'str'> and <class 'str'>, choosing DEPNAM05='qso-selection' [astropy.utils.metadata]\n",
      "WARNING: MergeConflictWarning: Cannot merge meta key 'DEPVER05' types <class 'str'> and <class 'str'>, choosing DEPVER05='unknown' [astropy.utils.metadata]\n",
      "WARNING: MergeConflictWarning: Cannot merge meta key 'DR' types <class 'astropy.io.fits.card.Undefined'> and <class 'astropy.io.fits.card.Undefined'>, choosing DR=<astropy.io.fits.card.Undefined object at 0x2aaad43d6940> [astropy.utils.metadata]\n",
      "WARNING: UnitsWarning: 'nanomaggy' did not parse as fits unit: At col 0, Unit 'nanomaggy' not supported by the FITS standard.  If this is meant to be a custom unit, define it with 'u.def_unit'. To have it recognized inside a file reader or other code, enable it with 'u.add_enabled_units'. For details, see http://docs.astropy.org/en/latest/units/combining_and_defining.html [astropy.units.core]\n",
      "WARNING: UnitsWarning: '1/nanomaggy^2' did not parse as fits unit: Numeric factor not supported by FITS If this is meant to be a custom unit, define it with 'u.def_unit'. To have it recognized inside a file reader or other code, enable it with 'u.add_enabled_units'. For details, see http://docs.astropy.org/en/latest/units/combining_and_defining.html [astropy.units.core]\n"
     ]
    },
    {
     "name": "stdout",
     "output_type": "stream",
     "text": [
      "WARNING:io.py:611:write_targets: qso_selection method not specified for output file\n"
     ]
    },
    {
     "name": "stderr",
     "output_type": "stream",
     "text": [
      "WARNING: MergeConflictWarning: Cannot merge meta key 'DEPNAM00' types <class 'str'> and <class 'str'>, choosing DEPNAM00='desitarget' [astropy.utils.metadata]\n",
      "WARNING: MergeConflictWarning: Cannot merge meta key 'DEPVER00' types <class 'str'> and <class 'str'>, choosing DEPVER00='0.57.1' [astropy.utils.metadata]\n",
      "WARNING: MergeConflictWarning: Cannot merge meta key 'DEPNAM01' types <class 'str'> and <class 'str'>, choosing DEPNAM01='desitarget-git' [astropy.utils.metadata]\n",
      "WARNING: MergeConflictWarning: Cannot merge meta key 'DEPVER01' types <class 'str'> and <class 'str'>, choosing DEPVER01='0.57.1' [astropy.utils.metadata]\n",
      "WARNING: MergeConflictWarning: Cannot merge meta key 'DEPNAM02' types <class 'str'> and <class 'str'>, choosing DEPNAM02='photcat' [astropy.utils.metadata]\n",
      "WARNING: MergeConflictWarning: Cannot merge meta key 'DEPVER02' types <class 'str'> and <class 'str'>, choosing DEPVER02='X' [astropy.utils.metadata]\n",
      "WARNING: MergeConflictWarning: Cannot merge meta key 'DEPNAM03' types <class 'str'> and <class 'str'>, choosing DEPNAM03='tractor-files' [astropy.utils.metadata]\n",
      "WARNING: MergeConflictWarning: Cannot merge meta key 'DEPVER03' types <class 'str'> and <class 'str'>, choosing DEPVER03='/global/cfs/cdirs/desi/survey/ops/surveyops/trunk/mtl/sv3/dark' [astropy.utils.metadata]\n",
      "WARNING: MergeConflictWarning: Cannot merge meta key 'DEPNAM04' types <class 'str'> and <class 'str'>, choosing DEPNAM04='tractor-files-2' [astropy.utils.metadata]\n",
      "WARNING: MergeConflictWarning: Cannot merge meta key 'DEPVER04' types <class 'str'> and <class 'str'>, choosing DEPVER04='/global/cfs/cdirs/desi/target/catalogs/dr9/0.57.0/targets/sv3/resolve/dark' [astropy.utils.metadata]\n",
      "WARNING: MergeConflictWarning: Cannot merge meta key 'DEPNAM05' types <class 'str'> and <class 'str'>, choosing DEPNAM05='qso-selection' [astropy.utils.metadata]\n",
      "WARNING: MergeConflictWarning: Cannot merge meta key 'DEPVER05' types <class 'str'> and <class 'str'>, choosing DEPVER05='unknown' [astropy.utils.metadata]\n",
      "WARNING: MergeConflictWarning: Cannot merge meta key 'DR' types <class 'astropy.io.fits.card.Undefined'> and <class 'astropy.io.fits.card.Undefined'>, choosing DR=<astropy.io.fits.card.Undefined object at 0x2aaad43d6940> [astropy.utils.metadata]\n",
      "WARNING: UnitsWarning: 'nanomaggy' did not parse as fits unit: At col 0, Unit 'nanomaggy' not supported by the FITS standard.  If this is meant to be a custom unit, define it with 'u.def_unit'. To have it recognized inside a file reader or other code, enable it with 'u.add_enabled_units'. For details, see http://docs.astropy.org/en/latest/units/combining_and_defining.html [astropy.units.core]\n",
      "WARNING: UnitsWarning: '1/nanomaggy^2' did not parse as fits unit: Numeric factor not supported by FITS If this is meant to be a custom unit, define it with 'u.def_unit'. To have it recognized inside a file reader or other code, enable it with 'u.add_enabled_units'. For details, see http://docs.astropy.org/en/latest/units/combining_and_defining.html [astropy.units.core]\n"
     ]
    },
    {
     "name": "stdout",
     "output_type": "stream",
     "text": [
      "WARNING:io.py:611:write_targets: qso_selection method not specified for output file\n"
     ]
    },
    {
     "name": "stderr",
     "output_type": "stream",
     "text": [
      "WARNING: MergeConflictWarning: Cannot merge meta key 'DEPNAM00' types <class 'str'> and <class 'str'>, choosing DEPNAM00='desitarget' [astropy.utils.metadata]\n",
      "WARNING: MergeConflictWarning: Cannot merge meta key 'DEPVER00' types <class 'str'> and <class 'str'>, choosing DEPVER00='0.57.1' [astropy.utils.metadata]\n",
      "WARNING: MergeConflictWarning: Cannot merge meta key 'DEPNAM01' types <class 'str'> and <class 'str'>, choosing DEPNAM01='desitarget-git' [astropy.utils.metadata]\n",
      "WARNING: MergeConflictWarning: Cannot merge meta key 'DEPVER01' types <class 'str'> and <class 'str'>, choosing DEPVER01='0.57.1' [astropy.utils.metadata]\n",
      "WARNING: MergeConflictWarning: Cannot merge meta key 'DEPNAM02' types <class 'str'> and <class 'str'>, choosing DEPNAM02='photcat' [astropy.utils.metadata]\n",
      "WARNING: MergeConflictWarning: Cannot merge meta key 'DEPVER02' types <class 'str'> and <class 'str'>, choosing DEPVER02='X' [astropy.utils.metadata]\n",
      "WARNING: MergeConflictWarning: Cannot merge meta key 'DEPNAM03' types <class 'str'> and <class 'str'>, choosing DEPNAM03='tractor-files' [astropy.utils.metadata]\n",
      "WARNING: MergeConflictWarning: Cannot merge meta key 'DEPVER03' types <class 'str'> and <class 'str'>, choosing DEPVER03='/global/cfs/cdirs/desi/survey/ops/surveyops/trunk/mtl/sv3/dark' [astropy.utils.metadata]\n",
      "WARNING: MergeConflictWarning: Cannot merge meta key 'DEPNAM04' types <class 'str'> and <class 'str'>, choosing DEPNAM04='tractor-files-2' [astropy.utils.metadata]\n",
      "WARNING: MergeConflictWarning: Cannot merge meta key 'DEPVER04' types <class 'str'> and <class 'str'>, choosing DEPVER04='/global/cfs/cdirs/desi/target/catalogs/dr9/0.57.0/targets/sv3/resolve/dark' [astropy.utils.metadata]\n",
      "WARNING: MergeConflictWarning: Cannot merge meta key 'DEPNAM05' types <class 'str'> and <class 'str'>, choosing DEPNAM05='qso-selection' [astropy.utils.metadata]\n",
      "WARNING: MergeConflictWarning: Cannot merge meta key 'DEPVER05' types <class 'str'> and <class 'str'>, choosing DEPVER05='unknown' [astropy.utils.metadata]\n",
      "WARNING: MergeConflictWarning: Cannot merge meta key 'DR' types <class 'astropy.io.fits.card.Undefined'> and <class 'astropy.io.fits.card.Undefined'>, choosing DR=<astropy.io.fits.card.Undefined object at 0x2aaad43d6940> [astropy.utils.metadata]\n",
      "WARNING: UnitsWarning: 'nanomaggy' did not parse as fits unit: At col 0, Unit 'nanomaggy' not supported by the FITS standard.  If this is meant to be a custom unit, define it with 'u.def_unit'. To have it recognized inside a file reader or other code, enable it with 'u.add_enabled_units'. For details, see http://docs.astropy.org/en/latest/units/combining_and_defining.html [astropy.units.core]\n",
      "WARNING: UnitsWarning: '1/nanomaggy^2' did not parse as fits unit: Numeric factor not supported by FITS If this is meant to be a custom unit, define it with 'u.def_unit'. To have it recognized inside a file reader or other code, enable it with 'u.add_enabled_units'. For details, see http://docs.astropy.org/en/latest/units/combining_and_defining.html [astropy.units.core]\n"
     ]
    },
    {
     "name": "stdout",
     "output_type": "stream",
     "text": [
      "WARNING:io.py:611:write_targets: qso_selection method not specified for output file\n"
     ]
    },
    {
     "name": "stderr",
     "output_type": "stream",
     "text": [
      "WARNING: MergeConflictWarning: Cannot merge meta key 'DEPNAM00' types <class 'str'> and <class 'str'>, choosing DEPNAM00='desitarget' [astropy.utils.metadata]\n",
      "WARNING: MergeConflictWarning: Cannot merge meta key 'DEPVER00' types <class 'str'> and <class 'str'>, choosing DEPVER00='0.57.1' [astropy.utils.metadata]\n",
      "WARNING: MergeConflictWarning: Cannot merge meta key 'DEPNAM01' types <class 'str'> and <class 'str'>, choosing DEPNAM01='desitarget-git' [astropy.utils.metadata]\n",
      "WARNING: MergeConflictWarning: Cannot merge meta key 'DEPVER01' types <class 'str'> and <class 'str'>, choosing DEPVER01='0.57.1' [astropy.utils.metadata]\n",
      "WARNING: MergeConflictWarning: Cannot merge meta key 'DEPNAM02' types <class 'str'> and <class 'str'>, choosing DEPNAM02='photcat' [astropy.utils.metadata]\n",
      "WARNING: MergeConflictWarning: Cannot merge meta key 'DEPVER02' types <class 'str'> and <class 'str'>, choosing DEPVER02='X' [astropy.utils.metadata]\n",
      "WARNING: MergeConflictWarning: Cannot merge meta key 'DEPNAM03' types <class 'str'> and <class 'str'>, choosing DEPNAM03='tractor-files' [astropy.utils.metadata]\n",
      "WARNING: MergeConflictWarning: Cannot merge meta key 'DEPVER03' types <class 'str'> and <class 'str'>, choosing DEPVER03='/global/cfs/cdirs/desi/survey/ops/surveyops/trunk/mtl/sv3/dark' [astropy.utils.metadata]\n",
      "WARNING: MergeConflictWarning: Cannot merge meta key 'DEPNAM04' types <class 'str'> and <class 'str'>, choosing DEPNAM04='tractor-files-2' [astropy.utils.metadata]\n",
      "WARNING: MergeConflictWarning: Cannot merge meta key 'DEPVER04' types <class 'str'> and <class 'str'>, choosing DEPVER04='/global/cfs/cdirs/desi/target/catalogs/dr9/0.57.0/targets/sv3/resolve/dark' [astropy.utils.metadata]\n",
      "WARNING: MergeConflictWarning: Cannot merge meta key 'DEPNAM05' types <class 'str'> and <class 'str'>, choosing DEPNAM05='qso-selection' [astropy.utils.metadata]\n",
      "WARNING: MergeConflictWarning: Cannot merge meta key 'DEPVER05' types <class 'str'> and <class 'str'>, choosing DEPVER05='unknown' [astropy.utils.metadata]\n",
      "WARNING: MergeConflictWarning: Cannot merge meta key 'DR' types <class 'astropy.io.fits.card.Undefined'> and <class 'astropy.io.fits.card.Undefined'>, choosing DR=<astropy.io.fits.card.Undefined object at 0x2aaad43d6940> [astropy.utils.metadata]\n",
      "WARNING: UnitsWarning: 'nanomaggy' did not parse as fits unit: At col 0, Unit 'nanomaggy' not supported by the FITS standard.  If this is meant to be a custom unit, define it with 'u.def_unit'. To have it recognized inside a file reader or other code, enable it with 'u.add_enabled_units'. For details, see http://docs.astropy.org/en/latest/units/combining_and_defining.html [astropy.units.core]\n",
      "WARNING: UnitsWarning: '1/nanomaggy^2' did not parse as fits unit: Numeric factor not supported by FITS If this is meant to be a custom unit, define it with 'u.def_unit'. To have it recognized inside a file reader or other code, enable it with 'u.add_enabled_units'. For details, see http://docs.astropy.org/en/latest/units/combining_and_defining.html [astropy.units.core]\n"
     ]
    },
    {
     "name": "stdout",
     "output_type": "stream",
     "text": [
      "WARNING:io.py:611:write_targets: qso_selection method not specified for output file\n"
     ]
    },
    {
     "name": "stderr",
     "output_type": "stream",
     "text": [
      "WARNING: MergeConflictWarning: Cannot merge meta key 'DEPNAM00' types <class 'str'> and <class 'str'>, choosing DEPNAM00='desitarget' [astropy.utils.metadata]\n",
      "WARNING: MergeConflictWarning: Cannot merge meta key 'DEPVER00' types <class 'str'> and <class 'str'>, choosing DEPVER00='0.57.1' [astropy.utils.metadata]\n",
      "WARNING: MergeConflictWarning: Cannot merge meta key 'DEPNAM01' types <class 'str'> and <class 'str'>, choosing DEPNAM01='desitarget-git' [astropy.utils.metadata]\n",
      "WARNING: MergeConflictWarning: Cannot merge meta key 'DEPVER01' types <class 'str'> and <class 'str'>, choosing DEPVER01='0.57.1' [astropy.utils.metadata]\n",
      "WARNING: MergeConflictWarning: Cannot merge meta key 'DEPNAM02' types <class 'str'> and <class 'str'>, choosing DEPNAM02='photcat' [astropy.utils.metadata]\n",
      "WARNING: MergeConflictWarning: Cannot merge meta key 'DEPVER02' types <class 'str'> and <class 'str'>, choosing DEPVER02='X' [astropy.utils.metadata]\n",
      "WARNING: MergeConflictWarning: Cannot merge meta key 'DEPNAM03' types <class 'str'> and <class 'str'>, choosing DEPNAM03='tractor-files' [astropy.utils.metadata]\n",
      "WARNING: MergeConflictWarning: Cannot merge meta key 'DEPVER03' types <class 'str'> and <class 'str'>, choosing DEPVER03='/global/cfs/cdirs/desi/survey/ops/surveyops/trunk/mtl/sv3/dark' [astropy.utils.metadata]\n",
      "WARNING: MergeConflictWarning: Cannot merge meta key 'DEPNAM04' types <class 'str'> and <class 'str'>, choosing DEPNAM04='tractor-files-2' [astropy.utils.metadata]\n",
      "WARNING: MergeConflictWarning: Cannot merge meta key 'DEPVER04' types <class 'str'> and <class 'str'>, choosing DEPVER04='/global/cfs/cdirs/desi/target/catalogs/dr9/0.57.0/targets/sv3/resolve/dark' [astropy.utils.metadata]\n",
      "WARNING: MergeConflictWarning: Cannot merge meta key 'DEPNAM05' types <class 'str'> and <class 'str'>, choosing DEPNAM05='qso-selection' [astropy.utils.metadata]\n",
      "WARNING: MergeConflictWarning: Cannot merge meta key 'DEPVER05' types <class 'str'> and <class 'str'>, choosing DEPVER05='unknown' [astropy.utils.metadata]\n",
      "WARNING: MergeConflictWarning: Cannot merge meta key 'DR' types <class 'astropy.io.fits.card.Undefined'> and <class 'astropy.io.fits.card.Undefined'>, choosing DR=<astropy.io.fits.card.Undefined object at 0x2aaad43d6940> [astropy.utils.metadata]\n",
      "WARNING: UnitsWarning: 'nanomaggy' did not parse as fits unit: At col 0, Unit 'nanomaggy' not supported by the FITS standard.  If this is meant to be a custom unit, define it with 'u.def_unit'. To have it recognized inside a file reader or other code, enable it with 'u.add_enabled_units'. For details, see http://docs.astropy.org/en/latest/units/combining_and_defining.html [astropy.units.core]\n",
      "WARNING: UnitsWarning: '1/nanomaggy^2' did not parse as fits unit: Numeric factor not supported by FITS If this is meant to be a custom unit, define it with 'u.def_unit'. To have it recognized inside a file reader or other code, enable it with 'u.add_enabled_units'. For details, see http://docs.astropy.org/en/latest/units/combining_and_defining.html [astropy.units.core]\n"
     ]
    },
    {
     "name": "stdout",
     "output_type": "stream",
     "text": [
      "WARNING:io.py:611:write_targets: qso_selection method not specified for output file\n"
     ]
    },
    {
     "name": "stderr",
     "output_type": "stream",
     "text": [
      "WARNING: MergeConflictWarning: Cannot merge meta key 'DEPNAM00' types <class 'str'> and <class 'str'>, choosing DEPNAM00='desitarget' [astropy.utils.metadata]\n",
      "WARNING: MergeConflictWarning: Cannot merge meta key 'DEPVER00' types <class 'str'> and <class 'str'>, choosing DEPVER00='0.57.1' [astropy.utils.metadata]\n",
      "WARNING: MergeConflictWarning: Cannot merge meta key 'DEPNAM01' types <class 'str'> and <class 'str'>, choosing DEPNAM01='desitarget-git' [astropy.utils.metadata]\n",
      "WARNING: MergeConflictWarning: Cannot merge meta key 'DEPVER01' types <class 'str'> and <class 'str'>, choosing DEPVER01='0.57.1' [astropy.utils.metadata]\n",
      "WARNING: MergeConflictWarning: Cannot merge meta key 'DEPNAM02' types <class 'str'> and <class 'str'>, choosing DEPNAM02='photcat' [astropy.utils.metadata]\n",
      "WARNING: MergeConflictWarning: Cannot merge meta key 'DEPVER02' types <class 'str'> and <class 'str'>, choosing DEPVER02='X' [astropy.utils.metadata]\n",
      "WARNING: MergeConflictWarning: Cannot merge meta key 'DEPNAM03' types <class 'str'> and <class 'str'>, choosing DEPNAM03='tractor-files' [astropy.utils.metadata]\n",
      "WARNING: MergeConflictWarning: Cannot merge meta key 'DEPVER03' types <class 'str'> and <class 'str'>, choosing DEPVER03='/global/cfs/cdirs/desi/survey/ops/surveyops/trunk/mtl/sv3/dark' [astropy.utils.metadata]\n",
      "WARNING: MergeConflictWarning: Cannot merge meta key 'DEPNAM04' types <class 'str'> and <class 'str'>, choosing DEPNAM04='tractor-files-2' [astropy.utils.metadata]\n",
      "WARNING: MergeConflictWarning: Cannot merge meta key 'DEPVER04' types <class 'str'> and <class 'str'>, choosing DEPVER04='/global/cfs/cdirs/desi/target/catalogs/dr9/0.57.0/targets/sv3/resolve/dark' [astropy.utils.metadata]\n",
      "WARNING: MergeConflictWarning: Cannot merge meta key 'DEPNAM05' types <class 'str'> and <class 'str'>, choosing DEPNAM05='qso-selection' [astropy.utils.metadata]\n",
      "WARNING: MergeConflictWarning: Cannot merge meta key 'DEPVER05' types <class 'str'> and <class 'str'>, choosing DEPVER05='unknown' [astropy.utils.metadata]\n",
      "WARNING: MergeConflictWarning: Cannot merge meta key 'DR' types <class 'astropy.io.fits.card.Undefined'> and <class 'astropy.io.fits.card.Undefined'>, choosing DR=<astropy.io.fits.card.Undefined object at 0x2aaad43d6940> [astropy.utils.metadata]\n",
      "WARNING: UnitsWarning: 'nanomaggy' did not parse as fits unit: At col 0, Unit 'nanomaggy' not supported by the FITS standard.  If this is meant to be a custom unit, define it with 'u.def_unit'. To have it recognized inside a file reader or other code, enable it with 'u.add_enabled_units'. For details, see http://docs.astropy.org/en/latest/units/combining_and_defining.html [astropy.units.core]\n",
      "WARNING: UnitsWarning: '1/nanomaggy^2' did not parse as fits unit: Numeric factor not supported by FITS If this is meant to be a custom unit, define it with 'u.def_unit'. To have it recognized inside a file reader or other code, enable it with 'u.add_enabled_units'. For details, see http://docs.astropy.org/en/latest/units/combining_and_defining.html [astropy.units.core]\n"
     ]
    },
    {
     "name": "stdout",
     "output_type": "stream",
     "text": [
      "WARNING:io.py:611:write_targets: qso_selection method not specified for output file\n"
     ]
    },
    {
     "name": "stderr",
     "output_type": "stream",
     "text": [
      "WARNING: MergeConflictWarning: Cannot merge meta key 'DEPNAM00' types <class 'str'> and <class 'str'>, choosing DEPNAM00='desitarget' [astropy.utils.metadata]\n",
      "WARNING: MergeConflictWarning: Cannot merge meta key 'DEPVER00' types <class 'str'> and <class 'str'>, choosing DEPVER00='0.57.1' [astropy.utils.metadata]\n",
      "WARNING: MergeConflictWarning: Cannot merge meta key 'DEPNAM01' types <class 'str'> and <class 'str'>, choosing DEPNAM01='desitarget-git' [astropy.utils.metadata]\n",
      "WARNING: MergeConflictWarning: Cannot merge meta key 'DEPVER01' types <class 'str'> and <class 'str'>, choosing DEPVER01='0.57.1' [astropy.utils.metadata]\n",
      "WARNING: MergeConflictWarning: Cannot merge meta key 'DEPNAM02' types <class 'str'> and <class 'str'>, choosing DEPNAM02='photcat' [astropy.utils.metadata]\n",
      "WARNING: MergeConflictWarning: Cannot merge meta key 'DEPVER02' types <class 'str'> and <class 'str'>, choosing DEPVER02='X' [astropy.utils.metadata]\n",
      "WARNING: MergeConflictWarning: Cannot merge meta key 'DEPNAM03' types <class 'str'> and <class 'str'>, choosing DEPNAM03='tractor-files' [astropy.utils.metadata]\n",
      "WARNING: MergeConflictWarning: Cannot merge meta key 'DEPVER03' types <class 'str'> and <class 'str'>, choosing DEPVER03='/global/cfs/cdirs/desi/survey/ops/surveyops/trunk/mtl/sv3/dark' [astropy.utils.metadata]\n",
      "WARNING: MergeConflictWarning: Cannot merge meta key 'DEPNAM04' types <class 'str'> and <class 'str'>, choosing DEPNAM04='tractor-files-2' [astropy.utils.metadata]\n",
      "WARNING: MergeConflictWarning: Cannot merge meta key 'DEPVER04' types <class 'str'> and <class 'str'>, choosing DEPVER04='/global/cfs/cdirs/desi/target/catalogs/dr9/0.57.0/targets/sv3/resolve/dark' [astropy.utils.metadata]\n",
      "WARNING: MergeConflictWarning: Cannot merge meta key 'DEPNAM05' types <class 'str'> and <class 'str'>, choosing DEPNAM05='qso-selection' [astropy.utils.metadata]\n",
      "WARNING: MergeConflictWarning: Cannot merge meta key 'DEPVER05' types <class 'str'> and <class 'str'>, choosing DEPVER05='unknown' [astropy.utils.metadata]\n",
      "WARNING: MergeConflictWarning: Cannot merge meta key 'DR' types <class 'astropy.io.fits.card.Undefined'> and <class 'astropy.io.fits.card.Undefined'>, choosing DR=<astropy.io.fits.card.Undefined object at 0x2aaad43d6940> [astropy.utils.metadata]\n",
      "WARNING: UnitsWarning: 'nanomaggy' did not parse as fits unit: At col 0, Unit 'nanomaggy' not supported by the FITS standard.  If this is meant to be a custom unit, define it with 'u.def_unit'. To have it recognized inside a file reader or other code, enable it with 'u.add_enabled_units'. For details, see http://docs.astropy.org/en/latest/units/combining_and_defining.html [astropy.units.core]\n",
      "WARNING: UnitsWarning: '1/nanomaggy^2' did not parse as fits unit: Numeric factor not supported by FITS If this is meant to be a custom unit, define it with 'u.def_unit'. To have it recognized inside a file reader or other code, enable it with 'u.add_enabled_units'. For details, see http://docs.astropy.org/en/latest/units/combining_and_defining.html [astropy.units.core]\n"
     ]
    },
    {
     "name": "stdout",
     "output_type": "stream",
     "text": [
      "Error! tile file does not appear to exist\n",
      "Error! sky file does not appear to exist\n",
      "Error! secondary file does not appear to exist\n",
      "Error! gfa file does not appear to exist\n"
     ]
    },
    {
     "ename": "OSError",
     "evalue": "FITSIO status = 104: could not open the named file\nfailed to find or open the following file: (ffopen)\n/global/cfs/cdirs/desi/survey/fiberassign/SV3/000008-tiles.fits\n",
     "output_type": "error",
     "traceback": [
      "\u001b[0;31m---------------------------------------------------------------------------\u001b[0m",
      "\u001b[0;31mOSError\u001b[0m                                   Traceback (most recent call last)",
      "\u001b[0;32m<ipython-input-45-9b33305b252f>\u001b[0m in \u001b[0;36m<module>\u001b[0;34m\u001b[0m\n\u001b[1;32m     11\u001b[0m \u001b[0;31m#for i in range(1,100):\u001b[0m\u001b[0;34m\u001b[0m\u001b[0;34m\u001b[0m\u001b[0;34m\u001b[0m\u001b[0m\n\u001b[1;32m     12\u001b[0m \u001b[0;32mfor\u001b[0m \u001b[0mtile\u001b[0m \u001b[0;32min\u001b[0m \u001b[0mmtld\u001b[0m\u001b[0;34m[\u001b[0m\u001b[0;34m'TILEID'\u001b[0m\u001b[0;34m]\u001b[0m\u001b[0;34m:\u001b[0m\u001b[0;34m\u001b[0m\u001b[0;34m\u001b[0m\u001b[0m\n\u001b[0;32m---> 13\u001b[0;31m     \u001b[0mfa\u001b[0m\u001b[0;34m.\u001b[0m\u001b[0mget_fba_fromnewmtl\u001b[0m\u001b[0;34m(\u001b[0m\u001b[0mtile\u001b[0m\u001b[0;34m,\u001b[0m\u001b[0mgetosubp\u001b[0m\u001b[0;34m=\u001b[0m\u001b[0;32mTrue\u001b[0m\u001b[0;34m)\u001b[0m\u001b[0;34m\u001b[0m\u001b[0;34m\u001b[0m\u001b[0m\n\u001b[0m",
      "\u001b[0;32m/global/u2/a/ajross/LSS/py/LSS/SV3/fatools.py\u001b[0m in \u001b[0;36mget_fba_fromnewmtl\u001b[0;34m(tileid, mtldir, getosubp, outdir)\u001b[0m\n\u001b[1;32m     93\u001b[0m         \u001b[0mprint\u001b[0m\u001b[0;34m(\u001b[0m\u001b[0;34m'Error! secondary file does not appear to exist'\u001b[0m\u001b[0;34m)\u001b[0m\u001b[0;34m\u001b[0m\u001b[0;34m\u001b[0m\u001b[0m\n\u001b[1;32m     94\u001b[0m     \u001b[0mgfaf\u001b[0m \u001b[0;34m=\u001b[0m \u001b[0mindir\u001b[0m\u001b[0;34m+\u001b[0m\u001b[0mts\u001b[0m\u001b[0;34m+\u001b[0m\u001b[0;34m'-gfa.fits'\u001b[0m\u001b[0;34m\u001b[0m\u001b[0;34m\u001b[0m\u001b[0m\n\u001b[0;32m---> 95\u001b[0;31m     \u001b[0;32mtry\u001b[0m\u001b[0;34m:\u001b[0m\u001b[0;34m\u001b[0m\u001b[0;34m\u001b[0m\u001b[0m\n\u001b[0m\u001b[1;32m     96\u001b[0m         \u001b[0mfitsio\u001b[0m\u001b[0;34m.\u001b[0m\u001b[0mread\u001b[0m\u001b[0;34m(\u001b[0m\u001b[0mgfaf\u001b[0m\u001b[0;34m)\u001b[0m\u001b[0;34m\u001b[0m\u001b[0;34m\u001b[0m\u001b[0m\n\u001b[1;32m     97\u001b[0m     \u001b[0;32mexcept\u001b[0m\u001b[0;34m:\u001b[0m\u001b[0;34m\u001b[0m\u001b[0;34m\u001b[0m\u001b[0m\n",
      "\u001b[0;32m/global/u2/a/ajross/LSS/py/LSS/SV3/fatools.py\u001b[0m in \u001b[0;36maltcreate_mtl\u001b[0;34m(tilesfn, mtldir, gaiadr, pmcorr, outfn, targdir, survey, mtltime, tmpoutdir, pmtime_utc_str, add_plate_cols)\u001b[0m\n\u001b[1;32m    177\u001b[0m                 \u001b[0mwrite_targets\u001b[0m \u001b[0mwill\u001b[0m \u001b[0mwrite\u001b[0m \u001b[0;34m(\u001b[0m\u001b[0mcreating\u001b[0m \u001b[0msome\u001b[0m \u001b[0msub\u001b[0m\u001b[0;34m-\u001b[0m\u001b[0mdirectories\u001b[0m\u001b[0;34m)\u001b[0m\u001b[0;34m\u001b[0m\u001b[0;34m\u001b[0m\u001b[0m\n\u001b[1;32m    178\u001b[0m         \u001b[0mpmtime_utc_str\u001b[0m \u001b[0;34m(\u001b[0m\u001b[0moptional\u001b[0m\u001b[0;34m,\u001b[0m \u001b[0mdefaults\u001b[0m \u001b[0mto\u001b[0m \u001b[0;32mNone\u001b[0m\u001b[0;34m)\u001b[0m\u001b[0;34m:\u001b[0m \u001b[0mUTC\u001b[0m \u001b[0mtime\u001b[0m \u001b[0muse\u001b[0m \u001b[0mto\u001b[0m \u001b[0mcompute\u001b[0m\u001b[0;34m\u001b[0m\u001b[0;34m\u001b[0m\u001b[0m\n\u001b[0;32m--> 179\u001b[0;31m                 \u001b[0mnew\u001b[0m \u001b[0mcoordinates\u001b[0m \u001b[0mafter\u001b[0m \u001b[0mapplying\u001b[0m \u001b[0mproper\u001b[0m \u001b[0mmotion\u001b[0m \u001b[0msince\u001b[0m \u001b[0mREF_EPOCH\u001b[0m\u001b[0;34m\u001b[0m\u001b[0;34m\u001b[0m\u001b[0m\n\u001b[0m\u001b[1;32m    180\u001b[0m                 \u001b[0;34m(\u001b[0m\u001b[0mstring\u001b[0m \u001b[0mformatted\u001b[0m \u001b[0;32mas\u001b[0m \u001b[0;34m\"yyyy-mm-ddThh:mm:ss+00:00\"\u001b[0m\u001b[0;34m)\u001b[0m\u001b[0;34m\u001b[0m\u001b[0;34m\u001b[0m\u001b[0m\n\u001b[1;32m    181\u001b[0m         \u001b[0madd_plate_cols\u001b[0m \u001b[0;34m(\u001b[0m\u001b[0moptional\u001b[0m\u001b[0;34m,\u001b[0m \u001b[0mdefaults\u001b[0m \u001b[0mto\u001b[0m \u001b[0;32mTrue\u001b[0m\u001b[0;34m)\u001b[0m\u001b[0;34m:\u001b[0m \u001b[0madds\u001b[0m \u001b[0ma\u001b[0m \u001b[0mPLATE_RA\u001b[0m \u001b[0;32mand\u001b[0m \u001b[0mPLATE_DEC\u001b[0m \u001b[0mcolumns\u001b[0m \u001b[0;34m(\u001b[0m\u001b[0mboolean\u001b[0m\u001b[0;34m)\u001b[0m\u001b[0;34m\u001b[0m\u001b[0;34m\u001b[0m\u001b[0m\n",
      "\u001b[0;32m/global/common/software/desi/cori/desiconda/20200801-1.4.0-spec/conda/lib/python3.8/site-packages/fitsio/fitslib.py\u001b[0m in \u001b[0;36mread\u001b[0;34m(filename, ext, extver, columns, rows, header, case_sensitive, upper, lower, vstorage, verbose, trim_strings, **keys)\u001b[0m\n\u001b[1;32m    128\u001b[0m         \u001b[0mread_kwargs\u001b[0m\u001b[0;34m[\u001b[0m\u001b[0;34m'rows'\u001b[0m\u001b[0;34m]\u001b[0m \u001b[0;34m=\u001b[0m \u001b[0mrows\u001b[0m\u001b[0;34m\u001b[0m\u001b[0;34m\u001b[0m\u001b[0m\n\u001b[1;32m    129\u001b[0m \u001b[0;34m\u001b[0m\u001b[0m\n\u001b[0;32m--> 130\u001b[0;31m     \u001b[0;32mwith\u001b[0m \u001b[0mFITS\u001b[0m\u001b[0;34m(\u001b[0m\u001b[0mfilename\u001b[0m\u001b[0;34m,\u001b[0m \u001b[0;34m**\u001b[0m\u001b[0mkwargs\u001b[0m\u001b[0;34m)\u001b[0m \u001b[0;32mas\u001b[0m \u001b[0mfits\u001b[0m\u001b[0;34m:\u001b[0m\u001b[0;34m\u001b[0m\u001b[0;34m\u001b[0m\u001b[0m\n\u001b[0m\u001b[1;32m    131\u001b[0m \u001b[0;34m\u001b[0m\u001b[0m\n\u001b[1;32m    132\u001b[0m         \u001b[0;32mif\u001b[0m \u001b[0mext\u001b[0m \u001b[0;32mis\u001b[0m \u001b[0;32mNone\u001b[0m\u001b[0;34m:\u001b[0m\u001b[0;34m\u001b[0m\u001b[0;34m\u001b[0m\u001b[0m\n",
      "\u001b[0;32m/global/common/software/desi/cori/desiconda/20200801-1.4.0-spec/conda/lib/python3.8/site-packages/fitsio/fitslib.py\u001b[0m in \u001b[0;36m__init__\u001b[0;34m(self, filename, mode, lower, upper, trim_strings, vstorage, case_sensitive, iter_row_buffer, write_bitcols, ignore_empty, verbose, clobber, **keys)\u001b[0m\n\u001b[1;32m    475\u001b[0m                     \u001b[0mcreate\u001b[0m \u001b[0;34m=\u001b[0m \u001b[0;36m1\u001b[0m\u001b[0;34m\u001b[0m\u001b[0;34m\u001b[0m\u001b[0m\n\u001b[1;32m    476\u001b[0m \u001b[0;34m\u001b[0m\u001b[0m\n\u001b[0;32m--> 477\u001b[0;31m         \u001b[0mself\u001b[0m\u001b[0;34m.\u001b[0m\u001b[0m_FITS\u001b[0m \u001b[0;34m=\u001b[0m \u001b[0m_fitsio_wrap\u001b[0m\u001b[0;34m.\u001b[0m\u001b[0mFITS\u001b[0m\u001b[0;34m(\u001b[0m\u001b[0mfilename\u001b[0m\u001b[0;34m,\u001b[0m \u001b[0mself\u001b[0m\u001b[0;34m.\u001b[0m\u001b[0mintmode\u001b[0m\u001b[0;34m,\u001b[0m \u001b[0mcreate\u001b[0m\u001b[0;34m)\u001b[0m\u001b[0;34m\u001b[0m\u001b[0;34m\u001b[0m\u001b[0m\n\u001b[0m\u001b[1;32m    478\u001b[0m \u001b[0;34m\u001b[0m\u001b[0m\n\u001b[1;32m    479\u001b[0m     \u001b[0;32mdef\u001b[0m \u001b[0mclose\u001b[0m\u001b[0;34m(\u001b[0m\u001b[0mself\u001b[0m\u001b[0;34m)\u001b[0m\u001b[0;34m:\u001b[0m\u001b[0;34m\u001b[0m\u001b[0;34m\u001b[0m\u001b[0m\n",
      "\u001b[0;31mOSError\u001b[0m: FITSIO status = 104: could not open the named file\nfailed to find or open the following file: (ffopen)\n/global/cfs/cdirs/desi/survey/fiberassign/SV3/000008-tiles.fits\n"
     ]
    }
   ],
   "source": [
    "mtld = Table.read('/global/cfs/cdirs/desi/spectro/redux/daily/tiles.csv')\n",
    "wdone = mtld['ZDONE'] == 'true'\n",
    "mtld = mtld[wdone]\n",
    "tiles = Table.read('/global/cfs/cdirs/desi/survey/ops/surveyops/trunk/ops/tiles-sv3.ecsv')\n",
    "wp = np.isin(mtld['TILEID'],tiles['TILEID']) #we want to consider MTL done tiles that correspond to the SV3 tile file\n",
    "wp &= mtld['FAPRGRM'] == 'dark'\n",
    "mtld = mtld[wp]\n",
    "print(len(mtld))\n",
    "\n",
    "indir = '/global/cfs/cdirs/desi/survey/fiberassign/SV3/'\n",
    "#for i in range(1,100):\n",
    "for tile in mtld['TILEID']:\n",
    "    fa.get_fba_fromnewmtl(tile,getosubp=True)"
   ]
  },
  {
   "cell_type": "code",
   "execution_count": 40,
   "id": "00373466-2dc9-417d-80ce-eb68e71cb60f",
   "metadata": {},
   "outputs": [
    {
     "data": {
      "text/html": [
       "&lt;Column name=&apos;FAPRGRM&apos; dtype=&apos;str16&apos; length=3&gt;\n",
       "<table>\n",
       "<tr><td>backup</td></tr>\n",
       "<tr><td>bright</td></tr>\n",
       "<tr><td>dark</td></tr>\n",
       "</table>"
      ],
      "text/plain": [
       "<Column name='FAPRGRM' dtype='str16' length=3>\n",
       "backup\n",
       "bright\n",
       "  dark"
      ]
     },
     "execution_count": 40,
     "metadata": {},
     "output_type": "execute_result"
    }
   ],
   "source": [
    "np.unique(mtld['FAPRGRM'])"
   ]
  },
  {
   "cell_type": "code",
   "execution_count": 38,
   "id": "8f6041f8-5b81-4714-9a55-381954efa885",
   "metadata": {},
   "outputs": [
    {
     "data": {
      "text/plain": [
       "('TILEID',\n",
       " 'SURVEY',\n",
       " 'FAPRGRM',\n",
       " 'FAFLAVOR',\n",
       " 'NEXP',\n",
       " 'EXPTIME',\n",
       " 'EFFTIME_ETC',\n",
       " 'EFFTIME_SPEC',\n",
       " 'EFFTIME_GFA',\n",
       " 'GOALTIME',\n",
       " 'OBSSTATUS',\n",
       " 'ZDONE',\n",
       " 'ELG_EFFTIME_DARK',\n",
       " 'BGS_EFFTIME_BRIGHT',\n",
       " 'LYA_EFFTIME_DARK',\n",
       " 'GOALTYPE',\n",
       " 'MINTFRAC',\n",
       " 'LASTNIGHT')"
      ]
     },
     "execution_count": 38,
     "metadata": {},
     "output_type": "execute_result"
    }
   ],
   "source": [
    "mtld.dtype.names"
   ]
  },
  {
   "cell_type": "code",
   "execution_count": 54,
   "id": "22d47a74-841e-4892-ba7e-1817c5d0bc3e",
   "metadata": {},
   "outputs": [
    {
     "data": {
      "text/plain": [
       "'20210430'"
      ]
     },
     "execution_count": 54,
     "metadata": {},
     "output_type": "execute_result"
    }
   ],
   "source": [
    "for\n",
    "fht['PMTIME'][:10].translate({ord('-'): None})"
   ]
  },
  {
   "cell_type": "code",
   "execution_count": 74,
   "id": "dbcecb12-c041-4caf-ba5e-cc409a07dbce",
   "metadata": {},
   "outputs": [
    {
     "data": {
      "text/plain": [
       "\n",
       "SIMPLE  =                    T / file does conform to FITS standard\n",
       "BITPIX  =                   16 / number of bits per data pixel\n",
       "NAXIS   =                    0 / number of data axes\n",
       "EXTEND  =                    T / FITS dataset may contain extensions\n",
       "COMMENT   and Astrophysics', volume 376, page 359; bibcode: 2001A&A...376..359H\n",
       "COMMENT   FITS (Flexible Image Transport System) format is defined in 'Astronomy\n",
       "EXTNAME = 'PRIMARY'            / \n",
       "TILEID  =                  541 / \n",
       "TILERA  =               269.73 / \n",
       "TILEDEC =                62.64 / \n",
       "FIELDROT=    -0.27197009254834 / \n",
       "FA_PLAN = '2022-07-01T00:00:00.000' / \n",
       "FA_HA   =                  0.0 / \n",
       "FA_RUN  = '2021-05-04T02:18:21+00:00' / \n",
       "REQRA   =               269.73 / \n",
       "REQDEC  =                62.64 / \n",
       "FIELDNUM=                    0 / \n",
       "FA_VER  = '2.3.0'              / \n",
       "FA_SURV = 'sv3'                / \n",
       "DEPNAM00= 'python'             / \n",
       "DEPVER00= '3.8.3'              / \n",
       "DEPNAM01= 'numpy'              / \n",
       "DEPVER01= '1.19.1'             / \n",
       "DEPNAM02= 'matplotlib'         / \n",
       "DEPVER02= '3.2.1'              / \n",
       "DEPNAM03= 'astropy'            / \n",
       "DEPVER03= '4.0.1.post1'        / \n",
       "DEPNAM04= 'fitsio'             / \n",
       "DEPVER04= '1.1.2'              / \n",
       "DEPNAM05= 'desiutil'           / \n",
       "DEPVER05= '3.2.0'              / \n",
       "DEPNAM06= 'desimodel'          / \n",
       "DEPVER06= '0.15.0.dev651'      / \n",
       "DEPNAM07= 'desitarget'         / \n",
       "DEPVER07= '0.57.2'             / \n",
       "FAFLAVOR= 'sv3dark'            / \n",
       "DESIROOT= '/data/datasystems'  / \n",
       "GFA     = 'DESIROOT/target/catalogs/dr9/0.57.0/gfas' / \n",
       "MTL     = '/data/afternoon_planning/surveyops/trunk/mtl/sv3/dark' / \n",
       "SCND    = 'DESIROOT/target/catalogs/dr9/0.57.0/targets/sv3/secondary/dark/sv3ta'\n",
       "SCNDMTL = '/data/afternoon_planning/surveyops/trunk/mtl/sv3/secondary/dark' / \n",
       "SKY     = 'DESIROOT/target/catalogs/dr9/0.57.0/skies' / \n",
       "SKYSUPP = 'DESIROOT/target/catalogs/gaiadr2/0.57.0/skies-supp' / \n",
       "TARG    = 'DESIROOT/target/catalogs/dr9/0.57.0/targets/sv3/resolve/dark' / \n",
       "TOO     = '/data/afternoon_planning/surveyops/trunk/mtl/sv3/ToO/ToO.ecsv' / \n",
       "OUTDIR  = '/software/datasystems/users/raichoor/fba-20210429-kpno/' / \n",
       "PMCORR  = 'n'                  / \n",
       "PMTIME  = '2021-05-04T02:18:21+00:00' / \n",
       "RUNDATE = '2021-05-04T02:18:21+00:00' / \n",
       "SURVEY  = 'sv3'                / \n",
       "FAARGS  = '--doclean n --dr dr9 --dtver 0.57.0 --gaiadr gaiadr2 --goaltime 1200'\n",
       "FAPRGRM = 'DARK'               / \n",
       "MTLTIME = '2021-05-04T02:18:21+00:00' / \n",
       "OBSCON  = 'DARK|GRAY|BRIGHT|BACKUP' / \n",
       "GOALTIME=               1200.0 / \n",
       "GOALTYPE= 'DARK'               / \n",
       "EBVFAC  =     1.06840753786398 / \n",
       "SBPROF  = 'ELG'                / \n",
       "MINTFRAC=                  0.9 / "
      ]
     },
     "execution_count": 74,
     "metadata": {},
     "output_type": "execute_result"
    }
   ],
   "source": [
    "tile = 541\n",
    "ts = str(tile).zfill(6)\n",
    "fht = fitsio.read_header('/global/cfs/cdirs/desi/target/fiberassign/tiles/trunk/'+ts[:3]+'/fiberassign-'+ts+'.fits.gz')\n",
    "\n",
    "fht"
   ]
  },
  {
   "cell_type": "code",
   "execution_count": 6,
   "id": "973a8a51-7ec3-4565-ae8c-e10fdb6cb38c",
   "metadata": {},
   "outputs": [],
   "source": [
    "if float(fht['FA_VER'][:3]) < 2.4:\n",
    "    os.system(\"module swap fiberassign/2.3.0\")\n",
    "else:\n",
    "    os.system(\"module swap fiberassign/\"+fht['FA_VER'])"
   ]
  },
  {
   "cell_type": "code",
   "execution_count": 28,
   "id": "aae84707-fd41-4ed8-bd66-e9937a1d11e7",
   "metadata": {},
   "outputs": [
    {
     "data": {
      "text/plain": [
       "'5.0.0.dev3189'"
      ]
     },
     "execution_count": 28,
     "metadata": {},
     "output_type": "execute_result"
    }
   ],
   "source": [
    "import fiberassign\n",
    "fiberassign.__version__"
   ]
  },
  {
   "cell_type": "code",
   "execution_count": 34,
   "id": "a82343db-ad64-4a00-85a1-f70b596de6d7",
   "metadata": {},
   "outputs": [],
   "source": [
    "from fiberassign.assign import minimal_target_columns"
   ]
  },
  {
   "cell_type": "code",
   "execution_count": 35,
   "id": "ec976061-7e4b-405a-982d-c3b28272a383",
   "metadata": {},
   "outputs": [
    {
     "data": {
      "text/plain": [
       "['RELEASE',\n",
       " 'BRICKNAME',\n",
       " 'BRICKID',\n",
       " 'BRICK_OBJID',\n",
       " 'MORPHTYPE',\n",
       " 'RA',\n",
       " 'DEC',\n",
       " 'EBV',\n",
       " 'FLUX_G',\n",
       " 'FLUX_R',\n",
       " 'FLUX_Z',\n",
       " 'FLUX_W1',\n",
       " 'FLUX_W2',\n",
       " 'FLUX_IVAR_G',\n",
       " 'FLUX_IVAR_R',\n",
       " 'FLUX_IVAR_Z',\n",
       " 'FLUX_IVAR_W1',\n",
       " 'FLUX_IVAR_W2',\n",
       " 'FIBERFLUX_G',\n",
       " 'FIBERFLUX_R',\n",
       " 'FIBERFLUX_Z',\n",
       " 'FIBERTOTFLUX_G',\n",
       " 'FIBERTOTFLUX_R',\n",
       " 'FIBERTOTFLUX_Z',\n",
       " 'REF_EPOCH',\n",
       " 'MASKBITS',\n",
       " 'SERSIC',\n",
       " 'SHAPE_R',\n",
       " 'SHAPE_E1',\n",
       " 'SHAPE_E2',\n",
       " 'REF_ID',\n",
       " 'REF_CAT',\n",
       " 'GAIA_PHOT_G_MEAN_MAG',\n",
       " 'GAIA_PHOT_BP_MEAN_MAG',\n",
       " 'GAIA_PHOT_RP_MEAN_MAG',\n",
       " 'PARALLAX',\n",
       " 'PMRA',\n",
       " 'PMDEC',\n",
       " 'PHOTSYS',\n",
       " 'TARGETID',\n",
       " 'SUBPRIORITY',\n",
       " 'OBSCONDITIONS',\n",
       " 'PRIORITY_INIT',\n",
       " 'NUMOBS_INIT']"
      ]
     },
     "execution_count": 35,
     "metadata": {},
     "output_type": "execute_result"
    }
   ],
   "source": [
    "columns = [key for key in minimal_target_columns]\n",
    "columns"
   ]
  },
  {
   "cell_type": "code",
   "execution_count": 8,
   "id": "f0f614f7-15c3-4703-a002-67b4ec7d6a10",
   "metadata": {},
   "outputs": [],
   "source": [
    "#the above does not work in the notebook but does work on terminal\n",
    "#after verifying functionality, need to put in code and rerun to actually reproduce earlier results"
   ]
  },
  {
   "cell_type": "code",
   "execution_count": 5,
   "id": "3e3be78f-df49-41b4-9f88-e88798a9ed59",
   "metadata": {},
   "outputs": [],
   "source": [
    "from fiberassign.fba_launch_io import (\n",
    "    get_program_latest_timestamp,\n",
    "    assert_env_vars,\n",
    "    assert_svn_tileid,\n",
    "    assert_arg_dates,\n",
    "    print_config_infos,\n",
    "    get_desitarget_paths,\n",
    "    create_tile,\n",
    "    create_sky,\n",
    "    create_targ_nomtl,\n",
    "    create_mtl,\n",
    "    create_too,\n",
    "    launch_onetile_fa,\n",
    "    update_fiberassign_header,\n",
    "    secure_gzip,\n",
    "    make_qa,\n",
    "    rmv_nonsvn,\n",
    "    mv_temp2final,\n",
    "    force_finite_pm,\n",
    "    force_nonzero_refepoch,\n",
    "    gaia_ref_epochs,\n",
    "    mv_write_targets_out\n",
    ")"
   ]
  },
  {
   "cell_type": "code",
   "execution_count": 6,
   "id": "48001e74-6991-4d42-929a-8e804fc88b33",
   "metadata": {},
   "outputs": [],
   "source": [
    "from fiberassign.assign import minimal_target_columns"
   ]
  },
  {
   "cell_type": "code",
   "execution_count": 7,
   "id": "deb3125d-ceeb-44c0-9e8c-d6226b9f5062",
   "metadata": {},
   "outputs": [],
   "source": [
    "import desitarget\n",
    "from desitarget import io \n",
    "from desitarget.mtl import inflate_ledger"
   ]
  },
  {
   "cell_type": "code",
   "execution_count": 8,
   "id": "a089e9d6-70c8-47ff-8245-1cc75ac78b77",
   "metadata": {},
   "outputs": [],
   "source": [
    "outdir = '/global/cfs/cdirs/desi/survey/catalogs/testfiberassign/SV3rerun/'"
   ]
  },
  {
   "cell_type": "code",
   "execution_count": 11,
   "id": "80ad0dd2-ac29-4018-b20f-538943dc6bfd",
   "metadata": {},
   "outputs": [],
   "source": [
    "create_tile(tile,fht['TILERA'],fht['TILEDEC'],outdir+'tile-'+str(tile)+'.fits','sv3')"
   ]
  },
  {
   "cell_type": "code",
   "execution_count": 13,
   "id": "f9cdb95b-339c-4d8a-a507-5416e020253b",
   "metadata": {},
   "outputs": [],
   "source": [
    "create_sky(outdir+'tile-'+str(tile)+'.fits',skydir,skyfn)"
   ]
  },
  {
   "cell_type": "code",
   "execution_count": 67,
   "id": "8b218d63-236c-48fb-ad99-2b2929d1c8d4",
   "metadata": {},
   "outputs": [],
   "source": [
    "tilesfn = outdir+'tile-'+str(tile)+'.fits'\n",
    "skyfn = outdir+'sky-'+str(tile)+'.fits'\n",
    "tarfn = outdir+'mtl-'+str(tile)+'.fits'"
   ]
  },
  {
   "cell_type": "code",
   "execution_count": 29,
   "id": "8fca773d-703a-4834-83b7-e834b2038c3d",
   "metadata": {},
   "outputs": [
    {
     "name": "stdout",
     "output_type": "stream",
     "text": [
      "dr2\n"
     ]
    }
   ],
   "source": [
    "gaiadr = None\n",
    "if np.isin('gaiadr2',fht['FAARGS'].split()):\n",
    "    gaiadr = 'dr2'\n",
    "if np.isin('gaiaedr3',fht['FAARGS'].split()):\n",
    "    gaiadr = 'edr3'\n",
    "print(gaiadr)    "
   ]
  },
  {
   "cell_type": "code",
   "execution_count": 26,
   "id": "8fd550ba-7926-452a-9395-9b8d53dd918a",
   "metadata": {},
   "outputs": [],
   "source": [
    "tiles = fitsio.read(tilesfn)\n",
    "d = io.read_targets_in_tiles(\n",
    "    mtldarkdir,\n",
    "    tiles,\n",
    "    quick=False,\n",
    "    mtl=True,\n",
    "    unique=True,\n",
    ")"
   ]
  },
  {
   "cell_type": "code",
   "execution_count": 163,
   "id": "8b058f17-56ce-4575-a3c8-17c3053ab161",
   "metadata": {},
   "outputs": [
    {
     "name": "stdout",
     "output_type": "stream",
     "text": [
      "WARNING:io.py:611:write_targets: qso_selection method not specified for output file\n"
     ]
    }
   ],
   "source": [
    "create_mtl(tilesfn,\n",
    "    mtldarkdir,\n",
    "    '2021-06-09T02:08:57',\n",
    "    tdarkdir,\n",
    "    'sv3',\n",
    "    gaiadr,\n",
    "    fht['PMCORR'],\n",
    "    tarfn)"
   ]
  },
  {
   "cell_type": "code",
   "execution_count": 28,
   "id": "8dc6d003-f616-4738-a648-01f066746a86",
   "metadata": {},
   "outputs": [
    {
     "data": {
      "text/plain": [
       "array(['2021-06-09T02:08:55', '2021-06-09T02:08:56'], dtype='<U25')"
      ]
     },
     "execution_count": 28,
     "metadata": {},
     "output_type": "execute_result"
    }
   ],
   "source": [
    "np.unique(d['TIMESTAMP'])"
   ]
  },
  {
   "cell_type": "code",
   "execution_count": 238,
   "id": "577736b3-3af8-4508-b7a0-87d298d9b73a",
   "metadata": {},
   "outputs": [
    {
     "name": "stdout",
     "output_type": "stream",
     "text": [
      "WARNING:io.py:611:write_targets: qso_selection method not specified for output file\n"
     ]
    }
   ],
   "source": [
    "altcreate_mtl(\n",
    "    tilesfn,\n",
    "    mtldarkdir,        \n",
    "    'sv3',\n",
    "    gaiadr,\n",
    "    fht['PMCORR'],\n",
    "    tarfn,\n",
    "    tdarkdir\n",
    ")"
   ]
  },
  {
   "cell_type": "code",
   "execution_count": 11,
   "id": "1698aa4c-543a-4cd0-b039-8b125e16ce9a",
   "metadata": {},
   "outputs": [
    {
     "name": "stdout",
     "output_type": "stream",
     "text": [
      "30039 30039\n"
     ]
    }
   ],
   "source": [
    "tf = Table.read(tarfn)\n",
    "to = Table.read('/global/cfs/cdirs/desi/survey/fiberassign/SV3/20210405/000001-targ.fits')\n",
    "print(len(to),len(tf))"
   ]
  },
  {
   "cell_type": "code",
   "execution_count": 12,
   "id": "93244861-28a3-43f5-828d-9eb5ad4dd4d7",
   "metadata": {},
   "outputs": [
    {
     "name": "stdout",
     "output_type": "stream",
     "text": [
      "30039\n"
     ]
    }
   ],
   "source": [
    "w = np.isin(tf['TARGETID'],to['TARGETID'])\n",
    "print(sum(w))"
   ]
  },
  {
   "cell_type": "code",
   "execution_count": 13,
   "id": "1a2385e6-d107-4a4d-874b-c9b6743b1c14",
   "metadata": {},
   "outputs": [],
   "source": [
    "to.keep_columns(['TARGETID','SUBPRIORITY'])"
   ]
  },
  {
   "cell_type": "code",
   "execution_count": 14,
   "id": "ae1da9b7-fc9a-4e42-b439-6b31f3fe209c",
   "metadata": {},
   "outputs": [],
   "source": [
    "tf.remove_columns(['SUBPRIORITY'])"
   ]
  },
  {
   "cell_type": "code",
   "execution_count": 17,
   "id": "1b64ab74-dc7f-4d56-bb91-0b965e97aa9f",
   "metadata": {},
   "outputs": [
    {
     "name": "stderr",
     "output_type": "stream",
     "text": [
      "WARNING: MergeConflictWarning: Cannot merge meta key 'DEPNAM00' types <class 'str'> and <class 'str'>, choosing DEPNAM00='desitarget' [astropy.utils.metadata]\n",
      "WARNING: MergeConflictWarning: Cannot merge meta key 'DEPVER00' types <class 'str'> and <class 'str'>, choosing DEPVER00='0.57.0' [astropy.utils.metadata]\n",
      "WARNING: MergeConflictWarning: Cannot merge meta key 'DEPNAM01' types <class 'str'> and <class 'str'>, choosing DEPNAM01='desitarget-git' [astropy.utils.metadata]\n",
      "WARNING: MergeConflictWarning: Cannot merge meta key 'DEPVER01' types <class 'str'> and <class 'str'>, choosing DEPVER01='0.57.0' [astropy.utils.metadata]\n",
      "WARNING: MergeConflictWarning: Cannot merge meta key 'DEPNAM02' types <class 'str'> and <class 'str'>, choosing DEPNAM02='photcat' [astropy.utils.metadata]\n",
      "WARNING: MergeConflictWarning: Cannot merge meta key 'DEPVER02' types <class 'str'> and <class 'str'>, choosing DEPVER02='X' [astropy.utils.metadata]\n",
      "WARNING: MergeConflictWarning: Cannot merge meta key 'DEPNAM03' types <class 'str'> and <class 'str'>, choosing DEPNAM03='tractor-files' [astropy.utils.metadata]\n",
      "WARNING: MergeConflictWarning: Cannot merge meta key 'DEPVER03' types <class 'str'> and <class 'str'>, choosing DEPVER03='/global/cfs/cdirs/desi/target/mtl/sv3/dark' [astropy.utils.metadata]\n",
      "WARNING: MergeConflictWarning: Cannot merge meta key 'DEPNAM04' types <class 'str'> and <class 'str'>, choosing DEPNAM04='tractor-files-2' [astropy.utils.metadata]\n",
      "WARNING: MergeConflictWarning: Cannot merge meta key 'DEPVER04' types <class 'str'> and <class 'str'>, choosing DEPVER04='/global/cfs/cdirs/desi/target/catalogs/dr9/0.57.0/targets/sv3/resolve/dark' [astropy.utils.metadata]\n",
      "WARNING: MergeConflictWarning: Cannot merge meta key 'DEPNAM05' types <class 'str'> and <class 'str'>, choosing DEPNAM05='qso-selection' [astropy.utils.metadata]\n",
      "WARNING: MergeConflictWarning: Cannot merge meta key 'DEPVER05' types <class 'str'> and <class 'str'>, choosing DEPVER05='unknown' [astropy.utils.metadata]\n",
      "WARNING: MergeConflictWarning: Cannot merge meta key 'DR' types <class 'astropy.io.fits.card.Undefined'> and <class 'astropy.io.fits.card.Undefined'>, choosing DR=<astropy.io.fits.card.Undefined object at 0x2aaad43d8b50> [astropy.utils.metadata]\n"
     ]
    }
   ],
   "source": [
    "tj = join(tf,to,keys=['TARGETID'])"
   ]
  },
  {
   "cell_type": "code",
   "execution_count": 10,
   "id": "434eb61e-8278-4532-bc30-12f72a25bf0e",
   "metadata": {},
   "outputs": [],
   "source": [
    "tarfn = '/global/cfs/cdirs/desi/survey/catalogs/testfiberassign/SV3rerun/mtl-1.fits'"
   ]
  },
  {
   "cell_type": "code",
   "execution_count": 19,
   "id": "6fa63930-064b-4e0b-b5c7-14692d322c72",
   "metadata": {},
   "outputs": [
    {
     "name": "stderr",
     "output_type": "stream",
     "text": [
      "WARNING: UnitsWarning: 'nanomaggy' did not parse as fits unit: At col 0, Unit 'nanomaggy' not supported by the FITS standard.  If this is meant to be a custom unit, define it with 'u.def_unit'. To have it recognized inside a file reader or other code, enable it with 'u.add_enabled_units'. For details, see http://docs.astropy.org/en/latest/units/combining_and_defining.html [astropy.units.core]\n",
      "WARNING: UnitsWarning: '1/nanomaggy^2' did not parse as fits unit: Numeric factor not supported by FITS If this is meant to be a custom unit, define it with 'u.def_unit'. To have it recognized inside a file reader or other code, enable it with 'u.add_enabled_units'. For details, see http://docs.astropy.org/en/latest/units/combining_and_defining.html [astropy.units.core]\n"
     ]
    }
   ],
   "source": [
    "tj.write('/global/cfs/cdirs/desi/survey/catalogs/testfiberassign/SV3rerun/mtl-1-matchosubp.fits',format='fits', overwrite=True)"
   ]
  },
  {
   "cell_type": "code",
   "execution_count": 18,
   "id": "3da0df99-589d-40a1-b339-77db16e7aaca",
   "metadata": {},
   "outputs": [
    {
     "data": {
      "text/plain": [
       "('RELEASE',\n",
       " 'BRICKID',\n",
       " 'BRICKNAME',\n",
       " 'BRICK_OBJID',\n",
       " 'MORPHTYPE',\n",
       " 'EBV',\n",
       " 'FLUX_G',\n",
       " 'FLUX_R',\n",
       " 'FLUX_Z',\n",
       " 'FLUX_IVAR_G',\n",
       " 'FLUX_IVAR_R',\n",
       " 'FLUX_IVAR_Z',\n",
       " 'FLUX_W1',\n",
       " 'FLUX_W2',\n",
       " 'FLUX_IVAR_W1',\n",
       " 'FLUX_IVAR_W2',\n",
       " 'FIBERFLUX_G',\n",
       " 'FIBERFLUX_R',\n",
       " 'FIBERFLUX_Z',\n",
       " 'FIBERTOTFLUX_G',\n",
       " 'FIBERTOTFLUX_R',\n",
       " 'FIBERTOTFLUX_Z',\n",
       " 'MASKBITS',\n",
       " 'SHAPE_R',\n",
       " 'SHAPE_E1',\n",
       " 'SHAPE_E2',\n",
       " 'SERSIC',\n",
       " 'REF_ID',\n",
       " 'REF_CAT',\n",
       " 'GAIA_PHOT_G_MEAN_MAG',\n",
       " 'GAIA_PHOT_BP_MEAN_MAG',\n",
       " 'GAIA_PHOT_RP_MEAN_MAG',\n",
       " 'PHOTSYS',\n",
       " 'TARGETID',\n",
       " 'SV3_DESI_TARGET',\n",
       " 'SV3_BGS_TARGET',\n",
       " 'SV3_MWS_TARGET',\n",
       " 'SV3_SCND_TARGET',\n",
       " 'RA',\n",
       " 'DEC',\n",
       " 'REF_EPOCH',\n",
       " 'PARALLAX',\n",
       " 'PMRA',\n",
       " 'PMDEC',\n",
       " 'OBSCONDITIONS',\n",
       " 'PRIORITY_INIT',\n",
       " 'NUMOBS_INIT',\n",
       " 'NUMOBS_MORE',\n",
       " 'NUMOBS',\n",
       " 'Z',\n",
       " 'ZWARN',\n",
       " 'ZTILEID',\n",
       " 'TARGET_STATE',\n",
       " 'TIMESTAMP',\n",
       " 'VERSION',\n",
       " 'PRIORITY',\n",
       " 'PLATE_RA',\n",
       " 'PLATE_DEC',\n",
       " 'PLATE_REF_EPOCH',\n",
       " 'SUBPRIORITY')"
      ]
     },
     "execution_count": 18,
     "metadata": {},
     "output_type": "execute_result"
    }
   ],
   "source": [
    "tj.dtype.names"
   ]
  },
  {
   "cell_type": "code",
   "execution_count": 68,
   "id": "feb902e8-004e-4ba0-a896-bd4ae616c8b1",
   "metadata": {},
   "outputs": [],
   "source": [
    "fo = open('fs.sh','w')\n",
    "fo.write('#!/bin/bash\\n\\n')\n",
    "if float(fht['FA_VER'][:3]) < 2.4:\n",
    "    fo.write(\"module swap fiberassign/2.3.0\\n\")\n",
    "else:\n",
    "    fo.write(\"module swap fiberassign/\"+fht['FA_VER']+\"\\n\")\n",
    "fo.write(\"fba_run\")\n",
    "fo.write(\" --targets \"+tarfn)\n",
    "fo.write(\" --sky \"+skyfn)\n",
    "fo.write(\" --footprint \"+tilesfn)\n",
    "fo.write(\" --rundate \"+fht['RUNDATE'])\n",
    "fo.write(\" --fieldrot \"+str(fht['FIELDROT']))\n",
    "fo.write(\" --dir \"+outdir)\n",
    "#fo.write(\" --by_tile true\")\n",
    "if float(fht['FA_VER'][:3]) >= 3:\n",
    "    fo.write(\" --ha \"+fht['FA_HA'])\n",
    "fo.close()    "
   ]
  },
  {
   "cell_type": "code",
   "execution_count": 61,
   "id": "2950447f-dd63-4803-9ac5-4d65030b4f37",
   "metadata": {},
   "outputs": [
    {
     "data": {
      "text/plain": [
       "'/global/u2/a/ajross/LSS/Sandbox'"
      ]
     },
     "execution_count": 61,
     "metadata": {},
     "output_type": "execute_result"
    }
   ],
   "source": [
    "os.getcwd()"
   ]
  },
  {
   "cell_type": "code",
   "execution_count": 5,
   "id": "7df78037-d6a8-4c0a-a562-6d34cf8bee70",
   "metadata": {},
   "outputs": [
    {
     "data": {
      "text/plain": [
       "\n",
       "SIMPLE  =                    T / file does conform to FITS standard\n",
       "BITPIX  =                   16 / number of bits per data pixel\n",
       "NAXIS   =                    0 / number of data axes\n",
       "EXTEND  =                    T / FITS dataset may contain extensions\n",
       "COMMENT   and Astrophysics', volume 376, page 359; bibcode: 2001A&A...376..359H\n",
       "COMMENT   FITS (Flexible Image Transport System) format is defined in 'Astronomy\n",
       "EXTNAME = 'PRIMARY'            / \n",
       "TILEID  =                    1 / \n",
       "TILERA  =               150.04 / \n",
       "TILEDEC =                2.286 / \n",
       "FIELDROT=   0.0621937259943342 / \n",
       "FA_PLAN = '2022-07-01T00:00:00.000' / \n",
       "FA_HA   =                  0.0 / \n",
       "FA_RUN  = '2021-03-17T23:20:01' / \n",
       "REQRA   =               150.04 / \n",
       "REQDEC  =                2.286 / \n",
       "FIELDNUM=                    0 / \n",
       "FA_VER  = '2.2.0.dev2811'      / \n",
       "FA_SURV = 'sv3'                / \n",
       "DEPNAM00= 'python'             / \n",
       "DEPVER00= '3.8.3'              / \n",
       "DEPNAM01= 'numpy'              / \n",
       "DEPVER01= '1.19.1'             / \n",
       "DEPNAM02= 'matplotlib'         / \n",
       "DEPVER02= '3.2.1'              / \n",
       "DEPNAM03= 'astropy'            / \n",
       "DEPVER03= '4.0.1.post1'        / \n",
       "DEPNAM04= 'fitsio'             / \n",
       "DEPVER04= '1.1.2'              / \n",
       "DEPNAM05= 'desiutil'           / \n",
       "DEPVER05= '3.2.1.dev916'       / \n",
       "DEPNAM06= 'desimodel'          / \n",
       "DEPVER06= '0.14.2'             / \n",
       "DEPNAM07= 'desitarget'         / \n",
       "DEPVER07= '0.57.0'             / \n",
       "FAFLAVOR= 'sv3dark'            / \n",
       "DESIROOT= '/global/cfs/cdirs/desi' / \n",
       "GFA     = 'DESIROOT/target/catalogs/dr9/0.57.0/gfas' / \n",
       "MTL     = 'DESIROOT/target/mtl/sv3/dark' / \n",
       "SCND    = 'DESIROOT/target/catalogs/dr9/0.57.0/targets/sv3/secondary/dark/sv3ta'\n",
       "SCNDMTL = 'DESIROOT/target/mtl/sv3/secondary/dark' / \n",
       "SKY     = 'DESIROOT/target/catalogs/dr9/0.57.0/skies' / \n",
       "SKYSUPP = 'DESIROOT/target/catalogs/gaiadr2/0.57.0/skies-supp' / \n",
       "TARG    = 'DESIROOT/target/catalogs/dr9/0.57.0/targets/sv3/resolve/dark' / \n",
       "OUTDIR  = '/global/cfs/cdirs/desi/survey/fiberassign/SV3/20210405/' / \n",
       "PMCORR  = 'n'                  / \n",
       "PMTIME  = '2021-04-06T00:39:37' / \n",
       "RUNDATE = '2021-04-06T00:39:37' / \n",
       "SURVEY  = 'sv3'                / \n",
       "FAARGS  = '--doclean n --dr dr9 --dtver 0.57.0 --gaiadr gaiadr2 --goaltime 1200'\n",
       "FAPRGRM = 'DARK'               / \n",
       "MTLTIME = '2021-04-06T00:39:37' / \n",
       "OBSCON  = 'DARK|GRAY|BRIGHT|BACKUP' / \n",
       "GOALTIME=               1200.0 / \n",
       "GOALTYPE= 'DARK'               / \n",
       "EBVFAC  =     1.04623691209793 / \n",
       "SBPROF  = 'ELG'                / \n",
       "MINTFRAC=                  0.9 / "
      ]
     },
     "execution_count": 5,
     "metadata": {},
     "output_type": "execute_result"
    }
   ],
   "source": [
    "fht"
   ]
  },
  {
   "cell_type": "code",
   "execution_count": 27,
   "id": "ee583dd7-7399-4e2d-9680-cff69c775f47",
   "metadata": {},
   "outputs": [
    {
     "data": {
      "text/plain": [
       "'DARK'"
      ]
     },
     "execution_count": 27,
     "metadata": {},
     "output_type": "execute_result"
    }
   ],
   "source": [
    "fht['FAPRGRM']"
   ]
  },
  {
   "cell_type": "code",
   "execution_count": 237,
   "id": "fe373ef5-c5db-4820-83ba-1dce9e78e3fb",
   "metadata": {},
   "outputs": [],
   "source": [
    "def altcreate_mtl(\n",
    "    tilesfn,\n",
    "    mtldir,        \n",
    "    survey,\n",
    "    gaiadr,\n",
    "    pmcorr,\n",
    "    outfn,\n",
    "    targdir,\n",
    "    mtltime=None,#I think we will just want this to be the latest for the re/alt runs\n",
    "    tmpoutdir=tempfile.mkdtemp(),\n",
    "    pmtime_utc_str=None,\n",
    "    add_plate_cols=True,\n",
    "):\n",
    "    \"\"\"\n",
    "    Create a (primary or secondary) target fits file, based on MTL ledgers (and complementary columns from desitarget targets files).\n",
    "    \n",
    "    Args:\n",
    "        tilesfn: path to a tiles fits file (string)\n",
    "        mtldir: desisurveyops MTL folder (string)\n",
    "        mtltime: MTL isodate (string formatted as yyyy-mm-ddThh:mm:ss+00:00)\n",
    "        targdir: desitarget targets folder (or file name if secondary) (string)\n",
    "        survey: survey (string; e.g. \"sv1\", \"sv2\", \"sv3\", \"main\")\n",
    "        gaiadr: Gaia dr (\"dr2\" or \"edr3\")\n",
    "        pmcorr: apply proper-motion correction? (\"y\" or \"n\")\n",
    "        outfn: fits file name to be written (string)\n",
    "        tmpoutdir (optional, defaults to a temporary directory): temporary directory where\n",
    "                write_targets will write (creating some sub-directories)\n",
    "        pmtime_utc_str (optional, defaults to None): UTC time use to compute\n",
    "                new coordinates after applying proper motion since REF_EPOCH\n",
    "                (string formatted as \"yyyy-mm-ddThh:mm:ss+00:00\")\n",
    "        add_plate_cols (optional, defaults to True): adds a PLATE_RA and PLATE_DEC columns (boolean)\n",
    "        log (optional, defaults to Logger.get()): Logger object\n",
    "        step (optional, defaults to \"\"): corresponding step, for fba_launch log recording\n",
    "            (e.g. dotiles, dosky, dogfa, domtl, doscnd, dotoo)\n",
    "        start(optional, defaults to time()): start time for log (in seconds; output of time.time()\n",
    "    Notes:\n",
    "        if pmcorr=\"y\", then pmtime_utc_str needs to be set; will trigger an error otherwise.\n",
    "        for sv3-backup, we remove BACKUP_BRIGHT targets.\n",
    "        TBD : if secondary targets, we currently disable the inflate_ledger(), as it\n",
    "                seems to not currently work.\n",
    "                hence if secondary and pmcorr=\"y\", the code will crash, as the \n",
    "                GAIA_ASTROMETRIC_EXCESS_NOISE column will be missing; though we do not\n",
    "                expect this configuration to happen, so it should be fine for now.\n",
    "        TBD: the PLATE_{RA,DEC,REF_EPOCH} columns currently simply are copy of RA,DEC,REF_EPOCH\n",
    "        TBD:    but it prepares e.g. to add chromatic offsets.\n",
    "        20210526 : implementation of using subpriority=False in write_targets\n",
    "                    to avoid an over-writting of the SUBPRIORITY; AJR changed to True reproduce SV3\n",
    "    \"\"\"\n",
    "    tiles = fitsio.read(tilesfn)\n",
    "\n",
    "    # AR mtl: read mtl\n",
    "    d = io.read_targets_in_tiles(\n",
    "        mtldir,\n",
    "        tiles,\n",
    "        quick=False,\n",
    "        mtl=True,\n",
    "        unique=True,\n",
    "        isodate=mtltime,\n",
    "    )\n",
    "\n",
    "    # AR mtl: removing by hand BACKUP_BRIGHT for sv3/BACKUP\n",
    "    # AR mtl: using an indirect way to find if program=backup,\n",
    "    # AR mtl:   to avoid the need of an extra program argument\n",
    "    # AR mtl:   for sv3, there is no secondary-backup, so no ambiguity\n",
    "    if (survey == \"sv3\") & (\"backup\" in mtldir):\n",
    "        from desitarget.sv3.sv3_targetmask import mws_mask\n",
    "\n",
    "        keep = (d[\"SV3_MWS_TARGET\"] & mws_mask[\"BACKUP_BRIGHT\"]) == 0\n",
    "        d = d[keep]\n",
    "\n",
    "    columns = [key for key in minimal_target_columns if key not in d.dtype.names]\n",
    "    tcol = ['SV3_DESI_TARGET','SV3_BGS_TARGET','SV3_MWS_TARGET','SV3_SCND_TARGET']\n",
    "    for col in tcol:\n",
    "        columns.append(col) \n",
    "    d = inflate_ledger(\n",
    "            d, targdir, columns=columns, header=False, strictcols=False, quick=True\n",
    "        )    # AR adding PLATE_RA, PLATE_DEC, PLATE_REF_EPOCH ?\n",
    "    \n",
    "    d = Table(d)\n",
    "    #l = np.ones(len(d),dtype=int)\n",
    "    #w = (d['TARGET_STATE'] == 'CALIB')\n",
    "    #print(len(d[w]))\n",
    "    #l[w] = 0\n",
    "    #print(np.unique(l))\n",
    "    #d['DESI_TARGET'] = l\n",
    "    #print(np.unique(d['DESI_TARGET']))\n",
    "    #d['DESI_TARGET'] = d['SV3_DESI_TARGET']\n",
    "    d = d.as_array()\n",
    "    if add_plate_cols:\n",
    "        d = Table(d)\n",
    "        d[\"PLATE_RA\"] = d[\"RA\"]\n",
    "        d[\"PLATE_DEC\"] = d[\"DEC\"]\n",
    "        d[\"PLATE_REF_EPOCH\"] = d[\"REF_EPOCH\"]\n",
    "        d = d.as_array()\n",
    "    \n",
    "    # AR mtl: PMRA, PMDEC: convert NaN to zeros\n",
    "    d = force_finite_pm(d)\n",
    "    # AR mtl: update RA, DEC, REF_EPOCH using proper motion?\n",
    "    if pmcorr == \"y\":\n",
    "        if pmtime_utc_str is None:\n",
    "            sys.exti(1)\n",
    "        d = update_nowradec(d, gaiadr, pmtime_utc_str)\n",
    "    else:\n",
    "        d = force_nonzero_refepoch(\n",
    "            d, gaia_ref_epochs[gaiadr]\n",
    "        )\n",
    "    # AR mtl: write fits\n",
    "    n, tmpfn = io.write_targets(tmpoutdir, d, indir=mtldir, indir2=targdir, survey=survey, subpriority=True)\n",
    "    _ = mv_write_targets_out(tmpfn, tmpoutdir, outfn)\n",
    "\n",
    "    # AR mtl: update header if pmcorr = \"y\"\n",
    "    if pmcorr == \"y\":\n",
    "        fd = fitsio.FITS(outfn, \"rw\")\n",
    "        fd[\"TARGETS\"].write_key(\"COMMENT\", \"RA,DEC updated with PM for AEN objects\")\n",
    "        fd[\"TARGETS\"].write_key(\"COMMENT\", \"REF_EPOCH updated for all objects\")\n",
    "        fd.close()"
   ]
  },
  {
   "cell_type": "code",
   "execution_count": 69,
   "id": "f97151bb-75d5-4585-bccf-91977cde2fd2",
   "metadata": {},
   "outputs": [],
   "source": []
  },
  {
   "cell_type": "code",
   "execution_count": 70,
   "id": "0ffe9f8f-47a6-4f1a-b37e-722c12a13b97",
   "metadata": {},
   "outputs": [
    {
     "data": {
      "text/plain": [
       "OrderedDict([('RELEASE', '>i2'),\n",
       "             ('BRICKNAME', 'S8'),\n",
       "             ('BRICKID', '>i4'),\n",
       "             ('BRICK_OBJID', '>i4'),\n",
       "             ('MORPHTYPE', 'S4'),\n",
       "             ('RA', '>f8'),\n",
       "             ('DEC', '>f8'),\n",
       "             ('EBV', '>f4'),\n",
       "             ('FLUX_G', '>f4'),\n",
       "             ('FLUX_R', '>f4'),\n",
       "             ('FLUX_Z', '>f4'),\n",
       "             ('FLUX_W1', '>f4'),\n",
       "             ('FLUX_W2', '>f4'),\n",
       "             ('FLUX_IVAR_G', '>f4'),\n",
       "             ('FLUX_IVAR_R', '>f4'),\n",
       "             ('FLUX_IVAR_Z', '>f4'),\n",
       "             ('FLUX_IVAR_W1', '>f4'),\n",
       "             ('FLUX_IVAR_W2', '>f4'),\n",
       "             ('FIBERFLUX_G', '>f4'),\n",
       "             ('FIBERFLUX_R', '>f4'),\n",
       "             ('FIBERFLUX_Z', '>f4'),\n",
       "             ('FIBERTOTFLUX_G', '>f4'),\n",
       "             ('FIBERTOTFLUX_R', '>f4'),\n",
       "             ('FIBERTOTFLUX_Z', '>f4'),\n",
       "             ('REF_EPOCH', '>f4'),\n",
       "             ('MASKBITS', '>i2'),\n",
       "             ('SERSIC', '>f4'),\n",
       "             ('SHAPE_R', '>f4'),\n",
       "             ('SHAPE_E1', '>f4'),\n",
       "             ('SHAPE_E2', '>f4'),\n",
       "             ('REF_ID', '>i8'),\n",
       "             ('REF_CAT', 'S2'),\n",
       "             ('GAIA_PHOT_G_MEAN_MAG', '>f4'),\n",
       "             ('GAIA_PHOT_BP_MEAN_MAG', '>f4'),\n",
       "             ('GAIA_PHOT_RP_MEAN_MAG', '>f4'),\n",
       "             ('PARALLAX', '>f4'),\n",
       "             ('PMRA', '>f4'),\n",
       "             ('PMDEC', '>f4'),\n",
       "             ('PHOTSYS', 'S1'),\n",
       "             ('TARGETID', '>i8'),\n",
       "             ('SUBPRIORITY', '>f8'),\n",
       "             ('OBSCONDITIONS', '>i8'),\n",
       "             ('PRIORITY_INIT', '>i8'),\n",
       "             ('NUMOBS_INIT', '>i8')])"
      ]
     },
     "execution_count": 70,
     "metadata": {},
     "output_type": "execute_result"
    }
   ],
   "source": [
    "minimal_target_columns"
   ]
  },
  {
   "cell_type": "code",
   "execution_count": 187,
   "id": "15dd27c1-2dd3-49d9-a13e-74176bb70201",
   "metadata": {},
   "outputs": [],
   "source": [
    "f = fitsio.read(tarfn)"
   ]
  },
  {
   "cell_type": "code",
   "execution_count": 164,
   "id": "eb23a4db-222d-46a0-80aa-9decdab90cc2",
   "metadata": {},
   "outputs": [],
   "source": [
    "fn = fitsio.read(tarfn)"
   ]
  },
  {
   "cell_type": "code",
   "execution_count": 166,
   "id": "14cef4f9-a77a-4656-afcc-e58e287ae2fa",
   "metadata": {},
   "outputs": [
    {
     "data": {
      "text/plain": [
       "30039"
      ]
     },
     "execution_count": 166,
     "metadata": {},
     "output_type": "execute_result"
    }
   ],
   "source": [
    "len(fn)"
   ]
  },
  {
   "cell_type": "code",
   "execution_count": 168,
   "id": "6c4ef51b-3a69-4ff8-88c5-430caa29e826",
   "metadata": {},
   "outputs": [
    {
     "data": {
      "text/plain": [
       "30039"
      ]
     },
     "execution_count": 168,
     "metadata": {},
     "output_type": "execute_result"
    }
   ],
   "source": [
    "fo = fitsio.read('/global/cfs/cdirs/desi/survey/fiberassign/SV3/20210405/000001-targ.fits')\n",
    "len(fo)"
   ]
  },
  {
   "cell_type": "code",
   "execution_count": 188,
   "id": "6c0d528d-7b07-41b1-bb04-7ab98ba971da",
   "metadata": {},
   "outputs": [
    {
     "data": {
      "text/plain": [
       "30039"
      ]
     },
     "execution_count": 188,
     "metadata": {},
     "output_type": "execute_result"
    }
   ],
   "source": [
    "np.sum(np.isin(fo['TARGETID'],f['TARGETID']))"
   ]
  },
  {
   "cell_type": "code",
   "execution_count": 167,
   "id": "3c884482-2c6e-4f9a-afe0-4e3cdbb5479c",
   "metadata": {},
   "outputs": [
    {
     "ename": "ValueError",
     "evalue": "no field of name DESI_TARGET",
     "output_type": "error",
     "traceback": [
      "\u001b[0;31m---------------------------------------------------------------------------\u001b[0m",
      "\u001b[0;31mValueError\u001b[0m                                Traceback (most recent call last)",
      "\u001b[0;32m<ipython-input-167-6e103cf92c03>\u001b[0m in \u001b[0;36m<module>\u001b[0;34m\u001b[0m\n\u001b[1;32m      1\u001b[0m \u001b[0mw\u001b[0m \u001b[0;34m=\u001b[0m \u001b[0mfn\u001b[0m\u001b[0;34m[\u001b[0m\u001b[0;34m'TARGET_STATE'\u001b[0m\u001b[0;34m]\u001b[0m \u001b[0;34m==\u001b[0m \u001b[0;34m'CALIB'\u001b[0m\u001b[0;34m\u001b[0m\u001b[0;34m\u001b[0m\u001b[0m\n\u001b[0;32m----> 2\u001b[0;31m \u001b[0mnp\u001b[0m\u001b[0;34m.\u001b[0m\u001b[0munique\u001b[0m\u001b[0;34m(\u001b[0m\u001b[0mfn\u001b[0m\u001b[0;34m[\u001b[0m\u001b[0mw\u001b[0m\u001b[0;34m]\u001b[0m\u001b[0;34m[\u001b[0m\u001b[0;34m'DESI_TARGET'\u001b[0m\u001b[0;34m]\u001b[0m\u001b[0;34m)\u001b[0m\u001b[0;34m\u001b[0m\u001b[0;34m\u001b[0m\u001b[0m\n\u001b[0m",
      "\u001b[0;31mValueError\u001b[0m: no field of name DESI_TARGET"
     ]
    }
   ],
   "source": [
    "w = fn['TARGET_STATE'] == 'CALIB'\n",
    "np.unique(fn[w]['DESI_TARGET'])"
   ]
  },
  {
   "cell_type": "code",
   "execution_count": 126,
   "id": "0ed4f307-94ce-4d23-9227-d8ad30cfb177",
   "metadata": {},
   "outputs": [
    {
     "data": {
      "text/plain": [
       "(array(['CALIB', 'ELG_HIP|UNOBS', 'ELG_LOP|UNOBS', 'LRG|UNOBS',\n",
       "        'MWS_BHB|UNOBS', 'MWS_WD|UNOBS', 'PSF_OUT_DARK|UNOBS', 'QSO|UNOBS'],\n",
       "       dtype='<U30'),\n",
       " array([  504, 16376,  4328,  6523,    12,    29,     3,  2264]))"
      ]
     },
     "execution_count": 126,
     "metadata": {},
     "output_type": "execute_result"
    }
   ],
   "source": [
    "\n",
    "np.unique(f['TARGET_STATE'],return_counts=True)"
   ]
  },
  {
   "cell_type": "code",
   "execution_count": 83,
   "id": "9bf96c6b-c783-4e37-8e2c-ce7fddd326f1",
   "metadata": {},
   "outputs": [
    {
     "data": {
      "text/plain": [
       "('RELEASE',\n",
       " 'BRICKID',\n",
       " 'BRICKNAME',\n",
       " 'BRICK_OBJID',\n",
       " 'MORPHTYPE',\n",
       " 'EBV',\n",
       " 'FLUX_G',\n",
       " 'FLUX_R',\n",
       " 'FLUX_Z',\n",
       " 'FLUX_IVAR_G',\n",
       " 'FLUX_IVAR_R',\n",
       " 'FLUX_IVAR_Z',\n",
       " 'FLUX_W1',\n",
       " 'FLUX_W2',\n",
       " 'FLUX_IVAR_W1',\n",
       " 'FLUX_IVAR_W2',\n",
       " 'FIBERFLUX_G',\n",
       " 'FIBERFLUX_R',\n",
       " 'FIBERFLUX_Z',\n",
       " 'FIBERTOTFLUX_G',\n",
       " 'FIBERTOTFLUX_R',\n",
       " 'FIBERTOTFLUX_Z',\n",
       " 'MASKBITS',\n",
       " 'SHAPE_R',\n",
       " 'SHAPE_E1',\n",
       " 'SHAPE_E2',\n",
       " 'SERSIC',\n",
       " 'REF_ID',\n",
       " 'REF_CAT',\n",
       " 'GAIA_PHOT_G_MEAN_MAG',\n",
       " 'GAIA_PHOT_BP_MEAN_MAG',\n",
       " 'GAIA_PHOT_RP_MEAN_MAG',\n",
       " 'PHOTSYS',\n",
       " 'TARGETID',\n",
       " 'RA',\n",
       " 'DEC',\n",
       " 'REF_EPOCH',\n",
       " 'PARALLAX',\n",
       " 'PMRA',\n",
       " 'PMDEC',\n",
       " 'SUBPRIORITY',\n",
       " 'OBSCONDITIONS',\n",
       " 'PRIORITY_INIT',\n",
       " 'NUMOBS_INIT',\n",
       " 'NUMOBS_MORE',\n",
       " 'NUMOBS',\n",
       " 'Z',\n",
       " 'ZWARN',\n",
       " 'ZTILEID',\n",
       " 'TARGET_STATE',\n",
       " 'TIMESTAMP',\n",
       " 'VERSION',\n",
       " 'PRIORITY',\n",
       " 'PLATE_RA',\n",
       " 'PLATE_DEC',\n",
       " 'PLATE_REF_EPOCH')"
      ]
     },
     "execution_count": 83,
     "metadata": {},
     "output_type": "execute_result"
    }
   ],
   "source": [
    "f.dtype.names"
   ]
  },
  {
   "cell_type": "code",
   "execution_count": 84,
   "id": "5fb14d8f-4fa4-42fc-a347-0a6eef32e1b8",
   "metadata": {},
   "outputs": [
    {
     "data": {
      "text/plain": [
       "OrderedDict([('RELEASE', '>i2'),\n",
       "             ('BRICKNAME', 'S8'),\n",
       "             ('BRICKID', '>i4'),\n",
       "             ('BRICK_OBJID', '>i4'),\n",
       "             ('MORPHTYPE', 'S4'),\n",
       "             ('RA', '>f8'),\n",
       "             ('DEC', '>f8'),\n",
       "             ('EBV', '>f4'),\n",
       "             ('FLUX_G', '>f4'),\n",
       "             ('FLUX_R', '>f4'),\n",
       "             ('FLUX_Z', '>f4'),\n",
       "             ('FLUX_W1', '>f4'),\n",
       "             ('FLUX_W2', '>f4'),\n",
       "             ('FLUX_IVAR_G', '>f4'),\n",
       "             ('FLUX_IVAR_R', '>f4'),\n",
       "             ('FLUX_IVAR_Z', '>f4'),\n",
       "             ('FLUX_IVAR_W1', '>f4'),\n",
       "             ('FLUX_IVAR_W2', '>f4'),\n",
       "             ('FIBERFLUX_G', '>f4'),\n",
       "             ('FIBERFLUX_R', '>f4'),\n",
       "             ('FIBERFLUX_Z', '>f4'),\n",
       "             ('FIBERTOTFLUX_G', '>f4'),\n",
       "             ('FIBERTOTFLUX_R', '>f4'),\n",
       "             ('FIBERTOTFLUX_Z', '>f4'),\n",
       "             ('REF_EPOCH', '>f4'),\n",
       "             ('MASKBITS', '>i2'),\n",
       "             ('SERSIC', '>f4'),\n",
       "             ('SHAPE_R', '>f4'),\n",
       "             ('SHAPE_E1', '>f4'),\n",
       "             ('SHAPE_E2', '>f4'),\n",
       "             ('REF_ID', '>i8'),\n",
       "             ('REF_CAT', 'S2'),\n",
       "             ('GAIA_PHOT_G_MEAN_MAG', '>f4'),\n",
       "             ('GAIA_PHOT_BP_MEAN_MAG', '>f4'),\n",
       "             ('GAIA_PHOT_RP_MEAN_MAG', '>f4'),\n",
       "             ('PARALLAX', '>f4'),\n",
       "             ('PMRA', '>f4'),\n",
       "             ('PMDEC', '>f4'),\n",
       "             ('PHOTSYS', 'S1'),\n",
       "             ('TARGETID', '>i8'),\n",
       "             ('SUBPRIORITY', '>f8'),\n",
       "             ('OBSCONDITIONS', '>i8'),\n",
       "             ('PRIORITY_INIT', '>i8'),\n",
       "             ('NUMOBS_INIT', '>i8')])"
      ]
     },
     "execution_count": 84,
     "metadata": {},
     "output_type": "execute_result"
    }
   ],
   "source": [
    "minimal_target_columns"
   ]
  },
  {
   "cell_type": "code",
   "execution_count": 97,
   "id": "64cc2fbb-3f44-4287-a302-cdffd48d6834",
   "metadata": {},
   "outputs": [],
   "source": [
    "ts = '000481'"
   ]
  },
  {
   "cell_type": "code",
   "execution_count": 98,
   "id": "7af1cd7a-d025-451d-92c0-fbbb13753317",
   "metadata": {},
   "outputs": [],
   "source": [
    "fa = fitsio.read('/global/cfs/cdirs/desi/target/fiberassign/tiles/trunk/'+ts[:3]+'/fiberassign-'+ts+'.fits.gz')"
   ]
  },
  {
   "cell_type": "code",
   "execution_count": 100,
   "id": "9651777b-78d6-4624-a1de-00cf15645fe6",
   "metadata": {},
   "outputs": [],
   "source": [
    "outdir = '/global/cfs/cdirs/desi/survey/catalogs/testfiberassign/SV3rerun/'"
   ]
  },
  {
   "cell_type": "code",
   "execution_count": 101,
   "id": "fc1cde47-72c3-48c2-879c-b8dae7f05825",
   "metadata": {},
   "outputs": [],
   "source": [
    "fn = fitsio.read(outdir+'fba-'+ts+'.fits')"
   ]
  },
  {
   "cell_type": "code",
   "execution_count": 102,
   "id": "8cb4c8de-e47a-425b-af46-116855759025",
   "metadata": {},
   "outputs": [
    {
     "data": {
      "text/plain": [
       "5020"
      ]
     },
     "execution_count": 102,
     "metadata": {},
     "output_type": "execute_result"
    }
   ],
   "source": [
    "len(fn)"
   ]
  },
  {
   "cell_type": "code",
   "execution_count": 95,
   "id": "0f7e5eac-fe7d-4fc3-af7a-017b8d6117b7",
   "metadata": {},
   "outputs": [
    {
     "data": {
      "text/plain": [
       "5000"
      ]
     },
     "execution_count": 95,
     "metadata": {},
     "output_type": "execute_result"
    }
   ],
   "source": [
    "len(fa)"
   ]
  },
  {
   "cell_type": "code",
   "execution_count": 207,
   "id": "abc93a0b-9575-49b3-adba-8bbed4249131",
   "metadata": {},
   "outputs": [
    {
     "data": {
      "text/plain": [
       "('FIBER',\n",
       " 'TARGETID',\n",
       " 'LOCATION',\n",
       " 'FIBERSTATUS',\n",
       " 'LAMBDA_REF',\n",
       " 'PETAL_LOC',\n",
       " 'DEVICE_LOC',\n",
       " 'DEVICE_TYPE',\n",
       " 'TARGET_RA',\n",
       " 'TARGET_DEC',\n",
       " 'FA_TARGET',\n",
       " 'FA_TYPE',\n",
       " 'FIBERASSIGN_X',\n",
       " 'FIBERASSIGN_Y')"
      ]
     },
     "execution_count": 207,
     "metadata": {},
     "output_type": "execute_result"
    }
   ],
   "source": [
    "fn.dtype.names"
   ]
  },
  {
   "cell_type": "code",
   "execution_count": 103,
   "id": "30147070-c65c-4a01-ac8e-0ab66bff692d",
   "metadata": {},
   "outputs": [
    {
     "data": {
      "text/plain": [
       "(array(['POS'], dtype='<U3'), array([5000]))"
      ]
     },
     "execution_count": 103,
     "metadata": {},
     "output_type": "execute_result"
    }
   ],
   "source": [
    "w = fn['DEVICE_TYPE'] == 'POS'\n",
    "fn = fn[w]\n",
    "np.unique(fn['DEVICE_TYPE'],return_counts=True)"
   ]
  },
  {
   "cell_type": "code",
   "execution_count": 211,
   "id": "6d88320f-9273-4c57-9507-e8d94e070061",
   "metadata": {},
   "outputs": [
    {
     "data": {
      "text/plain": [
       "(array([              65537,              262148,              327685,\n",
       "                     655394,              720931,              917542,\n",
       "                     983079,             1179714,             1245251,\n",
       "                    1441862,             2162697,             2424845,\n",
       "                 4294967296,          8589934592,         42949672960,\n",
       "        1152921504606912513, 1152921504607109124, 1152921504609009673,\n",
       "        1152921504610189387, 2305843009213956100, 2305843017803628544,\n",
       "        2305843026393563136, 2305843052163366912, 4611686018427453441,\n",
       "        4611686018427650052, 4611686018427715589, 4611686018428305446,\n",
       "        4611686018428567618, 4611686018428829766, 4611686018428895303,\n",
       "        4611686018429550601, 4611686018429812749, 4611686018430992463,\n",
       "        5764607523034497028, 6917529027641344004, 6917529044820951040,\n",
       "        6917529044821213188, 6917529070590754816, 8070450532248190980]),\n",
       " array([ 420,  433,    1,    3,    1,    9,    1,  755,    1,  296, 1163,\n",
       "           3,  401,    1,    2,   67,    2,  152,    1,   14,   34,    2,\n",
       "          56,    2,  296,    6,    9,    2,  268,    2,    3,    9,    2,\n",
       "           2,   19,    2,    2,    1,    1]))"
      ]
     },
     "execution_count": 211,
     "metadata": {},
     "output_type": "execute_result"
    }
   ],
   "source": [
    "np.unique(fn['FA_TARGET'],return_counts=True)"
   ]
  },
  {
   "cell_type": "code",
   "execution_count": 212,
   "id": "2ce3f896-380a-4190-b120-734e11183603",
   "metadata": {},
   "outputs": [
    {
     "data": {
      "text/plain": [
       "(array([              65537,              262148,              327685,\n",
       "                     655394,              917542,             1179714,\n",
       "                    1245251,             1441862,             2162697,\n",
       "                    2424845,          4294967296,          8589934592,\n",
       "                42949672960, 1152921504606912513, 1152921504607109124,\n",
       "        1152921504609009673, 1152921504610189387, 2305843009213956100,\n",
       "        2305843017803628544, 2305843026393563136, 2305843052163366912,\n",
       "        4611686018427453441, 4611686018427650052, 4611686018427715589,\n",
       "        4611686018428305446, 4611686018428567618, 4611686018428829766,\n",
       "        4611686018428895303, 4611686018429550601, 4611686018429812749,\n",
       "        4611686018430992463, 5764607523034497028, 6917529027641344004,\n",
       "        6917529044820951040, 6917529044821213188, 6917529070590754816,\n",
       "        8070450532248190980]),\n",
       " array([ 375,  379,    1,    2,    9,  681,    1,  252, 1036,    2,  355,\n",
       "           1,    2,   64,    2,  140,    1,   10,   29,    2,   52,    2,\n",
       "         267,    4,    8,    1,  237,    1,    3,    9,    2,    2,   16,\n",
       "           2,    2,    1,    1]))"
      ]
     },
     "execution_count": 212,
     "metadata": {},
     "output_type": "execute_result"
    }
   ],
   "source": [
    "np.unique(fa['FA_TARGET'],return_counts=True)"
   ]
  },
  {
   "cell_type": "code",
   "execution_count": 104,
   "id": "b701daaf-c18d-4abb-be16-0f29f93ff74d",
   "metadata": {},
   "outputs": [
    {
     "name": "stdout",
     "output_type": "stream",
     "text": [
      "4110\n"
     ]
    }
   ],
   "source": [
    "wn = fn['TARGETID'] >= 0\n",
    "fn = fn[wn]\n",
    "print(len(fn))"
   ]
  },
  {
   "cell_type": "code",
   "execution_count": 105,
   "id": "8b0dedd5-d2a5-4b65-9c84-f5f85e99f565",
   "metadata": {},
   "outputs": [
    {
     "name": "stdout",
     "output_type": "stream",
     "text": [
      "4110\n"
     ]
    }
   ],
   "source": [
    "wa = fa['TARGETID'] >= 0\n",
    "fa = fa[wa]\n",
    "print(len(fa))"
   ]
  },
  {
   "cell_type": "code",
   "execution_count": 106,
   "id": "9fb7ccf9-59e1-483c-bdb4-f01ec6c2fb20",
   "metadata": {},
   "outputs": [
    {
     "name": "stdout",
     "output_type": "stream",
     "text": [
      "2859\n"
     ]
    }
   ],
   "source": [
    "ws = np.isin(fn['TARGETID'],fa['TARGETID'])\n",
    "print(np.sum(ws))"
   ]
  },
  {
   "cell_type": "code",
   "execution_count": 203,
   "id": "3d960bc3-e02e-4dc4-a4a2-0890cbfb036c",
   "metadata": {},
   "outputs": [
    {
     "data": {
      "text/plain": [
       "(array([0, 8], dtype=int32), array([454,  36]))"
      ]
     },
     "execution_count": 203,
     "metadata": {},
     "output_type": "execute_result"
    }
   ],
   "source": [
    "fno = fn[~ws]\n",
    "np.unique(fno['FIBERSTATUS'],return_counts=True)"
   ]
  },
  {
   "cell_type": "code",
   "execution_count": 205,
   "id": "5fd18515-8f9a-4a47-a5f8-9b5f1aa9ce66",
   "metadata": {},
   "outputs": [
    {
     "data": {
      "text/plain": [
       "(array([0, 8], dtype=int32), array([3674,  280]))"
      ]
     },
     "execution_count": 205,
     "metadata": {},
     "output_type": "execute_result"
    }
   ],
   "source": [
    "np.unique(fa['FIBERSTATUS'],return_counts=True)"
   ]
  },
  {
   "cell_type": "code",
   "execution_count": 38,
   "id": "d8463c99-b78f-42e7-9d39-8706d67fe596",
   "metadata": {},
   "outputs": [
    {
     "ename": "NameError",
     "evalue": "name 'f' is not defined",
     "output_type": "error",
     "traceback": [
      "\u001b[0;31m---------------------------------------------------------------------------\u001b[0m",
      "\u001b[0;31mNameError\u001b[0m                                 Traceback (most recent call last)",
      "\u001b[0;32m<ipython-input-38-cb76dabdc6b7>\u001b[0m in \u001b[0;36m<module>\u001b[0;34m\u001b[0m\n\u001b[0;32m----> 1\u001b[0;31m \u001b[0mwf\u001b[0m \u001b[0;34m=\u001b[0m \u001b[0mnp\u001b[0m\u001b[0;34m.\u001b[0m\u001b[0misin\u001b[0m\u001b[0;34m(\u001b[0m\u001b[0mfn\u001b[0m\u001b[0;34m[\u001b[0m\u001b[0;34m'TARGETID'\u001b[0m\u001b[0;34m]\u001b[0m\u001b[0;34m,\u001b[0m\u001b[0mf\u001b[0m\u001b[0;34m[\u001b[0m\u001b[0;34m'TARGETID'\u001b[0m\u001b[0;34m]\u001b[0m\u001b[0;34m)\u001b[0m\u001b[0;34m\u001b[0m\u001b[0;34m\u001b[0m\u001b[0m\n\u001b[0m\u001b[1;32m      2\u001b[0m \u001b[0mprint\u001b[0m\u001b[0;34m(\u001b[0m\u001b[0mnp\u001b[0m\u001b[0;34m.\u001b[0m\u001b[0msum\u001b[0m\u001b[0;34m(\u001b[0m\u001b[0mwf\u001b[0m\u001b[0;34m)\u001b[0m\u001b[0;34m)\u001b[0m\u001b[0;34m\u001b[0m\u001b[0;34m\u001b[0m\u001b[0m\n",
      "\u001b[0;31mNameError\u001b[0m: name 'f' is not defined"
     ]
    }
   ],
   "source": [
    "wf = np.isin(fn['TARGETID'],f['TARGETID'])\n",
    "print(np.sum(wf))"
   ]
  },
  {
   "cell_type": "code",
   "execution_count": 192,
   "id": "1e38c189-9fd5-410e-9f90-bad93c6e9dbe",
   "metadata": {},
   "outputs": [
    {
     "data": {
      "text/plain": [
       "(array(['SKY'], dtype='<U3'), array([355]))"
      ]
     },
     "execution_count": 192,
     "metadata": {},
     "output_type": "execute_result"
    }
   ],
   "source": [
    "np.unique(fa[~wf]['OBJTYPE'],return_counts=True)"
   ]
  },
  {
   "cell_type": "code",
   "execution_count": 156,
   "id": "654c634b-83d9-4de1-b7a7-4373875688ea",
   "metadata": {},
   "outputs": [
    {
     "name": "stdout",
     "output_type": "stream",
     "text": [
      "4053\n"
     ]
    }
   ],
   "source": [
    "wc = np.isin(fn['TARGETID'],f['TARGETID'])\n",
    "print(np.sum(wc))"
   ]
  },
  {
   "cell_type": "code",
   "execution_count": 162,
   "id": "ef5a350e-7258-43a3-9bb8-6728e5f7399c",
   "metadata": {},
   "outputs": [
    {
     "data": {
      "text/plain": [
       "462"
      ]
     },
     "execution_count": 162,
     "metadata": {},
     "output_type": "execute_result"
    }
   ],
   "source": [
    "4053-3591"
   ]
  },
  {
   "cell_type": "code",
   "execution_count": 198,
   "id": "e5d0ec9d-33e6-4509-8c8b-b22b13853318",
   "metadata": {},
   "outputs": [
    {
     "data": {
      "text/plain": [
       "[<matplotlib.lines.Line2D at 0x2aaadbb66100>]"
      ]
     },
     "execution_count": 198,
     "metadata": {},
     "output_type": "execute_result"
    },
    {
     "data": {
      "image/png": "[encoded data removed]",
      "text/plain": [
       "<Figure size 432x288 with 1 Axes>"
      ]
     },
     "metadata": {
      "needs_background": "light"
     },
     "output_type": "display_data"
    }
   ],
   "source": [
    "from matplotlib import pyplot as plt\n",
    "plt.plot(fa['TARGET_RA'],fa['TARGET_DEC'],'k.')"
   ]
  },
  {
   "cell_type": "code",
   "execution_count": 196,
   "id": "ac46d073-b772-457c-8a94-0efe14cb02c8",
   "metadata": {},
   "outputs": [
    {
     "data": {
      "text/plain": [
       "('TARGETID',\n",
       " 'PETAL_LOC',\n",
       " 'DEVICE_LOC',\n",
       " 'LOCATION',\n",
       " 'FIBER',\n",
       " 'FIBERSTATUS',\n",
       " 'TARGET_RA',\n",
       " 'TARGET_DEC',\n",
       " 'PMRA',\n",
       " 'PMDEC',\n",
       " 'REF_EPOCH',\n",
       " 'LAMBDA_REF',\n",
       " 'FA_TARGET',\n",
       " 'FA_TYPE',\n",
       " 'OBJTYPE',\n",
       " 'FIBERASSIGN_X',\n",
       " 'FIBERASSIGN_Y',\n",
       " 'PRIORITY',\n",
       " 'SUBPRIORITY',\n",
       " 'OBSCONDITIONS',\n",
       " 'RELEASE',\n",
       " 'BRICKID',\n",
       " 'BRICK_OBJID',\n",
       " 'MORPHTYPE',\n",
       " 'FLUX_G',\n",
       " 'FLUX_R',\n",
       " 'FLUX_Z',\n",
       " 'FLUX_IVAR_G',\n",
       " 'FLUX_IVAR_R',\n",
       " 'FLUX_IVAR_Z',\n",
       " 'MASKBITS',\n",
       " 'REF_ID',\n",
       " 'REF_CAT',\n",
       " 'GAIA_PHOT_G_MEAN_MAG',\n",
       " 'GAIA_PHOT_BP_MEAN_MAG',\n",
       " 'GAIA_PHOT_RP_MEAN_MAG',\n",
       " 'PARALLAX',\n",
       " 'BRICKNAME',\n",
       " 'EBV',\n",
       " 'FLUX_W1',\n",
       " 'FLUX_W2',\n",
       " 'FLUX_IVAR_W1',\n",
       " 'FLUX_IVAR_W2',\n",
       " 'FIBERFLUX_G',\n",
       " 'FIBERFLUX_R',\n",
       " 'FIBERFLUX_Z',\n",
       " 'FIBERTOTFLUX_G',\n",
       " 'FIBERTOTFLUX_R',\n",
       " 'FIBERTOTFLUX_Z',\n",
       " 'SERSIC',\n",
       " 'SHAPE_R',\n",
       " 'SHAPE_E1',\n",
       " 'SHAPE_E2',\n",
       " 'PHOTSYS',\n",
       " 'PRIORITY_INIT',\n",
       " 'NUMOBS_INIT',\n",
       " 'SV3_DESI_TARGET',\n",
       " 'SV3_BGS_TARGET',\n",
       " 'SV3_MWS_TARGET',\n",
       " 'SV3_SCND_TARGET',\n",
       " 'DESI_TARGET',\n",
       " 'BGS_TARGET',\n",
       " 'MWS_TARGET')"
      ]
     },
     "execution_count": 196,
     "metadata": {},
     "output_type": "execute_result"
    }
   ],
   "source": [
    "fa.dtype.names"
   ]
  },
  {
   "cell_type": "code",
   "execution_count": 213,
   "id": "fbda35e2-ffbc-4164-8341-4b4debd591fa",
   "metadata": {},
   "outputs": [],
   "source": [
    "fba = fitsio.read('/global/cfs/cdirs/desi/survey/fiberassign/SV3/20210405/fba-000001.fits')"
   ]
  },
  {
   "cell_type": "code",
   "execution_count": 214,
   "id": "d174d684-f854-4c9b-a273-df68a4b85597",
   "metadata": {},
   "outputs": [
    {
     "data": {
      "text/plain": [
       "5020"
      ]
     },
     "execution_count": 214,
     "metadata": {},
     "output_type": "execute_result"
    }
   ],
   "source": [
    "len(fba)"
   ]
  },
  {
   "cell_type": "code",
   "execution_count": 216,
   "id": "d95b111d-2bcf-48f5-a079-805cd78937fa",
   "metadata": {},
   "outputs": [
    {
     "name": "stdout",
     "output_type": "stream",
     "text": [
      "4444\n"
     ]
    }
   ],
   "source": [
    "w = fba['DEVICE_TYPE'] == 'POS'\n",
    "w &= fba['TARGETID'] > 0\n",
    "print(len(fba[w]))"
   ]
  },
  {
   "cell_type": "code",
   "execution_count": 217,
   "id": "8c7a6005-1b38-4f90-b948-de6725505809",
   "metadata": {},
   "outputs": [
    {
     "name": "stdout",
     "output_type": "stream",
     "text": [
      "4444\n"
     ]
    }
   ],
   "source": [
    "ws = np.isin(fn['TARGETID'],fba[w]['TARGETID'])\n",
    "print(np.sum(ws))"
   ]
  },
  {
   "cell_type": "code",
   "execution_count": 220,
   "id": "a1cdf49b-edb3-4e0a-a9a3-b69871108771",
   "metadata": {},
   "outputs": [],
   "source": [
    "fa = fitsio.read('/global/cfs/cdirs/desi/survey/fiberassign/SV3/20210405/fiberassign-000001.fits.gz')"
   ]
  },
  {
   "cell_type": "code",
   "execution_count": 221,
   "id": "58d6408d-2b40-421f-9f87-3e76dc048217",
   "metadata": {},
   "outputs": [
    {
     "name": "stdout",
     "output_type": "stream",
     "text": [
      "4444\n"
     ]
    }
   ],
   "source": [
    "ws = np.isin(fa['TARGETID'],fba[w]['TARGETID'])\n",
    "print(np.sum(ws))"
   ]
  },
  {
   "cell_type": "code",
   "execution_count": 222,
   "id": "576b33ea-4e54-46bd-94b3-c7586d0f84bd",
   "metadata": {},
   "outputs": [],
   "source": [
    "fa = fitsio.read('/global/cfs/cdirs/desi/target/fiberassign/tiles/trunk/'+ts[:3]+'/fiberassign-'+ts+'.fits.gz')"
   ]
  },
  {
   "cell_type": "code",
   "execution_count": 223,
   "id": "146bb95a-a602-4fa6-9099-b5de48a6c590",
   "metadata": {},
   "outputs": [
    {
     "name": "stdout",
     "output_type": "stream",
     "text": [
      "4444\n"
     ]
    }
   ],
   "source": [
    "ws = np.isin(fa['TARGETID'],fba[w]['TARGETID'])\n",
    "print(np.sum(ws))"
   ]
  },
  {
   "cell_type": "code",
   "execution_count": null,
   "id": "35df1405-3525-4b86-ba9b-2b0a472001f4",
   "metadata": {},
   "outputs": [],
   "source": []
  }
 ],
 "metadata": {
  "kernelspec": {
   "display_name": "DESI master",
   "language": "python",
   "name": "desi-master"
  },
  "language_info": {
   "codemirror_mode": {
    "name": "ipython",
    "version": 3
   },
   "file_extension": ".py",
   "mimetype": "text/x-python",
   "name": "python",
   "nbconvert_exporter": "python",
   "pygments_lexer": "ipython3",
   "version": "3.8.3"
  }
 },
 "nbformat": 4,
 "nbformat_minor": 5
}
