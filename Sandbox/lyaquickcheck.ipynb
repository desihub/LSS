{
 "cells": [
  {
   "cell_type": "code",
   "execution_count": 13,
   "id": "7ce72279-3f58-4f54-b196-26c76d66c501",
   "metadata": {},
   "outputs": [],
   "source": [
    "from astropy.table import Table,join\n",
    "import fitsio\n",
    "import numpy as np\n",
    "from matplotlib import pyplot as plt\n",
    "import os,sys"
   ]
  },
  {
   "cell_type": "code",
   "execution_count": 2,
   "id": "41d9662f-40b3-4292-ab74-c44983ef4bdb",
   "metadata": {},
   "outputs": [],
   "source": [
    "from desitarget import targetmask"
   ]
  },
  {
   "cell_type": "code",
   "execution_count": 3,
   "id": "69a4a546-74e1-429b-a792-052bf995439e",
   "metadata": {},
   "outputs": [],
   "source": [
    "fd = fitsio.read('/global/cfs/cdirs/desi/survey/catalogs/main/LSS/datcomb_dark_spec_premtlup.fits')"
   ]
  },
  {
   "cell_type": "code",
   "execution_count": 4,
   "id": "f9836cf1-9f0a-4f91-973c-fb8f500ea761",
   "metadata": {},
   "outputs": [
    {
     "data": {
      "text/plain": [
       "('TARGETID',\n",
       " 'CHI2',\n",
       " 'COEFF',\n",
       " 'Z',\n",
       " 'ZERR',\n",
       " 'ZWARN',\n",
       " 'NPIXELS',\n",
       " 'SPECTYPE',\n",
       " 'SUBTYPE',\n",
       " 'NCOEFF',\n",
       " 'DELTACHI2',\n",
       " 'NUMEXP',\n",
       " 'NUMTILE',\n",
       " 'PETAL_LOC',\n",
       " 'DEVICE_LOC',\n",
       " 'LOCATION',\n",
       " 'FIBER',\n",
       " 'FIBERSTATUS',\n",
       " 'TARGET_RA',\n",
       " 'TARGET_DEC',\n",
       " 'PMRA',\n",
       " 'PMDEC',\n",
       " 'REF_EPOCH',\n",
       " 'LAMBDA_REF',\n",
       " 'FA_TARGET',\n",
       " 'FA_TYPE',\n",
       " 'OBJTYPE',\n",
       " 'FIBERASSIGN_X',\n",
       " 'FIBERASSIGN_Y',\n",
       " 'PRIORITY',\n",
       " 'SUBPRIORITY',\n",
       " 'OBSCONDITIONS',\n",
       " 'RELEASE',\n",
       " 'BRICKID',\n",
       " 'BRICK_OBJID',\n",
       " 'MORPHTYPE',\n",
       " 'FLUX_G',\n",
       " 'FLUX_R',\n",
       " 'FLUX_Z',\n",
       " 'FLUX_IVAR_G',\n",
       " 'FLUX_IVAR_R',\n",
       " 'FLUX_IVAR_Z',\n",
       " 'MASKBITS',\n",
       " 'REF_ID',\n",
       " 'REF_CAT',\n",
       " 'GAIA_PHOT_G_MEAN_MAG',\n",
       " 'GAIA_PHOT_BP_MEAN_MAG',\n",
       " 'GAIA_PHOT_RP_MEAN_MAG',\n",
       " 'PARALLAX',\n",
       " 'BRICKNAME',\n",
       " 'EBV',\n",
       " 'FLUX_W1',\n",
       " 'FLUX_W2',\n",
       " 'FLUX_IVAR_W1',\n",
       " 'FLUX_IVAR_W2',\n",
       " 'FIBERFLUX_G',\n",
       " 'FIBERFLUX_R',\n",
       " 'FIBERFLUX_Z',\n",
       " 'FIBERTOTFLUX_G',\n",
       " 'FIBERTOTFLUX_R',\n",
       " 'FIBERTOTFLUX_Z',\n",
       " 'SERSIC',\n",
       " 'SHAPE_R',\n",
       " 'SHAPE_E1',\n",
       " 'SHAPE_E2',\n",
       " 'PHOTSYS',\n",
       " 'PRIORITY_INIT',\n",
       " 'NUMOBS_INIT',\n",
       " 'DESI_TARGET',\n",
       " 'BGS_TARGET',\n",
       " 'MWS_TARGET',\n",
       " 'SCND_TARGET',\n",
       " 'PLATE_RA',\n",
       " 'PLATE_DEC',\n",
       " 'NUM_ITER',\n",
       " 'FIBER_X',\n",
       " 'FIBER_Y',\n",
       " 'DELTA_X',\n",
       " 'DELTA_Y',\n",
       " 'FIBER_RA',\n",
       " 'FIBER_DEC',\n",
       " 'EXPTIME',\n",
       " 'PSF_TO_FIBER_SPECFLUX',\n",
       " 'NIGHT',\n",
       " 'EXPID',\n",
       " 'MJD',\n",
       " 'TILEID',\n",
       " 'INTEG_COADD_FLUX_B',\n",
       " 'MEDIAN_COADD_FLUX_B',\n",
       " 'MEDIAN_COADD_SNR_B',\n",
       " 'INTEG_COADD_FLUX_R',\n",
       " 'MEDIAN_COADD_FLUX_R',\n",
       " 'MEDIAN_COADD_SNR_R',\n",
       " 'INTEG_COADD_FLUX_Z',\n",
       " 'MEDIAN_COADD_FLUX_Z',\n",
       " 'MEDIAN_COADD_SNR_Z',\n",
       " 'TSNR2_ELG_B',\n",
       " 'TSNR2_LYA_B',\n",
       " 'TSNR2_BGS_B',\n",
       " 'TSNR2_QSO_B',\n",
       " 'TSNR2_LRG_B',\n",
       " 'TSNR2_ELG_R',\n",
       " 'TSNR2_LYA_R',\n",
       " 'TSNR2_BGS_R',\n",
       " 'TSNR2_QSO_R',\n",
       " 'TSNR2_LRG_R',\n",
       " 'TSNR2_ELG_Z',\n",
       " 'TSNR2_LYA_Z',\n",
       " 'TSNR2_BGS_Z',\n",
       " 'TSNR2_QSO_Z',\n",
       " 'TSNR2_LRG_Z',\n",
       " 'TSNR2_ELG',\n",
       " 'TSNR2_LYA',\n",
       " 'TSNR2_BGS',\n",
       " 'TSNR2_QSO',\n",
       " 'TSNR2_LRG',\n",
       " 'Z_QN',\n",
       " 'Z_QN_CONF',\n",
       " 'IS_QSO_QN',\n",
       " 'TSNR2_GPBDARK_B',\n",
       " 'TSNR2_GPBBRIGHT_B',\n",
       " 'TSNR2_GPBBACKUP_B',\n",
       " 'TSNR2_GPBDARK_R',\n",
       " 'TSNR2_GPBBRIGHT_R',\n",
       " 'TSNR2_GPBBACKUP_R',\n",
       " 'TSNR2_GPBDARK_Z',\n",
       " 'TSNR2_GPBBRIGHT_Z',\n",
       " 'TSNR2_GPBBACKUP_Z',\n",
       " 'TSNR2_GPBDARK',\n",
       " 'TSNR2_GPBBRIGHT',\n",
       " 'TSNR2_GPBBACKUP')"
      ]
     },
     "execution_count": 4,
     "metadata": {},
     "output_type": "execute_result"
    }
   ],
   "source": [
    "fd.dtype.names"
   ]
  },
  {
   "cell_type": "code",
   "execution_count": 6,
   "id": "c5262658-cf65-426e-b3ed-0f72446d056b",
   "metadata": {},
   "outputs": [
    {
     "name": "stdout",
     "output_type": "stream",
     "text": [
      "943907\n"
     ]
    }
   ],
   "source": [
    "selgh = (fd['ZWARN'] & 2**9) == 0\n",
    "print(len(fd[selgh]))\n",
    "fgh = fd[selgh]"
   ]
  },
  {
   "cell_type": "code",
   "execution_count": 20,
   "id": "2cbfe6a3-c702-4905-973c-48630431798a",
   "metadata": {},
   "outputs": [
    {
     "name": "stdout",
     "output_type": "stream",
     "text": [
      "58663\n",
      "67943\n"
     ]
    }
   ],
   "source": [
    "selzlya = ((fgh['Z'] > 2.1) & (fgh['SPECTYPE'] == 'QSO'))\n",
    "print(len(fgh[selzlya]))\n",
    "selzlya |= ((fgh['IS_QSO_QN'] == True) & (fgh['Z_QN'] > 2.1))\n",
    "print(len(fgh[selzlya]))"
   ]
  },
  {
   "cell_type": "code",
   "execution_count": 8,
   "id": "c00831c4-6240-4298-8f22-ac18e27ff672",
   "metadata": {},
   "outputs": [],
   "source": [
    "fly = fgh[selzlya]"
   ]
  },
  {
   "cell_type": "code",
   "execution_count": 9,
   "id": "1f0d9253-1baa-4c88-a7b8-c8f61df0665e",
   "metadata": {},
   "outputs": [
    {
     "data": {
      "text/plain": [
       "(array([ 3., 17., 76., 88., 41.,  3.,  0.,  0.,  0.,  2.]),\n",
       " array([0.05112373, 0.05754516, 0.06396659, 0.07038802, 0.07680945,\n",
       "        0.08323088, 0.0896523 , 0.09607373, 0.10249516, 0.10891659,\n",
       "        0.11533802]),\n",
       " <a list of 10 Patch objects>)"
      ]
     },
     "execution_count": 9,
     "metadata": {},
     "output_type": "execute_result"
    },
    {
     "data": {
      "image/png": "[encoded data removed]",
      "text/plain": [
       "<Figure size 432x288 with 1 Axes>"
      ]
     },
     "metadata": {
      "needs_background": "light"
     },
     "output_type": "display_data"
    }
   ],
   "source": [
    "tls = np.unique(fgh['TILEID'])\n",
    "fracly = []\n",
    "for tl in tls:\n",
    "    sel = fgh['TILEID'] == tl\n",
    "    ng = len(fgh[sel])\n",
    "    sel = fly['TILEID'] == tl\n",
    "    nly = len(fly[sel])\n",
    "    fracly.append(nly/ng)\n",
    "plt.hist(fracly)    "
   ]
  },
  {
   "cell_type": "code",
   "execution_count": 10,
   "id": "b2971e28-77a7-431c-87fa-a682b90aff6b",
   "metadata": {},
   "outputs": [],
   "source": [
    "mt = Table.read('/global/cfs/cdirs/desi/survey/ops/surveyops/trunk/ops/tiles-main.ecsv')"
   ]
  },
  {
   "cell_type": "code",
   "execution_count": 11,
   "id": "171bd231-82cb-466d-8695-06d25dc39b3f",
   "metadata": {},
   "outputs": [],
   "source": [
    "mt.keep_columns(['TILEID','RA','DEC'])"
   ]
  },
  {
   "cell_type": "code",
   "execution_count": 15,
   "id": "9106ba9a-6c7f-4544-bc80-85aa519e5b43",
   "metadata": {},
   "outputs": [],
   "source": [
    "tlst = Table()\n",
    "tlst['TILEID'] = tls"
   ]
  },
  {
   "cell_type": "code",
   "execution_count": 16,
   "id": "44e2d20a-397d-471b-9c33-35de82343985",
   "metadata": {},
   "outputs": [],
   "source": [
    "tls = join(tlst,mt,keys=['TILEID'])"
   ]
  },
  {
   "cell_type": "code",
   "execution_count": 23,
   "id": "bbde9ef2-921c-4da3-92ec-40662e657220",
   "metadata": {},
   "outputs": [
    {
     "data": {
      "text/plain": [
       "Text(0.5, 1.0, 'fraction of observations selected for lya follow-up')"
      ]
     },
     "execution_count": 23,
     "metadata": {},
     "output_type": "execute_result"
    },
    {
     "data": {
      "image/png": "[encoded data removed]",
      "text/plain": [
       "<Figure size 432x288 with 2 Axes>"
      ]
     },
     "metadata": {
      "needs_background": "light"
     },
     "output_type": "display_data"
    }
   ],
   "source": [
    "plt.scatter(tls['RA'],tls['DEC'],c=fracly)\n",
    "plt.xlim(330,180)\n",
    "plt.colorbar()\n",
    "plt.title('fraction of observations selected for lya follow-up')"
   ]
  },
  {
   "cell_type": "code",
   "execution_count": 21,
   "id": "fd1807c6-147d-4c65-ab91-874d3cb8d94f",
   "metadata": {},
   "outputs": [],
   "source": [
    "tls['fraclya'] = fracly"
   ]
  },
  {
   "cell_type": "code",
   "execution_count": 22,
   "id": "c65d6329-9bed-420b-af75-91ec9a3b7e09",
   "metadata": {},
   "outputs": [
    {
     "data": {
      "text/html": [
       "<i>Table length=2</i>\n",
       "<table id=\"table46913330054240\" class=\"table-striped table-bordered table-condensed\">\n",
       "<thead><tr><th>TILEID</th><th>RA</th><th>DEC</th><th>fraclya</th></tr></thead>\n",
       "<thead><tr><th>int64</th><th>float64</th><th>float64</th><th>float64</th></tr></thead>\n",
       "<tr><td>1735</td><td>242.718</td><td>39.133</td><td>0.11533801793070027</td></tr>\n",
       "<tr><td>1930</td><td>267.139</td><td>22.932</td><td>0.11506326092146096</td></tr>\n",
       "</table>"
      ],
      "text/plain": [
       "<Table length=2>\n",
       "TILEID    RA      DEC          fraclya      \n",
       "int64  float64  float64        float64      \n",
       "------ -------- -------- -------------------\n",
       "  1735  242.718   39.133 0.11533801793070027\n",
       "  1930  267.139   22.932 0.11506326092146096"
      ]
     },
     "execution_count": 22,
     "metadata": {},
     "output_type": "execute_result"
    }
   ],
   "source": [
    "w = tls['fraclya'] > 0.1\n",
    "tls[w]"
   ]
  },
  {
   "cell_type": "code",
   "execution_count": 24,
   "id": "eaf6179b-3ca2-48e1-827b-387b4f80962a",
   "metadata": {},
   "outputs": [
    {
     "data": {
      "text/plain": [
       "4.8"
      ]
     },
     "execution_count": 24,
     "metadata": {},
     "output_type": "execute_result"
    }
   ],
   "source": [
    "60*.08"
   ]
  },
  {
   "cell_type": "code",
   "execution_count": null,
   "id": "5287bca0-0850-4745-8ba4-deb7504e3c7f",
   "metadata": {},
   "outputs": [],
   "source": []
  }
 ],
 "metadata": {
  "kernelspec": {
   "display_name": "DESI master",
   "language": "python",
   "name": "desi-master"
  },
  "language_info": {
   "codemirror_mode": {
    "name": "ipython",
    "version": 3
   },
   "file_extension": ".py",
   "mimetype": "text/x-python",
   "name": "python",
   "nbconvert_exporter": "python",
   "pygments_lexer": "ipython3",
   "version": "3.8.3"
  }
 },
 "nbformat": 4,
 "nbformat_minor": 5
}
