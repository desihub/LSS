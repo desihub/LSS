{
 "cells": [
  {
   "cell_type": "code",
   "execution_count": 52,
   "id": "6ba2dc40-b246-4b6b-8e59-f88eafee6fdd",
   "metadata": {},
   "outputs": [],
   "source": [
    "import fitsio\n",
    "import numpy as np\n",
    "from matplotlib import pyplot as plt\n",
    "import os\n",
    "import sys\n",
    "from astropy.table import Table,vstack,join,unique"
   ]
  },
  {
   "cell_type": "markdown",
   "id": "32fe3180-5dc8-41f0-bdb7-a2eac10b2d3a",
   "metadata": {},
   "source": [
    "test"
   ]
  },
  {
   "cell_type": "code",
   "execution_count": 58,
   "id": "a97523b5-47b4-40d4-9daf-2913e462ef89",
   "metadata": {},
   "outputs": [],
   "source": [
    "from desitarget.targetmask import zwarn_mask"
   ]
  },
  {
   "cell_type": "code",
   "execution_count": 8,
   "id": "1b16e844-39f4-40a7-bdda-f9255f6d46b6",
   "metadata": {},
   "outputs": [],
   "source": []
  },
  {
   "cell_type": "code",
   "execution_count": 18,
   "id": "4234acc9-a0c1-4ef2-bc45-f0cb3de3f858",
   "metadata": {},
   "outputs": [],
   "source": [
    "sys.path.append('/global/u2/a/ajross/LSS/py')"
   ]
  },
  {
   "cell_type": "code",
   "execution_count": 42,
   "id": "706b9cbf-bac8-4771-9c21-54ec5fc74c04",
   "metadata": {},
   "outputs": [],
   "source": [
    "prog = 'dark'"
   ]
  },
  {
   "cell_type": "code",
   "execution_count": 36,
   "id": "0e9eb663-b21e-4dfe-85a8-dccb31ba05af",
   "metadata": {},
   "outputs": [
    {
     "data": {
      "text/plain": [
       "('TILEID',\n",
       " 'SURVEY',\n",
       " 'FAPRGRM',\n",
       " 'FAFLAVOR',\n",
       " 'NEXP',\n",
       " 'EXPTIME',\n",
       " 'TILERA',\n",
       " 'TILEDEC',\n",
       " 'EFFTIME_ETC',\n",
       " 'EFFTIME_SPEC',\n",
       " 'EFFTIME_GFA',\n",
       " 'GOALTIME',\n",
       " 'OBSSTATUS',\n",
       " 'ZDONE',\n",
       " 'LRG_EFFTIME_DARK',\n",
       " 'ELG_EFFTIME_DARK',\n",
       " 'BGS_EFFTIME_BRIGHT',\n",
       " 'LYA_EFFTIME_DARK',\n",
       " 'GOALTYPE',\n",
       " 'MINTFRAC',\n",
       " 'LASTNIGHT',\n",
       " 'QA',\n",
       " 'USER',\n",
       " 'OVERRIDE',\n",
       " 'QANIGHT',\n",
       " 'ARCHIVEDATE')"
      ]
     },
     "execution_count": 36,
     "metadata": {},
     "output_type": "execute_result"
    }
   ],
   "source": [
    "mt.dtype.names"
   ]
  },
  {
   "cell_type": "code",
   "execution_count": 43,
   "id": "bbc35601-74af-4a6a-9361-915b8614f0eb",
   "metadata": {},
   "outputs": [],
   "source": [
    "mt = Table.read('/global/cfs/cdirs/desi/survey/ops/surveyops/trunk/ops/tiles-specstatus.ecsv')\n",
    "wd = mt['SURVEY'] == 'main'\n",
    "#wd &= mt['ZDONE'] == 'true'\n",
    "wd &= mt['OBSSTATUS'] == 'obsend'\n",
    "wd &= mt['FAPRGRM'] == prog\n",
    "mtd = mt[wd]\n",
    "\n",
    "tiles4comb = Table()\n",
    "tiles4comb['TILEID'] = mtd['TILEID']\n",
    "#tiles4comb['ZDATE'] = mtd['LASTNIGHT']\n",
    "tiles4comb['ZDATE'] = mtd['ARCHIVEDATE']\n",
    "tiles4comb['THRUDATE'] = mtd['LASTNIGHT']"
   ]
  },
  {
   "cell_type": "code",
   "execution_count": 44,
   "id": "2fbe1046-d86e-43c2-a518-a5d3db53a57a",
   "metadata": {},
   "outputs": [
    {
     "name": "stdout",
     "output_type": "stream",
     "text": [
      "29\n"
     ]
    }
   ],
   "source": [
    "tdates = [20211211,20211215]\n",
    "sel = np.isin(tiles4comb['THRUDATE'],tdates)\n",
    "print(len(tiles4comb[sel]))"
   ]
  },
  {
   "cell_type": "code",
   "execution_count": 53,
   "id": "11b7cc43-31b2-48d8-9a94-865656a4cc0c",
   "metadata": {},
   "outputs": [
    {
     "name": "stdout",
     "output_type": "stream",
     "text": [
      "spectrographs with data on tile 1262:\n",
      "[0, 1, 2, 3, 4, 5, 6, 7, 8, 9]\n",
      "5000 5000\n",
      "1262 1 29 4282\n",
      "spectrographs with data on tile 2431:\n",
      "[0, 1, 2, 3, 4, 5, 6, 7, 8, 9]\n",
      "5000 5000\n",
      "2431 2 29 8563\n",
      "spectrographs with data on tile 2443:\n",
      "[0, 1, 2, 3, 4, 5, 6, 7, 8, 9]\n",
      "5000 5000\n",
      "2443 3 29 12844\n",
      "spectrographs with data on tile 2445:\n",
      "[0, 1, 2, 3, 4, 5, 6, 7, 8, 9]\n",
      "5000 5000\n",
      "2445 4 29 17125\n",
      "spectrographs with data on tile 2519:\n",
      "[0, 1, 2, 3, 4, 5, 6, 7, 8, 9]\n",
      "5000 5000\n",
      "2519 5 29 21406\n",
      "spectrographs with data on tile 2542:\n",
      "[0, 1, 2, 3, 4, 5, 6, 7, 8, 9]\n",
      "5000 5000\n",
      "2542 6 29 25687\n",
      "spectrographs with data on tile 4137:\n",
      "[0, 1, 2, 3, 4, 5, 6, 7, 8, 9]\n",
      "5000 5000\n",
      "4137 7 29 29968\n",
      "spectrographs with data on tile 4450:\n",
      "[0, 1, 2, 3, 4, 5, 6, 7, 8, 9]\n",
      "5000 5000\n",
      "4450 8 29 34249\n",
      "spectrographs with data on tile 5606:\n",
      "[0, 1, 2, 3, 4, 5, 6, 7, 8, 9]\n",
      "5000 5000\n",
      "5606 9 29 38530\n",
      "spectrographs with data on tile 7009:\n",
      "[0, 1, 2, 3, 4, 5, 6, 7, 8, 9]\n",
      "5000 5000\n",
      "7009 10 29 42810\n",
      "spectrographs with data on tile 7210:\n",
      "[0, 1, 2, 3, 4, 5, 6, 7, 8, 9]\n",
      "5000 5000\n",
      "7210 11 29 47091\n",
      "spectrographs with data on tile 7220:\n",
      "[0, 1, 2, 3, 4, 5, 6, 7, 8, 9]\n",
      "5000 5000\n",
      "7220 12 29 51372\n",
      "spectrographs with data on tile 7242:\n",
      "[0, 1, 2, 3, 4, 5, 6, 7, 8, 9]\n",
      "5000 5000\n",
      "7242 13 29 55653\n",
      "spectrographs with data on tile 7250:\n",
      "[0, 1, 2, 3, 4, 5, 6, 7, 8, 9]\n",
      "5000 5000\n",
      "7250 14 29 59934\n",
      "spectrographs with data on tile 7261:\n",
      "[0, 1, 2, 3, 4, 5, 6, 7, 8, 9]\n",
      "5000 5000\n",
      "7261 15 29 64215\n",
      "spectrographs with data on tile 7525:\n",
      "[0, 1, 2, 3, 4, 5, 6, 7, 8, 9]\n",
      "5000 5000\n",
      "7525 16 29 68497\n",
      "spectrographs with data on tile 7697:\n",
      "[0, 1, 2, 3, 4, 5, 6, 7, 8, 9]\n",
      "5000 5000\n",
      "7697 17 29 72778\n",
      "spectrographs with data on tile 7733:\n",
      "[0, 1, 2, 3, 4, 5, 6, 7, 8, 9]\n",
      "5000 5000\n",
      "7733 18 29 77059\n",
      "spectrographs with data on tile 8679:\n",
      "[0, 1, 2, 3, 4, 5, 6, 7, 8, 9]\n",
      "5000 5000\n",
      "8679 19 29 81340\n",
      "spectrographs with data on tile 8780:\n",
      "[0, 1, 2, 3, 4, 5, 6, 7, 8, 9]\n",
      "5000 5000\n",
      "8780 20 29 85621\n",
      "spectrographs with data on tile 8790:\n",
      "[0, 1, 2, 3, 4, 5, 6, 7, 8, 9]\n",
      "5000 5000\n",
      "8790 21 29 89902\n",
      "spectrographs with data on tile 8814:\n",
      "[0, 1, 2, 3, 4, 5, 6, 7, 8, 9]\n",
      "5000 5000\n",
      "8814 22 29 94183\n",
      "spectrographs with data on tile 9076:\n",
      "[0, 1, 2, 3, 4, 5, 6, 7, 8, 9]\n",
      "5000 5000\n",
      "9076 23 29 98464\n",
      "spectrographs with data on tile 9296:\n",
      "[0, 1, 2, 3, 4, 5, 6, 7, 8, 9]\n",
      "5000 5000\n",
      "9296 24 29 102745\n",
      "spectrographs with data on tile 9963:\n",
      "[0, 1, 2, 3, 4, 5, 6, 7, 8, 9]\n",
      "5000 5000\n",
      "9963 25 29 107026\n",
      "spectrographs with data on tile 10366:\n",
      "[0, 1, 2, 3, 4, 5, 6, 7, 8, 9]\n",
      "5000 5000\n",
      "10366 26 29 111307\n",
      "spectrographs with data on tile 10379:\n",
      "[0, 1, 2, 3, 4, 5, 6, 7, 8, 9]\n",
      "5000 5000\n",
      "10379 27 29 115588\n",
      "spectrographs with data on tile 10851:\n",
      "[0, 1, 2, 3, 4, 5, 6, 7, 8, 9]\n",
      "5000 5000\n",
      "10851 28 29 119869\n",
      "spectrographs with data on tile 10974:\n",
      "[0, 1, 2, 3, 4, 5, 6, 7, 8, 9]\n",
      "5000 5000\n",
      "10974 29 29 124150\n"
     ]
    }
   ],
   "source": [
    "tiles = tiles4comb[sel]\n",
    "s = 0\n",
    "n = 0\n",
    "nfail = 0\n",
    "\n",
    "for tile,tdate in zip(tiles['TILEID'],tiles['THRUDATE']):\n",
    "    tdate = str(tdate)\n",
    "    tspec = combspecdata_simp(tile,tdate)\n",
    "    if tspec:\n",
    "        tspec['TILEID'] = tile\n",
    "        if s == 0:\n",
    "            specd = tspec\n",
    "            s = 1\n",
    "        else:\n",
    "            specd = vstack([specd,tspec],metadata_conflicts='silent')\n",
    "        specd.sort('TARGETID')\n",
    "        kp = (specd['TARGETID'] > 0)\n",
    "        specd = specd[kp]\n",
    "\n",
    "        n += 1\n",
    "        print(tile,n,len(tiles),len(specd)) \n",
    "    else:\n",
    "            print(str(tile)+' failed')\n",
    "            nfail += 1  \n",
    "specdfid = np.copy(specd)"
   ]
  },
  {
   "cell_type": "markdown",
   "id": "50523d3f-513c-4fd8-afb8-261f12e124a1",
   "metadata": {},
   "source": [
    "test"
   ]
  },
  {
   "cell_type": "code",
   "execution_count": 50,
   "id": "1b1f6b9b-ff8b-4965-97c9-2d7520c6f224",
   "metadata": {},
   "outputs": [],
   "source": [
    "def combspecdata_simp(tile,tdate,coaddir='/global/cfs/cdirs/desi/spectro/redux/daily/tiles/cumulative/',md='' ):\n",
    "    #put data from different spectrographs together, one table for fibermap, other for z\n",
    "    tdate = str(tdate)\n",
    "    specs = []\n",
    "    #find out which spectrograph have data\n",
    "    zfn = 'zbest'\n",
    "    zhdu = 'ZBEST'\n",
    "    shdu = 'SCORES'\n",
    "    if int(tdate) >  20210730:\n",
    "        zfn = 'redrock'\n",
    "        zhdu = 'REDSHIFTS'\n",
    "        #shdu = 'TSNR2' \n",
    "        \n",
    "\n",
    "    for si in range(0,10):\n",
    "        ff = coaddir+str(tile)+'/'+tdate+'/'+zfn+'-'+str(si)+'-'+str(tile)+'-thru'+tdate+'.fits'\n",
    "        if os.path.isfile(ff):\n",
    "            fq = coaddir+str(tile)+'/'+tdate+'/zmtl-'+str(si)+'-'+str(tile)+'-thru'+tdate+'.fits'\n",
    "            if os.path.isfile(fq):\n",
    "\n",
    "                specs.append(si)\n",
    "            else:\n",
    "                print('did not find '+fq)    \n",
    "        elif zfn == 'zbest':\n",
    "            zfnt = 'redrock'\n",
    "            ff = coaddir+str(tile)+'/'+tdate+'/'+zfnt+'-'+str(si)+'-'+str(tile)+'-thru'+tdate+'.fits'\n",
    "            if os.path.isfile(ff):\n",
    "                fq = coaddir+str(tile)+'/'+tdate+'/zmtl-'+str(si)+'-'+str(tile)+'-thru'+tdate+'.fits'\n",
    "                zfn = zfnt\n",
    "                zhdu = 'REDSHIFTS'\n",
    "                if os.path.isfile(fq):\n",
    "\n",
    "                    specs.append(si)\n",
    "                else:\n",
    "                    print('did not find '+fq)    \n",
    "            else:\n",
    "                print('did not find '+ff)            \n",
    "        else:\n",
    "            print('did not find '+ff)        \n",
    "    print('spectrographs with data on tile '+str(tile)+':')\n",
    "    print(specs)            \n",
    "    if len(specs) == 0:\n",
    "        return None\n",
    "    for i in range(0,len(specs)):\n",
    "        tn = Table.read(coaddir+str(tile)+'/'+tdate+'/'+zfn+'-'+str(specs[i])+'-'+str(tile)+'-thru'+tdate+'.fits',hdu=zhdu)\n",
    "        tnq = Table.read(coaddir+str(tile)+'/'+tdate+'/zmtl-'+str(specs[i])+'-'+str(tile)+'-thru'+tdate+'.fits')\n",
    "        tnf = Table.read(coaddir+str(tile)+'/'+tdate+'/'+zfn+'-'+str(specs[i])+'-'+str(tile)+'-thru'+tdate+'.fits',hdu='FIBERMAP')\n",
    "        tns = Table.read(coaddir+str(tile)+'/'+tdate+'/coadd-'+str(specs[i])+'-'+str(tile)+'-thru'+tdate+'.fits',hdu=shdu)\n",
    "    \n",
    "        if i == 0:\n",
    "           tspec = tn\n",
    "           tq = tnq\n",
    "           tf = tnf\n",
    "           ts = tns\n",
    "        else:    \n",
    "            ts = vstack([ts,tns],metadata_conflicts='silent')\n",
    "            tq = vstack([tq,tnq],metadata_conflicts='silent')\n",
    "            tspec = vstack([tspec,tn],metadata_conflicts='silent')\n",
    "            tf = vstack([tf,tnf],metadata_conflicts='silent')\n",
    "        \n",
    "    \n",
    "    tf = unique(tf,keys=['TARGETID'])\n",
    "    tq.keep_columns(['TARGETID','Z_QN','Z_QN_CONF','IS_QSO_QN','ZWARN'])\n",
    "    tq['ZWARN'].name = 'ZWARN_MTL'\n",
    "    tspec = join(tspec,tf,keys=['TARGETID'],join_type='left',metadata_conflicts='silent')\n",
    "    tspec = join(tspec,ts,keys=['TARGETID'],join_type='left',metadata_conflicts='silent')\n",
    "    tspec = join(tspec,tq,keys=['TARGETID'],join_type='left',metadata_conflicts='silent')\n",
    "\n",
    "    print(len(tspec),len(tf))\n",
    "    #tspec['LOCATION'] = tf['LOCATION']\n",
    "    #tspec['FIBERSTATUS'] = tf['FIBERSTATUS']\n",
    "    #tspec['PRIORITY'] = tf['PRIORITY']\n",
    "    return tspec\n"
   ]
  },
  {
   "cell_type": "code",
   "execution_count": 54,
   "id": "6a337959-c747-48e4-a681-858daeb55834",
   "metadata": {},
   "outputs": [
    {
     "name": "stdout",
     "output_type": "stream",
     "text": [
      "124150\n"
     ]
    }
   ],
   "source": [
    "print(len(specdfid))"
   ]
  },
  {
   "cell_type": "code",
   "execution_count": 57,
   "id": "23522c76-6f2e-44bd-8f87-c0fbb06b5152",
   "metadata": {},
   "outputs": [
    {
     "name": "stdout",
     "output_type": "stream",
     "text": [
      "spectrographs with data on tile 1262:\n",
      "[0, 1, 2, 3, 4, 5, 6, 7, 8, 9]\n",
      "5000 5000\n",
      "1262 1 29 4282\n",
      "spectrographs with data on tile 2431:\n",
      "[0, 1, 2, 3, 4, 5, 6, 7, 8, 9]\n",
      "5000 5000\n",
      "2431 2 29 8563\n",
      "spectrographs with data on tile 2443:\n",
      "[0, 1, 2, 3, 4, 5, 6, 7, 8, 9]\n",
      "5000 5000\n",
      "2443 3 29 12844\n",
      "spectrographs with data on tile 2445:\n",
      "[0, 1, 2, 3, 4, 5, 6, 7, 8, 9]\n",
      "5000 5000\n",
      "2445 4 29 17125\n",
      "spectrographs with data on tile 2519:\n",
      "[0, 1, 2, 3, 4, 5, 6, 7, 8, 9]\n",
      "5000 5000\n",
      "2519 5 29 21406\n",
      "spectrographs with data on tile 2542:\n",
      "[0, 1, 2, 3, 4, 5, 6, 7, 8, 9]\n",
      "5000 5000\n",
      "2542 6 29 25687\n",
      "spectrographs with data on tile 4137:\n",
      "[0, 1, 2, 3, 4, 5, 6, 7, 8, 9]\n",
      "5000 5000\n",
      "4137 7 29 29968\n",
      "spectrographs with data on tile 4450:\n",
      "[0, 1, 2, 3, 4, 5, 6, 7, 8, 9]\n",
      "5000 5000\n",
      "4450 8 29 34249\n",
      "spectrographs with data on tile 5606:\n",
      "[0, 1, 2, 3, 4, 5, 6, 7, 8, 9]\n",
      "5000 5000\n",
      "5606 9 29 38530\n",
      "spectrographs with data on tile 7009:\n",
      "[0, 1, 2, 3, 4, 5, 6, 7, 8, 9]\n",
      "5000 5000\n",
      "7009 10 29 42810\n",
      "spectrographs with data on tile 7210:\n",
      "[0, 1, 2, 3, 4, 5, 6, 7, 8, 9]\n",
      "5000 5000\n",
      "7210 11 29 47091\n",
      "spectrographs with data on tile 7220:\n",
      "[0, 1, 2, 3, 4, 5, 6, 7, 8, 9]\n",
      "5000 5000\n",
      "7220 12 29 51372\n",
      "spectrographs with data on tile 7242:\n",
      "[0, 1, 2, 3, 4, 5, 6, 7, 8, 9]\n",
      "5000 5000\n",
      "7242 13 29 55653\n",
      "spectrographs with data on tile 7250:\n",
      "[0, 1, 2, 3, 4, 5, 6, 7, 8, 9]\n",
      "5000 5000\n",
      "7250 14 29 59934\n",
      "spectrographs with data on tile 7261:\n",
      "[0, 1, 2, 3, 4, 5, 6, 7, 8, 9]\n",
      "5000 5000\n",
      "7261 15 29 64215\n",
      "spectrographs with data on tile 7525:\n",
      "[0, 1, 2, 3, 4, 5, 6, 7, 8, 9]\n",
      "5000 5000\n",
      "7525 16 29 68497\n",
      "spectrographs with data on tile 7697:\n",
      "[0, 1, 2, 3, 4, 5, 6, 7, 8, 9]\n",
      "5000 5000\n",
      "7697 17 29 72778\n",
      "spectrographs with data on tile 7733:\n",
      "[0, 1, 2, 3, 4, 5, 6, 7, 8, 9]\n",
      "5000 5000\n",
      "7733 18 29 77059\n",
      "spectrographs with data on tile 8679:\n",
      "[0, 1, 2, 3, 4, 5, 6, 7, 8, 9]\n",
      "5000 5000\n",
      "8679 19 29 81340\n",
      "spectrographs with data on tile 8780:\n",
      "[0, 1, 2, 3, 4, 5, 6, 7, 8, 9]\n",
      "5000 5000\n",
      "8780 20 29 85621\n",
      "spectrographs with data on tile 8790:\n",
      "[0, 1, 2, 3, 4, 5, 6, 7, 8, 9]\n",
      "5000 5000\n",
      "8790 21 29 89902\n",
      "spectrographs with data on tile 8814:\n",
      "[0, 1, 2, 3, 4, 5, 6, 7, 8, 9]\n",
      "5000 5000\n",
      "8814 22 29 94183\n",
      "spectrographs with data on tile 9076:\n",
      "[0, 1, 2, 3, 4, 5, 6, 7, 8, 9]\n",
      "5000 5000\n",
      "9076 23 29 98464\n",
      "spectrographs with data on tile 9296:\n",
      "[0, 1, 2, 3, 4, 5, 6, 7, 8, 9]\n",
      "5000 5000\n",
      "9296 24 29 102745\n",
      "spectrographs with data on tile 9963:\n",
      "[0, 1, 2, 3, 4, 5, 6, 7, 8, 9]\n",
      "5000 5000\n",
      "9963 25 29 107026\n",
      "spectrographs with data on tile 10366:\n",
      "[0, 1, 2, 3, 4, 5, 6, 7, 8, 9]\n",
      "5000 5000\n",
      "10366 26 29 111307\n",
      "spectrographs with data on tile 10379:\n",
      "[0, 1, 2, 3, 4, 5, 6, 7, 8, 9]\n",
      "5000 5000\n",
      "10379 27 29 115588\n",
      "spectrographs with data on tile 10851:\n",
      "[0, 1, 2, 3, 4, 5, 6, 7, 8, 9]\n",
      "5000 5000\n",
      "10851 28 29 119869\n",
      "spectrographs with data on tile 10974:\n",
      "[0, 1, 2, 3, 4, 5, 6, 7, 8, 9]\n",
      "5000 5000\n",
      "10974 29 29 124150\n"
     ]
    }
   ],
   "source": [
    "s =0\n",
    "n = 0\n",
    "nfail = 0\n",
    "for tile,tdate in zip(tiles['TILEID'],tiles['THRUDATE']):\n",
    "    tdate = str(tdate)\n",
    "    tspec = combspecdata_simp(tile,tdate,'/global/cfs/cdirs/desi/users/sjbailey/spectro/redux/ampbkg/tiles/cumulative/')\n",
    "    if tspec:\n",
    "        tspec['TILEID'] = tile\n",
    "        if s == 0:\n",
    "            specd = tspec\n",
    "            s = 1\n",
    "        else:\n",
    "            specd = vstack([specd,tspec],metadata_conflicts='silent')\n",
    "        specd.sort('TARGETID')\n",
    "        kp = (specd['TARGETID'] > 0)\n",
    "        specd = specd[kp]\n",
    "\n",
    "        n += 1\n",
    "        print(tile,n,len(tiles),len(specd)) \n",
    "    else:\n",
    "            print(str(tile)+' failed')\n",
    "            nfail += 1  \n",
    "specdnew = np.copy(specd)"
   ]
  },
  {
   "cell_type": "code",
   "execution_count": 113,
   "id": "392fc8e0-3d40-4151-824f-074d29d65cfd",
   "metadata": {},
   "outputs": [],
   "source": [
    "def get_goodLRG(dat):            \n",
    "    nodata = dat[\"ZWARN_MTL\"] & zwarn_mask[\"NODATA\"] != 0\n",
    "    num_nod = np.sum(nodata)\n",
    "    print('number with no data '+str(num_nod))\n",
    "    badqa = dat[\"ZWARN_MTL\"] & zwarn_mask.mask(\"BAD_SPECQA|BAD_PETALQA\") != 0\n",
    "    num_badqa = np.sum(badqa)\n",
    "    print('number with bad qa '+str(num_badqa))\n",
    "    nomtl = nodata | badqa\n",
    "    wfqa = ~nomtl\n",
    "    #wfqa &= dat['TSNR2_LRG'] > 50\n",
    "    wlrg = (dat['DESI_TARGET'] & 1) > 0\n",
    "    zlrg = dat[wfqa&wlrg]\n",
    "    return zlrg\n"
   ]
  },
  {
   "cell_type": "code",
   "execution_count": 114,
   "id": "1c374023-6bb2-4174-adfc-36bde7bd6dba",
   "metadata": {},
   "outputs": [
    {
     "name": "stdout",
     "output_type": "stream",
     "text": [
      "number with no data 2844\n",
      "number with bad qa 1049\n"
     ]
    }
   ],
   "source": [
    "lrgfid = get_goodLRG(specdfid)"
   ]
  },
  {
   "cell_type": "code",
   "execution_count": 115,
   "id": "59bfc975-d7af-44a6-942a-4dc76417c525",
   "metadata": {},
   "outputs": [
    {
     "data": {
      "text/plain": [
       "33138"
      ]
     },
     "execution_count": 115,
     "metadata": {},
     "output_type": "execute_result"
    }
   ],
   "source": [
    "len(lrgfid)"
   ]
  },
  {
   "cell_type": "code",
   "execution_count": 116,
   "id": "9670ee16-379f-4d2a-95b6-ba8fa6b723d5",
   "metadata": {},
   "outputs": [
    {
     "name": "stdout",
     "output_type": "stream",
     "text": [
      "number with no data 2920\n",
      "number with bad qa 1088\n"
     ]
    }
   ],
   "source": [
    "lrgnew = get_goodLRG(specdnew)"
   ]
  },
  {
   "cell_type": "code",
   "execution_count": 117,
   "id": "29ccfb40-3041-48d3-8272-e3059025cb07",
   "metadata": {},
   "outputs": [
    {
     "data": {
      "text/plain": [
       "33116"
      ]
     },
     "execution_count": 117,
     "metadata": {},
     "output_type": "execute_result"
    }
   ],
   "source": [
    "len(lrgnew)"
   ]
  },
  {
   "cell_type": "code",
   "execution_count": 118,
   "id": "94470f7f-2fd7-4741-a15c-bc7f2d3c018f",
   "metadata": {},
   "outputs": [
    {
     "name": "stdout",
     "output_type": "stream",
     "text": [
      "33116\n"
     ]
    }
   ],
   "source": [
    "selnew = np.isin(lrgnew['TARGETID'],lrgfid['TARGETID'])\n",
    "lrgnewf = lrgnew[selnew]\n",
    "print(len(lrgnewf))\n",
    "                                           "
   ]
  },
  {
   "cell_type": "code",
   "execution_count": 119,
   "id": "dfec175d-7f61-4371-9c07-0377a909ebf8",
   "metadata": {},
   "outputs": [
    {
     "name": "stdout",
     "output_type": "stream",
     "text": [
      "33116\n"
     ]
    }
   ],
   "source": [
    "selfid = np.isin(lrgfid['TARGETID'],lrgnew['TARGETID'])\n",
    "lrgfidn = lrgfid[selfid]\n",
    "print(len(lrgfidn))\n"
   ]
  },
  {
   "cell_type": "code",
   "execution_count": 93,
   "id": "32ec4c66-887b-4f63-a1a3-818af9d86831",
   "metadata": {},
   "outputs": [
    {
     "data": {
      "text/plain": [
       "(array([3.0000e+00, 1.0000e+01, 1.0900e+02, 3.7800e+02, 4.1180e+03,\n",
       "        1.6598e+04, 8.3450e+03, 7.7900e+02, 1.1500e+02, 1.7000e+01]),\n",
       " array([-4.33772749, -2.598749  , -0.8597705 ,  0.879208  ,  2.61818649,\n",
       "         4.35716499,  6.09614349,  7.83512198,  9.57410048, 11.31307898,\n",
       "        13.05205747]),\n",
       " <a list of 1 Patch objects>)"
      ]
     },
     "execution_count": 93,
     "metadata": {},
     "output_type": "execute_result"
    },
    {
     "data": {
      "image/png": "[encoded data removed]",
      "text/plain": [
       "<Figure size 432x288 with 1 Axes>"
      ]
     },
     "metadata": {
      "needs_background": "light"
     },
     "output_type": "display_data"
    }
   ],
   "source": [
    "plt.hist(np.log(lrgfidn['DELTACHI2']),histtype='step')\n",
    "plt.hist(np.log(lrgnewf['DELTACHI2']),histtype='step')"
   ]
  },
  {
   "cell_type": "code",
   "execution_count": 77,
   "id": "6016612e-506b-4b31-b0ed-a8bb20bd5155",
   "metadata": {},
   "outputs": [],
   "source": [
    "def glrg(dat):\n",
    "    drz = (10**(3 - 3.5*dat['Z']))\n",
    "    mask_bad = (drz>30) & (dat['DELTACHI2']<30)\n",
    "    mask_bad |= (drz<30) & (dat['DELTACHI2']<drz)\n",
    "    mask_bad |= (dat['DELTACHI2']<10)\n",
    "    wz = dat['ZWARN'] == 0\n",
    "    wz &= dat['Z']<1.4\n",
    "    wz &= (~mask_bad)\n",
    "\n",
    "    wzwarn = wz#zmtlf['ZWARN'] == 0\n",
    "    gzlrg = dat[wzwarn]\n",
    "    return gzlrg\n"
   ]
  },
  {
   "cell_type": "code",
   "execution_count": 121,
   "id": "b8767db7-a9e3-42bc-bc50-45c331a46ed7",
   "metadata": {},
   "outputs": [],
   "source": [
    "sel = lrgnewf['COADD_NUMEXP'] == lrgfidn['COADD_NUMEXP']\n",
    "print(len(lrgnewf[sel]))"
   ]
  },
  {
   "cell_type": "code",
   "execution_count": 121,
   "id": "99a9a152-5e44-481a-b7f8-f530c23ab3a3",
   "metadata": {},
   "outputs": [],
   "source": [
    "gnew = glrg(lrgnewf[sel])"
   ]
  },
  {
   "cell_type": "code",
   "execution_count": 122,
   "id": "1755b1c7-f45e-4d34-ac01-fb9cef3d02d4",
   "metadata": {},
   "outputs": [
    {
     "data": {
      "text/plain": [
       "28647"
      ]
     },
     "execution_count": 122,
     "metadata": {},
     "output_type": "execute_result"
    }
   ],
   "source": [
    "len(gnew)"
   ]
  },
  {
   "cell_type": "code",
   "execution_count": 123,
   "id": "454b92a9-26e3-4767-9fab-7f366bb30149",
   "metadata": {},
   "outputs": [],
   "source": [
    "gfid = glrg(lrgfidn[sel])"
   ]
  },
  {
   "cell_type": "code",
   "execution_count": 124,
   "id": "63c66f61-0c80-4716-b6b6-4654423f417a",
   "metadata": {},
   "outputs": [
    {
     "data": {
      "text/plain": [
       "28585"
      ]
     },
     "execution_count": 124,
     "metadata": {},
     "output_type": "execute_result"
    }
   ],
   "source": [
    "len(gfid)"
   ]
  },
  {
   "cell_type": "code",
   "execution_count": 126,
   "id": "af020c7d-1e65-452c-8548-d13a76860984",
   "metadata": {},
   "outputs": [
    {
     "data": {
      "text/plain": [
       "0.9734377660480164"
      ]
     },
     "execution_count": 126,
     "metadata": {},
     "output_type": "execute_result"
    }
   ],
   "source": [
    "len(gfid)/len(lrgfidn[sel])"
   ]
  },
  {
   "cell_type": "code",
   "execution_count": 127,
   "id": "f40a28f5-1f86-43e8-a4ae-cd7ae5efdbe2",
   "metadata": {},
   "outputs": [
    {
     "data": {
      "text/plain": [
       "0.9755491231057382"
      ]
     },
     "execution_count": 127,
     "metadata": {},
     "output_type": "execute_result"
    }
   ],
   "source": [
    "len(gnew)/len(lrgnewf[sel])"
   ]
  },
  {
   "cell_type": "code",
   "execution_count": 128,
   "id": "56e1bd9f-2b0b-493d-a3fe-6e83529463d6",
   "metadata": {},
   "outputs": [],
   "source": [
    "lrgfidn = lrgfidn[sel]\n",
    "lrgnewf = lrgnewf[sel]"
   ]
  },
  {
   "cell_type": "code",
   "execution_count": 130,
   "id": "cf4a5ea7-026b-456a-a5fe-59260a9f43e3",
   "metadata": {},
   "outputs": [
    {
     "name": "stdout",
     "output_type": "stream",
     "text": [
      "0\n",
      "new success is 0.9692954104718811\n",
      "old success is 0.9702650290885585\n",
      "1\n",
      "new success is 0.9702752293577982\n",
      "old success is 0.9724770642201835\n",
      "2\n",
      "new success is 0.9798260869565217\n",
      "old success is 0.9808695652173913\n",
      "3\n",
      "new success is 0.9773413897280967\n",
      "old success is 0.976963746223565\n",
      "4\n",
      "new success is 0.9773625583902263\n",
      "old success is 0.9547251167804528\n",
      "5\n",
      "new success is 0.9798897178073305\n",
      "old success is 0.9776192020759001\n",
      "6\n",
      "new success is 0.9845360824742269\n",
      "old success is 0.9838917525773195\n",
      "7\n",
      "new success is 0.9683225341972642\n",
      "old success is 0.9694024478041756\n",
      "8\n",
      "new success is 0.9775136524253132\n",
      "old success is 0.9768711853517508\n",
      "9\n",
      "new success is 0.9705882352941176\n",
      "old success is 0.969955724225174\n"
     ]
    }
   ],
   "source": [
    "for pt in range(0,10):\n",
    "    print(pt)\n",
    "    sgn = gnew['PETAL_LOC'] == pt\n",
    "    san = lrgnewf['PETAL_LOC'] == pt\n",
    "    print('new success is '+str(len(gnew[sgn])/len(lrgnewf[san])))\n",
    "    sgf = gfid['PETAL_LOC'] == pt\n",
    "    saf = lrgfidn['PETAL_LOC'] == pt\n",
    "    print('old success is '+str(len(gfid[sgf])/len(lrgfidn[san])))\n",
    "    \n",
    "          \n",
    "    \n",
    "    "
   ]
  },
  {
   "cell_type": "code",
   "execution_count": 103,
   "id": "27b919b5-6ba9-48c5-8bbe-a501f330367d",
   "metadata": {},
   "outputs": [
    {
     "name": "stdout",
     "output_type": "stream",
     "text": [
      "(array([1, 2, 3], dtype=int16), array([19458,  8933,  2081]))\n",
      "(array([1, 2, 3], dtype=int16), array([20699,  7692,  2081]))\n"
     ]
    }
   ],
   "source": [
    "print(np.unique(lrgfidn['COADD_NUMEXP'],return_counts=True))\n",
    "print(np.unique(lrgnewf['COADD_NUMEXP'],return_counts=True))"
   ]
  },
  {
   "cell_type": "code",
   "execution_count": 100,
   "id": "c24f2ad9-091a-4aaf-b39e-269466903944",
   "metadata": {},
   "outputs": [
    {
     "data": {
      "text/plain": [
       "('TARGETID',\n",
       " 'CHI2',\n",
       " 'COEFF',\n",
       " 'Z',\n",
       " 'ZERR',\n",
       " 'ZWARN',\n",
       " 'NPIXELS',\n",
       " 'SPECTYPE',\n",
       " 'SUBTYPE',\n",
       " 'NCOEFF',\n",
       " 'DELTACHI2',\n",
       " 'PETAL_LOC',\n",
       " 'DEVICE_LOC',\n",
       " 'LOCATION',\n",
       " 'FIBER',\n",
       " 'COADD_FIBERSTATUS',\n",
       " 'TARGET_RA',\n",
       " 'TARGET_DEC',\n",
       " 'PMRA',\n",
       " 'PMDEC',\n",
       " 'REF_EPOCH',\n",
       " 'LAMBDA_REF',\n",
       " 'FA_TARGET',\n",
       " 'FA_TYPE',\n",
       " 'OBJTYPE',\n",
       " 'FIBERASSIGN_X',\n",
       " 'FIBERASSIGN_Y',\n",
       " 'PRIORITY',\n",
       " 'SUBPRIORITY',\n",
       " 'OBSCONDITIONS',\n",
       " 'RELEASE',\n",
       " 'BRICKNAME',\n",
       " 'BRICKID',\n",
       " 'BRICK_OBJID',\n",
       " 'MORPHTYPE',\n",
       " 'EBV',\n",
       " 'FLUX_G',\n",
       " 'FLUX_R',\n",
       " 'FLUX_Z',\n",
       " 'FLUX_W1',\n",
       " 'FLUX_W2',\n",
       " 'FLUX_IVAR_G',\n",
       " 'FLUX_IVAR_R',\n",
       " 'FLUX_IVAR_Z',\n",
       " 'FLUX_IVAR_W1',\n",
       " 'FLUX_IVAR_W2',\n",
       " 'FIBERFLUX_G',\n",
       " 'FIBERFLUX_R',\n",
       " 'FIBERFLUX_Z',\n",
       " 'FIBERTOTFLUX_G',\n",
       " 'FIBERTOTFLUX_R',\n",
       " 'FIBERTOTFLUX_Z',\n",
       " 'MASKBITS',\n",
       " 'SERSIC',\n",
       " 'SHAPE_R',\n",
       " 'SHAPE_E1',\n",
       " 'SHAPE_E2',\n",
       " 'REF_ID',\n",
       " 'REF_CAT',\n",
       " 'GAIA_PHOT_G_MEAN_MAG',\n",
       " 'GAIA_PHOT_BP_MEAN_MAG',\n",
       " 'GAIA_PHOT_RP_MEAN_MAG',\n",
       " 'PARALLAX',\n",
       " 'PHOTSYS',\n",
       " 'PRIORITY_INIT',\n",
       " 'NUMOBS_INIT',\n",
       " 'DESI_TARGET',\n",
       " 'BGS_TARGET',\n",
       " 'MWS_TARGET',\n",
       " 'SCND_TARGET',\n",
       " 'PLATE_RA',\n",
       " 'PLATE_DEC',\n",
       " 'TILEID',\n",
       " 'COADD_NUMEXP',\n",
       " 'COADD_EXPTIME',\n",
       " 'COADD_NUMNIGHT',\n",
       " 'COADD_NUMTILE',\n",
       " 'MEAN_DELTA_X',\n",
       " 'RMS_DELTA_X',\n",
       " 'MEAN_DELTA_Y',\n",
       " 'RMS_DELTA_Y',\n",
       " 'MEAN_FIBER_RA',\n",
       " 'STD_FIBER_RA',\n",
       " 'MEAN_FIBER_DEC',\n",
       " 'STD_FIBER_DEC',\n",
       " 'MEAN_PSF_TO_FIBER_SPECFLUX',\n",
       " 'MEAN_FIBER_X',\n",
       " 'MEAN_FIBER_Y',\n",
       " 'INTEG_COADD_FLUX_B',\n",
       " 'MEDIAN_COADD_FLUX_B',\n",
       " 'MEDIAN_COADD_SNR_B',\n",
       " 'INTEG_COADD_FLUX_R',\n",
       " 'MEDIAN_COADD_FLUX_R',\n",
       " 'MEDIAN_COADD_SNR_R',\n",
       " 'INTEG_COADD_FLUX_Z',\n",
       " 'MEDIAN_COADD_FLUX_Z',\n",
       " 'MEDIAN_COADD_SNR_Z',\n",
       " 'TSNR2_GPBDARK_B',\n",
       " 'TSNR2_ELG_B',\n",
       " 'TSNR2_GPBBRIGHT_B',\n",
       " 'TSNR2_LYA_B',\n",
       " 'TSNR2_BGS_B',\n",
       " 'TSNR2_GPBBACKUP_B',\n",
       " 'TSNR2_QSO_B',\n",
       " 'TSNR2_LRG_B',\n",
       " 'TSNR2_GPBDARK_R',\n",
       " 'TSNR2_ELG_R',\n",
       " 'TSNR2_GPBBRIGHT_R',\n",
       " 'TSNR2_LYA_R',\n",
       " 'TSNR2_BGS_R',\n",
       " 'TSNR2_GPBBACKUP_R',\n",
       " 'TSNR2_QSO_R',\n",
       " 'TSNR2_LRG_R',\n",
       " 'TSNR2_GPBDARK_Z',\n",
       " 'TSNR2_ELG_Z',\n",
       " 'TSNR2_GPBBRIGHT_Z',\n",
       " 'TSNR2_LYA_Z',\n",
       " 'TSNR2_BGS_Z',\n",
       " 'TSNR2_GPBBACKUP_Z',\n",
       " 'TSNR2_QSO_Z',\n",
       " 'TSNR2_LRG_Z',\n",
       " 'TSNR2_GPBDARK',\n",
       " 'TSNR2_ELG',\n",
       " 'TSNR2_GPBBRIGHT',\n",
       " 'TSNR2_LYA',\n",
       " 'TSNR2_BGS',\n",
       " 'TSNR2_GPBBACKUP',\n",
       " 'TSNR2_QSO',\n",
       " 'TSNR2_LRG',\n",
       " 'ZWARN_MTL',\n",
       " 'Z_QN',\n",
       " 'Z_QN_CONF',\n",
       " 'IS_QSO_QN')"
      ]
     },
     "execution_count": 100,
     "metadata": {},
     "output_type": "execute_result"
    }
   ],
   "source": [
    "specdfid.dtype.names"
   ]
  },
  {
   "cell_type": "code",
   "execution_count": 106,
   "id": "35fc48d5-f492-4a41-a872-1e283d732f05",
   "metadata": {},
   "outputs": [
    {
     "ename": "TypeError",
     "evalue": "an integer is required (got type str)",
     "output_type": "error",
     "traceback": [
      "\u001b[0;31m---------------------------------------------------------------------------\u001b[0m",
      "\u001b[0;31mTypeError\u001b[0m                                 Traceback (most recent call last)",
      "\u001b[0;32m<ipython-input-106-39915b8a60e5>\u001b[0m in \u001b[0;36m<module>\u001b[0;34m\u001b[0m\n\u001b[0;32m----> 1\u001b[0;31m \u001b[0mlrgfidn\u001b[0m\u001b[0;34m.\u001b[0m\u001b[0msort\u001b[0m\u001b[0;34m(\u001b[0m\u001b[0;34m'TARGETID'\u001b[0m\u001b[0;34m)\u001b[0m\u001b[0;34m\u001b[0m\u001b[0;34m\u001b[0m\u001b[0m\n\u001b[0m",
      "\u001b[0;31mTypeError\u001b[0m: an integer is required (got type str)"
     ]
    }
   ],
   "source": [
    "lrgfidn.sort('TARGETID')"
   ]
  },
  {
   "cell_type": "code",
   "execution_count": 110,
   "id": "0e75e491-90c4-415f-a916-d4f5ff9df7f8",
   "metadata": {},
   "outputs": [
    {
     "data": {
      "text/plain": [
       "39627328875138396"
      ]
     },
     "execution_count": 110,
     "metadata": {},
     "output_type": "execute_result"
    }
   ],
   "source": [
    "lrgnewf['TARGETID'][0]"
   ]
  },
  {
   "cell_type": "code",
   "execution_count": 111,
   "id": "b05bda9b-e9fa-42a8-9aa7-80a273f2cc2f",
   "metadata": {},
   "outputs": [
    {
     "data": {
      "text/plain": [
       "True"
      ]
     },
     "execution_count": 111,
     "metadata": {},
     "output_type": "execute_result"
    }
   ],
   "source": [
    "np.array_equal(lrgnewf['TARGETID'],lrgfidn['TARGETID'])"
   ]
  },
  {
   "cell_type": "code",
   "execution_count": 120,
   "id": "c5b9bd76-d53b-4d86-8412-59ea25df8f37",
   "metadata": {},
   "outputs": [
    {
     "name": "stdout",
     "output_type": "stream",
     "text": [
      "29365\n"
     ]
    }
   ],
   "source": []
  },
  {
   "cell_type": "code",
   "execution_count": null,
   "id": "84efc983-e4ef-4426-ae34-f6ea87464897",
   "metadata": {},
   "outputs": [],
   "source": []
  }
 ],
 "metadata": {
  "kernelspec": {
   "display_name": "DESI master",
   "language": "python",
   "name": "desi-master"
  },
  "language_info": {
   "codemirror_mode": {
    "name": "ipython",
    "version": 3
   },
   "file_extension": ".py",
   "mimetype": "text/x-python",
   "name": "python",
   "nbconvert_exporter": "python",
   "pygments_lexer": "ipython3",
   "version": "3.8.3"
  }
 },
 "nbformat": 4,
 "nbformat_minor": 5
}
