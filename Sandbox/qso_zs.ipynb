{
 "cells": [
  {
   "cell_type": "code",
   "execution_count": 85,
   "metadata": {},
   "outputs": [],
   "source": [
    "import fitsio\n",
    "import numpy as np\n",
    "from astropy.table import Table,join\n",
    "from matplotlib import pyplot as plt"
   ]
  },
  {
   "cell_type": "code",
   "execution_count": 2,
   "metadata": {},
   "outputs": [],
   "source": [
    "f = fitsio.read('/global/cfs/cdirs/desi/survey/catalogs/SV1/redshift_comps/blanc/v2/QSO/alltiles_QSOzinfo.fits')"
   ]
  },
  {
   "cell_type": "code",
   "execution_count": 7,
   "metadata": {},
   "outputs": [],
   "source": [
    "seld = f['subset'] == 'deep'"
   ]
  },
  {
   "cell_type": "code",
   "execution_count": 8,
   "metadata": {},
   "outputs": [
    {
     "data": {
      "text/plain": [
       "9058"
      ]
     },
     "execution_count": 8,
     "metadata": {},
     "output_type": "execute_result"
    }
   ],
   "source": [
    "fd = f[seld]\n",
    "len(fd)"
   ]
  },
  {
   "cell_type": "code",
   "execution_count": 9,
   "metadata": {},
   "outputs": [
    {
     "data": {
      "text/plain": [
       "8728"
      ]
     },
     "execution_count": 9,
     "metadata": {},
     "output_type": "execute_result"
    }
   ],
   "source": [
    "len(np.unique(fd['TARGETID']))"
   ]
  },
  {
   "cell_type": "code",
   "execution_count": 10,
   "metadata": {},
   "outputs": [
    {
     "data": {
      "text/plain": [
       "8728"
      ]
     },
     "execution_count": 10,
     "metadata": {},
     "output_type": "execute_result"
    }
   ],
   "source": [
    "len(np.unique(f['TARGETID']))"
   ]
  },
  {
   "cell_type": "code",
   "execution_count": 11,
   "metadata": {},
   "outputs": [],
   "source": [
    "selq = f['SPECTYPE'] == 'QSO'"
   ]
  },
  {
   "cell_type": "code",
   "execution_count": 12,
   "metadata": {},
   "outputs": [],
   "source": [
    "fq = f[selq]"
   ]
  },
  {
   "cell_type": "code",
   "execution_count": 13,
   "metadata": {},
   "outputs": [
    {
     "data": {
      "text/plain": [
       "2404"
      ]
     },
     "execution_count": 13,
     "metadata": {},
     "output_type": "execute_result"
    }
   ],
   "source": [
    "len(np.unique(fq['TARGETID']))"
   ]
  },
  {
   "cell_type": "code",
   "execution_count": 14,
   "metadata": {},
   "outputs": [
    {
     "data": {
      "text/plain": [
       "array(['BGS+MWS', 'ELG', 'QSO+LRG'], dtype='<U7')"
      ]
     },
     "execution_count": 14,
     "metadata": {},
     "output_type": "execute_result"
    }
   ],
   "source": [
    "np.unique(fq['TARGETS'])"
   ]
  },
  {
   "cell_type": "code",
   "execution_count": 15,
   "metadata": {},
   "outputs": [],
   "source": [
    "selbw = fq['TARGETS'] == 'BGS+MWS'"
   ]
  },
  {
   "cell_type": "code",
   "execution_count": 16,
   "metadata": {},
   "outputs": [],
   "source": [
    "fqle = fq[~selbw]"
   ]
  },
  {
   "cell_type": "code",
   "execution_count": 17,
   "metadata": {},
   "outputs": [
    {
     "data": {
      "text/plain": [
       "2355"
      ]
     },
     "execution_count": 17,
     "metadata": {},
     "output_type": "execute_result"
    }
   ],
   "source": [
    "len(np.unique(fqle['TARGETID']))"
   ]
  },
  {
   "cell_type": "code",
   "execution_count": 19,
   "metadata": {},
   "outputs": [
    {
     "data": {
      "text/plain": [
       "array([80605, 80606, 80607, 80608, 80609, 80610, 80620, 80621, 80622,\n",
       "       80623], dtype=int32)"
      ]
     },
     "execution_count": 19,
     "metadata": {},
     "output_type": "execute_result"
    }
   ],
   "source": [
    "np.unique(fqle['TILEID'])"
   ]
  },
  {
   "cell_type": "code",
   "execution_count": 20,
   "metadata": {},
   "outputs": [],
   "source": [
    "sell = fq['TARGETS'] == 'QSO+LRG'"
   ]
  },
  {
   "cell_type": "code",
   "execution_count": 21,
   "metadata": {},
   "outputs": [],
   "source": [
    "fql = fq[sell]"
   ]
  },
  {
   "cell_type": "code",
   "execution_count": 22,
   "metadata": {},
   "outputs": [
    {
     "data": {
      "text/plain": [
       "2098"
      ]
     },
     "execution_count": 22,
     "metadata": {},
     "output_type": "execute_result"
    }
   ],
   "source": [
    "len(np.unique(fql['TARGETID']))"
   ]
  },
  {
   "cell_type": "code",
   "execution_count": 23,
   "metadata": {},
   "outputs": [],
   "source": [
    "selqd = selq & seld"
   ]
  },
  {
   "cell_type": "code",
   "execution_count": 25,
   "metadata": {},
   "outputs": [],
   "source": [
    "fqd = f[selqd]"
   ]
  },
  {
   "cell_type": "code",
   "execution_count": 26,
   "metadata": {},
   "outputs": [
    {
     "data": {
      "text/plain": [
       "2076"
      ]
     },
     "execution_count": 26,
     "metadata": {},
     "output_type": "execute_result"
    }
   ],
   "source": [
    "len(np.unique(fqd['TARGETID']))"
   ]
  },
  {
   "cell_type": "code",
   "execution_count": 27,
   "metadata": {},
   "outputs": [
    {
     "data": {
      "text/plain": [
       "2152"
      ]
     },
     "execution_count": 27,
     "metadata": {},
     "output_type": "execute_result"
    }
   ],
   "source": [
    "len(fqd)"
   ]
  },
  {
   "cell_type": "code",
   "execution_count": 28,
   "metadata": {},
   "outputs": [],
   "source": [
    "selbw = fqd['TARGETS'] == 'BGS+MWS'"
   ]
  },
  {
   "cell_type": "code",
   "execution_count": 47,
   "metadata": {},
   "outputs": [],
   "source": [
    "selql = fqd['TARGETS'] == 'QSO+LRG'"
   ]
  },
  {
   "cell_type": "code",
   "execution_count": 49,
   "metadata": {},
   "outputs": [],
   "source": [
    "tq = np.unique(fqd[selql]['TILEID'])"
   ]
  },
  {
   "cell_type": "code",
   "execution_count": 34,
   "metadata": {},
   "outputs": [
    {
     "data": {
      "text/plain": [
       "1823"
      ]
     },
     "execution_count": 34,
     "metadata": {},
     "output_type": "execute_result"
    }
   ],
   "source": [
    "len(np.unique(fqd['TARGETID'][selql]))"
   ]
  },
  {
   "cell_type": "code",
   "execution_count": 35,
   "metadata": {},
   "outputs": [],
   "source": [
    "sele = fqd['TARGETS'] == 'ELG'"
   ]
  },
  {
   "cell_type": "code",
   "execution_count": 36,
   "metadata": {},
   "outputs": [
    {
     "data": {
      "text/plain": [
       "272"
      ]
     },
     "execution_count": 36,
     "metadata": {},
     "output_type": "execute_result"
    }
   ],
   "source": [
    "len(np.unique(fqd['TARGETID'][sele]))"
   ]
  },
  {
   "cell_type": "code",
   "execution_count": 37,
   "metadata": {},
   "outputs": [],
   "source": [
    "selql = fq['TARGETS'] == 'QSO+LRG'"
   ]
  },
  {
   "cell_type": "code",
   "execution_count": 38,
   "metadata": {},
   "outputs": [
    {
     "data": {
      "text/plain": [
       "2098"
      ]
     },
     "execution_count": 38,
     "metadata": {},
     "output_type": "execute_result"
    }
   ],
   "source": [
    "len(np.unique(fq['TARGETID'][selql]))"
   ]
  },
  {
   "cell_type": "code",
   "execution_count": 39,
   "metadata": {},
   "outputs": [],
   "source": [
    "fzp = fitsio.read('/global/cfs/cdirs/desi/spectro/redux/blanc/zcatalog-blanc-sv1deep.fits')"
   ]
  },
  {
   "cell_type": "code",
   "execution_count": 41,
   "metadata": {},
   "outputs": [],
   "source": [
    "selc = (fzp['SV1_DESI_TARGET'] & 4) > 0\n",
    "selc &= fzp['SPECTYPE'] == 'QSO'"
   ]
  },
  {
   "cell_type": "code",
   "execution_count": 44,
   "metadata": {},
   "outputs": [
    {
     "data": {
      "text/plain": [
       "2076"
      ]
     },
     "execution_count": 44,
     "metadata": {},
     "output_type": "execute_result"
    }
   ],
   "source": [
    "len(np.unique(fzp[selc]['TARGETID']))"
   ]
  },
  {
   "cell_type": "code",
   "execution_count": 46,
   "metadata": {},
   "outputs": [
    {
     "data": {
      "text/plain": [
       "array([80605, 80606, 80607, 80608, 80609, 80610, 80611, 80612, 80613,\n",
       "       80614, 80616, 80617, 80618, 80619, 80620, 80621, 80622, 80623],\n",
       "      dtype=int32)"
      ]
     },
     "execution_count": 46,
     "metadata": {},
     "output_type": "execute_result"
    }
   ],
   "source": [
    "np.unique(fzp[selc]['TILEID'])"
   ]
  },
  {
   "cell_type": "code",
   "execution_count": 50,
   "metadata": {},
   "outputs": [
    {
     "data": {
      "text/plain": [
       "array([80605, 80607, 80609, 80620, 80622], dtype=int32)"
      ]
     },
     "execution_count": 50,
     "metadata": {},
     "output_type": "execute_result"
    }
   ],
   "source": [
    "tq"
   ]
  },
  {
   "cell_type": "code",
   "execution_count": 51,
   "metadata": {},
   "outputs": [],
   "source": [
    "selqt = np.isin(fzp[selc]['TILEID'],tq)"
   ]
  },
  {
   "cell_type": "code",
   "execution_count": 52,
   "metadata": {},
   "outputs": [
    {
     "data": {
      "text/plain": [
       "1823"
      ]
     },
     "execution_count": 52,
     "metadata": {},
     "output_type": "execute_result"
    }
   ],
   "source": [
    "len(np.unique(fzp[selc][selqt]['TARGETID']))"
   ]
  },
  {
   "cell_type": "code",
   "execution_count": 53,
   "metadata": {},
   "outputs": [
    {
     "data": {
      "text/plain": [
       "1823"
      ]
     },
     "execution_count": 53,
     "metadata": {},
     "output_type": "execute_result"
    }
   ],
   "source": [
    "len(fzp[selc][selqt])"
   ]
  },
  {
   "cell_type": "code",
   "execution_count": 56,
   "metadata": {},
   "outputs": [],
   "source": [
    "fen = Table.read('/global/cfs/cdirs/desi/target/analysis/truth/dr9.0/north/matched/ls-dr9.0-DR16Q_v4-match.fits')"
   ]
  },
  {
   "cell_type": "code",
   "execution_count": 58,
   "metadata": {},
   "outputs": [],
   "source": [
    "from desitarget import targets\n",
    "fen['TARGETID'] = targets.encode_targetid(fen['OBJID'], fen['BRICKID'], fen['RELEASE'])"
   ]
  },
  {
   "cell_type": "code",
   "execution_count": 76,
   "metadata": {},
   "outputs": [
    {
     "name": "stdout",
     "output_type": "stream",
     "text": [
      "374408 374408\n"
     ]
    }
   ],
   "source": [
    "fez = fitsio.read('/global/cfs/cdirs/desi/target/analysis/truth/dr9.0/north/matched/DR16Q_v4-match.fits')\n",
    "print(len(fez),len(fen))\n",
    "fen['Z_eboss'] = fez['Z']\n",
    "fen['Z_PCAeboss'] = fez['Z_PCA']"
   ]
  },
  {
   "cell_type": "code",
   "execution_count": 75,
   "metadata": {},
   "outputs": [
    {
     "data": {
      "text/plain": [
       "('SDSS_NAME',\n",
       " 'RA',\n",
       " 'DEC',\n",
       " 'PLATE',\n",
       " 'MJD',\n",
       " 'FIBERID',\n",
       " 'AUTOCLASS_PQN',\n",
       " 'AUTOCLASS_DR14Q',\n",
       " 'IS_QSO_QN',\n",
       " 'Z_QN',\n",
       " 'RANDOM_SELECT',\n",
       " 'Z_10K',\n",
       " 'Z_CONF_10K',\n",
       " 'PIPE_CORR_10K',\n",
       " 'IS_QSO_10K',\n",
       " 'THING_ID',\n",
       " 'Z_VI',\n",
       " 'Z_CONF',\n",
       " 'CLASS_PERSON',\n",
       " 'Z_DR12Q',\n",
       " 'IS_QSO_DR12Q',\n",
       " 'Z_DR7Q_SCH',\n",
       " 'IS_QSO_DR7Q',\n",
       " 'Z_DR6Q_HW',\n",
       " 'Z_DR7Q_HW',\n",
       " 'IS_QSO_FINAL',\n",
       " 'Z',\n",
       " 'SOURCE_Z',\n",
       " 'Z_PIPE',\n",
       " 'ZWARNING',\n",
       " 'OBJID',\n",
       " 'Z_PCA',\n",
       " 'ZWARN_PCA',\n",
       " 'DELTACHI2_PCA',\n",
       " 'Z_HALPHA',\n",
       " 'ZWARN_HALPHA',\n",
       " 'DELTACHI2_HALPHA',\n",
       " 'Z_HBETA',\n",
       " 'ZWARN_HBETA',\n",
       " 'DELTACHI2_HBETA',\n",
       " 'Z_MGII',\n",
       " 'ZWARN_MGII',\n",
       " 'DELTACHI2_MGII',\n",
       " 'Z_CIII',\n",
       " 'ZWARN_CIII',\n",
       " 'DELTACHI2_CIII',\n",
       " 'Z_CIV',\n",
       " 'ZWARN_CIV',\n",
       " 'DELTACHI2_CIV',\n",
       " 'Z_LYA',\n",
       " 'ZWARN_LYA',\n",
       " 'DELTACHI2_LYA',\n",
       " 'Z_LYAWG',\n",
       " 'Z_DLA',\n",
       " 'NHI_DLA',\n",
       " 'CONF_DLA',\n",
       " 'BAL_PROB',\n",
       " 'BI_CIV',\n",
       " 'ERR_BI_CIV',\n",
       " 'AI_CIV',\n",
       " 'ERR_AI_CIV',\n",
       " 'BI_SIIV',\n",
       " 'ERR_BI_SIIV',\n",
       " 'AI_SIIV',\n",
       " 'ERR_AI_SIIV',\n",
       " 'BOSS_TARGET1',\n",
       " 'EBOSS_TARGET0',\n",
       " 'EBOSS_TARGET1',\n",
       " 'EBOSS_TARGET2',\n",
       " 'ANCILLARY_TARGET1',\n",
       " 'ANCILLARY_TARGET2',\n",
       " 'NSPEC_SDSS',\n",
       " 'NSPEC_BOSS',\n",
       " 'NSPEC',\n",
       " 'PLATE_DUPLICATE',\n",
       " 'MJD_DUPLICATE',\n",
       " 'FIBERID_DUPLICATE',\n",
       " 'SPECTRO_DUPLICATE',\n",
       " 'SKYVERSION',\n",
       " 'RUN_NUMBER',\n",
       " 'RERUN_NUMBER',\n",
       " 'CAMCOL_NUMBER',\n",
       " 'FIELD_NUMBER',\n",
       " 'ID_NUMBER',\n",
       " 'LAMBDA_EFF',\n",
       " 'ZOFFSET',\n",
       " 'XFOCAL',\n",
       " 'YFOCAL',\n",
       " 'CHUNK',\n",
       " 'TILE',\n",
       " 'PLATESN2',\n",
       " 'PSFFLUX',\n",
       " 'PSFFLUX_IVAR',\n",
       " 'PSFMAG',\n",
       " 'PSFMAGERR',\n",
       " 'EXTINCTION',\n",
       " 'M_I',\n",
       " 'SN_MEDIAN_ALL',\n",
       " 'GALEX_MATCHED',\n",
       " 'FUV',\n",
       " 'FUV_IVAR',\n",
       " 'NUV',\n",
       " 'NUV_IVAR',\n",
       " 'UKIDSS_MATCHED',\n",
       " 'YFLUX',\n",
       " 'YFLUX_ERR',\n",
       " 'JFLUX',\n",
       " 'JFLUX_ERR',\n",
       " 'HFLUX',\n",
       " 'HFLUX_ERR',\n",
       " 'KFLUX',\n",
       " 'KFLUX_ERR',\n",
       " 'W1_FLUX',\n",
       " 'W1_FLUX_IVAR',\n",
       " 'W1_MAG',\n",
       " 'W1_MAG_ERR',\n",
       " 'W1_CHI2',\n",
       " 'W1_FLUX_SNR',\n",
       " 'W1_SRC_FRAC',\n",
       " 'W1_EXT_FLUX',\n",
       " 'W1_EXT_FRAC',\n",
       " 'W1_NPIX',\n",
       " 'W2_FLUX',\n",
       " 'W2_FLUX_IVAR',\n",
       " 'W2_MAG',\n",
       " 'W2_MAG_ERR',\n",
       " 'W2_CHI2',\n",
       " 'W2_FLUX_SNR',\n",
       " 'W2_SRC_FRAC',\n",
       " 'W2_EXT_FLUX',\n",
       " 'W2_EXT_FRAC',\n",
       " 'W2_NPIX',\n",
       " 'FIRST_MATCHED',\n",
       " 'FIRST_FLUX',\n",
       " 'FIRST_SNR',\n",
       " 'SDSS2FIRST_SEP',\n",
       " 'JMAG',\n",
       " 'JMAG_ERR',\n",
       " 'JSNR',\n",
       " 'JRDFLAG',\n",
       " 'HMAG',\n",
       " 'HMAG_ERR',\n",
       " 'HSNR',\n",
       " 'HRDFLAG',\n",
       " 'KMAG',\n",
       " 'KMAG_ERR',\n",
       " 'KSNR',\n",
       " 'KRDFLAG',\n",
       " 'SDSS2MASS_SEP',\n",
       " '2RXS_ID',\n",
       " '2RXS_RA',\n",
       " '2RXS_DEC',\n",
       " '2RXS_SRC_FLUX',\n",
       " '2RXS_SRC_FLUX_ERR',\n",
       " 'SDSS2ROSAT_SEP',\n",
       " 'XMM_SRC_ID',\n",
       " 'XMM_RA',\n",
       " 'XMM_DEC',\n",
       " 'XMM_SOFT_FLUX',\n",
       " 'XMM_SOFT_FLUX_ERR',\n",
       " 'XMM_HARD_FLUX',\n",
       " 'XMM_HARD_FLUX_ERR',\n",
       " 'XMM_TOTAL_FLUX',\n",
       " 'XMM_TOTAL_FLUX_ERR',\n",
       " 'XMM_TOTAL_LUM',\n",
       " 'SDSS2XMM_SEP',\n",
       " 'GAIA_MATCHED',\n",
       " 'GAIA_DESIGNATION',\n",
       " 'GAIA_RA',\n",
       " 'GAIA_DEC',\n",
       " 'GAIA_PARALLAX',\n",
       " 'GAIA_PARALLAX_ERR',\n",
       " 'GAIA_PM_RA',\n",
       " 'GAIA_PM_RA_ERR',\n",
       " 'GAIA_PM_DEC',\n",
       " 'GAIA_PM_DEC_ERR',\n",
       " 'GAIA_G_MAG',\n",
       " 'GAIA_G_FLUX_SNR',\n",
       " 'GAIA_BP_MAG',\n",
       " 'GAIA_BP_FLUX_SNR',\n",
       " 'GAIA_RP_MAG',\n",
       " 'GAIA_RP_FLUX_SNR',\n",
       " 'SDSS2GAIA_SEP')"
      ]
     },
     "execution_count": 75,
     "metadata": {},
     "output_type": "execute_result"
    }
   ],
   "source": [
    "fez.dtype.names"
   ]
  },
  {
   "cell_type": "code",
   "execution_count": 60,
   "metadata": {},
   "outputs": [],
   "source": [
    "fa = Table.read('/global/cfs/cdirs/desi/survey/catalogs/SV1/redshift_comps/blanc/v2/All/alltiles_Allzinfo.fits')"
   ]
  },
  {
   "cell_type": "code",
   "execution_count": 77,
   "metadata": {},
   "outputs": [],
   "source": [
    "dje = join(fa,fen,keys=['TARGETID'])"
   ]
  },
  {
   "cell_type": "code",
   "execution_count": 62,
   "metadata": {},
   "outputs": [
    {
     "data": {
      "text/plain": [
       "893"
      ]
     },
     "execution_count": 62,
     "metadata": {},
     "output_type": "execute_result"
    }
   ],
   "source": [
    "len(dje)"
   ]
  },
  {
   "cell_type": "code",
   "execution_count": 63,
   "metadata": {},
   "outputs": [
    {
     "data": {
      "text/plain": [
       "165"
      ]
     },
     "execution_count": 63,
     "metadata": {},
     "output_type": "execute_result"
    }
   ],
   "source": [
    "len(np.unique(dje['TARGETID']))"
   ]
  },
  {
   "cell_type": "code",
   "execution_count": 64,
   "metadata": {},
   "outputs": [],
   "source": [
    "fes = Table.read('/global/cfs/cdirs/desi/target/analysis/truth/dr9.0/south/matched/ls-dr9.0-DR16Q_v4-match.fits')"
   ]
  },
  {
   "cell_type": "code",
   "execution_count": 65,
   "metadata": {},
   "outputs": [],
   "source": [
    "fes['TARGETID'] = targets.encode_targetid(fes['OBJID'], fes['BRICKID'], fes['RELEASE'])"
   ]
  },
  {
   "cell_type": "code",
   "execution_count": 78,
   "metadata": {},
   "outputs": [
    {
     "name": "stdout",
     "output_type": "stream",
     "text": [
      "446369 446369\n"
     ]
    }
   ],
   "source": [
    "fez = fitsio.read('/global/cfs/cdirs/desi/target/analysis/truth/dr9.0/south/matched/DR16Q_v4-match.fits')\n",
    "print(len(fez),len(fes))\n",
    "fes['Z_eboss'] = fez['Z']\n",
    "fes['Z_PCAeboss'] = fez['Z_PCA']"
   ]
  },
  {
   "cell_type": "code",
   "execution_count": 79,
   "metadata": {},
   "outputs": [],
   "source": [
    "djes = join(fa,fes,keys=['TARGETID'])"
   ]
  },
  {
   "cell_type": "code",
   "execution_count": 80,
   "metadata": {},
   "outputs": [
    {
     "data": {
      "text/plain": [
       "2334"
      ]
     },
     "execution_count": 80,
     "metadata": {},
     "output_type": "execute_result"
    }
   ],
   "source": [
    "len(djes)"
   ]
  },
  {
   "cell_type": "code",
   "execution_count": 68,
   "metadata": {},
   "outputs": [
    {
     "data": {
      "text/plain": [
       "522"
      ]
     },
     "execution_count": 68,
     "metadata": {},
     "output_type": "execute_result"
    }
   ],
   "source": [
    "len(np.unique(djes['TARGETID']))"
   ]
  },
  {
   "cell_type": "code",
   "execution_count": 81,
   "metadata": {},
   "outputs": [],
   "source": [
    "seld = dje['subset'] == 'deep'\n",
    "djed = dje[seld]"
   ]
  },
  {
   "cell_type": "code",
   "execution_count": 82,
   "metadata": {},
   "outputs": [],
   "source": [
    "seld = djes['subset'] == 'deep'\n",
    "djesd = djes[seld]"
   ]
  },
  {
   "cell_type": "code",
   "execution_count": 83,
   "metadata": {},
   "outputs": [
    {
     "name": "stdout",
     "output_type": "stream",
     "text": [
      "174 537\n"
     ]
    }
   ],
   "source": [
    "print(len(djed),len(djesd))"
   ]
  },
  {
   "cell_type": "code",
   "execution_count": 87,
   "metadata": {},
   "outputs": [
    {
     "data": {
      "text/plain": [
       "(array([404.,   0.,   0.,   0.,   0.,  44.,   0.,   0.,   0.,  89.]),\n",
       " array([0. , 0.2, 0.4, 0.6, 0.8, 1. , 1.2, 1.4, 1.6, 1.8, 2. ]),\n",
       " <a list of 10 Patch objects>)"
      ]
     },
     "execution_count": 87,
     "metadata": {},
     "output_type": "execute_result"
    },
    {
     "data": {
      "image/png": "[encoded data removed]",
      "text/plain": [
       "<Figure size 432x288 with 1 Axes>"
      ]
     },
     "metadata": {
      "needs_background": "light"
     },
     "output_type": "display_data"
    }
   ],
   "source": [
    "plt.hist(djesd['SPECTYPE'])"
   ]
  },
  {
   "cell_type": "code",
   "execution_count": 88,
   "metadata": {},
   "outputs": [
    {
     "data": {
      "text/plain": [
       "(array([126.,   0.,   0.,   0.,   0.,  45.,   0.,   0.,   0.,   3.]),\n",
       " array([0. , 0.2, 0.4, 0.6, 0.8, 1. , 1.2, 1.4, 1.6, 1.8, 2. ]),\n",
       " <a list of 10 Patch objects>)"
      ]
     },
     "execution_count": 88,
     "metadata": {},
     "output_type": "execute_result"
    },
    {
     "data": {
      "image/png": "[encoded data removed]",
      "text/plain": [
       "<Figure size 432x288 with 1 Axes>"
      ]
     },
     "metadata": {
      "needs_background": "light"
     },
     "output_type": "display_data"
    }
   ],
   "source": [
    "plt.hist(djed['SPECTYPE'])"
   ]
  },
  {
   "cell_type": "code",
   "execution_count": 90,
   "metadata": {},
   "outputs": [
    {
     "data": {
      "text/plain": [
       "[<matplotlib.lines.Line2D at 0x2aab1c8cba90>]"
      ]
     },
     "execution_count": 90,
     "metadata": {},
     "output_type": "execute_result"
    },
    {
     "data": {
      "image/png": "[encoded data removed]",
      "text/plain": [
       "<Figure size 432x288 with 1 Axes>"
      ]
     },
     "metadata": {
      "needs_background": "light"
     },
     "output_type": "display_data"
    }
   ],
   "source": [
    "plt.plot(djesd['Z'],djesd['Z_PCAeboss'],'ko')"
   ]
  },
  {
   "cell_type": "code",
   "execution_count": 92,
   "metadata": {},
   "outputs": [
    {
     "data": {
      "text/plain": [
       "[<matplotlib.lines.Line2D at 0x2aab1c92ae20>]"
      ]
     },
     "execution_count": 92,
     "metadata": {},
     "output_type": "execute_result"
    },
    {
     "data": {
      "image/png": "[encoded data removed]",
      "text/plain": [
       "<Figure size 432x288 with 1 Axes>"
      ]
     },
     "metadata": {
      "needs_background": "light"
     },
     "output_type": "display_data"
    }
   ],
   "source": [
    "plt.plot(djesd['Z'],djesd['Z_eboss'],'ko')"
   ]
  },
  {
   "cell_type": "code",
   "execution_count": 91,
   "metadata": {},
   "outputs": [],
   "source": [
    "selqt = djesd['SPECTYPE'] == 'QSO'"
   ]
  },
  {
   "cell_type": "code",
   "execution_count": 107,
   "metadata": {},
   "outputs": [
    {
     "data": {
      "text/plain": [
       "Text(0.5, 1.0, 'South deep DESI data, restricting to redrock type QSO')"
      ]
     },
     "execution_count": 107,
     "metadata": {},
     "output_type": "execute_result"
    },
    {
     "data": {
      "image/png": "[encoded data removed]",
      "text/plain": [
       "<Figure size 432x288 with 1 Axes>"
      ]
     },
     "metadata": {
      "needs_background": "light"
     },
     "output_type": "display_data"
    }
   ],
   "source": [
    "plt.plot(djesd[selqt]['Z'],djesd[selqt]['Z_eboss'],'ko')\n",
    "plt.xlabel('Z_desi')\n",
    "plt.ylabel('Z_eboss')\n",
    "plt.title('South deep DESI data, restricting to redrock type QSO')"
   ]
  },
  {
   "cell_type": "code",
   "execution_count": 106,
   "metadata": {},
   "outputs": [
    {
     "data": {
      "image/png": "[encoded data removed]",
      "text/plain": [
       "<Figure size 432x288 with 1 Axes>"
      ]
     },
     "metadata": {
      "needs_background": "light"
     },
     "output_type": "display_data"
    }
   ],
   "source": [
    "plt.plot(djesd[selqt]['Z'],(djesd[selqt]['Z']-djesd[selqt]['Z_eboss'])/(1+djesd[selqt]['Z']),'ko')\n",
    "plt.ylim(-0.01,.01)\n",
    "plt.ylabel('(Z_desi-Z_eboss)/(1+Z_desi)')\n",
    "plt.xlabel('Z_desi')\n",
    "plt.title('South deep DESI data, restricting to redrock type QSO')\n",
    "plt.show()"
   ]
  },
  {
   "cell_type": "code",
   "execution_count": 102,
   "metadata": {},
   "outputs": [],
   "source": [
    "selo = abs(djesd[selqt]['Z']-djesd[selqt]['Z_eboss']) >  1000./3e5*(1+djesd[selqt]['Z'])"
   ]
  },
  {
   "cell_type": "code",
   "execution_count": 103,
   "metadata": {},
   "outputs": [
    {
     "name": "stdout",
     "output_type": "stream",
     "text": [
      "28 404\n"
     ]
    }
   ],
   "source": [
    "print(len(djesd[selqt][selo]['Z']),len(djesd[selqt]['Z']))"
   ]
  },
  {
   "cell_type": "code",
   "execution_count": 104,
   "metadata": {},
   "outputs": [
    {
     "data": {
      "text/plain": [
       "(array([2., 1., 2., 1., 3., 3., 4., 8., 1., 3.]),\n",
       " array([0.06897866, 0.42507182, 0.78116498, 1.13725814, 1.49335129,\n",
       "        1.84944445, 2.20553761, 2.56163077, 2.91772393, 3.27381709,\n",
       "        3.62991025]),\n",
       " <a list of 10 Patch objects>)"
      ]
     },
     "execution_count": 104,
     "metadata": {},
     "output_type": "execute_result"
    },
    {
     "data": {
      "image/png": "[encoded data removed]",
      "text/plain": [
       "<Figure size 432x288 with 1 Axes>"
      ]
     },
     "metadata": {
      "needs_background": "light"
     },
     "output_type": "display_data"
    }
   ],
   "source": [
    "plt.hist(djesd[selqt][selo]['Z'])"
   ]
  },
  {
   "cell_type": "code",
   "execution_count": null,
   "metadata": {},
   "outputs": [],
   "source": []
  }
 ],
 "metadata": {
  "kernelspec": {
   "display_name": "DESI master",
   "language": "python",
   "name": "desi-master"
  },
  "language_info": {
   "codemirror_mode": {
    "name": "ipython",
    "version": 3
   },
   "file_extension": ".py",
   "mimetype": "text/x-python",
   "name": "python",
   "nbconvert_exporter": "python",
   "pygments_lexer": "ipython3",
   "version": "3.8.3"
  }
 },
 "nbformat": 4,
 "nbformat_minor": 4
}
