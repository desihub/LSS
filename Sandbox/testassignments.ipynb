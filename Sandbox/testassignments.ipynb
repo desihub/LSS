{
 "cells": [
  {
   "cell_type": "code",
   "execution_count": 1,
   "metadata": {},
   "outputs": [],
   "source": [
    "import fitsio\n",
    "from matplotlib import pyplot as plt\n",
    "import numpy as np"
   ]
  },
  {
   "cell_type": "code",
   "execution_count": 2,
   "metadata": {},
   "outputs": [],
   "source": [
    "f = fitsio.read('/global/cfs/cdirs/desi/users/raichoor/desi-fa/dr9-0.53.0-sv2-160ra200_45dec60-4112packing-dark7pass-2021-03-18/outputs/science-after-pass6_162ra198_47dec58.fits')"
   ]
  },
  {
   "cell_type": "code",
   "execution_count": 3,
   "metadata": {},
   "outputs": [
    {
     "data": {
      "text/plain": [
       "934543"
      ]
     },
     "execution_count": 3,
     "metadata": {},
     "output_type": "execute_result"
    }
   ],
   "source": [
    "len(f)"
   ]
  },
  {
   "cell_type": "code",
   "execution_count": 4,
   "metadata": {},
   "outputs": [
    {
     "data": {
      "text/plain": [
       "array([[1, 0, 0, ..., 0, 0, 0],\n",
       "       [0, 1, 0, ..., 0, 0, 0],\n",
       "       [0, 0, 1, ..., 0, 0, 0],\n",
       "       ...,\n",
       "       [0, 0, 0, ..., 0, 0, 0],\n",
       "       [0, 0, 0, ..., 0, 0, 0],\n",
       "       [0, 0, 1, ..., 0, 0, 0]], dtype=int16)"
      ]
     },
     "execution_count": 4,
     "metadata": {},
     "output_type": "execute_result"
    }
   ],
   "source": [
    "f['ar_numobs_done']"
   ]
  },
  {
   "cell_type": "code",
   "execution_count": 5,
   "metadata": {},
   "outputs": [],
   "source": [
    "td = f[\"ar_numobs_done\"].sum(axis=1) #this has a list for each pass, 0 or 1, so the sum gets all passes"
   ]
  },
  {
   "cell_type": "code",
   "execution_count": 6,
   "metadata": {},
   "outputs": [
    {
     "data": {
      "text/plain": [
       "array([1, 1, 1, ..., 0, 0, 1])"
      ]
     },
     "execution_count": 6,
     "metadata": {},
     "output_type": "execute_result"
    }
   ],
   "source": [
    "td"
   ]
  },
  {
   "cell_type": "code",
   "execution_count": 7,
   "metadata": {},
   "outputs": [
    {
     "data": {
      "text/plain": [
       "643610"
      ]
     },
     "execution_count": 7,
     "metadata": {},
     "output_type": "execute_result"
    }
   ],
   "source": [
    "sum(td)"
   ]
  },
  {
   "cell_type": "code",
   "execution_count": 8,
   "metadata": {},
   "outputs": [
    {
     "data": {
      "text/plain": [
       "0.6886895520056328"
      ]
     },
     "execution_count": 8,
     "metadata": {},
     "output_type": "execute_result"
    }
   ],
   "source": [
    "#overall fraction of assigned targets is then\n",
    "sum(td)/len(f)"
   ]
  },
  {
   "cell_type": "code",
   "execution_count": 9,
   "metadata": {},
   "outputs": [],
   "source": [
    "#this now selects everything that got assigned\n",
    "w = td > 0"
   ]
  },
  {
   "cell_type": "markdown",
   "metadata": {},
   "source": [
    "## just going to split based on priority, since we have a no fiberassign reference"
   ]
  },
  {
   "cell_type": "code",
   "execution_count": 10,
   "metadata": {},
   "outputs": [],
   "source": [
    "#ELGs\n",
    "we = f['PRIORITY'] == 3000\n",
    "wet = we & w"
   ]
  },
  {
   "cell_type": "code",
   "execution_count": 11,
   "metadata": {},
   "outputs": [],
   "source": [
    "#QSOs\n",
    "wq = f['PRIORITY'] == 3400\n",
    "wqt = wq & w"
   ]
  },
  {
   "cell_type": "code",
   "execution_count": 12,
   "metadata": {},
   "outputs": [],
   "source": [
    "#LRGs\n",
    "wl = f['PRIORITY'] == 3200\n",
    "wlt = wl & w"
   ]
  },
  {
   "cell_type": "code",
   "execution_count": 13,
   "metadata": {},
   "outputs": [
    {
     "data": {
      "text/plain": [
       "0.9385744377250799"
      ]
     },
     "execution_count": 13,
     "metadata": {},
     "output_type": "execute_result"
    }
   ],
   "source": [
    "len(f[wlt])/len(f[wl]) #fraction of objects with LRG priority assigned"
   ]
  },
  {
   "cell_type": "code",
   "execution_count": 14,
   "metadata": {},
   "outputs": [
    {
     "data": {
      "text/plain": [
       "0.6181990673405253"
      ]
     },
     "execution_count": 14,
     "metadata": {},
     "output_type": "execute_result"
    }
   ],
   "source": [
    "len(f[wet])/len(f[we]) #fraction with ELG priority assigned"
   ]
  },
  {
   "cell_type": "code",
   "execution_count": 15,
   "metadata": {},
   "outputs": [
    {
     "data": {
      "text/plain": [
       "0.9981952354215128"
      ]
     },
     "execution_count": 15,
     "metadata": {},
     "output_type": "execute_result"
    }
   ],
   "source": [
    "len(f[wqt])/len(f[wq]) #fraction with QSO priority assigned"
   ]
  },
  {
   "cell_type": "code",
   "execution_count": 16,
   "metadata": {},
   "outputs": [],
   "source": [
    "#function to count pairs within some maximum radius\n",
    "#angular distance just approximated as d^2 = (Delta dec)^2 + (cos(dec)*Delta ra)^2\n",
    "def getnp(ra1,dec1,ra2,dec2,cd1,maxa):\n",
    "    maxa2 = maxa*maxa\n",
    "    npn = 0\n",
    "    for i in range(0,len(cd1)):\n",
    "        rai = ra1[i]\n",
    "        deci = dec1[i]\n",
    "        cdi = cd1[i]\n",
    "        ddi = abs(dec2 - deci)\n",
    "        wi = ddi < maxa\n",
    "        dri = abs(ra2-rai)*cdi\n",
    "        wi &= dri < maxa\n",
    "        ddiw = ddi[wi]\n",
    "        driw = dri[wi]\n",
    "        ws = (ddiw**2.+driw**2.) < maxa2\n",
    "        npn += len(ddiw[ws])\n",
    "        if i%10000 == 0:\n",
    "            print(i,npn)\n",
    "    return npn        "
   ]
  },
  {
   "cell_type": "code",
   "execution_count": 47,
   "metadata": {},
   "outputs": [],
   "source": []
  },
  {
   "cell_type": "code",
   "execution_count": 17,
   "metadata": {},
   "outputs": [],
   "source": [
    "cd = np.cos(f['DEC']*np.pi/180.)"
   ]
  },
  {
   "cell_type": "code",
   "execution_count": 18,
   "metadata": {},
   "outputs": [],
   "source": [
    "#cos(dec) before fiberassign\n",
    "cde = cd[we]\n",
    "cdq = cd[wq]\n",
    "cdl = cd[wl]\n",
    "#cos(dec) after fiberassign\n",
    "cdet = cd[wet]\n",
    "cdqt = cd[wqt]\n",
    "cdlt = cd[wlt]"
   ]
  },
  {
   "cell_type": "code",
   "execution_count": 19,
   "metadata": {},
   "outputs": [],
   "source": [
    "#split ra/dec by type before fiberassign\n",
    "raq = f['RA'][wq]\n",
    "decq = f['DEC'][wq]\n",
    "rae = f['RA'][we]\n",
    "dece = f['DEC'][we]\n",
    "ral = f['RA'][wl]\n",
    "decl = f['DEC'][wl]\n",
    "#after fiberassign\n",
    "raqt = f['RA'][wqt]\n",
    "decqt = f['DEC'][wqt]\n",
    "raet = f['RA'][wet]\n",
    "decet = f['DEC'][wet]\n",
    "ralt = f['RA'][wlt]\n",
    "declt = f['DEC'][wlt]"
   ]
  },
  {
   "cell_type": "code",
   "execution_count": 20,
   "metadata": {},
   "outputs": [
    {
     "name": "stdout",
     "output_type": "stream",
     "text": [
      "0 2\n",
      "10000 7771\n",
      "20000 15623\n",
      "30000 23452\n",
      "40000 31101\n",
      "50000 38875\n",
      "60000 46680\n",
      "70000 54663\n"
     ]
    }
   ],
   "source": [
    "#no fiberassign, ELGxQSO\n",
    "maxaa = 0.01\n",
    "npn = getnp(raq,decq,rae,dece,cdq,maxaa)"
   ]
  },
  {
   "cell_type": "code",
   "execution_count": 21,
   "metadata": {},
   "outputs": [
    {
     "name": "stdout",
     "output_type": "stream",
     "text": [
      "0 1\n",
      "10000 3580\n",
      "20000 7202\n",
      "30000 10904\n",
      "40000 14555\n",
      "50000 18405\n",
      "60000 22003\n",
      "70000 25811\n"
     ]
    }
   ],
   "source": [
    "#fiberassign ELGxQSO\n",
    "npt = getnp(raqt,decqt,raet,decet,cdqt,maxaa)"
   ]
  },
  {
   "cell_type": "code",
   "execution_count": 22,
   "metadata": {},
   "outputs": [
    {
     "name": "stdout",
     "output_type": "stream",
     "text": [
      "0.4694522771938819 0.6170833635613353 0.7607598987672602\n"
     ]
    }
   ],
   "source": [
    "#compare fraction of pairs to the fraction expected if reduction in assigned number was random\n",
    "print(npt/npn,len(raet)/len(rae)*len(raqt)/len(raq),npt/npn/(len(raet)/len(rae)*len(raqt)/len(raq)))"
   ]
  },
  {
   "cell_type": "markdown",
   "metadata": {},
   "source": [
    "## so we lose 24% more ELGxQSO pairs than expected if the ELGs were choosen at random"
   ]
  },
  {
   "cell_type": "code",
   "execution_count": 23,
   "metadata": {},
   "outputs": [
    {
     "name": "stdout",
     "output_type": "stream",
     "text": [
      "0 0\n",
      "10000 7872\n",
      "20000 16080\n",
      "30000 24231\n",
      "40000 32128\n",
      "50000 39769\n",
      "60000 47711\n",
      "70000 55414\n",
      "80000 63215\n",
      "90000 71048\n",
      "100000 78937\n",
      "110000 86702\n",
      "120000 94482\n",
      "130000 101975\n",
      "140000 110144\n"
     ]
    }
   ],
   "source": [
    "#no fiberassign, ELGxLRG\n",
    "maxaa = 0.01\n",
    "npl = getnp(ral,decl,rae,dece,cdl,maxaa)"
   ]
  },
  {
   "cell_type": "code",
   "execution_count": 26,
   "metadata": {},
   "outputs": [
    {
     "name": "stdout",
     "output_type": "stream",
     "text": [
      "0 0\n",
      "10000 3935\n",
      "20000 7941\n",
      "30000 11975\n",
      "40000 15843\n",
      "50000 19814\n",
      "60000 23870\n",
      "70000 27728\n",
      "80000 31786\n",
      "90000 35825\n",
      "100000 39834\n",
      "110000 43818\n",
      "120000 47784\n",
      "130000 51916\n"
     ]
    }
   ],
   "source": [
    "#fiberassign, ELGxLRG\n",
    "maxaa = 0.01\n",
    "nplt = getnp(ralt,declt,raet,decet,cdlt,maxaa)"
   ]
  },
  {
   "cell_type": "code",
   "execution_count": 27,
   "metadata": {},
   "outputs": [
    {
     "name": "stdout",
     "output_type": "stream",
     "text": [
      "0.4741318458068626 0.5802258420313023 0.817150515301047\n"
     ]
    }
   ],
   "source": [
    "#compare fraction of pairs to the fraction expected if reduction in assigned number was random\n",
    "print(nplt/npl,len(raet)/len(rae)*len(ralt)/len(ral),nplt/npl/(len(raet)/len(rae)*len(ralt)/len(ral)))"
   ]
  },
  {
   "cell_type": "markdown",
   "metadata": {},
   "source": [
    "## and we lose 18% of ELGxLRG pairs"
   ]
  },
  {
   "cell_type": "markdown",
   "metadata": {},
   "source": [
    "### (below here are just cells where I tested different things out)"
   ]
  },
  {
   "cell_type": "code",
   "execution_count": 57,
   "metadata": {},
   "outputs": [
    {
     "name": "stdout",
     "output_type": "stream",
     "text": [
      "0 0\n",
      "1000 941\n",
      "2000 4148\n",
      "3000 5890\n",
      "4000 7801\n",
      "5000 11872\n",
      "6000 13985\n",
      "7000 16989\n",
      "8000 18356\n",
      "9000 21644\n",
      "10000 23991\n",
      "11000 28022\n",
      "12000 30798\n",
      "13000 33355\n",
      "14000 35679\n",
      "15000 38540\n",
      "16000 40198\n",
      "17000 42486\n",
      "18000 43780\n",
      "19000 46608\n",
      "20000 48939\n",
      "21000 51682\n",
      "22000 54686\n",
      "23000 57010\n",
      "24000 57975\n",
      "25000 59043\n",
      "26000 60108\n",
      "27000 61127\n",
      "28000 62096\n",
      "29000 64985\n",
      "30000 67601\n",
      "31000 69233\n",
      "32000 72559\n",
      "33000 74945\n",
      "34000 77614\n",
      "35000 81339\n",
      "36000 82098\n",
      "37000 82832\n",
      "38000 84519\n",
      "39000 86317\n",
      "40000 89419\n",
      "41000 91356\n",
      "42000 93360\n",
      "43000 94502\n",
      "44000 97415\n",
      "45000 99898\n",
      "46000 102971\n",
      "47000 104978\n",
      "48000 109297\n",
      "49000 110968\n",
      "50000 112754\n",
      "51000 115566\n",
      "52000 117125\n",
      "53000 119123\n",
      "54000 122271\n",
      "55000 125491\n",
      "56000 126625\n",
      "57000 128467\n",
      "58000 130777\n",
      "59000 135299\n",
      "60000 138345\n",
      "61000 141345\n",
      "62000 146786\n",
      "63000 150692\n",
      "64000 155886\n",
      "65000 156979\n",
      "66000 157986\n",
      "67000 159064\n",
      "68000 160110\n",
      "69000 161442\n",
      "70000 162995\n",
      "71000 163946\n",
      "72000 166908\n",
      "73000 170256\n",
      "74000 171323\n"
     ]
    }
   ],
   "source": [
    "#no fiberassign, ELGxQSO\n",
    "npn = 0\n",
    "for i in range(0,len(cdq)):\n",
    "    rai = raq[i]\n",
    "    deci = decq[i]\n",
    "    cdi = cdq[i]\n",
    "    ddi = abs(dece - deci)\n",
    "    wi = ddi < maxa\n",
    "    dri = abs(rae-rai)*cdi\n",
    "    wi &= dri < maxa\n",
    "    ddiw = ddi[wi]\n",
    "    driw = dri[wi]\n",
    "    ws = (ddiw**2.+driw**2.) < maxa2\n",
    "    npn += len(ddiw[ws])\n",
    "    if i%1000 == 0:\n",
    "        print(i,npn)"
   ]
  },
  {
   "cell_type": "code",
   "execution_count": 43,
   "metadata": {},
   "outputs": [],
   "source": []
  },
  {
   "cell_type": "code",
   "execution_count": 42,
   "metadata": {},
   "outputs": [],
   "source": []
  },
  {
   "cell_type": "code",
   "execution_count": 58,
   "metadata": {},
   "outputs": [
    {
     "name": "stdout",
     "output_type": "stream",
     "text": [
      "0 0\n",
      "1000 461\n",
      "2000 2226\n",
      "3000 3348\n",
      "4000 4354\n",
      "5000 6449\n",
      "6000 7678\n",
      "7000 9159\n",
      "8000 9836\n",
      "9000 11602\n",
      "10000 12763\n",
      "11000 15001\n",
      "12000 16396\n",
      "13000 17831\n",
      "14000 19006\n",
      "15000 20661\n",
      "16000 21582\n",
      "17000 22973\n",
      "18000 23616\n",
      "19000 25206\n",
      "20000 26371\n",
      "21000 28118\n",
      "22000 29281\n",
      "23000 30477\n",
      "24000 30983\n",
      "25000 31493\n",
      "26000 32132\n",
      "27000 32608\n",
      "28000 33225\n",
      "29000 34739\n",
      "30000 36290\n",
      "31000 37140\n",
      "32000 39176\n",
      "33000 40563\n",
      "34000 41976\n",
      "35000 44102\n",
      "36000 44477\n",
      "37000 44819\n",
      "38000 45687\n",
      "39000 46745\n",
      "40000 48622\n",
      "41000 49666\n",
      "42000 50971\n",
      "43000 51540\n",
      "44000 53236\n",
      "45000 55007\n",
      "46000 56619\n",
      "47000 57770\n",
      "48000 60326\n",
      "49000 61316\n",
      "50000 62223\n",
      "51000 63724\n",
      "52000 64523\n",
      "53000 65601\n",
      "54000 67301\n",
      "55000 69001\n",
      "56000 69746\n",
      "57000 70569\n",
      "58000 72407\n",
      "59000 74340\n",
      "60000 76083\n",
      "61000 78430\n",
      "62000 81513\n",
      "63000 83644\n",
      "64000 86698\n",
      "65000 87304\n",
      "66000 87732\n",
      "67000 88334\n",
      "68000 88853\n",
      "69000 89484\n",
      "70000 90279\n",
      "71000 90811\n",
      "72000 92463\n",
      "73000 94442\n",
      "74000 94841\n"
     ]
    }
   ],
   "source": [
    "#fiberassign ELGxQSO\n",
    "npt = 0\n",
    "for i in range(0,len(cdqt)):\n",
    "    rai = raqt[i]\n",
    "    deci = decqt[i]\n",
    "    cdi = cdqt[i]\n",
    "    ddi = abs(decet - deci)\n",
    "    wi = ddi < maxa\n",
    "    dri = abs(raet-rai)*cdi\n",
    "    wi &= dri < maxa\n",
    "    ddiw = ddi[wi]\n",
    "    driw = dri[wi]\n",
    "    ws = (ddiw**2.+driw**2.) < maxa2\n",
    "    npt += len(ddiw[ws])\n",
    "    if i%1000 == 0:\n",
    "        print(i,npt)"
   ]
  },
  {
   "cell_type": "code",
   "execution_count": 61,
   "metadata": {},
   "outputs": [
    {
     "data": {
      "text/plain": [
       "0.5527603115420634"
      ]
     },
     "execution_count": 61,
     "metadata": {},
     "output_type": "execute_result"
    }
   ],
   "source": [
    "npt/npn"
   ]
  },
  {
   "cell_type": "code",
   "execution_count": 59,
   "metadata": {},
   "outputs": [
    {
     "name": "stdout",
     "output_type": "stream",
     "text": [
      "0 0\n",
      "1000 631\n",
      "2000 1218\n",
      "3000 5092\n",
      "4000 6972\n",
      "5000 8573\n",
      "6000 10542\n",
      "7000 13269\n",
      "8000 15790\n",
      "9000 18700\n",
      "10000 21731\n",
      "11000 26799\n",
      "12000 27898\n",
      "13000 29678\n",
      "14000 32681\n",
      "15000 34498\n",
      "16000 37383\n",
      "17000 39466\n",
      "18000 41270\n",
      "19000 44240\n",
      "20000 47290\n",
      "21000 49335\n",
      "22000 52003\n",
      "23000 56686\n",
      "24000 57859\n",
      "25000 63120\n",
      "26000 65049\n",
      "27000 68450\n",
      "28000 70061\n",
      "29000 72087\n",
      "30000 75851\n",
      "31000 78299\n",
      "32000 80113\n",
      "33000 81165\n",
      "34000 83257\n",
      "35000 84659\n",
      "36000 85409\n",
      "37000 87084\n",
      "38000 89837\n",
      "39000 92276\n",
      "40000 96130\n",
      "41000 97844\n",
      "42000 100314\n",
      "43000 104920\n",
      "44000 107443\n",
      "45000 111471\n",
      "46000 114855\n",
      "47000 115902\n",
      "48000 116840\n",
      "49000 118158\n",
      "50000 119184\n",
      "51000 120245\n",
      "52000 121443\n",
      "53000 122406\n",
      "54000 123375\n",
      "55000 124366\n",
      "56000 126045\n",
      "57000 130627\n",
      "58000 134711\n",
      "59000 140615\n",
      "60000 143080\n",
      "61000 147820\n",
      "62000 152863\n",
      "63000 155246\n",
      "64000 158889\n",
      "65000 161688\n",
      "66000 163416\n",
      "67000 166757\n",
      "68000 169239\n",
      "69000 170103\n",
      "70000 171017\n",
      "71000 171675\n",
      "72000 172610\n",
      "73000 177410\n",
      "74000 178135\n",
      "75000 180329\n",
      "76000 182966\n",
      "77000 187650\n",
      "78000 189156\n",
      "79000 193656\n",
      "80000 195061\n",
      "81000 197371\n",
      "82000 198865\n",
      "83000 200461\n",
      "84000 201422\n",
      "85000 206161\n",
      "86000 209941\n",
      "87000 212557\n",
      "88000 215570\n",
      "89000 219466\n",
      "90000 221272\n",
      "91000 222923\n",
      "92000 226861\n",
      "93000 228294\n",
      "94000 233686\n",
      "95000 236211\n",
      "96000 238868\n",
      "97000 242349\n",
      "98000 243487\n",
      "99000 246582\n",
      "100000 251134\n",
      "101000 253430\n",
      "102000 254426\n",
      "103000 256380\n",
      "104000 258867\n",
      "105000 260994\n",
      "106000 263518\n",
      "107000 265071\n",
      "108000 267565\n",
      "109000 269291\n",
      "110000 273141\n",
      "111000 276811\n",
      "112000 278769\n",
      "113000 283718\n",
      "114000 285951\n",
      "115000 288474\n",
      "116000 292117\n",
      "117000 293649\n",
      "118000 296365\n",
      "119000 300786\n",
      "120000 303879\n",
      "121000 308721\n",
      "122000 311506\n",
      "123000 315000\n",
      "124000 319579\n",
      "125000 323500\n",
      "126000 328534\n",
      "127000 329502\n",
      "128000 330840\n",
      "129000 331919\n",
      "130000 332668\n",
      "131000 333637\n",
      "132000 334872\n",
      "133000 335787\n",
      "134000 336993\n",
      "135000 338329\n",
      "136000 339521\n",
      "137000 341539\n",
      "138000 342776\n",
      "139000 343578\n",
      "140000 346969\n",
      "141000 349127\n",
      "142000 355131\n",
      "143000 355969\n",
      "144000 357256\n",
      "145000 358211\n",
      "146000 359041\n",
      "147000 359901\n"
     ]
    }
   ],
   "source": [
    "#no fiberassign ELGxLRG\n",
    "npl = 0\n",
    "for i in range(0,len(cdl)):\n",
    "    rai = ral[i]\n",
    "    deci = decl[i]\n",
    "    cdi = cdl[i]\n",
    "    ddi = abs(dece - deci)\n",
    "    wi = ddi < maxa\n",
    "    dri = abs(rae-rai)*cdi\n",
    "    wi &= dri < maxa\n",
    "    ddiw = ddi[wi]\n",
    "    driw = dri[wi]\n",
    "    ws = (ddiw**2.+driw**2.) < maxa2\n",
    "    npl += len(ddiw[ws])\n",
    "    if i%1000 == 0:\n",
    "        print(i,npl)"
   ]
  },
  {
   "cell_type": "code",
   "execution_count": 60,
   "metadata": {},
   "outputs": [
    {
     "name": "stdout",
     "output_type": "stream",
     "text": [
      "0 0\n",
      "1000 228\n",
      "2000 1258\n",
      "3000 2612\n",
      "4000 3377\n",
      "5000 4432\n",
      "6000 6150\n",
      "7000 8004\n",
      "8000 9200\n",
      "9000 9754\n",
      "10000 12445\n",
      "11000 14014\n",
      "12000 14940\n",
      "13000 16546\n",
      "14000 17287\n",
      "15000 18778\n",
      "16000 19763\n",
      "17000 21387\n",
      "18000 22333\n",
      "19000 23588\n",
      "20000 24463\n",
      "21000 26979\n",
      "22000 28430\n",
      "23000 30363\n",
      "24000 32078\n",
      "25000 33068\n",
      "26000 34334\n",
      "27000 35696\n",
      "28000 37997\n",
      "29000 39404\n",
      "30000 40499\n",
      "31000 41066\n",
      "32000 42103\n",
      "33000 42999\n",
      "34000 43316\n",
      "35000 45111\n",
      "36000 46762\n",
      "37000 47216\n",
      "38000 49505\n",
      "39000 50694\n",
      "40000 52651\n",
      "41000 53744\n",
      "42000 56003\n",
      "43000 57676\n",
      "44000 58169\n",
      "45000 58811\n",
      "46000 59329\n",
      "47000 59855\n",
      "48000 60530\n",
      "49000 61032\n",
      "50000 61669\n",
      "51000 62153\n",
      "52000 62567\n",
      "53000 65681\n",
      "54000 66524\n",
      "55000 70645\n",
      "56000 72859\n",
      "57000 75403\n",
      "58000 78251\n",
      "59000 79893\n",
      "60000 82020\n",
      "61000 83862\n",
      "62000 84749\n",
      "63000 86394\n",
      "64000 87727\n",
      "65000 88108\n",
      "66000 88574\n",
      "67000 88917\n",
      "68000 89359\n",
      "69000 92117\n",
      "70000 92441\n",
      "71000 94986\n",
      "72000 96863\n",
      "73000 98391\n",
      "74000 100124\n",
      "75000 101950\n",
      "76000 103396\n",
      "77000 104393\n",
      "78000 105325\n",
      "79000 107918\n",
      "80000 109003\n",
      "81000 110943\n",
      "82000 112468\n",
      "83000 115190\n",
      "84000 116492\n",
      "85000 117513\n",
      "86000 118959\n",
      "87000 121283\n",
      "88000 122687\n",
      "89000 125088\n",
      "90000 126128\n",
      "91000 128076\n",
      "92000 128941\n",
      "93000 130732\n",
      "94000 132870\n",
      "95000 134292\n",
      "96000 134786\n",
      "97000 135849\n",
      "98000 137158\n",
      "99000 138520\n",
      "100000 139680\n",
      "101000 141159\n",
      "102000 142215\n",
      "103000 143459\n",
      "104000 145500\n",
      "105000 147567\n",
      "106000 148425\n",
      "107000 150926\n",
      "108000 151715\n",
      "109000 154042\n",
      "110000 154772\n",
      "111000 156483\n",
      "112000 158745\n",
      "113000 160735\n",
      "114000 163696\n",
      "115000 166481\n",
      "116000 168195\n",
      "117000 171638\n",
      "118000 173434\n",
      "119000 175357\n",
      "120000 175934\n",
      "121000 176667\n",
      "122000 177079\n",
      "123000 177595\n",
      "124000 178202\n",
      "125000 178637\n",
      "126000 179339\n",
      "127000 179941\n",
      "128000 180832\n",
      "129000 181531\n",
      "130000 182256\n",
      "131000 183068\n",
      "132000 184751\n",
      "133000 188689\n",
      "134000 189098\n",
      "135000 189639\n",
      "136000 190178\n",
      "137000 190618\n",
      "138000 190981\n"
     ]
    }
   ],
   "source": [
    "#fibersassign ELGxLRG\n",
    "nplt = 0\n",
    "for i in range(0,len(cdlt)):\n",
    "    rai = ralt[i]\n",
    "    deci = declt[i]\n",
    "    cdi = cdlt[i]\n",
    "    ddi = abs(decet - deci)\n",
    "    wi = ddi < maxa\n",
    "    dri = abs(raet-rai)*cdi\n",
    "    wi &= dri < maxa\n",
    "    ddiw = ddi[wi]\n",
    "    driw = dri[wi]\n",
    "    ws = (ddiw**2.+driw**2.) < maxa2\n",
    "    nplt += len(ddiw[ws])\n",
    "    if i%1000 == 0:\n",
    "        print(i,nplt)"
   ]
  },
  {
   "cell_type": "code",
   "execution_count": 62,
   "metadata": {},
   "outputs": [
    {
     "data": {
      "text/plain": [
       "0.5306057255873644"
      ]
     },
     "execution_count": 62,
     "metadata": {},
     "output_type": "execute_result"
    }
   ],
   "source": [
    "nplt/npl\n"
   ]
  },
  {
   "cell_type": "code",
   "execution_count": null,
   "metadata": {},
   "outputs": [],
   "source": []
  }
 ],
 "metadata": {
  "kernelspec": {
   "display_name": "DESI master",
   "language": "python",
   "name": "desi-master"
  },
  "language_info": {
   "codemirror_mode": {
    "name": "ipython",
    "version": 3
   },
   "file_extension": ".py",
   "mimetype": "text/x-python",
   "name": "python",
   "nbconvert_exporter": "python",
   "pygments_lexer": "ipython3",
   "version": "3.8.3"
  }
 },
 "nbformat": 4,
 "nbformat_minor": 4
}
