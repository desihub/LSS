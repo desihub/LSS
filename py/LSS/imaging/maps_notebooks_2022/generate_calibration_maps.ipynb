{
 "cells": [
  {
   "cell_type": "markdown",
   "id": "50103b00-8222-4a39-bbb1-c44604fddeb2",
   "metadata": {},
   "source": [
    "# Calibration Residuals DECaLS "
   ]
  },
  {
   "cell_type": "code",
   "execution_count": 1,
   "id": "6542480c-cdc0-46f8-b9db-2b30edb68498",
   "metadata": {},
   "outputs": [],
   "source": [
    "import numpy as np\n",
    "import requests\n",
    "import fitsio\n",
    "import healpy as hp\n",
    "import matplotlib.pyplot as plt"
   ]
  },
  {
   "cell_type": "markdown",
   "id": "3d4fb0e6-1121-4d16-a39b-3536a23122fe",
   "metadata": {},
   "source": [
    "Maps from Aaron Meisner\n",
    "The sense of the residuals provided is LS minus PS1."
   ]
  },
  {
   "cell_type": "code",
   "execution_count": 2,
   "id": "a1bad8f0-24ee-41b3-9086-f3b8d1747647",
   "metadata": {},
   "outputs": [],
   "source": [
    "fileG = '/global/cfs/cdirs/desi/users/ameisner/DR9/20210114/dr9m_south_qa/psf/healpix/decam-ps1-0128-g.fits'\n",
    "fileR = '/global/cfs/cdirs/desi/users/ameisner/DR9/20210114/dr9m_south_qa/psf/healpix/decam-ps1-0128-r.fits'\n",
    "fileZ = '/global/cfs/cdirs/desi/users/ameisner/DR9/20210114/dr9m_south_qa/psf/healpix/decam-ps1-0128-z.fits'"
   ]
  },
  {
   "cell_type": "code",
   "execution_count": 9,
   "id": "11c98714-d86e-4484-a119-483baa51425f",
   "metadata": {},
   "outputs": [],
   "source": [
    "fileG = '/global/u1/m/manera/myKP3/kp3sys-inputs/decam-ps1-0128-g.fits'\n",
    "fileR = '/global/u1/m/manera/myKP3/kp3sys-inputs/decam-ps1-0128-r.fits'\n",
    "fileZ = '/global/u1/m/manera/myKP3/kp3sys-inputs/decam-ps1-0128-z.fits'"
   ]
  },
  {
   "cell_type": "markdown",
   "id": "b7515e53-685c-45a4-ba41-a31da969133a",
   "metadata": {},
   "source": [
    "#### NOTE: these input files are not healpix!! Just fits with npix array"
   ]
  },
  {
   "cell_type": "code",
   "execution_count": 11,
   "id": "a4b39695-2408-4f71-b5fc-42a0762befa0",
   "metadata": {},
   "outputs": [
    {
     "name": "stdout",
     "output_type": "stream",
     "text": [
      "\n",
      "SIMPLE  =                    T / Written by IDL:  Thu Jan 14 05:07:40 2021\n",
      "BITPIX  =                  -32 / Number of bits per data pixel\n",
      "NAXIS   =                    1 / Number of data axes\n",
      "NAXIS1  =               196608 / \n",
      "EXTEND  =                    T / FITS data may contain extensions\n",
      "DATE    = '2021-01-14'         / Creation UTC (CCCC-MM-DD) date of FITS header\n",
      "COMMENT and Astrophysics', volume 376, page 359; bibcode 2001A&A...376..359H\n",
      "COMMENT FITS (Flexible Image Transport System) format is defined in 'Astronomy\n"
     ]
    }
   ],
   "source": [
    "h = fitsio.read_header(fileG)\n",
    "print(h)"
   ]
  },
  {
   "cell_type": "markdown",
   "id": "08302ff3-28ca-43bd-af62-d9c09236a0fb",
   "metadata": {},
   "source": [
    "### Create maps "
   ]
  },
  {
   "cell_type": "code",
   "execution_count": null,
   "id": "dcbee3cd-73cf-4cc3-95fe-cabaf1238fd0",
   "metadata": {},
   "outputs": [],
   "source": [
    "mapaG,h = fitsio.read(fileG, header=True)\n",
    "maskG = (mapaR == 0)\n",
    "mapaG_n256 = hp.ud_grade(mapaG,256)\n",
    "maskG_n256 = hp.ud_grade(maskG,256)"
   ]
  },
  {
   "cell_type": "code",
   "execution_count": 34,
   "id": "b4afc3f3-882d-41cf-9850-bf4559a5c683",
   "metadata": {},
   "outputs": [],
   "source": [
    "mapaR,h = fitsio.read(fileR, header=True)\n",
    "maskR = (mapaR == 0)\n",
    "mapaR_n256 = hp.ud_grade(mapaR,256)\n",
    "maskR_n256 = hp.ud_grade(maskR,256)"
   ]
  },
  {
   "cell_type": "code",
   "execution_count": 36,
   "id": "f80ade3c-8ddf-4c92-8c6d-f9e0e8c33d87",
   "metadata": {},
   "outputs": [],
   "source": [
    "mapaZ,h = fitsio.read(fileZ, header=True)\n",
    "maskZ = (mapaR == 0)\n",
    "mapaZ_n256 = hp.ud_grade(mapaZ,256)\n",
    "maskZ_n256 = hp.ud_grade(maskZ,256)"
   ]
  },
  {
   "cell_type": "markdown",
   "id": "5899379f-b4d4-4629-8142-774b5c2d2af0",
   "metadata": {
    "tags": []
   },
   "source": [
    "### Not all masks are equal"
   ]
  },
  {
   "cell_type": "code",
   "execution_count": 44,
   "id": "c3cb16a9-b1f9-4483-bbc8-cf66c5179360",
   "metadata": {},
   "outputs": [
    {
     "name": "stdout",
     "output_type": "stream",
     "text": [
      "False\n",
      "True\n"
     ]
    }
   ],
   "source": [
    "# Not all masks are equal! \n",
    "print( np.sum(maskZ == maskG) == hp.nside2npix(128) ) \n",
    "print( np.sum(maskZ == maskR) == hp.nside2npix(128) ) "
   ]
  },
  {
   "cell_type": "markdown",
   "id": "89b98776-e3ec-48f9-9122-e82399a951c7",
   "metadata": {},
   "source": [
    "### Show and write maps"
   ]
  },
  {
   "cell_type": "code",
   "execution_count": null,
   "id": "c7985754-683f-46f8-920b-7956db075624",
   "metadata": {},
   "outputs": [],
   "source": [
    "hp.mollview(mapaG_n256,title='calibration',min=-0.005,max=0.005)\n",
    "hp.mollview(mapaR_n256,title='calibration',min=-0.005,max=0.005)\n",
    "hp.mollview(mapaZ_n256,title='calibration',min=-0.005,max=0.005)\n",
    "hp.mollview(maskG_n256,title='calibration',min=-0.005,max=0.005)\n",
    "hp.mollview(maskR_n256,title='calibration',min=-0.005,max=0.005)\n",
    "hp.mollview(maskZ_n256,title='calibration',min=-0.005,max=0.005)"
   ]
  },
  {
   "cell_type": "code",
   "execution_count": 51,
   "id": "6694a1c5-44c9-4dd9-993b-95548e1601ea",
   "metadata": {},
   "outputs": [],
   "source": [
    "filemapaG = '/global/u1/m/manera/myKP3/kp3sys-outputs/calib_ps1-g_nside256.fits'\n",
    "filemaskG = '/global/u1/m/manera/myKP3/kp3sys-outputs/calib_mask-g_nside256.fits'\n",
    "filemapaR = '/global/u1/m/manera/myKP3/kp3sys-outputs/calib_ps1-r_nside256.fits'\n",
    "filemaskR = '/global/u1/m/manera/myKP3/kp3sys-outputs/calib_mask-r_nside256.fits'\n",
    "filemapaZ = '/global/u1/m/manera/myKP3/kp3sys-outputs/calib_ps1-z_nside256.fits'\n",
    "filemaskZ = '/global/u1/m/manera/myKP3/kp3sys-outputs/calib_mask-z_nside256.fits'"
   ]
  },
  {
   "cell_type": "code",
   "execution_count": 50,
   "id": "e1688294-ac7c-4663-b35b-0d43c5a78e0d",
   "metadata": {},
   "outputs": [],
   "source": [
    "hp.write_map(filemapaG, mapaG_n256, nest=False)\n",
    "hp.write_map(filemaskG, maskG_n256, nest=False)\n",
    "hp.write_map(filemapaR, mapaR_n256, nest=False)\n",
    "hp.write_map(filemaskR, maskR_n256, nest=False)\n",
    "hp.write_map(filemapaZ, mapaZ_n256, nest=False)\n",
    "hp.write_map(filemaskZ, maskZ_n256, nest=False)"
   ]
  },
  {
   "cell_type": "code",
   "execution_count": null,
   "id": "e14124ae-249d-4b4f-b90b-f408898282b3",
   "metadata": {},
   "outputs": [],
   "source": []
  }
 ],
 "metadata": {
  "kernelspec": {
   "display_name": "DESI 21.3",
   "language": "python",
   "name": "desi-21.3"
  },
  "language_info": {
   "codemirror_mode": {
    "name": "ipython",
    "version": 3
   },
   "file_extension": ".py",
   "mimetype": "text/x-python",
   "name": "python",
   "nbconvert_exporter": "python",
   "pygments_lexer": "ipython3",
   "version": "3.8.3"
  }
 },
 "nbformat": 4,
 "nbformat_minor": 5
}
