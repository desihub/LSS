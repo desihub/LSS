{
 "cells": [
  {
   "cell_type": "markdown",
   "metadata": {},
   "source": [
    "# Create Systematic Maps for KP3"
   ]
  },
  {
   "cell_type": "markdown",
   "metadata": {},
   "source": [
    "To create templates for imaging quantities, we first combine the ccd annotated files. Then, we run _QuickSip_ (Boris Lesitedt). The QuickSip code is designed for the Dark Energy Survey (DES). Therefore, we use the modified version by Marc Manera, Ashley Ross, Hee-Jong Seo, Medhi Reizaie et al."
   ]
  },
  {
   "cell_type": "code",
   "execution_count": 25,
   "metadata": {},
   "outputs": [],
   "source": [
    "import os\n",
    "from glob import glob\n",
    "from temdriver import make_maps, combine_ccds, combine_fits\n",
    "import numpy as np\n",
    "import healpy as hp\n",
    "import fitsio\n",
    "from fitsio import FITS,FITSHDR"
   ]
  },
  {
   "cell_type": "markdown",
   "metadata": {},
   "source": [
    "### Notes"
   ]
  },
  {
   "cell_type": "markdown",
   "metadata": {},
   "source": [
    "We are using final dr9 files while previously we used files with cuts </br>\n",
    "Healpix RING format npix=256"
   ]
  },
  {
   "cell_type": "markdown",
   "metadata": {
    "tags": []
   },
   "source": [
    "## 1. Combine CCD files"
   ]
  },
  {
   "cell_type": "code",
   "execution_count": 2,
   "metadata": {},
   "outputs": [
    {
     "data": {
      "text/plain": [
       "['/global/cfs/cdirs/cosmo/data/legacysurvey/dr9/ccds-annotated-90prime-dr9.fits.gz',\n",
       " '/global/cfs/cdirs/cosmo/data/legacysurvey/dr9/ccds-annotated-decam-dr9.fits.gz',\n",
       " '/global/cfs/cdirs/cosmo/data/legacysurvey/dr9/ccds-annotated-mosaic-dr9.fits.gz']"
      ]
     },
     "execution_count": 2,
     "metadata": {},
     "output_type": "execute_result"
    }
   ],
   "source": [
    "#--- inputs \n",
    "name = 'dr9pub' # don't use an underline \"_\"\n",
    "nside = 256     # with no explicit ordering output is ring format\n",
    "bands = ['r', 'g', 'z']\n",
    "\n",
    "in_dir = '/global/cfs/cdirs/cosmo/data/legacysurvey/dr9/'\n",
    "out_dir = '/global/homes/m/manera/myKP3/kp3sys-outputs/'\n",
    "out_name = 'ccds-annotated-combined-dr9-test.fits'\n",
    "output_ccd = os.path.join(out_dir, out_name)\n",
    "\n",
    "ccds = glob(f'{in_dir}ccds-annotated-*.fits.gz')\n",
    "ccds"
   ]
  },
  {
   "cell_type": "code",
   "execution_count": 3,
   "metadata": {},
   "outputs": [
    {
     "name": "stdout",
     "output_type": "stream",
     "text": [
      "working on .... ccds-annotated-90prime-dr9.fits.gz\n",
      "number of ccds in this file: 146792\n",
      "different dtypes (before): []\n",
      "different dtypes (after): []\n",
      "working on .... ccds-annotated-decam-dr9.fits.gz\n",
      "number of ccds in this file: 6388340\n",
      "different dtypes (before): ['<U7']\n",
      "different dtypes (after): []\n",
      "working on .... ccds-annotated-mosaic-dr9.fits.gz\n",
      "number of ccds in this file: 241299\n",
      "different dtypes (before): ['<U7']\n",
      "different dtypes (after): []\n",
      "Total number of combined ccds : 6776431\n",
      "wrote the combined ccd file: /global/homes/m/manera/myKP3/kp3sys-outputs/ccds-annotated-combined-dr9-test.fits\n"
     ]
    }
   ],
   "source": [
    "combine_ccds(ccds, output_ccd)"
   ]
  },
  {
   "cell_type": "markdown",
   "metadata": {
    "tags": []
   },
   "source": [
    "### --------------------------------------------------------------------"
   ]
  },
  {
   "cell_type": "markdown",
   "metadata": {},
   "source": [
    "## 2. Run QuickSip"
   ]
  },
  {
   "cell_type": "code",
   "execution_count": 4,
   "metadata": {},
   "outputs": [
    {
     "name": "stdout",
     "output_type": "stream",
     "text": [
      "> Projection nobs  mean  took : 20.57 sec for 412115 pixels\n",
      "Creating and writing /global/homes/m/manera/myKP3/kp3sys-outputs//dr9pub/nside256_oversamp1/dr9pub_band_r_nside256_oversamp1_nobs__mean.fits\n",
      "> Projection airmass  mean  took : 24.68 sec for 412115 pixels\n",
      "Creating and writing /global/homes/m/manera/myKP3/kp3sys-outputs//dr9pub/nside256_oversamp1/dr9pub_band_r_nside256_oversamp1_airmass__mean.fits\n",
      "> Projection mjd_obs  min  took : 16.98 sec for 412115 pixels\n",
      "Creating and writing /global/homes/m/manera/myKP3/kp3sys-outputs//dr9pub/nside256_oversamp1/dr9pub_band_r_nside256_oversamp1_mjd_obs__min.fits\n",
      "> Projection mjd_obs  mean  took : 18.69 sec for 412115 pixels\n",
      "Creating and writing /global/homes/m/manera/myKP3/kp3sys-outputs//dr9pub/nside256_oversamp1/dr9pub_band_r_nside256_oversamp1_mjd_obs__mean.fits\n",
      "> Projection mjd_obs  max  took : 17.78 sec for 412115 pixels\n",
      "Creating and writing /global/homes/m/manera/myKP3/kp3sys-outputs//dr9pub/nside256_oversamp1/dr9pub_band_r_nside256_oversamp1_mjd_obs__max.fits\n",
      "> Projection nobs  mean  took : 18.20 sec for 438488 pixels\n",
      "Creating and writing /global/homes/m/manera/myKP3/kp3sys-outputs//dr9pub/nside256_oversamp1/dr9pub_band_g_nside256_oversamp1_nobs__mean.fits\n",
      "> Projection airmass  mean  took : 23.44 sec for 438488 pixels\n",
      "Creating and writing /global/homes/m/manera/myKP3/kp3sys-outputs//dr9pub/nside256_oversamp1/dr9pub_band_g_nside256_oversamp1_airmass__mean.fits\n",
      "> Projection mjd_obs  min  took : 16.98 sec for 438488 pixels\n",
      "Creating and writing /global/homes/m/manera/myKP3/kp3sys-outputs//dr9pub/nside256_oversamp1/dr9pub_band_g_nside256_oversamp1_mjd_obs__min.fits\n",
      "> Projection mjd_obs  mean  took : 19.01 sec for 438488 pixels\n",
      "Creating and writing /global/homes/m/manera/myKP3/kp3sys-outputs//dr9pub/nside256_oversamp1/dr9pub_band_g_nside256_oversamp1_mjd_obs__mean.fits\n",
      "> Projection mjd_obs  max  took : 20.43 sec for 438488 pixels\n",
      "Creating and writing /global/homes/m/manera/myKP3/kp3sys-outputs//dr9pub/nside256_oversamp1/dr9pub_band_g_nside256_oversamp1_mjd_obs__max.fits\n",
      "> Projection nobs  mean  took : 19.48 sec for 407708 pixels\n",
      "Creating and writing /global/homes/m/manera/myKP3/kp3sys-outputs//dr9pub/nside256_oversamp1/dr9pub_band_z_nside256_oversamp1_nobs__mean.fits\n",
      "> Projection airmass  mean  took : 26.02 sec for 407708 pixels\n",
      "Creating and writing /global/homes/m/manera/myKP3/kp3sys-outputs//dr9pub/nside256_oversamp1/dr9pub_band_z_nside256_oversamp1_airmass__mean.fits\n",
      "> Projection mjd_obs  min  took : 16.93 sec for 407708 pixels\n",
      "Creating and writing /global/homes/m/manera/myKP3/kp3sys-outputs//dr9pub/nside256_oversamp1/dr9pub_band_z_nside256_oversamp1_mjd_obs__min.fits\n",
      "> Projection mjd_obs  mean  took : 19.87 sec for 407708 pixels\n",
      "Creating and writing /global/homes/m/manera/myKP3/kp3sys-outputs//dr9pub/nside256_oversamp1/dr9pub_band_z_nside256_oversamp1_mjd_obs__mean.fits\n",
      "> Projection mjd_obs  max  took : 19.65 sec for 407708 pixels\n",
      "Creating and writing /global/homes/m/manera/myKP3/kp3sys-outputs//dr9pub/nside256_oversamp1/dr9pub_band_z_nside256_oversamp1_mjd_obs__max.fits\n"
     ]
    }
   ],
   "source": [
    "input_ccd = output_ccd\n",
    "make_maps(input_ccd, nside, bands, name, out_dir)"
   ]
  },
  {
   "cell_type": "code",
   "execution_count": 20,
   "metadata": {},
   "outputs": [],
   "source": [
    "# SOME HARDWIRED INFO \n",
    "namesandtypes = [('NOBS_MEAN_G','f8'),\n",
    "                 ('NOBS_MEAN_R','f8'),\n",
    "                 ('NOBS_MEAN_Z','f8'),\n",
    "                 ('AIRMASS_MEAN_G','f8'),\n",
    "                 ('AIRMASS_MEAN_R','f8'),\n",
    "                 ('AIRMASS_MEAN_Z','f8'),\n",
    "                 ('MJD_MIN_G','f8'),\n",
    "                 ('MJD_MIN_R','f8'),\n",
    "                 ('MJD_MIN_Z','f8'),\n",
    "                 ('MJD_MEAN_G','f8'),\n",
    "                 ('MJD_MEAN_R','f8'),\n",
    "                 ('MJD_MEAN_Z','f8'),\n",
    "                 ('MJD_MAX_G','f8'),\n",
    "                 ('MJD_MAX_R','f8'),\n",
    "                 ('MJD_MAX_Z','f8')]\n",
    "filelist = [\n",
    "'/global/homes/m/manera/myKP3/kp3sys-outputs//dr9pub/nside256_oversamp1/dr9pub_band_g_nside256_oversamp1_nobs__mean.fits.gz',\n",
    "'/global/homes/m/manera/myKP3/kp3sys-outputs//dr9pub/nside256_oversamp1/dr9pub_band_r_nside256_oversamp1_nobs__mean.fits.gz',\n",
    "'/global/homes/m/manera/myKP3/kp3sys-outputs//dr9pub/nside256_oversamp1/dr9pub_band_z_nside256_oversamp1_nobs__mean.fits.gz',\n",
    "'/global/homes/m/manera/myKP3/kp3sys-outputs//dr9pub/nside256_oversamp1/dr9pub_band_g_nside256_oversamp1_airmass__mean.fits.gz',        \n",
    "'/global/homes/m/manera/myKP3/kp3sys-outputs//dr9pub/nside256_oversamp1/dr9pub_band_r_nside256_oversamp1_airmass__mean.fits.gz',\n",
    "'/global/homes/m/manera/myKP3/kp3sys-outputs//dr9pub/nside256_oversamp1/dr9pub_band_z_nside256_oversamp1_airmass__mean.fits.gz',\n",
    "'/global/homes/m/manera/myKP3/kp3sys-outputs//dr9pub/nside256_oversamp1/dr9pub_band_g_nside256_oversamp1_mjd_obs__min.fits.gz',         \n",
    "'/global/homes/m/manera/myKP3/kp3sys-outputs//dr9pub/nside256_oversamp1/dr9pub_band_r_nside256_oversamp1_mjd_obs__min.fits.gz',\n",
    "'/global/homes/m/manera/myKP3/kp3sys-outputs//dr9pub/nside256_oversamp1/dr9pub_band_z_nside256_oversamp1_mjd_obs__min.fits.gz',\n",
    "'/global/homes/m/manera/myKP3/kp3sys-outputs//dr9pub/nside256_oversamp1/dr9pub_band_g_nside256_oversamp1_mjd_obs__mean.fits.gz',\n",
    "'/global/homes/m/manera/myKP3/kp3sys-outputs//dr9pub/nside256_oversamp1/dr9pub_band_r_nside256_oversamp1_mjd_obs__mean.fits.gz',\n",
    "'/global/homes/m/manera/myKP3/kp3sys-outputs//dr9pub/nside256_oversamp1/dr9pub_band_z_nside256_oversamp1_mjd_obs__mean.fits.gz',           \n",
    "'/global/homes/m/manera/myKP3/kp3sys-outputs//dr9pub/nside256_oversamp1/dr9pub_band_g_nside256_oversamp1_mjd_obs__max.fits.gz',\n",
    "'/global/homes/m/manera/myKP3/kp3sys-outputs//dr9pub/nside256_oversamp1/dr9pub_band_r_nside256_oversamp1_mjd_obs__max.fits.gz',\n",
    "'/global/homes/m/manera/myKP3/kp3sys-outputs//dr9pub/nside256_oversamp1/dr9pub_band_z_nside256_oversamp1_mjd_obs__max.fits.gz']\n",
    "\n"
   ]
  },
  {
   "cell_type": "code",
   "execution_count": 23,
   "metadata": {},
   "outputs": [
    {
     "name": "stderr",
     "output_type": "stream",
     "text": [
      "/global/common/software/desi/cori/desiconda/20200801-1.4.0-spec/conda/lib/python3.8/site-packages/healpy/fitsfunc.py:391: UserWarning: NSIDE = 256\n",
      "  warnings.warn(\"NSIDE = {0:d}\".format(nside))\n",
      "/global/common/software/desi/cori/desiconda/20200801-1.4.0-spec/conda/lib/python3.8/site-packages/healpy/fitsfunc.py:400: UserWarning: ORDERING = RING in fits file\n",
      "  warnings.warn(\"ORDERING = {0:s} in fits file\".format(ordering))\n",
      "/global/common/software/desi/cori/desiconda/20200801-1.4.0-spec/conda/lib/python3.8/site-packages/healpy/fitsfunc.py:428: UserWarning: INDXSCHM = EXPLICIT\n",
      "  warnings.warn(\"INDXSCHM = {0:s}\".format(schm))\n"
     ]
    }
   ],
   "source": [
    "# Create pixweight file \n",
    "\n",
    "# basics\n",
    "nside = 256\n",
    "npix = hp.nside2npix(nside)\n",
    "nrows = npix \n",
    "\n",
    "\n",
    "# open file \n",
    "file_pixweight = 'pixweight_ccdimaging.fits'\n",
    "filename = out_dir+file_pixweight\n",
    "\n",
    "# header\n",
    "hdict = [{'name':'HPXNSIDE','value' :256 , 'comment':'healpix nside'},\n",
    "         {'name': 'HPXNEST','value' :True, 'comment':'healpix ordering'}]    \n",
    "\n",
    "# data \n",
    "data = np.zeros(nrows, dtype=namesandtypes)\n",
    "\n",
    "if len(filelist) != len(namesandtypes): print('ERRORS in lengths filelist and namesandtypes')\n",
    "\n",
    "for i in range(len(filelist)):\n",
    "    thisfile = filelist[i]\n",
    "    varname = namesandtypes[i][0]\n",
    "    values = hp.read_map(thisfile) # ring ordering\n",
    "    data[varname] = hp.reorder(values, inp='RING', out= 'NEST', r2n = True)     \n",
    "\n",
    "\n",
    "# write fits file \n",
    "fits = FITS(filename,'rw')\n",
    "fits.write(data, header=hdict)\n",
    "fits.close()\n"
   ]
  },
  {
   "cell_type": "code",
   "execution_count": 26,
   "metadata": {},
   "outputs": [],
   "source": [
    "data,h = fitsio.read(filename, header=True)"
   ]
  },
  {
   "cell_type": "code",
   "execution_count": 27,
   "metadata": {},
   "outputs": [
    {
     "data": {
      "text/plain": [
       "\n",
       "XTENSION= 'BINTABLE'           / binary table extension\n",
       "BITPIX  =                    8 / 8-bit bytes\n",
       "NAXIS   =                    2 / 2-dimensional binary table\n",
       "NAXIS1  =                  120 / width of table in bytes\n",
       "NAXIS2  =               786432 / number of rows in table\n",
       "PCOUNT  =                    0 / size of special data area\n",
       "GCOUNT  =                    1 / one data group (required keyword)\n",
       "TFIELDS =                   15 / number of fields in each row\n",
       "TTYPE1  = 'NOBS_MEAN_G'        / label for field   1\n",
       "TFORM1  = 'D'                  / data format of field: 8-byte DOUBLE\n",
       "TTYPE2  = 'NOBS_MEAN_R'        / label for field   2\n",
       "TFORM2  = 'D'                  / data format of field: 8-byte DOUBLE\n",
       "TTYPE3  = 'NOBS_MEAN_Z'        / label for field   3\n",
       "TFORM3  = 'D'                  / data format of field: 8-byte DOUBLE\n",
       "TTYPE4  = 'AIRMASS_MEAN_G'     / label for field   4\n",
       "TFORM4  = 'D'                  / data format of field: 8-byte DOUBLE\n",
       "TTYPE5  = 'AIRMASS_MEAN_R'     / label for field   5\n",
       "TFORM5  = 'D'                  / data format of field: 8-byte DOUBLE\n",
       "TTYPE6  = 'AIRMASS_MEAN_Z'     / label for field   6\n",
       "TFORM6  = 'D'                  / data format of field: 8-byte DOUBLE\n",
       "TTYPE7  = 'MJD_MIN_G'          / label for field   7\n",
       "TFORM7  = 'D'                  / data format of field: 8-byte DOUBLE\n",
       "TTYPE8  = 'MJD_MIN_R'          / label for field   8\n",
       "TFORM8  = 'D'                  / data format of field: 8-byte DOUBLE\n",
       "TTYPE9  = 'MJD_MIN_Z'          / label for field   9\n",
       "TFORM9  = 'D'                  / data format of field: 8-byte DOUBLE\n",
       "TTYPE10 = 'MJD_MEAN_G'         / label for field  10\n",
       "TFORM10 = 'D'                  / data format of field: 8-byte DOUBLE\n",
       "TTYPE11 = 'MJD_MEAN_R'         / label for field  11\n",
       "TFORM11 = 'D'                  / data format of field: 8-byte DOUBLE\n",
       "TTYPE12 = 'MJD_MEAN_Z'         / label for field  12\n",
       "TFORM12 = 'D'                  / data format of field: 8-byte DOUBLE\n",
       "TTYPE13 = 'MJD_MAX_G'          / label for field  13\n",
       "TFORM13 = 'D'                  / data format of field: 8-byte DOUBLE\n",
       "TTYPE14 = 'MJD_MAX_R'          / label for field  14\n",
       "TFORM14 = 'D'                  / data format of field: 8-byte DOUBLE\n",
       "TTYPE15 = 'MJD_MAX_Z'          / label for field  15\n",
       "TFORM15 = 'D'                  / data format of field: 8-byte DOUBLE\n",
       "HPXNSIDE=                  256 / healpix nside\n",
       "HPXNEST =                    T / healpix ordering"
      ]
     },
     "execution_count": 27,
     "metadata": {},
     "output_type": "execute_result"
    }
   ],
   "source": [
    "h"
   ]
  },
  {
   "cell_type": "markdown",
   "metadata": {},
   "source": [
    "### nside 512 (only ring maps, no pixweight) "
   ]
  },
  {
   "cell_type": "code",
   "execution_count": 3,
   "metadata": {},
   "outputs": [
    {
     "name": "stdout",
     "output_type": "stream",
     "text": [
      "> Projection nobs  mean  took : 39.64 sec for 1642726 pixels\n",
      "Creating and writing /global/homes/m/manera/myKP3/kp3sys-outputs//dr9pub/nside512_oversamp1/dr9pub_band_r_nside512_oversamp1_nobs__mean.fits\n",
      "> Projection airmass  mean  took : 53.90 sec for 1642726 pixels\n",
      "Creating and writing /global/homes/m/manera/myKP3/kp3sys-outputs//dr9pub/nside512_oversamp1/dr9pub_band_r_nside512_oversamp1_airmass__mean.fits\n",
      "> Projection mjd_obs  min  took : 36.29 sec for 1642726 pixels\n",
      "Creating and writing /global/homes/m/manera/myKP3/kp3sys-outputs//dr9pub/nside512_oversamp1/dr9pub_band_r_nside512_oversamp1_mjd_obs__min.fits\n",
      "> Projection mjd_obs  mean  took : 41.61 sec for 1642726 pixels\n",
      "Creating and writing /global/homes/m/manera/myKP3/kp3sys-outputs//dr9pub/nside512_oversamp1/dr9pub_band_r_nside512_oversamp1_mjd_obs__mean.fits\n",
      "> Projection mjd_obs  max  took : 36.25 sec for 1642726 pixels\n",
      "Creating and writing /global/homes/m/manera/myKP3/kp3sys-outputs//dr9pub/nside512_oversamp1/dr9pub_band_r_nside512_oversamp1_mjd_obs__max.fits\n",
      "> Projection nobs  mean  took : 47.33 sec for 1748595 pixels\n",
      "Creating and writing /global/homes/m/manera/myKP3/kp3sys-outputs//dr9pub/nside512_oversamp1/dr9pub_band_g_nside512_oversamp1_nobs__mean.fits\n",
      "> Projection airmass  mean  took : 59.78 sec for 1748595 pixels\n",
      "Creating and writing /global/homes/m/manera/myKP3/kp3sys-outputs//dr9pub/nside512_oversamp1/dr9pub_band_g_nside512_oversamp1_airmass__mean.fits\n",
      "> Projection mjd_obs  min  took : 41.63 sec for 1748595 pixels\n",
      "Creating and writing /global/homes/m/manera/myKP3/kp3sys-outputs//dr9pub/nside512_oversamp1/dr9pub_band_g_nside512_oversamp1_mjd_obs__min.fits\n",
      "> Projection mjd_obs  mean  took : 45.25 sec for 1748595 pixels\n",
      "Creating and writing /global/homes/m/manera/myKP3/kp3sys-outputs//dr9pub/nside512_oversamp1/dr9pub_band_g_nside512_oversamp1_mjd_obs__mean.fits\n",
      "> Projection mjd_obs  max  took : 39.60 sec for 1748595 pixels\n",
      "Creating and writing /global/homes/m/manera/myKP3/kp3sys-outputs//dr9pub/nside512_oversamp1/dr9pub_band_g_nside512_oversamp1_mjd_obs__max.fits\n",
      "> Projection nobs  mean  took : 45.26 sec for 1624770 pixels\n",
      "Creating and writing /global/homes/m/manera/myKP3/kp3sys-outputs//dr9pub/nside512_oversamp1/dr9pub_band_z_nside512_oversamp1_nobs__mean.fits\n",
      "> Projection airmass  mean  took : 56.99 sec for 1624770 pixels\n",
      "Creating and writing /global/homes/m/manera/myKP3/kp3sys-outputs//dr9pub/nside512_oversamp1/dr9pub_band_z_nside512_oversamp1_airmass__mean.fits\n",
      "> Projection mjd_obs  min  took : 40.09 sec for 1624770 pixels\n",
      "Creating and writing /global/homes/m/manera/myKP3/kp3sys-outputs//dr9pub/nside512_oversamp1/dr9pub_band_z_nside512_oversamp1_mjd_obs__min.fits\n",
      "> Projection mjd_obs  mean  took : 44.66 sec for 1624770 pixels\n",
      "Creating and writing /global/homes/m/manera/myKP3/kp3sys-outputs//dr9pub/nside512_oversamp1/dr9pub_band_z_nside512_oversamp1_mjd_obs__mean.fits\n",
      "> Projection mjd_obs  max  took : 40.53 sec for 1624770 pixels\n",
      "Creating and writing /global/homes/m/manera/myKP3/kp3sys-outputs//dr9pub/nside512_oversamp1/dr9pub_band_z_nside512_oversamp1_mjd_obs__max.fits\n"
     ]
    }
   ],
   "source": [
    "#--- inputs \n",
    "name = 'dr9pub' # don't use an underline \"_\"\n",
    "nside = 512     # with no explicit ordering output is ring format\n",
    "bands = ['r', 'g', 'z']\n",
    "\n",
    "in_dir = '/global/cfs/cdirs/cosmo/data/legacysurvey/dr9/'\n",
    "out_dir = '/global/homes/m/manera/myKP3/kp3sys-outputs/'\n",
    "out_name = 'ccds-annotated-combined-dr9-test.fits'\n",
    "output_ccd = os.path.join(out_dir, out_name)\n",
    "\n",
    "#done on round nside=256 doing now 512\n",
    "#ccds = glob(f'{in_dir}ccds-annotated-*.fits.gz')\n",
    "#ccds\n",
    "#combine_ccds(ccds, output_ccd)\n",
    "\n",
    "input_ccd = output_ccd\n",
    "make_maps(input_ccd, nside, bands, name, out_dir)"
   ]
  },
  {
   "cell_type": "markdown",
   "metadata": {},
   "source": [
    "## 3. Combine QuickSip outputs into a hdf5 file (Pandas Dataframe)"
   ]
  },
  {
   "cell_type": "code",
   "execution_count": 28,
   "metadata": {},
   "outputs": [
    {
     "data": {
      "text/plain": [
       "['/global/homes/m/manera/myKP3/kp3sys-outputs/dr9pub/nside256_oversamp1/dr9pub_band_z_nside256_oversamp1_mjd_obs__mean.fits.gz',\n",
       " '/global/homes/m/manera/myKP3/kp3sys-outputs/dr9pub/nside256_oversamp1/dr9pub_band_z_nside256_oversamp1_mjd_obs__min.fits.gz',\n",
       " '/global/homes/m/manera/myKP3/kp3sys-outputs/dr9pub/nside256_oversamp1/dr9pub_band_z_nside256_oversamp1_airmass__mean.fits.gz',\n",
       " '/global/homes/m/manera/myKP3/kp3sys-outputs/dr9pub/nside256_oversamp1/dr9pub_band_g_nside256_oversamp1_nobs__mean.fits.gz',\n",
       " '/global/homes/m/manera/myKP3/kp3sys-outputs/dr9pub/nside256_oversamp1/dr9pub_band_r_nside256_oversamp1_airmass__mean.fits.gz',\n",
       " '/global/homes/m/manera/myKP3/kp3sys-outputs/dr9pub/nside256_oversamp1/dr9pub_band_g_nside256_oversamp1_mjd_obs__mean.fits.gz',\n",
       " '/global/homes/m/manera/myKP3/kp3sys-outputs/dr9pub/nside256_oversamp1/dr9pub_band_r_nside256_oversamp1_mjd_obs__min.fits.gz',\n",
       " '/global/homes/m/manera/myKP3/kp3sys-outputs/dr9pub/nside256_oversamp1/dr9pub_band_z_nside256_oversamp1_mjd_obs__max.fits.gz',\n",
       " '/global/homes/m/manera/myKP3/kp3sys-outputs/dr9pub/nside256_oversamp1/dr9pub_band_g_nside256_oversamp1_mjd_obs__min.fits.gz',\n",
       " '/global/homes/m/manera/myKP3/kp3sys-outputs/dr9pub/nside256_oversamp1/dr9pub_band_g_nside256_oversamp1_airmass__mean.fits.gz',\n",
       " '/global/homes/m/manera/myKP3/kp3sys-outputs/dr9pub/nside256_oversamp1/dr9pub_band_r_nside256_oversamp1_nobs__mean.fits.gz',\n",
       " '/global/homes/m/manera/myKP3/kp3sys-outputs/dr9pub/nside256_oversamp1/dr9pub_band_g_nside256_oversamp1_mjd_obs__max.fits.gz',\n",
       " '/global/homes/m/manera/myKP3/kp3sys-outputs/dr9pub/nside256_oversamp1/dr9pub_band_z_nside256_oversamp1_nobs__mean.fits.gz',\n",
       " '/global/homes/m/manera/myKP3/kp3sys-outputs/dr9pub/nside256_oversamp1/dr9pub_band_r_nside256_oversamp1_mjd_obs__mean.fits.gz',\n",
       " '/global/homes/m/manera/myKP3/kp3sys-outputs/dr9pub/nside256_oversamp1/dr9pub_band_r_nside256_oversamp1_mjd_obs__max.fits.gz']"
      ]
     },
     "execution_count": 28,
     "metadata": {},
     "output_type": "execute_result"
    }
   ],
   "source": [
    "#--- inputs \n",
    "name = 'dr9pub' # don't use an underline \"_\"\n",
    "nside = 256\n",
    "in_dir = '/global/homes/m/manera/myKP3/kp3sys-outputs/'\n",
    "out_path = f'/global/homes/m/manera/myKP3/kp3sys-outputs/dr9pub_nside{nside}.h5'\n",
    "\n",
    "inputs = os.path.join(in_dir, name, f'nside{nside}_oversamp1', f'{name}*.fits.gz')\n",
    "input_maps = glob(inputs)\n",
    "\n",
    "input_maps"
   ]
  },
  {
   "cell_type": "code",
   "execution_count": null,
   "metadata": {},
   "outputs": [],
   "source": [
    "df = combine_fits(input_maps, 256, write_to=out_path)"
   ]
  },
  {
   "cell_type": "markdown",
   "metadata": {},
   "source": [
    "## 3. OLD Combine QuickSip outputs into a hdf5 file (Pandas Dataframe)"
   ]
  },
  {
   "cell_type": "code",
   "execution_count": 2,
   "metadata": {},
   "outputs": [
    {
     "data": {
      "text/plain": [
       "['/home/mehdi/data/templates/dr9/dr9pub/nside256_oversamp1/dr9pub_band_r_nside256_oversamp1_nobs__mean.fits.gz',\n",
       " '/home/mehdi/data/templates/dr9/dr9pub/nside256_oversamp1/dr9pub_band_r_nside256_oversamp1_airmass__mean.fits.gz',\n",
       " '/home/mehdi/data/templates/dr9/dr9pub/nside256_oversamp1/dr9pub_band_r_nside256_oversamp1_mjd_obs__min.fits.gz',\n",
       " '/home/mehdi/data/templates/dr9/dr9pub/nside256_oversamp1/dr9pub_band_r_nside256_oversamp1_mjd_obs__mean.fits.gz',\n",
       " '/home/mehdi/data/templates/dr9/dr9pub/nside256_oversamp1/dr9pub_band_r_nside256_oversamp1_mjd_obs__max.fits.gz',\n",
       " '/home/mehdi/data/templates/dr9/dr9pub/nside256_oversamp1/dr9pub_band_g_nside256_oversamp1_nobs__mean.fits.gz',\n",
       " '/home/mehdi/data/templates/dr9/dr9pub/nside256_oversamp1/dr9pub_band_g_nside256_oversamp1_airmass__mean.fits.gz',\n",
       " '/home/mehdi/data/templates/dr9/dr9pub/nside256_oversamp1/dr9pub_band_g_nside256_oversamp1_mjd_obs__min.fits.gz',\n",
       " '/home/mehdi/data/templates/dr9/dr9pub/nside256_oversamp1/dr9pub_band_g_nside256_oversamp1_mjd_obs__mean.fits.gz',\n",
       " '/home/mehdi/data/templates/dr9/dr9pub/nside256_oversamp1/dr9pub_band_g_nside256_oversamp1_mjd_obs__max.fits.gz',\n",
       " '/home/mehdi/data/templates/dr9/dr9pub/nside256_oversamp1/dr9pub_band_z_nside256_oversamp1_nobs__mean.fits.gz',\n",
       " '/home/mehdi/data/templates/dr9/dr9pub/nside256_oversamp1/dr9pub_band_z_nside256_oversamp1_airmass__mean.fits.gz',\n",
       " '/home/mehdi/data/templates/dr9/dr9pub/nside256_oversamp1/dr9pub_band_z_nside256_oversamp1_mjd_obs__min.fits.gz',\n",
       " '/home/mehdi/data/templates/dr9/dr9pub/nside256_oversamp1/dr9pub_band_z_nside256_oversamp1_mjd_obs__mean.fits.gz',\n",
       " '/home/mehdi/data/templates/dr9/dr9pub/nside256_oversamp1/dr9pub_band_z_nside256_oversamp1_mjd_obs__max.fits.gz']"
      ]
     },
     "execution_count": 2,
     "metadata": {},
     "output_type": "execute_result"
    }
   ],
   "source": [
    "#--- inputs \n",
    "name = 'dr9pub' # don't use an underline \"_\"\n",
    "nside = 256\n",
    "in_dir = '/home/mehdi/data/templates/dr9/'\n",
    "out_path = f'/home/mehdi/data/templates/dr9/dr9pub_nside{nside}.h5'\n",
    "\n",
    "inputs = os.path.join(in_dir, name, f'nside{nside}_oversamp1', f'{name}*.fits.gz')\n",
    "input_maps = glob(inputs)\n",
    "\n",
    "input_maps"
   ]
  },
  {
   "cell_type": "code",
   "execution_count": 3,
   "metadata": {},
   "outputs": [
    {
     "name": "stdout",
     "output_type": "stream",
     "text": [
      "..............."
     ]
    }
   ],
   "source": [
    "df = combine_fits(input_maps, 256, write_to=out_path)"
   ]
  },
  {
   "cell_type": "code",
   "execution_count": 6,
   "metadata": {},
   "outputs": [
    {
     "data": {
      "text/plain": [
       "(786432, 15)"
      ]
     },
     "execution_count": 6,
     "metadata": {},
     "output_type": "execute_result"
    }
   ],
   "source": [
    "df.shape # (12*256*256=786,432, # of maps)"
   ]
  },
  {
   "cell_type": "code",
   "execution_count": 7,
   "metadata": {},
   "outputs": [
    {
     "data": {
      "text/html": [
       "<div>\n",
       "<style scoped>\n",
       "    .dataframe tbody tr th:only-of-type {\n",
       "        vertical-align: middle;\n",
       "    }\n",
       "\n",
       "    .dataframe tbody tr th {\n",
       "        vertical-align: top;\n",
       "    }\n",
       "\n",
       "    .dataframe thead th {\n",
       "        text-align: right;\n",
       "    }\n",
       "</style>\n",
       "<table border=\"1\" class=\"dataframe\">\n",
       "  <thead>\n",
       "    <tr style=\"text-align: right;\">\n",
       "      <th></th>\n",
       "      <th>nobs_mean_r</th>\n",
       "      <th>airmass_mean_r</th>\n",
       "      <th>mjd_min_r</th>\n",
       "      <th>mjd_mean_r</th>\n",
       "      <th>mjd_max_r</th>\n",
       "      <th>nobs_mean_g</th>\n",
       "      <th>airmass_mean_g</th>\n",
       "      <th>mjd_min_g</th>\n",
       "      <th>mjd_mean_g</th>\n",
       "      <th>mjd_max_g</th>\n",
       "      <th>nobs_mean_z</th>\n",
       "      <th>airmass_mean_z</th>\n",
       "      <th>mjd_min_z</th>\n",
       "      <th>mjd_mean_z</th>\n",
       "      <th>mjd_max_z</th>\n",
       "    </tr>\n",
       "  </thead>\n",
       "  <tbody>\n",
       "    <tr>\n",
       "      <th>1667</th>\n",
       "      <td>1.0</td>\n",
       "      <td>1.696000</td>\n",
       "      <td>58175.117188</td>\n",
       "      <td>58383.972656</td>\n",
       "      <td>58542.195312</td>\n",
       "      <td>1.0</td>\n",
       "      <td>1.645</td>\n",
       "      <td>58492.414062</td>\n",
       "      <td>58492.417969</td>\n",
       "      <td>58492.425781</td>\n",
       "      <td>1.0</td>\n",
       "      <td>1.741096</td>\n",
       "      <td>58121.191406</td>\n",
       "      <td>58133.238281</td>\n",
       "      <td>58145.281250</td>\n",
       "    </tr>\n",
       "    <tr>\n",
       "      <th>1669</th>\n",
       "      <td>1.0</td>\n",
       "      <td>1.682000</td>\n",
       "      <td>58175.128906</td>\n",
       "      <td>58462.789062</td>\n",
       "      <td>58542.207031</td>\n",
       "      <td>1.0</td>\n",
       "      <td>1.675</td>\n",
       "      <td>58492.425781</td>\n",
       "      <td>58495.976562</td>\n",
       "      <td>58499.527344</td>\n",
       "      <td>1.0</td>\n",
       "      <td>1.841856</td>\n",
       "      <td>58121.199219</td>\n",
       "      <td>58121.199219</td>\n",
       "      <td>58121.199219</td>\n",
       "    </tr>\n",
       "    <tr>\n",
       "      <th>1670</th>\n",
       "      <td>1.0</td>\n",
       "      <td>1.686667</td>\n",
       "      <td>58175.148438</td>\n",
       "      <td>58414.859375</td>\n",
       "      <td>58542.207031</td>\n",
       "      <td>1.0</td>\n",
       "      <td>1.710</td>\n",
       "      <td>58499.527344</td>\n",
       "      <td>58499.527344</td>\n",
       "      <td>58499.527344</td>\n",
       "      <td>1.0</td>\n",
       "      <td>1.841856</td>\n",
       "      <td>58121.199219</td>\n",
       "      <td>58121.199219</td>\n",
       "      <td>58121.199219</td>\n",
       "    </tr>\n",
       "    <tr>\n",
       "      <th>1672</th>\n",
       "      <td>1.0</td>\n",
       "      <td>1.688333</td>\n",
       "      <td>58175.148438</td>\n",
       "      <td>58414.871094</td>\n",
       "      <td>58542.214844</td>\n",
       "      <td>1.0</td>\n",
       "      <td>1.700</td>\n",
       "      <td>58499.527344</td>\n",
       "      <td>58499.527344</td>\n",
       "      <td>58499.527344</td>\n",
       "      <td>1.0</td>\n",
       "      <td>1.857216</td>\n",
       "      <td>58054.406250</td>\n",
       "      <td>58075.343750</td>\n",
       "      <td>58096.285156</td>\n",
       "    </tr>\n",
       "    <tr>\n",
       "      <th>1673</th>\n",
       "      <td>1.0</td>\n",
       "      <td>1.690000</td>\n",
       "      <td>58175.175781</td>\n",
       "      <td>58414.882812</td>\n",
       "      <td>58542.214844</td>\n",
       "      <td>1.0</td>\n",
       "      <td>1.690</td>\n",
       "      <td>58499.527344</td>\n",
       "      <td>58499.527344</td>\n",
       "      <td>58499.527344</td>\n",
       "      <td>1.0</td>\n",
       "      <td>1.854480</td>\n",
       "      <td>58054.406250</td>\n",
       "      <td>58091.308594</td>\n",
       "      <td>58123.230469</td>\n",
       "    </tr>\n",
       "  </tbody>\n",
       "</table>\n",
       "</div>"
      ],
      "text/plain": [
       "      nobs_mean_r  airmass_mean_r     mjd_min_r    mjd_mean_r     mjd_max_r  \\\n",
       "1667          1.0        1.696000  58175.117188  58383.972656  58542.195312   \n",
       "1669          1.0        1.682000  58175.128906  58462.789062  58542.207031   \n",
       "1670          1.0        1.686667  58175.148438  58414.859375  58542.207031   \n",
       "1672          1.0        1.688333  58175.148438  58414.871094  58542.214844   \n",
       "1673          1.0        1.690000  58175.175781  58414.882812  58542.214844   \n",
       "\n",
       "      nobs_mean_g  airmass_mean_g     mjd_min_g    mjd_mean_g     mjd_max_g  \\\n",
       "1667          1.0           1.645  58492.414062  58492.417969  58492.425781   \n",
       "1669          1.0           1.675  58492.425781  58495.976562  58499.527344   \n",
       "1670          1.0           1.710  58499.527344  58499.527344  58499.527344   \n",
       "1672          1.0           1.700  58499.527344  58499.527344  58499.527344   \n",
       "1673          1.0           1.690  58499.527344  58499.527344  58499.527344   \n",
       "\n",
       "      nobs_mean_z  airmass_mean_z     mjd_min_z    mjd_mean_z     mjd_max_z  \n",
       "1667          1.0        1.741096  58121.191406  58133.238281  58145.281250  \n",
       "1669          1.0        1.841856  58121.199219  58121.199219  58121.199219  \n",
       "1670          1.0        1.841856  58121.199219  58121.199219  58121.199219  \n",
       "1672          1.0        1.857216  58054.406250  58075.343750  58096.285156  \n",
       "1673          1.0        1.854480  58054.406250  58091.308594  58123.230469  "
      ]
     },
     "execution_count": 7,
     "metadata": {},
     "output_type": "execute_result"
    }
   ],
   "source": [
    "df.dropna().head() # index represent HEALPix index in ring ordering"
   ]
  },
  {
   "cell_type": "markdown",
   "metadata": {},
   "source": [
    "## 4. Visualization"
   ]
  },
  {
   "cell_type": "code",
   "execution_count": 13,
   "metadata": {},
   "outputs": [],
   "source": [
    "%matplotlib inline\n",
    "import matplotlib.pyplot as plt\n",
    "import healpy as hp\n",
    "import numpy as np"
   ]
  },
  {
   "cell_type": "code",
   "execution_count": null,
   "metadata": {},
   "outputs": [],
   "source": [
    "hp.mollview(df['mjd_mean_g'], rot=-85, title='MJD Mean g-band')"
   ]
  }
 ],
 "metadata": {
  "kernelspec": {
   "display_name": "DESI 21.3",
   "language": "python",
   "name": "desi-21.3"
  },
  "language_info": {
   "codemirror_mode": {
    "name": "ipython",
    "version": 3
   },
   "file_extension": ".py",
   "mimetype": "text/x-python",
   "name": "python",
   "nbconvert_exporter": "python",
   "pygments_lexer": "ipython3",
   "version": "3.8.3"
  }
 },
 "nbformat": 4,
 "nbformat_minor": 4
}
