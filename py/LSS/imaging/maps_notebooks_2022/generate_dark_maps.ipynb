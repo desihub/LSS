{
 "cells": [
  {
   "cell_type": "markdown",
   "id": "453b15ac-5aa9-4ed6-838a-2b6f8e9cf4b3",
   "metadata": {},
   "source": [
    "### Extract maps from pixweight and write them separately in ring format"
   ]
  },
  {
   "cell_type": "code",
   "execution_count": 1,
   "id": "d48e1c06-f925-41d8-a51f-14932db069f9",
   "metadata": {},
   "outputs": [],
   "source": [
    "import numpy as np\n",
    "import fitsio\n",
    "import healpy as hp"
   ]
  },
  {
   "cell_type": "code",
   "execution_count": 2,
   "id": "1e760e85-1635-4840-b016-042c522b52d1",
   "metadata": {},
   "outputs": [],
   "source": [
    "myfile = '/global/cfs/cdirs/desi/target/catalogs/dr9/1.1.1/pixweight/main/resolve/dark/pixweight-1-dark.fits'"
   ]
  },
  {
   "cell_type": "code",
   "execution_count": 4,
   "id": "ff3a0b7a-2f14-484d-8d2d-5e683570f700",
   "metadata": {},
   "outputs": [],
   "source": [
    "pathdir = '/global/cfs/cdirs/desi/survey/catalogs/ring_maps_dark/'"
   ]
  },
  {
   "cell_type": "code",
   "execution_count": 5,
   "id": "e8302a9a-edc0-41da-956b-1dec4a13d9af",
   "metadata": {},
   "outputs": [],
   "source": [
    "data,h = fitsio.read(myfile, header=True)"
   ]
  },
  {
   "cell_type": "code",
   "execution_count": 6,
   "id": "d3bb7065-60c8-4045-9977-8c9bbf0ad4d4",
   "metadata": {},
   "outputs": [
    {
     "data": {
      "text/plain": [
       "('HPXPIXEL',\n",
       " 'FRACAREA',\n",
       " 'STARDENS',\n",
       " 'EBV',\n",
       " 'PSFDEPTH_G',\n",
       " 'PSFDEPTH_R',\n",
       " 'PSFDEPTH_Z',\n",
       " 'GALDEPTH_G',\n",
       " 'GALDEPTH_R',\n",
       " 'GALDEPTH_Z',\n",
       " 'PSFDEPTH_W1',\n",
       " 'PSFDEPTH_W2',\n",
       " 'PSFSIZE_G',\n",
       " 'PSFSIZE_R',\n",
       " 'PSFSIZE_Z',\n",
       " 'FRACAREA_12290',\n",
       " 'FRACAREA_8194',\n",
       " 'ELG',\n",
       " 'LRG',\n",
       " 'QSO',\n",
       " 'BGS_ANY',\n",
       " 'MWS_ANY',\n",
       " 'ALL',\n",
       " 'STD_FAINT',\n",
       " 'STD_BRIGHT',\n",
       " 'BGS_FAINT',\n",
       " 'BGS_BRIGHT',\n",
       " 'BGS_WISE',\n",
       " 'MWS_BROAD',\n",
       " 'MWS_MAIN_RED',\n",
       " 'MWS_MAIN_BLUE',\n",
       " 'MWS_WD',\n",
       " 'MWS_NEARBY')"
      ]
     },
     "execution_count": 6,
     "metadata": {},
     "output_type": "execute_result"
    }
   ],
   "source": [
    "mylabels = data.dtype.names\n",
    "mylabels "
   ]
  },
  {
   "cell_type": "code",
   "execution_count": null,
   "id": "3ec4488b-9890-4271-a758-b687f026ebde",
   "metadata": {},
   "outputs": [],
   "source": [
    "for mylab in mylabels:\n",
    "    aux1 = hp.reorder(data[mylab],n2r=True) #nest to ring ordering\n",
    "    filename = pathdir+'dark1_nside256_'+mylab+'.fits'\n",
    "    hp.write_map(filename,aux1)\n",
    "    hp.mollview(aux1,title=mylab) \n",
    "    "
   ]
  },
  {
   "cell_type": "code",
   "execution_count": null,
   "id": "031c869f-ff4e-401c-8ce6-6d8a24e9032b",
   "metadata": {},
   "outputs": [],
   "source": []
  }
 ],
 "metadata": {
  "kernelspec": {
   "display_name": "DESI 21.3",
   "language": "python",
   "name": "desi-21.3"
  },
  "language_info": {
   "codemirror_mode": {
    "name": "ipython",
    "version": 3
   },
   "file_extension": ".py",
   "mimetype": "text/x-python",
   "name": "python",
   "nbconvert_exporter": "python",
   "pygments_lexer": "ipython3",
   "version": "3.8.3"
  }
 },
 "nbformat": 4,
 "nbformat_minor": 5
}
