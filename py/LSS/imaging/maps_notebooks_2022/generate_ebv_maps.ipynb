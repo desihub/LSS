{
 "cells": [
  {
   "cell_type": "markdown",
   "id": "50103b00-8222-4a39-bbb1-c44604fddeb2",
   "metadata": {},
   "source": [
    "# DUST MAPS E(B-V)"
   ]
  },
  {
   "cell_type": "code",
   "execution_count": 1,
   "id": "6542480c-cdc0-46f8-b9db-2b30edb68498",
   "metadata": {},
   "outputs": [],
   "source": [
    "import numpy as np\n",
    "import requests\n",
    "import fitsio\n",
    "import healpy as hp\n",
    "from qsdriver2 import rotate_map"
   ]
  },
  {
   "cell_type": "markdown",
   "id": "51f6ad9b-6cb5-4f9f-b69c-0a643a076cc4",
   "metadata": {},
   "source": [
    "### Notes\n",
    "open(file,'wb') would overwrite"
   ]
  },
  {
   "cell_type": "markdown",
   "id": "88f13061-8027-422f-b073-b194e617aaef",
   "metadata": {
    "tags": []
   },
   "source": [
    "## DUST E(B-V) MAPS"
   ]
  },
  {
   "cell_type": "markdown",
   "id": "f14e3756-e3a0-429e-84e2-745e6ce42a24",
   "metadata": {},
   "source": [
    "### Externally from original source"
   ]
  },
  {
   "cell_type": "code",
   "execution_count": 2,
   "id": "c0cd87be-7bb2-4051-ba6c-f984028cb751",
   "metadata": {},
   "outputs": [],
   "source": [
    "# Dust Maps Schlafly, Green, Finkbeiner et al. 2014, ApJ \n",
    "# Documenation  https://lambda.gsfc.nasa.gov/product/foreground/fg_ebv_map_info.cfm\n",
    "# File  https://lambda.gsfc.nasa.gov/data/foregrounds/EBV/ps1-ebv-4.5kpc.fits\n",
    "# Downloading with python https://www.codementor.io/@aviaryan/downloading-files-from-urls-in-python-77q3bs0un"
   ]
  },
  {
   "cell_type": "code",
   "execution_count": 3,
   "id": "2a318596-ed90-4d84-8814-54c36f9177c6",
   "metadata": {},
   "outputs": [
    {
     "name": "stdout",
     "output_type": "stream",
     "text": [
      "downloading... ps1-ebv-4.5kpc.fits\n"
     ]
    },
    {
     "data": {
      "text/plain": [
       "88087680"
      ]
     },
     "execution_count": 3,
     "metadata": {},
     "output_type": "execute_result"
    }
   ],
   "source": [
    "url = 'https://lambda.gsfc.nasa.gov/data/foregrounds/EBV/ps1-ebv-4.5kpc.fits'\n",
    "pathsave='/global/u1/m/manera/myKP3/kp3sys-inputs/'\n",
    "\n",
    "if url.find('/'):\n",
    "  filename = url.rsplit('/', 1)[1]\n",
    "  print('downloading...',filename)\n",
    "\n",
    "r = requests.get(url, allow_redirects=True)\n",
    "open(pathsave+filename, 'wb').write(r.content)"
   ]
  },
  {
   "cell_type": "code",
   "execution_count": 4,
   "id": "da651ee4-4e10-447e-a01a-12ead9f8e369",
   "metadata": {},
   "outputs": [
    {
     "name": "stdout",
     "output_type": "stream",
     "text": [
      "\n",
      "SIMPLE  =                    T / conforms to FITS standard\n",
      "BITPIX  =                    8 / array data type\n",
      "NAXIS   =                    0 / number of array dimensions\n",
      "EXTEND  =                    T / \n",
      "URL     = 'http://faun.rc.fas.harvard.edu/eschlafly/2dmap' / \n",
      "REFERENC= 'Schlafly, Green, Finkbeiner, Rix, et al. 2014, ApJ' / \n",
      "PIXTYPE = 'HEALPIX'            / \n",
      "ORDERING= 'RING'               / \n",
      "NSIDE   =                  512 / \n",
      "NPIX    =              3145728 / \n",
      "FIRSTPIX=                    0 / \n",
      "LASTPIX =              3145727 / \n",
      "VERSION =                  1.0 / \n",
      "DISTANCE=                 4.54 / Distance to which E(B-V) is measured, kpc\n",
      "COMMENT NOTE: reddenings in the PS1 bands are the most direct observable.\n",
      "COMMENT These are transformed to E(B-V)_SFD via Schlafly & Finkbeiner (2011).\n",
      "COMMENT The resulting map is expected to have the same overestimation of E(B-V)\n",
      "COMMENT by 14% that the Schlegel, Finkbeiner, and Davis (1998) map has, and\n",
      "COMMENT should be transformed for use in other bands with the same coefficients\n",
      "COMMENT given in Schlafly & Finkbeiner (2011).\n",
      "COMMENT Reddening Maps to 4.5 kpc from PS1 Data\n"
     ]
    }
   ],
   "source": [
    "myfile = '/global/u1/m/manera/myKP3/kp3sys-inputs/ps1-ebv-4.5kpc.fits'\n",
    "h = fitsio.read_header(myfile)\n",
    "print(h)"
   ]
  },
  {
   "cell_type": "code",
   "execution_count": 5,
   "id": "186207e4-ad91-49a2-8a8d-4460fa11940d",
   "metadata": {},
   "outputs": [],
   "source": [
    "data,h = fitsio.read(myfile, header=True)"
   ]
  },
  {
   "cell_type": "markdown",
   "id": "cd4b99bb-ad26-4e2f-98f2-b26f44b09a90",
   "metadata": {},
   "source": [
    "Galactic and Equatorial Maps"
   ]
  },
  {
   "cell_type": "code",
   "execution_count": null,
   "id": "56ef45d5-8442-4730-b9a4-139a1847fa17",
   "metadata": {},
   "outputs": [],
   "source": [
    "# read maps\n",
    "EBVmap = data['ebv']\n",
    "EBVmask = data['status']\n",
    "EBVmask[EBVmask > 0] = 0\n",
    "hp.mollview(EBVmap,title='EBV map',coord=[\"G\"])\n",
    "hp.mollview(EBVmask,title='EBV mask',coord=[\"G\"])\n",
    "\n",
    "# rotate maps and degrade if necessary\n",
    "coord = (['G','C'])\n",
    "\n",
    "nside = 512\n",
    "fileout ='/global/u1/m/manera/myKP3/kp3sys-outputs/EBVmap_nside512.fits'\n",
    "EBVmap = rotate_map(EBVmap,coord=coord)\n",
    "hp.write_map(fileout, EBVmap, nest=False) #function writes empty healpix header \n",
    "hp.mollview(EBVmap,title='E(B-V) map ',max=60,coord=[\"C\"])\n",
    "\n",
    "nside = 512\n",
    "fileout ='/global/u1/m/manera/myKP3/kp3sys-outputs/EBVmask_nside512.fits'\n",
    "EBVmask = rotate_map(EBVmask,coord=coord)\n",
    "hp.write_map(fileout, EBVmask, nest=False) #function writes empty healpix header \n",
    "hp.mollview(EBVmask,title='E(B-V) Map',max=60,coord=[\"C\"])\n",
    "\n",
    "\n",
    "nside = 256\n",
    "fileout ='/global/u1/m/manera/myKP3/kp3sys-outputs/EBVmap_nside256.fits'\n",
    "EBVmap = hp.ud_grade(EBVmap,nside)\n",
    "hp.write_map(fileout, EBVmap, nest=False) #function writes empty healpix header \n",
    "hp.mollview(EBVmap,title='E(B-V) Map',max=60,coord=[\"C\"])\n",
    "\n",
    "\n",
    "nside = 256\n",
    "fileout ='/global/u1/m/manera/myKP3/kp3sys-outputs/EBVmask_nside256.fits'\n",
    "EBVmask = hp.ud_grade(EBVmask,nside)\n",
    "hp.write_map(fileout, EBVmask, nest=False) #function writes empty healpix header \n",
    "hp.mollview(EBVmask,title='E(B-V) Map',max=60,coord=[\"C\"])"
   ]
  },
  {
   "cell_type": "code",
   "execution_count": null,
   "id": "3bc05193-b2a7-4fcc-ae04-66a7e71e726c",
   "metadata": {},
   "outputs": [],
   "source": []
  },
  {
   "cell_type": "code",
   "execution_count": 47,
   "id": "15f225bb-a972-4e70-87d6-bc8c6d16d798",
   "metadata": {},
   "outputs": [
    {
     "name": "stdout",
     "output_type": "stream",
     "text": [
      "downloading... Halpha_fwhm06_0256.fits\n"
     ]
    },
    {
     "data": {
      "text/plain": [
       "3156480"
      ]
     },
     "execution_count": 47,
     "metadata": {},
     "output_type": "execute_result"
    }
   ],
   "source": [
    "url = 'https://faun.rc.fas.harvard.edu/dfink/skymaps/halpha/data/v1_1/healpix/Halpha_fwhm06_0256.fits'\n",
    "pathsave='/global/u1/m/manera/myKP3/kp3sys-inputs/'\n",
    "\n",
    "if url.find('/'):\n",
    "  filename = url.rsplit('/', 1)[1]\n",
    "  print('downloading...',filename)\n",
    "\n",
    "r = requests.get(url, allow_redirects=True)\n",
    "open(pathsave+filename, 'wb').write(r.content)\n"
   ]
  },
  {
   "cell_type": "code",
   "execution_count": 48,
   "id": "4cdea8e3-03f0-4812-8aa4-d4108d9e5d74",
   "metadata": {},
   "outputs": [
    {
     "name": "stdout",
     "output_type": "stream",
     "text": [
      "downloading... Halpha_mask_fwhm06_0256.fits\n"
     ]
    },
    {
     "data": {
      "text/plain": [
       "797760"
      ]
     },
     "execution_count": 48,
     "metadata": {},
     "output_type": "execute_result"
    }
   ],
   "source": [
    "url = 'https://faun.rc.fas.harvard.edu/dfink/skymaps/halpha/data/v1_1/healpix/Halpha_mask_fwhm06_0256.fits'\n",
    "pathsave='/global/u1/m/manera/myKP3/kp3sys-inputs/'\n",
    "\n",
    "if url.find('/'):\n",
    "  filename = url.rsplit('/', 1)[1]\n",
    "  print('downloading...',filename)\n",
    "\n",
    "r = requests.get(url, allow_redirects=True)\n",
    "open(pathsave+filename, 'wb').write(r.content)\n"
   ]
  },
  {
   "cell_type": "code",
   "execution_count": 49,
   "id": "0e358b45-de0a-4ec7-8b4d-ece600b57146",
   "metadata": {},
   "outputs": [
    {
     "name": "stdout",
     "output_type": "stream",
     "text": [
      "downloading... Halpha_error_fwhm06_0256.fits\n"
     ]
    },
    {
     "data": {
      "text/plain": [
       "3156480"
      ]
     },
     "execution_count": 49,
     "metadata": {},
     "output_type": "execute_result"
    }
   ],
   "source": [
    "url = 'https://faun.rc.fas.harvard.edu/dfink/skymaps/halpha/data/v1_1/healpix/Halpha_error_fwhm06_0256.fits'\n",
    "pathsave='/global/u1/m/manera/myKP3/kp3sys-inputs/'\n",
    "\n",
    "if url.find('/'):\n",
    "  filename = url.rsplit('/', 1)[1]\n",
    "  print('downloading...',filename)\n",
    "\n",
    "r = requests.get(url, allow_redirects=True)\n",
    "open(pathsave+filename, 'wb').write(r.content)\n"
   ]
  },
  {
   "cell_type": "code",
   "execution_count": null,
   "id": "58e7c68e-8d62-44f0-900b-09da7692e222",
   "metadata": {},
   "outputs": [],
   "source": []
  }
 ],
 "metadata": {
  "kernelspec": {
   "display_name": "DESI 21.3",
   "language": "python",
   "name": "desi-21.3"
  },
  "language_info": {
   "codemirror_mode": {
    "name": "ipython",
    "version": 3
   },
   "file_extension": ".py",
   "mimetype": "text/x-python",
   "name": "python",
   "nbconvert_exporter": "python",
   "pygments_lexer": "ipython3",
   "version": "3.8.3"
  }
 },
 "nbformat": 4,
 "nbformat_minor": 5
}
