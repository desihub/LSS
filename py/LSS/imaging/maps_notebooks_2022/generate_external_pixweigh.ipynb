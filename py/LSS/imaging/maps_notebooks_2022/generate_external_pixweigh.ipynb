{
 "cells": [
  {
   "cell_type": "markdown",
   "id": "a6bea083-619b-43cd-b616-6b1dc24333de",
   "metadata": {},
   "source": [
    "# EXTERNAL MAPS FOR SYSTEMATICS"
   ]
  },
  {
   "cell_type": "markdown",
   "id": "2112f99a-128f-43b3-a12f-5bf61f02e6bd",
   "metadata": {},
   "source": [
    " Pixelweight format with short header\n",
    " Read already created maps and put them into pixweight format"
   ]
  },
  {
   "cell_type": "code",
   "execution_count": 1,
   "id": "d4bbaf48-2864-4623-a6cc-491ed841f8c6",
   "metadata": {},
   "outputs": [],
   "source": [
    "import numpy as np\n",
    "import healpy as hp\n",
    "import requests\n",
    "import fitsio\n",
    "from fitsio import FITS,FITSHDR\n",
    "import matplotlib as plt\n",
    "from temdriver import rotate_map"
   ]
  },
  {
   "cell_type": "markdown",
   "id": "e6f0ae26-bde8-444f-bc3f-88057143f35b",
   "metadata": {},
   "source": [
    "### Path and names  "
   ]
  },
  {
   "cell_type": "code",
   "execution_count": 2,
   "id": "fb2ce900-facd-4db1-81a1-304161bf0c53",
   "metadata": {},
   "outputs": [],
   "source": [
    "# Read already downloaded external maps\n",
    "pathin = '/global/u1/m/manera/myKP3/kp3sys-inputs/'\n",
    "pathout = '/global/u1/m/manera/myKP3/kp3sys-outputs/'"
   ]
  },
  {
   "cell_type": "code",
   "execution_count": 3,
   "id": "180dc7e8-f6ec-44a6-ae6d-93bc780d433c",
   "metadata": {},
   "outputs": [],
   "source": [
    "# check file names exist \n",
    "#!ls -c1 /global/u1/m/manera/myKP3/kp3sys-outputs\n",
    "#!ls -c1 /global/u1/m/manera/myKP3/kp3sys-inputs"
   ]
  },
  {
   "cell_type": "code",
   "execution_count": 4,
   "id": "f0df623a-2438-41d0-9058-ea8e14cef6bc",
   "metadata": {},
   "outputs": [],
   "source": [
    "file_lensmap = pathout+'lensmap_nside256.fits'\n",
    "file_lensmask = pathout+'lensmask_nside256.fits'\n",
    "\n",
    "file_halmap = pathout+'Halpha_map_nside256.fits'\n",
    "file_halmask = pathout+'Halpha_mask_nside256.fits'\n",
    "\n",
    "file_ebvmap = pathout+'EBVext_map_nside256.fits'\n",
    "file_ebvmask = pathout+'EBVext_MASK_map_nside256.fits'\n",
    "\n",
    "file_mean_f6  = pathout+'EBVrecon_Mean_fw6p1_nside256.fits'\n",
    "file_mean_f15 = pathout+'EBVrecon_Mean_fw15_nside256.fits'\n",
    "\n",
    "file_var_f6   = pathout+'EBVrecon_Var_fw6p1_nside256.fits'\n",
    "file_var_f15  = pathout+'EBVrecon_Var_fw15_nside256.fits'\n",
    "\n",
    "file_mask_f6  = pathout+'EBVrecon_Mask_fw6p1_nside256.fits'\n",
    "file_mask_f15 = pathout+'EBVrecon_Mask_fw15_nside256.fits'\n",
    "\n",
    "file_calib_g  = pathout+'calib_ps1-g_nside256.fits'\n",
    "file_calib_r  = pathout+'calib_ps1-r_nside256.fits'\n",
    "file_calib_z  = pathout+'calib_ps1-z_nside256.fits'\n",
    "\n",
    "file_calib_mask_g  = pathout+'calib_mask-g_nside256.fits'\n",
    "file_calib_mask_r  = pathout+'calib_mask-r_nside256.fits'\n",
    "file_calib_mask_z  = pathout+'calib_mask-z_nside256.fits'"
   ]
  },
  {
   "cell_type": "markdown",
   "id": "322ba659-2e9d-43d4-a54b-2927385b9226",
   "metadata": {
    "tags": []
   },
   "source": [
    "#### READING MAPS AND CONVERTING FROM RING TO NEST "
   ]
  },
  {
   "cell_type": "code",
   "execution_count": 5,
   "id": "ad9ea3bf-4bb1-4f9f-9789-dc19f407d279",
   "metadata": {},
   "outputs": [],
   "source": [
    "def get_file_and_reorder(filename):\n",
    "    aux = hp.read_map(filename,nest=False) \n",
    "    return hp.reorder(aux, inp='RING', out= 'NEST', r2n = True) "
   ]
  },
  {
   "cell_type": "code",
   "execution_count": null,
   "id": "685389fa-760b-4131-9834-539aa708f102",
   "metadata": {},
   "outputs": [],
   "source": [
    "# DO NOT USE in new version\n",
    "lensmap = hp.read_map(file_lensmap,nest=False) \n",
    "lensmap = hp.reorder(lensmap, inp='RING', out= 'NEST', r2n = True) \n",
    "lensmask = hp.read_map(file_lensmask,nest=False) \n",
    "lensmask = hp.reorder(lensmask, inp='RING', out= 'NEST', r2n = True) \n",
    "\n",
    "halmap = hp.read_map(file_halmap,nest=False) \n",
    "halmap = hp.reorder(halmap, inp='RING', out= 'NEST', r2n = True) \n",
    "halmask = hp.read_map(file_halmask,nest=False) \n",
    "halmask = hp.reorder(halmask, inp='RING', out= 'NEST', r2n = True)\n",
    "\n",
    "ebvmap = hp.read_map(file_ebvmap,nest=False) \n",
    "ebvmap = hp.reorder(ebvmap, inp='RING', out= 'NEST', r2n = True) \n",
    "ebvmask = hp.read_map(file_ebvmask,nest=False) \n",
    "ebvmap = hp.reorder(ebvmask, inp='RING', out= 'NEST', r2n = True) "
   ]
  },
  {
   "cell_type": "code",
   "execution_count": 6,
   "id": "4c5a9ee6-7111-4b5d-bad1-71b94e58423d",
   "metadata": {},
   "outputs": [],
   "source": [
    "######\n",
    "hdict = [{'name':'HPXNSIDE','value' :256 , 'comment':'healpix nside'},\n",
    "         {'name': 'HPXNEST','value' :True, 'comment':'healpix ordering'}]"
   ]
  },
  {
   "cell_type": "code",
   "execution_count": 41,
   "id": "25bf1081-c926-441a-a32d-fe52e34fda3a",
   "metadata": {},
   "outputs": [],
   "source": [
    "######\n",
    "#hdict = [{'name':'ORDERING','value':'NESTED', 'comment':'healpix order'},\n",
    "#         {'name':'EFD1','value':'KAPPAPLANK','comment':'kappa values from Planck lensing'},\n",
    "#         {'name':'EFD2','value':'KAPPAPLANKMASK','comment':'kappa mask values from Planck lensing'},\n",
    "#         {'name':'EFD3','value':'HALPHA', 'comment':'Halpha fwhm06'},\n",
    "#         {'name':'EFD4','value':'HALPHAMASK', 'comment': 'Halpha fwhm06 mask'},\n",
    "#         {'name':'EFD5','value':'EBVext', 'comment': 'EBV from public map'},\n",
    "#         {'name':'EFD6','value':'EBVextMASK', 'comment':'EBV mask from public map'}]"
   ]
  },
  {
   "cell_type": "code",
   "execution_count": 7,
   "id": "7efe30c0-d2bb-4555-8ffb-947e9e06e8ad",
   "metadata": {},
   "outputs": [
    {
     "name": "stderr",
     "output_type": "stream",
     "text": [
      "/global/common/software/desi/cori/desiconda/20200801-1.4.0-spec/conda/lib/python3.8/site-packages/healpy/fitsfunc.py:368: UserWarning: If you are not specifying the input dtype and using the default np.float64 dtype of read_map(), please consider that it will change in a future version to None as to keep the same dtype of the input file: please explicitly set the dtype if it is important to you.\n",
      "  warnings.warn(\n",
      "/global/common/software/desi/cori/desiconda/20200801-1.4.0-spec/conda/lib/python3.8/site-packages/healpy/fitsfunc.py:391: UserWarning: NSIDE = 256\n",
      "  warnings.warn(\"NSIDE = {0:d}\".format(nside))\n",
      "/global/common/software/desi/cori/desiconda/20200801-1.4.0-spec/conda/lib/python3.8/site-packages/healpy/fitsfunc.py:400: UserWarning: ORDERING = RING in fits file\n",
      "  warnings.warn(\"ORDERING = {0:s} in fits file\".format(ordering))\n",
      "/global/common/software/desi/cori/desiconda/20200801-1.4.0-spec/conda/lib/python3.8/site-packages/healpy/fitsfunc.py:428: UserWarning: INDXSCHM = IMPLICIT\n",
      "  warnings.warn(\"INDXSCHM = {0:s}\".format(schm))\n"
     ]
    }
   ],
   "source": [
    "nside = 256\n",
    "npix = hp.nside2npix(nside)\n",
    "nrows = npix \n",
    "data = np.zeros(nrows, dtype=[('KAPPAPLANK','f8'),('KAPPAPLANKMASK','f8'),('HALPHA','f8'),\n",
    "                              ('HALPHAMASK','f8'),('EBVext','f8'),('EBVextMASK','f8'),\n",
    "                              ('CALIBG','f8'),('CALIBR','f8'),('CALIBZ','f8'),\n",
    "                              ('CALIBMASKG','f8'),('CALIBMASKR','f8'),('CALIBMASKZ','f8'),\n",
    "                              ('EBVreconMEANF6','f8'),('EBVreconMEANF15','f8'),\n",
    "                              ('EBVreconVARF6','f8'),('EBVreconVARF15','f8'),\n",
    "                              ('EBVreconMASKF6','f8'),('EBVreconMASKF15','f8'),\n",
    "                             ])\n",
    "data['KAPPAPLANK'] = get_file_and_reorder( file_lensmap  )\n",
    "data['KAPPAPLANKMASK'] =  get_file_and_reorder( file_lensmask  )\n",
    "data['HALPHA']     =  get_file_and_reorder( file_halmap  )\n",
    "data['HALPHAMASK'] =  get_file_and_reorder( file_halmask )\n",
    "data['EBVext']     =  get_file_and_reorder( file_ebvmap )\n",
    "data['EBVextMASK'] =  get_file_and_reorder( file_ebvmask )\n",
    "\n",
    "data['EBVreconMEANF6'] =  get_file_and_reorder( file_mean_f6   )\n",
    "data['EBVreconMEANF15'] =  get_file_and_reorder(file_mean_f15 )\n",
    "data['EBVreconVARF6'] =  get_file_and_reorder( file_var_f6 )\n",
    "data['EBVreconVARF15'] =  get_file_and_reorder(file_var_f15  )\n",
    "data['EBVreconMASKF6'] =  get_file_and_reorder( file_mask_f6  )\n",
    "data['EBVreconMASKF15'] =  get_file_and_reorder( file_mask_f15)\n",
    "\n",
    "\n",
    "data['CALIBG'] =  get_file_and_reorder( file_calib_g )\n",
    "data['CALIBR'] =  get_file_and_reorder( file_calib_r )\n",
    "data['CALIBZ'] =  get_file_and_reorder( file_calib_z )\n",
    "data['CALIBMASKG'] =  get_file_and_reorder( file_calib_mask_g  )\n",
    "data['CALIBMASKR'] =  get_file_and_reorder( file_calib_mask_r  )\n",
    "data['CALIBMASKZ'] =  get_file_and_reorder( file_calib_mask_z  )"
   ]
  },
  {
   "cell_type": "code",
   "execution_count": 58,
   "id": "f029839c-6752-48e1-89da-a4f3d788502b",
   "metadata": {},
   "outputs": [],
   "source": [
    "#### OLD NOT USED \n",
    "nside = 256\n",
    "npix = hp.nside2npix(nside)\n",
    "nrows = npix \n",
    "data = np.zeros(nrows, dtype=[('KAPPAPLANK','f8'),('KAPPAPLANKMASK','f8'),('HALPHA','f8'),\n",
    "                              ('HALPHAMASK','f8'),('EBVext','f8'),('EBVextMASK','f8')])\n",
    "data['KAPPAPLANK'] = lensmap\n",
    "data['KAPPAPLANKMASK'] = lensmask\n",
    "data['HALPHA'] = halmap\n",
    "data['HALPHAMASK'] = halmask\n",
    "data['EBVext'] = ebvmap\n",
    "data['EBVextMASK'] = ebvmask\n"
   ]
  },
  {
   "cell_type": "code",
   "execution_count": 8,
   "id": "6553eb9b-b45f-4419-908f-7f618e5ba99d",
   "metadata": {},
   "outputs": [],
   "source": [
    "# CAREFUL, IF FILE EXISTS, the header will not be changed, but no warning is given. \n",
    "file_pixweight = 'pixweight_external.fits'\n",
    "filename = pathout+file_pixweight\n",
    "fits = FITS(filename,'rw')\n",
    "fits.write(data, header=hdict)\n",
    "hdr=FITSHDR(hdict)\n",
    "fits.write(data, header=hdr)\n",
    "fits.close()"
   ]
  },
  {
   "cell_type": "code",
   "execution_count": 37,
   "id": "fb75e395-7dc2-46d8-a55c-4bb71f7b8ea0",
   "metadata": {},
   "outputs": [],
   "source": [
    "#--------------------------------"
   ]
  },
  {
   "cell_type": "markdown",
   "id": "c356671e-6771-4a89-a34f-99f83dc59630",
   "metadata": {},
   "source": [
    "Test by Reading "
   ]
  },
  {
   "cell_type": "code",
   "execution_count": 9,
   "id": "2f9dc6b6-b8c1-4a45-80fa-09fb003099de",
   "metadata": {},
   "outputs": [],
   "source": [
    "data,h = fitsio.read(filename, header=True)"
   ]
  },
  {
   "cell_type": "code",
   "execution_count": 10,
   "id": "7128e5ea-bce5-42b0-a001-0984ea2297a0",
   "metadata": {},
   "outputs": [
    {
     "data": {
      "text/plain": [
       "\n",
       "XTENSION= 'BINTABLE'           / binary table extension\n",
       "BITPIX  =                    8 / 8-bit bytes\n",
       "NAXIS   =                    2 / 2-dimensional binary table\n",
       "NAXIS1  =                  144 / width of table in bytes\n",
       "NAXIS2  =               786432 / number of rows in table\n",
       "PCOUNT  =                    0 / size of special data area\n",
       "GCOUNT  =                    1 / one data group (required keyword)\n",
       "TFIELDS =                   18 / number of fields in each row\n",
       "TTYPE1  = 'KAPPAPLANK'         / label for field   1\n",
       "TFORM1  = 'D'                  / data format of field: 8-byte DOUBLE\n",
       "TTYPE2  = 'KAPPAPLANKMASK'     / label for field   2\n",
       "TFORM2  = 'D'                  / data format of field: 8-byte DOUBLE\n",
       "TTYPE3  = 'HALPHA'             / label for field   3\n",
       "TFORM3  = 'D'                  / data format of field: 8-byte DOUBLE\n",
       "TTYPE4  = 'HALPHAMASK'         / label for field   4\n",
       "TFORM4  = 'D'                  / data format of field: 8-byte DOUBLE\n",
       "TTYPE5  = 'EBVext'             / label for field   5\n",
       "TFORM5  = 'D'                  / data format of field: 8-byte DOUBLE\n",
       "TTYPE6  = 'EBVextMASK'         / label for field   6\n",
       "TFORM6  = 'D'                  / data format of field: 8-byte DOUBLE\n",
       "TTYPE7  = 'CALIBG'             / label for field   7\n",
       "TFORM7  = 'D'                  / data format of field: 8-byte DOUBLE\n",
       "TTYPE8  = 'CALIBR'             / label for field   8\n",
       "TFORM8  = 'D'                  / data format of field: 8-byte DOUBLE\n",
       "TTYPE9  = 'CALIBZ'             / label for field   9\n",
       "TFORM9  = 'D'                  / data format of field: 8-byte DOUBLE\n",
       "TTYPE10 = 'CALIBMASKG'         / label for field  10\n",
       "TFORM10 = 'D'                  / data format of field: 8-byte DOUBLE\n",
       "TTYPE11 = 'CALIBMASKR'         / label for field  11\n",
       "TFORM11 = 'D'                  / data format of field: 8-byte DOUBLE\n",
       "TTYPE12 = 'CALIBMASKZ'         / label for field  12\n",
       "TFORM12 = 'D'                  / data format of field: 8-byte DOUBLE\n",
       "TTYPE13 = 'EBVreconMEANF6'     / label for field  13\n",
       "TFORM13 = 'D'                  / data format of field: 8-byte DOUBLE\n",
       "TTYPE14 = 'EBVreconMEANF15'    / label for field  14\n",
       "TFORM14 = 'D'                  / data format of field: 8-byte DOUBLE\n",
       "TTYPE15 = 'EBVreconVARF6'      / label for field  15\n",
       "TFORM15 = 'D'                  / data format of field: 8-byte DOUBLE\n",
       "TTYPE16 = 'EBVreconVARF15'     / label for field  16\n",
       "TFORM16 = 'D'                  / data format of field: 8-byte DOUBLE\n",
       "TTYPE17 = 'EBVreconMASKF6'     / label for field  17\n",
       "TFORM17 = 'D'                  / data format of field: 8-byte DOUBLE\n",
       "TTYPE18 = 'EBVreconMASKF15'    / label for field  18\n",
       "TFORM18 = 'D'                  / data format of field: 8-byte DOUBLE\n",
       "HPXNSIDE=                  256 / healpix nside\n",
       "HPXNEST =                    T / healpix ordering"
      ]
     },
     "execution_count": 10,
     "metadata": {},
     "output_type": "execute_result"
    }
   ],
   "source": [
    "h"
   ]
  },
  {
   "cell_type": "code",
   "execution_count": null,
   "id": "aa22639e-45bd-4b45-87eb-eb681974773f",
   "metadata": {},
   "outputs": [],
   "source": []
  }
 ],
 "metadata": {
  "kernelspec": {
   "display_name": "DESI 21.3",
   "language": "python",
   "name": "desi-21.3"
  },
  "language_info": {
   "codemirror_mode": {
    "name": "ipython",
    "version": 3
   },
   "file_extension": ".py",
   "mimetype": "text/x-python",
   "name": "python",
   "nbconvert_exporter": "python",
   "pygments_lexer": "ipython3",
   "version": "3.8.3"
  }
 },
 "nbformat": 4,
 "nbformat_minor": 5
}
