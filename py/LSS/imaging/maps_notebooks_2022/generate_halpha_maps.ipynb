{
 "cells": [
  {
   "cell_type": "markdown",
   "id": "50103b00-8222-4a39-bbb1-c44604fddeb2",
   "metadata": {},
   "source": [
    "# Halpha maps DESI "
   ]
  },
  {
   "cell_type": "code",
   "execution_count": 1,
   "id": "6542480c-cdc0-46f8-b9db-2b30edb68498",
   "metadata": {},
   "outputs": [],
   "source": [
    "import numpy as np\n",
    "import requests\n",
    "import fitsio\n",
    "import healpy as hp\n",
    "import matplotlib.pyplot as plt"
   ]
  },
  {
   "cell_type": "markdown",
   "id": "51f6ad9b-6cb5-4f9f-b69c-0a643a076cc4",
   "metadata": {},
   "source": [
    "### Notes\n",
    "open(file,'wb') would overwrite"
   ]
  },
  {
   "cell_type": "markdown",
   "id": "f14e3756-e3a0-429e-84e2-745e6ce42a24",
   "metadata": {},
   "source": [
    "### Externally from original source"
   ]
  },
  {
   "cell_type": "code",
   "execution_count": 3,
   "id": "c0cd87be-7bb2-4051-ba6c-f984028cb751",
   "metadata": {},
   "outputs": [],
   "source": [
    "# Dust Maps Schlafly, Green, Finkbeiner et al. 2014, ApJ \n",
    "# Documenation  https://lambda.gsfc.nasa.gov/product/foreground/fg_ebv_map_info.cfm\n",
    "# File  https://lambda.gsfc.nasa.gov/data/foregrounds/EBV/ps1-ebv-4.5kpc.fits\n",
    "# Downloading with python https://www.codementor.io/@aviaryan/downloading-files-from-urls-in-python-77q3bs0un"
   ]
  },
  {
   "cell_type": "code",
   "execution_count": 4,
   "id": "2a318596-ed90-4d84-8814-54c36f9177c6",
   "metadata": {},
   "outputs": [
    {
     "name": "stdout",
     "output_type": "stream",
     "text": [
      "downloading... ps1-ebv-4.5kpc.fits\n"
     ]
    },
    {
     "data": {
      "text/plain": [
       "88087680"
      ]
     },
     "execution_count": 4,
     "metadata": {},
     "output_type": "execute_result"
    }
   ],
   "source": [
    "url = 'https://lambda.gsfc.nasa.gov/data/foregrounds/EBV/ps1-ebv-4.5kpc.fits'\n",
    "pathsave='/global/u1/m/manera/myKP3/kp3sys-inputs/'\n",
    "\n",
    "if url.find('/'):\n",
    "  filename = url.rsplit('/', 1)[1]\n",
    "  print('downloading...',filename)\n",
    "\n",
    "r = requests.get(url, allow_redirects=True)\n",
    "open(pathsave+filename, 'wb').write(r.content)"
   ]
  },
  {
   "cell_type": "code",
   "execution_count": null,
   "id": "da651ee4-4e10-447e-a01a-12ead9f8e369",
   "metadata": {},
   "outputs": [],
   "source": [
    "myfile = '/global/u1/m/manera/myKP3/kp3sys-inputs/ps1-ebv-4.5kpc.fits'"
   ]
  },
  {
   "cell_type": "code",
   "execution_count": 5,
   "id": "5db12b99-a23f-4fea-a33a-cc9802a92533",
   "metadata": {},
   "outputs": [
    {
     "name": "stdout",
     "output_type": "stream",
     "text": [
      "\n",
      "SIMPLE  =                    T / conforms to FITS standard\n",
      "BITPIX  =                    8 / array data type\n",
      "NAXIS   =                    0 / number of array dimensions\n",
      "EXTEND  =                    T / \n",
      "URL     = 'http://faun.rc.fas.harvard.edu/eschlafly/2dmap' / \n",
      "REFERENC= 'Schlafly, Green, Finkbeiner, Rix, et al. 2014, ApJ' / \n",
      "PIXTYPE = 'HEALPIX'            / \n",
      "ORDERING= 'RING'               / \n",
      "NSIDE   =                  512 / \n",
      "NPIX    =              3145728 / \n",
      "FIRSTPIX=                    0 / \n",
      "LASTPIX =              3145727 / \n",
      "VERSION =                  1.0 / \n",
      "DISTANCE=                 4.54 / Distance to which E(B-V) is measured, kpc\n",
      "COMMENT NOTE: reddenings in the PS1 bands are the most direct observable.\n",
      "COMMENT These are transformed to E(B-V)_SFD via Schlafly & Finkbeiner (2011).\n",
      "COMMENT The resulting map is expected to have the same overestimation of E(B-V)\n",
      "COMMENT by 14% that the Schlegel, Finkbeiner, and Davis (1998) map has, and\n",
      "COMMENT should be transformed for use in other bands with the same coefficients\n",
      "COMMENT given in Schlafly & Finkbeiner (2011).\n",
      "COMMENT Reddening Maps to 4.5 kpc from PS1 Data\n"
     ]
    }
   ],
   "source": [
    "h = fitsio.read_header(myfile)\n",
    "print(h)"
   ]
  },
  {
   "cell_type": "markdown",
   "id": "81d24fc3-a804-4b51-a9d5-fed757c3a02d",
   "metadata": {},
   "source": [
    "### Rotation function"
   ]
  },
  {
   "cell_type": "code",
   "execution_count": 2,
   "id": "0f427346-9920-465e-adb3-6c181fce0ea5",
   "metadata": {},
   "outputs": [],
   "source": [
    "def rotate_map(hmap,coord):\n",
    "    \"\"\"\n",
    "   Rotate a healpix map from galactic to equatorial, interpolating values.\n",
    "   Adapted and notes by Marc Manera\n",
    "   \n",
    "    Parameters\n",
    "    ----------\n",
    "    hmap : healpix map (may not work for an array of maps)\n",
    "      map(s) to be rotated\n",
    "    coord : sequence of two character example coord = (['G','C']) \n",
    "      First character is the coordinate system of the input map, second character\n",
    "      is the coordinate system of the output map. As in HEALPIX, allowed\n",
    "      coordinate systems are 'G' (galactic), 'E' (ecliptic) or 'C' (equatorial)\n",
    "\n",
    "   \"\"\"\n",
    "   # Obtain healpy rotator.\n",
    "   # NOTE: MAPS REVERSED\n",
    "   # We rotate the maps in reverse new -> old, instead of old -> new\n",
    "   # because we are not changing the values of the pixels, but their indices!\n",
    "    r = hp.Rotator(coord=reversed(coord))\n",
    "    \n",
    "   # Get theta, phi input coordinates\n",
    "    nside = hp.npix2nside(len(hmap))\n",
    "    th,ph = hp.pix2ang(nside, np.arange(hp.nside2npix(nside))) #theta, phi\n",
    "\n",
    "   # Map onto coordinates by INVERSE ROTATIONÇ \n",
    "    throt, phrot = r(th,ph)\n",
    "   # Interpolate the values of input map into an array of throt and phrot coordinates\n",
    "   # This means, for healpix index 1 of new system \n",
    "   # I look where would the old coordinates be (thus inverse rotation)\n",
    "   # and interpolate the values of the old map into the input position \n",
    "   # in the old coordinates, this would be indexed and new first value\n",
    "   # thus result map is in the new coordinates, but by changing indices not values. \n",
    "    rot_map = hp.get_interp_val(hmap, throt, phrot)\n",
    "    return rot_map"
   ]
  },
  {
   "cell_type": "markdown",
   "id": "28673954-e6f5-4098-8a19-d80d1d857d91",
   "metadata": {
    "tags": []
   },
   "source": [
    "## Halpha MAPS nside = 256"
   ]
  },
  {
   "cell_type": "code",
   "execution_count": 11,
   "id": "ab23ae3f-6781-40a1-9fbf-ec864047a5d6",
   "metadata": {},
   "outputs": [],
   "source": [
    "# https://faun.rc.fas.harvard.edu/dfink/skymaps/halpha/"
   ]
  },
  {
   "cell_type": "code",
   "execution_count": 3,
   "id": "15f225bb-a972-4e70-87d6-bc8c6d16d798",
   "metadata": {},
   "outputs": [
    {
     "name": "stdout",
     "output_type": "stream",
     "text": [
      "downloading... Halpha_fwhm06_0256.fits\n",
      "downloading... Halpha_mask_fwhm06_0256.fits\n",
      "downloading... Halpha_error_fwhm06_0256.fits\n"
     ]
    },
    {
     "data": {
      "text/plain": [
       "3156480"
      ]
     },
     "execution_count": 3,
     "metadata": {},
     "output_type": "execute_result"
    }
   ],
   "source": [
    "pathsave='/global/u1/m/manera/myKP3/kp3sys-inputs/'\n",
    "\n",
    "url = 'https://faun.rc.fas.harvard.edu/dfink/skymaps/halpha/data/v1_1/healpix/Halpha_fwhm06_0256.fits'\n",
    "if url.find('/'):\n",
    "  filename = url.rsplit('/', 1)[1]\n",
    "  print('downloading...',filename)\n",
    "\n",
    "r = requests.get(url, allow_redirects=True)\n",
    "open(pathsave+filename, 'wb').write(r.content)\n",
    "\n",
    "url = 'https://faun.rc.fas.harvard.edu/dfink/skymaps/halpha/data/v1_1/healpix/Halpha_mask_fwhm06_0256.fits'\n",
    "\n",
    "if url.find('/'):\n",
    "  filename = url.rsplit('/', 1)[1]\n",
    "  print('downloading...',filename)\n",
    "\n",
    "r = requests.get(url, allow_redirects=True)\n",
    "open(pathsave+filename, 'wb').write(r.content)\n",
    "\n",
    "url = 'https://faun.rc.fas.harvard.edu/dfink/skymaps/halpha/data/v1_1/healpix/Halpha_error_fwhm06_0256.fits'\n",
    "\n",
    "if url.find('/'):\n",
    "  filename = url.rsplit('/', 1)[1]\n",
    "  print('downloading...',filename)\n",
    "\n",
    "r = requests.get(url, allow_redirects=True)\n",
    "open(pathsave+filename, 'wb').write(r.content)\n"
   ]
  },
  {
   "cell_type": "markdown",
   "id": "550e046d-6c8b-453f-badd-2df8aa35210b",
   "metadata": {},
   "source": [
    "## Halpha MAPS nside = 512"
   ]
  },
  {
   "cell_type": "code",
   "execution_count": 4,
   "id": "78f5dd0d-7ccc-4a49-9ddf-0690a462e4bf",
   "metadata": {},
   "outputs": [
    {
     "name": "stdout",
     "output_type": "stream",
     "text": [
      "downloading... Halpha_fwhm06_0512.fits\n",
      "downloading... Halpha_mask_fwhm06_0512.fits\n",
      "downloading... Halpha_error_fwhm06_0512.fits\n"
     ]
    },
    {
     "data": {
      "text/plain": [
       "12594240"
      ]
     },
     "execution_count": 4,
     "metadata": {},
     "output_type": "execute_result"
    }
   ],
   "source": [
    "pathsave='/global/u1/m/manera/myKP3/kp3sys-inputs/'\n",
    "\n",
    "url = 'https://faun.rc.fas.harvard.edu/dfink/skymaps/halpha/data/v1_1/healpix/Halpha_fwhm06_0512.fits'\n",
    "if url.find('/'):\n",
    "  filename = url.rsplit('/', 1)[1]\n",
    "  print('downloading...',filename)\n",
    "\n",
    "r = requests.get(url, allow_redirects=True)\n",
    "open(pathsave+filename, 'wb').write(r.content)\n",
    "\n",
    "url = 'https://faun.rc.fas.harvard.edu/dfink/skymaps/halpha/data/v1_1/healpix/Halpha_mask_fwhm06_0512.fits'\n",
    "if url.find('/'):\n",
    "  filename = url.rsplit('/', 1)[1]\n",
    "  print('downloading...',filename)\n",
    "\n",
    "r = requests.get(url, allow_redirects=True)\n",
    "open(pathsave+filename, 'wb').write(r.content)\n",
    "\n",
    "url = 'https://faun.rc.fas.harvard.edu/dfink/skymaps/halpha/data/v1_1/healpix/Halpha_error_fwhm06_0512.fits'\n",
    "if url.find('/'):\n",
    "  filename = url.rsplit('/', 1)[1]\n",
    "  print('downloading...',filename)\n",
    "\n",
    "r = requests.get(url, allow_redirects=True)\n",
    "open(pathsave+filename, 'wb').write(r.content)\n",
    "\n"
   ]
  },
  {
   "cell_type": "markdown",
   "id": "469c88de-cefe-456d-bf58-342283f1dbdc",
   "metadata": {},
   "source": [
    "## Rotate, interpolate, and save maps in equatorial coordinates"
   ]
  },
  {
   "cell_type": "markdown",
   "id": "46223c08-c51f-4898-aba4-aa83b7c85691",
   "metadata": {},
   "source": [
    "nside = 256"
   ]
  },
  {
   "cell_type": "code",
   "execution_count": 5,
   "id": "ee023c06-e8c9-44e1-bafb-a9f28c551e0e",
   "metadata": {},
   "outputs": [],
   "source": [
    "pathsave='/global/u1/m/manera/myKP3/kp3sys-inputs/'\n",
    "pathout ='/global/u1/m/manera/myKP3/kp3sys-outputs/'"
   ]
  },
  {
   "cell_type": "code",
   "execution_count": null,
   "id": "d5ab5e45-5325-4a64-b82e-0ed5a7943407",
   "metadata": {},
   "outputs": [],
   "source": [
    "nside = 256\n",
    "coordrot = coord = (['G','C']) \n",
    "\n",
    "file_halpha_in = 'Halpha_fwhm06_0256.fits'\n",
    "fileinput = pathsave+file_halpha_in\n",
    "file_halpha_out = 'Halpha_map_nside256.fits'\n",
    "fileout = pathout + file_halpha_out\n",
    "\n",
    "halpha_map = hp.read_map(fileinput)\n",
    "hp.mollview(halpha_map,title='Halpha Map',max=60,coord=[\"G\"])\n",
    "halpha_map = rotate_map(halpha_map,coordrot)\n",
    "halpha_map = hp.ud_grade(halpha_map,nside)\n",
    "hp.mollview(halpha_map,title='Halpha Map',max=60,coord=[\"C\"])\n",
    "hp.write_map(fileout, halpha_map, nest=False) #function write empty healpix header \n",
    "\n",
    "\n",
    "file_halpha_in = 'Halpha_mask_fwhm06_0256.fits'\n",
    "fileinput = pathsave+file_halpha_in\n",
    "file_halpha_out = 'Halpha_mask_nside256.fits'\n",
    "fileout = pathout + file_halpha_out\n",
    "\n",
    "halpha_map = hp.read_map(fileinput)\n",
    "hp.mollview(halpha_map,title='Halpha Mask',coord=[\"G\"])\n",
    "halpha_map = rotate_map(halpha_map,coordrot)\n",
    "halpha_map = hp.ud_grade(halpha_map,nside)\n",
    "hp.mollview(halpha_map,title='Halpha Mask',coord=[\"C\"])\n",
    "hp.write_map(fileout, halpha_map, nest=False) #function write empty healpix header \n",
    "\n"
   ]
  },
  {
   "cell_type": "code",
   "execution_count": 8,
   "id": "64ba38e6-ab3b-4797-8c00-17cd11ef83f4",
   "metadata": {},
   "outputs": [],
   "source": [
    "nside = 512"
   ]
  },
  {
   "cell_type": "code",
   "execution_count": null,
   "id": "f7684cb6-5144-4c1b-8af5-b3adf07a52f5",
   "metadata": {},
   "outputs": [],
   "source": [
    "nside = 512\n",
    "coordrot = coord = (['G','C']) \n",
    "\n",
    "file_halpha_in = 'Halpha_fwhm06_0512.fits'\n",
    "fileinput = pathsave+file_halpha_in\n",
    "file_halpha_out = 'Halpha_map_nside512.fits'\n",
    "fileout = pathout + file_halpha_out\n",
    "\n",
    "halpha_map = hp.read_map(fileinput)\n",
    "hp.mollview(halpha_map,title='Halpha Map',max=60,coord=[\"G\"])\n",
    "halpha_map = rotate_map(halpha_map,coordrot)\n",
    "halpha_map = hp.ud_grade(halpha_map,nside)\n",
    "hp.mollview(halpha_map,title='Halpha Map',max=60,coord=[\"C\"])\n",
    "hp.write_map(fileout, halpha_map, nest=False) #function write empty healpix header \n",
    "\n",
    "\n",
    "file_halpha_in = 'Halpha_mask_fwhm06_0512.fits'\n",
    "fileinput = pathsave+file_halpha_in\n",
    "file_halpha_out = 'Halpha_mask_nside512.fits'\n",
    "fileout = pathout + file_halpha_out\n",
    "\n",
    "halpha_map = hp.read_map(fileinput)\n",
    "hp.mollview(halpha_map,title='Halpha Mask',coord=[\"G\"])\n",
    "halpha_map = rotate_map(halpha_map,coordrot)\n",
    "halpha_map = hp.ud_grade(halpha_map,nside)\n",
    "hp.mollview(halpha_map,title='Halpha Mask',coord=[\"C\"])\n",
    "hp.write_map(fileout, halpha_map, nest=False) #function write empty healpix header \n",
    "\n"
   ]
  },
  {
   "cell_type": "code",
   "execution_count": 11,
   "id": "126a1cd6-08c7-4cb7-9168-4d690430e311",
   "metadata": {},
   "outputs": [
    {
     "data": {
      "image/png": "[encoded data removed]",
      "text/plain": [
       "<Figure size 432x288 with 1 Axes>"
      ]
     },
     "metadata": {
      "needs_background": "light"
     },
     "output_type": "display_data"
    }
   ],
   "source": [
    "file_halpha_in = 'Halpha_fwhm06_0512.fits'\n",
    "fileinput = pathsave+file_halpha_in\n",
    "halpha_map = hp.read_map(fileinput)\n",
    "plt.hist(halpha_map, range=[0,60],bins=1000)\n",
    "plt.show()"
   ]
  },
  {
   "cell_type": "code",
   "execution_count": null,
   "id": "e14124ae-249d-4b4f-b90b-f408898282b3",
   "metadata": {},
   "outputs": [],
   "source": []
  }
 ],
 "metadata": {
  "kernelspec": {
   "display_name": "DESI 21.3",
   "language": "python",
   "name": "desi-21.3"
  },
  "language_info": {
   "codemirror_mode": {
    "name": "ipython",
    "version": 3
   },
   "file_extension": ".py",
   "mimetype": "text/x-python",
   "name": "python",
   "nbconvert_exporter": "python",
   "pygments_lexer": "ipython3",
   "version": "3.8.3"
  }
 },
 "nbformat": 4,
 "nbformat_minor": 5
}
