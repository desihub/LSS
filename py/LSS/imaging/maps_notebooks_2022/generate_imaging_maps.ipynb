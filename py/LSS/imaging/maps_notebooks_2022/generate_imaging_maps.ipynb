{
 "cells": [
  {
   "cell_type": "markdown",
   "metadata": {},
   "source": [
    "# Create Imaging Templates with QuickSip"
   ]
  },
  {
   "cell_type": "markdown",
   "metadata": {},
   "source": [
    "To create templates for imaging quantities, we first combine the ccd annotated files. Then, we run _QuickSip_ (Boris Lesitedt). The QuickSip code is designed for the Dark Energy Survey (DES). Therefore, we use the modified version by Marc Manera, Ashley Ross, Hee-Jong Seo et al."
   ]
  },
  {
   "cell_type": "code",
   "execution_count": 1,
   "metadata": {},
   "outputs": [],
   "source": [
    "import os\n",
    "from glob import glob\n",
    "from qsdriver import make_maps, combine_ccds, combine_fits"
   ]
  },
  {
   "cell_type": "markdown",
   "metadata": {},
   "source": [
    "## 1. Combine CCD files"
   ]
  },
  {
   "cell_type": "code",
   "execution_count": 2,
   "metadata": {},
   "outputs": [
    {
     "data": {
      "text/plain": [
       "['/home/mehdi/data/templates/ccds/dr9/ccds-annotated-90prime-dr9-cut.fits',\n",
       " '/home/mehdi/data/templates/ccds/dr9/ccds-annotated-decam-dr9-cut.fits',\n",
       " '/home/mehdi/data/templates/ccds/dr9/ccds-annotated-mosaic-dr9-cut.fits']"
      ]
     },
     "execution_count": 2,
     "metadata": {},
     "output_type": "execute_result"
    }
   ],
   "source": [
    "#--- inputs \n",
    "name = 'dr9pub' # don't use an underline \"_\"\n",
    "nside = 256\n",
    "bands = ['r', 'g', 'z']\n",
    "\n",
    "in_dir = '/home/mehdi/data/templates/ccds/dr9/'\n",
    "out_dir = '/home/mehdi/data/templates/dr9/'\n",
    "out_name = 'ccds-annotated-combined-dr9-test.fits'\n",
    "output_ccd = os.path.join(out_dir, out_name)\n",
    "\n",
    "ccds = glob(f'{in_dir}ccds-annotated-*-cut.fits')\n",
    "ccds"
   ]
  },
  {
   "cell_type": "code",
   "execution_count": 3,
   "metadata": {},
   "outputs": [
    {
     "name": "stdout",
     "output_type": "stream",
     "text": [
      "working on .... ccds-annotated-90prime-dr9-cut.fits\n",
      "number of ccds in this file: 146268\n",
      "different dtypes (before): []\n",
      "different dtypes (after): []\n",
      "working on .... ccds-annotated-decam-dr9-cut.fits\n",
      "number of ccds in this file: 5824141\n",
      "different dtypes (before): ['<U7']\n",
      "different dtypes (after): []\n",
      "working on .... ccds-annotated-mosaic-dr9-cut.fits\n",
      "number of ccds in this file: 240780\n",
      "different dtypes (before): ['<U7']\n",
      "different dtypes (after): []\n",
      "Total number of combined ccds : 6211189\n",
      "wrote the combined ccd file: /home/mehdi/data/templates/dr9/ccds-annotated-combined-dr9-test.fits\n"
     ]
    }
   ],
   "source": [
    "combine_ccds(ccds, output_ccd)"
   ]
  },
  {
   "cell_type": "markdown",
   "metadata": {},
   "source": [
    "## 2. Run QuickSip"
   ]
  },
  {
   "cell_type": "code",
   "execution_count": 4,
   "metadata": {},
   "outputs": [
    {
     "name": "stdout",
     "output_type": "stream",
     "text": [
      "> Projection nobs  mean  took : 17.41 sec for 411047 pixels\n",
      "Creating and writing /home/mehdi/data/templates/dr9//dr9pub/nside256_oversamp1/dr9pub_band_r_nside256_oversamp1_nobs__mean.fits\n",
      "> Projection airmass  mean  took : 24.52 sec for 411047 pixels\n",
      "Creating and writing /home/mehdi/data/templates/dr9//dr9pub/nside256_oversamp1/dr9pub_band_r_nside256_oversamp1_airmass__mean.fits\n",
      "> Projection mjd_obs  min  took : 17.16 sec for 411047 pixels\n",
      "Creating and writing /home/mehdi/data/templates/dr9//dr9pub/nside256_oversamp1/dr9pub_band_r_nside256_oversamp1_mjd_obs__min.fits\n",
      "> Projection mjd_obs  mean  took : 19.75 sec for 411047 pixels\n",
      "Creating and writing /home/mehdi/data/templates/dr9//dr9pub/nside256_oversamp1/dr9pub_band_r_nside256_oversamp1_mjd_obs__mean.fits\n",
      "> Projection mjd_obs  max  took : 17.49 sec for 411047 pixels\n",
      "Creating and writing /home/mehdi/data/templates/dr9//dr9pub/nside256_oversamp1/dr9pub_band_r_nside256_oversamp1_mjd_obs__max.fits\n",
      "> Projection nobs  mean  took : 19.94 sec for 437345 pixels\n",
      "Creating and writing /home/mehdi/data/templates/dr9//dr9pub/nside256_oversamp1/dr9pub_band_g_nside256_oversamp1_nobs__mean.fits\n",
      "> Projection airmass  mean  took : 24.93 sec for 437345 pixels\n",
      "Creating and writing /home/mehdi/data/templates/dr9//dr9pub/nside256_oversamp1/dr9pub_band_g_nside256_oversamp1_airmass__mean.fits\n",
      "> Projection mjd_obs  min  took : 17.89 sec for 437345 pixels\n",
      "Creating and writing /home/mehdi/data/templates/dr9//dr9pub/nside256_oversamp1/dr9pub_band_g_nside256_oversamp1_mjd_obs__min.fits\n",
      "> Projection mjd_obs  mean  took : 21.26 sec for 437345 pixels\n",
      "Creating and writing /home/mehdi/data/templates/dr9//dr9pub/nside256_oversamp1/dr9pub_band_g_nside256_oversamp1_mjd_obs__mean.fits\n",
      "> Projection mjd_obs  max  took : 18.45 sec for 437345 pixels\n",
      "Creating and writing /home/mehdi/data/templates/dr9//dr9pub/nside256_oversamp1/dr9pub_band_g_nside256_oversamp1_mjd_obs__max.fits\n",
      "> Projection nobs  mean  took : 20.03 sec for 406702 pixels\n",
      "Creating and writing /home/mehdi/data/templates/dr9//dr9pub/nside256_oversamp1/dr9pub_band_z_nside256_oversamp1_nobs__mean.fits\n",
      "> Projection airmass  mean  took : 25.07 sec for 406702 pixels\n",
      "Creating and writing /home/mehdi/data/templates/dr9//dr9pub/nside256_oversamp1/dr9pub_band_z_nside256_oversamp1_airmass__mean.fits\n",
      "> Projection mjd_obs  min  took : 18.72 sec for 406702 pixels\n",
      "Creating and writing /home/mehdi/data/templates/dr9//dr9pub/nside256_oversamp1/dr9pub_band_z_nside256_oversamp1_mjd_obs__min.fits\n",
      "> Projection mjd_obs  mean  took : 20.15 sec for 406702 pixels\n",
      "Creating and writing /home/mehdi/data/templates/dr9//dr9pub/nside256_oversamp1/dr9pub_band_z_nside256_oversamp1_mjd_obs__mean.fits\n",
      "> Projection mjd_obs  max  took : 17.82 sec for 406702 pixels\n",
      "Creating and writing /home/mehdi/data/templates/dr9//dr9pub/nside256_oversamp1/dr9pub_band_z_nside256_oversamp1_mjd_obs__max.fits\n"
     ]
    }
   ],
   "source": [
    "input_ccd = output_ccd\n",
    "make_maps(input_ccd, nside, bands, name, out_dir)"
   ]
  },
  {
   "cell_type": "markdown",
   "metadata": {},
   "source": [
    "## 3. Combine QuickSip outputs into a hdf5 file (Pandas Dataframe)"
   ]
  },
  {
   "cell_type": "code",
   "execution_count": 2,
   "metadata": {},
   "outputs": [
    {
     "data": {
      "text/plain": [
       "['/home/mehdi/data/templates/dr9/dr9pub/nside256_oversamp1/dr9pub_band_r_nside256_oversamp1_nobs__mean.fits.gz',\n",
       " '/home/mehdi/data/templates/dr9/dr9pub/nside256_oversamp1/dr9pub_band_r_nside256_oversamp1_airmass__mean.fits.gz',\n",
       " '/home/mehdi/data/templates/dr9/dr9pub/nside256_oversamp1/dr9pub_band_r_nside256_oversamp1_mjd_obs__min.fits.gz',\n",
       " '/home/mehdi/data/templates/dr9/dr9pub/nside256_oversamp1/dr9pub_band_r_nside256_oversamp1_mjd_obs__mean.fits.gz',\n",
       " '/home/mehdi/data/templates/dr9/dr9pub/nside256_oversamp1/dr9pub_band_r_nside256_oversamp1_mjd_obs__max.fits.gz',\n",
       " '/home/mehdi/data/templates/dr9/dr9pub/nside256_oversamp1/dr9pub_band_g_nside256_oversamp1_nobs__mean.fits.gz',\n",
       " '/home/mehdi/data/templates/dr9/dr9pub/nside256_oversamp1/dr9pub_band_g_nside256_oversamp1_airmass__mean.fits.gz',\n",
       " '/home/mehdi/data/templates/dr9/dr9pub/nside256_oversamp1/dr9pub_band_g_nside256_oversamp1_mjd_obs__min.fits.gz',\n",
       " '/home/mehdi/data/templates/dr9/dr9pub/nside256_oversamp1/dr9pub_band_g_nside256_oversamp1_mjd_obs__mean.fits.gz',\n",
       " '/home/mehdi/data/templates/dr9/dr9pub/nside256_oversamp1/dr9pub_band_g_nside256_oversamp1_mjd_obs__max.fits.gz',\n",
       " '/home/mehdi/data/templates/dr9/dr9pub/nside256_oversamp1/dr9pub_band_z_nside256_oversamp1_nobs__mean.fits.gz',\n",
       " '/home/mehdi/data/templates/dr9/dr9pub/nside256_oversamp1/dr9pub_band_z_nside256_oversamp1_airmass__mean.fits.gz',\n",
       " '/home/mehdi/data/templates/dr9/dr9pub/nside256_oversamp1/dr9pub_band_z_nside256_oversamp1_mjd_obs__min.fits.gz',\n",
       " '/home/mehdi/data/templates/dr9/dr9pub/nside256_oversamp1/dr9pub_band_z_nside256_oversamp1_mjd_obs__mean.fits.gz',\n",
       " '/home/mehdi/data/templates/dr9/dr9pub/nside256_oversamp1/dr9pub_band_z_nside256_oversamp1_mjd_obs__max.fits.gz']"
      ]
     },
     "execution_count": 2,
     "metadata": {},
     "output_type": "execute_result"
    }
   ],
   "source": [
    "#--- inputs \n",
    "name = 'dr9pub' # don't use an underline \"_\"\n",
    "nside = 256\n",
    "in_dir = '/home/mehdi/data/templates/dr9/'\n",
    "out_path = f'/home/mehdi/data/templates/dr9/dr9pub_nside{nside}.h5'\n",
    "\n",
    "inputs = os.path.join(in_dir, name, f'nside{nside}_oversamp1', f'{name}*.fits.gz')\n",
    "input_maps = glob(inputs)\n",
    "\n",
    "input_maps"
   ]
  },
  {
   "cell_type": "code",
   "execution_count": 3,
   "metadata": {},
   "outputs": [
    {
     "name": "stdout",
     "output_type": "stream",
     "text": [
      "..............."
     ]
    }
   ],
   "source": [
    "df = combine_fits(input_maps, 256, write_to=out_path)"
   ]
  },
  {
   "cell_type": "code",
   "execution_count": 6,
   "metadata": {},
   "outputs": [
    {
     "data": {
      "text/plain": [
       "(786432, 15)"
      ]
     },
     "execution_count": 6,
     "metadata": {},
     "output_type": "execute_result"
    }
   ],
   "source": [
    "df.shape # (12*256*256=786,432, # of maps)"
   ]
  },
  {
   "cell_type": "code",
   "execution_count": 7,
   "metadata": {},
   "outputs": [
    {
     "data": {
      "text/html": [
       "<div>\n",
       "<style scoped>\n",
       "    .dataframe tbody tr th:only-of-type {\n",
       "        vertical-align: middle;\n",
       "    }\n",
       "\n",
       "    .dataframe tbody tr th {\n",
       "        vertical-align: top;\n",
       "    }\n",
       "\n",
       "    .dataframe thead th {\n",
       "        text-align: right;\n",
       "    }\n",
       "</style>\n",
       "<table border=\"1\" class=\"dataframe\">\n",
       "  <thead>\n",
       "    <tr style=\"text-align: right;\">\n",
       "      <th></th>\n",
       "      <th>nobs_mean_r</th>\n",
       "      <th>airmass_mean_r</th>\n",
       "      <th>mjd_min_r</th>\n",
       "      <th>mjd_mean_r</th>\n",
       "      <th>mjd_max_r</th>\n",
       "      <th>nobs_mean_g</th>\n",
       "      <th>airmass_mean_g</th>\n",
       "      <th>mjd_min_g</th>\n",
       "      <th>mjd_mean_g</th>\n",
       "      <th>mjd_max_g</th>\n",
       "      <th>nobs_mean_z</th>\n",
       "      <th>airmass_mean_z</th>\n",
       "      <th>mjd_min_z</th>\n",
       "      <th>mjd_mean_z</th>\n",
       "      <th>mjd_max_z</th>\n",
       "    </tr>\n",
       "  </thead>\n",
       "  <tbody>\n",
       "    <tr>\n",
       "      <th>1667</th>\n",
       "      <td>1.0</td>\n",
       "      <td>1.696000</td>\n",
       "      <td>58175.117188</td>\n",
       "      <td>58383.972656</td>\n",
       "      <td>58542.195312</td>\n",
       "      <td>1.0</td>\n",
       "      <td>1.645</td>\n",
       "      <td>58492.414062</td>\n",
       "      <td>58492.417969</td>\n",
       "      <td>58492.425781</td>\n",
       "      <td>1.0</td>\n",
       "      <td>1.741096</td>\n",
       "      <td>58121.191406</td>\n",
       "      <td>58133.238281</td>\n",
       "      <td>58145.281250</td>\n",
       "    </tr>\n",
       "    <tr>\n",
       "      <th>1669</th>\n",
       "      <td>1.0</td>\n",
       "      <td>1.682000</td>\n",
       "      <td>58175.128906</td>\n",
       "      <td>58462.789062</td>\n",
       "      <td>58542.207031</td>\n",
       "      <td>1.0</td>\n",
       "      <td>1.675</td>\n",
       "      <td>58492.425781</td>\n",
       "      <td>58495.976562</td>\n",
       "      <td>58499.527344</td>\n",
       "      <td>1.0</td>\n",
       "      <td>1.841856</td>\n",
       "      <td>58121.199219</td>\n",
       "      <td>58121.199219</td>\n",
       "      <td>58121.199219</td>\n",
       "    </tr>\n",
       "    <tr>\n",
       "      <th>1670</th>\n",
       "      <td>1.0</td>\n",
       "      <td>1.686667</td>\n",
       "      <td>58175.148438</td>\n",
       "      <td>58414.859375</td>\n",
       "      <td>58542.207031</td>\n",
       "      <td>1.0</td>\n",
       "      <td>1.710</td>\n",
       "      <td>58499.527344</td>\n",
       "      <td>58499.527344</td>\n",
       "      <td>58499.527344</td>\n",
       "      <td>1.0</td>\n",
       "      <td>1.841856</td>\n",
       "      <td>58121.199219</td>\n",
       "      <td>58121.199219</td>\n",
       "      <td>58121.199219</td>\n",
       "    </tr>\n",
       "    <tr>\n",
       "      <th>1672</th>\n",
       "      <td>1.0</td>\n",
       "      <td>1.688333</td>\n",
       "      <td>58175.148438</td>\n",
       "      <td>58414.871094</td>\n",
       "      <td>58542.214844</td>\n",
       "      <td>1.0</td>\n",
       "      <td>1.700</td>\n",
       "      <td>58499.527344</td>\n",
       "      <td>58499.527344</td>\n",
       "      <td>58499.527344</td>\n",
       "      <td>1.0</td>\n",
       "      <td>1.857216</td>\n",
       "      <td>58054.406250</td>\n",
       "      <td>58075.343750</td>\n",
       "      <td>58096.285156</td>\n",
       "    </tr>\n",
       "    <tr>\n",
       "      <th>1673</th>\n",
       "      <td>1.0</td>\n",
       "      <td>1.690000</td>\n",
       "      <td>58175.175781</td>\n",
       "      <td>58414.882812</td>\n",
       "      <td>58542.214844</td>\n",
       "      <td>1.0</td>\n",
       "      <td>1.690</td>\n",
       "      <td>58499.527344</td>\n",
       "      <td>58499.527344</td>\n",
       "      <td>58499.527344</td>\n",
       "      <td>1.0</td>\n",
       "      <td>1.854480</td>\n",
       "      <td>58054.406250</td>\n",
       "      <td>58091.308594</td>\n",
       "      <td>58123.230469</td>\n",
       "    </tr>\n",
       "  </tbody>\n",
       "</table>\n",
       "</div>"
      ],
      "text/plain": [
       "      nobs_mean_r  airmass_mean_r     mjd_min_r    mjd_mean_r     mjd_max_r  \\\n",
       "1667          1.0        1.696000  58175.117188  58383.972656  58542.195312   \n",
       "1669          1.0        1.682000  58175.128906  58462.789062  58542.207031   \n",
       "1670          1.0        1.686667  58175.148438  58414.859375  58542.207031   \n",
       "1672          1.0        1.688333  58175.148438  58414.871094  58542.214844   \n",
       "1673          1.0        1.690000  58175.175781  58414.882812  58542.214844   \n",
       "\n",
       "      nobs_mean_g  airmass_mean_g     mjd_min_g    mjd_mean_g     mjd_max_g  \\\n",
       "1667          1.0           1.645  58492.414062  58492.417969  58492.425781   \n",
       "1669          1.0           1.675  58492.425781  58495.976562  58499.527344   \n",
       "1670          1.0           1.710  58499.527344  58499.527344  58499.527344   \n",
       "1672          1.0           1.700  58499.527344  58499.527344  58499.527344   \n",
       "1673          1.0           1.690  58499.527344  58499.527344  58499.527344   \n",
       "\n",
       "      nobs_mean_z  airmass_mean_z     mjd_min_z    mjd_mean_z     mjd_max_z  \n",
       "1667          1.0        1.741096  58121.191406  58133.238281  58145.281250  \n",
       "1669          1.0        1.841856  58121.199219  58121.199219  58121.199219  \n",
       "1670          1.0        1.841856  58121.199219  58121.199219  58121.199219  \n",
       "1672          1.0        1.857216  58054.406250  58075.343750  58096.285156  \n",
       "1673          1.0        1.854480  58054.406250  58091.308594  58123.230469  "
      ]
     },
     "execution_count": 7,
     "metadata": {},
     "output_type": "execute_result"
    }
   ],
   "source": [
    "df.dropna().head() # index represent HEALPix index in ring ordering"
   ]
  },
  {
   "cell_type": "markdown",
   "metadata": {},
   "source": [
    "## 4. Visualization"
   ]
  },
  {
   "cell_type": "code",
   "execution_count": 13,
   "metadata": {},
   "outputs": [],
   "source": [
    "%matplotlib inline\n",
    "import matplotlib.pyplot as plt\n",
    "import healpy as hp\n",
    "import numpy as np"
   ]
  },
  {
   "cell_type": "code",
   "execution_count": null,
   "metadata": {},
   "outputs": [],
   "source": [
    "hp.mollview(df['mjd_mean_g'], rot=-85, title='MJD Mean g-band')"
   ]
  }
 ],
 "metadata": {
  "kernelspec": {
   "display_name": "DESI 21.3",
   "language": "python",
   "name": "desi-21.3"
  },
  "language_info": {
   "codemirror_mode": {
    "name": "ipython",
    "version": 3
   },
   "file_extension": ".py",
   "mimetype": "text/x-python",
   "name": "python",
   "nbconvert_exporter": "python",
   "pygments_lexer": "ipython3",
   "version": "3.8.3"
  }
 },
 "nbformat": 4,
 "nbformat_minor": 4
}
