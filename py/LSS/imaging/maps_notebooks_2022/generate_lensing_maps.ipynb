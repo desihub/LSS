{
 "cells": [
  {
   "cell_type": "markdown",
   "metadata": {},
   "source": [
    "# Lensing Kappa Maps"
   ]
  },
  {
   "cell_type": "markdown",
   "metadata": {},
   "source": [
    "NOTICE HARDWIRED LINE "
   ]
  },
  {
   "cell_type": "markdown",
   "metadata": {},
   "source": [
    "### Basics"
   ]
  },
  {
   "cell_type": "code",
   "execution_count": 1,
   "metadata": {
    "scrolled": true
   },
   "outputs": [],
   "source": [
    "import numpy as np\n",
    "import healpy as hp\n",
    "import requests\n",
    "import matplotlib as plt\n",
    "from temdriver import rotate_map\n",
    "import os"
   ]
  },
  {
   "cell_type": "code",
   "execution_count": 2,
   "metadata": {},
   "outputs": [],
   "source": [
    "pathinputs = '/global/u1/m/manera/myKP3/kp3sys-inputs/'\n",
    "pathout = '/global/u1/m/manera/myKP3/kp3sys-outputs/'\n",
    "#pathinputs = '/Users/manera/desi_kp3/kp3_external_inputs/'"
   ]
  },
  {
   "cell_type": "markdown",
   "metadata": {},
   "source": [
    "### Documentation"
   ]
  },
  {
   "cell_type": "code",
   "execution_count": 3,
   "metadata": {},
   "outputs": [],
   "source": [
    "# ------ From Planck ----- \n",
    "# wiki https://wiki.cosmos.esa.int/planck-legacy-archive/index.php/Lensing \n",
    "# data archive: http://pla.esac.esa.int/pla/#home \n",
    "# package COM_Lensing_4096_R3.00 (the archive-web shows how to wget download from it) \n",
    "# lensing file: http://pla.esac.esa.int/pla/aio/product-action?COSMOLOGY.COSMOLOGY_OID=131&COSMOLOGY.FILE_ID=MV.tgz \n",
    "# mask file: http://pla.esac.esa.int/pla/aio/product-action? COSMOLOGY.COSMOLOGY_OID=130&COSMOLOGY.FILE_ID=mask.fits.gz \n",
    "# Also might be useful:\n",
    "# Quijan maps https://gitlab.com/qianjunhang/desi-legacy-survey-superstructure-stacking/-/tree/master/data/Planck18\n",
    "# Downloading with python https://www.codementor.io/@aviaryan/downloading-files-from-urls-in-python-77q3bs0un"
   ]
  },
  {
   "cell_type": "markdown",
   "metadata": {},
   "source": [
    "### Download files"
   ]
  },
  {
   "cell_type": "code",
   "execution_count": 5,
   "metadata": {},
   "outputs": [
    {
     "name": "stdout",
     "output_type": "stream",
     "text": [
      "--2021-11-22 11:00:38--  http://pla.esac.esa.int/pla/aio/product-action?COSMOLOGY.COSMOLOGY_OID=131&COSMOLOGY.FILE_ID=MV.tgz\n",
      "Resolving pla.esac.esa.int (pla.esac.esa.int)... 193.147.153.153\n",
      "Connecting to pla.esac.esa.int (pla.esac.esa.int)|193.147.153.153|:80... connected.\n",
      "HTTP request sent, awaiting response... 200 \n",
      "Length: unspecified [application/x-binary]\n",
      "Saving to: ‘/global/u1/m/manera/myKP3/kp3sys-inputs/MV.tgz’\n",
      "\n",
      "/global/u1/m/manera     [   <=>              ] 306.66M  9.15MB/s    in 35s     \n",
      "\n",
      "2021-11-22 11:01:14 (8.72 MB/s) - ‘/global/u1/m/manera/myKP3/kp3sys-inputs/MV.tgz’ saved [321559428]\n",
      "\n",
      "--2021-11-22 11:01:14--  http://pla.esac.esa.int/pla/aio/product-action?COSMOLOGY.COSMOLOGY_OID=130&COSMOLOGY.FILE_ID=mask.fits.gz\n",
      "Resolving pla.esac.esa.int (pla.esac.esa.int)... 193.147.153.153\n",
      "Connecting to pla.esac.esa.int (pla.esac.esa.int)|193.147.153.153|:80... connected.\n",
      "HTTP request sent, awaiting response... 200 \n",
      "Length: unspecified [application/x-gzip]\n",
      "Saving to: ‘/global/u1/m/manera/myKP3/kp3sys-inputs/mask.fits.gz’\n",
      "\n",
      "/global/u1/m/manera     [   <=>              ] 423.74K   513KB/s    in 0.8s    \n",
      "\n",
      "2021-11-22 11:01:15 (513 KB/s) - ‘/global/u1/m/manera/myKP3/kp3sys-inputs/mask.fits.gz’ saved [433911]\n",
      "\n"
     ]
    }
   ],
   "source": [
    "#Obtain maps \n",
    "url_lensalms = \"http://pla.esac.esa.int/pla/aio/product-action?COSMOLOGY.COSMOLOGY_OID=131&COSMOLOGY.FILE_ID=MV.tgz\" \n",
    "url_maskmap = \"http://pla.esac.esa.int/pla/aio/product-action?COSMOLOGY.COSMOLOGY_OID=130&COSMOLOGY.FILE_ID=mask.fits.gz\"\n",
    "\n",
    "file_lensalms_tgz = \"MV.tgz\"\n",
    "file_lensalms = \"MV/dat_klm.fits\"\n",
    "file_mask = \"mask.fits.gz\" \n",
    "\n",
    "!wget -O {pathinputs+file_lensalms_tgz} \"{url_lensalms}\"\n",
    "#!tar -xvf {pathinputs+file_lensalms_tgz} -C {pathinputs} \"{file_lensalms}\"\n",
    "# HARDWIRED NEED TO UNTAR BY HAND!!! previous tar line did not work in nersc \n",
    "!wget -O {pathinputs+file_mask} \"{url_maskmap}\""
   ]
  },
  {
   "cell_type": "markdown",
   "metadata": {},
   "source": [
    "option used here"
   ]
  },
  {
   "cell_type": "code",
   "execution_count": 5,
   "metadata": {},
   "outputs": [],
   "source": []
  },
  {
   "cell_type": "markdown",
   "metadata": {},
   "source": [
    "another option"
   ]
  },
  {
   "cell_type": "code",
   "execution_count": 6,
   "metadata": {},
   "outputs": [],
   "source": [
    "dd"
   ]
  },
  {
   "cell_type": "markdown",
   "metadata": {},
   "source": [
    "note: to test map rotations one might use \n",
    "hp.projplot(theta,phi, 'bo') to plot a blue dot on coordinate (theta, phi)"
   ]
  },
  {
   "cell_type": "markdown",
   "metadata": {
    "tags": []
   },
   "source": [
    "### Function to create map from alms range "
   ]
  },
  {
   "cell_type": "code",
   "execution_count": 6,
   "metadata": {},
   "outputs": [],
   "source": [
    "def get_map_from_alms(alms,nside_map,nside_hires,ellmin,ellmax):\n",
    "    # create map fom healpy alms \n",
    "    # 1) transform alm to map, with nside_res, only with ell <= ellmax\n",
    "    # 2) if nside_map < nside_hires, degrades de map to nside_map \n",
    "    \n",
    "    r = []\n",
    "    for i in range(len(alms)):   \n",
    "        if i < ellmin: \n",
    "            r.append(0.0)\n",
    "        elif i > ellmax:        \n",
    "            r.append(0.0)\n",
    "        else:\n",
    "            r.append(1.0)\n",
    "    alm2=hp.almxfl(alms, r) #multiply kap_al by r \n",
    "    ptest = hp.alm2map(alm2,nside_hires)\n",
    "    if(nside_map < nside_hires): \n",
    "        ptest = hp.ud_grade(ptest,nside_map)\n",
    "    return ptest\n"
   ]
  },
  {
   "cell_type": "markdown",
   "metadata": {},
   "source": [
    "### Create Lensing kappa Map \n",
    "- read alms file\n",
    "- cut ells\n",
    "- convert to map nside=4096\n",
    "- rotate to equatorial\n",
    "- degrade to desired nside \n",
    "- mollview plot\n",
    "- save \n",
    "\n",
    "### Create Lensing mask Map \n",
    "- read map nside=2048\n",
    "- rotate equatorial\n",
    "- degrade \n",
    "- mollview plot\n",
    "- save \n"
   ]
  },
  {
   "cell_type": "markdown",
   "metadata": {},
   "source": [
    "create maps nside = 256"
   ]
  },
  {
   "cell_type": "code",
   "execution_count": null,
   "metadata": {},
   "outputs": [],
   "source": [
    "file_lensmap = 'lensmap_nside256.fits'\n",
    "file_lensmask = 'lensmask_nside256.fits'\n",
    "\n",
    "nside    = 256   # output resolution\n",
    "nside_hi = 2048   # high resolution  \n",
    "ellmin = 3        # remove monopole 0, dipole 1, quadrupole 2\n",
    "ellmax = 2048     # remove very small structure\n",
    "coordrot = coord = (['G','C']) \n",
    "\n",
    "# lensmap\n",
    "fileinput = pathinputs+file_lensalms\n",
    "alms = hp.read_alm(fileinput) \n",
    "lensmap = get_map_from_alms(alms,nside_hi,nside_hi,ellmin,ellmax)\n",
    "lensmap = rotate_map(lensmap,coordrot)\n",
    "lensmap = hp.ud_grade(lensmap,nside)\n",
    "\n",
    "filename = pathout + file_lensmap\n",
    "hp.mollview(lensmap,title='Lensing kappa',coord=[\"C\"])\n",
    "hp.write_map(filename, lensmap, nest=False) #function write empty healpix header \n",
    "\n",
    "\n",
    "# lensmask\n",
    "fileinput = pathinputs+file_mask\n",
    "lensmask = hp.read_map(fileinput)\n",
    "lensmask = rotate_map(lensmask,coordrot)\n",
    "lensmask = hp.ud_grade(lensmask,nside)\n",
    "\n",
    "filename = pathout + file_lensmask\n",
    "hp.mollview(lensmask,title='Lensing kappa',coord=[\"C\"])\n",
    "hp.write_map(filename, lensmask, nest=False) #function write empty healpix header \n"
   ]
  },
  {
   "cell_type": "markdown",
   "metadata": {},
   "source": [
    "create maps nside = 512"
   ]
  },
  {
   "cell_type": "code",
   "execution_count": null,
   "metadata": {},
   "outputs": [],
   "source": [
    "file_lensmap = 'lensmap_nside512.fits'\n",
    "file_lensmask = 'lensmask_nside512.fits'\n",
    "\n",
    "nside    = 512   # output resolution\n",
    "nside_hi = 2048   # high resolution  \n",
    "ellmin = 3        # remove monopole 0, dipole 1, quadrupole 2\n",
    "ellmax = 2048     # remove very small structure\n",
    "coordrot = coord = (['G','C']) \n",
    "\n",
    "# lensmap\n",
    "fileinput = pathinputs+file_lensalms\n",
    "alms = hp.read_alm(fileinput) \n",
    "lensmap = get_map_from_alms(alms,nside_hi,nside_hi,ellmin,ellmax)\n",
    "lensmap = rotate_map(lensmap,coordrot)\n",
    "lensmap = hp.ud_grade(lensmap,nside)\n",
    "\n",
    "filename = pathout + file_lensmap\n",
    "hp.mollview(lensmap,title='Lensing kappa',coord=[\"C\"])\n",
    "hp.write_map(filename, lensmap, nest=False) #function write empty healpix header \n",
    "\n",
    "\n",
    "# lensmask\n",
    "fileinput = pathinputs+file_mask\n",
    "lensmask = hp.read_map(fileinput)\n",
    "lensmask = rotate_map(lensmask,coordrot)\n",
    "lensmask = hp.ud_grade(lensmask,nside)\n",
    "\n",
    "filename = pathout + file_lensmask\n",
    "hp.mollview(lensmask,title='Lensing kappa',coord=[\"C\"])\n",
    "hp.write_map(filename, lensmask, nest=False) #function write empty healpix header \n"
   ]
  },
  {
   "cell_type": "markdown",
   "metadata": {},
   "source": [
    "### ----- ------ ------- ------- ------- -------"
   ]
  },
  {
   "cell_type": "code",
   "execution_count": 1,
   "metadata": {},
   "outputs": [],
   "source": [
    "## Extra, not-needed\n",
    "## If I wanted some maps from Quian Junhang\n",
    "#url = 'https://gitlab.com/qianjunhang/desi-legacy-survey-superstructure-stacking/-/raw/master/data/Planck18/planck2018-ellmax2048_lensmap_512_equatorial_alm.fits?inline=false'\n",
    "#pathsave='/global/u1/m/manera/myKP3/kp3sys-inputs/'\n",
    "#\n",
    "## the correct filename can't be get now with url.rspli\n",
    "#filename = 'planck2018-ellmax2048_lensmap_512_equatorial_alms.fits' \n",
    "#print (filename)\n",
    "#\n",
    "#r = requests.get(url, allow_redirects=True)\n",
    "#open(pathsave+filename, 'wb').write(r.content)\n"
   ]
  },
  {
   "cell_type": "code",
   "execution_count": null,
   "metadata": {},
   "outputs": [],
   "source": []
  }
 ],
 "metadata": {
  "kernelspec": {
   "display_name": "DESI 21.3",
   "language": "python",
   "name": "desi-21.3"
  },
  "language_info": {
   "codemirror_mode": {
    "name": "ipython",
    "version": 3
   },
   "file_extension": ".py",
   "mimetype": "text/x-python",
   "name": "python",
   "nbconvert_exporter": "python",
   "pygments_lexer": "ipython3",
   "version": "3.8.3"
  }
 },
 "nbformat": 4,
 "nbformat_minor": 4
}
